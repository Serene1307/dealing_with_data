{
 "cells": [
  {
   "cell_type": "code",
   "execution_count": null,
   "metadata": {
    "collapsed": false
   },
   "outputs": [],
   "source": [
    "# Data set: New York City Leading Causes of Death\n",
    "# https://data.cityofnewyork.us/Health/New-York-City-Leading-Causes-of-Death/jb7j-dtam\n",
    "\n",
    "%matplotlib inline\n",
    "import requests\n",
    "import json\n",
    "import pandas as pd\n",
    "import numpy as np\n",
    "  "
   ]
  },
  {
   "cell_type": "code",
   "execution_count": null,
   "metadata": {
    "collapsed": true
   },
   "outputs": [],
   "source": [
    "url = 'http://data.cityofnewyork.us/api/views/jb7j-dtam/rows.json'\n",
    "resp = requests.get(url)\n",
    "\n",
    "results = json.loads(resp.text) "
   ]
  },
  {
   "cell_type": "code",
   "execution_count": null,
   "metadata": {
    "collapsed": false
   },
   "outputs": [],
   "source": [
    "# This part of the results contains the data\n",
    "data = results[\"data\"]\n",
    "\n",
    "# Let's create a pandas dataframe\n",
    "df = pd.DataFrame(data)\n",
    "df"
   ]
  },
  {
   "cell_type": "code",
   "execution_count": null,
   "metadata": {
    "collapsed": false
   },
   "outputs": [],
   "source": [
    "# Kind of ugly without column names...\n",
    "\n",
    "# This part of the results contains the description and names for the columns\n",
    "columns = results[\"meta\"][\"view\"][\"columns\"]\n",
    "\n",
    "# We will create a list of the column names, to reuse it when creating our dataframe\n",
    "headers = []\n",
    "for c in columns:\n",
    "    headers.append(c[\"fieldName\"])\n",
    "\n",
    "# Now we also pass a list of column names\n",
    "df = pd.DataFrame(data, columns=headers)\n",
    "df"
   ]
  },
  {
   "cell_type": "code",
   "execution_count": null,
   "metadata": {
    "collapsed": false
   },
   "outputs": [],
   "source": [
    "# We do not need all these columns. Let's drop a few that we will definitely not use\n",
    "#\n",
    "# The \"axis=1\" says that we are looking to drop columns\n",
    "# FYI, If we had \"axis=0\" we would be dropping rows with the passed id's\n",
    "#\n",
    "# The \"inplace=True\" specifies that we will not be creating a new dataframe, but we just replace the current one,\n",
    "# with the new dataframe that has fewer columns.\n",
    "#\n",
    "df.drop(labels = [':sid', ':position', ':meta', ':created_meta', ':updated_meta'], axis=1, inplace=True)\n",
    "df"
   ]
  },
  {
   "cell_type": "code",
   "execution_count": null,
   "metadata": {
    "collapsed": false
   },
   "outputs": [],
   "source": [
    "# We do not like come of these column names. Let's rename them\n",
    "\n",
    "# We will use a dictionary, for specifying the existing and the new names for the columns\n",
    "renaming_dict = {\n",
    "    ':id': 'key', \n",
    "    ':created_at': 'created_at', \n",
    "    ':updated_at': 'updated_at'\n",
    "}\n",
    "\n",
    "df.rename(columns=renaming_dict, inplace=True)\n",
    "df"
   ]
  },
  {
   "cell_type": "code",
   "execution_count": null,
   "metadata": {
    "collapsed": false
   },
   "outputs": [],
   "source": [
    "# We can specify that the \"key\" column is the primary key for the table\n",
    "df.set_index(keys=\"key\", inplace=True)\n",
    "df"
   ]
  },
  {
   "cell_type": "code",
   "execution_count": null,
   "metadata": {
    "collapsed": false
   },
   "outputs": [],
   "source": [
    "df.dtypes"
   ]
  },
  {
   "cell_type": "code",
   "execution_count": null,
   "metadata": {
    "collapsed": false
   },
   "outputs": [],
   "source": [
    "# Let's convert to the right data types the year,count,percent\n",
    "df[\"year\"] = pd.to_numeric(df[\"year\"])\n",
    "df[\"count\"] = pd.to_numeric(df[\"count\"])\n",
    "df[\"percent\"] = pd.to_numeric(df[\"percent\"])\n",
    "df.dtypes"
   ]
  },
  {
   "cell_type": "code",
   "execution_count": null,
   "metadata": {
    "collapsed": false
   },
   "outputs": [],
   "source": [
    "# And we will also convert the timestamps to dates\n",
    "\n",
    "# Equivalent to \n",
    "# import datetime\n",
    "# df[\"created_at\"] = map(datetime.datetime.utcfromtimestamp, df[\"created_at\"])\n",
    "\n",
    "df[\"created_at\"] = pd.to_datetime(df[\"created_at\"], unit='s')\n",
    "df[\"updated_at\"] = pd.to_datetime(df[\"updated_at\"], unit='s')\n",
    "df.dtypes\n"
   ]
  },
  {
   "cell_type": "code",
   "execution_count": null,
   "metadata": {
    "collapsed": false
   },
   "outputs": [],
   "source": [
    "\n",
    "df[\"sex\"] = pd.Categorical(df[\"sex\"])\n",
    "df[\"ethnicity\"] = pd.Categorical(df[\"ethnicity\"])\n",
    "df[\"cause_of_death\"] = pd.Categorical(df[\"cause_of_death\"])\n",
    "df.dtypes"
   ]
  },
  {
   "cell_type": "code",
   "execution_count": null,
   "metadata": {
    "collapsed": false
   },
   "outputs": [],
   "source": [
    "df"
   ]
  },
  {
   "cell_type": "code",
   "execution_count": null,
   "metadata": {
    "collapsed": false
   },
   "outputs": [],
   "source": [
    "df[\"ethnicity\"].value_counts()"
   ]
  },
  {
   "cell_type": "code",
   "execution_count": null,
   "metadata": {
    "collapsed": false
   },
   "outputs": [],
   "source": [
    "df[\"cause_of_death\"].value_counts()"
   ]
  },
  {
   "cell_type": "code",
   "execution_count": null,
   "metadata": {
    "collapsed": false
   },
   "outputs": [],
   "source": [
    "df[\"sex\"].value_counts()"
   ]
  },
  {
   "cell_type": "code",
   "execution_count": null,
   "metadata": {
    "collapsed": false
   },
   "outputs": [],
   "source": [
    "# Let's create a pivot table now\n",
    "import numpy as np\n",
    "pivot = pd.pivot_table(df, values='count', index=['cause_of_death'], columns=['sex', 'ethnicity'], aggfunc=np.sum)\n",
    "pivot"
   ]
  },
  {
   "cell_type": "code",
   "execution_count": null,
   "metadata": {
    "collapsed": false
   },
   "outputs": [],
   "source": [
    "# And we can easily transpose the dataframe\n",
    "pivot.transpose()"
   ]
  },
  {
   "cell_type": "code",
   "execution_count": null,
   "metadata": {
    "collapsed": true
   },
   "outputs": [],
   "source": [
    "# And we can of course, plot:\n",
    "pivot.transpose()[\"DISEASES OF HEART\"].plot.bar()"
   ]
  },
  {
   "cell_type": "code",
   "execution_count": null,
   "metadata": {
    "collapsed": true
   },
   "outputs": [],
   "source": []
  }
 ],
 "metadata": {
  "kernelspec": {
   "display_name": "Python 2",
   "language": "python",
   "name": "python2"
  },
  "language_info": {
   "codemirror_mode": {
    "name": "ipython",
    "version": 2
   },
   "file_extension": ".py",
   "mimetype": "text/x-python",
   "name": "python",
   "nbconvert_exporter": "python",
   "pygments_lexer": "ipython2",
   "version": "2.7.6"
  }
 },
 "nbformat": 4,
 "nbformat_minor": 0
}
