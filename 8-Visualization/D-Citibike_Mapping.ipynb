{
 "cells": [
  {
   "cell_type": "markdown",
   "metadata": {},
   "source": [
    "Let's get the data from the Citibike API"
   ]
  },
  {
   "cell_type": "code",
   "execution_count": null,
   "metadata": {
    "collapsed": false
   },
   "outputs": [],
   "source": [
    "import requests\n",
    "url = 'http://www.citibikenyc.com/stations/json'\n",
    "data = requests.get(url).json()[\"stationBeanList\"]"
   ]
  },
  {
   "cell_type": "markdown",
   "metadata": {},
   "source": [
    "And for convenience we put the data in a dataframe:"
   ]
  },
  {
   "cell_type": "code",
   "execution_count": null,
   "metadata": {
    "collapsed": false
   },
   "outputs": [],
   "source": [
    "import pandas\n",
    "df = pandas.DataFrame(data)\n",
    "df"
   ]
  },
  {
   "cell_type": "markdown",
   "metadata": {},
   "source": [
    "We setup for plotting within the notebook"
   ]
  },
  {
   "cell_type": "code",
   "execution_count": null,
   "metadata": {
    "collapsed": false
   },
   "outputs": [],
   "source": [
    "%matplotlib inline\n",
    "import matplotlib as plt\n",
    "import seaborn as sns\n",
    "\n",
    "# This defines the size of the image below\n",
    "plt.rcParams['figure.figsize'] = (6, 4)"
   ]
  },
  {
   "cell_type": "markdown",
   "metadata": {},
   "source": [
    "Let's create first a histogram of available bikes across the stations"
   ]
  },
  {
   "cell_type": "code",
   "execution_count": null,
   "metadata": {
    "collapsed": false
   },
   "outputs": [],
   "source": [
    "df[\"availableBikes\"].hist(bins=20)"
   ]
  },
  {
   "cell_type": "markdown",
   "metadata": {},
   "source": [
    "And now let's plot the same, but let's normalize by the size of each station. We will also add a little bit of transparency in the plot using the `alpha` parameter. (Try setting it using different values from 0 to 1.)"
   ]
  },
  {
   "cell_type": "code",
   "execution_count": null,
   "metadata": {
    "collapsed": false
   },
   "outputs": [],
   "source": [
    "(df[\"availableBikes\"]/df['totalDocks']).hist(alpha=0.5)\n",
    "#df[\"totalDocks\"].hist(alpha=0.5)"
   ]
  },
  {
   "cell_type": "markdown",
   "metadata": {},
   "source": [
    "And now let's do a plot of available bikes vs total docs in a station:"
   ]
  },
  {
   "cell_type": "code",
   "execution_count": null,
   "metadata": {
    "collapsed": false
   },
   "outputs": [],
   "source": [
    "df.plot(kind='scatter', x=\"totalDocks\", y=\"availableBikes\", alpha=0.5)"
   ]
  },
  {
   "cell_type": "markdown",
   "metadata": {},
   "source": [
    "#### Poor man's mapping\n",
    "\n",
    "We will now do a small attempt at using a scatterplot, together with the longitude and latitude coordinates to plot things in a map."
   ]
  },
  {
   "cell_type": "code",
   "execution_count": null,
   "metadata": {
    "collapsed": false
   },
   "outputs": [],
   "source": [
    "# Let's do a first plot. Put the stations on a scatterplot based on\n",
    "# their longitude and latitude. \n",
    "plt.rcParams['figure.figsize'] = (6, 6) # reset the plot to be a square\n",
    "df.plot(kind='scatter', x='longitude', y='latitude')"
   ]
  },
  {
   "cell_type": "code",
   "execution_count": null,
   "metadata": {
    "collapsed": false
   },
   "outputs": [],
   "source": [
    "# Lets plot the stations that are out of service in red\n",
    "inservice = (df[\"statusValue\"] == 'In Service')\n",
    "outofservice = (df[\"statusValue\"] == 'Not In Service')\n",
    "\n",
    "df[inservice].plot(kind='scatter', \n",
    "                   x='longitude', \n",
    "                   y='latitude', \n",
    "                   color='DarkBlue', \n",
    "                   label='In Service')\n",
    "\n",
    "df[outofservice].plot(kind='scatter', \n",
    "                      x='longitude', \n",
    "                      y='latitude', \n",
    "                      color='Red', \n",
    "                      label = 'Out of Service')"
   ]
  },
  {
   "cell_type": "code",
   "execution_count": null,
   "metadata": {
    "collapsed": false
   },
   "outputs": [],
   "source": [
    "# I do not like having to separate plots for that. There should be a way to merge the two plots\n",
    "# After checking the online documentation, it seem that we will use the \"ax\" convention\n",
    "inservice = (df[\"statusValue\"] == 'In Service')\n",
    "outofservice = (df[\"statusValue\"] == 'Not In Service')\n",
    "\n",
    "firstplot = df[inservice].plot(kind='scatter', \n",
    "                               x='longitude', \n",
    "                               y='latitude', \n",
    "                               color='DarkBlue', \n",
    "                               label='In Service')\n",
    "\n",
    "secondplot = df[outofservice].plot(kind='scatter', \n",
    "                      x='longitude', \n",
    "                      y='latitude', \n",
    "                      color='Red', \n",
    "                      label = 'Out of Service', \n",
    "                      ax = firstplot)\n"
   ]
  },
  {
   "cell_type": "code",
   "execution_count": null,
   "metadata": {
    "collapsed": false
   },
   "outputs": [],
   "source": [
    "# And now make the size of each point proportional to the size of available bikes\n",
    "# using the s option in the plot\n",
    "inservice = (df[\"statusValue\"] == 'In Service')\n",
    "outofservice = (df[\"statusValue\"] == 'Not In Service')\n",
    "\n",
    "# We also add the \"alpha=0.5\" to add transparency\n",
    "firstplot = df[inservice].plot(kind='scatter', \n",
    "                               x='longitude', \n",
    "                               y='latitude', \n",
    "                               color='DarkBlue', \n",
    "                               alpha=0.5, \n",
    "                               label='In Service', \n",
    "                               s=50*(df['availableBikes']/df['totalDocks']))\n",
    "\n",
    "secondplot = df[outofservice].plot(kind='scatter', \n",
    "                                   x='longitude', \n",
    "                                   y='latitude', \n",
    "                                   color='Red', \n",
    "                                   ax = firstplot, \n",
    "                                   s = 10, alpha = 0.5,\n",
    "                                   label = 'Out of Service')\n"
   ]
  }
 ],
 "metadata": {
  "kernelspec": {
   "display_name": "Python 3",
   "language": "python",
   "name": "python3"
  },
  "language_info": {
   "codemirror_mode": {
    "name": "ipython",
    "version": 3
   },
   "file_extension": ".py",
   "mimetype": "text/x-python",
   "name": "python",
   "nbconvert_exporter": "python",
   "pygments_lexer": "ipython3",
   "version": "3.5.2"
  }
 },
 "nbformat": 4,
 "nbformat_minor": 0
}
