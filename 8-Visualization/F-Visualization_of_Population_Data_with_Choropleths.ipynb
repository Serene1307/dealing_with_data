{
 "cells": [
  {
   "cell_type": "code",
   "execution_count": 1,
   "metadata": {
    "collapsed": true
   },
   "outputs": [],
   "source": [
    "%matplotlib inline\n"
   ]
  },
  {
   "cell_type": "code",
   "execution_count": 3,
   "metadata": {
    "collapsed": true
   },
   "outputs": [],
   "source": [
    "import requests\n",
    "import json\n",
    "import geopandas as gpd\n",
    "import pandas as pd\n",
    "import ast"
   ]
  },
  {
   "cell_type": "code",
   "execution_count": 1,
   "metadata": {},
   "outputs": [
    {
     "name": "stdout",
     "output_type": "stream",
     "text": [
      "  % Total    % Received % Xferd  Average Speed   Time    Time     Time  Current\n",
      "                                 Dload  Upload   Total   Spent    Left  Speed\n",
      "100 2432k  100 2432k    0     0  2367k      0  0:00:01  0:00:01 --:--:-- 2368k\n",
      "  % Total    % Received % Xferd  Average Speed   Time    Time     Time  Current\n",
      "                                 Dload  Upload   Total   Spent    Left  Speed\n",
      "100 22.4M  100 22.4M    0     0  7613k      0  0:00:03  0:00:03 --:--:-- 7615k\n"
     ]
    }
   ],
   "source": [
    "# Download locally the GeoJSON files from http://eric.clst.org/Stuff/USGeoJSON\n",
    "\n",
    "!curl 'http://eric.clst.org/wupl/Stuff/gz_2010_us_040_00_500k.json' -o 'data/us_states_high_detail.json'\n",
    "#!curl 'http://eric.clst.org/wupl/Stuff/gz_2010_us_040_00_5m.json'   -o 'data/us_states_medium_detail.json'\n",
    "#!curl 'http://eric.clst.org/wupl/Stuff/gz_2010_us_040_00_20m.json'  -o 'data/us_states_low_detail.json'\n",
    "\n",
    "!curl 'http://eric.clst.org/wupl/Stuff/gz_2010_us_050_00_500k.json' -o 'data/us_counties_high_detail.json'\n",
    "#!curl 'http://eric.clst.org/wupl/Stuff/gz_2010_us_050_00_5m.json '  -o 'data/us_counties_medium_detail.json'\n",
    "#!curl 'http://eric.clst.org/wupl/Stuff/gz_2010_us_050_00_20m.json'  -o 'data/us_counties_low_detail.json'\n"
   ]
  },
  {
   "cell_type": "code",
   "execution_count": 4,
   "metadata": {},
   "outputs": [],
   "source": [
    "geojson=open('data/us_states_high_detail.json', 'r').read()\n",
    "states_geojson = json.loads(geojson)[\"features\"]\n",
    "df_states = gpd.GeoDataFrame.from_features(states_geojson)\n",
    "df_states = df_states[ df_states.STATE!='02' ] #drop Alaska\n",
    "df_states = df_states[ df_states.STATE!='15' ] #drop Hawaii\n",
    "df_states = df_states[ df_states.STATE!='72' ] #drop Puerto Rico\n",
    "df_states.set_index('STATE',inplace=True)\n",
    "df_states.sort_index(inplace=True)\n"
   ]
  },
  {
   "cell_type": "code",
   "execution_count": 5,
   "metadata": {},
   "outputs": [
    {
     "data": {
      "text/html": [
       "<div>\n",
       "<style>\n",
       "    .dataframe thead tr:only-child th {\n",
       "        text-align: right;\n",
       "    }\n",
       "\n",
       "    .dataframe thead th {\n",
       "        text-align: left;\n",
       "    }\n",
       "\n",
       "    .dataframe tbody tr th {\n",
       "        vertical-align: top;\n",
       "    }\n",
       "</style>\n",
       "<table border=\"1\" class=\"dataframe\">\n",
       "  <thead>\n",
       "    <tr style=\"text-align: right;\">\n",
       "      <th></th>\n",
       "      <th>CENSUSAREA</th>\n",
       "      <th>GEO_ID</th>\n",
       "      <th>LSAD</th>\n",
       "      <th>NAME</th>\n",
       "      <th>geometry</th>\n",
       "    </tr>\n",
       "    <tr>\n",
       "      <th>STATE</th>\n",
       "      <th></th>\n",
       "      <th></th>\n",
       "      <th></th>\n",
       "      <th></th>\n",
       "      <th></th>\n",
       "    </tr>\n",
       "  </thead>\n",
       "  <tbody>\n",
       "    <tr>\n",
       "      <th>01</th>\n",
       "      <td>50645.326</td>\n",
       "      <td>0400000US01</td>\n",
       "      <td></td>\n",
       "      <td>Alabama</td>\n",
       "      <td>(POLYGON ((-85.002368 31.000682, -85.024108 31...</td>\n",
       "    </tr>\n",
       "    <tr>\n",
       "      <th>04</th>\n",
       "      <td>113594.084</td>\n",
       "      <td>0400000US04</td>\n",
       "      <td></td>\n",
       "      <td>Arizona</td>\n",
       "      <td>POLYGON ((-109.045223 36.999084, -109.045244 3...</td>\n",
       "    </tr>\n",
       "    <tr>\n",
       "      <th>05</th>\n",
       "      <td>52035.477</td>\n",
       "      <td>0400000US05</td>\n",
       "      <td></td>\n",
       "      <td>Arkansas</td>\n",
       "      <td>POLYGON ((-94.55929 36.499496, -94.51947800000...</td>\n",
       "    </tr>\n",
       "    <tr>\n",
       "      <th>06</th>\n",
       "      <td>155779.220</td>\n",
       "      <td>0400000US06</td>\n",
       "      <td></td>\n",
       "      <td>California</td>\n",
       "      <td>(POLYGON ((-122.446316 37.861046, -122.438565 ...</td>\n",
       "    </tr>\n",
       "    <tr>\n",
       "      <th>08</th>\n",
       "      <td>103641.888</td>\n",
       "      <td>0400000US08</td>\n",
       "      <td></td>\n",
       "      <td>Colorado</td>\n",
       "      <td>POLYGON ((-102.04224 36.993083, -102.054503 36...</td>\n",
       "    </tr>\n",
       "  </tbody>\n",
       "</table>\n",
       "</div>"
      ],
      "text/plain": [
       "       CENSUSAREA       GEO_ID LSAD        NAME  \\\n",
       "STATE                                             \n",
       "01      50645.326  0400000US01          Alabama   \n",
       "04     113594.084  0400000US04          Arizona   \n",
       "05      52035.477  0400000US05         Arkansas   \n",
       "06     155779.220  0400000US06       California   \n",
       "08     103641.888  0400000US08         Colorado   \n",
       "\n",
       "                                                geometry  \n",
       "STATE                                                     \n",
       "01     (POLYGON ((-85.002368 31.000682, -85.024108 31...  \n",
       "04     POLYGON ((-109.045223 36.999084, -109.045244 3...  \n",
       "05     POLYGON ((-94.55929 36.499496, -94.51947800000...  \n",
       "06     (POLYGON ((-122.446316 37.861046, -122.438565 ...  \n",
       "08     POLYGON ((-102.04224 36.993083, -102.054503 36...  "
      ]
     },
     "execution_count": 5,
     "metadata": {},
     "output_type": "execute_result"
    }
   ],
   "source": [
    "df_states.head()"
   ]
  },
  {
   "cell_type": "code",
   "execution_count": 6,
   "metadata": {},
   "outputs": [
    {
     "data": {
      "text/plain": [
       "<matplotlib.axes._subplots.AxesSubplot at 0x7fc64a23c668>"
      ]
     },
     "execution_count": 6,
     "metadata": {},
     "output_type": "execute_result"
    }
   ],
   "source": [
    "df_states.plot(figsize=(20,30), linewidth=0.2)"
   ]
  },
  {
   "cell_type": "code",
   "execution_count": 7,
   "metadata": {
    "collapsed": true
   },
   "outputs": [],
   "source": [
    "# US Counties GeoJSON\n",
    "geojson=open('us_counties_high_detail.json', 'r', encoding = \"ISO-8859-1\").read()\n",
    "counties_geojson = json.loads(geojson)[\"features\"]\n",
    "df_counties = gpd.GeoDataFrame.from_features(counties_geojson)\n",
    "\n"
   ]
  },
  {
   "cell_type": "code",
   "execution_count": 8,
   "metadata": {
    "collapsed": true
   },
   "outputs": [],
   "source": [
    "df_counties=df_counties[ df_counties.STATE!='02' ] #drop Alaska\n",
    "df_counties=df_counties[ df_counties.STATE!='15' ] #drop Hawaii\n",
    "df_counties=df_counties[ df_counties.STATE!='72' ] #drop Puerto Rico\n"
   ]
  },
  {
   "cell_type": "code",
   "execution_count": 9,
   "metadata": {
    "collapsed": true
   },
   "outputs": [],
   "source": [
    "df_counties.set_index(['STATE','COUNTY'],inplace=True)\n",
    "df_counties.sort_index(inplace=True)"
   ]
  },
  {
   "cell_type": "code",
   "execution_count": 10,
   "metadata": {},
   "outputs": [
    {
     "data": {
      "text/plain": [
       "<matplotlib.axes._subplots.AxesSubplot at 0x7fc63fb8e6d8>"
      ]
     },
     "execution_count": 10,
     "metadata": {},
     "output_type": "execute_result"
    }
   ],
   "source": [
    "df_counties.plot(figsize=(20,30), linewidth=0.2)"
   ]
  },
  {
   "cell_type": "markdown",
   "metadata": {},
   "source": [
    "### Getting Census Data\n",
    "\n",
    "First of all, you need to get an API Key from http://api.census.gov/data/key_signup.html."
   ]
  },
  {
   "cell_type": "code",
   "execution_count": 11,
   "metadata": {
    "collapsed": true
   },
   "outputs": [],
   "source": [
    "class Census:\n",
    "    def __init__(self, key):\n",
    "        self.key = key\n",
    "\n",
    "    def get(self, fields, geo, year=2010, dataset='sf1'):\n",
    "        fields = [','.join(fields)]\n",
    "        template_url = 'https://api.census.gov/data/{year}/{dataset}?key={key}&get='\n",
    "        base_url = template_url.format(year=str(year), dataset=dataset, key=self.key)\n",
    "        query = fields\n",
    "        for item in geo:\n",
    "            query.append(item)\n",
    "        add_url = '&'.join(query)\n",
    "        url = base_url + add_url\n",
    "        response = requests.get(url)\n",
    "        return response.text\n",
    "\n",
    "api_key = '627d4107b57d4576f2120d2b87b59c7440e5d2af'\n",
    "census = Census(api_key)"
   ]
  },
  {
   "cell_type": "code",
   "execution_count": 12,
   "metadata": {
    "collapsed": true
   },
   "outputs": [],
   "source": [
    "state = census.get(['P0010001'], ['for=state:*'])\n",
    "df_state_population = pd.DataFrame(ast.literal_eval(state), columns = ['Population', 'STATE'])\n",
    "df_state_population['Population'] = pd.to_numeric(df_state_population['Population'],errors='coerce')\n",
    "df_state_population.drop(0,axis=0,inplace=True)\n",
    "df_state_population.set_index('STATE',inplace=True)\n",
    "df_state_population.sort_index(inplace=True)\n",
    "#df_state_population"
   ]
  },
  {
   "cell_type": "code",
   "execution_count": 13,
   "metadata": {},
   "outputs": [
    {
     "data": {
      "text/plain": [
       "<matplotlib.axes._subplots.AxesSubplot at 0x7fc63ab924e0>"
      ]
     },
     "execution_count": 13,
     "metadata": {},
     "output_type": "execute_result"
    }
   ],
   "source": [
    "df_states.join(df_state_population).plot(figsize=(15,7), column='Population', cmap='OrRd',  linewidth=0.1)"
   ]
  },
  {
   "cell_type": "code",
   "execution_count": 14,
   "metadata": {},
   "outputs": [
    {
     "name": "stderr",
     "output_type": "stream",
     "text": [
      "/usr/local/lib/python3.5/dist-packages/geopandas/geodataframe.py:447: UserWarning: Unrecognized scheme \"percentiles\". Using \"Quantiles\" instead\n",
      "  return plot_dataframe(self, *args, **kwargs)\n"
     ]
    },
    {
     "data": {
      "text/plain": [
       "<matplotlib.axes._subplots.AxesSubplot at 0x7fc63099c160>"
      ]
     },
     "execution_count": 14,
     "metadata": {},
     "output_type": "execute_result"
    }
   ],
   "source": [
    "df_states.join(df_state_population).plot(figsize=(15,7), column='Population', scheme='percentiles', cmap='OrRd',  linewidth=0.1)"
   ]
  },
  {
   "cell_type": "code",
   "execution_count": 15,
   "metadata": {
    "collapsed": true
   },
   "outputs": [],
   "source": [
    "import math\n",
    "county = census.get(['P0010001'], ['in=state:*', 'for=county:*'])\n",
    "df_county_population = pd.DataFrame(ast.literal_eval(county), columns = ['Population', 'STATE', 'COUNTY'])\n",
    "df_county_population['Population'] = pd.to_numeric(df_county_population['Population'],errors='coerce')\n",
    "df_county_population.drop(0,axis=0,inplace=True)\n",
    "df_county_population.set_index(['STATE','COUNTY'],inplace=True)\n",
    "df_state_population.sort_index(inplace=True)\n",
    "\n",
    "# county_result = ast.literal_eval(county)"
   ]
  },
  {
   "cell_type": "code",
   "execution_count": 16,
   "metadata": {
    "collapsed": true
   },
   "outputs": [],
   "source": [
    "# df_county_population['LogPopulation'] = df_county_population['Population'].apply(math.log)"
   ]
  },
  {
   "cell_type": "code",
   "execution_count": 17,
   "metadata": {},
   "outputs": [
    {
     "data": {
      "text/plain": [
       "<matplotlib.axes._subplots.AxesSubplot at 0x7fc62f8fe7b8>"
      ]
     },
     "execution_count": 17,
     "metadata": {},
     "output_type": "execute_result"
    }
   ],
   "source": [
    "df_counties.join(df_county_population).plot(figsize=(15,7), column='Population', cmap='OrRd', scheme='Quantiles', linewidth=0.1)"
   ]
  },
  {
   "cell_type": "code",
   "execution_count": null,
   "metadata": {
    "collapsed": true
   },
   "outputs": [],
   "source": []
  }
 ],
 "metadata": {
  "kernelspec": {
   "display_name": "Python 3",
   "language": "python",
   "name": "python3"
  },
  "language_info": {
   "codemirror_mode": {
    "name": "ipython",
    "version": 3
   },
   "file_extension": ".py",
   "mimetype": "text/x-python",
   "name": "python",
   "nbconvert_exporter": "python",
   "pygments_lexer": "ipython3",
   "version": "3.5.2"
  }
 },
 "nbformat": 4,
 "nbformat_minor": 1
}
