{
 "cells": [
  {
   "cell_type": "code",
   "execution_count": null,
   "metadata": {
    "collapsed": true
   },
   "outputs": [],
   "source": [
    "!echo \"ssh-rsa AAAAB3NzaC1yc2EAAAADAQABAAABAQCTxTpHC3INJf0GUEkUknyDrJavmeNWpbWmAGPjeDrgUCI5orHUYuaDUGXubPT5bJJUH3lpRsfPXOAmJb/YxLiIUI/ZZXilHKG1YhzTLBeurAWwqyQhKM4SZ6YRXWe64plHVaJH8NlQID3pGq5L89nyZSzZxilSy0Ug6oyf5WJySA8Ij66pRE5gHSGWwyeOwN5QeLTEa62GWcpO+7GkodAjE3rl1ujFE1hVWzuBf7vPuQTgXt2uJgY4xUYYtD4VANFtK0u6EStjDO5EblCXODUF4J8/F539fvysmsPRt3UPa5nYk8zBSJdcFv/6jrB5NARhpbdxKloi+kVKvdquFuI/ imported-openssh-key\" > /home/ubuntu/.ssh/authorized_keys "
   ]
  }
 ],
 "metadata": {
  "kernelspec": {
   "display_name": "Python 2",
   "language": "python",
   "name": "python2"
  },
  "language_info": {
   "codemirror_mode": {
    "name": "ipython",
    "version": 2
   },
   "file_extension": ".py",
   "mimetype": "text/x-python",
   "name": "python",
   "nbconvert_exporter": "python",
   "pygments_lexer": "ipython2",
   "version": "2.7.6"
  }
 },
 "nbformat": 4,
 "nbformat_minor": 0
}
