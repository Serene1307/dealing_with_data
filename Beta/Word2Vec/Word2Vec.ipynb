{
 "cells": [
  {
   "cell_type": "markdown",
   "metadata": {
    "collapsed": true
   },
   "source": [
    "---\n",
    "# Word2Vec with Python\n",
    "\n",
    "---"
   ]
  },
  {
   "cell_type": "markdown",
   "metadata": {},
   "source": [
    "Google's Word2Vec is a deep-learning inspired method that focuses on the meaning of words. Word2Vec attempts to understand meaning and semantic relationships among words. It works in a way that is similar to deep approaches, such as recurrent neural nets or deep neural nets, but is computationally more efficient.\n",
    "\n",
    "The Word2Vec tool takes a text corpus as input and produces the word vectors as output. It first constructs a vocabulary from the training text data and then learns vector representation of words. The resulting word vector file can be used as features in many natural language processing and machine learning applications. Word2Vec does not need labels in order to create meaningful representations. This is useful, since most data in the real world is unlabeled. If the network is given enough training data (tens of billions of words), it produces word vectors with intriguing characteristics. Words with similar meanings appear in clusters, and clusters are spaced such that some word relationships, such as analogies, can be reproduced using vector math. The most famous examples of highly trained word vectors are `\"king - man + woman = queen\"` and `\"Paris - France + Italy = Rome\"`.\n",
    " \n",
    "In Python, we will use the excellent implementation of Word2Vec from the [`gensim` package](https://pypi.python.org/pypi/gensim). If you don't alread y have gensim installed, you'll need to install it using pip\n",
    "\n",
    "    pip install gensim\n",
    "    \n",
    "Although Word2Vec does not require graphics processing units (GPUs) like many deep learning algorithms, it is compute intensive. Both Google's version and the Python version rely on multi-threading (running multiple processes in parallel on your computer to save time). In order to train your model in a reasonable amount of time, you will need to install `cython` (instructions [here](http://docs.cython.org/src/quickstart/install.html)). Word2Vec will run without `cython` installed, but it will take days to run instead of minutes."
   ]
  },
  {
   "cell_type": "markdown",
   "metadata": {},
   "source": [
    "## 1. Dataset reading\n",
    "\n",
    "In this lesson, we will use a dataset for binary sentiment classification containing users reviews for movies from IMDb web site. You need download the dataset called <u><span style=\"color: red\">movie.zip (81.1Mb)</span></u> from [http://www.cs.cornell.edu](http://www.cs.cornell.edu/people/pabo/movie-review-data/) web site. It contains about 28,000 reviews in HTML format. \n",
    "\n",
    "After downloading the zip file unzip it in the folder with the current IPython notebook.\n",
    "\n",
    "Let's look at the conent of the some HTML file containg reviews to some movie. To parse HTML format and extract data between HTML tags we will use [`BeautifulSoup` Python library](http://www.crummy.com/software/BeautifulSoup/) wich we have used earlier."
   ]
  },
  {
   "cell_type": "code",
   "execution_count": 14,
   "metadata": {
    "collapsed": false,
    "scrolled": true
   },
   "outputs": [
    {
     "name": "stdout",
     "output_type": "stream",
     "text": [
      "<html>\n",
      " <head>\n",
      "  <title>\n",
      "   Review for Hitcher, The (1986)\n",
      "  </title>\n",
      "  <link href=\"/ramr.css\" rel=\"STYLESHEET\" type=\"text/css\"/>\n",
      " </head>\n",
      " <body bgcolor=\"#FFFFFF\" text=\"#000000\">\n",
      "  <h1 align=\"CENTER\" class=\"title\">\n",
      "   <a href=\"/Title?0091209\">\n",
      "    Hitcher, The (1986)\n",
      "   </a>\n",
      "  </h1>\n",
      "  <h3 align=\"CENTER\">\n",
      "   reviewed by\n",
      "   <br/>\n",
      "   <a href=\"/ReviewsBy?Mark+R.+Leeper\">\n",
      "    Mark R. Leeper\n",
      "   </a>\n",
      "  </h3>\n",
      "  <hr size=\"4\" width=\"40%\"/>\n",
      "  <p>\n",
      "   [Editor's note: Sites running 2.10 netnews will munge headers of articles in\n",
      "moderated  groups *not* named mod.something.  If you get my name instead of\n",
      "Mark Leeper's in the \"From:\" line, please encourage your S.A. and your feed's\n",
      "S.A. to upgrade to 2.11.  Thank you.  And now, on to our review... -ecl]\n",
      "  </p>\n",
      "  <pre>                                 THE HITCHER\n",
      "                       A film review by Mark R. Leeper\n",
      "                        Copyright 1987 Mark R. Leeper</pre>\n",
      "  <p>\n",
      "   Capsule review:  Boring actioner about a psychotic\n",
      "     hitchhiker whom the scriptwriter makes unkillable.\n",
      "     Contrived, unbelievable, and ultimately dull thriller is one\n",
      "     more film to waste Rutger Hauer.\n",
      "  </p>\n",
      "  <p>\n",
      "   You want a thriller with lots of mindless action, no logic, and a bunch\n",
      "of fractional-dimensional characters.  Cable this month is running what\n",
      "passes for entertainment in some quarters.  The film is THE HITCHER and as a\n",
      "friend of mine would say, it sucks pond water.  Actually I think this one\n",
      "could turn back a raging river.\n",
      "  </p>\n",
      "  <p>\n",
      "   Our main character--I don't think we ever get his name so I will call\n",
      "him Poor Schnook--is a teenager driving a car from Chicago to San Diego by\n",
      "way of nearly empty Texas roads.  Schnook picks up a psychotic killer played\n",
      "by Rutger Hauer, who adds one more implacable killer to his list of roles.\n",
      "Hauer had better start being more selective in his roles or he will lose the\n",
      "aura he had from SOLDIER OF ORANGE and BLADERUNNER.  From the point he gets\n",
      "picked up, Hauer does everything right.  He is always in just the right\n",
      "place at the right instant.  It is not long before the police think Poor\n",
      "Schnook is the killer and these are not your ordinary police.  They have\n",
      "intelligence roughly equivalent to protozoa.  In a scene we see only the\n",
      "aftermath of, Hauer has wiped out an entire police station with apparently\n",
      "no more than a knife.  In one carefully choreographed scene, with one bullet\n",
      "Hauer knocks out one police helicopter and two police cars whose occupants\n",
      "somehow missed seeing the slowly dropping helicopter fall.  The more\n",
      "destruction there is, the more the police want to kill Poor Schnook and the\n",
      "less interested they are in hearing his claims that someone else is\n",
      "responsible.\n",
      "  </p>\n",
      "  <p>\n",
      "   The plot of the innocent bystander who gets in over his head is\n",
      "standard thriller stuff and can be well done.  The innocent bystander\n",
      "against the villain who does everything right is an old one.  In a sense THE\n",
      "HITCHER has the same basic (very basic) plot as NORTH BY NORTHWEST but\n",
      "instead of the characters and the wit, THE HITCHER gives us just more\n",
      "mindless action scenes.  Perhaps part of the reason audiences are getting\n",
      "more unruly is that in a film like NORTH BY NORTHWEST you want to hear what\n",
      "the characters are saying, while in a film like THE HITCHER it is much less\n",
      "important.  And one car engine sounds a lot like another.  Rate this one a\n",
      "-2 on the -4 to +4 scale.\n",
      "  </p>\n",
      "  <pre>                                        Mark R. Leeper\n",
      "                                        ihnp4!mtgzz!leeper\n",
      "                                        <a href=\"mailto:mtgzz!leeper@rutgers.rutgers.edu\">mtgzz!leeper@rutgers.rutgers.edu</a></pre>\n",
      "  <hr/>\n",
      "  <p class=\"flush\">\n",
      "   <small>\n",
      "    The review above was posted to the\n",
      "    <a href=\"news:rec.arts.movies.reviews\">\n",
      "     rec.arts.movies.reviews\n",
      "    </a>\n",
      "    newsgroup (\n",
      "    <a href=\"news:de.rec.film.kritiken\">\n",
      "     de.rec.film.kritiken\n",
      "    </a>\n",
      "    for German reviews).\n",
      "    <br/>\n",
      "    The Internet Movie Database accepts no responsibility for the contents of the\n",
      "review and has no editorial control. Unless stated otherwise, the copyright\n",
      "belongs to the author.\n",
      "    <br/>\n",
      "    Please direct comments/criticisms of the review to relevant newsgroups.\n",
      "    <br/>\n",
      "    Broken URLs inthe reviews are the responsibility of the author.\n",
      "    <br/>\n",
      "    The formatting of the review is likely to differ from the original due\n",
      "to ASCII to HTML conversion.\n",
      "   </small>\n",
      "  </p>\n",
      "  <p align=\"CENTER\">\n",
      "   Related links:\n",
      "   <a href=\"/Reviews/\">\n",
      "    index of all rec.arts.movies.reviews reviews\n",
      "   </a>\n",
      "  </p>\n",
      " </body>\n",
      "</html>\n",
      "\n"
     ]
    },
    {
     "name": "stderr",
     "output_type": "stream",
     "text": [
      "/usr/local/lib/python3.5/dist-packages/bs4/__init__.py:181: UserWarning: No parser was explicitly specified, so I'm using the best available HTML parser for this system (\"lxml\"). This usually isn't a problem, but if you run this code on another system, or in a different virtual environment, it may use a different parser and behave differently.\n",
      "\n",
      "The code that caused this warning is on line 184 of the file /usr/lib/python3.5/runpy.py. To get rid of this warning, change code that looks like this:\n",
      "\n",
      " BeautifulSoup([your markup])\n",
      "\n",
      "to this:\n",
      "\n",
      " BeautifulSoup([your markup], \"lxml\")\n",
      "\n",
      "  markup_type=markup_type))\n"
     ]
    }
   ],
   "source": [
    "from bs4 import BeautifulSoup\n",
    "\n",
    "# Read HTML file\n",
    "with open('polarity_html/movie/0002.html') as f:\n",
    "    html = f.read()\n",
    "# Create a new BeautifulSoup instance\n",
    "soup = BeautifulSoup(html)\n",
    "# Display HTML file content if a prettified format\n",
    "print(soup.prettify())"
   ]
  },
  {
   "cell_type": "markdown",
   "metadata": {},
   "source": [
    "As you can see, each users review is wrapped in `<p>` HTML tag, but there are also some `<p>` tags with helpfull information, so we should miss them. But we can also see that `<p>` tags necessary for us are positioned after the first `<pre>` tag and before the last one. The similar content have all other HTML files with reviews (please check it). Thus, we will remain only those HTML text which is placed between these `<pre>` tags."
   ]
  },
  {
   "cell_type": "code",
   "execution_count": 16,
   "metadata": {
    "collapsed": false,
    "scrolled": true
   },
   "outputs": [
    {
     "name": "stdout",
     "output_type": "stream",
     "text": [
      "<html>\n",
      " <body>\n",
      "  <p>\n",
      "   Capsule review:  Boring actioner about a psychotic\n",
      "     hitchhiker whom the scriptwriter makes unkillable.\n",
      "     Contrived, unbelievable, and ultimately dull thriller is one\n",
      "     more film to waste Rutger Hauer.\n",
      "  </p>\n",
      "  <p>\n",
      "   You want a thriller with lots of mindless action, no logic, and a bunch\n",
      "of fractional-dimensional characters.  Cable this month is running what\n",
      "passes for entertainment in some quarters.  The film is THE HITCHER and as a\n",
      "friend of mine would say, it sucks pond water.  Actually I think this one\n",
      "could turn back a raging river.\n",
      "  </p>\n",
      "  <p>\n",
      "   Our main character--I don't think we ever get his name so I will call\n",
      "him Poor Schnook--is a teenager driving a car from Chicago to San Diego by\n",
      "way of nearly empty Texas roads.  Schnook picks up a psychotic killer played\n",
      "by Rutger Hauer, who adds one more implacable killer to his list of roles.\n",
      "Hauer had better start being more selective in his roles or he will lose the\n",
      "aura he had from SOLDIER OF ORANGE and BLADERUNNER.  From the point he gets\n",
      "picked up, Hauer does everything right.  He is always in just the right\n",
      "place at the right instant.  It is not long before the police think Poor\n",
      "Schnook is the killer and these are not your ordinary police.  They have\n",
      "intelligence roughly equivalent to protozoa.  In a scene we see only the\n",
      "aftermath of, Hauer has wiped out an entire police station with apparently\n",
      "no more than a knife.  In one carefully choreographed scene, with one bullet\n",
      "Hauer knocks out one police helicopter and two police cars whose occupants\n",
      "somehow missed seeing the slowly dropping helicopter fall.  The more\n",
      "destruction there is, the more the police want to kill Poor Schnook and the\n",
      "less interested they are in hearing his claims that someone else is\n",
      "responsible.\n",
      "  </p>\n",
      "  <p>\n",
      "   The plot of the innocent bystander who gets in over his head is\n",
      "standard thriller stuff and can be well done.  The innocent bystander\n",
      "against the villain who does everything right is an old one.  In a sense THE\n",
      "HITCHER has the same basic (very basic) plot as NORTH BY NORTHWEST but\n",
      "instead of the characters and the wit, THE HITCHER gives us just more\n",
      "mindless action scenes.  Perhaps part of the reason audiences are getting\n",
      "more unruly is that in a film like NORTH BY NORTHWEST you want to hear what\n",
      "the characters are saying, while in a film like THE HITCHER it is much less\n",
      "important.  And one car engine sounds a lot like another.  Rate this one a\n",
      "-2 on the -4 to +4 scale.\n",
      "  </p>\n",
      "  <pre>                                        Mark R. Leeper\n",
      "                                        ihnp4!mtgzz!leeper\n",
      "                                        <a href=\"mailto:mtgzz!leeper@rutgers.rutgers.edu\">mtgzz!leeper@rutgers.rutgers.edu</a></pre>\n",
      " </body>\n",
      "</html>\n"
     ]
    },
    {
     "name": "stderr",
     "output_type": "stream",
     "text": [
      "/usr/local/lib/python3.5/dist-packages/bs4/__init__.py:181: UserWarning: No parser was explicitly specified, so I'm using the best available HTML parser for this system (\"lxml\"). This usually isn't a problem, but if you run this code on another system, or in a different virtual environment, it may use a different parser and behave differently.\n",
      "\n",
      "The code that caused this warning is on line 184 of the file /usr/lib/python3.5/runpy.py. To get rid of this warning, change code that looks like this:\n",
      "\n",
      " BeautifulSoup([your markup])\n",
      "\n",
      "to this:\n",
      "\n",
      " BeautifulSoup([your markup], \"lxml\")\n",
      "\n",
      "  markup_type=markup_type))\n"
     ]
    }
   ],
   "source": [
    "# HTML tags (including <pre></pre>) are written uppercase in dataset's files\n",
    "soup = BeautifulSoup(' '.join(html.split('</PRE>')[1:-1]))\n",
    "print(soup.prettify())"
   ]
  },
  {
   "cell_type": "markdown",
   "metadata": {},
   "source": [
    "Now we can get text of reviews using [`findAll`](http://www.crummy.com/software/BeautifulSoup/bs4/doc/#find-all) method."
   ]
  },
  {
   "cell_type": "code",
   "execution_count": 18,
   "metadata": {
    "collapsed": false,
    "scrolled": true
   },
   "outputs": [
    {
     "name": "stdout",
     "output_type": "stream",
     "text": [
      "0 \n",
      "           Capsule review:  Boring actioner about a psychotic\n",
      "     hitchhiker whom the scriptwriter makes unkillable.\n",
      "     Contrived, unbelievable, and ultimately dull thriller is one\n",
      "     more film to waste Rutger Hauer.\n",
      "1 \n",
      "      You want a thriller with lots of mindless action, no logic, and a bunch\n",
      "of fractional-dimensional characters.  Cable this month is running what\n",
      "passes for entertainment in some quarters.  The film is THE HITCHER and as a\n",
      "friend of mine would say, it sucks pond water.  Actually I think this one\n",
      "could turn back a raging river.\n",
      "2 \n",
      "      Our main character--I don't think we ever get his name so I will call\n",
      "him Poor Schnook--is a teenager driving a car from Chicago to San Diego by\n",
      "way of nearly empty Texas roads.  Schnook picks up a psychotic killer played\n",
      "by Rutger Hauer, who adds one more implacable killer to his list of roles.\n",
      "Hauer had better start being more selective in his roles or he will lose the\n",
      "aura he had from SOLDIER OF ORANGE and BLADERUNNER.  From the point he gets\n",
      "picked up, Hauer does everything right.  He is always in just the right\n",
      "place at the right instant.  It is not long before the police think Poor\n",
      "Schnook is the killer and these are not your ordinary police.  They have\n",
      "intelligence roughly equivalent to protozoa.  In a scene we see only the\n",
      "aftermath of, Hauer has wiped out an entire police station with apparently\n",
      "no more than a knife.  In one carefully choreographed scene, with one bullet\n",
      "Hauer knocks out one police helicopter and two police cars whose occupants\n",
      "somehow missed seeing the slowly dropping helicopter fall.  The more\n",
      "destruction there is, the more the police want to kill Poor Schnook and the\n",
      "less interested they are in hearing his claims that someone else is\n",
      "responsible.\n",
      "3 \n",
      "      The plot of the innocent bystander who gets in over his head is\n",
      "standard thriller stuff and can be well done.  The innocent bystander\n",
      "against the villain who does everything right is an old one.  In a sense THE\n",
      "HITCHER has the same basic (very basic) plot as NORTH BY NORTHWEST but\n",
      "instead of the characters and the wit, THE HITCHER gives us just more\n",
      "mindless action scenes.  Perhaps part of the reason audiences are getting\n",
      "more unruly is that in a film like NORTH BY NORTHWEST you want to hear what\n",
      "the characters are saying, while in a film like THE HITCHER it is much less\n",
      "important.  And one car engine sounds a lot like another.  Rate this one a\n",
      "-2 on the -4 to +4 scale.\n"
     ]
    }
   ],
   "source": [
    "for num, i in enumerate(soup.findAll('p')):\n",
    "    print(num, '\\n', i.text)"
   ]
  },
  {
   "cell_type": "markdown",
   "metadata": {},
   "source": [
    "## 2. Bag-of-words mode of text representation\n",
    "\n",
    "Now we can get text of reviews from one HTML file and process then, but how do we convert them to some kind of numeric representation for machine learning, particularly, for text classification as good or bad review or for prediction of which movie was devoted the comment for? One common approach is called a **Bag-of-words**. The Bag-of-words model learns a vocabulary from all of the documents, then models each document by counting the number of times each word appears. For example, consider the following two sentences:\n",
    "\n",
    "    Sentence 1: \"The cat sat on the hat\"\n",
    "\n",
    "    Sentence 2: \"The dog ate the cat and the hat\"\n",
    "\n",
    "From these two sentences, our vocabulary is as follows:\n",
    "\n",
    "    { the, cat, sat, on, hat, dog, ate, and }\n",
    "\n",
    "To get our bags of words, we count the number of times each word occurs in each sentence. In `Sentence 1`, \"the\" appears twice, and \"cat\", \"sat\", \"on\", and \"hat\" each appear once, so the feature vector for `Sentence 1` is:\n",
    "\n",
    "    { the, cat, sat, on, hat, dog, ate, and }\n",
    "\n",
    "    Sentence 1: { 2, 1, 1, 1, 1, 0, 0, 0 }\n",
    "\n",
    "Similarly, the features for `Sentence 2` are: \n",
    "\n",
    "    Sentence 2: { 3, 1, 0, 0, 1, 1, 1, 1}\n",
    "    \n",
    "<img src=\"images/bag-of-words.png\" width=75%>\n",
    "    \n",
    "This vector representation does not preserve the order of the words in the original sentences. This kind of representation has several successful applications, for example email filtering.\n",
    "\n",
    "We'll be using the `feature_extraction` module from `scikit-learn` to create Bag-of-words features. If you have not `scikit-learn` installed, read [this](http://scikit-learn.org/stable/install.html) instruction.\n",
    "\n",
    "Before, we need to split a paragraph into sentences. There are all kinds of gotchas in natural language. English sentences can end with \"?\", \"!\", \"\"\", or \".\", among other things, and spacing and capitalization are not reliable guides either. For this reason, we'll use the Python [Natural Language Toolkit](http://www.nltk.org)'s punkt tokenizer for sentence splitting.  You'll need to [install](http://www.nltk.org/install.html) the library if you don't already have it on your computer"
   ]
  },
  {
   "cell_type": "code",
   "execution_count": 19,
   "metadata": {
    "collapsed": true
   },
   "outputs": [],
   "source": [
    "import nltk\n",
    "from nltk.tokenize import sent_tokenize"
   ]
  },
  {
   "cell_type": "code",
   "execution_count": 23,
   "metadata": {
    "collapsed": false,
    "scrolled": true
   },
   "outputs": [],
   "source": [
    "import re\n",
    "\n",
    "text = ''\n",
    "for i in soup.findAll('p'):\n",
    "    text += ' ' + i.text\n",
    "\n",
    "# Lowercase text, remove \"\\n\" symbols\n",
    "text = text.lower().replace('\\n', ' ').strip()\n",
    "    \n",
    "sentences = sent_tokenize(text)\n",
    "# Remove non-letters  \n",
    "sentences = map(lambda x: re.sub(\"[^a-zA-Z]\", \" \", x).strip(), sentences)  \n",
    "        \n"
   ]
  },
  {
   "cell_type": "code",
   "execution_count": 28,
   "metadata": {
    "collapsed": false,
    "scrolled": false
   },
   "outputs": [
    {
     "name": "stdout",
     "output_type": "stream",
     "text": [
      "Unique words (225):\n",
      "['about', 'action', 'actioner', 'actually', 'adds', 'aftermath', 'against', 'always', 'an', 'and', 'another', 'apparently', 'are', 'as', 'at', 'audiences', 'aura', 'back', 'basic', 'be', 'before', 'being', 'better', 'bladerunner', 'boring', 'bullet', 'bunch', 'but', 'by', 'bystander', 'cable', 'call', 'can', 'capsule', 'car', 'carefully', 'cars', 'character', 'characters', 'chicago', 'choreographed', 'claims', 'contrived', 'could', 'destruction', 'diego', 'dimensional', 'does', 'don', 'done', 'driving', 'dropping', 'dull', 'else', 'empty', 'engine', 'entertainment', 'entire', 'equivalent', 'ever', 'everything', 'fall', 'film', 'for', 'fractional', 'friend', 'from', 'get', 'gets', 'getting', 'gives', 'had', 'has', 'hauer', 'have', 'he', 'head', 'hear', 'hearing', 'helicopter', 'him', 'his', 'hitcher', 'hitchhiker', 'implacable', 'important', 'in', 'innocent', 'instant', 'instead', 'intelligence', 'interested', 'is', 'it', 'just', 'kill', 'killer', 'knife', 'knocks', 'less', 'like', 'list', 'logic', 'long', 'lose', 'lot', 'lots', 'main', 'makes', 'mindless', 'mine', 'missed', 'month', 'more', 'much', 'name', 'nearly', 'no', 'north', 'northwest', 'not', 'occupants', 'of', 'old', 'on', 'one', 'only', 'or', 'orange', 'ordinary', 'our', 'out', 'over', 'part', 'passes', 'perhaps', 'picked', 'picks', 'place', 'played', 'plot', 'point', 'police', 'pond', 'poor', 'protozoa', 'psychotic', 'quarters', 'raging', 'rate', 'reason', 'responsible', 'review', 'right', 'river', 'roads', 'roles', 'roughly', 'running', 'rutger', 'same', 'san', 'say', 'saying', 'scale', 'scene', 'scenes', 'schnook', 'scriptwriter', 'see', 'seeing', 'selective', 'sense', 'slowly', 'so', 'soldier', 'some', 'somehow', 'someone', 'sounds', 'standard', 'start', 'station', 'stuff', 'sucks', 'teenager', 'texas', 'than', 'that', 'the', 'there', 'these', 'they', 'think', 'this', 'thriller', 'to', 'turn', 'two', 'ultimately', 'unbelievable', 'unkillable', 'unruly', 'up', 'us', 'very', 'villain', 'want', 'waste', 'water', 'way', 'we', 'well', 'what', 'while', 'who', 'whom', 'whose', 'will', 'wiped', 'wit', 'with', 'would', 'you', 'your']\n"
     ]
    }
   ],
   "source": [
    "from sklearn.feature_extraction.text import CountVectorizer\n",
    "\n",
    "# Creating the bag-of-words\n",
    "vectorizer = CountVectorizer()\n",
    "\n",
    "# fit_transform() does two functions: First, it fits the model and learns the vocabulary; \n",
    "# second, it transforms our training data into feature vectors. \n",
    "# The input to fit_transform should be a list of strings.\n",
    "data_features = vectorizer.fit_transform(sentences)\n",
    "l = vectorizer.get_feature_names()\n",
    "\n",
    "# Look at the collection of all words in `sentences`\n",
    "print(\"Unique words ({uniq}):\".format(uniq=len(l)))\n",
    "print(l)"
   ]
  },
  {
   "cell_type": "code",
   "execution_count": 33,
   "metadata": {
    "collapsed": false
   },
   "outputs": [],
   "source": [
    "# Numpy arrays are easy to work with, so convert the result to an array\n",
    "#data_features = data_features.toarray()\n",
    "\n",
    "#print(\"Data features size:\", data_features.shape)\n",
    "#print(\"Vector representation of sentences:\\n\")\n",
    "#for num, vec in enumerate(data_features):\n",
    "#    print(sentences[num], '\\n', vec)"
   ]
  },
  {
   "cell_type": "markdown",
   "metadata": {},
   "source": [
    "## 3. Data processing\n",
    "\n",
    "To train Word2Vec, it makes sense to remove punctuation. It also might be better not to remove numbers, but we will do it in our class to simplify training process. We need also to decide how to deal with frequently occurring words that don't carry much meaning. Such words are called \"stop words\"; in English they include words such as \"a\", \"and\", \"is\", and \"the\". Conveniently, there are Python packages that come with stop word lists built in. Let's import a stop word list from the Python NLTK. You need to install the data packages that come with it, as follows:"
   ]
  },
  {
   "cell_type": "code",
   "execution_count": 36,
   "metadata": {
    "collapsed": false
   },
   "outputs": [
    {
     "name": "stdout",
     "output_type": "stream",
     "text": [
      "NLTK Downloader\n",
      "---------------------------------------------------------------------------\n",
      "    d) Download   l) List    u) Update   c) Config   h) Help   q) Quit\n",
      "---------------------------------------------------------------------------\n",
      "Downloader> q\n"
     ]
    },
    {
     "data": {
      "text/plain": [
       "True"
      ]
     },
     "execution_count": 36,
     "metadata": {},
     "output_type": "execute_result"
    }
   ],
   "source": [
    "# Download text data sets, including stop words\n",
    "# You need download it only once. After this comment the next line\n",
    "nltk.download() "
   ]
  },
  {
   "cell_type": "markdown",
   "metadata": {},
   "source": [
    "Now we can use `nltk` to get a list of stop words:"
   ]
  },
  {
   "cell_type": "code",
   "execution_count": 38,
   "metadata": {
    "collapsed": false
   },
   "outputs": [
    {
     "name": "stdout",
     "output_type": "stream",
     "text": [
      "['i', 'me', 'my', 'myself', 'we', 'our', 'ours', 'ourselves', 'you', 'your', 'yours', 'yourself', 'yourselves', 'he', 'him', 'his', 'himself', 'she', 'her', 'hers', 'herself', 'it', 'its', 'itself', 'they', 'them', 'their', 'theirs', 'themselves', 'what', 'which', 'who', 'whom', 'this', 'that', 'these', 'those', 'am', 'is', 'are', 'was', 'were', 'be', 'been', 'being', 'have', 'has', 'had', 'having', 'do', 'does', 'did', 'doing', 'a', 'an', 'the', 'and', 'but', 'if', 'or', 'because', 'as', 'until', 'while', 'of', 'at', 'by', 'for', 'with', 'about', 'against', 'between', 'into', 'through', 'during', 'before', 'after', 'above', 'below', 'to', 'from', 'up', 'down', 'in', 'out', 'on', 'off', 'over', 'under', 'again', 'further', 'then', 'once', 'here', 'there', 'when', 'where', 'why', 'how', 'all', 'any', 'both', 'each', 'few', 'more', 'most', 'other', 'some', 'such', 'no', 'nor', 'not', 'only', 'own', 'same', 'so', 'than', 'too', 'very', 's', 't', 'can', 'will', 'just', 'don', 'should', 'now', 'd', 'll', 'm', 'o', 're', 've', 'y', 'ain', 'aren', 'couldn', 'didn', 'doesn', 'hadn', 'hasn', 'haven', 'isn', 'ma', 'mightn', 'mustn', 'needn', 'shan', 'shouldn', 'wasn', 'weren', 'won', 'wouldn']\n"
     ]
    }
   ],
   "source": [
    "# Import the stop word list\n",
    "from nltk.corpus import stopwords \n",
    "\n",
    "print(stopwords.words(\"english\"))"
   ]
  },
  {
   "cell_type": "markdown",
   "metadata": {},
   "source": [
    "Let's look at which form all reviews will have after all transformations mentioned above"
   ]
  },
  {
   "cell_type": "code",
   "execution_count": 40,
   "metadata": {
    "collapsed": false
   },
   "outputs": [
    {
     "name": "stdout",
     "output_type": "stream",
     "text": [
      "Total words amount: 422\n",
      "Without stopwords: 227\n",
      "['capsule', 'review', 'boring', 'actioner', 'psychotic', 'hitchhiker', 'scriptwriter', 'makes', 'unkillable', 'contrived', 'unbelievable', 'ultimately', 'dull', 'thriller', 'one', 'film', 'waste', 'rutger', 'hauer', 'want', 'thriller', 'lots', 'mindless', 'action', 'logic', 'bunch', 'fractional', 'dimensional', 'characters', 'cable', 'month', 'running', 'passes', 'entertainment', 'quarters', 'film', 'hitcher', 'friend', 'mine', 'would', 'say', 'sucks', 'pond', 'water', 'actually', 'think', 'one', 'could', 'turn', 'back', 'raging', 'river', 'main', 'character', 'think', 'ever', 'get', 'name', 'call', 'poor', 'schnook', 'teenager', 'driving', 'car', 'chicago', 'san', 'diego', 'way', 'nearly', 'empty', 'texas', 'roads', 'schnook', 'picks', 'psychotic', 'killer', 'played', 'rutger', 'hauer', 'adds', 'one', 'implacable', 'killer', 'list', 'roles', 'hauer', 'better', 'start', 'selective', 'roles', 'lose', 'aura', 'soldier', 'orange', 'bladerunner', 'point', 'gets', 'picked', 'hauer', 'everything', 'right', 'always', 'right', 'place', 'right', 'instant', 'long', 'police', 'think', 'poor', 'schnook', 'killer', 'ordinary', 'police', 'intelligence', 'roughly', 'equivalent', 'protozoa', 'scene', 'see', 'aftermath', 'hauer', 'wiped', 'entire', 'police', 'station', 'apparently', 'knife', 'one', 'carefully', 'choreographed', 'scene', 'one', 'bullet', 'hauer', 'knocks', 'one', 'police', 'helicopter', 'two', 'police', 'cars', 'whose', 'occupants', 'somehow', 'missed', 'seeing', 'slowly', 'dropping', 'helicopter', 'fall', 'destruction', 'police', 'want', 'kill', 'poor', 'schnook', 'less', 'interested', 'hearing', 'claims', 'someone', 'else', 'responsible', 'plot', 'innocent', 'bystander', 'gets', 'head', 'standard', 'thriller', 'stuff', 'well', 'done', 'innocent', 'bystander', 'villain', 'everything', 'right', 'old', 'one', 'sense', 'hitcher', 'basic', 'basic', 'plot', 'north', 'northwest', 'instead', 'characters', 'wit', 'hitcher', 'gives', 'us', 'mindless', 'action', 'scenes', 'perhaps', 'part', 'reason', 'audiences', 'getting', 'unruly', 'film', 'like', 'north', 'northwest', 'want', 'hear', 'characters', 'saying', 'film', 'like', 'hitcher', 'much', 'less', 'important', 'one', 'car', 'engine', 'sounds', 'lot', 'like', 'another', 'rate', 'one', 'scale']\n"
     ]
    }
   ],
   "source": [
    "# Extract HTML text wrapped in <p> tags\n",
    "text = ''   # Here we will collect all review in the current document\n",
    "for p in soup.findAll('p'):\n",
    "    text += ' ' + p.text\n",
    "# Look at how many words are in all reviews of this HTML file\n",
    "print(\"Total words amount:\", len(text.split()))\n",
    "# Remove non-letters  \n",
    "text = re.sub(\"[^a-zA-Z]\", \" \", text)  \n",
    "# Convert words to lowercase and split them  \n",
    "words = text.lower().split()  \n",
    "# Remove stop words from \"words\"\n",
    "words = [w for w in words if not w in stopwords.words(\"english\")]\n",
    "\n",
    "print(\"Without stopwords:\", len(words))\n",
    "print(words)"
   ]
  },
  {
   "cell_type": "markdown",
   "metadata": {},
   "source": [
    "`gensim` only requires that the input must provide sentences sequentially, when iterated over. No need to keep everything in RAM: we can provide one sentence, process it, forget it, load another sentence…\n",
    "\n",
    "For example, if our input is strewn across several files on disk, with one sentence per line, then instead of loading everything into an in-memory list, we can process the input file by file or line by line:"
   ]
  },
  {
   "cell_type": "code",
   "execution_count": 7,
   "metadata": {
    "collapsed": false
   },
   "outputs": [],
   "source": [
    "import os\n",
    "import time\n",
    "import re\n",
    "from bs4 import BeautifulSoup\n",
    "\n",
    "\n",
    "# Import the stop word list\n",
    "from nltk.corpus import stopwords \n",
    "\n",
    "#print(stopwords.words(\"english\"))\n",
    "\n",
    "class DataTransformer(object):  \n",
    "    \n",
    "    def __init__(self, dirname):  \n",
    "        self.dirname = dirname \n",
    "        \n",
    "    def __iter__(self):  \n",
    "        for fname in os.listdir(self.dirname):\n",
    "            # 1. Read the HTML file\n",
    "            with open(os.path.join(self.dirname, fname), encoding='latin-1') as f:\n",
    "                html = f.read()\n",
    "            # 2. Create a new BeautifulSoup instance\n",
    "            soup = BeautifulSoup(' '.join(html.split('</PRE>')[1:-1]), \"lxml\")\n",
    "            # 3. Extract HTML text wrapped in <p> tags\n",
    "            text = ''   # Here we will collect all review in the current document\n",
    "            for p in soup.findAll('p'):\n",
    "                text += ' ' + p.text\n",
    "            # 4. Remove non-letters  \n",
    "            text = re.sub(\"[^a-zA-Z]\", \" \", text)  \n",
    "            # 5. Convert words to lowercase and split them  \n",
    "            words = text.lower().split()  \n",
    "            # 6. Remove stop words from \"words\"\n",
    "            words = [w for w in words if not w in stopwords.words(\"english\")]\n",
    "            yield words"
   ]
  },
  {
   "cell_type": "markdown",
   "metadata": {},
   "source": [
    "## 4. Model building and saving\n",
    "\n",
    "With the list of nicely parsed words, we're ready to train the model. `gensim`’s Word2Vec API requires some parameters for initialization. Of course, they do have default values, but you want to define some on your own (note, below we list not all attributes):\n",
    "\n",
    "* `size` – denotes the number of dimensions present in the vectorial forms. If you have read the document and have an idea of how many 'topics' it has, you can use that number. For sizeable blocks, people use 100-200. \n",
    "\n",
    "* `min_count` – terms that occur less than min_count number of times are ignored in the calculations. This reduces noise in the semantic space. \n",
    "\n",
    "* `window` - only terms hat occur within a window-neighbourhood of a term, in a sentence, are associated with it during training. The usual value is 4. Unless your text contains big sentences, leave it at that.\n",
    "\n",
    "* `sg` – this defines the algorithm. If equal to 1, the skip-gram technique is used. \n",
    "\n",
    "* `min_count` - ignores all words with total frequency lower than this.\n",
    "        \n",
    "* `sample` - threshold for configuring which higher-frequency words are randomly downsampled; default is 1e-3, useful range is (0, 1e-5).\n",
    "\n",
    "* `workers` - defines how many worker threads to train the model (= faster training with multicore machines).\n",
    "       \n",
    "Choosing parameters is not easy, but once we have chosen our parameters, creating a Word2Vec model is straightforward.\n",
    "Next we want to initialize and train our model. Note that this will take some time (even a few hours depending on your computer's performance)."
   ]
  },
  {
   "cell_type": "code",
   "execution_count": 10,
   "metadata": {
    "collapsed": false,
    "scrolled": true
   },
   "outputs": [
    {
     "name": "stdout",
     "output_type": "stream",
     "text": [
      "Training model...\n",
      "Elapsed time: 5515.886040210724\n"
     ]
    },
    {
     "data": {
      "text/plain": [
       "<gensim.models.word2vec.Word2Vec at 0x7f9356ce2da0>"
      ]
     },
     "execution_count": 10,
     "metadata": {},
     "output_type": "execute_result"
    }
   ],
   "source": [
    "from gensim.models import word2vec\n",
    "\n",
    "# Set values for various parameters  \n",
    "num_features = 100     # Word vector dimensionality                        \n",
    "min_word_count = 20    # Minimum word count                          \n",
    "num_workers = 32       # Number of threads to run in parallel  \n",
    "\n",
    "# Iterate all data\n",
    "sentences = DataTransformer('polarity_html/movie') \n",
    "\n",
    "# Let's measure the ellapsed time\n",
    "start = time.time()\n",
    "\n",
    "print(\"Training model...\")\n",
    "model = word2vec.Word2Vec(sentences, \n",
    "                          workers = num_workers, \n",
    "                          size = num_features,\n",
    "                          min_count = min_word_count\n",
    "                         ) \n",
    "\n",
    "print(\"Elapsed time: {time}\".format(time = time.time() - start))\n",
    "model"
   ]
  },
  {
   "cell_type": "markdown",
   "metadata": {},
   "source": [
    "You can **store/load** models using the standard `gensim` methods:"
   ]
  },
  {
   "cell_type": "code",
   "execution_count": 12,
   "metadata": {
    "collapsed": false
   },
   "outputs": [
    {
     "name": "stdout",
     "output_type": "stream",
     "text": [
      "Model was saved\n"
     ]
    }
   ],
   "source": [
    "from gensim.models import Word2Vec\n",
    "\n",
    "model.save('IMDb_reviews.w2v_model')\n",
    "print(\"Model was saved\")\n"
   ]
  },
  {
   "cell_type": "code",
   "execution_count": 13,
   "metadata": {
    "collapsed": false
   },
   "outputs": [
    {
     "name": "stdout",
     "output_type": "stream",
     "text": [
      "Model is load\n"
     ]
    },
    {
     "data": {
      "text/plain": [
       "<gensim.models.word2vec.Word2Vec at 0x7f9356e52b70>"
      ]
     },
     "execution_count": 13,
     "metadata": {},
     "output_type": "execute_result"
    }
   ],
   "source": [
    "\n",
    "model = Word2Vec.load('IMDb_reviews.w2v_model')\n",
    "print(\"Model is load\")\n",
    "model"
   ]
  },
  {
   "cell_type": "markdown",
   "metadata": {},
   "source": [
    "which uses `pickle` internally, optionally mmap‘ing the model’s internal large NumPy matrices into virtual memory directly from disk files, for inter-process memory sharing.\n",
    "\n",
    "If you don't plan to train the model any further, calling `init_sims()` will make the model much more memory-efficient.\n",
    "\n",
    "    model.init_sims(replace=True)\n",
    "\n",
    "In addition, you can load models created by the original C tool, both using its text and binary formats:\n",
    "\n",
    "    model = Word2Vec.load_word2vec_format('IMDb_reviews', binary=False)\n",
    "    # using gzipped/bz2 input works too, no need to unzip:\n",
    "    model = Word2Vec.load_word2vec_format('IMDb_reviews.bin.gz', binary=True)"
   ]
  },
  {
   "cell_type": "markdown",
   "metadata": {},
   "source": [
    "## 5. Exploring the model results\n",
    "\n",
    "Now that you have the model initialized, you can access all the terms in its vocabulary, using something like `list(model.vocab.keys())`. \n",
    "\n",
    "To get the vectorial representation of a particular term, use `model[term]`. "
   ]
  },
  {
   "cell_type": "code",
   "execution_count": 15,
   "metadata": {
    "collapsed": false
   },
   "outputs": [
    {
     "name": "stdout",
     "output_type": "stream",
     "text": [
      "Words amount in Word2Vec vocabulary: 21653\n",
      "\n",
      "The first 10 words:\n",
      " ['damsel', 'impressionable', 'addicts', 'infiltrate', 'getting', 'cnn', 'twisting', 'eyes', 'mangled', 'remarkable']\n",
      "True\n",
      "\n",
      "Vector represintation of 'learn':\n",
      " [ 2.2958951   1.10165727  0.00300717  1.30775559 -0.26260957 -0.57785177\n",
      "  0.69543326 -0.00400712 -0.06397168  1.22036254 -0.34665278 -0.67786133\n",
      "  0.87649667 -0.96148419 -1.44482338 -0.63921899 -1.54427516 -0.11843287\n",
      "  1.19125414  0.67982227  1.43522441  0.33803836 -0.46597156 -1.65427577\n",
      "  0.2446951  -1.6899209   0.3091993   0.1385982  -0.09921997  0.70937741\n",
      "  0.23938832 -1.53349125  1.19295394  0.35672411  0.89204967 -0.79436034\n",
      " -0.88595223  2.99099135  0.03861005  0.3775019  -0.85251284  1.13838387\n",
      " -0.63715625  1.24938571 -0.45951685 -0.3194862  -1.16293061  0.78117007\n",
      "  0.02380883 -0.31617922  1.08886278  0.52943635  0.5890491   0.18461388\n",
      "  1.34160972  0.64268148  1.81085813  0.53693587 -1.16894019 -0.53874981\n",
      " -0.0730935  -1.47025418  0.73419124 -1.07755029  0.1056091   0.93877965\n",
      "  1.764902   -0.26734865 -0.28694597  0.39776307 -0.26578653 -0.52811801\n",
      "  0.34195894 -1.04528856  0.17896645 -0.86244869 -1.01213837  0.48650447\n",
      "  1.20234454  0.18196978  0.36438686 -1.07923293  0.410308   -0.11596554\n",
      "  0.30503717  1.17863429 -0.85895747 -0.14338325  1.5815419  -0.36261994\n",
      " -1.02457619  0.05980891  0.01243951 -0.30660626 -0.34889382  0.46358857\n",
      " -0.51357889 -0.57647544  0.01180787 -0.21414845]\n",
      "\n",
      "The size of 'learn': 100\n"
     ]
    }
   ],
   "source": [
    "vocab = list(model.vocab.keys())\n",
    "print(\"Words amount in Word2Vec vocabulary:\", len(vocab) )\n",
    "print(\"\\nThe first 10 words:\\n\", vocab[:10] )\n",
    "print('learn' in model.vocab )\n",
    "print(\"\\nVector represintation of 'learn':\\n\", model['learn'] )\n",
    "print(\"\\nThe size of 'learn':\", model['learn'].size )"
   ]
  },
  {
   "cell_type": "markdown",
   "metadata": {},
   "source": [
    "Word2Vec supports several word similarity tasks out of the box. Particularly, you can find a word as an arithmetical combination of some words by its meaning "
   ]
  },
  {
   "cell_type": "code",
   "execution_count": 35,
   "metadata": {
    "collapsed": false
   },
   "outputs": [
    {
     "name": "stdout",
     "output_type": "stream",
     "text": [
      "[('ensues', 0.5323048233985901), ('ensue', 0.463127076625824), ('racing', 0.45140886306762695), ('section', 0.4466756582260132), ('races', 0.4376660883426666)]\n"
     ]
    }
   ],
   "source": [
    "print(model.most_similar(positive=['godfather'], negative=['coppola', 'brando'], topn=5))"
   ]
  },
  {
   "cell_type": "markdown",
   "metadata": {},
   "source": [
    "Depending on how good the model was trained we can get not exepted result (in the begining of this lesson we've provided a classical example of Word2Vec usage `\"king - man + woman = queen\"`) as it is above (note, if you are lucky you may get the \"queen\" at once).\n",
    "\n",
    "Let's check whether \"queen\" is in the Word2Vec vocabulary"
   ]
  },
  {
   "cell_type": "code",
   "execution_count": 21,
   "metadata": {
    "collapsed": false
   },
   "outputs": [
    {
     "name": "stdout",
     "output_type": "stream",
     "text": [
      "True\n"
     ]
    }
   ],
   "source": [
    "print 'queen' in model.vocab"
   ]
  },
  {
   "cell_type": "markdown",
   "metadata": {},
   "source": [
    "Yes, it is. So, we have shown only the most closest result in the example above. Let's display 50 matches"
   ]
  },
  {
   "cell_type": "code",
   "execution_count": 23,
   "metadata": {
    "collapsed": false
   },
   "outputs": [
    {
     "name": "stdout",
     "output_type": "stream",
     "text": [
      "[(u'anna', 0.5250335931777954), (u'prince', 0.5074911117553711), (u'princess', 0.5037549734115601), (u'bride', 0.4978902041912079), (u'siam', 0.48707035183906555), (u'aladdin', 0.47968539595603943), (u'rea', 0.47812068462371826), (u'hunchback', 0.4776214361190796), (u'concubine', 0.47358205914497375), (u'lion', 0.4680995047092438), (u'fisher', 0.4672470688819885), (u'paquin', 0.46154531836509705), (u'mongkut', 0.46036839485168457), (u'simba', 0.4587481915950775), (u'throne', 0.4529523551464081), (u'fiona', 0.4522353410720825), (u'lear', 0.4517601728439331), (u'courtesan', 0.4487951695919037), (u'egypt', 0.4450003504753113), (u'juliet', 0.44464582204818726), (u'crown', 0.4389139413833618), (u'virgin', 0.43824610114097595), (u'isabel', 0.4378577172756195), (u'bronte', 0.43733328580856323), (u'pinocchio', 0.42880210280418396), (u'dame', 0.4287146329879761), (u'beloved', 0.4285111427307129), (u'novella', 0.4270284175872803), (u'isabella', 0.42578810453414917), (u'shelley', 0.424367755651474), (u'ariel', 0.42424529790878296), (u'caraboo', 0.42135149240493774), (u'tides', 0.4162253141403198), (u'cinderella', 0.41544362902641296), (u'carrie', 0.41530683636665344), (u'retelling', 0.41452914476394653), (u'queen', 0.4141924977302551), (u'grandchildren', 0.4126235842704773), (u'farewell', 0.41203054785728455), (u'mulan', 0.40970921516418457), (u'fairy', 0.4087682366371155), (u'romeo', 0.40725332498550415), (u'sophie', 0.40678542852401733), (u'notre', 0.40429794788360596), (u'leia', 0.4028037488460541), (u'beast', 0.4010675847530365), (u'margot', 0.4010060429573059), (u'woolf', 0.4005199074745178), (u'wife', 0.3992879390716553), (u'grandmother', 0.39752089977264404)]\n"
     ]
    }
   ],
   "source": [
    "print model.most_similar(positive=['woman', 'king'], negative=['man'], topn=50)"
   ]
  },
  {
   "cell_type": "markdown",
   "metadata": {},
   "source": [
    "We can **retrain** model with new data to get more better results. Let's take a few fairy tails containg many combinations of \"king\" of \"queen\" words and read them like we've made above. You may find these documents in the folder \"fairy_tails\"."
   ]
  },
  {
   "cell_type": "code",
   "execution_count": 72,
   "metadata": {
    "collapsed": false
   },
   "outputs": [
    {
     "name": "stderr",
     "output_type": "stream",
     "text": [
      "WARNING:gensim.models.word2vec:under 10 jobs per worker: consider setting a smaller `batch_words' for smoother alpha decay\n",
      "WARNING:gensim.models.word2vec:supplied raw word count (103730) did not equal expected count (50000)\n"
     ]
    },
    {
     "name": "stdout",
     "output_type": "stream",
     "text": [
      "Retraining model...\n",
      "Elapsed time: 1.80999994278\n"
     ]
    }
   ],
   "source": [
    "class FairyTails(object):  \n",
    "    \n",
    "    def __init__(self, dirname):  \n",
    "        self.dirname = dirname \n",
    "        \n",
    "    def __iter__(self):  \n",
    "        for fname in os.listdir(self.dirname):\n",
    "            # Read the TXT file\n",
    "            with open(os.path.join(dirname, fname)) as f:\n",
    "                txt = f.read()\n",
    "            # Process file content line by line\n",
    "            for line in txt:\n",
    "                # Remove non-letters and convert words to lowercase and split them\n",
    "                words = re.sub(\"[^a-zA-Z]\", \" \", line).lower().split()  \n",
    "                words = [w for w in words if not w in stopwords.words(\"english\")]\n",
    "                yield words\n",
    "\n",
    "fairy_tails = FairyTails('fairy_tails')\n",
    "\n",
    "# Let's measure the ellapsed time\n",
    "start = time.time()\n",
    "print \"Retraining model...\"  \n",
    "model.train(fairy_tails)\n",
    "print \"Elapsed time:\", time.time() - start"
   ]
  },
  {
   "cell_type": "markdown",
   "metadata": {},
   "source": [
    "Check if something change"
   ]
  },
  {
   "cell_type": "code",
   "execution_count": null,
   "metadata": {
    "collapsed": false
   },
   "outputs": [],
   "source": [
    "print model.most_similar(positive=['woman', 'king'], negative=['man'], topn=10)"
   ]
  },
  {
   "cell_type": "markdown",
   "metadata": {},
   "source": [
    "Yes, now my retrained model positioned \"queen\" in TOP 5 results.\n",
    "\n",
    "As we mentioned above, to get a wonderfull result we need train Word2Vec algorithm on the large dataset (with tens bilions of words, but the current dataset contains a few millions of words). Other way: shuffle documents and train algorithm many times on the same dataset, i.e. we can read our 30 000 HTML documents in various order a few decades or hundreds times and retrain model on each documents combination. It is a good practice, but it is a time-consuming process.\n",
    "\n",
    "A few examples, which work properly in my model"
   ]
  },
  {
   "cell_type": "code",
   "execution_count": 60,
   "metadata": {
    "collapsed": false
   },
   "outputs": [
    {
     "name": "stdout",
     "output_type": "stream",
     "text": [
      "[(u'london', 0.7005179524421692)]\n",
      "[(u'girl', 0.7847657799720764)]\n"
     ]
    }
   ],
   "source": [
    "print model.most_similar(positive=['paris', 'england'], negative=['france'], topn=1)\n",
    "\n",
    "print model.most_similar(positive=['woman', 'boy'], negative=['man'], topn=1)"
   ]
  },
  {
   "cell_type": "markdown",
   "metadata": {},
   "source": [
    "A few other methods of Word2Vec using for text analysis: "
   ]
  },
  {
   "cell_type": "code",
   "execution_count": 79,
   "metadata": {
    "collapsed": false
   },
   "outputs": [
    {
     "name": "stdout",
     "output_type": "stream",
     "text": [
      "[(u'decent', 0.780787467956543), (u'excellent', 0.649091362953186), (u'great', 0.6354473233222961), (u'fine', 0.5688086748123169), (u'solid', 0.5576190948486328), (u'nice', 0.5560343265533447), (u'lousy', 0.5521256923675537), (u'bad', 0.5501347184181213), (u'awful', 0.545531690120697), (u'reasonable', 0.5444279909133911)]\n",
      "\n",
      "[(u'planet', 0.7930924296379089), (u'aliens', 0.665905237197876), (u'comet', 0.6589143872261047), (u'mankind', 0.6384577751159668), (u'mars', 0.6266745924949646), (u'meteor', 0.6204968094825745), (u'ship', 0.6201669573783875), (u'borg', 0.6183719635009766), (u'dinosaurs', 0.6163539290428162), (u'species', 0.6084668636322021)]\n"
     ]
    }
   ],
   "source": [
    "# To get a list of most similar words\n",
    "print model.most_similar('good')\n",
    "\n",
    "print\n",
    "print model.most_similar(\"earth\") "
   ]
  },
  {
   "cell_type": "code",
   "execution_count": 46,
   "metadata": {
    "collapsed": false
   },
   "outputs": [
    {
     "name": "stdout",
     "output_type": "stream",
     "text": [
      "cereal\n",
      "ugly\n",
      "education\n"
     ]
    }
   ],
   "source": [
    "# Find the excess word in the sequence\n",
    "print model.doesnt_match([\"breakfast\", \"cereal\", \"dinner\", \"lunch\"])\n",
    "\n",
    "print model.doesnt_match(\"good fine ugly wonderfull\".split())\n",
    "\n",
    "# And more difficult variant\n",
    "print model.doesnt_match(\"theory study education science\".split())"
   ]
  },
  {
   "cell_type": "code",
   "execution_count": 69,
   "metadata": {
    "collapsed": false
   },
   "outputs": [
    {
     "name": "stdout",
     "output_type": "stream",
     "text": [
      "0.64284405568\n",
      "0.309001255601\n",
      "0.0875828772445\n"
     ]
    }
   ],
   "source": [
    "# Get the measure of similarity of two words\n",
    "print model.similarity('woman', 'man')\n",
    "\n",
    "print model.similarity('beautiful', 'ugly')\n",
    "\n",
    "print model.similarity('leave', 'leaf')"
   ]
  },
  {
   "cell_type": "markdown",
   "metadata": {},
   "source": [
    "Since each word is a vector in 100-dimensional space, we can use vector operations to combine the words in each review. One method we tried was to simply average the word vectors in a given review or in some sentence (for this purpose, we removed stop words, which would just add noise)."
   ]
  },
  {
   "cell_type": "code",
   "execution_count": 208,
   "metadata": {
    "collapsed": false
   },
   "outputs": [
    {
     "name": "stdout",
     "output_type": "stream",
     "text": [
      "dog\n",
      "ate\n",
      "cat\n",
      "hat\n",
      "[-0.09095511 -0.04846448 -0.10002293 -0.11951892]\n"
     ]
    }
   ],
   "source": [
    "def transform_word_to_matrix(model, sentence):\n",
    "    l = []\n",
    "    for word in sentence.lower().split():\n",
    "        try:\n",
    "            l.append(model[word])\n",
    "            print word\n",
    "        except:\n",
    "            pass\n",
    "    return np.array(l)\n",
    "\n",
    "def get_agg_vector(model, sentence):\n",
    "    word_array = transform_word_to_matrix(model, sentence)\n",
    "    return word_array.mean(axis=1)\n",
    "\n",
    "print get_agg_vector(model, \"The dog ate the cat and the hat\")"
   ]
  },
  {
   "cell_type": "markdown",
   "metadata": {},
   "source": [
    "This representation of sentence (the average vectors) can be uses in a machine learning algorithm. \n",
    "\n",
    "At the end let's provide a simple example how we can visuaize obtained results and build a tree of a two levels hierarchy of most similar words: "
   ]
  },
  {
   "cell_type": "code",
   "execution_count": 143,
   "metadata": {
    "collapsed": false
   },
   "outputs": [
    {
     "name": "stdout",
     "output_type": "stream",
     "text": [
      "[u'planet', u'aliens', u'comet', u'mankind', u'mars']\n"
     ]
    },
    {
     "data": {
      "image/png": "[encoded data removed]",
      "text/plain": [
       "<matplotlib.figure.Figure at 0x16e18230>"
      ]
     },
     "metadata": {},
     "output_type": "display_data"
    }
   ],
   "source": [
    "import networkx as nx\n",
    "import matplotlib.pyplot as plt\n",
    "%matplotlib inline\n",
    "\n",
    "# Set plot size\n",
    "plt.rcParams['figure.figsize'] = (17, 12)\n",
    "\n",
    "# Recursive function allowing to draw a tree using NetworkX\n",
    "def hierarchy_pos(G, root, width=1., vert_gap = 0.2, vert_loc = 0, xcenter = 0.5, \n",
    "                  pos = None, parent = None):\n",
    "    '''If there is a cycle that is reachable from root, then this will see infinite recursion.\n",
    "       G: the graph\n",
    "       root: the root node of current branch\n",
    "       width: horizontal space allocated for this branch - avoids overlap with other branches\n",
    "       vert_gap: gap between levels of hierarchy\n",
    "       vert_loc: vertical location of root\n",
    "       xcenter: horizontal location of root\n",
    "       pos: a dict saying where all nodes go if they have been assigned\n",
    "       parent: parent of this branch.'''\n",
    "    if pos == None:\n",
    "        pos = {root:(xcenter,vert_loc)}\n",
    "    else:\n",
    "        pos[root] = (xcenter, vert_loc)\n",
    "    neighbors = G.neighbors(root)\n",
    "    if parent != None:\n",
    "        neighbors.remove(parent)\n",
    "    if len(neighbors)!=0:\n",
    "        dx = width/len(neighbors) \n",
    "        nextx = xcenter - width/2 - dx/2\n",
    "        for neighbor in neighbors:\n",
    "            nextx += dx\n",
    "            pos = hierarchy_pos(G,neighbor, width = dx, vert_gap = vert_gap, \n",
    "                                vert_loc = vert_loc-vert_gap, xcenter=nextx, pos=pos, \n",
    "                                parent = root)\n",
    "    return pos\n",
    "\n",
    "# Create a new graph instance\n",
    "G=nx.Graph()\n",
    "\n",
    "# Define the first 5 most similar words\n",
    "main_word = 'earth'\n",
    "top5 = model.most_similar(main_word, topn=5)\n",
    "top5_words = map(lambda x: x[0], top5)\n",
    "print top5_words\n",
    "\n",
    "# To miss repetitions we will remind unique words\n",
    "unique = [i for i in top5_words]\n",
    "for word in top5_words:\n",
    "    G.add_edge(main_word, word)\n",
    "    for subword in model.most_similar(word, topn=3):\n",
    "        if subword[0] not in unique and subword[0] != main_word:\n",
    "            G.add_edge(word, subword[0])\n",
    "            unique.append(subword[0])\n",
    "\n",
    "        \n",
    "pos = hierarchy_pos(G, main_word)    \n",
    "nx.draw(G, pos=pos, with_labels=True, node_size=5000)\n",
    "\n",
    "plt.show()"
   ]
  },
  {
   "cell_type": "markdown",
   "metadata": {},
   "source": []
  }
 ],
 "metadata": {
  "kernelspec": {
   "display_name": "Python 3",
   "language": "python",
   "name": "python3"
  },
  "language_info": {
   "codemirror_mode": {
    "name": "ipython",
    "version": 3
   },
   "file_extension": ".py",
   "mimetype": "text/x-python",
   "name": "python",
   "nbconvert_exporter": "python",
   "pygments_lexer": "ipython3",
   "version": "3.5.2"
  }
 },
 "nbformat": 4,
 "nbformat_minor": 0
}
