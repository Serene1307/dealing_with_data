{
 "cells": [
  {
   "cell_type": "markdown",
   "metadata": {},
   "source": [
    "---\n",
    "<center><u><h1>Selenium</h1></u></center>\n",
    "---\n",
    "\n",
    "---"
   ]
  },
  {
   "cell_type": "markdown",
   "metadata": {},
   "source": [
    "Selenium is a portable software-testing framework for web applications. Selenium provides a record/playback tool for authoring tests without the need to learn a test scripting language (Selenium IDE). It also provides a test domain-specific language (Selenese) to write tests in a number of popular programming languages, including C#, Groovy, Java, Perl, PHP, Python, Ruby and Scala. The tests can then run against most modern web browsers. Selenium deploys on Windows, Linux, and OS X platforms. It is open-source software, released under the Apache 2.0 license: web developers can download and use it without charge."
   ]
  },
  {
   "cell_type": "markdown",
   "metadata": {},
   "source": [
    "## Setup\n",
    "\n",
    "First you have to set up python bindings for Selenium.\n",
    "Install it with pip\n",
    "\n",
    "```\n",
    "pip install selenium\n",
    "```\n",
    "\n",
    "Now you have to download Selenium driver for your browser. We'll assume that you are using Firefox. But for any other browser the process will be similar.\n",
    "\n",
    "* Go to [here](https://github.com/mozilla/geckodriver/releases).\n",
    "* Scroll down to downloads section and pick the right package for your system.\n",
    "![alt text](images/1.jpg)\n",
    "* Unarchive the downloaded file to somewhere on your computer. Say, to your user's home folder. So file should be located in ~/geckodriver\n",
    "* Now you have to set the path to this driver.\n",
    "```\n",
    "export PATH=$PATH:~/geckodriver\n",
    "```\n",
    "* And launch jupyter notebook again\n",
    "```\n",
    "jupyter notebook\n",
    "```\n",
    "If you use a different Browser, take a look on these links.\n",
    "\n",
    "* [Google Chrome](https://sites.google.com/a/chromium.org/chromedriver/getting-started/)\n",
    "* [Internet Explorer](https://github.com/SeleniumHQ/selenium/wiki/InternetExplorerDriver)\n",
    "\n",
    "\n"
   ]
  },
  {
   "cell_type": "markdown",
   "metadata": {},
   "source": [
    "Let's now take a look on a very simple Selenium example. It will open Firefox browser, go to Python website, just wait 10 seconds and then close the browser.\n",
    "\n",
    "For any other browser refer to [this](http://selenium-python.readthedocs.io/api.html) page."
   ]
  },
  {
   "cell_type": "code",
   "execution_count": null,
   "metadata": {
    "collapsed": true
   },
   "outputs": [],
   "source": [
    "# First import our dependencies\n",
    "from selenium import webdriver\n",
    "import time"
   ]
  },
  {
   "cell_type": "code",
   "execution_count": null,
   "metadata": {
    "collapsed": false
   },
   "outputs": [],
   "source": [
    "# Create instance of Firefox WebDriver\n",
    "driver = webdriver.Firefox()\n",
    "# Navigate to Python website.\n",
    "driver.get(\"http://www.python.org\")\n",
    "# Wait 10 seconds\n",
    "time.sleep(10)\n",
    "# Close browser\n",
    "driver.quit()"
   ]
  },
  {
   "cell_type": "markdown",
   "metadata": {},
   "source": [
    "# Scraping TripAdvisor\n",
    "TripAdvisor offers advice from millions of travelers, with 435 million reviews and opinions covering 6.8 million accommodations, restaurants and attractions, and a wide variety of travel choices and planning features -- checking more than 200 websites to help travelers find and book today's lowest hotel prices. TripAdvisor branded sites make up the largest travel community in the world, reaching 390 million average monthly unique visitors* in 49 markets worldwide. \n",
    "\n",
    "Now we want to scrape the [TripAdvisor](https://www.tripadvisor.com/) website. Especially the [list of hotels](https://www.tripadvisor.com/Hotels) for few specific cities. We want to pick only the cities from the US and Canada which start with 'L' or 'N', these will be Las Vegas, Los Angeles, New Orleans and New York.\n",
    "![alt text](images/2.jpg)\n",
    "\n",
    "Now, let's create our Firefox driver, and navigate to TripAdvisor Hotels webpage."
   ]
  },
  {
   "cell_type": "code",
   "execution_count": null,
   "metadata": {
    "collapsed": false
   },
   "outputs": [],
   "source": [
    "# Create Firefox driver\n",
    "driver = webdriver.Firefox()\n",
    "# Go to webpage\n",
    "driver.get(\"https://www.tripadvisor.com/Hotels\")"
   ]
  },
  {
   "cell_type": "markdown",
   "metadata": {},
   "source": [
    "Now, we need to select this exact list on the page without anything else. To do so, you need a way to select this element somehow. You need to open Inspector in the Developer Tools, to be able to find the class name.\n",
    "\n",
    "## Firefox\n",
    "\n",
    "* Click the menu button\n",
    "* Click the Developer button\n",
    "![alt text](images/3.jpg)\n",
    "* Click the Inspector button\n",
    "![alt text](images/4.jpg)\n",
    "\n",
    "\n",
    "* Selection of objects in Firefox is simple, take a look at this animation:\n",
    "![alt text](images/ff_howto.gif)\n",
    "\n",
    "## Google Chrome\n",
    "\n",
    "The steps are similar.\n",
    "* Click Menu button\n",
    "* Hover More tools\n",
    "* Click Developer tools\n",
    "![alt text](images/5.jpg)\n",
    "* Click Elements\n",
    "![alt text](images/6.jpg)\n",
    "\n",
    "\n",
    "* Chrome howto animation:\n",
    "![alt text](images/chrome_howto.gif)\n",
    "\n",
    "Now you need to find the class of required element.\n",
    "![alt text](images/7.jpg)\n",
    "<img src=\"images/8.jpg\" style=\"width:50%\"/>"
   ]
  },
  {
   "cell_type": "markdown",
   "metadata": {},
   "source": [
    "We can select wanted element by it's class name using `find_element_by_class_name` method of our `driver`. There are a few ways of selecting elements with Selenium which we will use in this lesson. For further info go to [this page](http://selenium-python.readthedocs.io/locating-elements.html)."
   ]
  },
  {
   "cell_type": "code",
   "execution_count": null,
   "metadata": {
    "collapsed": false
   },
   "outputs": [],
   "source": [
    "# Put name of class below, replacing spaces by dots\n",
    "# box typeA deals region wrap => box.typeA.deals.region.wrap\n",
    "content = driver.find_element_by_class_name('box.typeA.deals.region.wrap')\n",
    "print(content.text)"
   ]
  },
  {
   "cell_type": "markdown",
   "metadata": {},
   "source": [
    "Here we will take all the text from our element. It is a list of all entries from the element, but it also includes unwanted entries like\n",
    "```Hotels in Popular Destinations - Find Hotels & Motels Near You,\n",
    "United States & Canada,\n",
    "Europe,\n",
    "Amsterdam Hotels,\n",
    "...```\n",
    "\n",
    "So we can slice our list selecting the start of wanted entries, and it's end."
   ]
  },
  {
   "cell_type": "code",
   "execution_count": null,
   "metadata": {
    "collapsed": false
   },
   "outputs": [],
   "source": [
    "hotels = content.text.split(\"\\n\")\n",
    "start = hotels.index('Atlanta Hotels')\n",
    "end = hotels.index('Europe')"
   ]
  },
  {
   "cell_type": "markdown",
   "metadata": {},
   "source": [
    "Now we create a new list for links, filtering out all unwanted entries, leaving only those, which start with 'N' or 'L'."
   ]
  },
  {
   "cell_type": "code",
   "execution_count": null,
   "metadata": {
    "collapsed": false
   },
   "outputs": [],
   "source": [
    "city_links = []\n",
    "# Find all <a> elements and loop through them\n",
    "for elem in content.find_elements_by_xpath(\".//a\")[start:end]: \n",
    "    # If name of element starts with 'N' or 'L'\n",
    "    if elem.text.lower().startswith('n') or elem.text.lower().startswith('l'):\n",
    "        # Cut name of hotel from string\n",
    "        name = elem.text.split('Hotels')[0].strip()\n",
    "        # Add element to list of links\n",
    "        city_links.append((name,elem.get_attribute('href')))\n",
    "\n",
    "print(\"city_links:\")        \n",
    "print(city_links)"
   ]
  },
  {
   "cell_type": "markdown",
   "metadata": {},
   "source": [
    "This scraping process for each city can be broken into such steps.\n",
    "* Load page with hotels for a city.\n",
    "* Pick dates.\n",
    "* Click sorting button.\n",
    "* Scrape links for hotels on page.\n",
    "* Click Next button.\n",
    "* Repeat. Scrape links...\n"
   ]
  },
  {
   "cell_type": "markdown",
   "metadata": {},
   "source": [
    "We use the `time.sleep()` function to ensure that page is reloaded properly after clicks. If you have slow Internet connection or in case you experience any exceptions, first try increasing `sleep_time`."
   ]
  },
  {
   "cell_type": "code",
   "execution_count": null,
   "metadata": {
    "collapsed": true
   },
   "outputs": [],
   "source": [
    "# 5 seconds\n",
    "sleep_time = 5"
   ]
  },
  {
   "cell_type": "markdown",
   "metadata": {},
   "source": [
    "First we will take a look on the process for one city. Then we will wrap everything into a single piece of code.\n",
    "## Load Page"
   ]
  },
  {
   "cell_type": "code",
   "execution_count": null,
   "metadata": {
    "collapsed": false
   },
   "outputs": [],
   "source": [
    "# Load page for first city\n",
    "driver.get(city_links[0][1])"
   ]
  },
  {
   "cell_type": "markdown",
   "metadata": {},
   "source": [
    "Sometimes there is a popup.\n",
    "![alt text](images/9.jpg)\n",
    "It will prevent everything from working.<br> So we need to close it with X button.\n",
    "![alt text](images/10.jpg)"
   ]
  },
  {
   "cell_type": "code",
   "execution_count": null,
   "metadata": {
    "collapsed": true
   },
   "outputs": [],
   "source": [
    "# It is wrapped in try-except block in case there is no such popup\n",
    "try:\n",
    "    driver.find_element_by_class_name(\"ui_close_x\").click()\n",
    "except:\n",
    "    pass"
   ]
  },
  {
   "cell_type": "markdown",
   "metadata": {},
   "source": [
    "## Set dates\n",
    "We have to set up dates if we want TripAdvisor to show us average prices.\n",
    "![alt text](images/11.jpg)\n",
    "Well select today as check-in date, and a date two weeks later as the check-out date.\n",
    "![alt text](images/12.jpg)\n",
    "There is a bug on TripAdvisor, all dates are shifted one month.\n",
    "![alt text](images/13.jpg)"
   ]
  },
  {
   "cell_type": "markdown",
   "metadata": {},
   "source": [
    "Here we define two functions. The first one will click on specific date. And the second one will calculate the dates, and fill them in."
   ]
  },
  {
   "cell_type": "code",
   "execution_count": null,
   "metadata": {
    "collapsed": true
   },
   "outputs": [],
   "source": [
    "from datetime import datetime, timedelta\n",
    "\n",
    "# This function will click on the specific date in calendar\n",
    "def click_date(date):\n",
    "    months = driver.find_element_by_class_name('dsdc-months.large-bottom-margin')\n",
    "    # Loop through all days in month, untill we find two-weeks-later date\n",
    "    for day in months.find_elements_by_class_name(\"dsdc-cell.dsdc-day\"):\n",
    "        if str(day.get_attribute('data-date')) == date:\n",
    "            # Click that day\n",
    "            day.click()\n",
    "            break\n",
    "\n",
    "# This function will select date pickers, and fill both of them\n",
    "def set_dates(date_picker):    \n",
    "    # Date for today    \n",
    "    today = datetime.now().date()\n",
    "    # There is a strange feature on TripAdvisor website, the months are shifted\n",
    "    str_today = str(today.year) + \"-\" + str(today.month - 1) + \"-\" + str(today.day)\n",
    "    # Delta is the shift. Two weeks = 14 days in our casemik\n",
    "    delta = timedelta(days=14)\n",
    "    # Date two weeks later\n",
    "    tw_later = today + delta\n",
    "    str_tw_later = str(tw_later.year) + \"-\" + str(tw_later.month - 1) + \"-\" + str(tw_later.day)\n",
    "    \n",
    "    # Find date picker fields, there are two.\n",
    "    pickers = date_picker.find_elements_by_class_name('picker-label')    \n",
    "    # Click the first field    \n",
    "    pickers[0].click()\n",
    "    # Set date\n",
    "    click_date(str_today)    \n",
    "    # Second one\n",
    "    pickers[1].click()    \n",
    "    click_date(str_tw_later)"
   ]
  },
  {
   "cell_type": "markdown",
   "metadata": {},
   "source": [
    "Here we find our pickers on the page using `find_elements_by_class_name` function. And then fill the values in. We'll select the element with date pickers.\n",
    "![alt text](images/14.jpg)"
   ]
  },
  {
   "cell_type": "code",
   "execution_count": null,
   "metadata": {
    "collapsed": false
   },
   "outputs": [],
   "source": [
    "# Find the data picker square\n",
    "date_picker = driver.find_element_by_class_name(\"prw_rup.prw_datepickers_desktop_horizontal_styleguide_icon.hotels_static_datepickers\")\n",
    "# Fill in dates\n",
    "set_dates(date_picker)"
   ]
  },
  {
   "cell_type": "markdown",
   "metadata": {},
   "source": [
    "After date picking this part will look like this.\n",
    "![alt text](images/15.jpg)\n",
    "## Click sorting button\n",
    "\n",
    "Here we will sort all the hotels by Lowest Price. First we will select the bar with buttons. \n",
    "![alt text](images/17.jpg)\n",
    "Then we will select the necessary button, and make Selenium to 'Click' on it. This will change the sorting. Here we use CSS Selectors, for more info on them, refer to this [page](http://saucelabs.com/resources/articles/selenium-tips-css-selectors)."
   ]
  },
  {
   "cell_type": "markdown",
   "metadata": {},
   "source": [
    "Clicking the button makes structure of HTML to change, pay attention to class names.\n",
    "\n",
    "**Before**\n",
    "\n",
    "You can see, that the `data-currentsort = \"popularity\"` is selected.\n",
    "![alt text](images/18.jpg)\n",
    "\n",
    "**After**\n",
    "\n",
    "Here the `data-currentsort = \"priceLow\"` becomes selected.\n",
    "![alt text](images/19.jpg)"
   ]
  },
  {
   "cell_type": "code",
   "execution_count": null,
   "metadata": {
    "collapsed": false
   },
   "outputs": [],
   "source": [
    "time.sleep(sleep_time)\n",
    "# Find Sortbar that looks like\n",
    "# Sort by: Ranking | Just for You | Lowest Price | Distance\n",
    "sort_bar = driver.find_element_by_id('taplc_hotels_sort_bar_redesign_0')\n",
    "# Find the 'Lowest Price' button\n",
    "# Using CSS selector, we select 4th <li> tag\n",
    "# And click on it\n",
    "sort_bar.find_element_by_css_selector('li:nth-of-type(4)').click()\n",
    "# Wait for page to reload completely after click\n",
    "time.sleep(sleep_time)"
   ]
  },
  {
   "cell_type": "markdown",
   "metadata": {},
   "source": [
    "## Scrape all hotels on the page\n",
    "Define a function, that will return links for all hotels."
   ]
  },
  {
   "cell_type": "code",
   "execution_count": null,
   "metadata": {
    "collapsed": false
   },
   "outputs": [],
   "source": [
    "# This function will scrape links for all hotels on a page.\n",
    "def scrape_hotels_on_page(element):\n",
    "    linklist = []\n",
    "    links = element.find_elements_by_class_name('property_title ')\n",
    "    for link in links:\n",
    "        linklist.append(link.get_attribute('href'))\n",
    "    return linklist"
   ]
  },
  {
   "cell_type": "markdown",
   "metadata": {},
   "source": [
    "We need to select list of hotels. We'll select the element by it's ID.\n",
    "![alt text](images/18.jpg)"
   ]
  },
  {
   "cell_type": "code",
   "execution_count": null,
   "metadata": {
    "collapsed": false
   },
   "outputs": [],
   "source": [
    "# Find the div element with all hotels list\n",
    "hotel_list_on_page = driver.find_element_by_id('ACCOM_OVERVIEW')\n",
    "# Scrape links for hotels on page\n",
    "# Take a look on first three of them\n",
    "scrape_hotels_on_page(hotel_list_on_page)[:3]"
   ]
  },
  {
   "cell_type": "markdown",
   "metadata": {},
   "source": [
    "So, we've got a list of links as a result.\n",
    "## Click Next button and Repeat \n",
    "We want to get through all available pages for the city, scraping hotels on each page. So we'll need to click on 'Next' button a few times in a loop. The button located at the bottom of the page.\n",
    "![alt text](images/21.jpg)\n",
    "Let's implement this."
   ]
  },
  {
   "cell_type": "code",
   "execution_count": null,
   "metadata": {
    "collapsed": false
   },
   "outputs": [],
   "source": [
    "all_links = []\n",
    "while True:\n",
    "    # Find the div element with all hotels list\n",
    "    hotel_list_on_page = driver.find_element_by_id('ACCOM_OVERVIEW')\n",
    "    # Scrape links for hotels on page\n",
    "    all_links.extend(scrape_hotels_on_page(hotel_list_on_page))\n",
    "    # Try except block is used to break the cycle, when there\n",
    "    # is no more such Button (it'll turn to inactive actually)\n",
    "    try: \n",
    "        # Here we want to click on Next button\n",
    "        driver.find_element_by_class_name('nav.next.ui_button.primary.taLnk').click()\n",
    "        # Wait for page to reload completely after click\n",
    "        time.sleep(sleep_time)\n",
    "    except:\n",
    "        break"
   ]
  },
  {
   "cell_type": "markdown",
   "metadata": {},
   "source": [
    "## Scrape information for each hotel\n",
    "We'll scrape information from this part of page.\n",
    "![alt text](images/22.jpg)\n",
    "Specificly, these fields:\n",
    "\n",
    "![alt text](images/23.jpg)\n",
    "\n",
    "![alt text](images/24.jpg)\n"
   ]
  },
  {
   "cell_type": "markdown",
   "metadata": {},
   "source": [
    "Define a function, that will scrape info for a hotel. It will return scraped info in form of a dictionary."
   ]
  },
  {
   "cell_type": "code",
   "execution_count": null,
   "metadata": {
    "collapsed": false
   },
   "outputs": [],
   "source": [
    "def scrape_hotel(link):\n",
    "        # Load hotel's webpage\n",
    "        driver.get(link)\n",
    "        # Heading part\n",
    "        head = driver.find_element_by_class_name('headingWrapper.easyClear')\n",
    "        # Select all the necessary information on a webpage\n",
    "        name = head.find_element_by_id('HEADING').text\n",
    "        # Here all the try-except wrappings are used for cases,\n",
    "        # when the field we want to select is not present on the page\n",
    "        # like, if there is no price, or hotel is not reviewed even once.\n",
    "        try:\n",
    "            rating = head.find_element_by_class_name('ui_bubble_rating').get_attribute('alt')\n",
    "            rating = float(rating.split()[0])\n",
    "        except:\n",
    "            rating = '0'\n",
    "        try:\n",
    "            reviews = head.find_element_by_class_name(\"more.taLnk\").text\n",
    "            reviews = float(reviews.split()[0].replace(',',''))\n",
    "        except:\n",
    "            reviews = '0'\n",
    "        try:\n",
    "            pos_in_hotels = head.find_element_by_class_name('rank').text\n",
    "            pos_in_hotels = float(pos_in_hotels[1:])\n",
    "        except:\n",
    "            pos_in_hotels = '#0'\n",
    "        try:\n",
    "            price = head.find_element_by_class_name('price').text\n",
    "            price = float(price.split(\" \")[1].replace(',',''))\n",
    "        except:\n",
    "            price = '0'\n",
    "        address = head.find_element_by_class_name('format_address').text\n",
    "        # Put all the information to the dictionary\n",
    "        return {'name' : name,\n",
    "                'rating': rating,\n",
    "                'reviews': reviews,\n",
    "                'position': pos_in_hotels,\n",
    "                'address': address,\n",
    "                'price': price}           "
   ]
  },
  {
   "cell_type": "markdown",
   "metadata": {},
   "source": [
    "Since there are a lot of hotels, it's going to take long time to load everything. For now, let's limit with 5 hotels."
   ]
  },
  {
   "cell_type": "code",
   "execution_count": null,
   "metadata": {
    "collapsed": false
   },
   "outputs": [],
   "source": [
    "hotels_dict = []\n",
    "# Limit of hotels\n",
    "limit = 5\n",
    "count = 0\n",
    "for link in all_links:\n",
    "    hotels_dict.append(scrape_hotel(link))\n",
    "    count += 1\n",
    "    if count == limit:\n",
    "        break"
   ]
  },
  {
   "cell_type": "code",
   "execution_count": null,
   "metadata": {
    "collapsed": false
   },
   "outputs": [],
   "source": [
    "# Close Firefox\n",
    "driver.quit()"
   ]
  },
  {
   "cell_type": "code",
   "execution_count": null,
   "metadata": {
    "collapsed": false
   },
   "outputs": [],
   "source": [
    "# Take a look on results\n",
    "hotels_dict"
   ]
  },
  {
   "cell_type": "markdown",
   "metadata": {},
   "source": [
    "## Put it all together\n",
    "Now let's make it all work together, so we will scrape all info for all the hotels for all cities we want. Please, be aware, that the full process will take **awhile**. We will limit hotels count with 15, to save time.\n",
    "\n"
   ]
  },
  {
   "cell_type": "code",
   "execution_count": null,
   "metadata": {
    "collapsed": false
   },
   "outputs": [],
   "source": [
    "# Limit of hotels\n",
    "limit = 15\n",
    "\n",
    "# Create Firefox Driver\n",
    "driver = webdriver.Firefox()\n",
    "\n",
    "#Dictionary to store our results\n",
    "city_hotel = {}\n",
    "\n",
    "# We'll reuse city_links acquired before, to save some time loading pages\n",
    "for city in city_links:    \n",
    "    \n",
    "    # Load page for city\n",
    "    driver.get(city[1])\n",
    "    \n",
    "    #Let page load properly\n",
    "    time.sleep(sleep_time)    \n",
    "    # Close the popup if it is there.\n",
    "    try:\n",
    "        driver.find_element_by_class_name(\"ui_close_x\").click()\n",
    "    except:\n",
    "        pass\n",
    "   \n",
    "    date_picker = driver.find_element_by_class_name(\"prw_rup.prw_datepickers_desktop_horizontal_styleguide_icon.hotels_static_datepickers\")\n",
    "    # Fill in dates\n",
    "    set_dates(date_picker)\n",
    "    \n",
    "    #Let page load properly\n",
    "    time.sleep(sleep_time)\n",
    "    # Find Sortbar that looks like\n",
    "    # Sort by: Ranking | Just for You | Lowest Price | Distance    \n",
    "    sort_bar = driver.find_element_by_id('taplc_hotels_sort_bar_redesign_0')\n",
    "    # Find the 'Lowest Price' button\n",
    "    # Using CSS selector, we select 4th <li> tag\n",
    "    # And click on it\n",
    "    sort_bar.find_element_by_css_selector('li:nth-of-type(4)').click()\n",
    "    # Wait for page to reload completely after click\n",
    "    time.sleep(sleep_time)\n",
    "    \n",
    "    all_links = []    \n",
    "    while True:\n",
    "        # Wait for page to reload completely after click\n",
    "        time.sleep(sleep_time)\n",
    "        # Find the div element with all hotels list\n",
    "        hotel_list_on_page = driver.find_element_by_id('ACCOM_OVERVIEW')\n",
    "        # Scrape links for hotels on page\n",
    "        all_links.extend(scrape_hotels_on_page(hotel_list_on_page))\n",
    "        # Try except block is used to break the cycle, when there\n",
    "        # is no more such Button (it'll turn to inactive actually)\n",
    "        try: \n",
    "            # Here we want to click on Next button\n",
    "            driver.find_element_by_class_name('nav.next.ui_button.primary.taLnk').click()\n",
    "        except:\n",
    "            break\n",
    "            \n",
    "    hotels_dict = []\n",
    "    # Limit of hotels\n",
    "    count = 0\n",
    "    for link in all_links:\n",
    "        hotels_dict.append(scrape_hotel(link))\n",
    "        count += 1\n",
    "        if count == limit:\n",
    "            break\n",
    "            \n",
    "    # Insert data for City to the dictionary\n",
    "    city_hotel[city[0]] = hotels_dict"
   ]
  },
  {
   "cell_type": "code",
   "execution_count": null,
   "metadata": {
    "collapsed": false
   },
   "outputs": [],
   "source": [
    "# Close Firefox\n",
    "driver.quit()"
   ]
  },
  {
   "cell_type": "markdown",
   "metadata": {},
   "source": [
    "Now we can take a look on results."
   ]
  },
  {
   "cell_type": "code",
   "execution_count": null,
   "metadata": {
    "collapsed": false
   },
   "outputs": [],
   "source": [
    "city_hotel"
   ]
  },
  {
   "cell_type": "markdown",
   "metadata": {},
   "source": [
    "So, now we have all this information, let's save this data to JSON file, so we can use it without any need to scrape TripAdvisor website again."
   ]
  },
  {
   "cell_type": "code",
   "execution_count": null,
   "metadata": {
    "collapsed": true
   },
   "outputs": [],
   "source": [
    "import json"
   ]
  },
  {
   "cell_type": "code",
   "execution_count": null,
   "metadata": {
    "collapsed": false
   },
   "outputs": [],
   "source": [
    "# Open file for writing, create if it doesnt exist\n",
    "with open('hotels_data.json', 'w') as file_object:\n",
    "    # Write data to file\n",
    "    json.dump(city_hotel, file_object)"
   ]
  },
  {
   "cell_type": "code",
   "execution_count": null,
   "metadata": {
    "collapsed": false
   },
   "outputs": [],
   "source": [
    "# Open file for reading\n",
    "with open('hotels_data.json','r') as f_obj:\n",
    "    # Read the file.\n",
    "    city_hotel_file = json.load(f_obj)"
   ]
  },
  {
   "cell_type": "markdown",
   "metadata": {},
   "source": [
    "Let's add some visualizations for our data. Let's make a couple of plots.\n",
    "First we have to prepare our data. We want to sort them according to their position in rating. We'll use [`operator`](https://docs.python.org/2/library/operator.html) package, specificly [`operator.itemgetter`](https://docs.python.org/2/library/operator.html#operator.itemgetter)."
   ]
  },
  {
   "cell_type": "code",
   "execution_count": null,
   "metadata": {
    "collapsed": false
   },
   "outputs": [],
   "source": [
    "import operator\n",
    "\n",
    "# Take hotels which are in New York City\n",
    "nyc_hotels = city_hotel_file['New York City']\n",
    "# Sort hotels by their position in rating\n",
    "city_hotel_by_rating = sorted(nyc_hotels, key = operator.itemgetter('position'))\n",
    "# Names of hotels\n",
    "names = [item['name'] for item in city_hotel_by_rating]\n",
    "# Their positions\n",
    "hotels_pos = [item['position'] for item in city_hotel_by_rating]\n",
    "# Ratios of rating to reviews count\n",
    "ratios = [item['rating'] / item['reviews'] for item in city_hotel_by_rating]\n",
    "# Prices\n",
    "prices = [item['price'] for item in city_hotel_by_rating]\n",
    "# Ticks for plot \" name number\"\n",
    "ticks = list(map(lambda x,y: \"{} ({})\".format(x, int(y)), names, hotels_pos))"
   ]
  },
  {
   "cell_type": "markdown",
   "metadata": {},
   "source": [
    "Now we'll draw a Plot with **Prices** and **Ratio of rating to reviews' count** for each hotel. To do so, we'll use `matplotlib`'s [`two scales`](http://matplotlib.org/examples/api/two_scales.html) plot."
   ]
  },
  {
   "cell_type": "code",
   "execution_count": null,
   "metadata": {
    "collapsed": false
   },
   "outputs": [],
   "source": [
    "%matplotlib inline\n",
    "import matplotlib.pyplot as plt\n",
    "\n",
    "fig, ax1 = plt.subplots()\n",
    "# Draw a line for ratios\n",
    "x = range(len(hotels_pos))\n",
    "plt.plot(x, ratios, 'g.-')\n",
    "# Name Y-axis\n",
    "plt.ylabel('rating / reviews', color='g', fontsize=12)\n",
    "# Name these ticks with names of hotels\n",
    "plt.xticks(x, ticks, rotation=30, fontsize=11)\n",
    "# Create a twin Axes sharing the x-axis\n",
    "ax2 = plt.twinx()\n",
    "ax2.plot(x, prices, 'r.-')\n",
    "ax2.set_ylabel('price', color='r', fontsize=12)\n",
    "# Make this plot fit the area\n",
    "fig.set_size_inches(12, 6)\n",
    "plt.tight_layout()\n",
    "plt.show()"
   ]
  },
  {
   "cell_type": "markdown",
   "metadata": {},
   "source": [
    "Now, lets find New York's closest city to Empire State Building.\n",
    "To do so, we are going to use `geopy` package.\n",
    "Install it with\n",
    "\n",
    "```\n",
    "pip install geopy\n",
    "```\n",
    "Documentation for `geopy` could be found [here](https://geopy.readthedocs.io/en/1.10.0/).\n",
    "We'll use [GoogleV3](https://geopy.readthedocs.io/en/1.10.0/#geopy.geocoders.GoogleV3) geocoder.\n",
    "Let's take a look at simple example."
   ]
  },
  {
   "cell_type": "code",
   "execution_count": null,
   "metadata": {
    "collapsed": false
   },
   "outputs": [],
   "source": [
    "import geopy\n",
    "google_geolocator = geopy.geocoders.GoogleV3(timeout=3)\n",
    "esb_loc = google_geolocator.geocode(\"Empire State Building\")\n",
    "# To get location's latitude and longitude\n",
    "print(esb_loc.latitude)\n",
    "print(esb_loc.longitude)"
   ]
  },
  {
   "cell_type": "markdown",
   "metadata": {},
   "source": [
    "Now let's fetch GPS coordinates for all hotels in our list for New York."
   ]
  },
  {
   "cell_type": "code",
   "execution_count": null,
   "metadata": {
    "collapsed": false
   },
   "outputs": [],
   "source": [
    "# Dictionary to store results\n",
    "gps_coords = {}\n",
    "for hotel in nyc_hotels:\n",
    "    # Query Google for data\n",
    "    loc = google_geolocator.geocode(hotel['address'])\n",
    "    # Add to dictionary\n",
    "    gps_coords[hotel['name']] = (loc.latitude, loc.longitude)\n",
    "# Take a look at results\n",
    "print(gps_coords)"
   ]
  },
  {
   "cell_type": "markdown",
   "metadata": {},
   "source": [
    "Lets calculate distance from each hotel to Empire State Building using [`vincenty`](https://geopy.readthedocs.io/en/1.10.0/#module-geopy.distance) distance."
   ]
  },
  {
   "cell_type": "code",
   "execution_count": null,
   "metadata": {
    "collapsed": false
   },
   "outputs": [],
   "source": [
    "from geopy.distance import vincenty\n",
    "dists = {}\n",
    "for key, value in gps_coords.items():\n",
    "    dists[key] = vincenty((esb_loc.latitude, esb_loc.longitude), value).miles\n",
    "\n",
    "# Sort hotels by distance from Empire State Building, descending\n",
    "dists = sorted(dists.items(), key = operator.itemgetter(1), reverse = True)\n",
    "dists"
   ]
  },
  {
   "cell_type": "markdown",
   "metadata": {},
   "source": [
    "Now let's make a simple bar plot to visualize these distances."
   ]
  },
  {
   "cell_type": "code",
   "execution_count": null,
   "metadata": {
    "collapsed": false
   },
   "outputs": [],
   "source": [
    "# Values\n",
    "vals = [d[1] for d in dists]\n",
    "plt.bar(range(0,5), vals, align=\"center\", color=\"#A2C5B6\")\n",
    "# Labels\n",
    "plt.xticks(range(0,5), vals, rotation=\"vertical\")\n",
    "plt.ylabel(\"Distance, miles\")\n",
    "plt.show()"
   ]
  },
  {
   "cell_type": "markdown",
   "metadata": {},
   "source": [
    "## Conclusion\n",
    "We've made quite a good job on scraping info from TripAdvisor website. Selenium has shown to be quite useful on emulating behavior of human, to navigate pages. Though it is rather slow, because it requires a lot of refresh, reload cycles. "
   ]
  },
  {
   "cell_type": "markdown",
   "metadata": {
    "collapsed": true
   },
   "source": [
    "> # Exercise 1\n",
    "> Scrape information for all hotels in Paris, which are near to Eiffel Tower. On the [Hotels](https://www.tripadvisor.com/Hotels) page Click Paris. Then, on page with hotels scroll down to Neighborhoods and select Tour Eiffel. \n",
    "![alt text](images/25.jpg)"
   ]
  },
  {
   "cell_type": "code",
   "execution_count": null,
   "metadata": {
    "collapsed": true
   },
   "outputs": [],
   "source": [
    "# write your code here"
   ]
  },
  {
   "cell_type": "markdown",
   "metadata": {},
   "source": [
    "> # Exercise 2\n",
    ">Scrape all the hotels for Atlanta City, but scrape only those which have 4 stars rating.\n",
    "You will need to select the link for Atlanta Hotels on [Hotels](https://www.tripadvisor.com/Hotels) page. Then select hotels with 4 star rating. \n",
    "You have to select the link for Atlanta Hotels, 'click' four stars, and then scrape all links for all hotels. And all info for every hotel.\n"
   ]
  },
  {
   "cell_type": "code",
   "execution_count": null,
   "metadata": {
    "collapsed": true
   },
   "outputs": [],
   "source": [
    "# write your code here"
   ]
  },
  {
   "cell_type": "markdown",
   "metadata": {},
   "source": [
    "> # Exercise 3\n",
    "> Do same thing as in exercise 2, but scrape only hotels with prices lower some level. You'll have to modify function, which scrapes all hotels on a page, that it will first take a look on the prices."
   ]
  },
  {
   "cell_type": "code",
   "execution_count": null,
   "metadata": {
    "collapsed": true
   },
   "outputs": [],
   "source": [
    "# write your code here"
   ]
  }
 ],
 "metadata": {
  "anaconda-cloud": {},
  "kernelspec": {
   "display_name": "Python [conda root]",
   "language": "python",
   "name": "conda-root-py"
  },
  "language_info": {
   "codemirror_mode": {
    "name": "ipython",
    "version": 3
   },
   "file_extension": ".py",
   "mimetype": "text/x-python",
   "name": "python",
   "nbconvert_exporter": "python",
   "pygments_lexer": "ipython3",
   "version": "3.5.2"
  }
 },
 "nbformat": 4,
 "nbformat_minor": 0
}
