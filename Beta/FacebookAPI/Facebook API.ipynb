{
 "cells": [
  {
   "cell_type": "markdown",
   "metadata": {},
   "source": [
    "# Work with Facebook API in Python\n",
    "---\n",
    "\n",
    "---"
   ]
  },
  {
   "cell_type": "markdown",
   "metadata": {},
   "source": [
    "<img src=\"images/logo.png\" width=\"55%\">\n",
    "\n",
    "The Facebook API is a platform for building applications that are available to the members of the social network of [Facebook](https://www.facebook.com/). The API allows applications to use the social connections and profile information to make applications more involving, and to publish activities to the news feed and profile pages of Facebook, subject to individual users privacy settings. With the API, users can add social context to their applications by utilizing profile, friend, page, group, photo, and event data. The API uses RESTful protocol and responses are in JSON format."
   ]
  },
  {
   "cell_type": "markdown",
   "metadata": {},
   "source": [
    "## Register a new application\n",
    "\n",
    "If you do not already have an account with Facebook, go to http://facebook.com and register. You need also register as a Facebook Developer here http://developers.facebook.com by clicking of the \"Register\" button at the right top corner of the page\n",
    "\n",
    "<img src=\"images/app_1.jpg\">\n",
    "\n",
    "After that from http://developer.facebook.com, click on \"My Apps\" at the top of the page to go to the application dashboard or use the link https://developers.facebook.com/apps. The dashboard shows a list of applications that the developer has created. If you haven’t created any applications yet, then the list will be empty. Click the \"Create a New App\" button near the top. Note, you can name your application almost anything, although Facebook does apply a few rules. For example, the name can’t contain the words \"Face\", \"fb\" or \"Book\" (in various register).\n",
    "\n",
    "<img src=\"images/app_2.jpg\">\n",
    "\n",
    "A dialog prompts you to name your application. You are asked to supply an App Namespace. You use the App Namespace to define custom Open Graph actions and as part of the application’s Facebook URL (http://apps.facebook.com/{App_Namespace}). Make sure the App Namespace is longer than 7 characters, contains no capital letters, and is unique among all applications on Facebook.\n",
    "\n",
    "<img src=\"images/app_3.jpg\" width=\"70%\">\n",
    "\n",
    "After you click Continue, Facebook performs a Captcha check to verify that you’re not setting up applications through an automated process. Once you’ve satisfied the verification process, your application is created. The next page you see is your application’s application settings page. \n",
    "\n",
    "<img src=\"images/app_4.jpg\">\n",
    "\n",
    "From the application settings page, you can configure various details about your application. The choices you make here depend on what kind of application you plan to build and what you want your application to do.\n",
    "\n",
    "The main thing to note from the application settings page is the App ID and App Secret near the top. These values are your application’s credentials to Facebook. You need these credentials to do almost anything with Facebook, including going through the OAuth authorization flow and working with Facebook’s Graph API."
   ]
  },
  {
   "cell_type": "markdown",
   "metadata": {},
   "source": [
    "### ACCESS_TOKEN generation\n",
    "\n",
    "An access token is an opaque string that identifies a user, app, or page and can be used by the app to make graph API calls. Access tokens are obtained via a number of methods, each of which are covered later in this document. There are different types of access tokens to support different use cases:\n",
    "\n",
    "* **User Access Token:**\n",
    "\n",
    "The user token is the most commonly used type of token. This kind of access token is needed any time the app calls an API to read, modify or write a specific person's Facebook data on their behalf. User access tokens are generally obtained via a login dialog and require a person to permit your app to obtain one. \n",
    "\n",
    "* **App Access Token:**\n",
    "\n",
    "This kind of access token is needed to modify and read the app settings. It can also be used to publish Open Graph actions. It is generated using a pre-agreed secret between the app and Facebook and is then used during calls that change app-wide settings. You obtain an app access token via a server-to-server call.\n",
    "\n",
    "* **Page Access Token:**\n",
    "\n",
    "These access tokens are similar to user access tokens, except that they provide permission to APIs that read, write or modify the data belonging to a Facebook Page. To obtain a page access token you need to start by obtaining a user access token and asking for the manage_pages permission. Once you have the user access token you then get the page access token via the Graph API.\n",
    "\n",
    "To get access tokens select menu \"Tools & Support\"\n",
    "\n",
    "<img src=\"images/app_5.jpg\">\n",
    "\n",
    "After that you need select \"Access Token Tool\" point in the left panel \"Tools\"\n",
    "\n",
    "<img src=\"images/app_6.jpg\">\n",
    "\n",
    "In the opened window you may see the App Token of your app. But for us it more interesting the User Token. To create it you should click on \"need to grand permission\" link and confirm creation of this token. \n",
    "\n",
    "<img src=\"images/app_7.jpg\">\n",
    "\n",
    "The Graph API is the primary way to get data in and out of Facebook's social graph. It's a low-level HTTP-based API that you can use to query data, post new stories, upload photos and a variety of other tasks that an app might need to do. \n",
    "\n",
    "The Graph API is named after the idea of a 'social graph' - a representation of the information on Facebook composed of:\n",
    "\n",
    "* **nodes** - basically \"things\" such as a User, a Photo, a Page, a Comment;\n",
    "* **edges** - the connections between those \"things\", such as a Page's Photos, or a Photo's Comments;\n",
    "* **fields** - info about those \"things\", such as a person's birthday, or the name of a Page.\n",
    "\n",
    "The Graph API is HTTP based, so it works with any language that has an HTTP library, such as `urllib`, `requests` in Python.\n",
    "\n",
    "> Note, to work with Facebook Graph API you should login!"
   ]
  },
  {
   "cell_type": "code",
   "execution_count": null,
   "metadata": {
    "collapsed": true
   },
   "outputs": [],
   "source": [
    "import requests"
   ]
  },
  {
   "cell_type": "code",
   "execution_count": null,
   "metadata": {
    "collapsed": false
   },
   "outputs": [],
   "source": [
    "# Besides, you may get App Access Token using Python by the following way, for example \n",
    "def get_fb_app_access_token(app_id, app_secret): \n",
    "    \"\"\" \n",
    "    URL general form:\n",
    "    https://graph.facebook.com/oauth/access_token?\n",
    "     client_id={app-id}&\n",
    "     client_secret={app-secret}&\n",
    "     grant_type=client_credentials\n",
    "    \"\"\"\n",
    "    \n",
    "    payload = {'grant_type': 'client_credentials', 'client_id': app_id, 'client_secret': app_secret}\n",
    "    r = requests.post('https://graph.facebook.com/oauth/access_token?', params = payload)\n",
    "    print r.status_code\n",
    "    print r.url\n",
    "    print r.text    \n",
    "    result = r.text.split(\"=\")[1]\n",
    "    return result\n",
    "\n",
    "app_id = \"<YOUR_APP_ID>\"\n",
    "app_secret = \"<YOUR_APP_SECRET>\"\n",
    "\n",
    "# Compare this code with those you see here https://developers.facebook.com/tools/access_token/.\n",
    "print get_fb_app_access_token(app_id, app_secret)"
   ]
  },
  {
   "cell_type": "code",
   "execution_count": null,
   "metadata": {
    "collapsed": true
   },
   "outputs": [],
   "source": [
    "access_token = \"<YOUR_USER_ACCESS_TOKEN>\""
   ]
  },
  {
   "cell_type": "markdown",
   "metadata": {},
   "source": [
    "# 1. Interraction with Facebook API using `requests` Python library "
   ]
  },
  {
   "cell_type": "code",
   "execution_count": null,
   "metadata": {
    "collapsed": false
   },
   "outputs": [],
   "source": [
    "import json\n",
    "from IPython.core.display import HTML\n",
    "\n",
    "# At first let's look at your Facebook id, name, link to page and avatar\n",
    "url_1 = 'https://graph.facebook.com/me?fields=id,name,picture,link&access_token={}'.format(access_token)\n",
    "    \n",
    "r_1 = requests.get(url_1)\n",
    "print r_1.text\n",
    "\n",
    "# Deserialize the response and write back out as pretty-printed JSON\n",
    "print json.dumps(json.loads(r_1.content), indent=1)\n",
    "\n",
    "my_id = json.loads(r_1.content)[\"id\"]\n",
    "print my_id\n",
    "\n",
    "HTML('<p><img src=\"{}\" /></p>'.format(json.loads(r_1.content)[\"picture\"][\"data\"][\"url\"]))"
   ]
  },
  {
   "cell_type": "code",
   "execution_count": null,
   "metadata": {
    "collapsed": false
   },
   "outputs": [],
   "source": [
    "# Get all your friends\n",
    "url_2 = 'https://graph.facebook.com/me?fields=friends&access_token={}'\\\n",
    "        .format(access_token)\n",
    "    \n",
    "r_2 = requests.get(url_2)\n",
    "print json.dumps(json.loads(r_2.content), indent=1)\n",
    "\n",
    "my_friends = json.loads(r_2.content)[\"friends\"][\"data\"]"
   ]
  },
  {
   "cell_type": "code",
   "execution_count": null,
   "metadata": {
    "collapsed": true
   },
   "outputs": [],
   "source": [
    "# Get 10 likes for 10 friends\n",
    "url_3 = 'https://graph.facebook.com/me?fields=name,friends.limit(10).fields(likes.limit(10))&access_token={}'\\\n",
    "        .format(access_token)\n",
    "    \n",
    "r_3 = requests.get(url_3)\n",
    "print json.dumps(json.loads(r_3.content), indent=1)"
   ]
  },
  {
   "cell_type": "code",
   "execution_count": null,
   "metadata": {
    "collapsed": true
   },
   "outputs": [],
   "source": [
    "# Check if two people are friends:\n",
    "# In case the people are not friends, an empty response\n",
    "\n",
    "def check_friends(user_id_1, user_id_2):\n",
    "    url = 'https://graph.facebook.com/{}/friends/{}&access_token={}'.format(user_id_1, user_id_2, access_token)\n",
    "    r = requests.get(url)\n",
    "    return json.dumps(json.loads(r.content), indent=1)\n",
    "\n",
    "print check_friends(my_friends[0], my_id), \"\\n\"\n",
    "print check_friends(my_friends[0], my_friends[1])"
   ]
  },
  {
   "cell_type": "code",
   "execution_count": null,
   "metadata": {
    "collapsed": true
   },
   "outputs": [],
   "source": [
    "# Get your likes\n",
    "url_4 = 'https://graph.facebook.com/me?fields=likes&access_token={}'\\\n",
    "        .format(access_token)\n",
    "    \n",
    "r_4 = requests.get(url_4)\n",
    "print json.dumps(json.loads(r_4.content), indent=1)"
   ]
  },
  {
   "cell_type": "markdown",
   "metadata": {},
   "source": [
    "It was only a small list of examples with basic Facebook API usage. The full list of the Facebook Graph API root nodes and available fields can be found [here](https://developers.facebook.com/docs/graph-api/reference). There are too many variants and rules of queries building and its learning will unlikely fit in even one separated lesson. You may find a little more examples of URLs forming [here](https://developers.facebook.com/docs/graph-api/using-graph-api). A better way is using of specific libraries for interaction with APIs."
   ]
  },
  {
   "cell_type": "markdown",
   "metadata": {},
   "source": [
    "# 2. Interaction with Facebook API using specific Python library "
   ]
  },
  {
   "cell_type": "markdown",
   "metadata": {},
   "source": [
    "`facebook-sdk` is one of the famous and common used special client library that is designed to support the Facebook Graph API and the official Facebook JavaScript SDK, which is the canonical way to implement Facebook authentication.\n",
    "\n",
    "The easiest way of installing `facebook-sdk` is using pip:\n",
    "\n",
    "    pip install facebook-sdk"
   ]
  },
  {
   "cell_type": "code",
   "execution_count": null,
   "metadata": {
    "collapsed": false
   },
   "outputs": [],
   "source": [
    "import facebook \n",
    "\n",
    "# Create a connection to the Graph API with your access token\n",
    "graph = facebook.GraphAPI(access_token)\n",
    "\n",
    "# Return data for specific \"user_id\" of \"me\" \n",
    "me = graph.get_object(\"me\")\n",
    "me"
   ]
  },
  {
   "cell_type": "code",
   "execution_count": null,
   "metadata": {
    "collapsed": false
   },
   "outputs": [],
   "source": [
    "# Fetch the connections for given object\n",
    "friends = graph.get_connections(\"me\", \"friends\")\n",
    "friends"
   ]
  },
  {
   "cell_type": "code",
   "execution_count": null,
   "metadata": {
    "collapsed": false
   },
   "outputs": [],
   "source": [
    "# Search pages with key word \"Python\"\n",
    "graph.request(\"search\", {'q' : 'Python', 'type' : 'page'})"
   ]
  },
  {
   "cell_type": "code",
   "execution_count": null,
   "metadata": {
    "collapsed": false
   },
   "outputs": [],
   "source": [
    "# Use the 'Monty Python' id to query for likes\n",
    "monty_python_id = '272002449634285'\n",
    "print \"Monty Python likes:\", \n",
    "graph.get_connections(monty_python_id, \"likes\")"
   ]
  },
  {
   "cell_type": "code",
   "execution_count": null,
   "metadata": {
    "collapsed": false
   },
   "outputs": [],
   "source": [
    "# Use the 'Monty Python' id to query for feeds\n",
    "print \"Monty Python feeds:\", \n",
    "graph.get_connections(monty_python_id, \"feed\")"
   ]
  },
  {
   "cell_type": "code",
   "execution_count": null,
   "metadata": {
    "collapsed": true
   },
   "outputs": [],
   "source": [
    "# Write some phrase on your wal\n",
    "graph.put_object(\"me\", \"feed\", message=\"Ha! I've just written this sentence on my wall using Python.\")\n",
    "# Check whether this phrase appeared on your wall."
   ]
  },
  {
   "cell_type": "code",
   "execution_count": null,
   "metadata": {
    "collapsed": false
   },
   "outputs": [],
   "source": [
    "# Look at Bill Gates's profile and his posts.\n",
    "user = 'BillGates'\n",
    "profile = graph.get_object(user)\n",
    "print profile\n",
    "\n",
    "posts = graph.get_connections(profile['id'], 'posts')\n",
    "\n",
    "for post in posts['data']:\n",
    "    print post['created_time'], '\\t' + post[\"message\"][:100] + '...' if len(post[\"message\"]) > 100 else post[\"message\"]"
   ]
  },
  {
   "cell_type": "code",
   "execution_count": null,
   "metadata": {
    "collapsed": false
   },
   "outputs": [],
   "source": [
    "from IPython.core.display import HTML\n",
    "\n",
    "# Look at Bill Gates's profile avatar.\n",
    "user = 'BillGates'\n",
    "profile = graph.get_object(user)\n",
    "\n",
    "avatar = graph.get_connections(profile['id'], 'picture', width=500)\n",
    "\n",
    "HTML('<p><img src=\"{}\" width=\"300px\"></p>'.format(avatar[\"url\"]))"
   ]
  },
  {
   "cell_type": "code",
   "execution_count": null,
   "metadata": {
    "collapsed": false
   },
   "outputs": [],
   "source": [
    "# Let's query for all of the likes in your page\n",
    "likes = {friend['name'] : g.get_connections(friend['id'], \"likes\")['data'] \n",
    "          for friend in friends[\"data\"]}\n",
    "\n",
    "print likes"
   ]
  },
  {
   "cell_type": "code",
   "execution_count": null,
   "metadata": {
    "collapsed": true
   },
   "outputs": [],
   "source": [
    "# Let's analyze all likes from friendships for frequency\n",
    "from prettytable import PrettyTable\n",
    "from collections import Counter\n",
    "\n",
    "friends_likes = Counter([like['name'] for friend in likes  for like in likes[friend] if like.get('name')])\n",
    "\n",
    "pt = PrettyTable(field_names=['Name', 'Freq'])\n",
    "pt.align['Name'], pt.align['Freq'] = 'l', 'r'\n",
    "[pt.add_row(fl) for fl in friends_likes.most_common(10)]\n",
    "\n",
    "print 'Top 10 likes amongst friends'\n",
    "print pt"
   ]
  },
  {
   "cell_type": "code",
   "execution_count": null,
   "metadata": {
    "collapsed": true
   },
   "outputs": [],
   "source": [
    "# And now analyze all like categories by frequency\n",
    "friends_likes_categories = Counter([like['category'] for friend in likesfor like in likes[friend]])\n",
    "\n",
    "pt = PrettyTable(field_names=['Category', 'Freq'])\n",
    "pt.align['Category'], pt.align['Freq'] = 'l', 'r'\n",
    "[pt.add_row(flc) for flc in friends_likes_categories.most_common(10)]\n",
    "\n",
    "print \"Top 10 like categories for friends\"\n",
    "print pt"
   ]
  },
  {
   "cell_type": "code",
   "execution_count": null,
   "metadata": {
    "collapsed": true
   },
   "outputs": [],
   "source": [
    "# Which of your likes are in common with which friends?\n",
    "my_likes = [like['name'] for like in g.get_connections(\"me\", \"likes\")['data']]\n",
    "\n",
    "pt = PrettyTable(field_names=[\"Name\"])\n",
    "pt.align = 'l'\n",
    "[pt.add_row((ml,)) for ml in my_likes]\n",
    "print \"My likes\"\n",
    "print pt\n",
    "\n",
    "# Use the set intersection to find common likes\n",
    "common_likes = list(set(my_likes) & set(friends_likes))\n",
    "\n",
    "pt = PrettyTable(field_names=[\"Name\"])\n",
    "pt.align = 'l'\n",
    "[pt.add_row((cl,)) for cl in common_likes]\n",
    "print\n",
    "print \"My common likes with friends\"\n",
    "print pt\n",
    "\n",
    "# Which of your friends like things that you like?\n",
    "similar_friends = [(friend, friend_like['name']) \n",
    "                       for friend, friend_likes in likes.items()\n",
    "                           for friend_like in friend_likes\n",
    "                               if friend_like.get('name') in common_likes]\n",
    "\n",
    "\n",
    "# Filter out any possible duplicates that could occur\n",
    "ranked_friends = Counter([ friend for (friend, like) in list(set(similar_friends)) ])\n",
    "\n",
    "pt = PrettyTable(field_names=[\"Friend\", \"Common Likes\"])\n",
    "pt.align[\"Friend\"], pt.align[\"Common Likes\"] = 'l', 'r'\n",
    "[ pt.add_row(rf) \n",
    "  for rf in sorted(ranked_friends.items(), \n",
    "                   key=itemgetter(1), \n",
    "                   reverse=True) ]\n",
    "print \"My similar friends (ranked)\"\n",
    "print pt"
   ]
  },
  {
   "cell_type": "code",
   "execution_count": null,
   "metadata": {
    "collapsed": true
   },
   "outputs": [],
   "source": [
    "# A quick histogram that shows above results\n",
    "%matplotlib inline\n",
    "\n",
    "import matplotlib\n",
    "import matplotlib.pyplot as plt\n",
    "\n",
    "\n",
    "plt.hist(ranked_friends.values(),\n",
    "          bins=arange(1,max(ranked_friends.values()),1))\n",
    "plt.xlabel('Bins (number of friends with shared likes)')\n",
    "plt.ylabel('Number of shared likes in each bin')\n",
    "plt.figure() "
   ]
  },
  {
   "cell_type": "markdown",
   "metadata": {},
   "source": [
    "---\n",
    "## Exercises\n",
    "---"
   ]
  },
  {
   "cell_type": "markdown",
   "metadata": {},
   "source": [
    "## Exercise #1: \n",
    "\n",
    "> Can you display your avatar in this notebook?"
   ]
  },
  {
   "cell_type": "markdown",
   "metadata": {
    "collapsed": true
   },
   "source": [
    "## Exercise #2: \n",
    "\n",
    "> `facebook-sdk` GraphAPI method `put_comment(object_id, message)` allows to add a comment text `message` to some post with `object_id`, method `put_like(object_id)` allows add like to an object (post, page, photo, etc.) with `object_id`. Add a comment to some post of some your friend and check the respective changes."
   ]
  },
  {
   "cell_type": "markdown",
   "metadata": {},
   "source": [
    "## Exercise #3: \n",
    "\n",
    "> Using `facebook-sdk` Python library calculate the number of likes for each your friend and sorting by frequency. "
   ]
  }
 ],
 "metadata": {
  "kernelspec": {
   "display_name": "Python 2",
   "language": "python",
   "name": "python2"
  },
  "language_info": {
   "codemirror_mode": {
    "name": "ipython",
    "version": 2
   },
   "file_extension": ".py",
   "mimetype": "text/x-python",
   "name": "python",
   "nbconvert_exporter": "python",
   "pygments_lexer": "ipython2",
   "version": "2.7.10"
  }
 },
 "nbformat": 4,
 "nbformat_minor": 0
}
