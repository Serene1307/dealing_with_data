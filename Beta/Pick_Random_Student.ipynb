{
 "cells": [
  {
   "cell_type": "code",
   "execution_count": 2,
   "metadata": {
    "collapsed": false
   },
   "outputs": [],
   "source": [
    "import random\n",
    "\n",
    "students = [\"Chen,Christopher Saint-Kong\", \n",
    "\"Daceyariani,Caterina H\", \n",
    "\"Deng,Caroline\", \n",
    "\"Gong,Lucy Z\", \n",
    "\"Hwang,Christine\", \n",
    "\"Kirilova,Geri\", \n",
    "\"Kyon,Taiway\", \n",
    "\"Lin,Embert\", \n",
    "\"Lok,Arthur M\", \n",
    "\"Lu,Rachel\", \n",
    "\"Lu,Jimmy\", \n",
    "\"Lui,Andrew H\", \n",
    "\"Magu,Karan\", \n",
    "\"Merjos,Marlon Jake\", \n",
    "\"Mo,Brian\", \n",
    "\"Qian, Qixin\", \n",
    "\"Rahman,Mahbobur\", \n",
    "\"Reamer,Jake\", \n",
    "\"Ren,Richard\", \n",
    "\"Salinas,Carlos A\", \n",
    "\"Son,Heesung\", \n",
    "\"Sun,Jennifer\", \n",
    "\"Walker,Aaron\", \n",
    "\"Wang,David H\", \n",
    "\"Wang,Cary\", \n",
    "\"Webb,Thomas James Albury\", \n",
    "\"Xu,Jill\", \n",
    "\"Yip,Alex\", \n",
    "\"Yu, Josh\", \n",
    "\"Yu,Jacky\", \n",
    "\"Zayer,Sara\", \n",
    "\"Zhou,Yu\", \n",
    "\"Zhou,Patricia Kong\"]"
   ]
  },
  {
   "cell_type": "code",
   "execution_count": 3,
   "metadata": {
    "collapsed": false
   },
   "outputs": [
    {
     "name": "stdout",
     "output_type": "stream",
     "text": [
      "Lin,Embert\n"
     ]
    }
   ],
   "source": [
    "number_of_students = len(students)-1\n",
    "student_id =  random.randint(0,number_of_students)\n",
    "print students[student_id]"
   ]
  },
  {
   "cell_type": "code",
   "execution_count": null,
   "metadata": {
    "collapsed": true
   },
   "outputs": [],
   "source": []
  }
 ],
 "metadata": {
  "kernelspec": {
   "display_name": "Python 2",
   "language": "python",
   "name": "python2"
  },
  "language_info": {
   "codemirror_mode": {
    "name": "ipython",
    "version": 2
   },
   "file_extension": ".py",
   "mimetype": "text/x-python",
   "name": "python",
   "nbconvert_exporter": "python",
   "pygments_lexer": "ipython2",
   "version": "2.7.6"
  }
 },
 "nbformat": 4,
 "nbformat_minor": 0
}
