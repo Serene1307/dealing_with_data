{
 "cells": [
  {
   "cell_type": "markdown",
   "metadata": {},
   "source": [
    "# Work with LinkedIn API in Python\n",
    "---\n",
    "\n",
    "---"
   ]
  },
  {
   "cell_type": "markdown",
   "metadata": {},
   "source": [
    "<img src=\"images/logo.png\" width=\"55%\">\n",
    "\n",
    "LinkedIn is the worlds largest business social networking hub. Launched in 2003, LinkedIn has millions of users and is implemented in over 200 countries. One purpose of the site is to allow registered users to maintain a list of contact details of people with whom they have some level of relationship, called Connections. Users can invite anyone (whether a site user or not) to become a connection. LinkedIn actually provides 2 APIs: \n",
    "\n",
    "- The **JavaScript API** is a rich client library enabling you to build dynamic applications in the web browser. Use OAuth 2 to easily authorize users via the \"Sign In with LinkedIn\" button, access LinkedIn data with native objects, and interact with Plugins.\n",
    "- The **REST API** provides a simple, consistent representation of people, companies, jobs, and the interactions and relationships between them. Our query language lets you read data in XML and JSON at the granularity and aggregation that you choose. Use OAuth 1.0a to authorize users and begin making REST API calls using any programming language."
   ]
  },
  {
   "cell_type": "markdown",
   "metadata": {},
   "source": [
    "## Register a new application\n",
    "\n",
    "If you do not already have an account with LinkedIn, go to https://www.linkedin.com and register. \n",
    "\n",
    "To create a LinkedIn App, go and visit: https://www.linkedin.com/secure/developer.\n",
    "\n",
    "You need to be logged in to your LinkedIn account to be able to access their developer page. So first, login to your LinkedIn account and then follow the link above to get to their developer page. This should look similar to the one shown in the image below:\n",
    "\n",
    "<img src=\"images/app_1.jpg\">\n",
    "\n",
    "On that page click on the \"Create Application\" link. Now the \"Create Application\" page does load. On that page enter all the information which do contain a star. They are required.\n",
    "\n",
    "<img src=\"images/app_2.jpg\">\n",
    "\n",
    "Within the Application Info make sure, that you enter the correct URL of your website and that the URL you enter there does match 100% the one from your website. So if the URL of your website does include the www like `http://www.my_own_site.com` than you need to enter it like that. If the URL of your website doesn't include the www, than you don't need to include the www within the URL. It's important that the entered Website URL does match the one from your actual website, otherwise the App won't work correctly and it will show an error message when you or your users try to connect with the App.\n",
    "\n",
    "After you entered all the required information, check the box at the bottom of the page to agree to the LinkedIn API Terms of Use and click on the \"Submit\" button.\n",
    "\n",
    "After you added the application you will see a app listing page which will contain all the needed information to integrate that App in to your website. See image below:\n",
    "\n",
    "<img src=\"images/app_3.jpg\">\n",
    "\n",
    "Use the \"OAuth 2.0 Redirect URLs\" field same as the LinkedIn callback url. Please note that:\n",
    "\n",
    "* URLs must be absolute (e.g. \"https://example.com/auth/callback\", not \"/auth/callback\").\n",
    "* URL arguments are ignored (i.e. https://example.com/?id=1 is the same as https://example.com/).\n",
    "* URLs cannot include #'s (i.e. \"https://example.com/auth/callback#linkedin\" is invalid).\n",
    "\n",
    "> Note, you may set many URLs for redirection. Let's set one of them such `http://localhost:8000`, because we will use it further. \n",
    "\n",
    "If these entries do not completely match the URL of your website, the application won't work and it will show an error message whe you try to connect to the App."
   ]
  },
  {
   "cell_type": "code",
   "execution_count": null,
   "metadata": {
    "collapsed": true
   },
   "outputs": [],
   "source": [
    "# Credentials you get from registering a new application\n",
    "client_id = \"<YOUR_CLIENT_ID>\"\n",
    "client_secret = \"<YOUR_CLIENT_SECRET>\"\n",
    "\n",
    "# Set an URL for redirection\n",
    "redirect_url = \"http://localhost:8000\""
   ]
  },
  {
   "cell_type": "markdown",
   "metadata": {
    "collapsed": true
   },
   "source": [
    "## Getting of access token\n",
    "\n",
    "Once your application is properly configured, it's time to request an authorization code. The authorization code is used in the next step of the OAuth 2.0 flow to exchange for an actual access token. This is an important step because it provides assurance directly from LinkedIn to the user that permission is being granted to the correct application, with the agreed-upon access to the member's LinkedIn profile.\n",
    "\n",
    "To request an authorization code, you must direct the user's browser to LinkedIn's OAuth 2.0 authorization endpoint (how it can be done with the help of Python is shown below):\n",
    "\n",
    "    https://www.linkedin.com/uas/oauth2/authorization\n",
    "    \n",
    "Once the request is made, one of the following two situations will occur:\n",
    "\n",
    "* If the user has not previously accepted the application's permission request, or the grant has expired or been manually revoked by the user, the browser will be redirected to LinkedIn's authorization screen (as seen in the picture below).  When the user completes the authorization process, the browser is redirected to the URL provided in the redirect_uri query parameter.\n",
    "\n",
    "* If there is a valid existing permission grant from the user, the authorization screen is by-passed and the user is immediately redirected to the URL provided in the redirect_uri query parameter.\n",
    "\n",
    "<img src=\"images/app_4.jpg\">\n",
    "\n",
    "By providing valid LinkedIn credentials and clicking on the \"Allow Access\" button, the user is approving your application's request to access their member data and interact with LinkedIn on their behalf.  This approval instructs LinkedIn to redirect the user back to the callback URL that you defined in your `redirect_uri` parameter. \n",
    "\n",
    "Attached to the redirect_uri will be two important URL arguments that you need to read from the request:\n",
    "\n",
    "* `code` — The OAuth 2.0 authorization code (value that you will exchange with LinkedIn for an actual OAuth 2.0 access token in the next step of the authentcation process).\n",
    "* `state` — A value used to test for possible CSRF attacks (before you accept the authorization code, your application should ensure that the value returned in the state parameter matches the state value from your original authorization code request).\n",
    "\n",
    "The final step towards obtaining an Access Token is for your application to ask for one using the Authorization Code it just acquired. This is done by making the following \"x-www-form-urlencoded\" HTTP POST request:\n",
    "\n",
    "    https://www.linkedin.com/uas/oauth2/accessToken\n",
    "    \n",
    "A successful Access Token request will return a JSON object containing the following fields:\n",
    "\n",
    "* `access_token` — The access token for the user. This value must be kept secure, as per your agreement to the API Terms of Use.\n",
    "* `expires_in` — The number of seconds remaining, from the time it was requested, before the token will expire.  \n",
    "\n",
    "> Currently, all access tokens are issued with a 60 day lifespan.\n",
    "\n",
    "Once you've obtained an Access Token, you can start making authenticated API requests on behalf of the user. This is accomplished by including an \"Authorization\" header in your HTTP call to LinkedIn's API. \n",
    "\n",
    "Let's make described above using Python library `requests` and `requests_oauthlib`. To install them (if they are absent) you can use pip:\n",
    "\n",
    "    pip install requests requests_oauthlib"
   ]
  },
  {
   "cell_type": "code",
   "execution_count": null,
   "metadata": {
    "collapsed": false
   },
   "outputs": [],
   "source": [
    "# OAuth endpoints given in the LinkedIn API documentation\n",
    "authorization_base_url = 'https://www.linkedin.com/uas/oauth2/authorization'\n",
    "token_url = 'https://www.linkedin.com/uas/oauth2/accessToken'\n",
    "\n",
    "import requests\n",
    "from requests_oauthlib import OAuth2Session\n",
    "from requests_oauthlib.compliance_fixes import linkedin_compliance_fix\n",
    "\n",
    "\n",
    "LinkedIn = OAuth2Session(client_id, redirect_uri=redirect_url)\n",
    "LinkedIn = linkedin_compliance_fix(LinkedIn)\n",
    "\n",
    "# Redirect user to LinkedIn for authorization\n",
    "authorization_url, state = LinkedIn.authorization_url(authorization_base_url)\n",
    "print \"State:\", state\n",
    "print 'Please go here and authorize,', authorization_url\n",
    "\n",
    "# After clicking on the \"Allow Access\" button you will be redirected to the \n",
    "# http://localhost:8000/?code=... page\n",
    "# So, to get the authorization verifier code from the callback url copy \n",
    "# URL from browser address line\n",
    "redirect_response = raw_input('\\nPaste the full redirect URL here:')"
   ]
  },
  {
   "cell_type": "markdown",
   "metadata": {},
   "source": [
    "> You should note that Oauth2 works through SSL layer. If your server is not parametrized to allow HTTPS, the fetch_token method will raise an `oauthlib.oauth2.rfc6749.errors.InsecureTransportError`. You can disable this check by setting an environment variable:"
   ]
  },
  {
   "cell_type": "code",
   "execution_count": null,
   "metadata": {
    "collapsed": true
   },
   "outputs": [],
   "source": [
    "# Miss this step if the running of the next command cell works without errors\n",
    "import os\n",
    "os.environ['OAUTHLIB_INSECURE_TRANSPORT'] = '1'"
   ]
  },
  {
   "cell_type": "code",
   "execution_count": null,
   "metadata": {
    "collapsed": false
   },
   "outputs": [],
   "source": [
    "# Fetch the access token\n",
    "LinkedIn.fetch_token(token_url, client_secret=client_secret, authorization_response=redirect_response)\n",
    "print LinkedIn.token, '\\n'\n",
    "\n",
    "# Let's remember access token\n",
    "access_token = LinkedIn.token['access_token']\n",
    "\n",
    "# Fetch a protected resource, i.e. user profile\n",
    "r = LinkedIn.get('https://api.linkedin.com/v1/people/~?format=json')\n",
    "print r.content"
   ]
  },
  {
   "cell_type": "markdown",
   "metadata": {},
   "source": [
    "In the [similar way](http://requests-oauthlib.readthedocs.org/en/latest/examples/facebook.html) we could get user access token for Facebook in the respective lesson, but Facebook provides more simple tools to do this."
   ]
  },
  {
   "cell_type": "markdown",
   "metadata": {},
   "source": [
    "All over functional are coded in `python-linkedin` library, which provides a pure Python interface to the LinkedIn Profile, Group, Company, Jobs, Search, Share, Network and Invitation REST APIs. It's a best practice of using this (or any other) library for interaction with LinkedIn API. \n",
    "\n",
    "LinkedIn provides a service that lets people bring their LinkedIn profiles and networks with them to your site or application via their OAuth based API. This library provides a lightweight interface over a complicated LinkedIn OAuth based API to make it for python programmers easy to use.\n",
    "\n",
    "You can install python-linkedin library via pip:\n",
    "\n",
    "    pip install python-linkedin\n",
    "    \n",
    "Here and further we will consider and use only `python-linkedin` library. "
   ]
  },
  {
   "cell_type": "code",
   "execution_count": null,
   "metadata": {
    "collapsed": false
   },
   "outputs": [],
   "source": [
    "from linkedin import linkedin\n",
    "\n",
    "# Starting from May 12, 2015, Linkedin has limited the open APIs. \n",
    "# See here: https://developer.linkedin.com/support/developer-program-transition\n",
    "# Particularly. access to r_fullprofile scopes requires that you apply for \n",
    "# and are granted access to this information from LinkedIn. \n",
    "# The last updated version 4.1 of *python-linkedin* library doesn't take into account these changes.\n",
    "# Thus, we will make it ourselves\n",
    "# linkedin.PERMISSIONS.enums should be \n",
    "# {\n",
    "#  'BASIC_PROFILE': 'r_basicprofile', \n",
    "#  'NETWORK_UPDATES': 'w_share'\n",
    "# }\n",
    "\n",
    "for key in linkedin.PERMISSIONS.enums.keys():\n",
    "    if key == 'BASIC_PROFILE':\n",
    "        linkedin.PERMISSIONS.enums[key] = 'r_basicprofile'\n",
    "    elif key == 'NETWORK_UPDATES':\n",
    "        linkedin.PERMISSIONS.enums[key] = 'w_share'\n",
    "    else:\n",
    "        del linkedin.PERMISSIONS.enums[key]\n",
    "\n",
    "authentication = linkedin.LinkedInAuthentication(client_id, client_secret, redirect_url, linkedin.PERMISSIONS.enums.values())\n",
    "print 'Please go here and authorize,', authentication.authorization_url\n",
    "\n",
    "redirect_response = raw_input('\\nPaste the full redirect URL here:')\n",
    "authorization_code = redirect_response.split(\"code=\")[1].split(\"&\")[0]\n",
    "print \"\\nAuthorization Code:\", authorization_code"
   ]
  },
  {
   "cell_type": "code",
   "execution_count": null,
   "metadata": {
    "collapsed": false
   },
   "outputs": [],
   "source": [
    "# After setting of the authorization code by hand, we can call the *get_access_token()* to get the actual token.\n",
    "authentication.authorization_code = authorization_code\n",
    "AT = authentication.get_access_token()\n",
    "AT"
   ]
  },
  {
   "cell_type": "code",
   "execution_count": null,
   "metadata": {
    "collapsed": false
   },
   "outputs": [],
   "source": [
    "access_token = AT.access_token"
   ]
  },
  {
   "cell_type": "markdown",
   "metadata": {},
   "source": [
    "After you get the access token, you are now permitted to make API calls on behalf of the user who granted access to you app. In addition to that, in order to prevent from going through the OAuth flow for every consecutive request, one can directly assign the access token obtained before to the application instance."
   ]
  },
  {
   "cell_type": "code",
   "execution_count": null,
   "metadata": {
    "collapsed": false
   },
   "outputs": [],
   "source": [
    "app = linkedin.LinkedInApplication(token=access_token)\n",
    "app"
   ]
  },
  {
   "cell_type": "markdown",
   "metadata": {
    "collapsed": true
   },
   "source": [
    "> For testing the library using an interpreter, use the quick helper.\n",
    ">\n",
    ">`    from linkedin import server`<br></br>\n",
    ">`    app = server.quick_api(KEY, SECRET)`\n",
    ">\n",
    "> This will print the authorization url to the screen. Go into this URL using a browser, after you login, the method will return with an API object you can now use.\n",
    ">\n",
    ">`    app.get_profile()`"
   ]
  },
  {
   "cell_type": "code",
   "execution_count": null,
   "metadata": {
    "collapsed": false
   },
   "outputs": [],
   "source": [
    "# Let's use the app and get your profile\n",
    "app.get_profile()"
   ]
  },
  {
   "cell_type": "code",
   "execution_count": null,
   "metadata": {
    "collapsed": false
   },
   "outputs": [],
   "source": [
    "# You may get LinkedIn profile of any other user\n",
    "# For example, Bill Gates profile by url\n",
    "bill_gates_url = 'https://www.linkedin.com/in/williamhgates'\n",
    "app.get_profile(member_url=bill_gates_url)"
   ]
  },
  {
   "cell_type": "code",
   "execution_count": null,
   "metadata": {
    "collapsed": false
   },
   "outputs": [],
   "source": [
    "#Bill Gates profile by id\n",
    "bill_gates_id = 'UN_vks5Pmj'\n",
    "app.get_profile(member_id=bill_gates_id)"
   ]
  },
  {
   "cell_type": "code",
   "execution_count": null,
   "metadata": {
    "collapsed": false
   },
   "outputs": [],
   "source": [
    "# Get and display avatar of any user\n",
    "avatar = app.get_picture_urls(member_id=bill_gates_id)\n",
    "avatar"
   ]
  },
  {
   "cell_type": "code",
   "execution_count": null,
   "metadata": {
    "collapsed": false
   },
   "outputs": [],
   "source": [
    "from IPython.core.display import HTML\n",
    "\n",
    "HTML('<p><img src=\"{}\" width=\"300px\"></p>'.format(avatar[\"values\"][0]))"
   ]
  },
  {
   "cell_type": "code",
   "execution_count": null,
   "metadata": {
    "collapsed": false
   },
   "outputs": [],
   "source": [
    "# Let's get LinkedIn info about Microsoft (its id is 1035)\n",
    "app.get_companies(company_ids=[1035])"
   ]
  },
  {
   "cell_type": "code",
   "execution_count": null,
   "metadata": {
    "collapsed": true
   },
   "outputs": [],
   "source": []
  }
 ],
 "metadata": {
  "kernelspec": {
   "display_name": "Python 2",
   "language": "python",
   "name": "python2"
  },
  "language_info": {
   "codemirror_mode": {
    "name": "ipython",
    "version": 2
   },
   "file_extension": ".py",
   "mimetype": "text/x-python",
   "name": "python",
   "nbconvert_exporter": "python",
   "pygments_lexer": "ipython2",
   "version": "2.7.10"
  }
 },
 "nbformat": 4,
 "nbformat_minor": 0
}
