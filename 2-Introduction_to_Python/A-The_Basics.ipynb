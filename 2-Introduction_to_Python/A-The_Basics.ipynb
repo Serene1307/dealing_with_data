{
 "cells": [
  {
   "cell_type": "markdown",
   "metadata": {},
   "source": [
    "## Python Primer: The Basics\n",
    "\n",
    "If you have no knowledge of programming, then the [official Python tutorial](https://docs.python.org/2/tutorial/index.html) and the [Learn Python The Hard Way](http://learnpythonthehardway.org/) are good places to start.\n",
    "\n",
    "For this module, we cover: \n",
    "* Learn Python the Hard Way, from [Preface until Exercise 9](http://learnpythonthehardway.org/book/index.html), and\n",
    "* Python for Everybody, [Chapters 1 and 2](http://do1.dr-chuck.com/pythonlearn/EN_us/pythonlearn.pdf)\n",
    "\n"
   ]
  },
  {
   "cell_type": "markdown",
   "metadata": {},
   "source": [
    "### Our first Python program\n",
    "\n",
    "Traditionally, every time that we start learning a new language, we start with a program that prints \"Hello World\" in the output."
   ]
  },
  {
   "cell_type": "code",
   "execution_count": null,
   "metadata": {
    "collapsed": true
   },
   "outputs": [],
   "source": [
    "print(\"Hello World\")"
   ]
  },
  {
   "cell_type": "markdown",
   "metadata": {},
   "source": [
    "#### Exercise\n",
    "\n",
    "Print your own message:"
   ]
  },
  {
   "cell_type": "code",
   "execution_count": null,
   "metadata": {
    "collapsed": true
   },
   "outputs": [],
   "source": [
    "# your code here\n",
    "print(\"Wow I really get it now, this is how programming works! Where is my job offer?\")"
   ]
  },
  {
   "cell_type": "markdown",
   "metadata": {},
   "source": [
    "#### Exercise\n",
    "\n",
    "Fix the code below, so that it runs:"
   ]
  },
  {
   "cell_type": "code",
   "execution_count": null,
   "metadata": {
    "collapsed": true
   },
   "outputs": [],
   "source": [
    "print(\"Hi Panos!''"
   ]
  },
  {
   "cell_type": "markdown",
   "metadata": {},
   "source": [
    "### Creating a Python program (not on the notebook) -- _Optional_\n",
    "\n",
    "\n",
    "* Use SSH and connect to your Unix shell\n",
    "* Type `nano helloworld.py` to open `nano`, a (relatively easy to use) text editor, and create the file `helloworld.py`\n",
    "* In the text editor, type:\n",
    "    `print('Hello my dear friend!')`\n",
    "* Type Ctrl+X, to save the file and close the editor.\n",
    "* In the shell prompt, type `python helloworld.py` to see the outcome\n",
    "\n"
   ]
  },
  {
   "cell_type": "markdown",
   "metadata": {},
   "source": [
    "#### Exercise\n",
    "\n",
    "Open and change the file `helloworld.py` to print your own message.\n"
   ]
  },
  {
   "cell_type": "code",
   "execution_count": null,
   "metadata": {
    "collapsed": true
   },
   "outputs": [],
   "source": [
    "# execute your steps in the shell"
   ]
  },
  {
   "cell_type": "markdown",
   "metadata": {},
   "source": [
    "### Creating a self-executing Python program -- _Optional_\n",
    "\n",
    "* Repeat the steps as above, but with the following change: In the first line of your program, type: `#!/usr/bin/python`\n",
    "* Save the file with the name `hello`\n",
    "* In the shell, type `chmod 700 hello`. This makes our file _executable_.\n",
    "* Finally type `./hello` and see what happens."
   ]
  },
  {
   "cell_type": "code",
   "execution_count": null,
   "metadata": {
    "collapsed": true
   },
   "outputs": [],
   "source": [
    "# execute your steps in the shell"
   ]
  },
  {
   "cell_type": "markdown",
   "metadata": {},
   "source": [
    "Comments\n",
    "--------\n",
    "Comments are notes in your source code that aren't exectued when your code is run. These are useful for reminding yourself what your code does, and for notifying others to your intentions. "
   ]
  },
  {
   "cell_type": "code",
   "execution_count": null,
   "metadata": {
    "collapsed": true
   },
   "outputs": [],
   "source": [
    "# A comment, this is so you can read your program later.\n",
    "# Anything after the # is ignored by python.\n",
    "\n",
    "print(\"I could have written code like this.\") # and the comment after is ignored\n",
    "\n",
    "# You can also use a comment to \"disable\" or comment out a piece of code:\n",
    "# print(\"This won't run.\")\n",
    "\n",
    "print(\"This will run.\")"
   ]
  },
  {
   "cell_type": "markdown",
   "metadata": {},
   "source": [
    "Python has single line and multiline comments."
   ]
  },
  {
   "cell_type": "code",
   "execution_count": null,
   "metadata": {
    "collapsed": true
   },
   "outputs": [],
   "source": [
    "# this is a single line comment\n",
    "# This a second line of comments\n",
    "print(\"trying out some comments\")\n",
    "\n",
    "\"\"\"and here....\n",
    "\n",
    "I hate Python\n",
    "Nah, just kidding...\n",
    "\n",
    "is a multi-line comment\"\"\"\n",
    "\n",
    "\n",
    "print(\"python ftw\")"
   ]
  }
 ],
 "metadata": {
  "kernelspec": {
   "display_name": "Python 3",
   "language": "python",
   "name": "python3"
  },
  "language_info": {
   "codemirror_mode": {
    "name": "ipython",
    "version": 3
   },
   "file_extension": ".py",
   "mimetype": "text/x-python",
   "name": "python",
   "nbconvert_exporter": "python",
   "pygments_lexer": "ipython3",
   "version": "3.5.2"
  }
 },
 "nbformat": 4,
 "nbformat_minor": 1
}
