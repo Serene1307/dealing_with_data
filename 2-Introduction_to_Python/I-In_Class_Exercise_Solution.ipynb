{
 "cells": [
  {
   "cell_type": "markdown",
   "metadata": {},
   "source": [
    "# Our Task: Find similar company names\n",
    "\n",
    "Now that we have completed our Python Primer, let's try to complete a real task, while at the same time trying to practice loops, iterations, and other Python functionality that we studied.\n",
    "\n",
    "### Your high level task\n",
    "\n",
    "You are given a list of names. You know that the same entity in the list has different representations. You want to find duplicate companies in the data.\n",
    "\n",
    "As a concrete example, open the file under `data/restaurants.txt`. This contains a list of restaurant names, extracted from the [NYC Restaurant inspection data set](https://data.cityofnewyork.us/Health/DOHMH-New-York-City-Restaurant-Inspection-Results/xx67-kt59/data) (available online). The Department of Health has been doing a decent, but not perfect, job in recording the company names. Therefore, the same restaurant appears under different names. **Your task is to find \"almost duplicate\" entries in order to decide whether they correspond to the same business.**\n"
   ]
  },
  {
   "cell_type": "markdown",
   "metadata": {},
   "source": [
    "#### Matching Company Names\n",
    "\n",
    "Quite often, in our data, we have entries represented as strings that refer to the same entity but have different string representations (e.g., McDonald's vs McDonalds vs McDonald‎). We want to write code that will help in the task of finding such similar entries in our data.\n",
    "\n",
    "Our task can be broken in the following tasks:\n",
    "* **Step 1**: Read the data from a file into a list of strings in memory. We have two data sets under the `data` folder: The list of unique restaurant names from the NYC Restaurant Inspection dataset (`data/restaurants.txt`). We need to write Python code that will read these files and return a list of strings that are the company names.\n",
    "* **Step 2**: We will then need to figure out how to compare two strings and find their similarity. For that, we will write a function that takes as input **two** strings, and returns back their similarities. We will explore multiple ways of writing that function, using various library functions.\n",
    "* **Step 3**: We will need to write a function that takes as input a company name, and returns back a list of matching company names, together with their similarity. Ideally, we would like to also sort the list based on the similarity (highest similarity metrics on top). As part of our learning process, we will use the _list comprehension_ approach to create the list. We will also use tuples as the elements of the list, so that the list contain elements such as `[(\"McDonalds\", 0.88), (\"McDonald's\", 0.81),....]`.\n",
    "* **Step 4**: In the final step, we will just perform the similarity computation across all companies in the dataset."
   ]
  },
  {
   "cell_type": "markdown",
   "metadata": {},
   "source": [
    "### STEP 1: Read the list of names from a file and create a list of names"
   ]
  },
  {
   "cell_type": "code",
   "execution_count": 137,
   "metadata": {},
   "outputs": [
    {
     "data": {
      "text/plain": [
       "['',\n",
       " '\"1,001 NIGHTS\"',\n",
       " '\"1174 FULTON CUISINE, HALAL FOOD\"',\n",
       " '\"70KING, BURGER KING, POPEYES LOUISIANA KITCHEN\"',\n",
       " '\"AIR BAR, NY DELI, TIM HORTONS\"',\n",
       " '\"AU BON PAIN, ANDALE MEXICAN GRILL\"',\n",
       " '\"AU BON PAIN, CIH CAFE\"',\n",
       " '\"AUNTIE ANNE\\'S PRETZELS, PINKBERRY\"',\n",
       " '\"BAKED BY MELISSA, LLC\"',\n",
       " '\"BECEC, INC/ BAMBI DAY CARE CENTER\"',\n",
       " '\"BISOUS, CIAO\"',\n",
       " '\"BISOUS, CIAO.\"',\n",
       " '\"BLENDED-UP JUICE, SMOOTHIES & SALAD BAR\"',\n",
       " '\"BOOM BOOM ROOM, LE BAIN, THE STANDARD\"',\n",
       " '\"BUFFALO WILD WINGS, PEETS COFFEE & TEA, BENTO SUSHI\"',\n",
       " '\"BURGER KING, BURGER KING, POPEYES LOUISIANA KITCHEN\"',\n",
       " '\"BURGER KING, POPEYES LOUISIANA KITCHEN\"',\n",
       " '\"BURGER KING,POPEYES LOUISIANA KITCHEN\"',\n",
       " '\"CADWALADER, WICKERSHAM & TAFT\"',\n",
       " '\"CARVEL ICE CREAM, DAYLIGHT DONUTS, KUNG FU TEA\"',\n",
       " '\"CHATIME, BAKE CODE, KINGZA\"',\n",
       " '\"CHIC-FIL-A, QUIZNOS SUBS, JW\\'S, TOSSED\"',\n",
       " '\"CHICKEN/CELEBRITY CHEF, DELI CONCESSION\"',\n",
       " '\"CHICKPEA, RED MANGO\"',\n",
       " '\"CHINA MIA EXOTIC ASIAN FOOD, YOGURT & JUICE BAR\"',\n",
       " '\"D\\'ANGELO\\'S PIZZA, PANCHO\\'S MEXICAN RESTAURANT\"',\n",
       " '\"DELICIAS CUENCANAS BAR-RESTAURANT DELI,\"',\n",
       " '\"DESSERT CLUB, CHIKALICIOUS\"',\n",
       " '\"DUNKIN DONUTS,BASKIN ROBBINS\"',\n",
       " '\"DUNKIN\\' DONUTS, BASKIN ROBBINS\"',\n",
       " '\"DUNKIN\\' DONUTS, BASKIN ROBBINS, HUDSON NEWS\"',\n",
       " '\"DUNKIN\\' DONUTS, BASKIN ROBBINS, POPEYES LOUISIANA KITCHEN\"',\n",
       " '\"DUNKIN\\' DONUTS, BASKIN ROBBINS, SUBWAY\"',\n",
       " '\"DUNKIN\\' DONUTS, BASKINS ROBBINS\"',\n",
       " '\"DUNKIN\\' DONUTS, HUDSON NEWS\"',\n",
       " '\"DUNKIN\\' DONUTS, PIZZA HUT, TACO BELL\"',\n",
       " '\"DUNKIN\\' DONUTS, SUBWAY\"',\n",
       " '\"EMPLOYEE CAFETERIA, SOCIAL SECURITY ADMINISTRATION OFFICE\"',\n",
       " '\"FISHERMAN\\'S COVE, INC.\"',\n",
       " '\"FLIP BIRD, APIZZA REGIONALA & BAR GRANGER\"',\n",
       " '\"FLOYD, NY\"',\n",
       " '\"FRIEND\\'S FRIED CHICKEN, BURGERS, Y PIZAA\"',\n",
       " '\"GARDEN MARKET, DUNKIN DONUTS\"',\n",
       " '\"GROVE SMOOTHIE KING, RED MANGO, ILLY\"',\n",
       " '\"HAAGEN- DAZS, BEER CART\"',\n",
       " '\"HAMBURGER/CELEBRITY CHEF, UNCLE JACKS\"',\n",
       " '\"HAMPTON CHUTNEY, CO.\"',\n",
       " '\"HUMRO BHIM\\'S CAFE,\"',\n",
       " '\"HYATT, NY CENTRAL, ROOM SERVICE\"',\n",
       " '\"IRIS TEA & BAKERY, QUICKLY\"',\n",
       " '\"KFC, TACO BELL\"',\n",
       " '\"KFC, TACO BELL, SOUTH PHILLY STEAKS & FRIES\"',\n",
       " '\"LOVE CRAFT, JOHNNY FAVORITE\\'S\"',\n",
       " '\"MAMA VAL\\'S FISH, SHRIMP, & CHIPS\"',\n",
       " '\"NY CAROUSEL ENTERTAINMENT, LLC\"',\n",
       " '\"NY FOOD COURT JAMAICA(CHINESE FOOD, CARIBBEAN & BUBBLE TEA)\"',\n",
       " '\"NYSC, MIX STIRS\"',\n",
       " '\"OAXACA TAQUERIA, HOYT ST\"',\n",
       " '\"ORGANIC FOOD, NATURAL JUICES AND COFFEE SHOP\"',\n",
       " '\"PIZZA HUT, KFC\"',\n",
       " '\"RESTAURANT ASSOCIATES, INC\"',\n",
       " '\"ROLLS, SUSHI & SALAD\"',\n",
       " '\"S,T COFFEE\"',\n",
       " '\"SAUSAGE CELEBRITY CHEF, HAMBURGER/CELEBRITY CHEF\"',\n",
       " '\"SKADDEN ARPS, SLATE\"',\n",
       " '\"SOUPS,SALADS & BEYOND\"',\n",
       " '\"SUBWAY, CARVEL ICE CREAM\"',\n",
       " '\"SUBWAY, CARVEL\"',\n",
       " '\"SUBWAY, PIZZA & BURGER UR WAY\"',\n",
       " '\"SUGAR HILL RESTAURANT, SUPPER CLUB AND DISCO\"',\n",
       " '\"T.G.I. FRIDAY\\'S,  TIM HORTONS\"',\n",
       " '\"TACO BELL, KFC\"',\n",
       " '\"TACO BELL, PIZZA HUT EXPRESS\"',\n",
       " '\"TACO BELL, PIZZA HUT\"',\n",
       " '\"THREE BROTHERS PIZZERIA & RESTAURANT, INC\"',\n",
       " '\"TIM HORTONS, SOUP MAN, TASTI D-LITE\"',\n",
       " '\"TONY\\'S PIZZA, JERK CHICKEN AND FISH\"',\n",
       " '\"ULTIMATE FITNESS, QUEENS\"',\n",
       " '\"WHALER BAR, CAFE BUON GIORNO\"',\n",
       " '\"YUMMY FRIED CHICKEN, PIZZA & GRILL\"',\n",
       " '#1 Chinese Restaurant',\n",
       " '#1 GARDEN CHINESE',\n",
       " '#1 Natural Juice Bar',\n",
       " '#1 SABOR LATINO RESTAURANT',\n",
       " '$1 PIZZA',\n",
       " '$1 PIZZA $2 BEER',\n",
       " \"''W'' CAFE\",\n",
       " '(LEWIS DRUG STORE) LOCANDA VINI E OLII',\n",
       " '(LIBRARY)  FOUR & TWENTY BLACKBIRDS',\n",
       " '(PUBLIC FARE) 81st street and central park west (Delacorte Theatre)',\n",
       " '+ 81 GALLERY NEW YORK',\n",
       " '.TAO',\n",
       " '1 2 3 BURGER SHOT BEER',\n",
       " '1 Banana Queen',\n",
       " '1 DARBAR',\n",
       " '1 EAST 66TH STREET KITCHEN',\n",
       " '1 HOTEL BROOKLYN BRIDGE',\n",
       " '1 OAK',\n",
       " '1 OR 8',\n",
       " '1 STOP PATTY SHOP',\n",
       " '1.5 GALBI RESTAURANT',\n",
       " '10 BELOW ICE CREAM',\n",
       " '10 DEVOE',\n",
       " '100 FUN',\n",
       " '100% JUICE BAR CAFE',\n",
       " '1001 NIGHTS CAFE',\n",
       " '101 CAFE',\n",
       " '101 DELI',\n",
       " '101 MEAT SHOP',\n",
       " '1020 BAR',\n",
       " '104-01 FOSTER AVENUE COFFEE SHOP(UPS)',\n",
       " '1061 CATERING',\n",
       " '107 WEST RESTAURANT',\n",
       " '108 DOUBLE CHINESE RESTAURANT',\n",
       " '108 FOOD DRIED HOT POT',\n",
       " '1080 BREW',\n",
       " '109 WEST BROADWAY FOOD & WINE LLC',\n",
       " '10BELOW ICE CREAM',\n",
       " '10TH AVENUE COOKSHOP',\n",
       " '10TH AVENUE PIZZA & CAFE',\n",
       " '11 HANOVER GREEK',\n",
       " '11 HOWARD KITCHEN',\n",
       " '11 STREET CAFE',\n",
       " '110 KENNEDY FRIED CHICKEN',\n",
       " '111 RESTAURANT',\n",
       " '118 KITCHEN',\n",
       " '12 CHAIRS',\n",
       " '12 CHAIRS CAFE',\n",
       " '12 CORAZONES RESTAURANT & BAR',\n",
       " '12 CORNERS',\n",
       " '12 CORNERS COFFEE',\n",
       " '12 STREET ALE HOUSE',\n",
       " '120 BAY CAFE',\n",
       " '121 FULTON STREET',\n",
       " '123 NIKKO',\n",
       " '124 COFFEE SHOP',\n",
       " '129 GOURMET DELI',\n",
       " '12TH STREET BAR & GRILL',\n",
       " '13106 GRAND EVERGREEN CHINESE RESTAURANT',\n",
       " '132 LOUNGE',\n",
       " '149 STEAM FISH',\n",
       " '15 CENTRAL PARK WEST RESTAURANT',\n",
       " '15 EAST RESTAURANT',\n",
       " '15 FLAVORS',\n",
       " '16 HANDLES',\n",
       " '161 HOT POT RICE',\n",
       " '1617-A NATIONAL BAKERY',\n",
       " '1633',\n",
       " '168 HI TEA',\n",
       " '168 JOY CAFE',\n",
       " '169 BAR',\n",
       " '16TH AVENUE GLATT',\n",
       " '173 WEBSTER AVENUE CAFE',\n",
       " '18 BAKERY',\n",
       " '18 EAST GUNHILL PIZZA',\n",
       " '18 HIPOT',\n",
       " '18 RESTAURANT',\n",
       " '18 STARS KITCHEN',\n",
       " '1818 SEAFOOD RESTAURANT',\n",
       " '1876/BEERS OF BROOKLYN',\n",
       " '19 CAFE',\n",
       " '196 LOVING TEA',\n",
       " '197 NO. 1 RESTAURANT',\n",
       " '1ST AVENUE GOURMET',\n",
       " '1ST BASE CONCESSION STAND',\n",
       " '1ST MAMA RESTAURANT',\n",
       " '2 BACI PIZZERIA',\n",
       " \"2 BRO'S PIZZA\",\n",
       " '2 BROS PIZZA',\n",
       " '2 BROS PIZZA/JUICE SHOP',\n",
       " '2 BROTHERS PIZZA',\n",
       " '2 HARLEM BROS PIZZA',\n",
       " '2 IN 1 RESTAURANT',\n",
       " '2 PALMITAS MEXICAN DELI',\n",
       " '2 WEST RESTAURANT',\n",
       " '2 sweet of yonkers inc.',\n",
       " '200 FIFTH AVENUE RESTAURANT & SPORTS BAR',\n",
       " '21 BAR',\n",
       " '21 CLUB',\n",
       " \"21 HOME'S KITCHEN\",\n",
       " '212 BURGER',\n",
       " '212 PIZZAMAN',\n",
       " '212 STEAKHOUSE',\n",
       " '2123 FRESH TORTILLAS',\n",
       " '218 RESTAURANT',\n",
       " '22 STR CONCESSION STAND',\n",
       " '22 THAI CUISINE',\n",
       " '224TH CORNER RESTAURANT & BAKERY',\n",
       " '229 LINDEN RESTAURANT',\n",
       " '230 FIFTH',\n",
       " '234 CHINA CITY',\n",
       " '24 HOUR FITNESS #288',\n",
       " '24 HOUR FITNESS #290',\n",
       " '24 HOUR FITNESS CLUB',\n",
       " '24 HOUR FITNESS CLUB #289',\n",
       " '24 HOUR FITNESS CLUB 292',\n",
       " '2419 CHINA STAR RESTAURANT',\n",
       " '241ST CAFE RESTAURANT',\n",
       " '242 CAFE BAKERY',\n",
       " '251 GINZA SUSHI HUANG',\n",
       " '259 LOLY RESTAURANT',\n",
       " '25TH DELI',\n",
       " '27 SHINJUKU SUSHI',\n",
       " '27 SPORTS BAR & CAFE',\n",
       " \"28 MING'S CAFFE\",\n",
       " '28 NOODLES',\n",
       " '2A',\n",
       " '2BEANS',\n",
       " '2ND AVE BLUE 9 BURGER',\n",
       " '2ND AVE DELI',\n",
       " '2ND AVENUE DELI',\n",
       " '2ND CITY',\n",
       " '3 BLACK CATS CAFE/CAKERY',\n",
       " '3 BROS 99 CENT PIZZA',\n",
       " '3 BROTHERS PIZZA',\n",
       " \"3 D'S LEGACY SALAD & GRILL\",\n",
       " '3 DELI & GRILL',\n",
       " '3 ESQUINAS RESTAURANT',\n",
       " '3 GREEKS GRILL',\n",
       " '3 GUYS',\n",
       " '3 GUYS RESTURANT',\n",
       " '3 GUYS SUSHI',\n",
       " '3 IN 1 FS&H JAMAICAN RESTAURANT',\n",
       " '3 IN 1 KITCHEN',\n",
       " '3 ROOTS',\n",
       " '3 SHEETS SALOON',\n",
       " '3 SISTERS PIZZA',\n",
       " \"3 SISTERS' & SHANTA'S RESTAURANT & BAKERY\",\n",
       " '3 STAR JUICE CENTER',\n",
       " '3 WAY RESTAURANT',\n",
       " '3-J RESTAURANT AND PIZZA',\n",
       " '301 CAFE JUICE AND SMOOTHIES',\n",
       " '302 BAR',\n",
       " '310 - EXELSIOR',\n",
       " '310 BOWERY BAR',\n",
       " '31ST AVENUE GYRO.',\n",
       " '32 CAFE INC.',\n",
       " '321 ICE CREAM SHOP',\n",
       " '33',\n",
       " \"33 CAPTAIN'S CAFE\",\n",
       " '33 GOURMET',\n",
       " '33 GREENWICH',\n",
       " '33 Gourmet',\n",
       " '333 LOUNGE',\n",
       " '337 - BURGERS & DOGS',\n",
       " '35 DUET',\n",
       " '375 THRICE COOKED FRIES',\n",
       " '38 DELI',\n",
       " '388 CAFE & DELI',\n",
       " '39 FANTASTIC BAR',\n",
       " '39 KARAOKE',\n",
       " '39 KINGS',\n",
       " '3E TASTE OF THAI',\n",
       " '3RD FLOOR COFFEE BAR',\n",
       " '3rd & 7',\n",
       " '4 Amores (Entrance is on Whitney Ave)',\n",
       " '4 CHARLES RIB PRIME RIB',\n",
       " '4 FOLD',\n",
       " '4 SQUARED FLAVORS',\n",
       " '40/40 CLUB',\n",
       " '40/40 CLUB BAR',\n",
       " '401 LUCKY STAR RESTAURANT',\n",
       " '414 Hotel',\n",
       " '414 LATINO RESTAURANT SPORTS BAR',\n",
       " '42ND STREET PIZZA DINER',\n",
       " \"44 & X HELL'S KITCHEN\",\n",
       " '44 1/2 CAFE',\n",
       " '44TH STREET MINAR',\n",
       " '44TH STREET PIZZA',\n",
       " '456 RESTAURANT',\n",
       " '46 GRILL CAFE',\n",
       " '4618 BAKERY',\n",
       " '47 COFFEE',\n",
       " '49 GROVE',\n",
       " '4ALL AMERICAN BAGEL & BARISTA II',\n",
       " '4O KNOTS',\n",
       " '4TH DOWN',\n",
       " '4TH FLOOR CAFE',\n",
       " '5 BORO BURGER',\n",
       " '5 BURRO CAFE',\n",
       " '5 DE MAYO',\n",
       " '5 ESTRELLA BAKERY',\n",
       " '5 NAPKIN',\n",
       " '5 NAPKIN BURGER',\n",
       " '5 SENSES',\n",
       " '5 STAR CHEESE STEAK AND PIZZA',\n",
       " '5 STAR VILLAGE CAFE',\n",
       " '50',\n",
       " '502 BAR RESTAURANT',\n",
       " '51 MOTT STREET RESTAURANT',\n",
       " '510 11ST BAR',\n",
       " '51ST BAKERY AND CAFE',\n",
       " '520 DESSERT',\n",
       " '525 LEX RESTAURANT & LOUNGE',\n",
       " '525 LEX Restaurant/M Club Lounge/illy CafÃ©',\n",
       " '52ND SUSHI',\n",
       " '54 BELOW',\n",
       " '54 GOURMET DELI',\n",
       " '55 BAR',\n",
       " '55 THOMAS CAFE',\n",
       " '555 VIVACAFE',\n",
       " '556 EL CAFE INTERNATIONAL',\n",
       " '561 EL BARRIO RESTAURANT',\n",
       " \"57'S ALL AMERICAN GRILL\",\n",
       " '575 PUB ON SECOND',\n",
       " '57TH BELLE HOUSE',\n",
       " '59 CHINA',\n",
       " '59E59 BAR',\n",
       " '5BAR KARAOKE',\n",
       " '5C CAFE & CULTURAL CENTER',\n",
       " '5IVE SPICE',\n",
       " '5IVE STEAK',\n",
       " '5TH & MAD',\n",
       " '5TH AVENUE ASIAN TASTE RESTAURANT',\n",
       " '5TH AVENUE EMPIRE CAFE',\n",
       " '60 Beans',\n",
       " '61 LOCAL',\n",
       " '619 BAR & RESTAURANT EL SALVADORENO',\n",
       " '620 ON CATON',\n",
       " '624 KAM HAI CHINESE FOOD',\n",
       " '6321 YUAN BAO',\n",
       " \"652 LIN'S GARDEN\",\n",
       " '658 KINGS DELI',\n",
       " '67 BURGER',\n",
       " '67 Burger',\n",
       " '67 CIAO',\n",
       " '67 ORANGE STREET',\n",
       " '67 RESTAURANT',\n",
       " '678 AURORA CATERING',\n",
       " '68 JAY STREET BAR',\n",
       " '68 MEI MEI BAKERY',\n",
       " '68 TASTE OF CHINA',\n",
       " '69 BAR LOUNGE',\n",
       " '69 PIZZERIA',\n",
       " '696 GOURMET DELI',\n",
       " '6B',\n",
       " '7 DAYS RESTAURANT',\n",
       " '7 GRAMS CAFFE',\n",
       " '7 SPICES',\n",
       " '7 STARS RESTAURANT',\n",
       " '7 TACOS MEXICAN CUISINE CORP',\n",
       " '718 HOOKAH LOUNGE',\n",
       " '718 LOUNGE & TAPAS',\n",
       " '729 BAR & GRILL',\n",
       " '72ND STREET BAGEL',\n",
       " '739 FRANKLIN BAR & LOUNGE',\n",
       " '750 MYRTLE DINER',\n",
       " '765 FOOD MARKET',\n",
       " '773 LOUNGE',\n",
       " '777 THEATER BAR',\n",
       " '7B BAR',\n",
       " '7TH AVENUE DONUT SHOP',\n",
       " '8 DRAGON & PHOENIX CHINESE RESTAURANT',\n",
       " '8 PAET RIO',\n",
       " '8 ST GARDEN',\n",
       " '809 GRILL & BAR RESTAURANT',\n",
       " '8090Tai Wanese #24',\n",
       " '810 DELI & CAFE',\n",
       " '83 1/2',\n",
       " '86 BAKERY',\n",
       " '86 BEST BAKERY',\n",
       " '86 FU KEE CHINESE RESTAURANT',\n",
       " '86 NOODLES',\n",
       " '876 BAR LOUNGE',\n",
       " '876 MARKET DELI',\n",
       " '87ST DELI INC',\n",
       " '88 CAFE',\n",
       " '88 CANTEEN',\n",
       " '88 CHINESE RESTAURANT',\n",
       " '88 PALACE RESTAURANT',\n",
       " '888 KITCHEN',\n",
       " '8TH STREET WINECELLAR',\n",
       " '8TH WONDER JUICE BAR',\n",
       " '900 PARK',\n",
       " '9024/CATERING BY MICHAEL SCHICK INC.',\n",
       " '95 SOUTH',\n",
       " '96 FAVOR TASTE RESTAURANT',\n",
       " '96 SOUTH PARK',\n",
       " '969 NYC COFFEE',\n",
       " '983 BUSHWICK LIVING ROOM',\n",
       " '99 BANK',\n",
       " '99 CENT EXPRESS PIZZA',\n",
       " '99 CENT FRESH PIZZA',\n",
       " '99 CENT PIZZA',\n",
       " '99 CENTS BEST & FRESH PIZZA',\n",
       " '99 CENTS FRESH HOT PIZZA',\n",
       " '99 CENTS FRESH PIZZA',\n",
       " '99 CENTS FRESH SLICE PIZZA',\n",
       " '99 CENTS MEGA PIZZA',\n",
       " '99 CENTS TASTY HOT PIZZA',\n",
       " '99 Cent Tasty Pizza 6 Ave Inc.',\n",
       " '99 FAVOR TASTE',\n",
       " '99 FRESH PIZZA',\n",
       " '99 MILES TO PHILLY',\n",
       " '99 ROGERS',\n",
       " '99Â¢ FAMOUS PIZZA',\n",
       " '99Â¢ FRESH PIZZA',\n",
       " '99Â¢ HOT PIZZA',\n",
       " '9TEN RESTAURANT',\n",
       " '9TH AVE SALOON',\n",
       " '9TH STREET LUNCHEONETTE',\n",
       " '@NINE',\n",
       " 'A & A BAKE SHOP',\n",
       " 'A & B DELI & CATERING',\n",
       " 'A & C COFFEE SHOP AND PIZZERIA',\n",
       " 'A & C GUYANA BAKERY & RESTAURANT',\n",
       " 'A & C KITCHEN',\n",
       " 'A & J DELI FISH',\n",
       " 'A & K TACOS',\n",
       " 'A & L PIZZA RESTAURANT',\n",
       " 'A & P ROTI & PASTRY SHOP',\n",
       " 'A & R FOOD SERVICE BLDG 14',\n",
       " 'A & S CATERERS',\n",
       " 'A & S PIZZERIA',\n",
       " 'A + A ASIAN RESTAURANT',\n",
       " 'A ASO SUSHI',\n",
       " 'A BAR',\n",
       " 'A CAFE',\n",
       " 'A CANAAN SUSHI',\n",
       " 'A CASA FOX',\n",
       " 'A CHIBAN',\n",
       " 'A GUSTO',\n",
       " 'A HOME',\n",
       " 'A LA MODE SHOPPE',\n",
       " 'A LA SAIGON',\n",
       " 'A LA TURKA',\n",
       " 'A LITTLE TASTE CAFE (ALT BOX)',\n",
       " 'A LITTLE THIS & A LITTLE BIT OF THAT',\n",
       " 'A LOVE FOR CAKES',\n",
       " 'A MODO MIO',\n",
       " 'A PLUS THAI PLACE',\n",
       " 'A Plus Express/Chinese Restaurant',\n",
       " 'A SAFFRON THREAD',\n",
       " 'A SALT & BATTERY',\n",
       " 'A SAN FUZHOU RESTAURANT',\n",
       " 'A SLICE OF NEW YORK',\n",
       " 'A SUSHI',\n",
       " \"A TASTE OF BENATERI'S AT EDGEWATER\",\n",
       " 'A TASTE OF SEAFOOD RESTAURANT',\n",
       " 'A TASTE OF SHANGHAI RESTAURANT',\n",
       " 'A TO Z CATERING',\n",
       " 'A VOCE',\n",
       " 'A WIN XIN KITCHEN',\n",
       " 'A&A GOURMET',\n",
       " 'A&E Networks',\n",
       " 'A&E SUPPLY CO.',\n",
       " 'A&E TENOCHTITLAN DELI & TAQUERIA',\n",
       " 'A&H DELI',\n",
       " 'A&R HOT BAGELS',\n",
       " 'A&S Crown Fried Chicken',\n",
       " 'A+ CHINESE RESTAURANT',\n",
       " 'A+ ROOF BAR',\n",
       " 'A-1 PIZZA SHOP',\n",
       " 'A-JIAO SICHUAN CUISINE',\n",
       " 'A-ROMA BAKERY',\n",
       " 'A-WAH RESTAURANT',\n",
       " 'A. CHURRASQUEIRA RESTAURANT',\n",
       " 'A.G KITCHEN',\n",
       " 'A.I.G.CHARTIS',\n",
       " 'A.M. DELI JUICE BAR FOOD INC',\n",
       " 'A.N.Y. GRAND SICHUAN',\n",
       " \"A.R'S TAVERN\",\n",
       " 'A.R.E.B.A.-CASRIEL',\n",
       " 'A.W.O.L. All Walks of Life',\n",
       " 'A.W.O.L. BAR & GRILL',\n",
       " 'A1 JAMAICA BREEZE',\n",
       " 'A1 OCHA SUSHI',\n",
       " \"AA ADMIRAL'S CLUB LOUNGE\",\n",
       " 'AA CHINESE RESTAURANT',\n",
       " 'AA JING',\n",
       " 'AAA CARIDAD',\n",
       " 'AAA ICHIBAN SUSHI',\n",
       " 'AAA KENNEDY FRIED CHICKEN',\n",
       " 'AABR',\n",
       " 'AAHAR',\n",
       " 'AAHELI',\n",
       " 'AANCHAL NATURAL BRIDGE RESTAURANT',\n",
       " 'AANGAN',\n",
       " 'AARONS CHINESE AND THAI RESTAURANT',\n",
       " 'ABA SUSHI',\n",
       " 'ABA TURKISH RESTAURANT',\n",
       " 'ABACE SUSHI',\n",
       " 'ABACKY POTLUCK',\n",
       " 'ABAYA THAI CUISINE',\n",
       " 'ABBA BAR AND GRILL',\n",
       " 'ABBEY TAVERN',\n",
       " 'ABC BEER CO.',\n",
       " 'ABC COCINA / ABCV',\n",
       " 'ABC KITCHEN',\n",
       " 'ABDULLAH SWEETS AND RESTAURANT',\n",
       " 'ABECA SUSHI',\n",
       " 'ABI JAPANESE RESTAURANT',\n",
       " 'ABIDE BROOKLYN PITA',\n",
       " \"ABIGAEL'S BROOKLYN\",\n",
       " \"ABIGAEL'S ON BROADWAY\",\n",
       " \"ABIGAIL'S BAKESHOP\",\n",
       " 'ABIKO CURRY',\n",
       " 'ABILENE',\n",
       " 'ABIR HALAL RESTAURANT',\n",
       " \"ABITINO'S PIZZA\",\n",
       " \"ABITINO'S PIZZA(CONCOURSE C)\",\n",
       " 'ABOUT COFFEE',\n",
       " 'ABOVE BALLROOM',\n",
       " 'ABOVE ROOFTOP',\n",
       " 'ABRACADABRA BROOKLYN',\n",
       " 'ABRACO',\n",
       " 'ABSOLUTE BAGELS',\n",
       " 'ABSOLUTE COFFEE',\n",
       " 'ABSOLUTE THAI RESTAURANT',\n",
       " 'ABUMI SUSHI',\n",
       " 'ABURI SUSHI',\n",
       " 'ABURI SUSHI BAR',\n",
       " 'ABURIYA KINNOSUKE',\n",
       " 'ABV',\n",
       " 'ABYSSINIA ETHIOPIAN RESTAURANT',\n",
       " 'ACA TE ESPERO',\n",
       " 'ACADEMIA BARILLA RESTAURANT',\n",
       " 'ACADEMIA COFFEE',\n",
       " 'ACADEMY CAFE',\n",
       " 'ACADEMY RESTAURAUNT',\n",
       " 'ACAI BERRY',\n",
       " 'ACAPELLA GOURMET PIZZA & RESTAURANT',\n",
       " 'ACAPPELLA RESTAURANT',\n",
       " 'ACAPULCO BAR RESTAURANT',\n",
       " 'ACAPULCO DELI & RESTAURANT',\n",
       " 'ACCRA RESTAURANT',\n",
       " 'ACE BAGEL & ROLL',\n",
       " 'ACE BAR',\n",
       " 'ACE HOT BAGEL & DELI',\n",
       " 'ACE LUCK',\n",
       " 'ACE OF HEARTS DINER',\n",
       " 'ACE PIZZA',\n",
       " 'ACES',\n",
       " 'ACES NEW YORK',\n",
       " \"ACEY DUCEY'S\",\n",
       " 'ACHILLES HEEL',\n",
       " 'ACME BAR & GRILL',\n",
       " 'ACOSTA RESTAURANT',\n",
       " 'ACP COFFEE',\n",
       " 'ACQUA',\n",
       " 'ACQUA RESTAURANT',\n",
       " 'ACQUA SANTA',\n",
       " 'ACQUISTA TRATTORIA',\n",
       " 'ACQUOLINA',\n",
       " 'ACRI CAFE',\n",
       " 'ACTION BURGER',\n",
       " 'ACTIVE HEALTH (HERBALIFE)',\n",
       " 'ACTS III BAGELS',\n",
       " 'ACUARIO CAFE',\n",
       " 'ADALYA',\n",
       " 'ADANA GRILL',\n",
       " 'ADAR LOUNGE',\n",
       " 'ADAYA AFRICAN AMERICAN RESTAURANT',\n",
       " \"ADDEO'S RIVERDALE PIZZERIA\",\n",
       " 'ADDICTIVE WINE & TAPAS',\n",
       " \"ADELINA'S\",\n",
       " 'ADELLA',\n",
       " 'ADIRONDACK',\n",
       " 'ADMIRALS CLUB (CONC C)',\n",
       " 'ADOBE BLUES',\n",
       " 'ADOM BUFFET AND RESTAURANT',\n",
       " 'ADORO LEI',\n",
       " 'ADP INNOVATIONS LAB',\n",
       " 'ADRIA HOTEL',\n",
       " \"ADRIAN & ROCKY'S CATERING\",\n",
       " \"ADRIENNE'S PIZZA BAR\",\n",
       " 'ADVENTURE CAFE',\n",
       " 'ADVENTURES AMUSEMENT PARK',\n",
       " 'ADVENTURES AMUSEMENTS PARK',\n",
       " 'ADYAR ANANDA BHAVAN',\n",
       " 'AEGEA WEST',\n",
       " 'AENOS PIZZA',\n",
       " 'AER LINGUS LOUNGE',\n",
       " 'AERONUOVA',\n",
       " 'AFFABLE EATERY',\n",
       " \"AFFY'S PREMIUM GRILL\",\n",
       " 'AFGAN KEBAB AND GRILL',\n",
       " 'AFGHAN KEBAB HOUSE',\n",
       " 'AFGHAN KEBAB HOUSE #1',\n",
       " 'AFGHAN KEBOB HOUSE',\n",
       " 'AFRICA KINE',\n",
       " 'AFRICAN AMERICAN BEST FOOD',\n",
       " 'AFRICAN HOME RESTAURANT',\n",
       " 'AFRICAN LAST STOP',\n",
       " 'AFRICAN MARKET (BABOON CAFE)',\n",
       " 'AFRICANA RESTAURANT',\n",
       " 'AFTER 8',\n",
       " 'AFTERNOONES RESTAURANT & BAR',\n",
       " 'AGAINST THE GRAIN',\n",
       " 'AGAVE',\n",
       " 'AGAVE DELI GROCERY',\n",
       " 'AGAVE MEXICAN & AMERICAN GRILL',\n",
       " 'AGAVI ORGANIC JUICE BAR',\n",
       " 'AGED',\n",
       " 'AGEHA JAPANESE FUSION',\n",
       " 'AGERN',\n",
       " 'AGNANTI RESTAURANT',\n",
       " 'AGORA TAVERNA',\n",
       " 'AGORA TURKISH RESTAURANT',\n",
       " 'AGOZAR',\n",
       " 'AGRA GRILL',\n",
       " 'AGRA HEIGHTS',\n",
       " 'AGRA KING RESTAURANT',\n",
       " 'AGRA RESTAURANT',\n",
       " 'AGRA TAJ MAHAL',\n",
       " 'AGUA ROJA BAR & LOUNGE',\n",
       " 'AHANA JAPANESE FUSION CUISINE',\n",
       " 'AHIMSA',\n",
       " \"AHMANI'S JUS JUICE & HEALTH KITCHEN\",\n",
       " 'AHUACHAPAN',\n",
       " 'AI FIORI',\n",
       " 'AIG 31ST FLOOR CAFE',\n",
       " 'AILEY BOUTIQUE',\n",
       " 'AINSWORTH MIDTOWN',\n",
       " 'AINSWORTH PARK',\n",
       " 'AIR FRANCE LOUNGE',\n",
       " 'AIR INDIA LOUNGE',\n",
       " 'AIRE ANCIENT BATHS',\n",
       " 'AIRPORT DELI',\n",
       " 'AIRRANG USA',\n",
       " 'AIRSPACE LOUNGE',\n",
       " 'AIRWAYS PIZZA & GYRO RESTAURANT',\n",
       " 'AITA RESTAURANT/MAYFLOWER',\n",
       " 'AJ PIZZERIA',\n",
       " \"AJ'S PIZZA\",\n",
       " 'AJANTA INDIA',\n",
       " 'AJI ASIAN FUSION CUISINE',\n",
       " 'AJI SUSHI',\n",
       " 'AJI SUSHI HOUSE',\n",
       " 'AJISAI',\n",
       " 'AJISAI JAPANESE RESTAURANT',\n",
       " 'AJISEN RAMEN',\n",
       " 'AKA MY HOUSE',\n",
       " 'AKA SUSHI JAPANESE RESTAURANT',\n",
       " 'AKAMI SUSHI',\n",
       " 'AKDENIZ MEDITERRANEAN CUISINE',\n",
       " 'AKI 39 JAPANESE CUISINE',\n",
       " 'AKI KING',\n",
       " 'AKI SUSHI',\n",
       " 'AKI SUSHI AND GRILL',\n",
       " 'AKIMOTO SUSHI',\n",
       " 'AKIN GUMP',\n",
       " 'AKINA SUSHI',\n",
       " 'AKIRA SUSHI',\n",
       " 'AKIYAMA JAPANESE RESTAURANT',\n",
       " 'AKO JAPANESE RESTAURANT',\n",
       " 'AKSARAY TURKISH CAFE AND RESTAURANT',\n",
       " 'AKURA SUSHI',\n",
       " 'AKWAABA RESTAURANT',\n",
       " 'AL BUSTAN RESTAURANT',\n",
       " 'AL CHOLO WEST INDIAN BAKERY & HEALTH FOOD STORE',\n",
       " 'AL DI LA',\n",
       " 'AL FORNO',\n",
       " 'AL GOLDEN LION DELI',\n",
       " 'AL HIRSCHFELD THEATRE',\n",
       " 'AL HORNO',\n",
       " 'AL HORNO LEAN MEXICAN',\n",
       " 'AL HORNO LEAN MEXICAN KITCHEN',\n",
       " 'AL HORNO LEAN MEXICAN KITCHEN INC',\n",
       " 'AL NAIMAT RESTAURANT & SWEETS',\n",
       " 'AL NOUR',\n",
       " 'AL SEABU',\n",
       " 'AL VICOLETTO',\n",
       " \"AL'S DELI\",\n",
       " \"AL'S FAMOUS PIZZERIA\",\n",
       " 'AL-AQSA RESTAURANT',\n",
       " 'AL-ARAF HALAL FRIED CHICKEN AND FROZEN DELIGHTS',\n",
       " 'AL-MEHRAN RESTAURANT',\n",
       " 'ALACHI MASALA INDIAN RESTAURANT',\n",
       " 'ALADDIN',\n",
       " 'ALADDIN HOOKAH LOUNGE & BAR INC',\n",
       " 'ALAMEDA',\n",
       " 'ALAMO DRAFTHOUSE CINEMA',\n",
       " 'ALBA BAR CAFE',\n",
       " 'ALBA PIZZA',\n",
       " \"ALBA'S PIZZA\",\n",
       " 'ALBATROSS BAR',\n",
       " 'ALBERO',\n",
       " \"ALBERT'S COFFEE SHOP\",\n",
       " 'ALBERTA MEXICAN CUSINE',\n",
       " \"ALBERTO'S\",\n",
       " 'ALBION',\n",
       " 'ALCALA RESTAURANT',\n",
       " 'ALCHEMY',\n",
       " 'ALDEA RESTAURANT',\n",
       " \"ALDO'S II PIZZA AND RESTAURANT\",\n",
       " 'ALEEF CAFE',\n",
       " 'ALEGRE DESPERTAR 43',\n",
       " 'ALEGRIA SCRATCH KITCHEN',\n",
       " 'ALEMBI CAFE',\n",
       " 'ALEO',\n",
       " 'ALEWIFE',\n",
       " 'ALEX CAFE & DELI',\n",
       " 'ALEX LUNCHEONETTE',\n",
       " 'ALEX PIZZA & DELI',\n",
       " 'ALEX TACOS',\n",
       " \"ALEX'S KITCHEN\",\n",
       " 'ALEXANDRA',\n",
       " 'ALEXANDRA PIZZA',\n",
       " 'ALEXANDRINA',\n",
       " 'ALEXIS CARIBBEAN CUISINE',\n",
       " \"ALFIE'S\",\n",
       " \"ALFIE'S PIZZA AND PASTA\",\n",
       " \"ALFIE'S PLACE\",\n",
       " \"ALFONSO'S BAR\",\n",
       " \"ALFONSO'S PASTRY SHOPPE\",\n",
       " 'ALFREDO 100',\n",
       " \"ALFREDO'S PIZZA\",\n",
       " 'ALGONQUIN HOTEL',\n",
       " 'ALI BABA',\n",
       " 'ALI BABA HOOKAH LOUNGE',\n",
       " \"ALI BABA'S TERRACE\",\n",
       " \"ALI'S RESTAURANT\",\n",
       " \"ALI'S ROTI SHOP\",\n",
       " \"ALI'S TRINIDAD ROTI SHOP\",\n",
       " 'ALIADA',\n",
       " 'ALIBABA',\n",
       " 'ALIBABA ENTERTAINMENT',\n",
       " 'ALIBABA GRILL',\n",
       " 'ALIBI CLUB',\n",
       " 'ALIBI LOUNGE',\n",
       " \"ALICE'S ARBOR\",\n",
       " \"ALICE'S MARKET\",\n",
       " \"ALICE'S PALACE\",\n",
       " \"ALICE'S TEA CUP\",\n",
       " 'ALICES',\n",
       " 'ALICES TEA CUP CHAPTER 2',\n",
       " 'ALIDORO',\n",
       " 'ALIMENTOS SALUDABLES - MEXICAN GRILL',\n",
       " 'ALIN SUSHI II',\n",
       " 'ALIOTTA BAKE SHOP',\n",
       " \"ALIOTTA'S PIZZA\",\n",
       " 'ALITALIA MICHELANGELO LOUNGE',\n",
       " 'ALITALIA PIZZA RESTAURANT',\n",
       " \"ALITON'S PIZZA & DELI\",\n",
       " 'ALKOURA RESTAURANT',\n",
       " 'ALL ABOUT FOOD',\n",
       " 'ALL ABOUT INDIAN FOOD',\n",
       " 'ALL AMERICAN BAGEL',\n",
       " 'ALL AMERICAN COFFEE SHOP',\n",
       " 'ALL AMERICAN DELI',\n",
       " 'ALL NATIONS',\n",
       " 'ALL STAR PIZZA',\n",
       " 'ALLEN & OVERY',\n",
       " 'ALLEN RESTAURANT',\n",
       " 'ALLERTON DINER',\n",
       " 'ALLEY 41',\n",
       " 'ALLEY POND DRIVING RANGE',\n",
       " 'ALLIANCE BERNSTEIN',\n",
       " 'ALLIANZ CAFETERIA',\n",
       " 'ALLIGATOR LOUNGE',\n",
       " 'ALLORA',\n",
       " 'ALLSWELL',\n",
       " 'ALLURE',\n",
       " 'ALMA',\n",
       " 'ALMANAC',\n",
       " 'ALMANAK/THE BAR',\n",
       " 'ALMAR',\n",
       " 'ALMASRY RESTAURANT',\n",
       " 'ALMAYASS',\n",
       " 'ALMAZ RESTAURANT',\n",
       " 'ALMOND',\n",
       " 'ALMONDINE',\n",
       " 'ALNOOR HALAL DELI',\n",
       " 'ALOAF CAFE',\n",
       " 'ALOBAR RESTAURANT',\n",
       " 'ALOFT HARLEM WXYZ REFUEL',\n",
       " 'ALOFT NEW YORK BROOKLYN',\n",
       " 'ALOHA HARLEM',\n",
       " 'ALOHA NYC',\n",
       " 'ALOR CAFE',\n",
       " \"ALOYSIA'S LOUNGE\",\n",
       " 'ALPH DOMINCHE',\n",
       " 'ALPHA BAKERY',\n",
       " 'ALPHA DONUTS',\n",
       " 'ALPHA FUSION',\n",
       " 'ALPHABET LOUNGE',\n",
       " 'ALPHAVILLE',\n",
       " 'ALPINE CINEMAS',\n",
       " 'ALT - A LITTLE TASTE',\n",
       " 'ALTA',\n",
       " 'ALTA CALIDAD',\n",
       " 'ALTA VILLA DELICATESSEN',\n",
       " 'ALTAGRACIA RESTAURANT',\n",
       " 'ALTESI RISTORANTE',\n",
       " 'ALTUS CAFE',\n",
       " 'AM THAI BISTRO',\n",
       " 'AMA COFFEE',\n",
       " 'AMADA',\n",
       " 'AMADEUS',\n",
       " 'AMADEUS RESTAURANT',\n",
       " 'AMALI',\n",
       " 'AMALI MOU',\n",
       " 'AMAMI SUSHI',\n",
       " 'AMAN RESTAURANT',\n",
       " \"AMANDA'S KITCHEN\",\n",
       " 'AMANECER LATINO RESTAURANT',\n",
       " 'AMARACHI PRIME',\n",
       " 'AMARANTH',\n",
       " 'AMARANTO',\n",
       " 'AMARIN CAFE',\n",
       " 'AMARONE RESTAURANT',\n",
       " 'AMARU',\n",
       " 'AMATA',\n",
       " 'AMAZE',\n",
       " 'AMAZE FUSION & LOUNGE',\n",
       " 'AMAZING 66 RESTAURANT',\n",
       " 'AMAZING GRACE DELI',\n",
       " 'AMAZON CAFE',\n",
       " 'AMAZON NYC',\n",
       " 'AMAZURA',\n",
       " 'AMBA FIDI',\n",
       " 'AMBASSADOR DINER',\n",
       " 'AMBASSADOR DINING ROOM  AT SARATOGA FAMILY INN',\n",
       " 'AMBASSADOR FOOD SERVICES',\n",
       " 'AMBASSADOR THEATRE',\n",
       " 'AMBER',\n",
       " 'AMBER STEAK HOUSE',\n",
       " 'AMBER SUSHI',\n",
       " 'AMBIANCE EXPRESS',\n",
       " 'AMBIANCE WINE & HOOKAH LOUNGE',\n",
       " 'AMBROSE HALL',\n",
       " 'AMBROSIA',\n",
       " 'AMBROSINOS PIZZERIA',\n",
       " \"AMBY'S RESTAURANT\",\n",
       " 'AMC THEATRES',\n",
       " 'AMCOOK FUSION SUSHI & ASIAN CUISINE',\n",
       " \"AMELIA'S DINER\",\n",
       " 'AMELIE',\n",
       " 'AMELIE WINE BAR',\n",
       " 'AMENDMENT 18 (entrance on Dock Street)',\n",
       " 'AMERICA GOURMET FOOD',\n",
       " 'AMERICAN & LATIN CUISINE',\n",
       " \"AMERICAN AIRLINES ADMIRAL'S CLUB\",\n",
       " 'AMERICAN AIRLINES ADMIRALS CLUB',\n",
       " 'AMERICAN AIRLINES EMPLOYEE CAFETERIA',\n",
       " 'AMERICAN AIRLINES THEATER',\n",
       " 'AMERICAN BAR',\n",
       " 'AMERICAN CHEEZ',\n",
       " 'AMERICAN COFFEE SHOP',\n",
       " 'AMERICAN CUT',\n",
       " 'AMERICAN EXPRESS',\n",
       " 'AMERICAN EXPRESS CENTURION LOUNGE',\n",
       " 'AMERICAN GIRL CAFE',\n",
       " \"AMERICAN HERO & SUB'S\",\n",
       " 'AMERICAN LEGION VETERANS POST',\n",
       " 'AMERICAN MUSEUM OF NATURAL HISTORY FOOD COURT',\n",
       " 'AMERICAN MUSEUM OF THE MOVING IMAGE',\n",
       " 'AMERICAN NEW YORK BAGEL',\n",
       " 'AMERICAN RETRO BAR & GRILL',\n",
       " 'AMERICAN TURNERS NEW YORK',\n",
       " 'AMERICAN WHISKEY',\n",
       " 'AMERICAS BURGER AND WRAPS',\n",
       " 'AMERICAS RESTORANTE',\n",
       " 'AMERIGO',\n",
       " 'AMERITTANIA',\n",
       " 'AMF BOWLING CENTER',\n",
       " 'AMICI BAKERY',\n",
       " 'AMICI BAR',\n",
       " 'AMICI II',\n",
       " 'AMICI PIZZERIA',\n",
       " 'AMIGOS',\n",
       " 'AMIGOS RESTAURANT',\n",
       " 'AMINA THAI',\n",
       " \"AMIR'S\",\n",
       " 'AMITY HALL',\n",
       " 'AMMA',\n",
       " 'AMMAZZACAFFE',\n",
       " 'AMMOS ESTIATORIO',\n",
       " 'AMNON KOSHER PIZZA',\n",
       " 'AMOR BAKERY NO 2',\n",
       " 'AMOR CUBANO',\n",
       " 'AMOR KARAOKE & BAR',\n",
       " 'AMOR MEXICANA',\n",
       " 'AMORE',\n",
       " 'AMORE JUICE BAR',\n",
       " 'AMORE PIZZERIA & RESTAURANT',\n",
       " 'AMORINA',\n",
       " 'AMORINO',\n",
       " 'AMOUN',\n",
       " 'AMPLE HILLS',\n",
       " 'AMPLE HILLS BBP',\n",
       " 'AMPLE HILLS CREAMERY',\n",
       " 'AMSTER THAI',\n",
       " 'AMSTERDAM ALE HOUSE',\n",
       " 'AMSTERDAM BILLIARDS',\n",
       " 'AMSTERDAM BURGER CO.',\n",
       " 'AMSTERDAM GOURMET',\n",
       " 'AMSTERDAM TAVERN',\n",
       " 'AMURA JAPANESE RESTAURANT',\n",
       " 'AMUSED',\n",
       " \"AMY & CATHY'S CHINESE RESTAURANT\",\n",
       " \"AMY RUTH'S RESTAURANT\",\n",
       " \"AMY'S BREAD\",\n",
       " \"AMY'S BREAD (CAFE AT NEW YORK PUBLIC LIBRARY)\",\n",
       " \"AMY'S BREAD CAFE\",\n",
       " \"AMY'S CAFE & BAKERY\",\n",
       " \"AMY'S RESTAURANT\",\n",
       " 'AMYLOS',\n",
       " 'AN BEAL BOCHT CAFE',\n",
       " 'AN CHOI',\n",
       " \"AN'NAM\",\n",
       " \"ANA'S BAKERY & CAFE\",\n",
       " \"ANA'S PASTRY SHOP\",\n",
       " 'ANABLE BASIN SAILING',\n",
       " 'ANAFE SEAFOOD',\n",
       " 'ANAGO SUSHI/ROYAL SIAM THAI',\n",
       " 'ANAIAH RESTAURANT',\n",
       " 'ANALOGUE',\n",
       " 'ANARKALI INDIAN FOOD',\n",
       " 'ANASSA TAVERNA',\n",
       " 'ANATOLIA MEDITERRANEAN CUISINE',\n",
       " 'ANATOLIAN GYRO RESTAURANT',\n",
       " 'ANCHOR COFFEE',\n",
       " 'ANCHOR HEIGHTS',\n",
       " 'ANCHOR INN',\n",
       " 'ANCHOR WINEBAR',\n",
       " 'ANCOLIE',\n",
       " 'ANDALUCIA BAR & LOUNGE',\n",
       " 'ANDAMAN THAI BISTRO',\n",
       " 'ANDANADA',\n",
       " 'ANDAZ',\n",
       " 'ANDAZ 5TH AVENUE',\n",
       " 'ANDELLAS PIZZERIA',\n",
       " 'ANDIAMO CAFE',\n",
       " \"ANDIE'S PIZZA\",\n",
       " 'ANDO',\n",
       " \"ANDRE'S HUNGARIAN STRUDEL S & PASTRIES\",\n",
       " \"ANDRE'S HUNGARIAN STRUDELS & PASTRIES\",\n",
       " \"ANDRE'S PIZZA\",\n",
       " \"ANDREA'S CHICKEN\",\n",
       " \"ANDREA'S PIZZARIA\",\n",
       " \"ANDREA'S RESTAURANT\",\n",
       " 'ANDRES CARNE DE TRES',\n",
       " \"ANDREW'S COFFEE SHOP\",\n",
       " \"ANDREW'S DINER\",\n",
       " \"ANDREW'S PIZZERIA\",\n",
       " 'ANDREWS COFFEE SHOP',\n",
       " \"ANDY'S CAFE\",\n",
       " \"ANDY'S CAFETERIA\",\n",
       " \"ANDY'S CAFETERIA (HPD BUILDING)\",\n",
       " \"ANDY'S CAFETERIA (Queens Hospital)\",\n",
       " \"ANDY'S CUISINE RESTAURANT\",\n",
       " \"ANDY'S DELI\",\n",
       " \"ANDY'S RESTAURAUNT\",\n",
       " \"ANDY'S TERIYAKI & TACO\",\n",
       " 'ANEJO',\n",
       " 'ANEJO TRIBECA',\n",
       " 'ANELLA',\n",
       " 'ANFORA',\n",
       " 'ANGEL CANDY STORE',\n",
       " 'ANGEL DESSERTS',\n",
       " 'ANGEL OF HARLEM',\n",
       " \"ANGEL'S GRILL\",\n",
       " 'ANGELA RESTAURANT OF NY',\n",
       " \"ANGELA'S\",\n",
       " \"ANGELA'S BAKERY\",\n",
       " \"ANGELA'S CAKE\",\n",
       " \"ANGELA'S DELI\",\n",
       " \"ANGELA'S MONTANA TABLE\",\n",
       " \"ANGELA'S PIZZERIA\",\n",
       " 'ANGELICA KITCHEN',\n",
       " 'ANGELICA PIZZERIA',\n",
       " \"ANGELICA'S BAKERY\",\n",
       " \"ANGELICA'S CAFE\",\n",
       " 'ANGELIKA FILM CENTER',\n",
       " 'ANGELINA',\n",
       " 'ANGELINA GOURMET FOODS',\n",
       " \"ANGELINA'S KITCHEN\",\n",
       " \"ANGELINA'S METRO MARKET\",\n",
       " \"ANGELINA'S PANINI BAR\",\n",
       " \"ANGELINA'S RISTORANTE\",\n",
       " 'ANGELITOS DE LA NOCHE',\n",
       " \"ANGELO & AL'S PIZZERIA\",\n",
       " 'ANGELO BELLINI',\n",
       " 'ANGELO GORDON & COMPANY',\n",
       " 'ANGELO OF MULBERRY ST.',\n",
       " \"ANGELO'S PIZZA\",\n",
       " \"ANGELO'S PIZZERIA\",\n",
       " 'ANGELOS DELI RESTAURANT',\n",
       " 'ANGELS OF THE WORLD',\n",
       " \"ANGIE'S BREAKFAST SPOT\",\n",
       " \"ANGIE'S CAFE PIZZA\",\n",
       " \"ANGIOLINA'S RESTAURANT\",\n",
       " 'ANGKOR CAMBODIAN BISTRO',\n",
       " 'ANGLER',\n",
       " 'ANGLERS CLUB OF NEW YORK',\n",
       " 'ANGRY BURGER',\n",
       " 'ANGRY WADES',\n",
       " 'ANI PIZZA',\n",
       " 'ANI SUSHI',\n",
       " \"ANIL'S ROTI SHOP\",\n",
       " \"ANITA'S LUNCHEONETTE\",\n",
       " \"ANITA'S ROTI SHOP\",\n",
       " 'ANJAPPAR',\n",
       " 'ANKA GRILL',\n",
       " \"ANN & TONY'S RESTAURANT\",\n",
       " 'ANNA MARIA PIZZA PASTA',\n",
       " \"ANNA'S CAFE\",\n",
       " 'ANNABEL',\n",
       " ...]"
      ]
     },
     "execution_count": 137,
     "metadata": {},
     "output_type": "execute_result"
    }
   ],
   "source": [
    "# STEP 1: Read the list of names from a file and create a list of names\n",
    "path = '/home/ubuntu/jupyter/NYU_Notes/2-Introduction_to_Python/'\n",
    "filename = path + 'data/restaurants.txt'\n",
    "\n",
    "f = open(filename, 'r')\n",
    "content = f.read()\n",
    "f.close()\n",
    "names = sorted(set(content.split('\\n')))\n",
    "names"
   ]
  },
  {
   "cell_type": "markdown",
   "metadata": {},
   "source": [
    "### STEP 2: Implement the similarity function"
   ]
  },
  {
   "cell_type": "markdown",
   "metadata": {},
   "source": [
    "### Computing the similarity between two strings\n",
    "\n",
    "There are many ways that we can calculate the similarity between two strings. For our case, we will focus on a few similarity metrics that already have implementations in Python. \n",
    "\n",
    "##### Some commonly used similarity metrics\n",
    "\n",
    "* [Sequence matching](https://docs.python.org/3.6/library/difflib.html) (part of standard Python) ([example](http://stackoverflow.com/questions/17388213/find-the-similarity-percent-between-two-strings))\n",
    "* [Edit distance](https://en.wikipedia.org/wiki/Edit_distance) ([Python Jellyfish Library](https://github.com/jamesturk/jellyfish))\n",
    "* [N-gram distance](http://pythonhosted.org/ngram/tutorial.html#comparing-and-searching-strings)\n",
    "\n",
    "\n",
    "#### STEP 2.a: Let's figure out how we can install the libraries..."
   ]
  },
  {
   "cell_type": "code",
   "execution_count": 8,
   "metadata": {},
   "outputs": [
    {
     "name": "stdout",
     "output_type": "stream",
     "text": [
      "\u001b[33mThe directory '/home/ubuntu/.cache/pip/http' or its parent directory is not owned by the current user and the cache has been disabled. Please check the permissions and owner of that directory. If executing pip with sudo, you may want sudo's -H flag.\u001b[0m\n",
      "\u001b[33mThe directory '/home/ubuntu/.cache/pip' or its parent directory is not owned by the current user and caching wheels has been disabled. check the permissions and owner of that directory. If executing pip with sudo, you may want sudo's -H flag.\u001b[0m\n",
      "Requirement already up-to-date: jellyfish in /usr/local/lib/python3.5/dist-packages\n"
     ]
    }
   ],
   "source": [
    "# Edit distance\n",
    "!sudo pip3 install -U jellyfish"
   ]
  },
  {
   "cell_type": "code",
   "execution_count": 9,
   "metadata": {},
   "outputs": [
    {
     "name": "stdout",
     "output_type": "stream",
     "text": [
      "\u001b[33mThe directory '/home/ubuntu/.cache/pip/http' or its parent directory is not owned by the current user and the cache has been disabled. Please check the permissions and owner of that directory. If executing pip with sudo, you may want sudo's -H flag.\u001b[0m\n",
      "\u001b[33mThe directory '/home/ubuntu/.cache/pip' or its parent directory is not owned by the current user and caching wheels has been disabled. check the permissions and owner of that directory. If executing pip with sudo, you may want sudo's -H flag.\u001b[0m\n",
      "Requirement already up-to-date: ngram in /usr/local/lib/python3.5/dist-packages\n"
     ]
    }
   ],
   "source": [
    "# Ngram\n",
    "!sudo pip3 install -U ngram"
   ]
  },
  {
   "cell_type": "markdown",
   "metadata": {},
   "source": [
    "#### STEP 2.b: Now let's test our similarity functions with various examples\n",
    "\n",
    "Once we have installed the necessary libraries for our project, we proceed to `import` them and test the functions."
   ]
  },
  {
   "cell_type": "code",
   "execution_count": 11,
   "metadata": {
    "collapsed": true
   },
   "outputs": [],
   "source": [
    "import jellyfish"
   ]
  },
  {
   "cell_type": "markdown",
   "metadata": {},
   "source": [
    "##### Edit Distance\n",
    "\n",
    "From Wikipedia:\n",
    "\n",
    "The [edit distance](https://en.wikipedia.org/wiki/Edit_distance) _ is a way of quantifying how dissimilar two strings (e.g., words) are to one another by counting the minimum number of operations required to transform one string into the other._. \n",
    "\n",
    "The Levenshtein distance between \"kitten\" and \"sitting\" is 3. A minimal edit script that transforms the former into the latter is:\n",
    "\n",
    "* kitten → sitten (substitution of \"s\" for \"k\")\n",
    "* sitten → sittin (substitution of \"i\" for \"e\")\n",
    "* sittin → sitting (insertion of \"g\" at the end)."
   ]
  },
  {
   "cell_type": "code",
   "execution_count": 21,
   "metadata": {},
   "outputs": [
    {
     "data": {
      "text/plain": [
       "3"
      ]
     },
     "execution_count": 21,
     "metadata": {},
     "output_type": "execute_result"
    }
   ],
   "source": [
    "jellyfish.levenshtein_distance('kitten', 'sitting')"
   ]
  },
  {
   "cell_type": "markdown",
   "metadata": {},
   "source": [
    "Let's try a few more examples"
   ]
  },
  {
   "cell_type": "code",
   "execution_count": 22,
   "metadata": {},
   "outputs": [
    {
     "data": {
      "text/plain": [
       "1"
      ]
     },
     "execution_count": 22,
     "metadata": {},
     "output_type": "execute_result"
    }
   ],
   "source": [
    "jellyfish.levenshtein_distance('Starbucks', 'Starbacks')"
   ]
  },
  {
   "cell_type": "code",
   "execution_count": 23,
   "metadata": {},
   "outputs": [
    {
     "data": {
      "text/plain": [
       "1"
      ]
     },
     "execution_count": 23,
     "metadata": {},
     "output_type": "execute_result"
    }
   ],
   "source": [
    "jellyfish.levenshtein_distance('Starbucks', 'Starbuck')"
   ]
  },
  {
   "cell_type": "code",
   "execution_count": 24,
   "metadata": {},
   "outputs": [
    {
     "data": {
      "text/plain": [
       "8"
      ]
     },
     "execution_count": 24,
     "metadata": {},
     "output_type": "execute_result"
    }
   ],
   "source": [
    "jellyfish.levenshtein_distance('Starbucks', 'Wendys')"
   ]
  },
  {
   "cell_type": "markdown",
   "metadata": {},
   "source": [
    "##### Demerau Levenshtein distance\n",
    "\n",
    "The Demerau Levenshtein distance also allows for  transposition of two adjacent characters."
   ]
  },
  {
   "cell_type": "code",
   "execution_count": 32,
   "metadata": {},
   "outputs": [
    {
     "data": {
      "text/plain": [
       "1"
      ]
     },
     "execution_count": 32,
     "metadata": {},
     "output_type": "execute_result"
    }
   ],
   "source": [
    "jellyfish.damerau_levenshtein_distance('Starbucks', 'Starbucsk')"
   ]
  },
  {
   "cell_type": "code",
   "execution_count": 33,
   "metadata": {},
   "outputs": [
    {
     "data": {
      "text/plain": [
       "2"
      ]
     },
     "execution_count": 33,
     "metadata": {},
     "output_type": "execute_result"
    }
   ],
   "source": [
    "jellyfish.levenshtein_distance('Starbucks', 'Starbucsk')"
   ]
  },
  {
   "cell_type": "markdown",
   "metadata": {},
   "source": [
    "###### Jaro–Winkler distance\n",
    "\n",
    "[Jaro–Winkler distance](https://en.wikipedia.org/wiki/Jaro%E2%80%93Winkler_distance) is a string metric for measuring the edit distance between two sequences. Informally, the **Jaro** distance between two words is the minimum number of single-character transpositions required to change one word into the other; the **Jaro–Winkler** distance  gives more favourable ratings to strings that match from the beginning.\n"
   ]
  },
  {
   "cell_type": "code",
   "execution_count": 38,
   "metadata": {},
   "outputs": [
    {
     "data": {
      "text/plain": [
       "0.8222222222222222"
      ]
     },
     "execution_count": 38,
     "metadata": {},
     "output_type": "execute_result"
    }
   ],
   "source": [
    "jellyfish.jaro_winkler('Starbucks', 'Starbarbr')"
   ]
  },
  {
   "cell_type": "code",
   "execution_count": 35,
   "metadata": {},
   "outputs": [
    {
     "data": {
      "text/plain": [
       "0.7037037037037037"
      ]
     },
     "execution_count": 35,
     "metadata": {},
     "output_type": "execute_result"
    }
   ],
   "source": [
    "jellyfish.jaro_winkler('Starbucks', 'Milwbucks')"
   ]
  },
  {
   "cell_type": "markdown",
   "metadata": {},
   "source": [
    "##### Soundex\n",
    "\n",
    "[Soundex](https://en.wikipedia.org/wiki/Soundex) is a phonetic algorithm for indexing names by sound, as pronounced in English. The goal is for homophones to be encoded to the same representation so that they can be matched despite minor differences in spelling. \n",
    "\n",
    "Using this algorithm, both \"Robert\" and \"Rupert\" return the same string \"R163\" while \"Rubin\" yields \"R150\". \"Ashcraft\" and \"Ashcroft\" both yield \"A261\". \"Tymczak\" yields \"T522\" not \"T520\" (the chars 'z' and 'k' in the name are coded as 2 twice since a vowel lies in between them). \"Pfister\" yields \"P236\" not \"P123\" (the first two letters have the same number and are coded once as 'P')."
   ]
  },
  {
   "cell_type": "code",
   "execution_count": 42,
   "metadata": {},
   "outputs": [
    {
     "data": {
      "text/plain": [
       "'R163'"
      ]
     },
     "execution_count": 42,
     "metadata": {},
     "output_type": "execute_result"
    }
   ],
   "source": [
    "jellyfish.soundex('Robert')"
   ]
  },
  {
   "cell_type": "code",
   "execution_count": 43,
   "metadata": {},
   "outputs": [
    {
     "data": {
      "text/plain": [
       "'R163'"
      ]
     },
     "execution_count": 43,
     "metadata": {},
     "output_type": "execute_result"
    }
   ],
   "source": [
    "jellyfish.soundex('Rupert')"
   ]
  },
  {
   "cell_type": "code",
   "execution_count": 44,
   "metadata": {},
   "outputs": [
    {
     "data": {
      "text/plain": [
       "'A226'"
      ]
     },
     "execution_count": 44,
     "metadata": {},
     "output_type": "execute_result"
    }
   ],
   "source": [
    "jellyfish.soundex('Ashcroft')"
   ]
  },
  {
   "cell_type": "code",
   "execution_count": 45,
   "metadata": {},
   "outputs": [
    {
     "data": {
      "text/plain": [
       "'A226'"
      ]
     },
     "execution_count": 45,
     "metadata": {},
     "output_type": "execute_result"
    }
   ],
   "source": [
    "jellyfish.soundex('Ashcraft')"
   ]
  },
  {
   "cell_type": "markdown",
   "metadata": {},
   "source": [
    "#### Ngrams\n",
    "\n",
    "With the n-gram similarity score, we split the word into sequences of n consecutive characters (n-grams) and then compare the sets of n-grams between the two words. For example, the name \"Panos\" has the following 2-grams: \"Pa\", \"an\", \"no\", \"os\". (We can also add \"#P\" and \"s#\" if we want to capture the prefix and suffixes.) Strings that share a large number of q-grams are often similar."
   ]
  },
  {
   "cell_type": "code",
   "execution_count": 53,
   "metadata": {
    "collapsed": true
   },
   "outputs": [],
   "source": [
    "import ngram"
   ]
  },
  {
   "cell_type": "code",
   "execution_count": 54,
   "metadata": {},
   "outputs": [
    {
     "data": {
      "text/plain": [
       "0.7272727272727273"
      ]
     },
     "execution_count": 54,
     "metadata": {},
     "output_type": "execute_result"
    }
   ],
   "source": [
    "ngram.NGram.compare('Ipeirotis','Iperotis',N=2)"
   ]
  },
  {
   "cell_type": "code",
   "execution_count": 55,
   "metadata": {},
   "outputs": [
    {
     "data": {
      "text/plain": [
       "0.8571428571428571"
      ]
     },
     "execution_count": 55,
     "metadata": {},
     "output_type": "execute_result"
    }
   ],
   "source": [
    "ngram.NGram.compare('New York University','New York Universty',N=2)"
   ]
  },
  {
   "cell_type": "markdown",
   "metadata": {},
   "source": [
    "#### Task 1: Create a function that takes as input two strings and returns their similarity\n",
    "\n",
    "Given the experience with the metrics above, we want now to create a function that takes as input a string and returns their similarity. Our key requirement is for the similarity metric to be between 0 and 1, with 0 meaning no similarity, and 1 corresponding to identical strings. Some of the similarity functions above would fit right in, others will need some work. "
   ]
  },
  {
   "cell_type": "code",
   "execution_count": 138,
   "metadata": {
    "collapsed": true
   },
   "outputs": [],
   "source": [
    "# For n-gram similarity it is very simple, we just return the result\n",
    "def computeSimilarity(str1, str2):\n",
    "    return ngram.NGram.compare(str1,str2,N=2)"
   ]
  },
  {
   "cell_type": "code",
   "execution_count": 139,
   "metadata": {},
   "outputs": [
    {
     "data": {
      "text/plain": [
       "0.38095238095238093"
      ]
     },
     "execution_count": 139,
     "metadata": {},
     "output_type": "execute_result"
    }
   ],
   "source": [
    "computeSimilarity('New York University','New York')"
   ]
  },
  {
   "cell_type": "code",
   "execution_count": 140,
   "metadata": {
    "collapsed": true
   },
   "outputs": [],
   "source": [
    "# For edit distance, we need to normalize. \n",
    "# Edit distance is always the maximum of the length of the two strings\n",
    "# (can you figure out why?) so we can use that to normalize the distance\n",
    "def computeSimilarity(str1, str2):\n",
    "    dist = jellyfish.levenshtein_distance(str1, str2)\n",
    "    max_dist = max(len(str1), len(str2))\n",
    "    similarity = 1 - dist/max_dist\n",
    "    return similarity"
   ]
  },
  {
   "cell_type": "code",
   "execution_count": 141,
   "metadata": {},
   "outputs": [
    {
     "data": {
      "text/plain": [
       "0.42105263157894735"
      ]
     },
     "execution_count": 141,
     "metadata": {},
     "output_type": "execute_result"
    }
   ],
   "source": [
    "computeSimilarity('New York University','New York')"
   ]
  },
  {
   "cell_type": "markdown",
   "metadata": {},
   "source": [
    "#### Task 2: Modify the functions above to allow for various similarity calculation methods.\n",
    "\n",
    "We will now up our game, and return back the results of the comparison using multiple methods at once. "
   ]
  },
  {
   "cell_type": "code",
   "execution_count": 77,
   "metadata": {
    "collapsed": true
   },
   "outputs": [],
   "source": [
    "def computeSimilarity_2gram(str1, str2):\n",
    "    return ngram.NGram.compare(str1,str2,N=2)\n",
    "\n",
    "def computeSimilarity_3gram(str1, str2):\n",
    "    return ngram.NGram.compare(str1,str2,N=3)\n",
    "\n",
    "def computeSimilarity_edit_distance(str1, str2):\n",
    "    dist = jellyfish.levenshtein_distance(str1, str2)\n",
    "    max_dist = max(len(str1), len(str2))\n",
    "    similarity = 1 - dist/max_dist\n",
    "    return similarity\n",
    "\n",
    "def computeSimilarity_soundex(str1, str2):\n",
    "    s1 = jellyfish.soundex(str1)\n",
    "    s2 = jellyfish.soundex(str2)\n",
    "    if (s1==s2):\n",
    "        return 1\n",
    "    else:\n",
    "        return 0"
   ]
  },
  {
   "cell_type": "code",
   "execution_count": 94,
   "metadata": {},
   "outputs": [
    {
     "data": {
      "text/plain": [
       "0.34782608695652173"
      ]
     },
     "execution_count": 94,
     "metadata": {},
     "output_type": "execute_result"
    }
   ],
   "source": [
    "def computeSimilarity(str1, str2, method):\n",
    "    if method == '2-gram':\n",
    "        return computeSimilarity_2gram(str1, str2)\n",
    "    elif method == '3-gram':\n",
    "        return computeSimilarity_3gram(str1, str2)\n",
    "    elif method == 'levenshtein':\n",
    "        return computeSimilarity_edit_distance(str1, str2)\n",
    "    elif method == 'soundex':\n",
    "        return computeSimilarity_soundex(str1, str2)\n",
    "    \n",
    "computeSimilarity('New York University','New York', method='3-gram')"
   ]
  },
  {
   "cell_type": "code",
   "execution_count": 142,
   "metadata": {},
   "outputs": [],
   "source": [
    "# This is a bit more advanced, conceptually.\n",
    "# Instead of selecting a method to use, we use all available methods to \n",
    "# do our comparison, and we return a dictionary with the results\n",
    "# This approach would be useful when dealing with the problem \n",
    "# as a classification problem (match vs no match) and we want to\n",
    "# use the distance values as features\n",
    "def computeSimilarity(str1, str2):\n",
    "    result = {\n",
    "        '2-gram': computeSimilarity_2gram(str1, str2),\n",
    "        '3-gram': computeSimilarity_3gram(str1, str2),\n",
    "        'levenshtein': computeSimilarity_edit_distance(str1, str2),\n",
    "        'soundex': computeSimilarity_soundex(str1, str2)\n",
    "    }\n",
    "    \n",
    "    return result\n",
    "\n",
    "computeSimilarity('New York University','New York Universty')"
   ]
  },
  {
   "cell_type": "markdown",
   "metadata": {},
   "source": [
    "### STEP 3: Compute similarity of a company against a list of company names"
   ]
  },
  {
   "cell_type": "markdown",
   "metadata": {},
   "source": [
    "We now create a function that accepts a company name and a list of companies, and computes their similarity. This part will get us to exercise our for-loops, and also illustrate how we can use lists and tuples."
   ]
  },
  {
   "cell_type": "markdown",
   "metadata": {},
   "source": [
    "**Sorting a list of tuples**:_This part is a little bit advanced for now, so I will just give the code below. (Solution taken from http://stackoverflow.com/questions/3121979/how-to-sort-list-tuple-of-lists-tuples). Here is a small example below, which we will reuse in our function:_"
   ]
  },
  {
   "cell_type": "code",
   "execution_count": 93,
   "metadata": {},
   "outputs": [
    {
     "name": "stdout",
     "output_type": "stream",
     "text": [
      "[('Peter', 0.6), ('Panos', 0.5), ('Pan', 0.4)]\n"
     ]
    }
   ],
   "source": [
    "data = [(\"Panos\",0.5), (\"Peter\",0.6), (\"Pan\", 0.4)]\n",
    "data.sort(key=lambda tupl: tupl[1], reverse=True)  # sorts in place, in descending order, based on the second element of the tuple\n",
    "print(data)"
   ]
  },
  {
   "cell_type": "code",
   "execution_count": 125,
   "metadata": {},
   "outputs": [],
   "source": [
    "# STEP 3: We now create a function that accepts a company name\n",
    "# and a list of companies, and computes their similarity\n",
    "# We have a 'top' parameter (by default set to be 5)\n",
    "# that restricts the results to only the most similar \n",
    "# string pairs. We also define a parameter \"method\" that defines \n",
    "# what is the similarity method that we want to use. We also define a \n",
    "# similarity threshold for keeping only results with sufficient similarity\n",
    "\n",
    "def companySimilarity(query, companyList, top = 5, method = '2-gram', sim_threshold = 0.5):\n",
    "    # Initialize the list\n",
    "    results = []\n",
    "    # Go over all the companies in the data set....\n",
    "    for company in companyList:\n",
    "        # Compute the similarity of each company against the \"query\" variable\n",
    "        sim = computeSimilarity(query, company, method)\n",
    "        # We keep only results with sufficient similarity and we do not keep identical names\n",
    "        if sim > sim_threshold and query!=company:\n",
    "            # We store the similar company name, and the value of their similarity\n",
    "            results.append( (company, sim) )\n",
    "    # With the command below we sort the results, and put the most similar results in the top\n",
    "    results.sort(key=lambda tupl: tupl[1], reverse=True)\n",
    "    # We return only the first \"threshold\" results\n",
    "    return results[:top]\n",
    "      \n"
   ]
  },
  {
   "cell_type": "code",
   "execution_count": 126,
   "metadata": {},
   "outputs": [
    {
     "data": {
      "text/plain": [
       "[('MC DONALDS', 0.75),\n",
       " (\"MCDONALD'S\", 0.75),\n",
       " ('MCDONALD', 0.7272727272727273),\n",
       " (\"MC DONALD'S\", 0.5714285714285714),\n",
       " (\"MCDONALD'S \", 0.5714285714285714)]"
      ]
     },
     "execution_count": 126,
     "metadata": {},
     "output_type": "execute_result"
    }
   ],
   "source": [
    "r = companySimilarity(\"MCDONALDS\", names)\n",
    "r"
   ]
  },
  {
   "cell_type": "markdown",
   "metadata": {},
   "source": [
    "### Step 4: Perform the similarity computation across all companies in the dataset."
   ]
  },
  {
   "cell_type": "code",
   "execution_count": 127,
   "metadata": {
    "collapsed": true
   },
   "outputs": [],
   "source": [
    "# STEP 4: We are almost done. We now just go through all the companies in the list\n",
    "# and we call the companySimilarity function that computes the similar company names\n",
    "# for all the companies in the list. We store the results in a dictionary, with the \n",
    "# key being the company name, and the value being a \"list of tuples\" with the \n",
    "# similar company names and the corresponding similarity value.\n"
   ]
  },
  {
   "cell_type": "code",
   "execution_count": 133,
   "metadata": {},
   "outputs": [
    {
     "name": "stdout",
     "output_type": "stream",
     "text": [
      "#1 SABOR LATINO RESTAURANT \t SABOR LATINO RESTAURANT \t 0.8214285714285714\n",
      "#1 SABOR LATINO RESTAURANT \t SABOR LATINO SEAFOOD RESTAURANT \t 0.6857142857142857\n",
      "#1 SABOR LATINO RESTAURANT \t LATINO RESTAURANT \t 0.6071428571428571\n",
      "#1 SABOR LATINO RESTAURANT \t NUEVO SABOR RESTAURANT \t 0.5625\n",
      "#1 SABOR LATINO RESTAURANT \t NUESTRO SABOR LATINO RESTAURANT CORP \t 0.5609756097560976\n",
      "''U'' LIKE CHINESE RESTAURANT \t U LIKE CHINESE RESTAURANT \t 0.75\n",
      "''U'' LIKE CHINESE RESTAURANT \t LEE CHINESE RESTAURANT \t 0.6060606060606061\n",
      "''U'' LIKE CHINESE RESTAURANT \t BAI LI CHINESE RESTAURANT \t 0.6\n",
      "''U'' LIKE CHINESE RESTAURANT \t FU KEE CHINESE RESTAURANT \t 0.6\n",
      "''U'' LIKE CHINESE RESTAURANT \t HO LEE CHINESE RESTAURANT \t 0.6\n",
      "'WICHCRAFT \t WICHCRAFT \t 0.75\n",
      "(LIBRARY)  FOUR & TWENTY BLACKBIRDS \t FOUR & TWENTY BLACKBIRDS \t 0.6486486486486487\n"
     ]
    },
    {
     "ename": "KeyboardInterrupt",
     "evalue": "",
     "output_type": "error",
     "traceback": [
      "\u001b[0;31m---------------------------------------------------------------------------\u001b[0m",
      "\u001b[0;31mKeyboardInterrupt\u001b[0m                         Traceback (most recent call last)",
      "\u001b[0;32m<ipython-input-133-9f9e36b2e7b3>\u001b[0m in \u001b[0;36m<module>\u001b[0;34m()\u001b[0m\n\u001b[1;32m      1\u001b[0m \u001b[0;32mfor\u001b[0m \u001b[0mcompanyName\u001b[0m \u001b[0;32min\u001b[0m \u001b[0mnames\u001b[0m\u001b[0;34m:\u001b[0m\u001b[0;34m\u001b[0m\u001b[0m\n\u001b[0;32m----> 2\u001b[0;31m     \u001b[0mmatches\u001b[0m \u001b[0;34m=\u001b[0m \u001b[0mcompanySimilarity\u001b[0m\u001b[0;34m(\u001b[0m\u001b[0mcompanyName\u001b[0m\u001b[0;34m,\u001b[0m \u001b[0mnames\u001b[0m\u001b[0;34m)\u001b[0m\u001b[0;34m\u001b[0m\u001b[0m\n\u001b[0m\u001b[1;32m      3\u001b[0m     \u001b[0;32mfor\u001b[0m \u001b[0mmatch\u001b[0m\u001b[0;34m,\u001b[0m \u001b[0msim\u001b[0m \u001b[0;32min\u001b[0m \u001b[0mmatches\u001b[0m\u001b[0;34m:\u001b[0m\u001b[0;34m\u001b[0m\u001b[0m\n\u001b[1;32m      4\u001b[0m         \u001b[0mprint\u001b[0m\u001b[0;34m(\u001b[0m\u001b[0mcompanyName\u001b[0m\u001b[0;34m,\u001b[0m \u001b[0;34m\"\\t\"\u001b[0m\u001b[0;34m,\u001b[0m \u001b[0mmatch\u001b[0m\u001b[0;34m,\u001b[0m \u001b[0;34m\"\\t\"\u001b[0m\u001b[0;34m,\u001b[0m \u001b[0msim\u001b[0m\u001b[0;34m)\u001b[0m\u001b[0;34m\u001b[0m\u001b[0m\n",
      "\u001b[0;32m<ipython-input-125-3a16593e4e96>\u001b[0m in \u001b[0;36mcompanySimilarity\u001b[0;34m(query, companyList, top, method, sim_threshold)\u001b[0m\n\u001b[1;32m     13\u001b[0m     \u001b[0;32mfor\u001b[0m \u001b[0mcompany\u001b[0m \u001b[0;32min\u001b[0m \u001b[0mcompanyList\u001b[0m\u001b[0;34m:\u001b[0m\u001b[0;34m\u001b[0m\u001b[0m\n\u001b[1;32m     14\u001b[0m         \u001b[0;31m# Compute the similarity of each company against the \"query\" variable\u001b[0m\u001b[0;34m\u001b[0m\u001b[0;34m\u001b[0m\u001b[0m\n\u001b[0;32m---> 15\u001b[0;31m         \u001b[0msim\u001b[0m \u001b[0;34m=\u001b[0m \u001b[0mcomputeSimilarity\u001b[0m\u001b[0;34m(\u001b[0m\u001b[0mquery\u001b[0m\u001b[0;34m,\u001b[0m \u001b[0mcompany\u001b[0m\u001b[0;34m,\u001b[0m \u001b[0mmethod\u001b[0m\u001b[0;34m)\u001b[0m\u001b[0;34m\u001b[0m\u001b[0m\n\u001b[0m\u001b[1;32m     16\u001b[0m         \u001b[0;31m# We keep only results with sufficient similarity and we do not keep identical names\u001b[0m\u001b[0;34m\u001b[0m\u001b[0;34m\u001b[0m\u001b[0m\n\u001b[1;32m     17\u001b[0m         \u001b[0;32mif\u001b[0m \u001b[0msim\u001b[0m \u001b[0;34m>\u001b[0m \u001b[0msim_threshold\u001b[0m \u001b[0;32mand\u001b[0m \u001b[0mquery\u001b[0m\u001b[0;34m!=\u001b[0m\u001b[0mcompany\u001b[0m\u001b[0;34m:\u001b[0m\u001b[0;34m\u001b[0m\u001b[0m\n",
      "\u001b[0;32m<ipython-input-94-6c6c032966e2>\u001b[0m in \u001b[0;36mcomputeSimilarity\u001b[0;34m(str1, str2, method)\u001b[0m\n\u001b[1;32m      1\u001b[0m \u001b[0;32mdef\u001b[0m \u001b[0mcomputeSimilarity\u001b[0m\u001b[0;34m(\u001b[0m\u001b[0mstr1\u001b[0m\u001b[0;34m,\u001b[0m \u001b[0mstr2\u001b[0m\u001b[0;34m,\u001b[0m \u001b[0mmethod\u001b[0m\u001b[0;34m)\u001b[0m\u001b[0;34m:\u001b[0m\u001b[0;34m\u001b[0m\u001b[0m\n\u001b[1;32m      2\u001b[0m     \u001b[0;32mif\u001b[0m \u001b[0mmethod\u001b[0m \u001b[0;34m==\u001b[0m \u001b[0;34m'2-gram'\u001b[0m\u001b[0;34m:\u001b[0m\u001b[0;34m\u001b[0m\u001b[0m\n\u001b[0;32m----> 3\u001b[0;31m         \u001b[0;32mreturn\u001b[0m \u001b[0mcomputeSimilarity_2gram\u001b[0m\u001b[0;34m(\u001b[0m\u001b[0mstr1\u001b[0m\u001b[0;34m,\u001b[0m \u001b[0mstr2\u001b[0m\u001b[0;34m)\u001b[0m\u001b[0;34m\u001b[0m\u001b[0m\n\u001b[0m\u001b[1;32m      4\u001b[0m     \u001b[0;32melif\u001b[0m \u001b[0mmethod\u001b[0m \u001b[0;34m==\u001b[0m \u001b[0;34m'3-gram'\u001b[0m\u001b[0;34m:\u001b[0m\u001b[0;34m\u001b[0m\u001b[0m\n\u001b[1;32m      5\u001b[0m         \u001b[0;32mreturn\u001b[0m \u001b[0mcomputeSimilarity_3gram\u001b[0m\u001b[0;34m(\u001b[0m\u001b[0mstr1\u001b[0m\u001b[0;34m,\u001b[0m \u001b[0mstr2\u001b[0m\u001b[0;34m)\u001b[0m\u001b[0;34m\u001b[0m\u001b[0m\n",
      "\u001b[0;32m<ipython-input-77-8b4408fbf0e3>\u001b[0m in \u001b[0;36mcomputeSimilarity_2gram\u001b[0;34m(str1, str2)\u001b[0m\n\u001b[1;32m      1\u001b[0m \u001b[0;32mdef\u001b[0m \u001b[0mcomputeSimilarity_2gram\u001b[0m\u001b[0;34m(\u001b[0m\u001b[0mstr1\u001b[0m\u001b[0;34m,\u001b[0m \u001b[0mstr2\u001b[0m\u001b[0;34m)\u001b[0m\u001b[0;34m:\u001b[0m\u001b[0;34m\u001b[0m\u001b[0m\n\u001b[0;32m----> 2\u001b[0;31m     \u001b[0;32mreturn\u001b[0m \u001b[0mngram\u001b[0m\u001b[0;34m.\u001b[0m\u001b[0mNGram\u001b[0m\u001b[0;34m.\u001b[0m\u001b[0mcompare\u001b[0m\u001b[0;34m(\u001b[0m\u001b[0mstr1\u001b[0m\u001b[0;34m,\u001b[0m\u001b[0mstr2\u001b[0m\u001b[0;34m,\u001b[0m\u001b[0mN\u001b[0m\u001b[0;34m=\u001b[0m\u001b[0;36m2\u001b[0m\u001b[0;34m)\u001b[0m\u001b[0;34m\u001b[0m\u001b[0m\n\u001b[0m\u001b[1;32m      3\u001b[0m \u001b[0;34m\u001b[0m\u001b[0m\n\u001b[1;32m      4\u001b[0m \u001b[0;32mdef\u001b[0m \u001b[0mcomputeSimilarity_3gram\u001b[0m\u001b[0;34m(\u001b[0m\u001b[0mstr1\u001b[0m\u001b[0;34m,\u001b[0m \u001b[0mstr2\u001b[0m\u001b[0;34m)\u001b[0m\u001b[0;34m:\u001b[0m\u001b[0;34m\u001b[0m\u001b[0m\n\u001b[1;32m      5\u001b[0m     \u001b[0;32mreturn\u001b[0m \u001b[0mngram\u001b[0m\u001b[0;34m.\u001b[0m\u001b[0mNGram\u001b[0m\u001b[0;34m.\u001b[0m\u001b[0mcompare\u001b[0m\u001b[0;34m(\u001b[0m\u001b[0mstr1\u001b[0m\u001b[0;34m,\u001b[0m\u001b[0mstr2\u001b[0m\u001b[0;34m,\u001b[0m\u001b[0mN\u001b[0m\u001b[0;34m=\u001b[0m\u001b[0;36m3\u001b[0m\u001b[0;34m)\u001b[0m\u001b[0;34m\u001b[0m\u001b[0m\n",
      "\u001b[0;32m/usr/local/lib/python3.5/dist-packages/ngram.py\u001b[0m in \u001b[0;36mcompare\u001b[0;34m(s1, s2, **kwargs)\u001b[0m\n\u001b[1;32m    426\u001b[0m             \u001b[0;32mreturn\u001b[0m \u001b[0;36m0.0\u001b[0m\u001b[0;34m\u001b[0m\u001b[0m\n\u001b[1;32m    427\u001b[0m         \u001b[0;32mtry\u001b[0m\u001b[0;34m:\u001b[0m\u001b[0;34m\u001b[0m\u001b[0m\n\u001b[0;32m--> 428\u001b[0;31m             \u001b[0;32mreturn\u001b[0m \u001b[0mNGram\u001b[0m\u001b[0;34m(\u001b[0m\u001b[0;34m[\u001b[0m\u001b[0ms1\u001b[0m\u001b[0;34m]\u001b[0m\u001b[0;34m,\u001b[0m \u001b[0;34m**\u001b[0m\u001b[0mkwargs\u001b[0m\u001b[0;34m)\u001b[0m\u001b[0;34m.\u001b[0m\u001b[0msearch\u001b[0m\u001b[0;34m(\u001b[0m\u001b[0ms2\u001b[0m\u001b[0;34m)\u001b[0m\u001b[0;34m[\u001b[0m\u001b[0;36m0\u001b[0m\u001b[0;34m]\u001b[0m\u001b[0;34m[\u001b[0m\u001b[0;36m1\u001b[0m\u001b[0;34m]\u001b[0m\u001b[0;34m\u001b[0m\u001b[0m\n\u001b[0m\u001b[1;32m    429\u001b[0m         \u001b[0;32mexcept\u001b[0m \u001b[0mIndexError\u001b[0m\u001b[0;34m:\u001b[0m\u001b[0;34m\u001b[0m\u001b[0m\n\u001b[1;32m    430\u001b[0m             \u001b[0;32mreturn\u001b[0m \u001b[0;36m0.0\u001b[0m\u001b[0;34m\u001b[0m\u001b[0m\n",
      "\u001b[0;32m/usr/local/lib/python3.5/dist-packages/ngram.py\u001b[0m in \u001b[0;36m__init__\u001b[0;34m(self, items, threshold, warp, key, N, pad_len, pad_char, **kwargs)\u001b[0m\n\u001b[1;32m    107\u001b[0m         \u001b[0mself\u001b[0m\u001b[0;34m.\u001b[0m\u001b[0mlength\u001b[0m \u001b[0;34m=\u001b[0m \u001b[0;34m{\u001b[0m\u001b[0;34m}\u001b[0m\u001b[0;34m\u001b[0m\u001b[0m\n\u001b[1;32m    108\u001b[0m         \u001b[0;32mif\u001b[0m \u001b[0mitems\u001b[0m\u001b[0;34m:\u001b[0m\u001b[0;34m\u001b[0m\u001b[0m\n\u001b[0;32m--> 109\u001b[0;31m             \u001b[0mself\u001b[0m\u001b[0;34m.\u001b[0m\u001b[0mupdate\u001b[0m\u001b[0;34m(\u001b[0m\u001b[0mitems\u001b[0m\u001b[0;34m)\u001b[0m\u001b[0;34m\u001b[0m\u001b[0m\n\u001b[0m\u001b[1;32m    110\u001b[0m \u001b[0;34m\u001b[0m\u001b[0m\n\u001b[1;32m    111\u001b[0m     \u001b[0;32mdef\u001b[0m \u001b[0m__reduce__\u001b[0m\u001b[0;34m(\u001b[0m\u001b[0mself\u001b[0m\u001b[0;34m)\u001b[0m\u001b[0;34m:\u001b[0m\u001b[0;34m\u001b[0m\u001b[0m\n",
      "\u001b[0;32m/usr/local/lib/python3.5/dist-packages/ngram.py\u001b[0m in \u001b[0;36mupdate\u001b[0;34m(self, items)\u001b[0m\n\u001b[1;32m    442\u001b[0m         \"\"\"\n\u001b[1;32m    443\u001b[0m         \u001b[0;32mfor\u001b[0m \u001b[0mitem\u001b[0m \u001b[0;32min\u001b[0m \u001b[0mitems\u001b[0m\u001b[0;34m:\u001b[0m\u001b[0;34m\u001b[0m\u001b[0m\n\u001b[0;32m--> 444\u001b[0;31m             \u001b[0mself\u001b[0m\u001b[0;34m.\u001b[0m\u001b[0madd\u001b[0m\u001b[0;34m(\u001b[0m\u001b[0mitem\u001b[0m\u001b[0;34m)\u001b[0m\u001b[0;34m\u001b[0m\u001b[0m\n\u001b[0m\u001b[1;32m    445\u001b[0m \u001b[0;34m\u001b[0m\u001b[0m\n\u001b[1;32m    446\u001b[0m     \u001b[0;32mdef\u001b[0m \u001b[0mdiscard\u001b[0m\u001b[0;34m(\u001b[0m\u001b[0mself\u001b[0m\u001b[0;34m,\u001b[0m \u001b[0mitem\u001b[0m\u001b[0;34m)\u001b[0m\u001b[0;34m:\u001b[0m\u001b[0;34m\u001b[0m\u001b[0m\n",
      "\u001b[0;32m/usr/local/lib/python3.5/dist-packages/ngram.py\u001b[0m in \u001b[0;36madd\u001b[0;34m(self, item)\u001b[0m\n\u001b[1;32m    226\u001b[0m             \u001b[0;32mfor\u001b[0m \u001b[0mngram\u001b[0m \u001b[0;32min\u001b[0m \u001b[0mself\u001b[0m\u001b[0;34m.\u001b[0m\u001b[0m_split\u001b[0m\u001b[0;34m(\u001b[0m\u001b[0mpadded_item\u001b[0m\u001b[0;34m)\u001b[0m\u001b[0;34m:\u001b[0m\u001b[0;34m\u001b[0m\u001b[0m\n\u001b[1;32m    227\u001b[0m                 \u001b[0;31m# Add a new n-gram and string to index if necessary\u001b[0m\u001b[0;34m\u001b[0m\u001b[0;34m\u001b[0m\u001b[0m\n\u001b[0;32m--> 228\u001b[0;31m                 \u001b[0mself\u001b[0m\u001b[0;34m.\u001b[0m\u001b[0m_grams\u001b[0m\u001b[0;34m.\u001b[0m\u001b[0msetdefault\u001b[0m\u001b[0;34m(\u001b[0m\u001b[0mngram\u001b[0m\u001b[0;34m,\u001b[0m \u001b[0;34m{\u001b[0m\u001b[0;34m}\u001b[0m\u001b[0;34m)\u001b[0m\u001b[0;34m.\u001b[0m\u001b[0msetdefault\u001b[0m\u001b[0;34m(\u001b[0m\u001b[0mitem\u001b[0m\u001b[0;34m,\u001b[0m \u001b[0;36m0\u001b[0m\u001b[0;34m)\u001b[0m\u001b[0;34m\u001b[0m\u001b[0m\n\u001b[0m\u001b[1;32m    229\u001b[0m                 \u001b[0;31m# Increment number of times the n-gram appears in the string\u001b[0m\u001b[0;34m\u001b[0m\u001b[0;34m\u001b[0m\u001b[0m\n\u001b[1;32m    230\u001b[0m                 \u001b[0mself\u001b[0m\u001b[0;34m.\u001b[0m\u001b[0m_grams\u001b[0m\u001b[0;34m[\u001b[0m\u001b[0mngram\u001b[0m\u001b[0;34m]\u001b[0m\u001b[0;34m[\u001b[0m\u001b[0mitem\u001b[0m\u001b[0;34m]\u001b[0m \u001b[0;34m+=\u001b[0m \u001b[0;36m1\u001b[0m\u001b[0;34m\u001b[0m\u001b[0m\n",
      "\u001b[0;31mKeyboardInterrupt\u001b[0m: "
     ]
    }
   ],
   "source": [
    "for companyName in names:\n",
    "    matches = companySimilarity(companyName, names)\n",
    "    for match, sim in matches:\n",
    "        print(companyName, \"\\t\", match, \"\\t\", sim)"
   ]
  },
  {
   "cell_type": "code",
   "execution_count": null,
   "metadata": {
    "collapsed": true
   },
   "outputs": [],
   "source": []
  }
 ],
 "metadata": {
  "kernelspec": {
   "display_name": "Python 3",
   "language": "python",
   "name": "python3"
  },
  "language_info": {
   "codemirror_mode": {
    "name": "ipython",
    "version": 3
   },
   "file_extension": ".py",
   "mimetype": "text/x-python",
   "name": "python",
   "nbconvert_exporter": "python",
   "pygments_lexer": "ipython3",
   "version": "3.5.2"
  }
 },
 "nbformat": 4,
 "nbformat_minor": 1
}
