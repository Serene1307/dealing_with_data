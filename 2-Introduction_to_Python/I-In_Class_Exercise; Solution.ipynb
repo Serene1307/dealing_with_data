{
 "cells": [
  {
   "cell_type": "markdown",
   "metadata": {},
   "source": [
    "# Our Task: Find similar company names\n",
    "\n",
    "Now that we have completed our Python Primer, let's try to complete a real task, while at the same time trying to practice loops, iterations, and other Python functionality that we studied.\n",
    "\n",
    "### Matching Company Names\n",
    "\n",
    "Quite often, in our data, we have entries represented as strings that refer to the same entity but have different string representations (e.g., McDonald's vs McDonalds vs McDonald‎). We want to write code that will help in the task of finding such similar entries in our data.\n",
    "\n",
    "Our task can be broken in the following tasks:\n",
    "* **Step 1**: Read the data from a file into a list of strings in memory (one string per line). For our source of company names, we can use either the list of restaurant names from the Restaurant Inspection dataset (see our prior session), and/or use a list of companies from a file available at https://dl.dropboxusercontent.com/u/16006464/DwD_Winter2015/companies.txt. We need to write Python code that will read these files and return a list of company names.\n",
    "* **Step 2**: We will then need to figure out how to compare two strings and find their similarity. For that, we need to write a function that takes as input two strings, and returns back their similarities (we will see below how to do that).\n",
    "* **Step 3**: We will need to write a function that takes as input a company name, and returns back a list of matching company names, together with their similarity. Ideally, we would like to also sort the list based on the similarity (highest similarity metrics on top). As part of our learning process, we will use the _list comprehension_ approach to create the list. We will also use tuples as the elements of the list, so that the list contain elements such as `[(\"McDonalds\", 0.88), (\"McDonald's\", 0.81),....]`.\n",
    "* **Step 4**: In the final step, we will just perform the similarity computation across all companies in the dataset.\n"
   ]
  },
  {
   "cell_type": "markdown",
   "metadata": {},
   "source": [
    "### STEP 0: Fetch the data"
   ]
  },
  {
   "cell_type": "code",
   "execution_count": 1,
   "metadata": {
    "collapsed": false
   },
   "outputs": [
    {
     "name": "stdout",
     "output_type": "stream",
     "text": [
      "  % Total    % Received % Xferd  Average Speed   Time    Time     Time  Current\n",
      "                                 Dload  Upload   Total   Spent    Left  Speed\n",
      "100 22747  100 22747    0     0  14111      0  0:00:01  0:00:01 --:--:-- 14119\n",
      "  % Total    % Received % Xferd  Average Speed   Time    Time     Time  Current\n",
      "                                 Dload  Upload   Total   Spent    Left  Speed\n",
      "100  364k  100  364k    0     0  1531k      0 --:--:-- --:--:-- --:--:-- 1530k\n"
     ]
    }
   ],
   "source": [
    "# This is a list of banks\n",
    "!curl https://dl.dropboxusercontent.com/u/16006464/DwD_Winter2015/companies.txt -o /home/ubuntu/data/bank-names.txt\n",
    "    \n",
    "# This is a list of NYC restaurants (also using this dataset for the regular expression notebooks)\n",
    "!curl https://dl.dropboxusercontent.com/u/16006464/DwD_Winter2015/uniquenames.txt -o /home/ubuntu/data/restaurant-names.txt   "
   ]
  },
  {
   "cell_type": "markdown",
   "metadata": {},
   "source": [
    "### STEP 1: Read the list of names from a file and create a list of names"
   ]
  },
  {
   "cell_type": "code",
   "execution_count": 2,
   "metadata": {
    "collapsed": false
   },
   "outputs": [],
   "source": [
    "# STEP 1: Read the list of names from a file and create a list of names\n",
    "f = open(\"/home/ubuntu/data/restaurant-names.txt\", \"r\")\n",
    "content = f.read()\n",
    "f.close()\n",
    "lines = content.split(\"\\n\")"
   ]
  },
  {
   "cell_type": "markdown",
   "metadata": {},
   "source": [
    "### STEP 2: Implement the similarity function"
   ]
  },
  {
   "cell_type": "markdown",
   "metadata": {},
   "source": [
    "### Computing the similarity between two strings\n",
    "\n",
    "There are many ways that we can calculate the similarity between two strings (e.g., see [1](http://en.wikipedia.org/wiki/String_metric), [2](http://en.wikipedia.org/wiki/Approximate_string_matching), [3](http://en.wikipedia.org/wiki/Plagiarism_detection), [4](https://www.cs.cmu.edu/~pradeepr/papers/ijcai03.pdf), [5](http://en.wikipedia.org/wiki/Category:String_similarity_measures), and links within). \n",
    "\n",
    "For our example, we will use the q-gram similarity metric. What is a q-gram? Simply a sequency of q-consecutive characters in the string. For example, the name \"Panos\" has the following 2-grams: \"Pa\", \"an\", \"no\", \"os\". (We can also add \"#P\" and \"s#\" if we want to capture the prefix and suffixes.) Strings that share a large number of q-grams are often similar. \n",
    "\n",
    "Hence, we can compute the similarity of two strings by first computing the set of q-grams for each string, and then compute the Jaccard coefficient between these sets. The [Jaccard coefficient](http://en.wikipedia.org/wiki/Jaccard_index) is simply defined as the size of the intersection divided by the size of the union of the two sets.\n",
    "\n",
    "So, our task can be broken into two functions: \n",
    "* The first function takes a string and returns a list of the q-grams for the string, and \n",
    "* The second function takes as input two sets, and returns back their Jaccard coefficient."
   ]
  },
  {
   "cell_type": "code",
   "execution_count": 3,
   "metadata": {
    "collapsed": false
   },
   "outputs": [],
   "source": [
    "# STEP 2: Now we implement our similarity function\n",
    "\n",
    "# This returns a list of q-grams for a name\n",
    "# getQgrams(\"Panos\", 1) should return [\"P\", \"a\", \"n\", \"s\"]\n",
    "# getQgrams(\"Panos\", 2) should return [\"Pa\", \"an\", \"no\", \"os\"]\n",
    "# etc\n",
    "def getQgrams(name, q):\n",
    "    # We add a little bit of padding of '#' characters\n",
    "    # to create q-grams for the beginning and end of the \n",
    "    # string as well\n",
    "    name = (q-1)*'#' + name + (q-1)*'#'\n",
    "    length = len(name)\n",
    "    qgrams = []\n",
    "    for c in range(length):\n",
    "        qgram = name[c:c+q]\n",
    "        qgrams.append(qgram)\n",
    "    return qgrams\n",
    "\n",
    "# This function takes as input two names, computes their qgrams, and then computes\n",
    "# the Jaccard coefficient (=intersection/union) of the two sets of qgrams\n",
    "def jaccard(setA, setB):\n",
    "    intersection = set(setA) & set(setB)\n",
    "    union = set(setA) | set(setB)\n",
    "    similarity = 1.0*len(intersection)/len(union)\n",
    "    return similarity\n",
    "\n",
    "def computeSimilarity(name1, name2, q):\n",
    "    qgrams1 = getQgrams(name1.upper(), q)\n",
    "    qgrams2 = getQgrams(name2.upper(), q)\n",
    "    similarity = jaccard(qgrams1, qgrams2)\n",
    "    return similarity"
   ]
  },
  {
   "cell_type": "code",
   "execution_count": 4,
   "metadata": {
    "collapsed": false
   },
   "outputs": [
    {
     "name": "stdout",
     "output_type": "stream",
     "text": [
      "0.666666666667\n",
      "0.75\n",
      "1.0\n",
      "0.0952380952381\n",
      "0.0555555555556\n",
      "0.0909090909091\n"
     ]
    }
   ],
   "source": [
    "# Let's test our similarity function\n",
    "print computeSimilarity(\"Microsoft\", \"Micrsoft\", 3)\n",
    "print computeSimilarity(\"Microsoft\", \"Micrsoft\", 2)\n",
    "print computeSimilarity(\"Microsoft\", \"Micrsoft\", 1)\n",
    "print computeSimilarity(\"Microsoft\", \"Google\", 3)\n",
    "print computeSimilarity(\"Microsoft\", \"Google\", 2)\n",
    "print computeSimilarity(\"Microsoft\", \"Google\", 1)"
   ]
  },
  {
   "cell_type": "markdown",
   "metadata": {},
   "source": [
    "### STEP 3: Compute similarity of a company against a list of company names"
   ]
  },
  {
   "cell_type": "markdown",
   "metadata": {},
   "source": [
    "We now create a function that accepts a company name and a list of companies, and computes their similarity. This part will get us to exercise our for-loops, and also illustrate how we can use lists and tuples."
   ]
  },
  {
   "cell_type": "markdown",
   "metadata": {},
   "source": [
    "**Sorting a list of tuples**:_This part is a little bit advanced for now, so I will just give the code below. (Solution taken from http://stackoverflow.com/questions/3121979/how-to-sort-list-tuple-of-lists-tuples). Here is a small example below, which we will reuse in our function:_"
   ]
  },
  {
   "cell_type": "code",
   "execution_count": 5,
   "metadata": {
    "collapsed": false
   },
   "outputs": [
    {
     "name": "stdout",
     "output_type": "stream",
     "text": [
      "[('Peter', 0.6), ('Panos', 0.5), ('Pan', 0.4)]\n"
     ]
    }
   ],
   "source": [
    "data = [(\"Panos\",0.5), (\"Peter\",0.6), (\"Pan\", 0.4)]\n",
    "data.sort(key=lambda tupl: tupl[1], reverse=True)  # sorts in place, in descending order, based on the second element of the tuple\n",
    "print data"
   ]
  },
  {
   "cell_type": "code",
   "execution_count": 6,
   "metadata": {
    "collapsed": false
   },
   "outputs": [],
   "source": [
    "# STEP 3: We now create a function that accepts a company name\n",
    "# and a list of companies, and computes their similarity\n",
    "# We have a threshold parameter (by default set to be 0.5)\n",
    "# that restricts the results to only string pairs with similarity\n",
    "# above the threshold\n",
    "\n",
    "# queryData finds similar names to a query\n",
    "def queryData(query, companyList, threshold, q):\n",
    "    result = []\n",
    "    for r in companyList:\n",
    "        # I will compute the similarity of the \"query\" string\n",
    "        # with each restaurant \"r\", where \"r\" is the variable in the for loop\n",
    "        similarity = computeSimilarity(query, r, q)\n",
    "        # if the similarity is above 0.5, I will print the result\n",
    "        if similarity>threshold:\n",
    "            result.append( (r, similarity) )\n",
    "    return result\n",
    "\n",
    "def companySimilarity(companyName, companyList, threshold = 0.5, q = 3):\n",
    "    results = queryData(companyName, companyList, threshold, q)\n",
    "    results.sort(key=lambda tupl: tupl[1], reverse=True)\n",
    "    return results\n"
   ]
  },
  {
   "cell_type": "code",
   "execution_count": 7,
   "metadata": {
    "collapsed": false
   },
   "outputs": [
    {
     "data": {
      "text/plain": [
       "[('MCDONALDS', 1.0),\n",
       " ('MC DONALDS', 0.6875),\n",
       " (\"MCDONALD'S\", 0.6875),\n",
       " ('MCDONALD', 0.6666666666666666),\n",
       " (\"MCDONALD'S \", 0.5555555555555556),\n",
       " ('MCDONALDS 17754', 0.5238095238095238),\n",
       " (\"MC DONALD'S\", 0.47368421052631576),\n",
       " ('MCDONALDS (#11542)', 0.4583333333333333),\n",
       " ('MCDONALDS RESTAURANT', 0.4230769230769231),\n",
       " ('MCDONALD AVENUE DINER', 0.35714285714285715),\n",
       " (\"MCDONALD'S RESTAURANT\", 0.35714285714285715),\n",
       " (\"MCDONALD'S (MACY'S 7TH FL)\", 0.3125),\n",
       " ('MCDONALDS FAST FOOD RESTAURANT', 0.3055555555555556),\n",
       " (\"MCDONALD'S RESTAURANT #3391\", 0.29411764705882354),\n",
       " (\"MONA'S\", 0.2777777777777778),\n",
       " ('MRS. FIELDS', 0.2727272727272727)]"
      ]
     },
     "execution_count": 7,
     "metadata": {},
     "output_type": "execute_result"
    }
   ],
   "source": [
    "# This is the name of the restaurant that I am looking for\n",
    "query = \"McDonalds\"\n",
    "# This is the similarity configuration parameter\n",
    "q = 3\n",
    "threshold = 0.25\n",
    "# lines contains the list of companiues\n",
    "companySimilarity(query, lines, threshold, q)"
   ]
  },
  {
   "cell_type": "markdown",
   "metadata": {},
   "source": [
    "### Step 4: Perform the similarity computation across all companies in the dataset."
   ]
  },
  {
   "cell_type": "code",
   "execution_count": 8,
   "metadata": {
    "collapsed": false
   },
   "outputs": [
    {
     "name": "stdout",
     "output_type": "stream",
     "text": [
      "#1 GARDEN CHINESE ===>\n",
      "[('#1 GARDEN CHINESE', 1.0), ('SAGAR CHINESE', 0.4074074074074074), ('BEST GARDEN CHINESE RESTAURANT', 0.38461538461538464), ('CHINA GARDEN CHINESE RESTAURANT', 0.38461538461538464)]\n",
      "================\n",
      "#1 ME. NICK'S ===>\n",
      "[(\"#1 ME. NICK'S\", 1.0), (\"UNCLE NICK'S\", 0.375), (\"CHADWICK'S\", 0.2916666666666667)]\n",
      "================\n",
      "#1 SABOR LATINO RESTAURANT ===>\n",
      "[('#1 SABOR LATINO RESTAURANT', 1.0), ('SABOR LATINO RESTAURANT', 0.78125), ('LATINO RESTAURANT', 0.59375), ('SABOR LATINO SEAFOOD RESTAURANT', 0.5853658536585366)]\n",
      "================\n",
      "$1.25 PIZZA ===>\n",
      "[('$1.25 PIZZA', 1.0), ('LJ PIZZA', 0.42105263157894735), ('MJ PIZZA', 0.42105263157894735), ('MY PIZZA', 0.42105263157894735)]\n",
      "================\n",
      "''U'' LIKE CHINESE RESTAURANT ===>\n",
      "[(\"''U'' LIKE CHINESE RESTAURANT\", 1.0), ('U LIKE CHINESE RESTAURANT', 0.7222222222222222), ('LEE CHINESE RESTAURANT', 0.5945945945945946), ('85 CHINESE RESTAURANT', 0.5675675675675675)]\n",
      "================\n",
      "''W'' CAFE ===>\n",
      "[(\"''W'' CAFE\", 1.0), ('A CAFE', 0.4117647058823529), ('B CAFE', 0.4117647058823529), ('O CAFE', 0.4117647058823529)]\n",
      "================\n",
      "'WICHCRAFT ===>\n",
      "[(\"'WICHCRAFT\", 1.0), ('WICHCRAFT', 0.6875), ('CRAFT', 0.4375), ('WICHCRAFT EXPRESS', 0.34615384615384615)]\n",
      "================\n",
      "(LEWIS DRUG STORE) LOCANDA VINI E OLII ===>\n",
      "[('(LEWIS DRUG STORE) LOCANDA VINI E OLII', 1.0)]\n",
      "================\n",
      "(LIBRARY)  FOUR & TWENTY BLACKBIRDS ===>\n",
      "[('(LIBRARY)  FOUR & TWENTY BLACKBIRDS', 1.0), ('FOUR & TWENTY BLACKBIRDS', 0.6341463414634146)]\n",
      "================\n",
      "(PUBLIC FARE) 81ST STREET AND CENTRAL PARK WEST (DELACORTE THEATRE) ===>\n",
      "[('(PUBLIC FARE) 81ST STREET AND CENTRAL PARK WEST (DELACORTE THEATRE)', 1.0)]\n",
      "================\n",
      "/ L'ECOLE ===>\n",
      "[(\"/ L'ECOLE\", 1.0), ('MOLE', 0.3125), ('PINOLE', 0.2777777777777778), ('AUREOLE', 0.2631578947368421)]\n",
      "================\n",
      "002 MERCURY TACOS LLC ===>\n",
      "[('002 MERCURY TACOS LLC', 1.0), ('TAKUMI TACO LLC', 0.2571428571428571)]\n",
      "================\n",
      "1 2 3 BURGER SHOT BEER ===>\n",
      "[('1 2 3 BURGER SHOT BEER', 1.0), ('BURGER BURGER', 0.3448275862068966), ('CORNER BURGER', 0.30303030303030304), ('DUMONT BURGER', 0.30303030303030304)]\n",
      "================\n",
      "1 BANANA QUEEN ===>\n",
      "[('1 BANANA QUEEN', 1.0), ('QUEEN', 0.3684210526315789), ('ROYAL QUEEN', 0.3333333333333333), ('PASTRAMI QUEEN', 0.2962962962962963)]\n",
      "================\n",
      "1 BUEN SABOR ===>\n",
      "[('1 BUEN SABOR', 1.0), ('EL SABOR', 0.4), ('PUNTO DE SABOR', 0.3076923076923077), ('LA DONA DEL SABOR', 0.2857142857142857)]\n",
      "================\n",
      "1 DARBAR ===>\n",
      "[('1 DARBAR', 1.0), ('SHAHI DARBAR', 0.47368421052631576), ('BAR', 0.35714285714285715), ('169 BAR', 0.35294117647058826)]\n",
      "================\n",
      "1 EAST 66TH STREET KITCHEN ===>\n",
      "[('1 EAST 66TH STREET KITCHEN', 1.0), ('CHURCH STREET KITCHEN', 0.4864864864864865), ('ROAST KITCHEN', 0.38235294117647056), ('READE STREET PUB & KITCHEN', 0.36363636363636365)]\n",
      "================\n",
      "1 OAK ===>\n",
      "[('1 OAK', 1.0), ('1 OR 8', 0.35714285714285715), ('THE LIVE OAK', 0.3157894736842105), ('COPPER AND OAK', 0.2857142857142857)]\n",
      "================\n",
      "1 OR 8 ===>\n",
      "[('1 OR 8', 1.0), ('1 OAK', 0.35714285714285715), ('AFTER 8', 0.3125), ('NO. 8', 0.26666666666666666)]\n",
      "================\n",
      "1 STOP PATTY SHOP ===>\n",
      "[('1 STOP PATTY SHOP', 1.0), ('ONE STOP BEER SHOP', 0.34375), ('1ST STOP', 0.32), ('CHOP SHOP', 0.32)]\n",
      "================\n",
      "1.5 GALBI CORP ===>\n",
      "[('1.5 GALBI CORP', 1.0), ('RSV CORP', 0.30434782608695654), ('FKNG CORP', 0.2916666666666667), ('FRESCO DELI CORP', 0.26666666666666666)]\n",
      "================\n",
      "10 DEVOE ===>\n",
      "[('10 DEVOE', 1.0), ('JOE', 0.26666666666666666), ('101 CAFE', 0.2631578947368421), ('101 DELI', 0.2631578947368421)]\n",
      "================\n",
      "10 POINTS KTV ===>\n",
      "[('10 POINTS KTV', 1.0), ('DC KTV', 0.2857142857142857), ('VIVA KTV', 0.2608695652173913)]\n",
      "================\n",
      "100 FUN ===>\n",
      "[('100 FUN', 1.0), ('NO FUN', 0.4), ('CHINA FUN', 0.3333333333333333), ('SWIRL FUN', 0.3333333333333333)]\n",
      "================\n",
      "100% PATACON CACHAPA YAROA ===>\n",
      "[('100% PATACON CACHAPA YAROA', 1.0), ('TU CACHAPA', 0.2571428571428571)]\n",
      "================\n",
      "100% SMOOTHIES & EMPANADAS ===>\n",
      "[('100% SMOOTHIES & EMPANADAS', 1.0), ('VIVA EMPANADAS', 0.3333333333333333), ('MAMAS EMPANADAS', 0.32432432432432434), (\"MAMA'S EMPANADAS\", 0.3157894736842105)]\n",
      "================\n",
      "1001 NIGHTS ===>\n",
      "[('1001 NIGHTS', 1.0), ('1001 NIGHTS CAFE', 0.5909090909090909), ('WOLFNIGHTS', 0.38095238095238093), ('EASTERN NIGHTS', 0.375)]\n",
      "================\n",
      "1001 NIGHTS CAFE ===>\n",
      "[('1001 NIGHTS CAFE', 1.0), ('1001 NIGHTS', 0.5909090909090909), ('HEIGHTS CAFE', 0.5), ('101 CAFE', 0.45454545454545453)]\n",
      "================\n",
      "1005 CATERING ===>\n",
      "[('1005 CATERING', 1.0), ('GO CATERING', 0.5238095238095238), ('LKE CATERING', 0.5), ('C & C CATERING', 0.4583333333333333)]\n",
      "================\n",
      "101 CAFE ===>\n",
      "[('101 CAFE', 1.0), ('19 CAFE', 0.5333333333333333), ('A CAFE', 0.4666666666666667), ('B CAFE', 0.4666666666666667)]\n",
      "================\n",
      "101 DELI ===>\n",
      "[('101 DELI', 1.0), ('38 DELI', 0.4375), ('JJ DELI', 0.4375), ('OZ DELI', 0.4375)]\n",
      "================\n",
      "101 RESTAURANT AND BAR ===>\n",
      "[('101 RESTAURANT AND BAR', 1.0), ('508 RESTAURANT AND BAR', 0.6774193548387096), ('BESO RESTAURANT AND BAR', 0.65625), ('JORA RESTAURANT AND BAR', 0.65625)]\n",
      "================\n",
      "102 NOODLES TOWN RESTAURANT ===>\n",
      "[('102 NOODLES TOWN RESTAURANT', 1.0), ('BOI NOODLE RESTAURANT', 0.47368421052631576), ('MIDTOWN RESTAURANT', 0.4722222222222222), ('CHINATOWN RESTAURANT', 0.4473684210526316)]\n",
      "================\n",
      "1020 BAR ===>\n",
      "[('1020 BAR', 1.0), ('169 BAR', 0.4375), ('R BAR', 0.4), ('V BAR', 0.4)]\n",
      "================\n",
      "1028 BAR & RESTAURANT EL SALVADORENO  ===>\n",
      "[('1028 BAR & RESTAURANT EL SALVADORENO ', 1.0), ('BAR & RESTAURANT EL SALVADORENO', 0.6888888888888889), ('EL OK SALVADORENO RESTAURANT', 0.46), ('EL SALVADOR RESTAURANT', 0.425531914893617)]\n",
      "================\n",
      "104-01 FOSTER AVENUE COFFEE SHOP(UPS) ===>\n",
      "[('104-01 FOSTER AVENUE COFFEE SHOP(UPS)', 1.0), ('36TH AVE COFFEE SHOP', 0.3), ('TERRACE COFFEE SHOP', 0.28), ('124 COFFEE SHOP', 0.2765957446808511)]\n",
      "================\n",
      "1061 CATERING LLC ===>\n",
      "[('1061 CATERING LLC', 1.0), ('1005 CATERING', 0.4074074074074074), ('GO CATERING', 0.3333333333333333), ('LKE CATERING', 0.32142857142857145)]\n",
      "================\n",
      "107 WEST RESTAURANT ===>\n",
      "[('107 WEST RESTAURANT', 1.0), ('15 EAST RESTAURANT', 0.5714285714285714), ('18 RESTAURANT', 0.56), ('PT RESTAURANT', 0.56)]\n",
      "================\n",
      "108 FAST FOOD CORP ===>\n",
      "[('108 FAST FOOD CORP', 1.0), ('188 FAST FOOD INC', 0.43333333333333335), ('HADI FOOD CORP', 0.42857142857142855), ('CROWNKING FOOD CORP', 0.36363636363636365)]\n",
      "================\n",
      "108 LOUNGE - CLUB 108 ===>\n",
      "[('108 LOUNGE - CLUB 108', 1.0), (\"MONIQUE'S LOUNGE 108\", 0.3333333333333333), ('NORTH CLUB LOUNGE', 0.3235294117647059), (\"AA ADMIRAL'S CLUB LOUNGE\", 0.2682926829268293)]\n",
      "================\n",
      "1081 FULTON ===>\n",
      "[('1081 FULTON', 1.0), ('FULTON', 0.47058823529411764), ('MR. FULTON', 0.45), ('121 FULTON STREET', 0.3333333333333333)]\n",
      "================\n",
      "10TH AVENUE COOKSHOP ===>\n",
      "[('10TH AVENUE COOKSHOP', 1.0), ('7TH AVENUE DONUT SHOP', 0.4), ('10TH AVENUE PIZZA & CAFE', 0.3684210526315789), ('36TH AVE COFFEE SHOP', 0.3333333333333333)]\n",
      "================\n",
      "10TH AVENUE PIZZA & CAFE ===>\n",
      "[('10TH AVENUE PIZZA & CAFE', 1.0), ('J II 13TH AVENUE PIZZA CAFE', 0.5526315789473685), ('BEVERLEY PIZZA & CAFE', 0.39473684210526316), ('AVENUE CAFE', 0.3870967741935484)]\n",
      "================\n",
      "11 STREET CAFE ===>\n",
      "[('11 STREET CAFE', 1.0), ('HESTER STREET CAFE', 0.5384615384615384), ('BARCLAY STREET CAFE', 0.5185185185185185), ('CORNELIA STREET CAFE', 0.5)]\n",
      "================\n",
      "111 RESTAURANT ===>\n",
      "[('111 RESTAURANT', 1.0), ('18 RESTAURANT', 0.6666666666666666), ('NO 1 RESTAURANT', 0.6086956521739131), ('NO.1 RESTAURANT', 0.6086956521739131)]\n",
      "================\n",
      "1174 FULTON CUISINE, HALAL FOOD ===>\n",
      "[('1174 FULTON CUISINE, HALAL FOOD', 1.0), ('MIA HALAL FOOD', 0.325), ('WEBSTER HALAL FOOD', 0.29545454545454547), ('ROYAL CUISINE YARD FOOD', 0.2916666666666667)]\n",
      "================\n",
      "12 CHAIRS ===>\n",
      "[('12 CHAIRS', 1.0), ('12 CHAIRS CAFE', 0.55), ('12 CORNERS', 0.42105263157894735), ('NINE CHAINS', 0.2727272727272727)]\n",
      "================\n",
      "12 CHAIRS CAFE ===>\n",
      "[('12 CHAIRS CAFE', 1.0), ('12 CHAIRS', 0.55), ('MARS CAFE', 0.4090909090909091), (\"L' CHAIM CAFE\", 0.4)]\n",
      "================\n",
      "12 CORAZONES RESTAURANT & BAR ===>\n",
      "[('12 CORAZONES RESTAURANT & BAR', 1.0), (\"G'S RESTAURANT & BAR\", 0.5405405405405406), ('NEST RESTAURANT & BAR', 0.5405405405405406), ('SABORES RESTAURANT & BAR', 0.5384615384615384)]\n",
      "================\n"
     ]
    },
    {
     "ename": "KeyboardInterrupt",
     "evalue": "",
     "output_type": "error",
     "traceback": [
      "\u001b[1;31m\u001b[0m",
      "\u001b[1;31mKeyboardInterrupt\u001b[0mTraceback (most recent call last)",
      "\u001b[1;32m<ipython-input-8-325eea2beb43>\u001b[0m in \u001b[0;36m<module>\u001b[1;34m()\u001b[0m\n\u001b[0;32m      5\u001b[0m \u001b[1;31m# similar company names and the corresponding similarity value.\u001b[0m\u001b[1;33m\u001b[0m\u001b[1;33m\u001b[0m\u001b[0m\n\u001b[0;32m      6\u001b[0m \u001b[1;32mfor\u001b[0m \u001b[0mcompanyName\u001b[0m \u001b[1;32min\u001b[0m \u001b[0mlines\u001b[0m\u001b[1;33m:\u001b[0m\u001b[1;33m\u001b[0m\u001b[0m\n\u001b[1;32m----> 7\u001b[1;33m     \u001b[0mmatches\u001b[0m \u001b[1;33m=\u001b[0m \u001b[0mcompanySimilarity\u001b[0m\u001b[1;33m(\u001b[0m\u001b[0mcompanyName\u001b[0m\u001b[1;33m,\u001b[0m \u001b[0mlines\u001b[0m\u001b[1;33m,\u001b[0m \u001b[0mthreshold\u001b[0m\u001b[1;33m,\u001b[0m \u001b[0mq\u001b[0m\u001b[1;33m)\u001b[0m\u001b[1;33m\u001b[0m\u001b[0m\n\u001b[0m\u001b[0;32m      8\u001b[0m     \u001b[1;32mprint\u001b[0m \u001b[0mcompanyName\u001b[0m\u001b[1;33m,\u001b[0m \u001b[1;34m\"===>\"\u001b[0m\u001b[1;33m\u001b[0m\u001b[0m\n\u001b[0;32m      9\u001b[0m     \u001b[1;31m# we will print the top-4 matching names\u001b[0m\u001b[1;33m\u001b[0m\u001b[1;33m\u001b[0m\u001b[0m\n",
      "\u001b[1;32m<ipython-input-6-268483db52bc>\u001b[0m in \u001b[0;36mcompanySimilarity\u001b[1;34m(companyName, companyList, threshold, q)\u001b[0m\n\u001b[0;32m     18\u001b[0m \u001b[1;33m\u001b[0m\u001b[0m\n\u001b[0;32m     19\u001b[0m \u001b[1;32mdef\u001b[0m \u001b[0mcompanySimilarity\u001b[0m\u001b[1;33m(\u001b[0m\u001b[0mcompanyName\u001b[0m\u001b[1;33m,\u001b[0m \u001b[0mcompanyList\u001b[0m\u001b[1;33m,\u001b[0m \u001b[0mthreshold\u001b[0m \u001b[1;33m=\u001b[0m \u001b[1;36m0.5\u001b[0m\u001b[1;33m,\u001b[0m \u001b[0mq\u001b[0m \u001b[1;33m=\u001b[0m \u001b[1;36m3\u001b[0m\u001b[1;33m)\u001b[0m\u001b[1;33m:\u001b[0m\u001b[1;33m\u001b[0m\u001b[0m\n\u001b[1;32m---> 20\u001b[1;33m     \u001b[0mresults\u001b[0m \u001b[1;33m=\u001b[0m \u001b[0mqueryData\u001b[0m\u001b[1;33m(\u001b[0m\u001b[0mcompanyName\u001b[0m\u001b[1;33m,\u001b[0m \u001b[0mcompanyList\u001b[0m\u001b[1;33m,\u001b[0m \u001b[0mthreshold\u001b[0m\u001b[1;33m,\u001b[0m \u001b[0mq\u001b[0m\u001b[1;33m)\u001b[0m\u001b[1;33m\u001b[0m\u001b[0m\n\u001b[0m\u001b[0;32m     21\u001b[0m     \u001b[0mresults\u001b[0m\u001b[1;33m.\u001b[0m\u001b[0msort\u001b[0m\u001b[1;33m(\u001b[0m\u001b[0mkey\u001b[0m\u001b[1;33m=\u001b[0m\u001b[1;32mlambda\u001b[0m \u001b[0mtupl\u001b[0m\u001b[1;33m:\u001b[0m \u001b[0mtupl\u001b[0m\u001b[1;33m[\u001b[0m\u001b[1;36m1\u001b[0m\u001b[1;33m]\u001b[0m\u001b[1;33m,\u001b[0m \u001b[0mreverse\u001b[0m\u001b[1;33m=\u001b[0m\u001b[0mTrue\u001b[0m\u001b[1;33m)\u001b[0m\u001b[1;33m\u001b[0m\u001b[0m\n\u001b[0;32m     22\u001b[0m     \u001b[1;32mreturn\u001b[0m \u001b[0mresults\u001b[0m\u001b[1;33m\u001b[0m\u001b[0m\n",
      "\u001b[1;32m<ipython-input-6-268483db52bc>\u001b[0m in \u001b[0;36mqueryData\u001b[1;34m(query, companyList, threshold, q)\u001b[0m\n\u001b[0;32m     11\u001b[0m         \u001b[1;31m# I will compute the similarity of the \"query\" string\u001b[0m\u001b[1;33m\u001b[0m\u001b[1;33m\u001b[0m\u001b[0m\n\u001b[0;32m     12\u001b[0m         \u001b[1;31m# with each restaurant \"r\", where \"r\" is the variable in the for loop\u001b[0m\u001b[1;33m\u001b[0m\u001b[1;33m\u001b[0m\u001b[0m\n\u001b[1;32m---> 13\u001b[1;33m         \u001b[0msimilarity\u001b[0m \u001b[1;33m=\u001b[0m \u001b[0mcomputeSimilarity\u001b[0m\u001b[1;33m(\u001b[0m\u001b[0mquery\u001b[0m\u001b[1;33m,\u001b[0m \u001b[0mr\u001b[0m\u001b[1;33m,\u001b[0m \u001b[0mq\u001b[0m\u001b[1;33m)\u001b[0m\u001b[1;33m\u001b[0m\u001b[0m\n\u001b[0m\u001b[0;32m     14\u001b[0m         \u001b[1;31m# if the similarity is above 0.5, I will print the result\u001b[0m\u001b[1;33m\u001b[0m\u001b[1;33m\u001b[0m\u001b[0m\n\u001b[0;32m     15\u001b[0m         \u001b[1;32mif\u001b[0m \u001b[0msimilarity\u001b[0m\u001b[1;33m>\u001b[0m\u001b[0mthreshold\u001b[0m\u001b[1;33m:\u001b[0m\u001b[1;33m\u001b[0m\u001b[0m\n",
      "\u001b[1;32m<ipython-input-3-3c1d9badbedb>\u001b[0m in \u001b[0;36mcomputeSimilarity\u001b[1;34m(name1, name2, q)\u001b[0m\n\u001b[0;32m     27\u001b[0m \u001b[1;32mdef\u001b[0m \u001b[0mcomputeSimilarity\u001b[0m\u001b[1;33m(\u001b[0m\u001b[0mname1\u001b[0m\u001b[1;33m,\u001b[0m \u001b[0mname2\u001b[0m\u001b[1;33m,\u001b[0m \u001b[0mq\u001b[0m\u001b[1;33m)\u001b[0m\u001b[1;33m:\u001b[0m\u001b[1;33m\u001b[0m\u001b[0m\n\u001b[0;32m     28\u001b[0m     \u001b[0mqgrams1\u001b[0m \u001b[1;33m=\u001b[0m \u001b[0mgetQgrams\u001b[0m\u001b[1;33m(\u001b[0m\u001b[0mname1\u001b[0m\u001b[1;33m.\u001b[0m\u001b[0mupper\u001b[0m\u001b[1;33m(\u001b[0m\u001b[1;33m)\u001b[0m\u001b[1;33m,\u001b[0m \u001b[0mq\u001b[0m\u001b[1;33m)\u001b[0m\u001b[1;33m\u001b[0m\u001b[0m\n\u001b[1;32m---> 29\u001b[1;33m     \u001b[0mqgrams2\u001b[0m \u001b[1;33m=\u001b[0m \u001b[0mgetQgrams\u001b[0m\u001b[1;33m(\u001b[0m\u001b[0mname2\u001b[0m\u001b[1;33m.\u001b[0m\u001b[0mupper\u001b[0m\u001b[1;33m(\u001b[0m\u001b[1;33m)\u001b[0m\u001b[1;33m,\u001b[0m \u001b[0mq\u001b[0m\u001b[1;33m)\u001b[0m\u001b[1;33m\u001b[0m\u001b[0m\n\u001b[0m\u001b[0;32m     30\u001b[0m     \u001b[0msimilarity\u001b[0m \u001b[1;33m=\u001b[0m \u001b[0mjaccard\u001b[0m\u001b[1;33m(\u001b[0m\u001b[0mqgrams1\u001b[0m\u001b[1;33m,\u001b[0m \u001b[0mqgrams2\u001b[0m\u001b[1;33m)\u001b[0m\u001b[1;33m\u001b[0m\u001b[0m\n\u001b[0;32m     31\u001b[0m     \u001b[1;32mreturn\u001b[0m \u001b[0msimilarity\u001b[0m\u001b[1;33m\u001b[0m\u001b[0m\n",
      "\u001b[1;32m<ipython-input-3-3c1d9badbedb>\u001b[0m in \u001b[0;36mgetQgrams\u001b[1;34m(name, q)\u001b[0m\n\u001b[0;32m     13\u001b[0m     \u001b[0mqgrams\u001b[0m \u001b[1;33m=\u001b[0m \u001b[1;33m[\u001b[0m\u001b[1;33m]\u001b[0m\u001b[1;33m\u001b[0m\u001b[0m\n\u001b[0;32m     14\u001b[0m     \u001b[1;32mfor\u001b[0m \u001b[0mc\u001b[0m \u001b[1;32min\u001b[0m \u001b[0mrange\u001b[0m\u001b[1;33m(\u001b[0m\u001b[0mlength\u001b[0m\u001b[1;33m)\u001b[0m\u001b[1;33m:\u001b[0m\u001b[1;33m\u001b[0m\u001b[0m\n\u001b[1;32m---> 15\u001b[1;33m         \u001b[0mqgram\u001b[0m \u001b[1;33m=\u001b[0m \u001b[0mname\u001b[0m\u001b[1;33m[\u001b[0m\u001b[0mc\u001b[0m\u001b[1;33m:\u001b[0m\u001b[0mc\u001b[0m\u001b[1;33m+\u001b[0m\u001b[0mq\u001b[0m\u001b[1;33m]\u001b[0m\u001b[1;33m\u001b[0m\u001b[0m\n\u001b[0m\u001b[0;32m     16\u001b[0m         \u001b[0mqgrams\u001b[0m\u001b[1;33m.\u001b[0m\u001b[0mappend\u001b[0m\u001b[1;33m(\u001b[0m\u001b[0mqgram\u001b[0m\u001b[1;33m)\u001b[0m\u001b[1;33m\u001b[0m\u001b[0m\n\u001b[0;32m     17\u001b[0m     \u001b[1;32mreturn\u001b[0m \u001b[0mqgrams\u001b[0m\u001b[1;33m\u001b[0m\u001b[0m\n",
      "\u001b[1;31mKeyboardInterrupt\u001b[0m: "
     ]
    }
   ],
   "source": [
    "# STEP 4: We are almost done. We now just go through all the companies in the list\n",
    "# and we call the companySimilarity function that computes the similar company names\n",
    "# for all the companies in the list. We store the results in a dictionary, with the \n",
    "# key being the company name, and the value being a \"list of tuples\" with the \n",
    "# similar company names and the corresponding similarity value.\n",
    "for companyName in lines:\n",
    "    matches = companySimilarity(companyName, lines, threshold, q)\n",
    "    print companyName, \"===>\"\n",
    "    # we will print the top-4 matching names\n",
    "    print matches[:4]\n",
    "    print \"================\""
   ]
  },
  {
   "cell_type": "code",
   "execution_count": null,
   "metadata": {
    "collapsed": true
   },
   "outputs": [],
   "source": []
  }
 ],
 "metadata": {
  "kernelspec": {
   "display_name": "Python 2",
   "language": "python",
   "name": "python2"
  },
  "language_info": {
   "codemirror_mode": {
    "name": "ipython",
    "version": 2
   },
   "file_extension": ".py",
   "mimetype": "text/x-python",
   "name": "python",
   "nbconvert_exporter": "python",
   "pygments_lexer": "ipython2",
   "version": "2.7.6"
  }
 },
 "nbformat": 4,
 "nbformat_minor": 0
}
