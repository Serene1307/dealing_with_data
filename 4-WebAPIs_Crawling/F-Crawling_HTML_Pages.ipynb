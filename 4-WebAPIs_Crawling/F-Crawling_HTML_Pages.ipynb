{
 "cells": [
  {
   "cell_type": "markdown",
   "metadata": {},
   "source": [
    "## Crawling and Extracting Data from Websites"
   ]
  },
  {
   "cell_type": "markdown",
   "metadata": {},
   "source": [
    "This module uses a set of non-standard libraries, which need to be installed on your machine. By default, your instance should have these installed, but if this is not the case, type these in the Unix shell prompt\n",
    "\n",
    "\n",
    "\n"
   ]
  },
  {
   "cell_type": "code",
   "execution_count": 1,
   "metadata": {
    "collapsed": false
   },
   "outputs": [
    {
     "name": "stdout",
     "output_type": "stream",
     "text": [
      "Reading package lists... Doneding package lists... 100%\n",
      "Building dependency tree       ilding dependency tree... 0%Building dependency tree... 50%\n",
      "Reading state information... Doneding state information... 1%\n",
      "Note, selecting 'libxslt1-dev' instead of 'libxslt-dev'\n",
      "python3-dev is already the newest version (3.5.1-3).\n",
      "The following additional packages will be installed:\n",
      "  icu-devtools libicu-dev libxslt1.1\n",
      "Suggested packages:\n",
      "  icu-doc pkg-config\n",
      "The following NEW packages will be installed:\n",
      "  icu-devtools libicu-dev libxml2-dev libxslt1-dev libxslt1.1\n",
      "0 upgraded, 5 newly installed, 0 to remove and 3 not upgraded.\n",
      "Need to get 10.0 MB of archives.\n",
      "After this operation, 47.9 MB of additional disk space will be used.\n",
      "            Get:1 http://us-east1.gce.archive.ubuntu.com/ubuntu xenial/main amd64 icu-devtools amd64 55.1-7 [165 kB]\n",
      "Get:2 http://us-east1.gce.archive.ubuntu.com/ubuntu xenial/main amd64 libicu-dev amd64 55.1-7 [8,546 kB]\n",
      "                                 78% [Working]Get:3 http://us-east1.gce.archive.ubuntu.com/ubuntu xenial-updates/main amd64 libxml2-dev amd64 2.9.3+dfsg1-1ubuntu0.1 [743 kB]\n",
      "             2-dev 0 B/743 kB 0%]                                 88% [Working]Get:4 http://us-east1.gce.archive.ubuntu.com/ubuntu xenial/main amd64 libxslt1.1 amd64 1.1.28-2.1 [145 kB]\n",
      "Get:5 http://us-east1.gce.archive.ubuntu.com/ubuntu xenial/main amd64 libxslt1-dev amd64 1.1.28-2.1 [406 kB]\n",
      "Fetched 10.0 MB in 0s (29.2 MB/s)]                                                \n",
      "Selecting previously unselected package icu-devtools.\n",
      "(Reading database ... 67925 files and directories currently installed.)20%(Reading database ... 30%(Reading database ... 40%(Reading database ... 50%(Reading database ... 60%(Reading database ... 70%(Reading database ... 80%(Reading database ... 90%(Reading database ... 100%\n",
      "Preparing to unpack .../icu-devtools_55.1-7_amd64.deb ...\n",
      "Unpacking icu-devtools (55.1-7) ...\n",
      "Selecting previously unselected package libicu-dev:amd64.\n",
      "Preparing to unpack .../libicu-dev_55.1-7_amd64.deb ...\n",
      "Unpacking libicu-dev:amd64 (55.1-7) ...\n",
      "Selecting previously unselected package libxml2-dev:amd64.\n",
      "Preparing to unpack .../libxml2-dev_2.9.3+dfsg1-1ubuntu0.1_amd64.deb ...\n",
      "Unpacking libxml2-dev:amd64 (2.9.3+dfsg1-1ubuntu0.1) ...\n",
      "Selecting previously unselected package libxslt1.1:amd64.\n",
      "Preparing to unpack .../libxslt1.1_1.1.28-2.1_amd64.deb ...\n",
      "Unpacking libxslt1.1:amd64 (1.1.28-2.1) ...\n",
      "Selecting previously unselected package libxslt1-dev:amd64.\n",
      "Preparing to unpack .../libxslt1-dev_1.1.28-2.1_amd64.deb ...\n",
      "Unpacking libxslt1-dev:amd64 (1.1.28-2.1) ...\n",
      "Processing triggers for man-db (2.7.5-1) ...\n",
      "Processing triggers for libc-bin (2.23-0ubuntu5) ...\n",
      "Setting up icu-devtools (55.1-7) ...\n",
      "Setting up libicu-dev:amd64 (55.1-7) ...\n",
      "Setting up libxml2-dev:amd64 (2.9.3+dfsg1-1ubuntu0.1) ...\n",
      "Setting up libxslt1.1:amd64 (1.1.28-2.1) ...\n",
      "Setting up libxslt1-dev:amd64 (1.1.28-2.1) ...\n",
      "Processing triggers for libc-bin (2.23-0ubuntu5) ...\n"
     ]
    }
   ],
   "source": [
    "!sudo -H apt-get -y install libxml2-dev libxslt-dev python3-dev"
   ]
  },
  {
   "cell_type": "markdown",
   "metadata": {},
   "source": [
    "and then"
   ]
  },
  {
   "cell_type": "code",
   "execution_count": 2,
   "metadata": {
    "collapsed": false
   },
   "outputs": [
    {
     "name": "stdout",
     "output_type": "stream",
     "text": [
      "Collecting lxml\n",
      "  Downloading lxml-3.7.1-cp35-cp35m-manylinux1_x86_64.whl (7.1MB)\n",
      "\u001b[K    100% |████████████████████████████████| 7.1MB 211kB/s eta 0:00:01K    0% |                                | 20kB 4.9MB/s eta 0:00:02\u001b[K    0% |▏                               | 40kB 4.3MB/s eta 0:00:02\u001b[K    0% |▎                               | 61kB 4.3MB/s eta 0:00:02\u001b[K    1% |▍                               | 92kB 3.7MB/s eta 0:00:02\u001b[K    1% |▌                               | 112kB 3.6MB/s eta 0:00:02\u001b[K    1% |▋                               | 133kB 3.7MB/s eta 0:00:02\u001b[K    2% |▊                               | 153kB 4.6MB/s eta 0:00:02\u001b[K    2% |▉                               | 174kB 4.0MB/s eta 0:00:02\u001b[K    2% |▉                               | 194kB 4.5MB/s eta 0:00:02\u001b[K    3% |█                               | 215kB 4.7MB/s eta 0:00:02\u001b[K    3% |█                               | 235kB 4.9MB/s eta 0:00:02\u001b[K    3% |█▏                              | 256kB 4.1MB/s eta 0:00:02\u001b[K    3% |█▎                              | 276kB 4.7MB/s eta 0:00:02\u001b[K    4% |█▍                              | 296kB 5.1MB/s eta 0:00:02\u001b[K    4% |█▍                              | 317kB 4.7MB/s eta 0:00:02\u001b[K    4% |█▌                              | 337kB 4.2MB/s eta 0:00:02\u001b[K    5% |█▋                              | 358kB 5.6MB/s eta 0:00:02\u001b[K    5% |█▊                              | 378kB 5.3MB/s eta 0:00:02\u001b[K    5% |█▉                              | 399kB 5.1MB/s eta 0:00:02\u001b[K    5% |█▉                              | 419kB 5.2MB/s eta 0:00:02\u001b[K    6% |██                              | 440kB 5.6MB/s eta 0:00:02\u001b[K    6% |██                              | 460kB 5.3MB/s eta 0:00:02\u001b[K    6% |██▏                             | 481kB 5.5MB/s eta 0:00:02\u001b[K    7% |██▎                             | 501kB 5.2MB/s eta 0:00:02\u001b[K    7% |██▍                             | 522kB 5.6MB/s eta 0:00:02\u001b[K    7% |██▍                             | 542kB 5.8MB/s eta 0:00:02\u001b[K    7% |██▌                             | 563kB 6.2MB/s eta 0:00:02\u001b[K    8% |██▋                             | 583kB 5.3MB/s eta 0:00:02\u001b[K    8% |██▊                             | 614kB 5.8MB/s eta 0:00:02\u001b[K    8% |██▉                             | 634kB 5.4MB/s eta 0:00:02\u001b[K    9% |███                             | 655kB 6.3MB/s eta 0:00:02\u001b[K    9% |███                             | 675kB 6.5MB/s eta 0:00:01\u001b[K    9% |███▏                            | 696kB 6.2MB/s eta 0:00:02\u001b[K    10% |███▏                            | 716kB 6.0MB/s eta 0:00:02\u001b[K    10% |███▎                            | 737kB 7.0MB/s eta 0:00:01\u001b[K    10% |███▍                            | 757kB 6.1MB/s eta 0:00:02\u001b[K    10% |███▌                            | 778kB 6.2MB/s eta 0:00:02\u001b[K    11% |███▋                            | 798kB 6.1MB/s eta 0:00:02\u001b[K    11% |███▊                            | 819kB 6.9MB/s eta 0:00:01\u001b[K    11% |███▊                            | 839kB 7.2MB/s eta 0:00:01\u001b[K    12% |███▉                            | 860kB 7.7MB/s eta 0:00:01\u001b[K    12% |████                            | 880kB 6.3MB/s eta 0:00:01\u001b[K    12% |████                            | 901kB 7.3MB/s eta 0:00:01\u001b[K    12% |████▏                           | 921kB 7.3MB/s eta 0:00:01\u001b[K    13% |████▎                           | 952kB 7.0MB/s eta 0:00:01\u001b[K    13% |████▍                           | 972kB 7.3MB/s eta 0:00:01\u001b[K    13% |████▌                           | 993kB 6.8MB/s eta 0:00:01\u001b[K    14% |████▌                           | 1.0MB 7.7MB/s eta 0:00:01\u001b[K    14% |████▋                           | 1.0MB 7.7MB/s eta 0:00:01\u001b[K    14% |████▊                           | 1.1MB 7.6MB/s eta 0:00:01\u001b[K    15% |████▉                           | 1.1MB 7.1MB/s eta 0:00:01\u001b[K    15% |█████                           | 1.1MB 8.1MB/s eta 0:00:01\u001b[K    15% |█████                           | 1.1MB 8.0MB/s eta 0:00:01\u001b[K    15% |█████                           | 1.1MB 8.2MB/s eta 0:00:01\u001b[K    16% |█████▏                          | 1.2MB 7.2MB/s eta 0:00:01\u001b[K    16% |█████▎                          | 1.2MB 8.5MB/s eta 0:00:01\u001b[K    16% |█████▍                          | 1.2MB 8.5MB/s eta 0:00:01\u001b[K    17% |█████▌                          | 1.2MB 8.4MB/s eta 0:00:01\u001b[K    17% |█████▋                          | 1.2MB 7.2MB/s eta 0:00:01\u001b[K    17% |█████▋                          | 1.3MB 8.3MB/s eta 0:00:01\u001b[K    17% |█████▊                          | 1.3MB 8.3MB/s eta 0:00:01\u001b[K    18% |█████▉                          | 1.3MB 8.0MB/s eta 0:00:01\u001b[K    18% |██████                          | 1.3MB 7.6MB/s eta 0:00:01\u001b[K    18% |██████                          | 1.3MB 10.0MB/s eta 0:00:01\u001b[K    19% |██████▏                         | 1.4MB 7.0MB/s eta 0:00:01\u001b[K    19% |██████▎                         | 1.4MB 8.6MB/s eta 0:00:01\u001b[K    19% |██████▍                         | 1.4MB 8.9MB/s eta 0:00:01\u001b[K    20% |██████▍                         | 1.4MB 9.0MB/s eta 0:00:01\u001b[K    20% |██████▌                         | 1.5MB 8.5MB/s eta 0:00:01\u001b[K    20% |██████▋                         | 1.5MB 13.8MB/s eta 0:00:01\u001b[K    20% |██████▊                         | 1.5MB 10.5MB/s eta 0:00:01\u001b[K    21% |██████▉                         | 1.5MB 9.0MB/s eta 0:00:01\u001b[K    21% |███████                         | 1.5MB 8.5MB/s eta 0:00:01\u001b[K    21% |███████                         | 1.6MB 9.5MB/s eta 0:00:01\u001b[K    22% |███████                         | 1.6MB 9.4MB/s eta 0:00:01\u001b[K    22% |███████▏                        | 1.6MB 10.4MB/s eta 0:00:01\u001b[K    22% |███████▎                        | 1.6MB 9.3MB/s eta 0:00:01\u001b[K    22% |███████▍                        | 1.6MB 10.8MB/s eta 0:00:01\u001b[K    23% |███████▌                        | 1.7MB 9.8MB/s eta 0:00:01\u001b[K    23% |███████▌                        | 1.7MB 9.9MB/s eta 0:00:01\u001b[K    23% |███████▋                        | 1.7MB 9.1MB/s eta 0:00:01\u001b[K    24% |███████▊                        | 1.7MB 10.7MB/s eta 0:00:01\u001b[K    24% |███████▉                        | 1.7MB 10.7MB/s eta 0:00:01\u001b[K    24% |████████                        | 1.8MB 12.1MB/s eta 0:00:01\u001b[K    25% |████████                        | 1.8MB 9.4MB/s eta 0:00:01\u001b[K    25% |████████                        | 1.8MB 10.8MB/s eta 0:00:01\u001b[K    25% |████████▏                       | 1.8MB 10.2MB/s eta 0:00:01\u001b[K    25% |████████▎                       | 1.8MB 9.6MB/s eta 0:00:01\u001b[K    26% |████████▍                       | 1.9MB 9.0MB/s eta 0:00:01\u001b[K    26% |████████▌                       | 1.9MB 10.7MB/s eta 0:00:01\u001b[K    26% |████████▋                       | 1.9MB 11.3MB/s eta 0:00:01\u001b[K    27% |████████▊                       | 1.9MB 12.1MB/s eta 0:00:01\u001b[K    27% |████████▉                       | 2.0MB 10.5MB/s eta 0:00:01\u001b[K    27% |████████▉                       | 2.0MB 10.6MB/s eta 0:00:01\u001b[K    28% |█████████                       | 2.0MB 11.1MB/s eta 0:00:01\u001b[K    28% |█████████                       | 2.0MB 11.6MB/s eta 0:00:01\u001b[K    28% |█████████▏                      | 2.0MB 11.3MB/s eta 0:00:01\u001b[K    28% |█████████▎                      | 2.1MB 10.1MB/s eta 0:00:01\u001b[K    29% |█████████▍                      | 2.1MB 12.0MB/s eta 0:00:01\u001b[K    29% |█████████▍                      | 2.1MB 12.0MB/s eta 0:00:01\u001b[K    29% |█████████▌                      | 2.1MB 13.2MB/s eta 0:00:01\u001b[K    30% |█████████▋                      | 2.1MB 10.3MB/s eta 0:00:01\u001b[K    30% |█████████▊                      | 2.2MB 13.5MB/s eta 0:00:01\u001b[K    30% |█████████▉                      | 2.2MB 13.3MB/s eta 0:00:01\u001b[K    30% |██████████                      | 2.2MB 10.8MB/s eta 0:00:01\u001b[K    31% |██████████                      | 2.2MB 10.5MB/s eta 0:00:01\u001b[K    31% |██████████                      | 2.2MB 13.7MB/s eta 0:00:01\u001b[K    31% |██████████▏                     | 2.3MB 10.9MB/s eta 0:00:01\u001b[K    32% |██████████▎                     | 2.3MB 10.9MB/s eta 0:00:01\u001b[K    32% |██████████▍                     | 2.3MB 12.5MB/s eta 0:00:01\u001b[K    32% |██████████▍                     | 2.3MB 11.9MB/s eta 0:00:01\u001b[K    32% |██████████▌                     | 2.3MB 12.3MB/s eta 0:00:01\u001b[K    33% |██████████▋                     | 2.4MB 15.4MB/s eta 0:00:01\u001b[K    33% |██████████▊                     | 2.4MB 12.2MB/s eta 0:00:01\u001b[K    33% |██████████▉                     | 2.4MB 12.9MB/s eta 0:00:01\u001b[K    34% |███████████                     | 2.4MB 13.3MB/s eta 0:00:01\u001b[K    34% |███████████                     | 2.4MB 11.4MB/s eta 0:00:01\u001b[K    34% |███████████▏                    | 2.5MB 9.8MB/s eta 0:00:01\u001b[K    35% |███████████▎                    | 2.5MB 12.0MB/s eta 0:00:01\u001b[K    35% |███████████▎                    | 2.5MB 11.6MB/s eta 0:00:01\u001b[K    35% |███████████▍                    | 2.5MB 16.2MB/s eta 0:00:01\u001b[K    35% |███████████▌                    | 2.6MB 14.1MB/s eta 0:00:01\u001b[K    36% |███████████▋                    | 2.6MB 18.3MB/s eta 0:00:01\u001b[K    36% |███████████▊                    | 2.6MB 12.7MB/s eta 0:00:01\u001b[K    36% |███████████▊                    | 2.6MB 13.0MB/s eta 0:00:01\u001b[K    37% |███████████▉                    | 2.6MB 12.7MB/s eta 0:00:01\u001b[K    37% |████████████                    | 2.7MB 12.5MB/s eta 0:00:01\u001b[K    37% |████████████                    | 2.7MB 11.3MB/s eta 0:00:01\u001b[K    37% |████████████▏                   | 2.7MB 14.5MB/s eta 0:00:01\u001b[K    38% |████████████▎                   | 2.7MB 14.2MB/s eta 0:00:01\u001b[K    38% |████████████▎                   | 2.7MB 14.4MB/s eta 0:00:01\u001b[K    38% |████████████▍                   | 2.8MB 14.4MB/s eta 0:00:01\u001b[K    39% |████████████▌                   | 2.8MB 16.5MB/s eta 0:00:01\u001b[K    39% |████████████▋                   | 2.8MB 16.2MB/s eta 0:00:01\u001b[K    39% |████████████▊                   | 2.8MB 16.0MB/s eta 0:00:01\u001b[K    39% |████████████▉                   | 2.8MB 13.0MB/s eta 0:00:01\u001b[K    40% |████████████▉                   | 2.9MB 14.7MB/s eta 0:00:01\u001b[K    40% |█████████████                   | 2.9MB 14.1MB/s eta 0:00:01\u001b[K    40% |█████████████                   | 2.9MB 14.4MB/s eta 0:00:01\u001b[K    41% |█████████████▏                  | 2.9MB 13.2MB/s eta 0:00:01\u001b[K    41% |█████████████▎                  | 2.9MB 16.1MB/s eta 0:00:01\u001b[K    41% |█████████████▍                  | 3.0MB 15.8MB/s eta 0:00:01\u001b[K    41% |█████████████▍                  | 3.0MB 16.2MB/s eta 0:00:01\u001b[K    42% |█████████████▌                  | 3.0MB 12.9MB/s eta 0:00:01\u001b[K    42% |█████████████▋                  | 3.0MB 14.2MB/s eta 0:00:01\u001b[K    42% |█████████████▊                  | 3.1MB 14.4MB/s eta 0:00:01\u001b[K    43% |█████████████▉                  | 3.1MB 14.9MB/s eta 0:00:01\u001b[K    43% |██████████████                  | 3.1MB 13.8MB/s eta 0:00:01\u001b[K    43% |██████████████                  | 3.1MB 15.7MB/s eta 0:00:01\u001b[K    43% |██████████████                  | 3.1MB 17.0MB/s eta 0:00:01\u001b[K    44% |██████████████▏                 | 3.2MB 19.1MB/s eta 0:00:01\u001b[K    44% |██████████████▎                 | 3.2MB 16.2MB/s eta 0:00:01\u001b[K    44% |██████████████▍                 | 3.2MB 18.3MB/s eta 0:00:01    44% |██████████████▍                 | 3.2MB 14.0MB/s eta 0:00:01\u001b[K    45% |██████████████▌                 | 3.2MB 13.2MB/s eta 0:00:01\u001b[K    45% |██████████████▋                 | 3.2MB 13.1MB/s eta 0:00:01\u001b[K    45% |██████████████▊                 | 3.3MB 13.9MB/s eta 0:00:01\u001b[K    46% |██████████████▊                 | 3.3MB 14.0MB/s eta 0:00:01\u001b[K    46% |██████████████▉                 | 3.3MB 17.9MB/s eta 0:00:01\u001b[K    46% |███████████████                 | 3.3MB 23.2MB/s eta 0:00:01\u001b[K    47% |███████████████                 | 3.3MB 22.3MB/s eta 0:00:01\u001b[K    47% |███████████████▏                | 3.4MB 17.0MB/s eta 0:00:01\u001b[K    47% |███████████████▎                | 3.4MB 18.0MB/s eta 0:00:01\u001b[K    47% |███████████████▎                | 3.4MB 15.5MB/s eta 0:00:01\u001b[K    48% |███████████████▍                | 3.4MB 12.7MB/s eta 0:00:01\u001b[K    48% |███████████████▌                | 3.5MB 11.4MB/s eta 0:00:01\u001b[K    48% |███████████████▋                | 3.5MB 13.6MB/s eta 0:00:01\u001b[K    49% |███████████████▊                | 3.5MB 13.8MB/s eta 0:00:01\u001b[K    49% |███████████████▊                | 3.5MB 14.9MB/s eta 0:00:01\u001b[K    49% |███████████████▉                | 3.5MB 18.9MB/s eta 0:00:01\u001b[K    49% |████████████████                | 3.6MB 22.5MB/s eta 0:00:01\u001b[K    50% |████████████████                | 3.6MB 20.3MB/s eta 0:00:01\u001b[K    50% |████████████████▏               | 3.6MB 18.9MB/s eta 0:00:01\u001b[K    50% |████████████████▎               | 3.6MB 18.9MB/s eta 0:00:01\u001b[K    51% |████████████████▎               | 3.6MB 15.5MB/s eta 0:00:01\u001b[K    51% |████████████████▍               | 3.7MB 15.4MB/s eta 0:00:01\u001b[K    51% |████████████████▌               | 3.7MB 16.5MB/s eta 0:00:01\u001b[K    51% |████████████████▋               | 3.7MB 14.9MB/s eta 0:00:01\u001b[K    52% |████████████████▊               | 3.7MB 15.9MB/s eta 0:00:01\u001b[K    52% |████████████████▉               | 3.7MB 19.3MB/s eta 0:00:01\u001b[K    52% |████████████████▉               | 3.8MB 18.2MB/s eta 0:00:01\u001b[K    53% |█████████████████               | 3.8MB 15.4MB/s eta 0:00:01\u001b[K    53% |█████████████████               | 3.8MB 19.3MB/s eta 0:00:01\u001b[K    53% |█████████████████▏              | 3.8MB 20.7MB/s eta 0:00:01\u001b[K    53% |█████████████████▎              | 3.8MB 21.4MB/s eta 0:00:01\u001b[K    54% |█████████████████▍              | 3.9MB 17.2MB/s eta 0:00:01\u001b[K    54% |█████████████████▍              | 3.9MB 19.2MB/s eta 0:00:01\u001b[K    54% |█████████████████▌              | 3.9MB 17.5MB/s eta 0:00:01\u001b[K    55% |█████████████████▋              | 3.9MB 15.4MB/s eta 0:00:01\u001b[K    55% |█████████████████▊              | 3.9MB 15.6MB/s eta 0:00:01\u001b[K    55% |█████████████████▉              | 4.0MB 19.8MB/s eta 0:00:01\u001b[K    55% |██████████████████              | 4.0MB 17.6MB/s eta 0:00:01\u001b[K    56% |██████████████████              | 4.0MB 19.1MB/s eta 0:00:01\u001b[K    56% |██████████████████              | 4.0MB 20.6MB/s eta 0:00:01\u001b[K    56% |██████████████████▏             | 4.0MB 18.8MB/s eta 0:00:01\u001b[K    57% |██████████████████▎             | 4.1MB 20.8MB/s eta 0:00:01\u001b[K    57% |██████████████████▍             | 4.1MB 25.0MB/s eta 0:00:01\u001b[K    57% |██████████████████▌             | 4.1MB 13.9MB/s eta 0:00:01\u001b[K    58% |██████████████████▋             | 4.1MB 14.2MB/s eta 0:00:01\u001b[K    58% |██████████████████▊             | 4.2MB 15.8MB/s eta 0:00:01\u001b[K    58% |██████████████████▊             | 4.2MB 17.0MB/s eta 0:00:01\u001b[K    58% |██████████████████▉             | 4.2MB 19.4MB/s eta 0:00:01\u001b[K    59% |███████████████████             | 4.2MB 39.5MB/s eta 0:00:01\u001b[K    59% |███████████████████             | 4.2MB 25.0MB/s eta 0:00:01\u001b[K    59% |███████████████████▏            | 4.3MB 22.7MB/s eta 0:00:01\u001b[K    60% |███████████████████▎            | 4.3MB 22.3MB/s eta 0:00:01\u001b[K    60% |███████████████████▎            | 4.3MB 21.1MB/s eta 0:00:01\u001b[K    60% |███████████████████▍            | 4.3MB 15.9MB/s eta 0:00:01\u001b[K    60% |███████████████████▌            | 4.3MB 21.5MB/s eta 0:00:01\u001b[K    61% |███████████████████▋            | 4.4MB 21.1MB/s eta 0:00:01\u001b[K    61% |███████████████████▊            | 4.4MB 17.2MB/s eta 0:00:01\u001b[K    61% |███████████████████▉            | 4.4MB 16.3MB/s eta 0:00:01\u001b[K    62% |███████████████████▉            | 4.4MB 20.5MB/s eta 0:00:01\u001b[K    62% |████████████████████            | 4.4MB 18.7MB/s eta 0:00:01\u001b[K    62% |████████████████████            | 4.5MB 18.9MB/s eta 0:00:01\u001b[K    62% |████████████████████▏           | 4.5MB 22.2MB/s eta 0:00:01\u001b[K    63% |████████████████████▎           | 4.5MB 24.0MB/s eta 0:00:01\u001b[K    63% |████████████████████▎           | 4.5MB 22.2MB/s eta 0:00:01\u001b[K    63% |████████████████████▍           | 4.5MB 24.8MB/s eta 0:00:01\u001b[K    64% |████████████████████▌           | 4.6MB 24.4MB/s eta 0:00:01\u001b[K    64% |████████████████████▋           | 4.6MB 22.6MB/s eta 0:00:01\u001b[K    64% |████████████████████▊           | 4.6MB 19.3MB/s eta 0:00:01\u001b[K    64% |████████████████████▉           | 4.6MB 22.2MB/s eta 0:00:01\u001b[K    65% |████████████████████▉           | 4.6MB 16.4MB/s eta 0:00:01\u001b[K    65% |█████████████████████           | 4.7MB 18.0MB/s eta 0:00:01\u001b[K    65% |█████████████████████           | 4.7MB 18.4MB/s eta 0:00:01\u001b[K    66% |█████████████████████▏          | 4.7MB 22.3MB/s eta 0:00:01\u001b[K    66% |█████████████████████▎          | 4.7MB 20.4MB/s eta 0:00:01\u001b[K    66% |█████████████████████▍          | 4.8MB 27.4MB/s eta 0:00:01\u001b[K    66% |█████████████████████▍          | 4.8MB 25.3MB/s eta 0:00:01\u001b[K    67% |█████████████████████▌          | 4.8MB 25.6MB/s eta 0:00:01\u001b[K    67% |█████████████████████▋          | 4.8MB 23.6MB/s eta 0:00:01\u001b[K    67% |█████████████████████▊          | 4.8MB 25.0MB/s eta 0:00:01\u001b[K    68% |█████████████████████▉          | 4.9MB 21.3MB/s eta 0:00:01\u001b[K    68% |██████████████████████          | 4.9MB 22.8MB/s eta 0:00:01\u001b[K    68% |██████████████████████          | 4.9MB 17.9MB/s eta 0:00:01\u001b[K    68% |██████████████████████          | 4.9MB 17.5MB/s eta 0:00:01\u001b[K    69% |██████████████████████▏         | 4.9MB 17.6MB/s eta 0:00:01\u001b[K    69% |██████████████████████▎         | 5.0MB 21.0MB/s eta 0:00:01\u001b[K    69% |██████████████████████▍         | 5.0MB 17.9MB/s eta 0:00:01\u001b[K    70% |██████████████████████▌         | 5.0MB 26.0MB/s eta 0:00:01\u001b[K    70% |██████████████████████▌         | 5.0MB 19.7MB/s eta 0:00:01\u001b[K    70% |██████████████████████▋         | 5.0MB 19.8MB/s eta 0:00:01\u001b[K    71% |██████████████████████▊         | 5.1MB 20.0MB/s eta 0:00:01\u001b[K    71% |██████████████████████▉         | 5.1MB 24.5MB/s eta 0:00:01\u001b[K    71% |███████████████████████         | 5.1MB 24.0MB/s eta 0:00:01\u001b[K    71% |███████████████████████         | 5.1MB 40.7MB/s eta 0:00:01\u001b[K    72% |███████████████████████         | 5.1MB 26.2MB/s eta 0:00:01\u001b[K    72% |███████████████████████▏        | 5.2MB 26.6MB/s eta 0:00:01\u001b[K    72% |███████████████████████▎        | 5.2MB 22.0MB/s eta 0:00:01\u001b[K    73% |███████████████████████▍        | 5.2MB 14.4MB/s eta 0:00:01\u001b[K    73% |███████████████████████▌        | 5.2MB 14.2MB/s eta 0:00:01\u001b[K    73% |███████████████████████▌        | 5.2MB 17.5MB/s eta 0:00:01\u001b[K    73% |███████████████████████▋        | 5.3MB 17.3MB/s eta 0:00:01\u001b[K    74% |███████████████████████▊        | 5.3MB 19.9MB/s eta 0:00:01\u001b[K    74% |███████████████████████▉        | 5.3MB 39.2MB/s eta 0:00:01\u001b[K    74% |████████████████████████        | 5.3MB 42.0MB/s eta 0:00:01\u001b[K    75% |████████████████████████        | 5.3MB 39.4MB/s eta 0:00:01\u001b[K    75% |████████████████████████        | 5.4MB 40.3MB/s eta 0:00:01\u001b[K    75% |████████████████████████▏       | 5.4MB 29.8MB/s eta 0:00:01\u001b[K    75% |████████████████████████▎       | 5.4MB 29.5MB/s eta 0:00:01\u001b[K    76% |████████████████████████▍       | 5.4MB 28.5MB/s eta 0:00:01\u001b[K    76% |████████████████████████▌       | 5.4MB 26.1MB/s eta 0:00:01\u001b[K    76% |████████████████████████▋       | 5.5MB 20.9MB/s eta 0:00:01\u001b[K    77% |████████████████████████▋       | 5.5MB 26.2MB/s eta 0:00:01\u001b[K    77% |████████████████████████▊       | 5.5MB 15.4MB/s eta 0:00:01\u001b[K    77% |████████████████████████▉       | 5.5MB 15.4MB/s eta 0:00:01\u001b[K    77% |█████████████████████████       | 5.6MB 16.3MB/s eta 0:00:01\u001b[K    78% |█████████████████████████       | 5.6MB 17.9MB/s eta 0:00:01\u001b[K    78% |█████████████████████████▏      | 5.6MB 15.5MB/s eta 0:00:01\u001b[K    78% |█████████████████████████▏      | 5.6MB 26.8MB/s eta 0:00:01\u001b[K    79% |█████████████████████████▎      | 5.6MB 26.1MB/s eta 0:00:01\u001b[K    79% |█████████████████████████▍      | 5.7MB 25.4MB/s eta 0:00:01\u001b[K    79% |█████████████████████████▌      | 5.7MB 26.8MB/s eta 0:00:01\u001b[K    79% |█████████████████████████▋      | 5.7MB 34.3MB/s eta 0:00:01\u001b[K    80% |█████████████████████████▊      | 5.7MB 26.9MB/s eta 0:00:01\u001b[K    80% |█████████████████████████▊      | 5.7MB 27.9MB/s eta 0:00:01\u001b[K    80% |█████████████████████████▉      | 5.8MB 31.4MB/s eta 0:00:01\u001b[K    81% |██████████████████████████      | 5.8MB 31.4MB/s eta 0:00:01\u001b[K    81% |██████████████████████████      | 5.8MB 26.1MB/s eta 0:00:01\u001b[K    81% |██████████████████████████▏     | 5.8MB 33.2MB/s eta 0:00:01\u001b[K    81% |██████████████████████████▏     | 5.8MB 24.3MB/s eta 0:00:01\u001b[K    82% |██████████████████████████▎     | 5.9MB 21.8MB/s eta 0:00:01\u001b[K    82% |██████████████████████████▍     | 5.9MB 22.2MB/s eta 0:00:01\u001b[K    82% |██████████████████████████▌     | 5.9MB 24.1MB/s eta 0:00:01\u001b[K    83% |██████████████████████████▋     | 5.9MB 19.8MB/s eta 0:00:01\u001b[K    83% |██████████████████████████▊     | 5.9MB 25.7MB/s eta 0:00:01\u001b[K    83% |██████████████████████████▊     | 6.0MB 27.4MB/s eta 0:00:01\u001b[K    83% |██████████████████████████▉     | 6.0MB 26.1MB/s eta 0:00:01\u001b[K    84% |███████████████████████████     | 6.0MB 27.3MB/s eta 0:00:01\u001b[K    84% |███████████████████████████     | 6.0MB 29.2MB/s eta 0:00:01\u001b[K    84% |███████████████████████████▏    | 6.0MB 28.0MB/s eta 0:00:01\u001b[K    85% |███████████████████████████▎    | 6.1MB 28.9MB/s eta 0:00:01\u001b[K    85% |███████████████████████████▎    | 6.1MB 27.1MB/s eta 0:00:01\u001b[K    85% |███████████████████████████▍    | 6.1MB 27.4MB/s eta 0:00:01\u001b[K    85% |███████████████████████████▌    | 6.1MB 31.6MB/s eta 0:00:01\u001b[K    86% |███████████████████████████▋    | 6.1MB 23.3MB/s eta 0:00:01\u001b[K    86% |███████████████████████████▊    | 6.2MB 23.6MB/s eta 0:00:01\u001b[K    86% |███████████████████████████▉    | 6.2MB 22.9MB/s eta 0:00:01\u001b[K    87% |███████████████████████████▉    | 6.2MB 21.0MB/s eta 0:00:01\u001b[K    87% |████████████████████████████    | 6.2MB 21.9MB/s eta 0:00:01\u001b[K    87% |████████████████████████████    | 6.2MB 25.8MB/s eta 0:00:01\u001b[K    87% |████████████████████████████▏   | 6.3MB 25.8MB/s eta 0:00:01\u001b[K    88% |████████████████████████████▎   | 6.3MB 24.7MB/s eta 0:00:01\u001b[K    88% |████████████████████████████▍   | 6.3MB 27.7MB/s eta 0:00:01\u001b[K    88% |████████████████████████████▍   | 6.3MB 26.9MB/s eta 0:00:01\u001b[K    89% |████████████████████████████▌   | 6.3MB 31.4MB/s eta 0:00:01\u001b[K    89% |████████████████████████████▋   | 6.4MB 29.0MB/s eta 0:00:01\u001b[K    89% |████████████████████████████▊   | 6.4MB 38.3MB/s eta 0:00:01\u001b[K    89% |████████████████████████████▉   | 6.4MB 30.4MB/s eta 0:00:01\u001b[K    90% |████████████████████████████▉   | 6.4MB 29.4MB/s eta 0:00:01\u001b[K    90% |█████████████████████████████   | 6.5MB 28.4MB/s eta 0:00:01\u001b[K    90% |█████████████████████████████   | 6.5MB 24.0MB/s eta 0:00:01\u001b[K    91% |█████████████████████████████▏  | 6.5MB 15.5MB/s eta 0:00:01\u001b[K    91% |█████████████████████████████▎  | 6.5MB 16.8MB/s eta 0:00:01\u001b[K    91% |█████████████████████████████▍  | 6.5MB 17.2MB/s eta 0:00:01\u001b[K    91% |█████████████████████████████▍  | 6.6MB 17.4MB/s eta 0:00:01\u001b[K    92% |█████████████████████████████▌  | 6.6MB 20.8MB/s eta 0:00:01\u001b[K    92% |█████████████████████████████▋  | 6.6MB 38.8MB/s eta 0:00:01\u001b[K    92% |█████████████████████████████▊  | 6.6MB 40.5MB/s eta 0:00:01\u001b[K    93% |█████████████████████████████▉  | 6.6MB 41.8MB/s eta 0:00:01\u001b[K    93% |██████████████████████████████  | 6.7MB 43.4MB/s eta 0:00:01\u001b[K    93% |██████████████████████████████  | 6.7MB 43.7MB/s eta 0:00:01\u001b[K    94% |██████████████████████████████  | 6.7MB 42.9MB/s eta 0:00:01\u001b[K    94% |██████████████████████████████▏ | 6.7MB 44.2MB/s eta 0:00:01\u001b[K    94% |██████████████████████████████▎ | 6.7MB 43.5MB/s eta 0:00:01\u001b[K    94% |██████████████████████████████▍ | 6.8MB 44.2MB/s eta 0:00:01\u001b[K    95% |██████████████████████████████▌ | 6.8MB 42.6MB/s eta 0:00:01\u001b[K    95% |██████████████████████████████▌ | 6.8MB 36.9MB/s eta 0:00:01\u001b[K    95% |██████████████████████████████▋ | 6.8MB 35.9MB/s eta 0:00:01\u001b[K    96% |██████████████████████████████▊ | 6.8MB 27.1MB/s eta 0:00:01\u001b[K    96% |██████████████████████████████▉ | 6.9MB 16.4MB/s eta 0:00:01\u001b[K    96% |███████████████████████████████ | 6.9MB 16.0MB/s eta 0:00:01\u001b[K    96% |███████████████████████████████ | 6.9MB 16.7MB/s eta 0:00:01\u001b[K    97% |███████████████████████████████ | 6.9MB 16.9MB/s eta 0:00:01\u001b[K    97% |███████████████████████████████▏| 6.9MB 19.6MB/s eta 0:00:01\u001b[K    97% |███████████████████████████████▎| 7.0MB 36.8MB/s eta 0:00:01\u001b[K    98% |███████████████████████████████▍| 7.0MB 40.3MB/s eta 0:00:01\u001b[K    98% |███████████████████████████████▌| 7.0MB 38.4MB/s eta 0:00:01\u001b[K    98% |███████████████████████████████▌| 7.0MB 34.7MB/s eta 0:00:01\u001b[K    98% |███████████████████████████████▋| 7.0MB 36.8MB/s eta 0:00:01\u001b[K    99% |███████████████████████████████▊| 7.1MB 33.3MB/s eta 0:00:01\u001b[K    99% |███████████████████████████████▉| 7.1MB 32.7MB/s eta 0:00:01\u001b[K    99% |████████████████████████████████| 7.1MB 35.6MB/s eta 0:00:01\n",
      "\u001b[?25hInstalling collected packages: lxml\n",
      "Successfully installed lxml-3.7.1\n"
     ]
    }
   ],
   "source": [
    "!sudo -H pip3 install -U lxml"
   ]
  },
  {
   "cell_type": "code",
   "execution_count": 4,
   "metadata": {
    "collapsed": false
   },
   "outputs": [
    {
     "name": "stdout",
     "output_type": "stream",
     "text": [
      "Requirement already up-to-date: pandas in /usr/local/lib/python3.5/dist-packages\n",
      "Requirement already up-to-date: python-dateutil>=2 in /usr/local/lib/python3.5/dist-packages (from pandas)\n",
      "Requirement already up-to-date: pytz>=2011k in /usr/local/lib/python3.5/dist-packages (from pandas)\n",
      "Requirement already up-to-date: numpy>=1.7.0 in /usr/local/lib/python3.5/dist-packages (from pandas)\n",
      "Requirement already up-to-date: six>=1.5 in /usr/lib/python3/dist-packages (from python-dateutil>=2->pandas)\n"
     ]
    }
   ],
   "source": [
    "!sudo -H pip3 install -U pandas"
   ]
  },
  {
   "cell_type": "markdown",
   "metadata": {},
   "source": [
    "### Fetching the headlines from ESPN.com\n",
    "\n",
    "Let's start by trying to fetch the headlines from the site ESPN.com.\n",
    "\n"
   ]
  },
  {
   "cell_type": "code",
   "execution_count": null,
   "metadata": {
    "collapsed": false
   },
   "outputs": [],
   "source": [
    "import requests # This command allows us to fetch URLs\n",
    "from lxml import html # This module will allow us to parse the returned HTML/XML\n",
    "import pandas # To create a dataframe\n",
    "\n",
    "# Let's start by fetching the page, and parsing it\n",
    "url = \"http://www.espn.com/\"\n",
    "response = requests.get(url) # get the html of that url\n",
    "doc = html.fromstring(response.text) # parse it and create a document"
   ]
  },
  {
   "cell_type": "markdown",
   "metadata": {},
   "source": [
    "The `doc` variable is an `HtmlElement` object, and we can now use **XPath** queries to locate the elements that we need. (Depending on time, we may do in class a tutorial on XPath. For now, you can look at the [W3Schools tutorial](http://www.w3schools.com/xpath/xpath_nodes.asp))"
   ]
  },
  {
   "cell_type": "markdown",
   "metadata": {},
   "source": [
    "For example, to find all the `<a ...> ... </a>` tags in the returned html, which store the links in the page, we issue the command:"
   ]
  },
  {
   "cell_type": "code",
   "execution_count": null,
   "metadata": {
    "collapsed": false
   },
   "outputs": [],
   "source": [
    "links = doc.findall(\".//a\")\n",
    "len(links)"
   ]
  },
  {
   "cell_type": "code",
   "execution_count": null,
   "metadata": {
    "collapsed": false
   },
   "outputs": [],
   "source": [
    "lnk = links[70]\n",
    "type(lnk)\n"
   ]
  },
  {
   "cell_type": "markdown",
   "metadata": {},
   "source": [
    "The `lnk` variable is again an HtmlElement. To get parts of the html element that we need, we can use the `get` method (e.g., to get the `href` attribute) and the `text_content` method (to get the text within the `<a>...</a>` tag."
   ]
  },
  {
   "cell_type": "code",
   "execution_count": null,
   "metadata": {
    "collapsed": false
   },
   "outputs": [],
   "source": [
    "lnk.get(\"href\")"
   ]
  },
  {
   "cell_type": "code",
   "execution_count": null,
   "metadata": {
    "collapsed": false
   },
   "outputs": [],
   "source": [
    "lnk.text_content()"
   ]
  },
  {
   "cell_type": "markdown",
   "metadata": {},
   "source": [
    "Now, let's revisit the _list comprehension_ approach that we discussed in the Python Primer session, for quickly constructing lists:"
   ]
  },
  {
   "cell_type": "code",
   "execution_count": null,
   "metadata": {
    "collapsed": false
   },
   "outputs": [],
   "source": [
    "urls = [lnk.get(\"href\") for lnk in doc.findall('.//a')]\n",
    "urls"
   ]
  },
  {
   "cell_type": "markdown",
   "metadata": {},
   "source": [
    "#### Exercise\n",
    "\n",
    "Use a list compresension approach, to get the text_content of all the URLs in the page."
   ]
  },
  {
   "cell_type": "code",
   "execution_count": null,
   "metadata": {
    "collapsed": false
   },
   "outputs": [],
   "source": [
    "# your code here"
   ]
  },
  {
   "cell_type": "markdown",
   "metadata": {},
   "source": [
    "And now create a list where we put together text content and the URL for each link"
   ]
  },
  {
   "cell_type": "code",
   "execution_count": null,
   "metadata": {
    "collapsed": false
   },
   "outputs": [],
   "source": [
    "# your code here"
   ]
  },
  {
   "cell_type": "markdown",
   "metadata": {},
   "source": [
    "#### Let's get the headlines..."
   ]
  },
  {
   "cell_type": "markdown",
   "metadata": {},
   "source": [
    "Now, let's examine how we can get the data from the website. The key is to understand the structure of the HTML, where the data that we need is stored, and how to fetch the elements. Then, using a combination of `find` and `findall` commands, together with the appropriate XPath queries, we will get what we want"
   ]
  },
  {
   "cell_type": "code",
   "execution_count": null,
   "metadata": {
    "collapsed": false
   },
   "outputs": [],
   "source": [
    "import requests # This command allows us to fetch URLs\n",
    "from lxml import html # This module will allow us to parse the returned HTML/XML\n",
    "import pandas # To create a dataframe\n",
    "\n",
    "# Let's start by fetching the page, and parsing it\n",
    "url = \"http://www.espn.com/\"\n",
    "response = requests.get(url) # get the html of that url\n",
    "doc = html.fromstring(response.text) # parse it and create a document\n",
    "\n",
    "# By using the \"Right-Click > Inspect\" option of Chrome,\n",
    "# we right click on the headlines and select \"Inspect\".\n",
    "# This opens the source code.\n",
    "# There we see that all under a <ul class=\"headlines\"> tag\n",
    "# which is also the only such tag in the html source\n",
    "# So, we can use the \"find\" command (instead of the \"findall\", \n",
    "# which would return a list, with just a single entry in this case)\n",
    "headlineNode = doc.find('//div[@class=\"headlines\"]//a')\n",
    "\n",
    "# Each headline is under a  <li><a href=\"....\"></a> \n",
    "# tag. We also notice that there are two <a></a> tags within\n",
    "# each <li>, and we only need the first one.\n",
    "# So, we get all the <li><a ...> tags within the <ul class=\"headlines\">\n",
    "# (which is stored in the \"headlineNode\" variable)\n",
    "headlines = headlineNode.findall('./ul/li/a')\n"
   ]
  },
  {
   "cell_type": "code",
   "execution_count": null,
   "metadata": {
    "collapsed": false
   },
   "outputs": [],
   "source": [
    "# Now, we have the nodes with the conent in the headlines variable\n",
    "# We extract the text and the URL\n",
    "data = [(a.text_content(), a.get(\"href\")) for a in headlines]\n",
    "\n",
    "data"
   ]
  },
  {
   "cell_type": "code",
   "execution_count": null,
   "metadata": {
    "collapsed": false
   },
   "outputs": [],
   "source": [
    "# And let's create our dataframe\n",
    "dataframe = pandas.DataFrame(data, columns=[\"Title\", \"URL\"])"
   ]
  },
  {
   "cell_type": "code",
   "execution_count": null,
   "metadata": {
    "collapsed": false
   },
   "outputs": [],
   "source": [
    "dataframe"
   ]
  },
  {
   "cell_type": "markdown",
   "metadata": {},
   "source": [
    "### Parsing Yahoo Finance (Advanced Example)\n",
    "\n",
    "Let's try to parse the page from Yahoo Finance that contains the Options prices for YHOO (or any other company, actually). Let's start with the standard process of fetching the URL, and parsing the content into a document/tree:"
   ]
  },
  {
   "cell_type": "code",
   "execution_count": null,
   "metadata": {
    "collapsed": false
   },
   "outputs": [],
   "source": [
    "import requests # This command allows us to fetch URLs\n",
    "from lxml import html # This module will allow us to parse the returned HTML/XML\n",
    "\n",
    "url = \"http://finance.yahoo.com/q/op?s=YHOO+Options\"\n",
    "\n",
    "# get the html of that url\n",
    "response = requests.get(url)\n",
    "\n",
    "# Parse the html into a tree\n",
    "doc = html.fromstring(response.text)\n",
    "doc"
   ]
  },
  {
   "cell_type": "markdown",
   "metadata": {},
   "source": [
    "#### Getting the data that we want\n",
    "\n",
    "Now, let's say that we want to get the prices for the different options. Scraping HTML is a little bit of an art, and sometimes involves trial and error, as the html formatting of the page can change at any point.\n",
    "\n",
    "To see where the data is stored, we need to look at the HTML, and try to understand the structure of what surrounds our data of interest. For our case, we see that the prices are stored in an HTML `<table>` element. The table also contains the attribute `class=\"details-table quote-table Fz-m\"`. So, we fetch these two tables, and we ensure that we have two such tables (the call and put) in our results:"
   ]
  },
  {
   "cell_type": "code",
   "execution_count": null,
   "metadata": {
    "collapsed": false
   },
   "outputs": [],
   "source": [
    "tables = doc.findall('.//table[@class=\"details-table quote-table Fz-m\"]')\n",
    "len(tables)\n",
    "tables"
   ]
  },
  {
   "cell_type": "code",
   "execution_count": null,
   "metadata": {
    "collapsed": false
   },
   "outputs": [],
   "source": [
    "# The first table contains the calls and the second contains the puts\n",
    "calls = tables[0] \n",
    "\n",
    "puts = tables[1]\n"
   ]
  },
  {
   "cell_type": "markdown",
   "metadata": {},
   "source": [
    "Now, we want to again parse the content of these tables. For that, we get back a list of elements that contain \"table rows\" which are the `<tr>...</tr>` elements. Let's get these now:"
   ]
  },
  {
   "cell_type": "code",
   "execution_count": null,
   "metadata": {
    "collapsed": false
   },
   "outputs": [],
   "source": [
    "calls_rows = calls.findall('.//tr')\n",
    "puts_rows = puts.findall('.//tr')"
   ]
  },
  {
   "cell_type": "markdown",
   "metadata": {},
   "source": [
    "Now, within the `<tr>` nodes (that represent table rows) we see a set of `<td></td>` elements that contain the cells of each row. You will also notice that the first row contains `<th></th>` cells instead of `<td></td>`; the `<th></th>` cells are commonly used to mark the \"headers\" of the table."
   ]
  },
  {
   "cell_type": "markdown",
   "metadata": {},
   "source": [
    "Above, you have seen how we can use list comprehensions to get back the data that we want in a list format. Now, we will write a function that will return us directly the text content of the cells in the table"
   ]
  },
  {
   "cell_type": "code",
   "execution_count": null,
   "metadata": {
    "collapsed": false
   },
   "outputs": [],
   "source": [
    "# This function takes as input a \"tr\" node\n",
    "# and returns a list of the text content for each\n",
    "# of the cells. To avoid creating two functions,\n",
    "# one for header (<th>) cells and one for data (<td>) cells\n",
    "# we pass a parameter isHeader that specifies that we are \n",
    "# extracting from\n",
    "def extractCells(row, isHeader=False):\n",
    "    if isHeader:\n",
    "        cells = row.findall('.//th')\n",
    "    else:\n",
    "        cells = row.findall('.//td')\n",
    "        \n",
    "    # The ...strip().splitlines()[0] is not strictly necessary, but it helps for beautifying the headers\n",
    "    return [val.text_content().strip().splitlines()[0] for val in cells]"
   ]
  },
  {
   "cell_type": "markdown",
   "metadata": {},
   "source": [
    "For now, let's get the contents of the header row:"
   ]
  },
  {
   "cell_type": "code",
   "execution_count": null,
   "metadata": {
    "collapsed": false
   },
   "outputs": [],
   "source": [
    "extractCells(calls_rows[0], isHeader=True)"
   ]
  },
  {
   "cell_type": "markdown",
   "metadata": {},
   "source": [
    "And let's get the contents of the first row:"
   ]
  },
  {
   "cell_type": "code",
   "execution_count": null,
   "metadata": {
    "collapsed": false
   },
   "outputs": [],
   "source": [
    "extractCells(calls_rows[2], isHeader=False)"
   ]
  },
  {
   "cell_type": "markdown",
   "metadata": {},
   "source": [
    "Now, out goal is to take all the above, and put them together. We will first create a function that takes the \"table\" object as a parameter, and creates a DataFrame object, with the headers of the table as headers for the DataFrame and the table rows become the rows of the DataFrame."
   ]
  },
  {
   "cell_type": "code",
   "execution_count": null,
   "metadata": {
    "collapsed": false
   },
   "outputs": [],
   "source": [
    "import pandas\n",
    "\n",
    "def parse_options_data(table):\n",
    "    rows = table.findall(\".//tr\")\n",
    "    header = extractCells(rows[0], isHeader=True)\n",
    "    data = [extractCells(row, isHeader=False) for row in rows[2:]]\n",
    "    return pandas.DataFrame(data, columns=header)\n"
   ]
  },
  {
   "cell_type": "markdown",
   "metadata": {},
   "source": [
    "Now, let's put everything together:"
   ]
  },
  {
   "cell_type": "code",
   "execution_count": null,
   "metadata": {
    "collapsed": false
   },
   "outputs": [],
   "source": [
    "import requests # This command allows us to fetch URLs\n",
    "from lxml import html # This module will allow us to parse the returned HTML/XML\n",
    "from pandas.io.parsers import TextParser\n",
    "import pandas\n",
    "\n",
    "def extractCells(row, isHeader=False):\n",
    "    if isHeader:\n",
    "        cells = row.findall('.//th')\n",
    "    else:\n",
    "        cells = row.findall('.//td')\n",
    "    return [val.text_content().strip().splitlines()[0] for val in cells]\n",
    "\n",
    "def parse_options_data(table):\n",
    "    rows = table.findall(\".//tr\")\n",
    "    header = extractCells(rows[0], isHeader=True)\n",
    "    data = [extractCells(row, isHeader=False) for row in rows[2:]]\n",
    "    return pandas.DataFrame(data, columns=header)\n",
    "\n",
    "url = \"http://finance.yahoo.com/q/op?s=YHOO+Options\"\n",
    "response = requests.get(url) # get the html of that url\n",
    "doc = html.fromstring(response.text) \n",
    "\n",
    "tables = doc.findall('.//table[@class=\"details-table quote-table Fz-m\"]')\n",
    "calls = tables[0] \n",
    "puts = tables[1] \n",
    "call_data = parse_options_data(calls)\n",
    "put_data = parse_options_data(puts)"
   ]
  },
  {
   "cell_type": "code",
   "execution_count": null,
   "metadata": {
    "collapsed": false
   },
   "outputs": [],
   "source": [
    "call_data"
   ]
  },
  {
   "cell_type": "markdown",
   "metadata": {},
   "source": [
    "And let's plot the data:"
   ]
  },
  {
   "cell_type": "code",
   "execution_count": null,
   "metadata": {
    "collapsed": false
   },
   "outputs": [],
   "source": [
    "# Render our plots inline\n",
    "%matplotlib inline\n",
    "\n",
    "import pandas as pd\n",
    "import matplotlib.pyplot as plt\n",
    "\n",
    "# Make the graphs a bit prettier, and bigger\n",
    "# Do not need to understand these commands\n",
    "plt.rcParams['figure.figsize'] = (15, 5)\n",
    "\n",
    "X = call_data[\"Strike\"]\n",
    "Y = call_data[\"Last\"]\n",
    "plt.plot(X, Y, 'r-')\n",
    "\n",
    "Y = call_data[\"Bid\"]\n",
    "plt.plot(X, Y, 'g-')\n",
    "\n",
    "Y = call_data[\"Ask\"]\n",
    "plt.plot(X, Y, 'b-')\n",
    "\n",
    "\n",
    "plt.title('YHOO Calls Prices')\n",
    "plt.xlabel('Strike')\n",
    "plt.ylabel('Last/Bid/Ask Price')"
   ]
  },
  {
   "cell_type": "markdown",
   "metadata": {},
   "source": [
    "### In Class Example: Crawl BuzzFeed\n",
    "\n",
    "* We will try to get the top articles that appear on Buzzfeed\n",
    "* We will grab the link for the article, the text of the title, the description, and the editor.\n",
    "* The results will be stored in a dataframe (we will see in detail what a dataframe is, in a couple of modules)\n"
   ]
  },
  {
   "cell_type": "code",
   "execution_count": null,
   "metadata": {
    "collapsed": true
   },
   "outputs": [],
   "source": [
    "\n",
    "def extract_article_elements(article):\n",
    "    headline = article.find(\".//a[@class='lede__link']\")\n",
    "    \n",
    "    if headline == None:\n",
    "        headline_text = None\n",
    "        return None\n",
    "    else: \n",
    "        headline_text = headline.text_content()\n",
    "\n",
    "    description = article.find(\"./p[@class='lede__kicker']\")\n",
    "    if description == None:\n",
    "        descr_text = None\n",
    "    else:\n",
    "        descr_text = description.text_content()\n",
    "    \n",
    "    editor = article.find(\".//a[@editor]\")\n",
    "    if editor == None:\n",
    "        editor_text = None\n",
    "    else:\n",
    "        editor_text = editor.text_content()\n",
    "        \n",
    "    result = {\n",
    "        'headline': headline_text,\n",
    "        'description': descr_text,\n",
    "        'editor': editor_text\n",
    "    }\n",
    "    \n",
    "    return result"
   ]
  },
  {
   "cell_type": "code",
   "execution_count": null,
   "metadata": {
    "collapsed": false
   },
   "outputs": [],
   "source": [
    "#your code here\n",
    "import requests\n",
    "from lxml import html\n",
    "\n",
    "resp = requests.get(\"http://www.buzzfeed.com\")\n",
    "doc = html.fromstring(resp.text)\n",
    "\n",
    "articles = doc.xpath(\"//div[@class='lede__body']\")\n",
    "\n",
    "data = [extract_article_elements(article) for article in articles]\n",
    "df = pd.DataFrame(data)\n",
    "df\n"
   ]
  },
  {
   "cell_type": "markdown",
   "metadata": {
    "collapsed": true
   },
   "source": [
    "#### Solution for Buzzfeed (as of March 1st, 2016)"
   ]
  },
  {
   "cell_type": "code",
   "execution_count": null,
   "metadata": {
    "collapsed": false
   },
   "outputs": [],
   "source": [
    "import requests # This command allows us to fetch URLs\n",
    "from lxml import html # This module will allow us to parse the returned HTML/XML\n",
    "import pandas\n",
    "\n",
    "# Let's start by fetching the page, and parsing it\n",
    "url = \"http://www.buzzfeed.com/\"\n",
    "response = requests.get(url) # get the html of that url\n",
    "doc = html.fromstring(response.text) # parse it and create a document\n",
    "\n",
    "articleNodes = doc.xpath(\".//ul[contains(@class,'grid-posts')]//div[@class='lede ']/div[@class='lede__body']\") \n",
    "\n",
    "def parseArticleNode(article):\n",
    "    headline = article.find(\".//h2[@class='lede__title lede__title--medium']/a[@class='lede__link']\")\n",
    "    if headline == None:\n",
    "        return dict()\n",
    "    headline_text = headline.text_content()[2:]\n",
    "    headline_link = headline.get(\"href\").strip()\n",
    "    \n",
    "    description = article.find(\"./p[@class='lede__kicker']\")\n",
    "    if description == None:\n",
    "        description_text = None\n",
    "    else:\n",
    "        description_text = description.text_content().strip()\n",
    "    \n",
    "    editor = article.find('.//a[@editor]') \n",
    "    if editor == None:\n",
    "        editor_text = None\n",
    "    else:\n",
    "        editor_text = editor.text_content().strip()\n",
    "    \n",
    "    result = {\n",
    "        \"headline\": headline_text,\n",
    "        \"URL\" : headline_link,\n",
    "        \"description\" : description_text,\n",
    "        \"editor\" : editor_text\n",
    "    }\n",
    "    return result\n",
    "\n",
    "data = [parseArticleNode(article) for article in articleNodes]\n",
    "df = pandas.DataFrame(data)\n",
    "df"
   ]
  },
  {
   "cell_type": "code",
   "execution_count": null,
   "metadata": {
    "collapsed": true
   },
   "outputs": [],
   "source": []
  }
 ],
 "metadata": {
  "kernelspec": {
   "display_name": "Python 3",
   "language": "python",
   "name": "python3"
  },
  "language_info": {
   "codemirror_mode": {
    "name": "ipython",
    "version": 3
   },
   "file_extension": ".py",
   "mimetype": "text/x-python",
   "name": "python",
   "nbconvert_exporter": "python",
   "pygments_lexer": "ipython3",
   "version": "3.5.2"
  }
 },
 "nbformat": 4,
 "nbformat_minor": 0
}
