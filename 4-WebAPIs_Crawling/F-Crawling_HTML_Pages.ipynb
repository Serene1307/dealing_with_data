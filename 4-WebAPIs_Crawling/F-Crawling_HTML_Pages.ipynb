{
 "cells": [
  {
   "cell_type": "markdown",
   "metadata": {
    "deletable": true,
    "editable": true
   },
   "source": [
    "## Crawling and Extracting Data from Websites"
   ]
  },
  {
   "cell_type": "markdown",
   "metadata": {
    "deletable": true,
    "editable": true
   },
   "source": [
    "This module uses a set of non-standard libraries, which need to be installed on your machine. By default, your instance should have these installed, but if this is not the case, type these in the Unix shell prompt\n",
    "\n",
    "\n",
    "\n"
   ]
  },
  {
   "cell_type": "code",
   "execution_count": 1,
   "metadata": {
    "collapsed": false,
    "deletable": true,
    "editable": true
   },
   "outputs": [
    {
     "name": "stdout",
     "output_type": "stream",
     "text": [
      "Reading package lists... Done\n",
      "Building dependency tree       \n",
      "Reading state information... Done\n",
      "Note, selecting 'libxslt1-dev' instead of 'libxslt-dev'\n",
      "libxslt1-dev is already the newest version (1.1.28-2.1).\n",
      "python3-dev is already the newest version (3.5.1-3).\n",
      "libxml2-dev is already the newest version (2.9.3+dfsg1-1ubuntu0.1).\n",
      "The following packages were automatically installed and are no longer required:\n",
      "  linux-headers-4.4.0-62 linux-headers-4.4.0-62-generic\n",
      "  linux-image-4.4.0-62-generic\n",
      "Use 'sudo apt autoremove' to remove them.\n",
      "0 upgraded, 0 newly installed, 0 to remove and 32 not upgraded.\n"
     ]
    }
   ],
   "source": [
    "!sudo -H apt-get -y install libxml2-dev libxslt-dev python3-dev"
   ]
  },
  {
   "cell_type": "markdown",
   "metadata": {
    "deletable": true,
    "editable": true
   },
   "source": [
    "and then"
   ]
  },
  {
   "cell_type": "code",
   "execution_count": 2,
   "metadata": {
    "collapsed": false,
    "deletable": true,
    "editable": true
   },
   "outputs": [
    {
     "name": "stdout",
     "output_type": "stream",
     "text": [
      "Requirement already up-to-date: lxml in /usr/local/lib/python3.5/dist-packages\r\n"
     ]
    }
   ],
   "source": [
    "!sudo -H pip3 install -U lxml"
   ]
  },
  {
   "cell_type": "code",
   "execution_count": 3,
   "metadata": {
    "collapsed": false,
    "deletable": true,
    "editable": true
   },
   "outputs": [
    {
     "name": "stdout",
     "output_type": "stream",
     "text": [
      "Requirement already up-to-date: pandas in /usr/local/lib/python3.5/dist-packages\n",
      "Requirement already up-to-date: pytz>=2011k in /usr/local/lib/python3.5/dist-packages (from pandas)\n",
      "Requirement already up-to-date: python-dateutil>=2 in /usr/local/lib/python3.5/dist-packages (from pandas)\n",
      "Requirement already up-to-date: numpy>=1.7.0 in /usr/local/lib/python3.5/dist-packages (from pandas)\n",
      "Requirement already up-to-date: six>=1.5 in /usr/lib/python3/dist-packages (from python-dateutil>=2->pandas)\n"
     ]
    }
   ],
   "source": [
    "!sudo -H pip3 install -U pandas"
   ]
  },
  {
   "cell_type": "markdown",
   "metadata": {
    "deletable": true,
    "editable": true
   },
   "source": [
    "### Fetching the headlines from ESPN.com\n",
    "\n",
    "Let's start by trying to fetch the headlines from the site ESPN.com.\n",
    "\n"
   ]
  },
  {
   "cell_type": "code",
   "execution_count": 4,
   "metadata": {
    "collapsed": false,
    "deletable": true,
    "editable": true
   },
   "outputs": [],
   "source": [
    "import requests # This command allows us to fetch URLs\n",
    "from lxml import html # This module will allow us to parse the returned HTML/XML\n",
    "import pandas # To create a dataframe\n",
    "\n",
    "# Let's start by fetching the page, and parsing it\n",
    "url = \"http://www.espn.com/\"\n",
    "response = requests.get(url) # get the html of that url\n",
    "doc = html.fromstring(response.text) # parse it and create a document"
   ]
  },
  {
   "cell_type": "markdown",
   "metadata": {
    "deletable": true,
    "editable": true
   },
   "source": [
    "The `doc` variable is an `HtmlElement` object, and we can now use **XPath** queries to locate the elements that we need. (Depending on time, we may do in class a tutorial on XPath. For now, you can look at the [W3Schools tutorial](http://www.w3schools.com/xpath/xpath_nodes.asp))"
   ]
  },
  {
   "cell_type": "markdown",
   "metadata": {
    "deletable": true,
    "editable": true
   },
   "source": [
    "For example, to find all the `<a ...> ... </a>` tags in the returned html, which store the links in the page, we issue the command:"
   ]
  },
  {
   "cell_type": "code",
   "execution_count": 5,
   "metadata": {
    "collapsed": false,
    "deletable": true,
    "editable": true
   },
   "outputs": [
    {
     "data": {
      "text/plain": [
       "228"
      ]
     },
     "execution_count": 5,
     "metadata": {},
     "output_type": "execute_result"
    }
   ],
   "source": [
    "links = doc.xpath(\"//a\")\n",
    "len(links)"
   ]
  },
  {
   "cell_type": "code",
   "execution_count": 21,
   "metadata": {
    "collapsed": false,
    "deletable": true,
    "editable": true
   },
   "outputs": [
    {
     "data": {
      "text/plain": [
       "lxml.html.HtmlElement"
      ]
     },
     "execution_count": 21,
     "metadata": {},
     "output_type": "execute_result"
    }
   ],
   "source": [
    "lnk = links[70]\n",
    "type(lnk)\n"
   ]
  },
  {
   "cell_type": "markdown",
   "metadata": {
    "deletable": true,
    "editable": true
   },
   "source": [
    "The `lnk` variable is again an HtmlElement. To get parts of the html element that we need, we can use the `get` method (e.g., to get the `href` attribute) and the `text_content()` method (to get the text within the `<a>...</a>` tag."
   ]
  },
  {
   "cell_type": "code",
   "execution_count": 25,
   "metadata": {
    "collapsed": false,
    "deletable": true,
    "editable": true
   },
   "outputs": [
    {
     "data": {
      "text/plain": [
       "'/mlb/story/_/id/18747575/tim-tebow-baseball-journey-hits-mets-spring-training'"
      ]
     },
     "execution_count": 25,
     "metadata": {},
     "output_type": "execute_result"
    }
   ],
   "source": [
    "lnk.get(\"href\")"
   ]
  },
  {
   "cell_type": "code",
   "execution_count": 26,
   "metadata": {
    "collapsed": false,
    "deletable": true,
    "editable": true
   },
   "outputs": [
    {
     "data": {
      "text/plain": [
       "\"MLBESPN.comTebow's baseball journey hits Mets spring trainingFrom Heisman Trophy-winning and NFL starting quarterback to minor league-hopeful outfielder, here's how Tim Tebow's path brought him to the Grapefruit League.\""
      ]
     },
     "execution_count": 26,
     "metadata": {},
     "output_type": "execute_result"
    }
   ],
   "source": [
    "lnk.text_content()"
   ]
  },
  {
   "cell_type": "markdown",
   "metadata": {
    "deletable": true,
    "editable": true
   },
   "source": [
    "Now, let's revisit the _list comprehension_ approach that we discussed in the Python Primer session, for quickly constructing lists:"
   ]
  },
  {
   "cell_type": "code",
   "execution_count": 9,
   "metadata": {
    "collapsed": false,
    "deletable": true,
    "editable": true
   },
   "outputs": [
    {
     "data": {
      "text/plain": [
       "['#',\n",
       " '/',\n",
       " '#',\n",
       " '#',\n",
       " '/nfl/',\n",
       " '/nba/',\n",
       " '/mlb/',\n",
       " '/college-football/',\n",
       " 'http://www.espnfc.com',\n",
       " '/mens-college-basketball/',\n",
       " '#',\n",
       " '/nhl/',\n",
       " '/golf/',\n",
       " '/tennis/',\n",
       " '/mma/',\n",
       " '/wwe/',\n",
       " '/boxing/',\n",
       " '/esports/',\n",
       " '/chalk/',\n",
       " '/analytics/',\n",
       " '/womens-basketball/',\n",
       " '/womens-basketball/',\n",
       " '/racing/nascar/',\n",
       " '/racing/',\n",
       " '/horse-racing/',\n",
       " 'http://www.espn.com/college-sports/football/recruiting/',\n",
       " 'http://www.espn.com/college-sports/basketball/recruiting/index',\n",
       " '/college-sports/',\n",
       " 'http://www.espn.com/moresports/story/_/page/LittleLeagueWorldSeries/little-league-world-series-espn',\n",
       " '/olympics/',\n",
       " 'http://www.espn.com/extra/specialolympics/',\n",
       " 'http://xgames.com/',\n",
       " 'http://espncricinfo.com/',\n",
       " 'http://www.espnscrum.com/',\n",
       " '/endurance/',\n",
       " 'http://www.tsn.ca/cfl',\n",
       " '#',\n",
       " '/fantasy/',\n",
       " 'http://www.espn.com/espnradio/index',\n",
       " 'http://www.espn.com/watchespn/index',\n",
       " None,\n",
       " '#',\n",
       " 'http://www.espn.com/nfl/story/_/id/18749426/2017-nfl-combine-preview-prospect-targets-positions-need-every-team-nfl-draft',\n",
       " 'http://www.espn.com/mens-college-basketball/bracketology',\n",
       " 'http://www.espn.com/mlb/story/_/page/springtraining_2017home/mlb-spring-training-2017',\n",
       " 'http://games.espn.com/flb/welcome',\n",
       " 'http://games.espn.com/tournament-challenge-bracket/2017/en/bracket?ex_cid=TC2017_LeftRail',\n",
       " 'http://www.espn.com/fantasy/basketball/',\n",
       " 'http://www.espn.com/fantasy/baseball/',\n",
       " 'http://www.espn.com/fantasy/hockey/',\n",
       " 'http://fantasyrugby.espn.co.uk/ESPN/en/5/clienthome.do',\n",
       " 'http://streak.espn.com/en/',\n",
       " 'http://games.abc.go.com/bachelor-fantasy-league/2017/en/game?metricSource=espnweb',\n",
       " 'http://www.espn.com/fantasy/football/',\n",
       " 'http://www.fivethirtyeight.com/',\n",
       " 'http://theundefeated.com/',\n",
       " 'http://www.espn.com/doubletruck/',\n",
       " 'http://www.espn.com/espnw/',\n",
       " 'http://www.espnfc.co.uk/',\n",
       " 'http://espndeportes.espn.com/',\n",
       " 'http://www.secsports.com/',\n",
       " 'http://www.espn.com/insider/',\n",
       " 'http://www.espn.com/sportsnation/',\n",
       " 'http://www.espn.com/chalk/',\n",
       " 'http://www.espn.com/espn/apps/download?app=espn',\n",
       " 'http://www.espn.com/espn/mobile/products/products/_/id/17145860',\n",
       " 'https://www.facebook.com/ESPN/',\n",
       " 'https://twitter.com/espn',\n",
       " 'https://www.instagram.com/espn/',\n",
       " '/mlb/story/_/id/18747575/tim-tebow-baseball-journey-hits-mets-spring-training',\n",
       " '/mlb/story/_/id/18747575/tim-tebow-baseball-journey-hits-mets-spring-training',\n",
       " '/blog/the-gms-office/insider/post?id=13960',\n",
       " '/nba/story/_/id/18779961/joel-embiid-philadelphia-76ers-undergo-mri-injured-knee',\n",
       " '/nba/story/_/id/18780034/joakim-noah-new-york-knicks-likely-done-season-knee-injury',\n",
       " '/nfl/story/_/id/18778296/chicago-bears-unlikely-tag-alshon-jeffery-again',\n",
       " '/womens-college-basketball/story/_/id/18774890/kim-mulkey-baylor-bears-expresses-regret-comment',\n",
       " '/nba/story/_/id/18776384/andrew-bogut-negotiating-philadelphia-76ers-release-wants-join-cavs',\n",
       " '/golf/story/_/id/18774951/jack-nicklaus-says-tiger-woods-status-puzzling',\n",
       " '/nfl/insider/story/_/id/18775789/eight-nfl-trades-happen-2017-offseason-free-agency',\n",
       " '/mens-college-basketball/',\n",
       " '/mens-college-basketball/',\n",
       " 'http://www.espn.com/mens-college-basketball/bracketology',\n",
       " '/mens-college-basketball/team/_/id/2250/gonzaga-bulldogs',\n",
       " '/mens-college-basketball/insider/story/_/id/18778236/behind-bracket-take-away-gonzaga-no-1-seed-loss',\n",
       " '/mens-college-basketball/',\n",
       " '/mens-college-basketball/',\n",
       " '/mens-college-basketball/story/_/page/powerrankings170227/college-hoops-power-rankings-gonzaga-bulldogs-first-loss-moved-kansas-jayhawks-back-no-1-spot',\n",
       " '/blog/statsinfo/post/_/id/129946/who-were-this-weeks-bpi-winners-and-losers',\n",
       " '/mens-college-basketball/',\n",
       " 'https://www.facebook.com/dialog/share?href=http%3A%2F%2Fes.pn%2F2lMakhf&app_id=116656161708917',\n",
       " 'http://twitter.com/intent/tweet?lang=en&url=http%3A%2F%2Fes.pn%2F2lMakhf&text=There%27s%20a%20new%20No.%201',\n",
       " 'mailto:?subject=There%27s%20a%20new%20No.%201&body=http://es.pn/2lMakhf',\n",
       " 'http://es.pn/2lMakhf',\n",
       " '/womens-basketball/',\n",
       " 'https://www.facebook.com/dialog/share?href=http%3A%2F%2Fes.pn%2F2lYuDbX&app_id=116656161708917',\n",
       " 'http://twitter.com/intent/tweet?lang=en&url=http%3A%2F%2Fes.pn%2F2lYuDbX&text=Stephen%20A.%20rips%20Mulkey%20for%20Baylor%20remarks',\n",
       " 'mailto:?subject=Stephen%20A.%20rips%20Mulkey%20for%20Baylor%20remarks&body=http://es.pn/2lYuDbX',\n",
       " 'http://es.pn/2lYuDbX',\n",
       " '/nfl/',\n",
       " '/nfl/story/_/id/18749426/2017-nfl-combine-preview-prospect-targets-positions-need-every-team-nfl-draft',\n",
       " '/blog/nflnation/post/_/id/231665/how-combine-stars-can-become-nfl-duds',\n",
       " '/nfl/draft2017/story/_/id/18778665/2017-nfl-draft-order-every-pick-every-team',\n",
       " '/nfl/',\n",
       " 'https://www.facebook.com/dialog/share?href=http%3A%2F%2Fes.pn%2F2mCQrXx&app_id=116656161708917',\n",
       " 'http://twitter.com/intent/tweet?lang=en&url=http%3A%2F%2Fes.pn%2F2mCQrXx&text=Combine%20stars%20turned%20NFL%20duds',\n",
       " 'mailto:?subject=Combine%20stars%20turned%20NFL%20duds&body=http://es.pn/2mCQrXx',\n",
       " 'http://es.pn/2mCQrXx',\n",
       " '/nba/',\n",
       " '/nba/team/_/name/okc/oklahoma-city-thunder',\n",
       " '/blog/okc-thunder/post/_/id/2321/russell-westbrook-shows-again-why-hes-maybe-the-nbas-best-closer',\n",
       " '/nba/',\n",
       " 'https://www.facebook.com/dialog/share?href=http%3A%2F%2Fes.pn%2F2mAY3d4&app_id=116656161708917',\n",
       " 'http://twitter.com/intent/tweet?lang=en&url=http%3A%2F%2Fes.pn%2F2mAY3d4&text=Westbrook%27s%20power%20jam%20on%20Boogie%20from%20all%20angles.',\n",
       " 'mailto:?subject=Westbrook%27s%20power%20jam%20on%20Boogie%20from%20all%20angles.&body=http://es.pn/2mAY3d4',\n",
       " 'http://es.pn/2mAY3d4',\n",
       " '/nba/team/_/name/no/new-orleans-pelicans',\n",
       " '/blog/new-orleans-pelicans/post/_/id/1068/jrue-holiday-struggling-to-find-his-way-as-part-of-pelicans-big-three',\n",
       " '/racing/nascar/',\n",
       " '/racing/nascar/',\n",
       " '/racing/nascar/story/_/id/18774934/nascar-daytona-finish-redemption-nascar-kurt-busch',\n",
       " '/racing/nascar/',\n",
       " '/racing/nascar/story/_/id/18774816/nascar-tony-gibson-win-crew-chief-not-bad-old-man',\n",
       " '/racing/nascar/',\n",
       " 'https://www.facebook.com/dialog/share?href=http%3A%2F%2Fes.pn%2F2mtlmGp&app_id=116656161708917',\n",
       " 'http://twitter.com/intent/tweet?lang=en&url=http%3A%2F%2Fes.pn%2F2mtlmGp&text=Late%20push%20for%20the%20checkered%20flag',\n",
       " 'mailto:?subject=Late%20push%20for%20the%20checkered%20flag&body=http://es.pn/2mtlmGp',\n",
       " 'http://es.pn/2mtlmGp',\n",
       " 'http://www.espn.com/racing/raceresults/_/series/sprint/raceId/201702260001',\n",
       " '/jayski/',\n",
       " 'https://theundefeated.com/features/blowing-the-whistle-on-shaq-and-javale/',\n",
       " 'https://theundefeated.com/features/shaq-drops-his-twitter-feud-with-javale-mcgee-on-orders-from-the-top/',\n",
       " 'http://www.espn.com/30for30/ojsimpsonmadeinamerica/',\n",
       " 'http://www.espn.com/watchespn/index/_/id/2840463/',\n",
       " 'https://www.facebook.com/dialog/share?href=http%3A%2F%2Fes.pn%2F2lW1Uo0&app_id=116656161708917',\n",
       " 'http://twitter.com/intent/tweet?lang=en&url=http%3A%2F%2Fes.pn%2F2lW1Uo0&text=%27O.J.%3A%20Made%20in%20America%27%20wins%20an%20Oscar',\n",
       " 'mailto:?subject=%27O.J.%3A%20Made%20in%20America%27%20wins%20an%20Oscar&body=http://es.pn/2lW1Uo0',\n",
       " 'http://es.pn/2lW1Uo0',\n",
       " '/espn/now?nowId=1-18778153',\n",
       " '/nba/',\n",
       " '/nba/team/_/name/sa/san-antonio-spurs',\n",
       " 'https://www.facebook.com/dialog/share?href=http%3A%2F%2Fes.pn%2F2mtE151&app_id=116656161708917',\n",
       " 'http://twitter.com/intent/tweet?lang=en&url=http%3A%2F%2Fes.pn%2F2mtE151&text=Dedmon%20puts%20Ingram%20on%20a%20poster',\n",
       " 'mailto:?subject=Dedmon%20puts%20Ingram%20on%20a%20poster&body=http://es.pn/2mtE151',\n",
       " 'http://es.pn/2mtE151',\n",
       " '/nba/',\n",
       " 'https://www.facebook.com/dialog/share?href=http%3A%2F%2Fes.pn%2F2lVVa9M&app_id=116656161708917',\n",
       " 'http://twitter.com/intent/tweet?lang=en&url=http%3A%2F%2Fes.pn%2F2lVVa9M&text=DeAndre%20beats%20buzzer%20with%20putback%20dunk',\n",
       " 'mailto:?subject=DeAndre%20beats%20buzzer%20with%20putback%20dunk&body=http://es.pn/2lVVa9M',\n",
       " 'http://es.pn/2lVVa9M',\n",
       " '/nba/team/_/name/sa/san-antonio-spurs',\n",
       " '/blog/san-antonio-spurs/post/_/id/1414/rodeo-road-trip-provides-adversity-to-build-on-for-the-playoffs',\n",
       " 'https://fivethirtyeight.com/?addata=espnfrontpage',\n",
       " 'https://fivethirtyeight.com/features/oscars-night-was-predictable-until-the-very-end/',\n",
       " 'https://fivethirtyeight.com/features/draft-picks-arent-forever/',\n",
       " '/espn/story/_/id/18777838/ukraine-gridiron-wildcat-courage-slap-shot-turns-40',\n",
       " '/blog/sweetspot/post/_/id/77836/positions-of-weakness-teams-that-will-regret-not-upgrading',\n",
       " '/mlb/team/_/name/nyy/new-york-yankees',\n",
       " '/blog/new-york/yankees/post/_/id/95754/aaron-judge-is-a-freak-but-will-he-be-a-star',\n",
       " 'http://www.espnfc.us/club/leicester-city/375/squad',\n",
       " 'http://www.espnfc.com/barclays-premier-league/story/3070196/what-happened-to-leicester-cityand-whats-next-fc',\n",
       " 'http://www.espnfc.com/spanish-primera-division/15/index',\n",
       " 'http://www.espnfc.com/blog/the-match/60/post/3068156/lionel-messi-late-winner-at-atletico-madrid-puts-previously-in-crisis-barcelona-top-of-la-liga',\n",
       " '/mens-college-basketball/team/_/id/2523/robert-morris-colonials',\n",
       " 'http://www.espnfc.com/major-league-soccer/19/blog/post/3069976/major-league-soccer-power-rankings-clint-dempsey-champs-seattle-sounders-top',\n",
       " 'http://www.espnfc.us/club/minnesota-united-fc/17362/squad',\n",
       " 'http://www.espnfc.com/major-league-soccer/19/blog/post/3070066/minnesota-united-play-to-local-fan-base-while-kevin-molino-boosts-mls-hopes',\n",
       " 'http://www.espnfc.com/club/bayer-leverkusen/131/squad',\n",
       " 'http://www.espnfc.com/soccer-transfers/story/3068046/javier-hernandez-in-negotiations-with-mls-over-possible-move-sources',\n",
       " '/nhl/',\n",
       " '/nhl/story/_/page/powerrankings-feb272017/nhl-chicago-blackhawks-soar-minnesota-wild-deal-calgary-flames-heat-decision-washington-capitals-trade-deadline-approaches-power-rankings',\n",
       " '/nhl/',\n",
       " '/nhl/story/_/id/18777980/nhl-los-angeles-kings-new-york-islanders-boston-bruins-change-trade-deadline-approach-morning-roundtable',\n",
       " '/nhl/insider/story/_/id/18774993/nhl-trade-grades-every-major-move-ahead-2017-nhl-trade-deadline',\n",
       " '/nhl/',\n",
       " '/nhl/',\n",
       " '/nhl/story/_/id/18770934/nhl-slap-shot-40th-anniversary-reunion-weekend-really-captured-spirit-thing',\n",
       " '/nhl/',\n",
       " '/nhl/story/_/id/18771241/nhl-slap-shot-40th-anniversary-reunion-weekend-tweets',\n",
       " 'http://www.espn.com/espnw/sports/article/18764643/francesca-belibi-becomes-first-girl-dunk-colorado-high-school-playoff-game',\n",
       " 'https://www.facebook.com/dialog/share?href=http%3A%2F%2Fes.pn%2F2lS7LdX&app_id=116656161708917',\n",
       " 'http://twitter.com/intent/tweet?lang=en&url=http%3A%2F%2Fes.pn%2F2lS7LdX&text=Zion%20Williamson%20with%20another%20insane%20dunk%20in%20state%20title%20game',\n",
       " 'mailto:?subject=Zion%20Williamson%20with%20another%20insane%20dunk%20in%20state%20title%20game&body=http://es.pn/2lS7LdX',\n",
       " 'http://es.pn/2lS7LdX',\n",
       " '/womens-basketball/',\n",
       " 'http://www.espn.com/womens-college-basketball/bracketology',\n",
       " '/womens-college-basketball/story/_/id/18776596/which-teams-most-gain-lose-championship-week',\n",
       " '/mma/',\n",
       " '/mma/story/_/id/18775867/ufc-georges-st-pierre-face-michael-bisping-conor-mcgregor-anderson-silva-else-return-octagon',\n",
       " '/tennis/',\n",
       " '/tennis/story/_/id/18778830/tennis-w2w4-week-roger-federer-novak-djokovic-return-court',\n",
       " '/golf/',\n",
       " 'https://www.facebook.com/dialog/share?href=http%3A%2F%2Fes.pn%2F2lVpr8F&app_id=116656161708917',\n",
       " 'http://twitter.com/intent/tweet?lang=en&url=http%3A%2F%2Fes.pn%2F2lVpr8F&text=Fowler%20seals%20the%20deal%20to%20win%20Honda%20Classic',\n",
       " 'mailto:?subject=Fowler%20seals%20the%20deal%20to%20win%20Honda%20Classic&body=http://es.pn/2lVpr8F',\n",
       " 'http://es.pn/2lVpr8F',\n",
       " '/nfl/',\n",
       " '/nfl/team/_/name/phi/philadelphia-eagles',\n",
       " '/blog/philadelphia-eagles/post/_/id/20265/if-released-jamaal-charles-could-be-intriguing-option-for-eagles',\n",
       " '/nfl/team/_/name/nyj/new-york-jets',\n",
       " '/blog/new-york-jets/post/_/id/67118/assessing-jets-quarterback-options-from-mike-glennon-to-jimmy-g',\n",
       " '/nfl/team/_/name/ind/indianapolis-colts',\n",
       " '/blog/indianapolis-colts/post/_/id/19834/could-the-colts-release-dwayne-allen-and-pursue-martellus-bennett',\n",
       " '/nfl/team/_/name/ne/new-england-patriots',\n",
       " 'https://www.facebook.com/dialog/share?href=http%3A%2F%2Fes.pn%2F2gTPlnD&app_id=116656161708917',\n",
       " 'http://twitter.com/intent/tweet?lang=en&url=http%3A%2F%2Fes.pn%2F2gTPlnD&text=E%3A60%3A%20Ten%2Dyear%2Dold%20Patriots%20fan%27s%20special%20bond%20with%20Tom%20Brady',\n",
       " 'mailto:?subject=E%3A60%3A%20Ten%2Dyear%2Dold%20Patriots%20fan%27s%20special%20bond%20with%20Tom%20Brady&body=http://es.pn/2gTPlnD',\n",
       " 'http://es.pn/2gTPlnD',\n",
       " '/boxing/',\n",
       " '/boxing/story/_/id/18778460/back-injuries-deontay-wilder-shows-power-win',\n",
       " 'http://www.espn.com/espnw/culture/article/18750694/what-dominance-black-female-athletes-means-american-culture',\n",
       " '/nba/story/_/id/18779961/joel-embiid-philadelphia-76ers-undergo-mri-injured-knee',\n",
       " '/nba/story/_/id/18780034/joakim-noah-new-york-knicks-likely-done-season-knee-injury',\n",
       " '/nfl/story/_/id/18778296/chicago-bears-unlikely-tag-alshon-jeffery-again',\n",
       " '/womens-college-basketball/story/_/id/18774890/kim-mulkey-baylor-bears-expresses-regret-comment',\n",
       " '/nba/story/_/id/18776384/andrew-bogut-negotiating-philadelphia-76ers-release-wants-join-cavs',\n",
       " '/golf/story/_/id/18774951/jack-nicklaus-says-tiger-woods-status-puzzling',\n",
       " '/nfl/insider/story/_/id/18775789/eight-nfl-trades-happen-2017-offseason-free-agency',\n",
       " None,\n",
       " '#',\n",
       " 'http://www.espn.com/fantasy/',\n",
       " '/golf/story/_/id/18671789/golf-hello-world-tiger-woods-really-got-pga-tour-career-started-25-years-ago-riviera-country-club',\n",
       " '/golf/story/_/id/18671789/golf-hello-world-tiger-woods-really-got-pga-tour-career-started-25-years-ago-riviera-country-club',\n",
       " 'http://www.espn.com/espn/feature/story/_/id/18742022/stories-activism-nba-lebron-james-thabo-sefolosha-carmelo-anthony',\n",
       " 'http://www.espn.com/espn/feature/story/_/id/18742022/stories-activism-nba-lebron-james-thabo-sefolosha-carmelo-anthony',\n",
       " 'http://games.espn.com/flb/welcome',\n",
       " 'http://games.espn.com/flb/welcome',\n",
       " 'https://disneyprivacycenter.com/',\n",
       " 'http://www.espn.com/espn/daily']"
      ]
     },
     "execution_count": 9,
     "metadata": {},
     "output_type": "execute_result"
    }
   ],
   "source": [
    "urls = [lnk.get(\"href\") for lnk in doc.xpath('//a')]\n",
    "urls"
   ]
  },
  {
   "cell_type": "markdown",
   "metadata": {
    "deletable": true,
    "editable": true
   },
   "source": [
    "#### Exercise\n",
    "\n",
    "Use a list compresension approach, to get the text_content of all the URLs in the page."
   ]
  },
  {
   "cell_type": "code",
   "execution_count": 10,
   "metadata": {
    "collapsed": false,
    "deletable": true,
    "editable": true
   },
   "outputs": [],
   "source": [
    "# your code here"
   ]
  },
  {
   "cell_type": "markdown",
   "metadata": {
    "deletable": true,
    "editable": true
   },
   "source": [
    "And now create a list where we put together text content and the URL for each link"
   ]
  },
  {
   "cell_type": "code",
   "execution_count": 11,
   "metadata": {
    "collapsed": false,
    "deletable": true,
    "editable": true
   },
   "outputs": [],
   "source": [
    "# your code here"
   ]
  },
  {
   "cell_type": "markdown",
   "metadata": {
    "deletable": true,
    "editable": true
   },
   "source": [
    "#### Let's get the headlines..."
   ]
  },
  {
   "cell_type": "markdown",
   "metadata": {
    "deletable": true,
    "editable": true
   },
   "source": [
    "Now, let's examine how we can get the data from the website. The key is to understand the structure of the HTML, where the data that we need is stored, and how to fetch the elements. Then, using the appropriate XPath queries, we will get what we want."
   ]
  },
  {
   "cell_type": "code",
   "execution_count": 12,
   "metadata": {
    "collapsed": false,
    "deletable": true,
    "editable": true
   },
   "outputs": [],
   "source": [
    "import requests # This command allows us to fetch URLs\n",
    "from lxml import html # This module will allow us to parse the returned HTML/XML\n",
    "import pandas # To create a dataframe"
   ]
  },
  {
   "cell_type": "markdown",
   "metadata": {},
   "source": [
    "Let's start by fetching the page, and parsing it"
   ]
  },
  {
   "cell_type": "code",
   "execution_count": 13,
   "metadata": {
    "collapsed": true
   },
   "outputs": [],
   "source": [
    "url = \"http://www.espn.com/\"\n",
    "response = requests.get(url) # get the html of that url\n",
    "doc = html.fromstring(response.text) # parse it and create a document"
   ]
  },
  {
   "cell_type": "markdown",
   "metadata": {},
   "source": [
    "By using the `\"Right-Click > Inspect\"` option of Chrome,\n",
    "we right click on the headlines and select `\"Inspect\"`.\n",
    "This opens the source code.\n",
    "There we see that all under a `<div class=\"headlineStack\">` tag\n",
    "which is also the only such tag in the html source"
   ]
  },
  {
   "cell_type": "code",
   "execution_count": 14,
   "metadata": {
    "collapsed": true
   },
   "outputs": [],
   "source": [
    "headlineNode = doc.xpath('//div[@class=\"headlineStack\"]')[0]"
   ]
  },
  {
   "cell_type": "markdown",
   "metadata": {},
   "source": [
    "Each headline is under a  `<li><a href=\"....\"></a>` tag.\n",
    "So, we get all the `<li><a ...>` tags within the `<div class=\"headlineStack\">`\n",
    "(which is stored in the \"`headlineNode`\" variable)"
   ]
  },
  {
   "cell_type": "code",
   "execution_count": 15,
   "metadata": {
    "collapsed": true
   },
   "outputs": [],
   "source": [
    "headlines = headlineNode.xpath('.//ul/li/a')"
   ]
  },
  {
   "cell_type": "markdown",
   "metadata": {},
   "source": [
    "Now, we have the nodes with the conent in the headlines variable.\n",
    "We extract the text and the URL."
   ]
  },
  {
   "cell_type": "code",
   "execution_count": 16,
   "metadata": {
    "collapsed": false,
    "deletable": true,
    "editable": true
   },
   "outputs": [
    {
     "data": {
      "text/plain": [
       "[{'Title': '76ers C Embiid to have MRI on injured knee',\n",
       "  'URL': '/nba/story/_/id/18779961/joel-embiid-philadelphia-76ers-undergo-mri-injured-knee'},\n",
       " {'Title': \"Sources: Season likely over for Knicks' Noah\",\n",
       "  'URL': '/nba/story/_/id/18780034/joakim-noah-new-york-knicks-likely-done-season-knee-injury'},\n",
       " {'Title': 'Source: Bears unlikely to tag WR Jeffery again',\n",
       "  'URL': '/nfl/story/_/id/18778296/chicago-bears-unlikely-tag-alshon-jeffery-again'},\n",
       " {'Title': \"Baylor's Mulkey expresses regret over remarks\",\n",
       "  'URL': '/womens-college-basketball/story/_/id/18774890/kim-mulkey-baylor-bears-expresses-regret-comment'},\n",
       " {'Title': 'Sources: Bogut seeks 76ers exit to join Cavs',\n",
       "  'URL': '/nba/story/_/id/18776384/andrew-bogut-negotiating-philadelphia-76ers-release-wants-join-cavs'},\n",
       " {'Title': \"Nicklaus: Tiger's current status is puzzling\",\n",
       "  'URL': '/golf/story/_/id/18774951/jack-nicklaus-says-tiger-woods-status-puzzling'},\n",
       " {'Title': 'Eight NFL trades that should happen',\n",
       "  'URL': '/nfl/insider/story/_/id/18775789/eight-nfl-trades-happen-2017-offseason-free-agency'}]"
      ]
     },
     "execution_count": 16,
     "metadata": {},
     "output_type": "execute_result"
    }
   ],
   "source": [
    "data = [{\"Title\": a.text_content(), \"URL\": a.get(\"href\")} for a in headlines]\n",
    "data"
   ]
  },
  {
   "cell_type": "markdown",
   "metadata": {},
   "source": [
    "And let's create our dataframe, so that we can have a better view"
   ]
  },
  {
   "cell_type": "code",
   "execution_count": 17,
   "metadata": {
    "collapsed": false,
    "deletable": true,
    "editable": true
   },
   "outputs": [
    {
     "data": {
      "text/html": [
       "<div>\n",
       "<table border=\"1\" class=\"dataframe\">\n",
       "  <thead>\n",
       "    <tr style=\"text-align: right;\">\n",
       "      <th></th>\n",
       "      <th>Title</th>\n",
       "      <th>URL</th>\n",
       "    </tr>\n",
       "  </thead>\n",
       "  <tbody>\n",
       "    <tr>\n",
       "      <th>0</th>\n",
       "      <td>76ers C Embiid to have MRI on injured knee</td>\n",
       "      <td>/nba/story/_/id/18779961/joel-embiid-philadelp...</td>\n",
       "    </tr>\n",
       "    <tr>\n",
       "      <th>1</th>\n",
       "      <td>Sources: Season likely over for Knicks' Noah</td>\n",
       "      <td>/nba/story/_/id/18780034/joakim-noah-new-york-...</td>\n",
       "    </tr>\n",
       "    <tr>\n",
       "      <th>2</th>\n",
       "      <td>Source: Bears unlikely to tag WR Jeffery again</td>\n",
       "      <td>/nfl/story/_/id/18778296/chicago-bears-unlikel...</td>\n",
       "    </tr>\n",
       "    <tr>\n",
       "      <th>3</th>\n",
       "      <td>Baylor's Mulkey expresses regret over remarks</td>\n",
       "      <td>/womens-college-basketball/story/_/id/18774890...</td>\n",
       "    </tr>\n",
       "    <tr>\n",
       "      <th>4</th>\n",
       "      <td>Sources: Bogut seeks 76ers exit to join Cavs</td>\n",
       "      <td>/nba/story/_/id/18776384/andrew-bogut-negotiat...</td>\n",
       "    </tr>\n",
       "    <tr>\n",
       "      <th>5</th>\n",
       "      <td>Nicklaus: Tiger's current status is puzzling</td>\n",
       "      <td>/golf/story/_/id/18774951/jack-nicklaus-says-t...</td>\n",
       "    </tr>\n",
       "    <tr>\n",
       "      <th>6</th>\n",
       "      <td>Eight NFL trades that should happen</td>\n",
       "      <td>/nfl/insider/story/_/id/18775789/eight-nfl-tra...</td>\n",
       "    </tr>\n",
       "  </tbody>\n",
       "</table>\n",
       "</div>"
      ],
      "text/plain": [
       "                                            Title  \\\n",
       "0      76ers C Embiid to have MRI on injured knee   \n",
       "1    Sources: Season likely over for Knicks' Noah   \n",
       "2  Source: Bears unlikely to tag WR Jeffery again   \n",
       "3   Baylor's Mulkey expresses regret over remarks   \n",
       "4    Sources: Bogut seeks 76ers exit to join Cavs   \n",
       "5    Nicklaus: Tiger's current status is puzzling   \n",
       "6             Eight NFL trades that should happen   \n",
       "\n",
       "                                                 URL  \n",
       "0  /nba/story/_/id/18779961/joel-embiid-philadelp...  \n",
       "1  /nba/story/_/id/18780034/joakim-noah-new-york-...  \n",
       "2  /nfl/story/_/id/18778296/chicago-bears-unlikel...  \n",
       "3  /womens-college-basketball/story/_/id/18774890...  \n",
       "4  /nba/story/_/id/18776384/andrew-bogut-negotiat...  \n",
       "5  /golf/story/_/id/18774951/jack-nicklaus-says-t...  \n",
       "6  /nfl/insider/story/_/id/18775789/eight-nfl-tra...  "
      ]
     },
     "execution_count": 17,
     "metadata": {},
     "output_type": "execute_result"
    }
   ],
   "source": [
    "dataframe = pandas.DataFrame(data)\n",
    "dataframe"
   ]
  },
  {
   "cell_type": "markdown",
   "metadata": {
    "deletable": true,
    "editable": true
   },
   "source": [
    "### In Class Example: Crawl BuzzFeed\n",
    "\n",
    "* We will try to get the top articles that appear on Buzzfeed\n",
    "* We will grab the link for the article, the text of the title, the description, and the editor.\n",
    "* The results will be stored in a dataframe (we will see in detail what a dataframe is, in a couple of modules)\n"
   ]
  },
  {
   "cell_type": "code",
   "execution_count": 18,
   "metadata": {
    "collapsed": false,
    "deletable": true,
    "editable": true
   },
   "outputs": [],
   "source": [
    "#your code here\n",
    "import requests\n",
    "from lxml import html\n",
    "\n",
    "resp = requests.get(\"http://www.buzzfeed.com\")\n",
    "doc = html.fromstring(resp.text)\n",
    "\n"
   ]
  },
  {
   "cell_type": "code",
   "execution_count": null,
   "metadata": {
    "collapsed": false,
    "deletable": true,
    "editable": true
   },
   "outputs": [],
   "source": []
  },
  {
   "cell_type": "code",
   "execution_count": null,
   "metadata": {
    "collapsed": true
   },
   "outputs": [],
   "source": []
  },
  {
   "cell_type": "code",
   "execution_count": null,
   "metadata": {
    "collapsed": true
   },
   "outputs": [],
   "source": []
  },
  {
   "cell_type": "markdown",
   "metadata": {
    "collapsed": true,
    "deletable": true,
    "editable": true
   },
   "source": [
    "#### Solution for Buzzfeed (as of February 27, 2017)"
   ]
  },
  {
   "cell_type": "code",
   "execution_count": 27,
   "metadata": {
    "collapsed": false,
    "deletable": true,
    "editable": true
   },
   "outputs": [
    {
     "data": {
      "text/html": [
       "<div>\n",
       "<table border=\"1\" class=\"dataframe\">\n",
       "  <thead>\n",
       "    <tr style=\"text-align: right;\">\n",
       "      <th></th>\n",
       "      <th>URL</th>\n",
       "      <th>description</th>\n",
       "      <th>editor</th>\n",
       "      <th>headline</th>\n",
       "    </tr>\n",
       "  </thead>\n",
       "  <tbody>\n",
       "    <tr>\n",
       "      <th>0</th>\n",
       "      <td>Your Man Mahershala Ali Now Has An Oscar</td>\n",
       "      <td>If you thought he looked good in yellow, wait ...</td>\n",
       "      <td>Marcus Jones</td>\n",
       "      <td>Your Man Mahershala Ali Now Has An Oscar</td>\n",
       "    </tr>\n",
       "    <tr>\n",
       "      <th>1</th>\n",
       "      <td>This Colour Test Will Reveal How Often You Mas...</td>\n",
       "      <td>How many doses of self-loving are you receiving?</td>\n",
       "      <td>Ben Henry</td>\n",
       "      <td>This Colour Test Will Reveal How Often You Mas...</td>\n",
       "    </tr>\n",
       "    <tr>\n",
       "      <th>2</th>\n",
       "      <td>Build The Perfect Date And We'll Tell You What...</td>\n",
       "      <td>Roses are red, violets are blue...</td>\n",
       "      <td>Kevin Smith</td>\n",
       "      <td>Build The Perfect Date And We'll Tell You What...</td>\n",
       "    </tr>\n",
       "    <tr>\n",
       "      <th>3</th>\n",
       "      <td>23 Dirty Jokes You'll Only Appreciate If You H...</td>\n",
       "      <td>[watching porn] I hope they stay together.</td>\n",
       "      <td>Gena-mour Barrett</td>\n",
       "      <td>23 Dirty Jokes You'll Only Appreciate If You H...</td>\n",
       "    </tr>\n",
       "    <tr>\n",
       "      <th>4</th>\n",
       "      <td>This Woman Responded To The Body-Shaming Comme...</td>\n",
       "      <td>\"As it turns out, happiness isn't a size.\"</td>\n",
       "      <td>Rachael Krishna</td>\n",
       "      <td>This Woman Responded To The Body-Shaming Comme...</td>\n",
       "    </tr>\n",
       "    <tr>\n",
       "      <th>5</th>\n",
       "      <td>Build A Dream Date Night And We'll Tell You If...</td>\n",
       "      <td>Are you in lust or loved up?</td>\n",
       "      <td>Jasmin Nahar</td>\n",
       "      <td>Build A Dream Date Night And We'll Tell You If...</td>\n",
       "    </tr>\n",
       "    <tr>\n",
       "      <th>6</th>\n",
       "      <td>How Old Were These Actors When They Filmed The...</td>\n",
       "      <td>Warning: This quiz will make you feel old.</td>\n",
       "      <td>paceyandjoey</td>\n",
       "      <td>How Old Were These Actors When They Filmed The...</td>\n",
       "    </tr>\n",
       "    <tr>\n",
       "      <th>7</th>\n",
       "      <td>Another Jewish Cemetery Was Vandalized</td>\n",
       "      <td>Around 100 headstones were knocked over at the...</td>\n",
       "      <td>Claudia Koerner</td>\n",
       "      <td>Another Jewish Cemetery Was Vandalized</td>\n",
       "    </tr>\n",
       "    <tr>\n",
       "      <th>8</th>\n",
       "      <td>Brie Larson Refused To Applaud Casey Affleck W...</td>\n",
       "      <td>This is the second time this awards season tha...</td>\n",
       "      <td>Ellie Woodward</td>\n",
       "      <td>Brie Larson Refused To Applaud Casey Affleck W...</td>\n",
       "    </tr>\n",
       "    <tr>\n",
       "      <th>9</th>\n",
       "      <td>27 Ways To Trick People Into Thinking You're G...</td>\n",
       "      <td>Bad hair day? I don't know her.</td>\n",
       "      <td>Maitland Quitmeyer</td>\n",
       "      <td>27 Ways To Trick People Into Thinking You're G...</td>\n",
       "    </tr>\n",
       "    <tr>\n",
       "      <th>10</th>\n",
       "      <td>Can We Guess How Often You Poop?</td>\n",
       "      <td>Are you...regular?</td>\n",
       "      <td>Angelo Spagnolo</td>\n",
       "      <td>Can We Guess How Often You Poop?</td>\n",
       "    </tr>\n",
       "    <tr>\n",
       "      <th>11</th>\n",
       "      <td>Planned Parenthood Is Not Sure It’s Going To B...</td>\n",
       "      <td>A leaked draft of a bill shows Congress is get...</td>\n",
       "      <td>Ema O'Connor</td>\n",
       "      <td>Planned Parenthood Is Not Sure It’s Going To B...</td>\n",
       "    </tr>\n",
       "    <tr>\n",
       "      <th>12</th>\n",
       "      <td>Do You Actually Know The Iconic Lyrics To \"Fer...</td>\n",
       "      <td>Hit it Fergie…</td>\n",
       "      <td>Cassie Smyth</td>\n",
       "      <td>Do You Actually Know The Iconic Lyrics To \"Fer...</td>\n",
       "    </tr>\n",
       "    <tr>\n",
       "      <th>13</th>\n",
       "      <td>27 Tumblr Jokes About The Oscars That Are Deli...</td>\n",
       "      <td>\"The 2017 Academy Awards deserves an Academy A...</td>\n",
       "      <td>Cassie Smyth</td>\n",
       "      <td>27 Tumblr Jokes About The Oscars That Are Deli...</td>\n",
       "    </tr>\n",
       "    <tr>\n",
       "      <th>14</th>\n",
       "      <td>You Can Only Eat Dessert If You Get More Than ...</td>\n",
       "      <td>Is your dessert knowledge as good as you think?</td>\n",
       "      <td>Jasmin Nahar</td>\n",
       "      <td>You Can Only Eat Dessert If You Get More Than ...</td>\n",
       "    </tr>\n",
       "    <tr>\n",
       "      <th>15</th>\n",
       "      <td>This Is What It's Like To Spend 3 Weeks On A S...</td>\n",
       "      <td>Fatalities for those crossing the Mediterranea...</td>\n",
       "      <td>SimaDiab</td>\n",
       "      <td>This Is What It's Like To Spend 3 Weeks On A S...</td>\n",
       "    </tr>\n",
       "    <tr>\n",
       "      <th>16</th>\n",
       "      <td>23 Pictures That Will Make You Feel Better For...</td>\n",
       "      <td>These pictures will soothe your soul for betwe...</td>\n",
       "      <td>Hannah Jewell</td>\n",
       "      <td>23 Pictures That Will Make You Feel Better For...</td>\n",
       "    </tr>\n",
       "  </tbody>\n",
       "</table>\n",
       "</div>"
      ],
      "text/plain": [
       "                                                  URL  \\\n",
       "0            Your Man Mahershala Ali Now Has An Oscar   \n",
       "1   This Colour Test Will Reveal How Often You Mas...   \n",
       "2   Build The Perfect Date And We'll Tell You What...   \n",
       "3   23 Dirty Jokes You'll Only Appreciate If You H...   \n",
       "4   This Woman Responded To The Body-Shaming Comme...   \n",
       "5   Build A Dream Date Night And We'll Tell You If...   \n",
       "6   How Old Were These Actors When They Filmed The...   \n",
       "7              Another Jewish Cemetery Was Vandalized   \n",
       "8   Brie Larson Refused To Applaud Casey Affleck W...   \n",
       "9   27 Ways To Trick People Into Thinking You're G...   \n",
       "10                   Can We Guess How Often You Poop?   \n",
       "11  Planned Parenthood Is Not Sure It’s Going To B...   \n",
       "12  Do You Actually Know The Iconic Lyrics To \"Fer...   \n",
       "13  27 Tumblr Jokes About The Oscars That Are Deli...   \n",
       "14  You Can Only Eat Dessert If You Get More Than ...   \n",
       "15  This Is What It's Like To Spend 3 Weeks On A S...   \n",
       "16  23 Pictures That Will Make You Feel Better For...   \n",
       "\n",
       "                                          description              editor  \\\n",
       "0   If you thought he looked good in yellow, wait ...        Marcus Jones   \n",
       "1    How many doses of self-loving are you receiving?           Ben Henry   \n",
       "2                  Roses are red, violets are blue...         Kevin Smith   \n",
       "3          [watching porn] I hope they stay together.   Gena-mour Barrett   \n",
       "4          \"As it turns out, happiness isn't a size.\"     Rachael Krishna   \n",
       "5                        Are you in lust or loved up?        Jasmin Nahar   \n",
       "6          Warning: This quiz will make you feel old.        paceyandjoey   \n",
       "7   Around 100 headstones were knocked over at the...     Claudia Koerner   \n",
       "8   This is the second time this awards season tha...      Ellie Woodward   \n",
       "9                     Bad hair day? I don't know her.  Maitland Quitmeyer   \n",
       "10                                 Are you...regular?     Angelo Spagnolo   \n",
       "11  A leaked draft of a bill shows Congress is get...        Ema O'Connor   \n",
       "12                                     Hit it Fergie…        Cassie Smyth   \n",
       "13  \"The 2017 Academy Awards deserves an Academy A...        Cassie Smyth   \n",
       "14    Is your dessert knowledge as good as you think?        Jasmin Nahar   \n",
       "15  Fatalities for those crossing the Mediterranea...            SimaDiab   \n",
       "16  These pictures will soothe your soul for betwe...       Hannah Jewell   \n",
       "\n",
       "                                             headline  \n",
       "0            Your Man Mahershala Ali Now Has An Oscar  \n",
       "1   This Colour Test Will Reveal How Often You Mas...  \n",
       "2   Build The Perfect Date And We'll Tell You What...  \n",
       "3   23 Dirty Jokes You'll Only Appreciate If You H...  \n",
       "4   This Woman Responded To The Body-Shaming Comme...  \n",
       "5   Build A Dream Date Night And We'll Tell You If...  \n",
       "6   How Old Were These Actors When They Filmed The...  \n",
       "7              Another Jewish Cemetery Was Vandalized  \n",
       "8   Brie Larson Refused To Applaud Casey Affleck W...  \n",
       "9   27 Ways To Trick People Into Thinking You're G...  \n",
       "10                   Can We Guess How Often You Poop?  \n",
       "11  Planned Parenthood Is Not Sure It’s Going To B...  \n",
       "12  Do You Actually Know The Iconic Lyrics To \"Fer...  \n",
       "13  27 Tumblr Jokes About The Oscars That Are Deli...  \n",
       "14  You Can Only Eat Dessert If You Get More Than ...  \n",
       "15  This Is What It's Like To Spend 3 Weeks On A S...  \n",
       "16  23 Pictures That Will Make You Feel Better For...  "
      ]
     },
     "execution_count": 27,
     "metadata": {},
     "output_type": "execute_result"
    }
   ],
   "source": [
    "import requests # This command allows us to fetch URLs\n",
    "from lxml import html # This module will allow us to parse the returned HTML/XML\n",
    "import pandas\n",
    "\n",
    "# Let's start by fetching the page, and parsing it\n",
    "url = \"http://www.buzzfeed.com/\"\n",
    "response = requests.get(url) # get the html of that url\n",
    "doc = html.fromstring(response.text) # parse it and create a document\n",
    "\n",
    "articleNodes = doc.xpath(\"//div[@data-module='card-article']\") \n",
    "\n",
    "def parseArticleNode(article):\n",
    "    headline = article.xpath(\".//a/h2\")[0].text_content()\n",
    "    headline_link = article.xpath(\".//a/h2\")[0].text_content()\n",
    "    description = article.xpath(\".//a/p\")[0].text_content()\n",
    "    editor = article.xpath(\".//a[contains(@class,'card__byline-link')]/span\")[0].text_content().strip()\n",
    "    \n",
    "    result = {\n",
    "        \"headline\": headline,\n",
    "        \"URL\" : headline_link,\n",
    "        \"description\" : description,\n",
    "        \"editor\" : editor\n",
    "    }\n",
    "    return result\n",
    "\n",
    "data = [parseArticleNode(article) for article in articleNodes]\n",
    "df = pandas.DataFrame(data)\n",
    "df"
   ]
  },
  {
   "cell_type": "code",
   "execution_count": null,
   "metadata": {
    "collapsed": true,
    "deletable": true,
    "editable": true
   },
   "outputs": [],
   "source": []
  }
 ],
 "metadata": {
  "kernelspec": {
   "display_name": "Python 3",
   "language": "python",
   "name": "python3"
  },
  "language_info": {
   "codemirror_mode": {
    "name": "ipython",
    "version": 3
   },
   "file_extension": ".py",
   "mimetype": "text/x-python",
   "name": "python",
   "nbconvert_exporter": "python",
   "pygments_lexer": "ipython3",
   "version": "3.5.2"
  }
 },
 "nbformat": 4,
 "nbformat_minor": 0
}
