{
 "cells": [
  {
   "cell_type": "markdown",
   "metadata": {},
   "source": [
    "## Interacting with Web APIs\n",
    "\n",
    "In our first class, we examined how to use `curl` to issue requests against web services. We will now see how to achieve the same in Python:"
   ]
  },
  {
   "cell_type": "code",
   "execution_count": null,
   "metadata": {
    "collapsed": false
   },
   "outputs": [],
   "source": [
    "# We first import the requests library\n",
    "import requests\n",
    "url = 'http://freegeoip.net/json/'\n",
    "resp = requests.get(url)"
   ]
  },
  {
   "cell_type": "code",
   "execution_count": null,
   "metadata": {
    "collapsed": false
   },
   "outputs": [],
   "source": [
    "# The resp object encapsulates the \"response\" of the server\n",
    "# Notice the status code that is displayed. \n",
    "# Code 200 means that things went fine\n",
    "# Code 404 means that the URL was not found\n",
    "# Codes 5xx mean that something went wrong\n",
    "resp"
   ]
  },
  {
   "cell_type": "code",
   "execution_count": null,
   "metadata": {
    "collapsed": false
   },
   "outputs": [],
   "source": [
    "if (resp.status_code == 200):\n",
    "    print(\"Everything was ok:\", resp.status_code)\n",
    "else:\n",
    "    print(\"There was a problem:\", resp.status_code)"
   ]
  },
  {
   "cell_type": "code",
   "execution_count": null,
   "metadata": {
    "collapsed": false
   },
   "outputs": [],
   "source": [
    "# Let's see the content of the response\n",
    "# As you can see, it contain the JSON response\n",
    "resp.text"
   ]
  },
  {
   "cell_type": "code",
   "execution_count": null,
   "metadata": {
    "collapsed": false
   },
   "outputs": [],
   "source": [
    "# We want to transform the JSON file into a Python dictionary object\n",
    "# For that we will use the json library\n",
    "import json\n",
    "\n",
    "# The loads (LOADS = LOAD from String) function reads a string that represents a JSON file\n",
    "data = json.loads(resp.text)"
   ]
  },
  {
   "cell_type": "code",
   "execution_count": null,
   "metadata": {
    "collapsed": false
   },
   "outputs": [],
   "source": [
    "# Now data is a Python dictionary\n",
    "# The u'....' characters mean that the string is represented in Unicode\n",
    "data"
   ]
  },
  {
   "cell_type": "code",
   "execution_count": null,
   "metadata": {
    "collapsed": false
   },
   "outputs": [],
   "source": [
    "# And we can access the fields of the JSON as we normally access Python dictionary entries\n",
    "print(\"Lon:\", data[\"longitude\"], \"Lat:\", data[\"latitude\"])"
   ]
  },
  {
   "cell_type": "markdown",
   "metadata": {},
   "source": [
    "### Exercise\n",
    "\n",
    "Read the location of your computer using the GeoIP API, and then use the OpenWeatherMap to query the API and fetch the temperature ((Documentation)[http://openweathermap.org/current#geo]). For this exercise, you will need to:\n",
    "* Create an account with OpenweatherMap and get an API key\n",
    "* Study the documentation of the API on OpenWeatherMap\n",
    "* Learn to read variables from a Web API (freegeoip) and use them as input in another (openweathermap)"
   ]
  },
  {
   "cell_type": "code",
   "execution_count": null,
   "metadata": {
    "collapsed": false
   },
   "outputs": [],
   "source": [
    "#your code here\n"
   ]
  },
  {
   "cell_type": "markdown",
   "metadata": {},
   "source": [
    "### Solution for Exercise"
   ]
  },
  {
   "cell_type": "code",
   "execution_count": null,
   "metadata": {
    "collapsed": false,
    "scrolled": true
   },
   "outputs": [],
   "source": [
    "import requests\n",
    "import json\n",
    "url = 'http://freegeoip.net/json/'\n",
    "resp = requests.get(url)\n",
    "data = json.loads(resp.text)\n",
    "lon = data[\"longitude\"]\n",
    "lat = data[\"latitude\"]\n",
    "\n",
    "# http://api.openweathermap.org/data/2.5/weather?q=New%20York,NY,USA\n",
    "\n",
    "url2 = 'http://api.openweathermap.org/data/2.5/weather?' + \\\n",
    "    '&lat=' + str(lat) + \\\n",
    "    '&lon=' + str(lon) + \\\n",
    "    '&appid=ffb7b9808e07c9135bdcc7d1e867253d' + \\\n",
    "    '&units=imperial' + \\\n",
    "    '&mode=json'\n",
    "print(url2)\n",
    "resp = requests.get(url2)\n",
    "data = json.loads(resp.text)\n",
    "data"
   ]
  },
  {
   "cell_type": "markdown",
   "metadata": {},
   "source": [
    "## Beyond the basics: Parameters and Headers"
   ]
  },
  {
   "cell_type": "markdown",
   "metadata": {},
   "source": [
    "The first call that we submitted was very simple. We just fetched a URL, which was represented as a string. However, calling web services by manually concatenating strings to create URLs is not a good practice. It is always better to use a dictionary to pass the parameters to the API call; furthermore, we will often need to pass a set of _headers_ to the API call (as in the case of Mashape).\n",
    "\n",
    "Let's play a little bit with the FacePlusPlus API, with which we toyed around in our first session:"
   ]
  },
  {
   "cell_type": "markdown",
   "metadata": {},
   "source": [
    "![Image from NY Times](http://graphics8.nytimes.com/newsgraphics/2016/02/01/iowa-hp/dd8cb1e066b52661f94bb2306fc54189f1c3325e/hp-kk-dem-1.jpg)"
   ]
  },
  {
   "cell_type": "code",
   "execution_count": null,
   "metadata": {
    "collapsed": false
   },
   "outputs": [],
   "source": [
    "import requests\n",
    "import json\n",
    "\n",
    "facepp_url = \"https://faceplusplus-faceplusplus.p.mashape.com/detection/detect\"\n",
    "img_url = \"http://i.telegraph.co.uk/multimedia/archive/02059/A3016B_2059275c.jpg\"\n",
    "\n",
    "headers = {\n",
    "  \"X-Mashape-Key\": \"zG3wec50exmshxNoF1NMHNRH37GYp1d7oW8jsnWwIMTeMmALxg\",\n",
    "  \"Accept\": \"application/json\"\n",
    "}\n",
    "parameters = {\n",
    "    'attributes': 'glass,pose,gender,age,race,smiling',\n",
    "    'url': img_url\n",
    "}\n",
    "\n",
    "resp = requests.get(facepp_url, params=parameters, headers=headers, verify=True)\n",
    "data = json.loads(resp.text)\n",
    "\n",
    "data"
   ]
  },
  {
   "cell_type": "code",
   "execution_count": null,
   "metadata": {
    "collapsed": false
   },
   "outputs": [],
   "source": [
    "# We can also pretty print the dictionary object\n",
    "# print(json.dumps(data, indent=2))"
   ]
  },
  {
   "cell_type": "code",
   "execution_count": null,
   "metadata": {
    "collapsed": false
   },
   "outputs": [],
   "source": [
    "# And here is a more generic way to pretty print Python data structures, which works for many objects\n",
    "# import pprint\n",
    "# pprint.pprint(data)"
   ]
  },
  {
   "cell_type": "code",
   "execution_count": null,
   "metadata": {
    "collapsed": false
   },
   "outputs": [],
   "source": [
    "len(data[\"face\"])"
   ]
  },
  {
   "cell_type": "markdown",
   "metadata": {},
   "source": [
    "### Interacting with Alchemy API; POST vs GET\n",
    "\n",
    "Sometimes, the parameters that we need to pass to the API are too long (e.g., analyzing a piece of long text for sentiment). In such cases, we need to use the \"POST\" options as opposed to the \"GET\" function (although admittedly, many APIs will try to be forgiving)."
   ]
  },
  {
   "cell_type": "code",
   "execution_count": null,
   "metadata": {
    "collapsed": false
   },
   "outputs": [],
   "source": [
    "import requests\n",
    "import json\n",
    "\n",
    "url = \"http://access.alchemyapi.com/calls/text/TextGetTextSentiment\"\n",
    "\n",
    "# You can register and get your own key\n",
    "api_key = '3d0b6858f7ef32fdf27ad402f4a9c270c9685d84'\n",
    "\n",
    "text = '''\n",
    "If things go as promised, Trump won’t be there Thursday when Fox hosts the final Republican debate before Monday’s Iowa presidential caucuses. He says he’s backing out because of a taunting statement from Fox, though his detractors accuse him of dodging a last showdown with his chief rival, Sen. Ted Cruz (Tex.). Instead, Trump has made plans to materialize elsewhere in Iowa, hosting a benefit for wounded veterans — counter-programming on a ­Trumpian scale of swagger.\n",
    "\n",
    "His threatened absence from the debate stage is a demonstration of Trump’s perception of his own self-worth, his verifiable status as a ratings-generating gargantuan whose screen persona can translate into millions of advertising dollars. In a sense, it’s an act of subversion by a candidate who has broken all the normal rules of modern campaigns. But it’s also a manifestation of Trump’s philosophy about getting what he wants when he wants it.\n",
    "'''\n",
    "\n",
    "headers = {\n",
    "  \"Accept\": \"application/json\"\n",
    "}\n",
    "\n",
    "parameters = {\n",
    "    'outputMode': 'json',\n",
    "    'apikey' : api_key,\n",
    "    'text': text,\n",
    "}\n",
    "\n",
    "resp = requests.post(url, params=parameters, headers=headers)\n",
    "data = json.loads(resp.text)\n",
    "\n",
    "data"
   ]
  },
  {
   "cell_type": "markdown",
   "metadata": {},
   "source": [
    "And here is a different API call that extracts entities from the text, and also the sentiment for each of these entities. Furthermore, each entity is matched into a \"normalized\" entry in the Knowledge Graph."
   ]
  },
  {
   "cell_type": "code",
   "execution_count": null,
   "metadata": {
    "collapsed": false
   },
   "outputs": [],
   "source": [
    "import requests\n",
    "import json\n",
    "\n",
    "url = \"http://gateway-a.watsonplatform.net/calls/url/URLGetRankedNamedEntities\"\n",
    "\n",
    "# You can register and get your own key\n",
    "api_key = '3d0b6858f7ef32fdf27ad402f4a9c270c9685d84'\n",
    "\n",
    "text_url = 'https://www.washingtonpost.com/politics/question-whats-clintons-message-answer-all-of-the-above/2016/02/06/5df28fcc-cc4a-11e5-88ff-e2d1b4289c2f_story.html'\n",
    "headers = {\n",
    "  \"Accept\": \"application/json\"\n",
    "}\n",
    "\n",
    "parameters = {\n",
    "    'outputMode': 'json',\n",
    "    'apikey' : api_key,\n",
    "     'sentiment' :1,\n",
    "    'knowledgeGraph': 1,\n",
    "    'url': text_url\n",
    "}\n",
    "\n",
    "resp = requests.post(url, params=parameters, headers=headers)\n",
    "data = json.loads(resp.text)\n",
    "data"
   ]
  },
  {
   "cell_type": "code",
   "execution_count": null,
   "metadata": {
    "collapsed": false
   },
   "outputs": [],
   "source": [
    "\n",
    "print(data[\"entities\"])"
   ]
  },
  {
   "cell_type": "code",
   "execution_count": null,
   "metadata": {
    "collapsed": false
   },
   "outputs": [],
   "source": [
    "for person in data[\"entities\"]:\n",
    "    print(person[\"text\"], person[\"relevance\"])"
   ]
  },
  {
   "cell_type": "code",
   "execution_count": null,
   "metadata": {
    "collapsed": false
   },
   "outputs": [],
   "source": [
    "import pandas as pd\n",
    "from pandas.io.json import json_normalize\n",
    "df = json_normalize(data[\"entities\"])\n",
    "df"
   ]
  },
  {
   "cell_type": "code",
   "execution_count": null,
   "metadata": {
    "collapsed": true
   },
   "outputs": [],
   "source": []
  },
  {
   "cell_type": "code",
   "execution_count": null,
   "metadata": {
    "collapsed": true
   },
   "outputs": [],
   "source": []
  }
 ],
 "metadata": {
  "kernelspec": {
   "display_name": "Python 3",
   "language": "python",
   "name": "python3"
  },
  "language_info": {
   "codemirror_mode": {
    "name": "ipython",
    "version": 3
   },
   "file_extension": ".py",
   "mimetype": "text/x-python",
   "name": "python",
   "nbconvert_exporter": "python",
   "pygments_lexer": "ipython3",
   "version": "3.5.1+"
  }
 },
 "nbformat": 4,
 "nbformat_minor": 0
}
