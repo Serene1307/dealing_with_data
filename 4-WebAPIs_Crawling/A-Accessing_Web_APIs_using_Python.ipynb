{
 "cells": [
  {
   "cell_type": "markdown",
   "metadata": {},
   "source": [
    "## Interacting with Web APIs\n",
    "\n",
    "In our first class, we examined how to use `curl` to issue requests against web services. We will now see how to achieve the same in Python:"
   ]
  },
  {
   "cell_type": "code",
   "execution_count": null,
   "metadata": {
    "collapsed": false
   },
   "outputs": [],
   "source": [
    "# We first import the requests library\n",
    "import requests\n",
    "url = 'http://freegeoip.net/json/'\n",
    "resp = requests.get(url)"
   ]
  },
  {
   "cell_type": "code",
   "execution_count": null,
   "metadata": {
    "collapsed": false
   },
   "outputs": [],
   "source": [
    "# The resp object encapsulates the \"response\" of the server\n",
    "# Notice the status code that is displayed. \n",
    "# Code 200 means that things went fine\n",
    "# Code 404 means that the URL was not found\n",
    "# Codes 5xx mean that something went wrong\n",
    "resp"
   ]
  },
  {
   "cell_type": "code",
   "execution_count": null,
   "metadata": {
    "collapsed": false
   },
   "outputs": [],
   "source": [
    "if (resp.status_code == 200):\n",
    "    print \"Everything was ok:\", resp.status_code\n",
    "else:\n",
    "    print \"There was a problem:\", resp.status_code"
   ]
  },
  {
   "cell_type": "code",
   "execution_count": null,
   "metadata": {
    "collapsed": false
   },
   "outputs": [],
   "source": [
    "# Let's see the content of the response\n",
    "# As you can see, it contain the JSON response\n",
    "resp.text"
   ]
  },
  {
   "cell_type": "code",
   "execution_count": null,
   "metadata": {
    "collapsed": false
   },
   "outputs": [],
   "source": [
    "# We want to transform the JSON file into a Python dictionary object\n",
    "# For that we will use the json library\n",
    "import json\n",
    "\n",
    "# The loads (LOADS = LOAD from String) function reads a string that represents a JSON file\n",
    "data = json.loads(resp.text)"
   ]
  },
  {
   "cell_type": "code",
   "execution_count": null,
   "metadata": {
    "collapsed": false
   },
   "outputs": [],
   "source": [
    "# Now data is a Python dictionary\n",
    "# The u'....' characters mean that the string is represented in Unicode\n",
    "data"
   ]
  },
  {
   "cell_type": "code",
   "execution_count": null,
   "metadata": {
    "collapsed": false
   },
   "outputs": [],
   "source": [
    "# And we can access the fields of the JSON as we normally access Python dictionary entries\n",
    "print \"Lon:\", data[\"longitude\"], \"Lat:\", data[\"latitude\"]"
   ]
  },
  {
   "cell_type": "markdown",
   "metadata": {},
   "source": [
    "### Exercise\n",
    "\n",
    "Read the location of your computer using the GeoIP API, and then use the OpenWeatherMap to query the API and fetch the temperature ((Documentation)[http://openweathermap.org/current#geo]). For this exercise, you will need to:\n",
    "* Create an account with OpenweatherMap and get an API key\n",
    "* Study the documentation of the API on OpenWeatherMap\n",
    "* Learn to read variables from a Web API (freegeoip) and use them as input in another (openweathermap)"
   ]
  },
  {
   "cell_type": "code",
   "execution_count": null,
   "metadata": {
    "collapsed": false
   },
   "outputs": [],
   "source": [
    "import requests\n",
    "import json\n",
    "url = 'http://freegeoip.net/json/'\n",
    "resp = requests.get(url)\n",
    "data = json.loads(resp.text)\n",
    "lon = data[\"longitude\"]\n",
    "lat = data[\"latitude\"]\n",
    "\n",
    "#your code here\n"
   ]
  },
  {
   "cell_type": "code",
   "execution_count": null,
   "metadata": {
    "collapsed": false
   },
   "outputs": [],
   "source": [
    "url2 = \"http://api.openweathermap.org/data/2.5/weather?\" + \\\n",
    "     \"&lat=\" + str(lat) + \\\n",
    "     \"&lon=\" + str(lon) + \\\n",
    "     \"&appid=44db6a862fba0b067b1930da0d769e98\" + \\\n",
    "     \"&units=imperial\"\n",
    "\n",
    "resp = requests.get(url2)\n",
    "data = json.loads(resp.text)\n",
    "data\n",
    "print data[\"main\"][\"temp\"]"
   ]
  },
  {
   "cell_type": "markdown",
   "metadata": {},
   "source": [
    "### Solution for Exercise"
   ]
  },
  {
   "cell_type": "code",
   "execution_count": null,
   "metadata": {
    "collapsed": false,
    "scrolled": true
   },
   "outputs": [],
   "source": [
    "import requests\n",
    "import json\n",
    "url = 'http://freegeoip.net/json/'\n",
    "resp = requests.get(url)\n",
    "data = json.loads(resp.text)\n",
    "lon = data[\"longitude\"]\n",
    "lat = data[\"latitude\"]\n",
    "\n",
    "# http://api.openweathermap.org/data/2.5/weather?q=New%20York,NY,USA\n",
    "\n",
    "url2 = 'http://api.openweathermap.org/data/2.5/weather?' + \\\n",
    "    '&lat=' + str(lat) + \\\n",
    "    '&lon=' + str(lon) + \\\n",
    "    '&appid=ffb7b9808e07c9135bdcc7d1e867253d' + \\\n",
    "    '&units=imperial' + \\\n",
    "    '&mode=json'\n",
    "print url2\n",
    "resp = requests.get(url2)\n",
    "data = json.loads(resp.text)\n",
    "data"
   ]
  },
  {
   "cell_type": "markdown",
   "metadata": {},
   "source": [
    "## Beyond the basics: Parameters and Headers"
   ]
  },
  {
   "cell_type": "markdown",
   "metadata": {},
   "source": [
    "The first call that we submitted was very simple. We just fetched a URL, which was represented as a string. However, calling web services by manually concatenating strings to create URLs is not a good practice. It is always better to use a dictionary to pass the parameters to the API call; furthermore, we will often need to pass a set of _headers_ to the API call (as in the case of Mashape).\n",
    "\n",
    "Let's play a little bit with the FacePlusPlus API, with which we toyed around in our first session:"
   ]
  },
  {
   "cell_type": "markdown",
   "metadata": {},
   "source": [
    "![Image from NY Times](http://graphics8.nytimes.com/newsgraphics/2016/02/01/iowa-hp/dd8cb1e066b52661f94bb2306fc54189f1c3325e/hp-kk-dem-1.jpg)"
   ]
  },
  {
   "cell_type": "code",
   "execution_count": null,
   "metadata": {
    "collapsed": true
   },
   "outputs": [],
   "source": [
    "curl --get \n",
    "'https://faceplusplus-faceplusplus.p.mashape.com/detection/detect'\n",
    "'?attribute=glass%2Cpose%2Cgender%2Cage%2Crace%2Csmiling\n",
    "'&url=http%3A%2F%2Fwww.faceplusplus.com%2Fwp-content%2Fthemes%2Ffaceplusplus%2Fassets%2Fimg%2Fdemo%2F1.jpg' \\\n",
    "  -H 'X-Mashape-Key: zG3wec50exmshxNoF1NMHNRH37GYp1d7oW8jsnWwIMTeMmALxg' \\\n",
    "  -H 'Accept: application/json'"
   ]
  },
  {
   "cell_type": "code",
   "execution_count": null,
   "metadata": {
    "collapsed": false
   },
   "outputs": [],
   "source": [
    "import requests\n",
    "import json\n",
    "\n",
    "facepp_url = \"https://faceplusplus-faceplusplus.p.mashape.com/detection/detect\"\n",
    "img_url = \"http://previews.123rf.com/images/andresr/andresr1206/andresr120600543/14095175-Happy-group-of-students-smiling-isolated-over-a-white-background--Stock-Photo.jpg\"\n",
    "\n",
    "headers = {\n",
    "  \"X-Mashape-Key\": \"zG3wec50exmshxNoF1NMHNRH37GYp1d7oW8jsnWwIMTeMmALxg\",\n",
    "  \"Accept\": \"application/json\"\n",
    "}\n",
    "parameters = {\n",
    "    'attributes': 'glass,pose,gender,age,race,smiling',\n",
    "    'url': img_url\n",
    "}\n",
    "\n",
    "resp = requests.get(facepp_url, params=parameters, headers=headers, verify=False)\n",
    "data = json.loads(resp.text)\n",
    "\n",
    "data"
   ]
  },
  {
   "cell_type": "code",
   "execution_count": null,
   "metadata": {
    "collapsed": false
   },
   "outputs": [],
   "source": [
    "# We can also pretty print the dictionary object\n",
    "# print(json.dumps(data, indent=2))"
   ]
  },
  {
   "cell_type": "code",
   "execution_count": null,
   "metadata": {
    "collapsed": false
   },
   "outputs": [],
   "source": [
    "# And here is a more generic way to pretty print Python data structures, which works for many objects\n",
    "# import pprint\n",
    "# pprint.pprint(data)"
   ]
  },
  {
   "cell_type": "code",
   "execution_count": null,
   "metadata": {
    "collapsed": false
   },
   "outputs": [],
   "source": [
    "len(data[\"face\"])"
   ]
  },
  {
   "cell_type": "markdown",
   "metadata": {},
   "source": [
    "### Interacting with Alchemy API; POST vs GET\n",
    "\n",
    "Sometimes, the parameters that we need to pass to the API are too long (e.g., analyzing a piece of long text for sentiment). In such cases, we need to use the \"POST\" options as opposed to the \"GET\" function (although admittedly, many APIs will try to be forgiving)."
   ]
  },
  {
   "cell_type": "code",
   "execution_count": null,
   "metadata": {
    "collapsed": false
   },
   "outputs": [],
   "source": [
    "import requests\n",
    "import json\n",
    "\n",
    "url = \"http://access.alchemyapi.com/calls/text/TextGetTextSentiment\"\n",
    "\n",
    "# You can register and get your own key\n",
    "api_key = '3d0b6858f7ef32fdf27ad402f4a9c270c9685d84'\n",
    "\n",
    "text = '''\n",
    "If things go as promised, Trump won’t be there Thursday when Fox hosts the final Republican debate before Monday’s Iowa presidential caucuses. He says he’s backing out because of a taunting statement from Fox, though his detractors accuse him of dodging a last showdown with his chief rival, Sen. Ted Cruz (Tex.). Instead, Trump has made plans to materialize elsewhere in Iowa, hosting a benefit for wounded veterans — counter-programming on a ­Trumpian scale of swagger.\n",
    "\n",
    "His threatened absence from the debate stage is a demonstration of Trump’s perception of his own self-worth, his verifiable status as a ratings-generating gargantuan whose screen persona can translate into millions of advertising dollars. In a sense, it’s an act of subversion by a candidate who has broken all the normal rules of modern campaigns. But it’s also a manifestation of Trump’s philosophy about getting what he wants when he wants it.\n",
    "'''\n",
    "\n",
    "headers = {\n",
    "  \"Accept\": \"application/json\"\n",
    "}\n",
    "\n",
    "parameters = {\n",
    "    'outputMode': 'json',\n",
    "    'apikey' : api_key,\n",
    "    'text': text,\n",
    "}\n",
    "\n",
    "resp = requests.post(url, params=parameters, headers=headers)\n",
    "data = json.loads(resp.text)\n",
    "\n",
    "data"
   ]
  },
  {
   "cell_type": "markdown",
   "metadata": {},
   "source": [
    "And here is a different API call that extracts entities from the text, and also the sentiment for each of these entities. Furthermore, each entity is matched into a \"normalized\" entry in the Knowledge Graph."
   ]
  },
  {
   "cell_type": "code",
   "execution_count": 7,
   "metadata": {
    "collapsed": false
   },
   "outputs": [
    {
     "name": "stdout",
     "output_type": "stream",
     "text": [
      "{u'status': u'OK', u'totalTransactions': u'3', u'language': u'english', u'url': u'https://www.washingtonpost.com/politics/question-whats-clintons-message-answer-all-of-the-above/2016/02/06/5df28fcc-cc4a-11e5-88ff-e2d1b4289c2f_story.html', u'entities': [{u'count': u'15', u'knowledgeGraph': {u'typeHierarchy': u'/people/politicians/democrats/hillary clinton'}, u'sentiment': {u'mixed': u'1', u'score': u'-0.284936', u'type': u'negative'}, u'text': u'Hillary Clinton', u'relevance': u'0.808725', u'type': u'Person', u'disambiguated': {u'website': u'http://www.state.gov/secretary/index.htm', u'yago': u'http://yago-knowledge.org/resource/Hillary_Rodham_Clinton', u'name': u'Hillary Rodham Clinton', u'freebase': u'http://rdf.freebase.com/ns/m.0d06m5', u'opencyc': u'http://sw.opencyc.org/concept/Mx4rvV7SqpwpEbGdrcN5Y29ycA', u'subType': [u'Politician', u'Appointee', u'AwardWinner', u'BoardMember', u'Celebrity', u'HallOfFameInductee', u'OperaCharacter', u'Senator', u'U.S.Congressperson', u'TVActor'], u'dbpedia': u'http://dbpedia.org/resource/Hillary_Rodham_Clinton'}}, {u'count': u'12', u'knowledgeGraph': {u'typeHierarchy': u'/senators/bernie sanders/sen. bernie sanders'}, u'sentiment': {u'mixed': u'1', u'score': u'-0.190996', u'type': u'negative'}, u'text': u'Sen. Bernie Sanders', u'relevance': u'0.595727', u'type': u'Person', u'disambiguated': {u'yago': u'http://yago-knowledge.org/resource/Bernie_Sanders', u'subType': [u'Politician', u'Senator', u'U.S.Congressperson', u'FilmActor'], u'dbpedia': u'http://dbpedia.org/resource/Bernie_Sanders', u'name': u'Bernie Sanders', u'freebase': u'http://rdf.freebase.com/ns/m.01_gbv'}}, {u'count': u'3', u'knowledgeGraph': {u'typeHierarchy': u'/people/clinton'}, u'sentiment': {u'score': u'-0.524108', u'type': u'negative'}, u'text': u'Clinton', u'relevance': u'0.317174', u'type': u'Person'}, {u'count': u'1', u'knowledgeGraph': {u'typeHierarchy': u'/people/politicians/presidents/bill clinton'}, u'sentiment': {u'type': u'neutral'}, u'text': u'Bill Clinton', u'relevance': u'0.291593', u'type': u'Person', u'disambiguated': {u'website': u'http://www.clintonlibrary.gov/', u'yago': u'http://yago-knowledge.org/resource/Bill_Clinton', u'name': u'Bill Clinton', u'freebase': u'http://rdf.freebase.com/ns/m.0157m', u'opencyc': u'http://sw.opencyc.org/concept/Mx4rwQBp5JwpEbGdrcN5Y29ycA', u'subType': [u'MusicalArtist', u'Politician', u'Appointer', u'AwardWinner', u'Celebrity', u'MusicalGroupMember', u'OfficeHolder', u'PoliticalAppointer', u'TVPersonality', u'FilmActor', u'FilmWriter', u'USPresident'], u'dbpedia': u'http://dbpedia.org/resource/Bill_Clinton', u'musicBrainz': u'http://zitgist.com/music/artist/a11bd200-7f0b-43a6-b7fe-4ea04929a42b'}}, {u'count': u'3', u'knowledgeGraph': {u'typeHierarchy': u'/people/politicians/democrats/president obama'}, u'sentiment': {u'score': u'-0.321666', u'type': u'negative'}, u'text': u'President Obama', u'relevance': u'0.238528', u'type': u'Person'}, {u'count': u'3', u'knowledgeGraph': {u'typeHierarchy': u'/activities/events/parties/congress'}, u'sentiment': {u'score': u'-0.306341', u'type': u'negative'}, u'text': u'Congress', u'relevance': u'0.23596', u'type': u'Organization', u'disambiguated': {u'website': u'http://www.house.gov/', u'yago': u'http://yago-knowledge.org/resource/United_States_Congress', u'name': u'United States Congress', u'freebase': u'http://rdf.freebase.com/ns/m.07t31', u'opencyc': u'http://sw.opencyc.org/concept/Mx4rwP1W2JwpEbGdrcN5Y29ycA', u'subType': [u'Dedicator', u'GovernmentalBody', u'Legislature', u'NaturalOrCulturalPreservationAgency'], u'dbpedia': u'http://dbpedia.org/resource/United_States_Congress'}}, {u'count': u'3', u'knowledgeGraph': {u'typeHierarchy': u'/towns/n.h.'}, u'sentiment': {u'type': u'neutral'}, u'text': u'N.H.', u'relevance': u'0.200827', u'type': u'StateOrCounty'}, {u'count': u'2', u'knowledgeGraph': {u'typeHierarchy': u'/places/towns/derry'}, u'sentiment': {u'score': u'0.324489', u'type': u'positive'}, u'text': u'Derry', u'relevance': u'0.186155', u'type': u'City', u'disambiguated': {u'website': u'http://www.derrycity.gov.uk/', u'yago': u'http://yago-knowledge.org/resource/Derry', u'geonames': u'http://sws.geonames.org/2643736/', u'freebase': u'http://rdf.freebase.com/ns/m.02hgz', u'subType': [u'AdministrativeDivision'], u'dbpedia': u'http://dbpedia.org/resource/Derry', u'name': u'Derry'}}, {u'count': u'1', u'knowledgeGraph': {u'typeHierarchy': u'/people/chuck todd'}, u'sentiment': {u'score': u'-0.224438', u'type': u'negative'}, u'text': u'Chuck Todd', u'relevance': u'0.183055', u'type': u'Person', u'disambiguated': {u'yago': u'http://yago-knowledge.org/resource/Chuck_Todd', u'subType': [u'Journalist', u'TVPersonality'], u'dbpedia': u'http://dbpedia.org/resource/Chuck_Todd', u'name': u'Chuck Todd', u'freebase': u'http://rdf.freebase.com/ns/m.0g12y5'}}, {u'count': u'2', u'knowledgeGraph': {u'typeHierarchy': u'/places/states/iowa'}, u'sentiment': {u'type': u'neutral'}, u'text': u'Iowa', u'relevance': u'0.175775', u'type': u'StateOrCounty', u'disambiguated': {u'website': u'http://www.iowa.gov', u'yago': u'http://yago-knowledge.org/resource/Iowa', u'census': u'http://www.rdfabout.com/rdf/usgov/geo/us/ia', u'name': u'Iowa', u'freebase': u'http://rdf.freebase.com/ns/m.03s0w', u'opencyc': u'http://sw.opencyc.org/concept/Mx4rvVi3ipwpEbGdrcN5Y29ycA', u'subType': [u'Location', u'PoliticalDistrict', u'AdministrativeDivision', u'GovernmentalJurisdiction', u'USState'], u'dbpedia': u'http://dbpedia.org/resource/Iowa'}}, {u'count': u'1', u'sentiment': {u'type': u'neutral'}, u'disambiguated': {u'website': u'http://www.ci.concord.ca.us/', u'yago': u'http://yago-knowledge.org/resource/Concord,_California', u'name': u'Concord, California', u'freebase': u'http://rdf.freebase.com/ns/m.0qymv', u'subType': [u'GovernmentalJurisdiction'], u'dbpedia': u'http://dbpedia.org/resource/Concord,_California', u'geo': u'37.97805555555556 -122.03111111111112', u'geonames': u'http://sws.geonames.org/5339111/'}, u'text': u'CONCORD', u'relevance': u'0.174566', u'type': u'City'}, {u'count': u'2', u'knowledgeGraph': {u'typeHierarchy': u'/locations/cities/mich.'}, u'sentiment': {u'score': u'-0.435357', u'type': u'negative'}, u'text': u'Mich.', u'relevance': u'0.173232', u'type': u'StateOrCounty', u'disambiguated': {u'website': u'http://www.michigan.gov', u'yago': u'http://yago-knowledge.org/resource/Michigan', u'name': u'Michigan', u'freebase': u'http://rdf.freebase.com/ns/m.04rrx', u'subType': [u'Location', u'PoliticalDistrict', u'AdministrativeDivision', u'GovernmentalJurisdiction', u'USState'], u'dbpedia': u'http://dbpedia.org/resource/Michigan'}}, {u'count': u'1', u'knowledgeGraph': {u'typeHierarchy': u'/events/presidential debate'}, u'sentiment': {u'type': u'neutral'}, u'text': u'presidential debate', u'relevance': u'0.170401', u'type': u'FieldTerminology'}, {u'count': u'2', u'knowledgeGraph': {u'typeHierarchy': u'/places/cities/manchester'}, u'sentiment': {u'score': u'-0.319256', u'type': u'negative'}, u'text': u'Manchester', u'relevance': u'0.170362', u'type': u'City'}, {u'count': u'2', u'knowledgeGraph': {u'typeHierarchy': u'/problems/defects/nicks/nick pangaro'}, u'sentiment': {u'type': u'neutral'}, u'text': u'Nick Pangaro', u'relevance': u'0.169592', u'type': u'Person'}, {u'count': u'1', u'knowledgeGraph': {u'typeHierarchy': u'/organizations/media/publications/washington post'}, u'sentiment': {u'score': u'0.277664', u'type': u'positive'}, u'text': u'Washington Post', u'relevance': u'0.168052', u'type': u'PrintMedia', u'disambiguated': {u'website': u'http://www.washingtonpost.com', u'yago': u'http://yago-knowledge.org/resource/The_Washington_Post', u'name': u'The Washington Post', u'freebase': u'http://rdf.freebase.com/ns/m.0px38', u'subType': [u'Newspaper'], u'dbpedia': u'http://dbpedia.org/resource/The_Washington_Post'}}, {u'count': u'1', u'knowledgeGraph': {u'typeHierarchy': u'/issues/clean energy'}, u'sentiment': {u'score': u'0.386148', u'type': u'positive'}, u'text': u'clean energy', u'relevance': u'0.165608', u'type': u'FieldTerminology'}, {u'count': u'2', u'knowledgeGraph': {u'typeHierarchy': u'/persons/guests/representatives/employees/officers/president'}, u'sentiment': {u'score': u'-0.321666', u'type': u'negative'}, u'text': u'President', u'relevance': u'0.165495', u'type': u'JobTitle'}, {u'count': u'1', u'sentiment': {u'type': u'neutral'}, u'disambiguated': {u'website': u'http://newdelhi.usembassy.gov/ambroemertjbio.html', u'yago': u'http://yago-knowledge.org/resource/Timothy_J._Roemer', u'name': u'Timothy J. Roemer', u'freebase': u'http://rdf.freebase.com/ns/m.03hbdm', u'subType': [u'Politician', u'Appointee', u'BoardMember', u'U.S.Congressperson'], u'dbpedia': u'http://dbpedia.org/resource/Timothy_J._Roemer'}, u'text': u'Rep. Tim Roemer', u'relevance': u'0.165038', u'type': u'Person'}, {u'count': u'1', u'knowledgeGraph': {u'typeHierarchy': u'/children/joel/joel benenson'}, u'sentiment': {u'type': u'neutral'}, u'text': u'Joel Benenson', u'relevance': u'0.164558', u'type': u'Person', u'disambiguated': {u'freebase': u'http://rdf.freebase.com/ns/m.07k78wz', u'dbpedia': u'http://dbpedia.org/resource/Joel_Benenson', u'name': u'Joel Benenson'}}, {u'count': u'1', u'knowledgeGraph': {u'typeHierarchy': u'/places/states/vermont'}, u'sentiment': {u'type': u'neutral'}, u'text': u'Vermont', u'relevance': u'0.160294', u'type': u'StateOrCounty', u'disambiguated': {u'website': u'http://www.vermont.gov', u'yago': u'http://yago-knowledge.org/resource/Vermont', u'census': u'http://www.rdfabout.com/rdf/usgov/geo/us/vt', u'geonames': u'http://sws.geonames.org/5242283/', u'freebase': u'http://rdf.freebase.com/ns/m.01mhy_', u'opencyc': u'http://sw.opencyc.org/concept/Mx4rvViiWJwpEbGdrcN5Y29ycA', u'subType': [u'Location', u'PoliticalDistrict', u'AdministrativeDivision', u'GovernmentalJurisdiction', u'USState', u'PeriodicalPublisher'], u'dbpedia': u'http://dbpedia.org/resource/Vermont', u'name': u'Vermont'}}, {u'count': u'1', u'knowledgeGraph': {u'typeHierarchy': u'/people/brian fallon'}, u'sentiment': {u'type': u'neutral'}, u'text': u'Brian Fallon', u'relevance': u'0.157914', u'type': u'Person', u'disambiguated': {u'freebase': u'http://rdf.freebase.com/ns/m.0fqmphx', u'dbpedia': u'http://dbpedia.org/resource/Brian_Fallon', u'name': u'Brian Fallon'}}, {u'count': u'1', u'knowledgeGraph': {u'typeHierarchy': u'/organizations/media outlets/msnbc'}, u'sentiment': {u'score': u'-0.300085', u'type': u'negative'}, u'text': u'MSNBC', u'relevance': u'0.154535', u'type': u'Company', u'disambiguated': {u'website': u'http://www.msnbc.msn.com/id/3096434/', u'yago': u'http://yago-knowledge.org/resource/MSNBC', u'name': u'MSNBC', u'freebase': u'http://rdf.freebase.com/ns/m.0152x_', u'subType': [u'Broadcast', u'TVNetwork'], u'crunchbase': u'http://www.crunchbase.com/company/msnbc', u'dbpedia': u'http://dbpedia.org/resource/MSNBC'}}, {u'count': u'1', u'knowledgeGraph': {u'typeHierarchy': u'/issues/foreign policy'}, u'sentiment': {u'score': u'-0.538993', u'type': u'negative'}, u'text': u'foreign policy', u'relevance': u'0.153038', u'type': u'FieldTerminology'}, {u'count': u'1', u'knowledgeGraph': {u'typeHierarchy': u'/people/artists/bands/isis'}, u'sentiment': {u'type': u'neutral'}, u'text': u'ISIS', u'relevance': u'0.145159', u'type': u'Organization', u'disambiguated': {u'freebase': u'http://rdf.freebase.com/ns/m.098wr', u'opencyc': u'http://sw.opencyc.org/concept/Mx4rv5icNZwpEbGdrcN5Y29ycA', u'dbpedia': u'http://dbpedia.org/resource/Society', u'name': u'Society'}}, {u'count': u'1', u'knowledgeGraph': {u'typeHierarchy': u'/people/abby phillip'}, u'sentiment': {u'score': u'0.438611', u'type': u'positive'}, u'text': u'Abby Phillip', u'relevance': u'0.144621', u'type': u'Person'}, {u'count': u'1', u'knowledgeGraph': {u'typeHierarchy': u'/places/states/new hampshire/new hampshire primary'}, u'sentiment': {u'score': u'0.361727', u'type': u'positive'}, u'text': u'New Hampshire primary', u'relevance': u'0.140428', u'type': u'Organization'}, {u'count': u'1', u'knowledgeGraph': {u'typeHierarchy': u'/places/states/new hampshire'}, u'sentiment': {u'type': u'neutral'}, u'text': u'New Hampshire', u'relevance': u'0.139507', u'type': u'StateOrCounty', u'disambiguated': {u'website': u'http://www.nh.gov', u'yago': u'http://yago-knowledge.org/resource/New_Hampshire', u'census': u'http://www.rdfabout.com/rdf/usgov/geo/us/nh', u'name': u'New Hampshire', u'freebase': u'http://rdf.freebase.com/ns/m.059f4', u'opencyc': u'http://sw.opencyc.org/concept/Mx4rvVih1JwpEbGdrcN5Y29ycA', u'subType': [u'Location', u'PoliticalDistrict', u'AdministrativeDivision', u'GovernmentalJurisdiction', u'USState'], u'dbpedia': u'http://dbpedia.org/resource/New_Hampshire'}}, {u'count': u'1', u'knowledgeGraph': {u'typeHierarchy': u'/organizations/individuals/professionals/consultant'}, u'sentiment': {u'score': u'0.283446', u'type': u'positive'}, u'text': u'consultant', u'relevance': u'0.136629', u'type': u'JobTitle'}, {u'relevance': u'0.132448', u'count': u'1', u'type': u'City', u'sentiment': {u'score': u'-0.304993', u'type': u'negative'}, u'text': u'Flint'}, {u'count': u'1', u'knowledgeGraph': {u'typeHierarchy': u'/organizations/boys and girls club'}, u'sentiment': {u'score': u'0.210367', u'type': u'positive'}, u'text': u'Boys and Girls Club', u'relevance': u'0.13159', u'type': u'Organization'}, {u'count': u'1', u'knowledgeGraph': {u'typeHierarchy': u'/places/cities/durham'}, u'sentiment': {u'type': u'neutral'}, u'text': u'Durham', u'relevance': u'0.130463', u'type': u'City'}, {u'count': u'1', u'knowledgeGraph': {u'typeHierarchy': u'/locations/countries/russia'}, u'sentiment': {u'type': u'neutral'}, u'text': u'Russia', u'relevance': u'0.130272', u'type': u'Country'}, {u'count': u'1', u'knowledgeGraph': {u'typeHierarchy': u'/issues/resources/services/programs/medicare'}, u'sentiment': {u'score': u'-0.535379', u'type': u'negative'}, u'text': u'Medicare', u'relevance': u'0.129666', u'type': u'Organization'}, {u'count': u'1', u'knowledgeGraph': {u'typeHierarchy': u'/stars/singers/mika/mika brzyznski'}, u'sentiment': {u'score': u'-0.300085', u'type': u'negative'}, u'text': u'Mika Brzyznski', u'relevance': u'0.127369', u'type': u'Person'}, {u'count': u'1', u'knowledgeGraph': {u'typeHierarchy': u'/industries/financial services/insurance/insurance system'}, u'sentiment': {u'type': u'neutral'}, u'text': u'insurance system', u'relevance': u'0.126433', u'type': u'FieldTerminology'}, {u'count': u'1', u'knowledgeGraph': {u'typeHierarchy': u'/places/countries/iran'}, u'sentiment': {u'score': u'-0.369749', u'type': u'negative'}, u'text': u'Iran', u'relevance': u'0.118187', u'type': u'Country'}, {u'relevance': u'0.118187', u'count': u'1', u'type': u'EmailAddress', u'sentiment': {u'type': u'neutral'}, u'text': u'tumulty@washpost.com'}, {u'relevance': u'0.118187', u'count': u'1', u'type': u'EmailAddress', u'sentiment': {u'type': u'neutral'}, u'text': u'gearan@washpost.com'}], u'usage': u'By accessing AlchemyAPI or using information generated by AlchemyAPI, you are agreeing to be bound by the AlchemyAPI Terms of Use: http://www.alchemyapi.com/company/terms.html'}\n"
     ]
    }
   ],
   "source": [
    "import requests\n",
    "import json\n",
    "\n",
    "url = \"http://gateway-a.watsonplatform.net/calls/url/URLGetRankedNamedEntities\"\n",
    "\n",
    "\n",
    "# You can register and get your own key\n",
    "api_key = '3d0b6858f7ef32fdf27ad402f4a9c270c9685d84'\n",
    "\n",
    "\n",
    "text_url = 'https://www.washingtonpost.com/politics/question-whats-clintons-message-answer-all-of-the-above/2016/02/06/5df28fcc-cc4a-11e5-88ff-e2d1b4289c2f_story.html'\n",
    "headers = {\n",
    "  \"Accept\": \"application/json\"\n",
    "}\n",
    "\n",
    "parameters = {\n",
    "    'outputMode': 'json',\n",
    "    'apikey' : api_key,\n",
    "     'sentiment' :1,\n",
    "    'knowledgeGraph': 1,\n",
    "    'url': text_url\n",
    "}\n",
    "\n",
    "resp = requests.post(url, params=parameters, headers=headers)\n",
    "data = json.loads(resp.text)\n"
   ]
  },
  {
   "cell_type": "code",
   "execution_count": 9,
   "metadata": {
    "collapsed": false
   },
   "outputs": [
    {
     "name": "stdout",
     "output_type": "stream",
     "text": [
      "[{u'count': u'15', u'knowledgeGraph': {u'typeHierarchy': u'/people/politicians/democrats/hillary clinton'}, u'sentiment': {u'mixed': u'1', u'score': u'-0.284936', u'type': u'negative'}, u'text': u'Hillary Clinton', u'relevance': u'0.808725', u'type': u'Person', u'disambiguated': {u'website': u'http://www.state.gov/secretary/index.htm', u'yago': u'http://yago-knowledge.org/resource/Hillary_Rodham_Clinton', u'name': u'Hillary Rodham Clinton', u'freebase': u'http://rdf.freebase.com/ns/m.0d06m5', u'opencyc': u'http://sw.opencyc.org/concept/Mx4rvV7SqpwpEbGdrcN5Y29ycA', u'subType': [u'Politician', u'Appointee', u'AwardWinner', u'BoardMember', u'Celebrity', u'HallOfFameInductee', u'OperaCharacter', u'Senator', u'U.S.Congressperson', u'TVActor'], u'dbpedia': u'http://dbpedia.org/resource/Hillary_Rodham_Clinton'}}, {u'count': u'12', u'knowledgeGraph': {u'typeHierarchy': u'/senators/bernie sanders/sen. bernie sanders'}, u'sentiment': {u'mixed': u'1', u'score': u'-0.190996', u'type': u'negative'}, u'text': u'Sen. Bernie Sanders', u'relevance': u'0.595727', u'type': u'Person', u'disambiguated': {u'yago': u'http://yago-knowledge.org/resource/Bernie_Sanders', u'subType': [u'Politician', u'Senator', u'U.S.Congressperson', u'FilmActor'], u'dbpedia': u'http://dbpedia.org/resource/Bernie_Sanders', u'name': u'Bernie Sanders', u'freebase': u'http://rdf.freebase.com/ns/m.01_gbv'}}, {u'count': u'3', u'knowledgeGraph': {u'typeHierarchy': u'/people/clinton'}, u'sentiment': {u'score': u'-0.524108', u'type': u'negative'}, u'text': u'Clinton', u'relevance': u'0.317174', u'type': u'Person'}, {u'count': u'1', u'knowledgeGraph': {u'typeHierarchy': u'/people/politicians/presidents/bill clinton'}, u'sentiment': {u'type': u'neutral'}, u'text': u'Bill Clinton', u'relevance': u'0.291593', u'type': u'Person', u'disambiguated': {u'website': u'http://www.clintonlibrary.gov/', u'yago': u'http://yago-knowledge.org/resource/Bill_Clinton', u'name': u'Bill Clinton', u'freebase': u'http://rdf.freebase.com/ns/m.0157m', u'opencyc': u'http://sw.opencyc.org/concept/Mx4rwQBp5JwpEbGdrcN5Y29ycA', u'subType': [u'MusicalArtist', u'Politician', u'Appointer', u'AwardWinner', u'Celebrity', u'MusicalGroupMember', u'OfficeHolder', u'PoliticalAppointer', u'TVPersonality', u'FilmActor', u'FilmWriter', u'USPresident'], u'dbpedia': u'http://dbpedia.org/resource/Bill_Clinton', u'musicBrainz': u'http://zitgist.com/music/artist/a11bd200-7f0b-43a6-b7fe-4ea04929a42b'}}, {u'count': u'3', u'knowledgeGraph': {u'typeHierarchy': u'/people/politicians/democrats/president obama'}, u'sentiment': {u'score': u'-0.321666', u'type': u'negative'}, u'text': u'President Obama', u'relevance': u'0.238528', u'type': u'Person'}, {u'count': u'3', u'knowledgeGraph': {u'typeHierarchy': u'/activities/events/parties/congress'}, u'sentiment': {u'score': u'-0.306341', u'type': u'negative'}, u'text': u'Congress', u'relevance': u'0.23596', u'type': u'Organization', u'disambiguated': {u'website': u'http://www.house.gov/', u'yago': u'http://yago-knowledge.org/resource/United_States_Congress', u'name': u'United States Congress', u'freebase': u'http://rdf.freebase.com/ns/m.07t31', u'opencyc': u'http://sw.opencyc.org/concept/Mx4rwP1W2JwpEbGdrcN5Y29ycA', u'subType': [u'Dedicator', u'GovernmentalBody', u'Legislature', u'NaturalOrCulturalPreservationAgency'], u'dbpedia': u'http://dbpedia.org/resource/United_States_Congress'}}, {u'count': u'3', u'knowledgeGraph': {u'typeHierarchy': u'/towns/n.h.'}, u'sentiment': {u'type': u'neutral'}, u'text': u'N.H.', u'relevance': u'0.200827', u'type': u'StateOrCounty'}, {u'count': u'2', u'knowledgeGraph': {u'typeHierarchy': u'/places/towns/derry'}, u'sentiment': {u'score': u'0.324489', u'type': u'positive'}, u'text': u'Derry', u'relevance': u'0.186155', u'type': u'City', u'disambiguated': {u'website': u'http://www.derrycity.gov.uk/', u'yago': u'http://yago-knowledge.org/resource/Derry', u'geonames': u'http://sws.geonames.org/2643736/', u'freebase': u'http://rdf.freebase.com/ns/m.02hgz', u'subType': [u'AdministrativeDivision'], u'dbpedia': u'http://dbpedia.org/resource/Derry', u'name': u'Derry'}}, {u'count': u'1', u'knowledgeGraph': {u'typeHierarchy': u'/people/chuck todd'}, u'sentiment': {u'score': u'-0.224438', u'type': u'negative'}, u'text': u'Chuck Todd', u'relevance': u'0.183055', u'type': u'Person', u'disambiguated': {u'yago': u'http://yago-knowledge.org/resource/Chuck_Todd', u'subType': [u'Journalist', u'TVPersonality'], u'dbpedia': u'http://dbpedia.org/resource/Chuck_Todd', u'name': u'Chuck Todd', u'freebase': u'http://rdf.freebase.com/ns/m.0g12y5'}}, {u'count': u'2', u'knowledgeGraph': {u'typeHierarchy': u'/places/states/iowa'}, u'sentiment': {u'type': u'neutral'}, u'text': u'Iowa', u'relevance': u'0.175775', u'type': u'StateOrCounty', u'disambiguated': {u'website': u'http://www.iowa.gov', u'yago': u'http://yago-knowledge.org/resource/Iowa', u'census': u'http://www.rdfabout.com/rdf/usgov/geo/us/ia', u'name': u'Iowa', u'freebase': u'http://rdf.freebase.com/ns/m.03s0w', u'opencyc': u'http://sw.opencyc.org/concept/Mx4rvVi3ipwpEbGdrcN5Y29ycA', u'subType': [u'Location', u'PoliticalDistrict', u'AdministrativeDivision', u'GovernmentalJurisdiction', u'USState'], u'dbpedia': u'http://dbpedia.org/resource/Iowa'}}, {u'count': u'1', u'sentiment': {u'type': u'neutral'}, u'disambiguated': {u'website': u'http://www.ci.concord.ca.us/', u'yago': u'http://yago-knowledge.org/resource/Concord,_California', u'name': u'Concord, California', u'freebase': u'http://rdf.freebase.com/ns/m.0qymv', u'subType': [u'GovernmentalJurisdiction'], u'dbpedia': u'http://dbpedia.org/resource/Concord,_California', u'geo': u'37.97805555555556 -122.03111111111112', u'geonames': u'http://sws.geonames.org/5339111/'}, u'text': u'CONCORD', u'relevance': u'0.174566', u'type': u'City'}, {u'count': u'2', u'knowledgeGraph': {u'typeHierarchy': u'/locations/cities/mich.'}, u'sentiment': {u'score': u'-0.435357', u'type': u'negative'}, u'text': u'Mich.', u'relevance': u'0.173232', u'type': u'StateOrCounty', u'disambiguated': {u'website': u'http://www.michigan.gov', u'yago': u'http://yago-knowledge.org/resource/Michigan', u'name': u'Michigan', u'freebase': u'http://rdf.freebase.com/ns/m.04rrx', u'subType': [u'Location', u'PoliticalDistrict', u'AdministrativeDivision', u'GovernmentalJurisdiction', u'USState'], u'dbpedia': u'http://dbpedia.org/resource/Michigan'}}, {u'count': u'1', u'knowledgeGraph': {u'typeHierarchy': u'/events/presidential debate'}, u'sentiment': {u'type': u'neutral'}, u'text': u'presidential debate', u'relevance': u'0.170401', u'type': u'FieldTerminology'}, {u'count': u'2', u'knowledgeGraph': {u'typeHierarchy': u'/places/cities/manchester'}, u'sentiment': {u'score': u'-0.319256', u'type': u'negative'}, u'text': u'Manchester', u'relevance': u'0.170362', u'type': u'City'}, {u'count': u'2', u'knowledgeGraph': {u'typeHierarchy': u'/problems/defects/nicks/nick pangaro'}, u'sentiment': {u'type': u'neutral'}, u'text': u'Nick Pangaro', u'relevance': u'0.169592', u'type': u'Person'}, {u'count': u'1', u'knowledgeGraph': {u'typeHierarchy': u'/organizations/media/publications/washington post'}, u'sentiment': {u'score': u'0.277664', u'type': u'positive'}, u'text': u'Washington Post', u'relevance': u'0.168052', u'type': u'PrintMedia', u'disambiguated': {u'website': u'http://www.washingtonpost.com', u'yago': u'http://yago-knowledge.org/resource/The_Washington_Post', u'name': u'The Washington Post', u'freebase': u'http://rdf.freebase.com/ns/m.0px38', u'subType': [u'Newspaper'], u'dbpedia': u'http://dbpedia.org/resource/The_Washington_Post'}}, {u'count': u'1', u'knowledgeGraph': {u'typeHierarchy': u'/issues/clean energy'}, u'sentiment': {u'score': u'0.386148', u'type': u'positive'}, u'text': u'clean energy', u'relevance': u'0.165608', u'type': u'FieldTerminology'}, {u'count': u'2', u'knowledgeGraph': {u'typeHierarchy': u'/persons/guests/representatives/employees/officers/president'}, u'sentiment': {u'score': u'-0.321666', u'type': u'negative'}, u'text': u'President', u'relevance': u'0.165495', u'type': u'JobTitle'}, {u'count': u'1', u'sentiment': {u'type': u'neutral'}, u'disambiguated': {u'website': u'http://newdelhi.usembassy.gov/ambroemertjbio.html', u'yago': u'http://yago-knowledge.org/resource/Timothy_J._Roemer', u'name': u'Timothy J. Roemer', u'freebase': u'http://rdf.freebase.com/ns/m.03hbdm', u'subType': [u'Politician', u'Appointee', u'BoardMember', u'U.S.Congressperson'], u'dbpedia': u'http://dbpedia.org/resource/Timothy_J._Roemer'}, u'text': u'Rep. Tim Roemer', u'relevance': u'0.165038', u'type': u'Person'}, {u'count': u'1', u'knowledgeGraph': {u'typeHierarchy': u'/children/joel/joel benenson'}, u'sentiment': {u'type': u'neutral'}, u'text': u'Joel Benenson', u'relevance': u'0.164558', u'type': u'Person', u'disambiguated': {u'freebase': u'http://rdf.freebase.com/ns/m.07k78wz', u'dbpedia': u'http://dbpedia.org/resource/Joel_Benenson', u'name': u'Joel Benenson'}}, {u'count': u'1', u'knowledgeGraph': {u'typeHierarchy': u'/places/states/vermont'}, u'sentiment': {u'type': u'neutral'}, u'text': u'Vermont', u'relevance': u'0.160294', u'type': u'StateOrCounty', u'disambiguated': {u'website': u'http://www.vermont.gov', u'yago': u'http://yago-knowledge.org/resource/Vermont', u'census': u'http://www.rdfabout.com/rdf/usgov/geo/us/vt', u'geonames': u'http://sws.geonames.org/5242283/', u'freebase': u'http://rdf.freebase.com/ns/m.01mhy_', u'opencyc': u'http://sw.opencyc.org/concept/Mx4rvViiWJwpEbGdrcN5Y29ycA', u'subType': [u'Location', u'PoliticalDistrict', u'AdministrativeDivision', u'GovernmentalJurisdiction', u'USState', u'PeriodicalPublisher'], u'dbpedia': u'http://dbpedia.org/resource/Vermont', u'name': u'Vermont'}}, {u'count': u'1', u'knowledgeGraph': {u'typeHierarchy': u'/people/brian fallon'}, u'sentiment': {u'type': u'neutral'}, u'text': u'Brian Fallon', u'relevance': u'0.157914', u'type': u'Person', u'disambiguated': {u'freebase': u'http://rdf.freebase.com/ns/m.0fqmphx', u'dbpedia': u'http://dbpedia.org/resource/Brian_Fallon', u'name': u'Brian Fallon'}}, {u'count': u'1', u'knowledgeGraph': {u'typeHierarchy': u'/organizations/media outlets/msnbc'}, u'sentiment': {u'score': u'-0.300085', u'type': u'negative'}, u'text': u'MSNBC', u'relevance': u'0.154535', u'type': u'Company', u'disambiguated': {u'website': u'http://www.msnbc.msn.com/id/3096434/', u'yago': u'http://yago-knowledge.org/resource/MSNBC', u'name': u'MSNBC', u'freebase': u'http://rdf.freebase.com/ns/m.0152x_', u'subType': [u'Broadcast', u'TVNetwork'], u'crunchbase': u'http://www.crunchbase.com/company/msnbc', u'dbpedia': u'http://dbpedia.org/resource/MSNBC'}}, {u'count': u'1', u'knowledgeGraph': {u'typeHierarchy': u'/issues/foreign policy'}, u'sentiment': {u'score': u'-0.538993', u'type': u'negative'}, u'text': u'foreign policy', u'relevance': u'0.153038', u'type': u'FieldTerminology'}, {u'count': u'1', u'knowledgeGraph': {u'typeHierarchy': u'/people/artists/bands/isis'}, u'sentiment': {u'type': u'neutral'}, u'text': u'ISIS', u'relevance': u'0.145159', u'type': u'Organization', u'disambiguated': {u'freebase': u'http://rdf.freebase.com/ns/m.098wr', u'opencyc': u'http://sw.opencyc.org/concept/Mx4rv5icNZwpEbGdrcN5Y29ycA', u'dbpedia': u'http://dbpedia.org/resource/Society', u'name': u'Society'}}, {u'count': u'1', u'knowledgeGraph': {u'typeHierarchy': u'/people/abby phillip'}, u'sentiment': {u'score': u'0.438611', u'type': u'positive'}, u'text': u'Abby Phillip', u'relevance': u'0.144621', u'type': u'Person'}, {u'count': u'1', u'knowledgeGraph': {u'typeHierarchy': u'/places/states/new hampshire/new hampshire primary'}, u'sentiment': {u'score': u'0.361727', u'type': u'positive'}, u'text': u'New Hampshire primary', u'relevance': u'0.140428', u'type': u'Organization'}, {u'count': u'1', u'knowledgeGraph': {u'typeHierarchy': u'/places/states/new hampshire'}, u'sentiment': {u'type': u'neutral'}, u'text': u'New Hampshire', u'relevance': u'0.139507', u'type': u'StateOrCounty', u'disambiguated': {u'website': u'http://www.nh.gov', u'yago': u'http://yago-knowledge.org/resource/New_Hampshire', u'census': u'http://www.rdfabout.com/rdf/usgov/geo/us/nh', u'name': u'New Hampshire', u'freebase': u'http://rdf.freebase.com/ns/m.059f4', u'opencyc': u'http://sw.opencyc.org/concept/Mx4rvVih1JwpEbGdrcN5Y29ycA', u'subType': [u'Location', u'PoliticalDistrict', u'AdministrativeDivision', u'GovernmentalJurisdiction', u'USState'], u'dbpedia': u'http://dbpedia.org/resource/New_Hampshire'}}, {u'count': u'1', u'knowledgeGraph': {u'typeHierarchy': u'/organizations/individuals/professionals/consultant'}, u'sentiment': {u'score': u'0.283446', u'type': u'positive'}, u'text': u'consultant', u'relevance': u'0.136629', u'type': u'JobTitle'}, {u'relevance': u'0.132448', u'count': u'1', u'type': u'City', u'sentiment': {u'score': u'-0.304993', u'type': u'negative'}, u'text': u'Flint'}, {u'count': u'1', u'knowledgeGraph': {u'typeHierarchy': u'/organizations/boys and girls club'}, u'sentiment': {u'score': u'0.210367', u'type': u'positive'}, u'text': u'Boys and Girls Club', u'relevance': u'0.13159', u'type': u'Organization'}, {u'count': u'1', u'knowledgeGraph': {u'typeHierarchy': u'/places/cities/durham'}, u'sentiment': {u'type': u'neutral'}, u'text': u'Durham', u'relevance': u'0.130463', u'type': u'City'}, {u'count': u'1', u'knowledgeGraph': {u'typeHierarchy': u'/locations/countries/russia'}, u'sentiment': {u'type': u'neutral'}, u'text': u'Russia', u'relevance': u'0.130272', u'type': u'Country'}, {u'count': u'1', u'knowledgeGraph': {u'typeHierarchy': u'/issues/resources/services/programs/medicare'}, u'sentiment': {u'score': u'-0.535379', u'type': u'negative'}, u'text': u'Medicare', u'relevance': u'0.129666', u'type': u'Organization'}, {u'count': u'1', u'knowledgeGraph': {u'typeHierarchy': u'/stars/singers/mika/mika brzyznski'}, u'sentiment': {u'score': u'-0.300085', u'type': u'negative'}, u'text': u'Mika Brzyznski', u'relevance': u'0.127369', u'type': u'Person'}, {u'count': u'1', u'knowledgeGraph': {u'typeHierarchy': u'/industries/financial services/insurance/insurance system'}, u'sentiment': {u'type': u'neutral'}, u'text': u'insurance system', u'relevance': u'0.126433', u'type': u'FieldTerminology'}, {u'count': u'1', u'knowledgeGraph': {u'typeHierarchy': u'/places/countries/iran'}, u'sentiment': {u'score': u'-0.369749', u'type': u'negative'}, u'text': u'Iran', u'relevance': u'0.118187', u'type': u'Country'}, {u'relevance': u'0.118187', u'count': u'1', u'type': u'EmailAddress', u'sentiment': {u'type': u'neutral'}, u'text': u'tumulty@washpost.com'}, {u'relevance': u'0.118187', u'count': u'1', u'type': u'EmailAddress', u'sentiment': {u'type': u'neutral'}, u'text': u'gearan@washpost.com'}]\n"
     ]
    }
   ],
   "source": [
    "\n",
    "print data[\"entities\"]"
   ]
  },
  {
   "cell_type": "code",
   "execution_count": 10,
   "metadata": {
    "collapsed": false
   },
   "outputs": [
    {
     "name": "stdout",
     "output_type": "stream",
     "text": [
      "Hillary Clinton 0.808725\n",
      "Sen. Bernie Sanders 0.595727\n",
      "Clinton 0.317174\n",
      "Bill Clinton 0.291593\n",
      "President Obama 0.238528\n",
      "Congress 0.23596\n",
      "N.H. 0.200827\n",
      "Derry 0.186155\n",
      "Chuck Todd 0.183055\n",
      "Iowa 0.175775\n",
      "CONCORD 0.174566\n",
      "Mich. 0.173232\n",
      "presidential debate 0.170401\n",
      "Manchester 0.170362\n",
      "Nick Pangaro 0.169592\n",
      "Washington Post 0.168052\n",
      "clean energy 0.165608\n",
      "President 0.165495\n",
      "Rep. Tim Roemer 0.165038\n",
      "Joel Benenson 0.164558\n",
      "Vermont 0.160294\n",
      "Brian Fallon 0.157914\n",
      "MSNBC 0.154535\n",
      "foreign policy 0.153038\n",
      "ISIS 0.145159\n",
      "Abby Phillip 0.144621\n",
      "New Hampshire primary 0.140428\n",
      "New Hampshire 0.139507\n",
      "consultant 0.136629\n",
      "Flint 0.132448\n",
      "Boys and Girls Club 0.13159\n",
      "Durham 0.130463\n",
      "Russia 0.130272\n",
      "Medicare 0.129666\n",
      "Mika Brzyznski 0.127369\n",
      "insurance system 0.126433\n",
      "Iran 0.118187\n",
      "tumulty@washpost.com 0.118187\n",
      "gearan@washpost.com 0.118187\n"
     ]
    }
   ],
   "source": [
    "for person in data[\"entities\"]:\n",
    "    print person[\"text\"], person[\"relevance\"]"
   ]
  },
  {
   "cell_type": "code",
   "execution_count": null,
   "metadata": {
    "collapsed": false
   },
   "outputs": [],
   "source": [
    "import pandas as pd\n",
    "from pandas.io.json import json_normalize\n",
    "df = json_normalize(data[\"entities\"])\n",
    "df"
   ]
  },
  {
   "cell_type": "code",
   "execution_count": null,
   "metadata": {
    "collapsed": true
   },
   "outputs": [],
   "source": []
  }
 ],
 "metadata": {
  "kernelspec": {
   "display_name": "Python 2",
   "language": "python",
   "name": "python2"
  },
  "language_info": {
   "codemirror_mode": {
    "name": "ipython",
    "version": 2
   },
   "file_extension": ".py",
   "mimetype": "text/x-python",
   "name": "python",
   "nbconvert_exporter": "python",
   "pygments_lexer": "ipython2",
   "version": "2.7.6"
  }
 },
 "nbformat": 4,
 "nbformat_minor": 0
}
