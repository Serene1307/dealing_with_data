{
 "cells": [
  {
   "cell_type": "markdown",
   "metadata": {},
   "source": [
    "## Authentication with OAuth2"
   ]
  },
  {
   "cell_type": "markdown",
   "metadata": {},
   "source": [
    "Some of you may have already used APIs that require passing a specific key, to authorize the API calls. So the question naturally comes up: Why is that not sufficient for authentication?\n",
    "\n",
    "Here are a few reasons:\n",
    "\n",
    "* We often want our application to **act on behalf of a user** (e.g., retrieve the list of friends of a user on Facebook, and do some analysis on behalf of the user). OAuth allows for such delegation, without requiring the app to have access to the login credentials of the user.\n",
    "* Acting on behalf of a user also allows the quota to be adjusted on a per-user basis, as opposed to a per-app basis. (So that the creators of very popular apps do not have to increase the quota for their own key)\n",
    "* Users often want to give limited set of priviledges to the app (e.g., read only my profile, no posting).\n",
    "* Users want to be able to selectively remove access for specific apps, without having to change the credentials for other apps.\n",
    "\n",
    "So, how does OAuth achieves that?"
   ]
  },
  {
   "cell_type": "markdown",
   "metadata": {},
   "source": [
    "## OAuth2 flows"
   ]
  },
  {
   "cell_type": "markdown",
   "metadata": {},
   "source": [
    "Fundamentally, we have the following steps:\n",
    "\n",
    "* The app sends the user to a login page. The login page asks the user whether the user really wants to grant these permissions to the app.\n",
    "* The user logs in and grants the permissions. This generates an **authorization code** that the API sends back to the app (by **calling back a _redirect URL_**)\n",
    "* The app uses the authorization code (which proves that the user has granted permissions), and calls the API, asking for an **access token**.\n",
    "* The **access token** can then be used by the app to call the API on behalf of the user.\n",
    "\n",
    "The picture below illustrates the OAuth2 flow:\n",
    "\n",
    "<img src=\"https://assets.digitalocean.com/articles/oauth/abstract_flow.png\">\n",
    "\n",
    "Also these two tutorials explain in a simplified manner the details of the authentication process:\n",
    "* https://www.digitalocean.com/community/tutorials/an-introduction-to-oauth-2\n",
    "* http://aaronparecki.com/articles/2012/07/29/1/oauth2-simplified\n",
    "\n"
   ]
  },
  {
   "cell_type": "markdown",
   "metadata": {},
   "source": [
    "### Running our own Python-based web server: Flask"
   ]
  },
  {
   "cell_type": "markdown",
   "metadata": {},
   "source": [
    "As you can see from the above \"flow\", in OAuth2 authentication, we will need to have our own web server, to receive the answers that come back from the API. Python can do that using Flask, a very lightweight webserver. Below you can find a small example of a webserver that will run on your machine at port 5000. \n",
    "\n",
    "**Please note that we have configured this webserver to shutdown after a responding to a single call (we added the \"stop\\_server()\" function call in call responses). In general, we do not do that, and we leave the server running.**\n",
    "\n",
    "Once you run the call, visit http://yourIP:5000/ or http://yourIP:5000/testNYU to see the results. The server will stop immediately after, and the cell will stop being in \"Busy\" status."
   ]
  },
  {
   "cell_type": "code",
   "execution_count": null,
   "metadata": {
    "collapsed": false
   },
   "outputs": [],
   "source": [
    "# In this cell, we configure our example web server. \n",
    "# We will show in the next cell how to configure this\n",
    "# web server to handle the OAuth2 calls.\n",
    "\n",
    "# Flask is a webserver\n",
    "from flask import Flask, request\n",
    "\n",
    "# We add a global variable that will be used to count the visitors to a specific URL\n",
    "visitor_counter = 0\n",
    "# Initialize the embedded web server\n",
    "webserver = Flask(\"MyFirstWebServer\")\n",
    "\n",
    "\n",
    "\n",
    "# Go to http://<your IP>:5000/ to see the response\n",
    "@webserver.route('/')\n",
    "def hello_world():\n",
    "    # stop_server()\n",
    "    return 'Hello World!'\n",
    "\n",
    "# Go to http://<your IP>:5000/testNYU to see the different message\n",
    "@webserver.route('/testNYU')\n",
    "def hello_nyu():\n",
    "    # stop_server()\n",
    "    global visitor_counter\n",
    "    visitor_counter += 1\n",
    "    return 'Hello! You are visitor #{i}'.format(i=visitor_counter)\n",
    "\n",
    "def start_server():\n",
    "    global visitor_counter\n",
    "    visitor_counter = 0\n",
    "    webserver.run(host='0.0.0.0', port=5000)\n",
    "    return\n",
    "    \n",
    "def stop_server():\n",
    "    shutdown_after_request = request.environ.get('werkzeug.server.shutdown')\n",
    "    shutdown_after_request()\n",
    "    return\n",
    "\n",
    "start_server()"
   ]
  },
  {
   "cell_type": "markdown",
   "metadata": {
    "collapsed": false
   },
   "source": [
    "#### Exercise\n",
    "\n",
    "Consult the notes in 1/D, and figure out how to run the server in the background."
   ]
  },
  {
   "cell_type": "code",
   "execution_count": null,
   "metadata": {
    "collapsed": true
   },
   "outputs": [],
   "source": []
  }
 ],
 "metadata": {
  "kernelspec": {
   "display_name": "Python 3",
   "language": "python",
   "name": "python3"
  },
  "language_info": {
   "codemirror_mode": {
    "name": "ipython",
    "version": 3
   },
   "file_extension": ".py",
   "mimetype": "text/x-python",
   "name": "python",
   "nbconvert_exporter": "python",
   "pygments_lexer": "ipython3",
   "version": "3.5.2"
  }
 },
 "nbformat": 4,
 "nbformat_minor": 0
}
