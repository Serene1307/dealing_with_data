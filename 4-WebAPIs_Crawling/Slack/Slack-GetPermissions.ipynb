{
 "cells": [
  {
   "cell_type": "markdown",
   "metadata": {},
   "source": [
    "### Getting the Access Code for Slack\n",
    "\n",
    "The code below illustrates how we connect to the Slack API to request an authorization token for our app. Remember that we have to register our app with Slack first, and get the `client_id`."
   ]
  },
  {
   "cell_type": "code",
   "execution_count": null,
   "metadata": {
    "collapsed": false
   },
   "outputs": [],
   "source": [
    "# This part is required to come up with the pop-up with which Slack will ask for permissions\n",
    "# Remember to have the Flask webserver up and running (WebServer_Receive_Slack_Authentication.py)\n",
    "# to receive the code.\n",
    "from IPython.display import display\n",
    "from IPython.display import Javascript as JS\n",
    "\n",
    "slack_url = \"https://slack.com/oauth/authorize\"\n",
    "client_id = '3417815998.64093686112'\n",
    "# client_secret = 'ddc9272e1e9d103b11b004b9505567d6'\n",
    "\n",
    "# remember, the Flask server needs to run\n",
    "# also, the URL below needs to point to your own server\n",
    "redirect_uri = 'http://ipython.ipeirotis.com:5000/slack' \n",
    "permissions = 'client'\n",
    "\n",
    "\n",
    "# Send an OAuth request to Slack, handle the redirect, and display the access\n",
    "# token that's included in the redirect for the user to copy and paste\n",
    "url = (slack_url + \n",
    "    '?response_type=code' + \n",
    "    '&client_id='+ client_id + \n",
    "    '&scope=' + permissions +\n",
    "    '&redirect_uri=' + redirect_uri )\n",
    "\n",
    "# The code below is necessary to pop up the login window\n",
    "display(JS(\"window.open('%s')\" % url))\n"
   ]
  },
  {
   "cell_type": "markdown",
   "metadata": {},
   "source": [
    "After we authorize the app (in a separate browser window), our web server has received from Slack the authentication token, and it was stored in the `slack_secret.json` file. We read it, to ensure that it contains the information that we want."
   ]
  },
  {
   "cell_type": "code",
   "execution_count": null,
   "metadata": {
    "collapsed": false
   },
   "outputs": [],
   "source": [
    "import json\n",
    "\n",
    "# Read the access token from the file\n",
    "OAUTH_FILE = 'slack_secret.json'\n",
    "f = open(OAUTH_FILE, 'r') \n",
    "content = f.read()\n",
    "f.close()\n",
    "auth_info = json.loads(content)\n",
    "\n",
    "auth_info"
   ]
  },
  {
   "cell_type": "code",
   "execution_count": null,
   "metadata": {
    "collapsed": false
   },
   "outputs": [],
   "source": [
    "# We will just use the library to test that the code that we get back\n",
    "# allows us to connect to the Slack API\n",
    "!sudo python3 -m pip install slackclient"
   ]
  },
  {
   "cell_type": "code",
   "execution_count": null,
   "metadata": {
    "collapsed": false
   },
   "outputs": [],
   "source": [
    "from slackclient import SlackClient\n",
    "sc = SlackClient(auth_info[\"access_token\"])"
   ]
  }
 ],
 "metadata": {
  "kernelspec": {
   "display_name": "Python 3",
   "language": "python",
   "name": "python3"
  },
  "language_info": {
   "codemirror_mode": {
    "name": "ipython",
    "version": 3
   },
   "file_extension": ".py",
   "mimetype": "text/x-python",
   "name": "python",
   "nbconvert_exporter": "python",
   "pygments_lexer": "ipython3",
   "version": "3.5.2"
  }
 },
 "nbformat": 4,
 "nbformat_minor": 0
}
