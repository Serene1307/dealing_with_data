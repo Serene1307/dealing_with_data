{
 "cells": [
  {
   "cell_type": "markdown",
   "metadata": {},
   "source": [
    "## Building a Chat Bot\n",
    "\n",
    "In the examples below, we will build a very simple application that creates a simple chat bot. The bot is monitoring the actions that are happening on Slack, and posts some acknowledgement messages every time someone types a message.\n",
    "\n",
    "\n",
    "#### Authentication\n",
    "\n",
    "We start first by authenticating our application. (See notes in S1). We read the `slack_secret.json` file, and we instantiate then our SlackClient."
   ]
  },
  {
   "cell_type": "code",
   "execution_count": 4,
   "metadata": {
    "collapsed": false
   },
   "outputs": [],
   "source": [
    "# Read the access token from the file\n",
    "import json\n",
    "\n",
    "secrets_file = 'slack_secret.json'\n",
    "f = open(secrets_file, 'r') \n",
    "content = f.read()\n",
    "f.close()\n",
    "\n",
    "auth_info = json.loads(content)\n",
    "token = auth_info[\"access_token\"]"
   ]
  },
  {
   "cell_type": "code",
   "execution_count": 5,
   "metadata": {
    "collapsed": false
   },
   "outputs": [
    {
     "name": "stdout",
     "output_type": "stream",
     "text": [
      "Requirement already up-to-date: slackclient in /usr/local/lib/python3.5/dist-packages\n",
      "Requirement already up-to-date: websocket-client in /usr/local/lib/python3.5/dist-packages (from slackclient)\n",
      "Requirement already up-to-date: requests in /usr/local/lib/python3.5/dist-packages (from slackclient)\n",
      "Requirement already up-to-date: six in /usr/lib/python3/dist-packages (from slackclient)\n"
     ]
    }
   ],
   "source": [
    "# If you happen not to have the slackclient library installed, \n",
    "# you can uncomment and run the code below\n",
    "!sudo -H python3 -m pip install -U slackclient"
   ]
  },
  {
   "cell_type": "code",
   "execution_count": 7,
   "metadata": {
    "collapsed": false
   },
   "outputs": [
    {
     "name": "stdout",
     "output_type": "stream",
     "text": [
      "The username of the authenticated user is panos\n",
      "The email of the authenticated user is panos@stern.nyu.edu\n",
      "The email of the authenticated user is Panos Ipeirotis\n"
     ]
    }
   ],
   "source": [
    "from slackclient import SlackClient\n",
    "sc = SlackClient(token)\n",
    "response = sc.api_call(\"users.info\", user=auth_info[\"user_id\"])\n",
    "user = response['user']\n",
    "print(\"The username of the authenticated user is\", user.get('name'))\n",
    "print(\"The email of the authenticated user is\", user.get('profile').get('email'))\n",
    "print(\"The email of the authenticated user is\", user.get('profile').get('real_name'))"
   ]
  },
  {
   "cell_type": "markdown",
   "metadata": {},
   "source": [
    "### Implementing the bot\n",
    "\n",
    "The code below continuously monitors the various events on Slack. Of course, the bot can be programmed to react to any type of event. In this particular example, the bot monitors for user messages, and posts a \"thank you\" note to each user into the #bots channel."
   ]
  },
  {
   "cell_type": "code",
   "execution_count": 8,
   "metadata": {
    "collapsed": false
   },
   "outputs": [
    {
     "name": "stdout",
     "output_type": "stream",
     "text": [
      "{'type': 'hello'}\n",
      "{'reply_to': 41927, 'channel': 'C44A5QZ6F', 'text': 'you need to have a primary key to be different between two different rows', 'type': 'message', 'user': 'U3VAU7WF4', 'ts': '1487043809.000073'}\n",
      "{'reply_to': 41927, 'channel': 'C44A5QZ6F', 'text': 'you need to have a primary key to be different between two different rows', 'type': 'message', 'user': 'U3VAU7WF4', 'ts': '1487043809.000073'}\n",
      "{'url': 'wss://mpmulti-1rfk.slack-msgs.com/websocket/fYCsBslnTpyEp-BQLJ2t_NpL2h_TYa20udCuUtf8d9RLul1OnMLApo_d8QBmfkuHjRmPi4sF-kVmIuyGYPq3G7FAE8TeSUBB72JYQyApd7G8eQBG5wOSk8ekrc_ZUvkwg6Ux9dZxwkfYgLba1UYjF21ButhtW1jszAfL2yuMme4=', 'type': 'reconnect_url'}\n",
      "{'presence': 'active', 'user': 'U3VAU7WF4', 'type': 'presence_change'}\n",
      "{'bot_id': 'B44MCNJDV', 'team': 'T3W1D2Y3G', 'subtype': 'bot_message', 'text': 'Thank you user U3VAU7WF4 for participating in channel C44A5QZ6F', 'username': 'MagnificentPanoBot', 'ts': '1487046379.000882', 'type': 'message', 'channel': 'C429KQ60N'}\n",
      "{'unread_count': 0, 'num_mentions': 0, 'channel': 'C429KQ60N', 'event_ts': '1487046384.541327', 'unread_count_display': 0, 'num_mentions_display': 0, 'mention_count': 0, 'ts': '1487046379.000882', 'type': 'channel_marked', 'mention_count_display': 0}\n"
     ]
    },
    {
     "ename": "KeyboardInterrupt",
     "evalue": "",
     "output_type": "error",
     "traceback": [
      "\u001b[0;31m---------------------------------------------------------------------------\u001b[0m",
      "\u001b[0;31mKeyboardInterrupt\u001b[0m                         Traceback (most recent call last)",
      "\u001b[0;32m<ipython-input-8-f9de6f9cb754>\u001b[0m in \u001b[0;36m<module>\u001b[0;34m()\u001b[0m\n\u001b[1;32m      5\u001b[0m     \u001b[0;32mwhile\u001b[0m \u001b[0;32mTrue\u001b[0m\u001b[0;34m:\u001b[0m\u001b[0;34m\u001b[0m\u001b[0m\n\u001b[1;32m      6\u001b[0m         \u001b[0;31m# We are going to wait 1 second between monitoring attempts\u001b[0m\u001b[0;34m\u001b[0m\u001b[0;34m\u001b[0m\u001b[0m\n\u001b[0;32m----> 7\u001b[0;31m         \u001b[0mtime\u001b[0m\u001b[0;34m.\u001b[0m\u001b[0msleep\u001b[0m\u001b[0;34m(\u001b[0m\u001b[0;36m1\u001b[0m\u001b[0;34m)\u001b[0m\u001b[0;34m\u001b[0m\u001b[0m\n\u001b[0m\u001b[1;32m      8\u001b[0m         \u001b[0;31m# If there are any new events, we will get a response. If there are no events, the response will be empty\u001b[0m\u001b[0;34m\u001b[0m\u001b[0;34m\u001b[0m\u001b[0m\n\u001b[1;32m      9\u001b[0m         \u001b[0mresponse\u001b[0m \u001b[0;34m=\u001b[0m \u001b[0msc\u001b[0m\u001b[0;34m.\u001b[0m\u001b[0mrtm_read\u001b[0m\u001b[0;34m(\u001b[0m\u001b[0;34m)\u001b[0m\u001b[0;34m\u001b[0m\u001b[0m\n",
      "\u001b[0;31mKeyboardInterrupt\u001b[0m: "
     ]
    }
   ],
   "source": [
    "import time\n",
    "\n",
    "if sc.rtm_connect():\n",
    "    # We are going to be polling the Slack API for recent events continuously\n",
    "    while True:\n",
    "        # We are going to wait 1 second between monitoring attempts\n",
    "        time.sleep(1)\n",
    "        # If there are any new events, we will get a response. If there are no events, the response will be empty\n",
    "        response = sc.rtm_read()\n",
    "        for item in response:\n",
    "            # We print the event on the screen for informational purposes\n",
    "            print(item) \n",
    "            event_type = item.get(\"type\")\n",
    "            if event_type == 'message' and item.get(\"user\")!=None:\n",
    "                print(item)\n",
    "                message = \"Thank you user {u} for participating in channel {c}\".format(u=item[\"user\"], c=item[\"channel\"])\n",
    "                sc.api_call(\"chat.postMessage\", channel=\"#bots\", text=message)"
   ]
  },
  {
   "cell_type": "markdown",
   "metadata": {
    "collapsed": true
   },
   "source": [
    "#### Exercises \n",
    "\n",
    "* Change the code above to retrieve the actual user name of the user, instead of the user id\n",
    "* Chagne the code above to retrieve the actual name of the channel instead of the channel id\n",
    "* Change the code above to post the answer to the channel where the user posted, instead of the '#bots' channel"
   ]
  },
  {
   "cell_type": "code",
   "execution_count": null,
   "metadata": {
    "collapsed": true
   },
   "outputs": [],
   "source": []
  }
 ],
 "metadata": {
  "kernelspec": {
   "display_name": "Python 3",
   "language": "python",
   "name": "python3"
  },
  "language_info": {
   "codemirror_mode": {
    "name": "ipython",
    "version": 3
   },
   "file_extension": ".py",
   "mimetype": "text/x-python",
   "name": "python",
   "nbconvert_exporter": "python",
   "pygments_lexer": "ipython3",
   "version": "3.5.2"
  }
 },
 "nbformat": 4,
 "nbformat_minor": 0
}
