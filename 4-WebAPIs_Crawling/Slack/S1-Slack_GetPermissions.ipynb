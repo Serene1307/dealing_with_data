{
 "cells": [
  {
   "cell_type": "markdown",
   "metadata": {},
   "source": [
    "## Getting the Access Code for Slack\n",
    "\n",
    "The code below illustrates how we connect to the Slack API to request an authorization token for our app. Remember that we have to register our app with Slack first, and get the `client_id`.\n",
    "\n",
    "#### Creating a Slack App\n",
    "\n",
    "* Go to https://api.slack.com/apps and create your app. You will need the \"Client ID\" and the \"Client Secrete\" that is created for you.\n",
    "* Select the **\"OAuth & Permissions\"** tab from the left-hand side and add a \"Redirect URL\" for your app. The redirect URL ensures (for security) that the app can only talk to your own web server. Add `http://<yourIP>:5000/slack` as your redirect URL.\n",
    "* Select the \"Bot Users\" tab from the left-hand side and add a bot username for your app."
   ]
  },
  {
   "cell_type": "markdown",
   "metadata": {},
   "source": [
    "\n",
    "#### Get the Web Server up and running\n",
    "\n",
    "* See the Python Script `WebServer.py` that is in this folder. \n",
    "* **IMPORTANT**: Modify the CLIENT_ID, CLIENT_SECRET, and REDIRECT variables in `WebServer.py` to match those of your own Slack app.\n",
    "* You now need to start the server, so that it can receive the authentication code for the user. "
   ]
  },
  {
   "cell_type": "code",
   "execution_count": null,
   "metadata": {
    "collapsed": false
   },
   "outputs": [],
   "source": [
    "# the command below will run the webserver from the notebook\n",
    "# Notice that the server is configured to stop running after the first authentication\n",
    "%run WebServer.py"
   ]
  },
  {
   "cell_type": "code",
   "execution_count": null,
   "metadata": {
    "collapsed": true
   },
   "outputs": [],
   "source": []
  },
  {
   "cell_type": "code",
   "execution_count": null,
   "metadata": {
    "collapsed": false
   },
   "outputs": [],
   "source": [
    "# Alternatively, you can launch the webserver from the Terminal issuing the command\n",
    "#\n",
    "# nohup ./WebServer.py &\n",
    "#\n",
    "# which will put the server to run in the background\n",
    "#\n",
    "# If you need to stop the background server, you can isssue the following\n",
    "# command from the terminal, which will stop any process that contains \n",
    "# `WebServer` as part of its name\n",
    "#\n",
    "#  kill $(pgrep WebServer)"
   ]
  },
  {
   "cell_type": "markdown",
   "metadata": {},
   "source": [
    "#### Launch the user authentication process\n",
    "\n",
    "* Now to go `http://<yourIP>:5000/install` and click the \"Install Slack Bot\" URL. You will be asked to login to your Slack account, and grant permissions to the bot to use your account credentials/permissions.\n",
    "\n",
    "* Once you grant permissions, then then the Slack server will call the `http://<yourIP>:5000/slack` URL and send the authentication code to that URL.\n",
    "\n",
    "* At that point, out web server (running as a Python Script), will call back Slack saying \"hey, I got the code, here is the verification (my `client_secret`) that I am indeed the correct app. (See the `WebServer.py` code.)\n",
    "\n",
    "* The webserver will stop running after a successful authorization, and the cell above will stop showing a `[*]`"
   ]
  },
  {
   "cell_type": "markdown",
   "metadata": {},
   "source": [
    "#### Done with the authentication, the authentication data is now stored locally.\n",
    "\n",
    "After we authorize the app (in a separate browser window), our web server has received from Slack the authentication token, and it was stored in the `slack_secret.json` file. We read it, to ensure that it contains the information that we want."
   ]
  },
  {
   "cell_type": "code",
   "execution_count": null,
   "metadata": {
    "collapsed": false
   },
   "outputs": [],
   "source": [
    "import json\n",
    "\n",
    "# Read the access token from the file\n",
    "OAUTH_FILE = 'slack_secret.json'\n",
    "f = open(OAUTH_FILE, 'r') \n",
    "content = f.read()\n",
    "f.close()\n",
    "auth_info = json.loads(content)\n",
    "\n",
    "auth_info"
   ]
  },
  {
   "cell_type": "code",
   "execution_count": null,
   "metadata": {
    "collapsed": false
   },
   "outputs": [],
   "source": [
    "# We will just use the library to test that the code that we get back\n",
    "# allows us to connect to the Slack API\n",
    "!sudo -H python3 -m pip install slackclient"
   ]
  },
  {
   "cell_type": "code",
   "execution_count": null,
   "metadata": {
    "collapsed": false
   },
   "outputs": [],
   "source": [
    "from slackclient import SlackClient\n",
    "sc = SlackClient(auth_info[\"access_token\"])"
   ]
  },
  {
   "cell_type": "code",
   "execution_count": null,
   "metadata": {
    "collapsed": false
   },
   "outputs": [],
   "source": [
    "response = sc.api_call(\"users.info\", user=auth_info[\"user_id\"])\n",
    "user = response['user']"
   ]
  },
  {
   "cell_type": "code",
   "execution_count": null,
   "metadata": {
    "collapsed": false
   },
   "outputs": [],
   "source": [
    "print(\"The username of the authenticated user is\", user.get('name'))\n",
    "print(\"The email of the authenticated user is\", user.get('profile').get('email'))\n",
    "print(\"The email of the authenticated user is\", user.get('profile').get('real_name'))"
   ]
  },
  {
   "cell_type": "code",
   "execution_count": null,
   "metadata": {
    "collapsed": true
   },
   "outputs": [],
   "source": []
  }
 ],
 "metadata": {
  "kernelspec": {
   "display_name": "Python 3",
   "language": "python",
   "name": "python3"
  },
  "language_info": {
   "codemirror_mode": {
    "name": "ipython",
    "version": 3
   },
   "file_extension": ".py",
   "mimetype": "text/x-python",
   "name": "python",
   "nbconvert_exporter": "python",
   "pygments_lexer": "ipython3",
   "version": "3.5.2"
  }
 },
 "nbformat": 4,
 "nbformat_minor": 0
}
