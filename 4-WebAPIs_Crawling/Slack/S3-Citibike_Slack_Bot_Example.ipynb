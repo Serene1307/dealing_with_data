{
 "cells": [
  {
   "cell_type": "code",
   "execution_count": null,
   "metadata": {
    "collapsed": true
   },
   "outputs": [],
   "source": [
    "import time\n",
    "import re\n",
    "import requests"
   ]
  },
  {
   "cell_type": "code",
   "execution_count": null,
   "metadata": {
    "collapsed": true
   },
   "outputs": [],
   "source": [
    "def message_matches(user_id, message_text):\n",
    "    '''\n",
    "    Check if the username and the word 'bot' appears in the text\n",
    "    '''\n",
    "    regex_expression = '.*@' + user_id + '.*bot.*'\n",
    "    regex = re.compile(regex_expression)\n",
    "    # Check if the message text matches the regex above\n",
    "    match = regex.match(message_text)\n",
    "    # returns true if the match is not None (ie the regex had a match)\n",
    "    return match != None "
   ]
  },
  {
   "cell_type": "code",
   "execution_count": null,
   "metadata": {
    "collapsed": true
   },
   "outputs": [],
   "source": [
    "def extract_station_name(message_text):\n",
    "    '''\n",
    "    Extract the station name. The regex relies on the question having a specific form\n",
    "    '''\n",
    "    regex_expression = 'how many bikes on (.+) station'\n",
    "    regex= re.compile(regex_expression)\n",
    "    matches = regex.finditer(message_text)\n",
    "    for match in matches:\n",
    "        return match.group(1)\n",
    "    \n",
    "    # if there were no matches, return None\n",
    "    return None"
   ]
  },
  {
   "cell_type": "code",
   "execution_count": null,
   "metadata": {
    "collapsed": true
   },
   "outputs": [],
   "source": [
    "def get_citibike_data(station_name):\n",
    "    '''\n",
    "    Returns a list of dictionaries with the station name and available bikes\n",
    "    for all stations that have a matching station name\n",
    "    '''\n",
    "    url = 'http://www.citibikenyc.com/stations/json'\n",
    "    data = requests.get(url).json()[\"stationBeanList\"] \n",
    "    # Create a list of dictionaries. Each dictionary has two entries, the station name and available bikes\n",
    "    result = [ {\"station_name\": entry[\"stationName\"], \"available\": entry[\"availableBikes\"]} \n",
    "            for entry in data if station_name in entry[\"stationName\"]]\n",
    "    return result"
   ]
  },
  {
   "cell_type": "code",
   "execution_count": null,
   "metadata": {
    "collapsed": false
   },
   "outputs": [],
   "source": [
    "def create_message(username, station_name):\n",
    "    '''\n",
    "    This function takes as input the username of the user that asked the question,\n",
    "    and the station_name that we managed to extract from the question (potentially it can be None)\n",
    "    We check the Citibike API and respond with the status of the Citibike stations.\n",
    "    '''\n",
    "    \n",
    "    if station_name != None:\n",
    "        # We want to address the user with the username. Potentially, we can also check\n",
    "        # if the user has added a first and last name, and use these instead of the username\n",
    "        message = \"Thank you @{u} for asking about the station on {s}.\\n\".format(u=username, s=station_name)\n",
    "\n",
    "        # Let's get the data from the Citibike API\n",
    "        matching_stations = get_citibike_data(station_name)\n",
    "        # If we cannot find any matching station\n",
    "        if len(matching_stations) == 0:\n",
    "            message += \"I could not find any matching station.\\n\"\n",
    "        # If there are multiple matching stations\n",
    "        if len(matching_stations) > 1:\n",
    "            message += \"We have multiple matching stations.\\n\"\n",
    "        # Add the information for each station\n",
    "        for station in matching_stations:\n",
    "            address = station['station_name']\n",
    "            bikes = station['available']\n",
    "            message += \"The station at {a} has {b} available bikes.\\n\".format(a=address, b=bikes)\n",
    "    else:\n",
    "        message =  \"Thank you @{u} for asking.\".format(u=username)\n",
    "        message += \"Unfortunately I did not understand what is the station you are asking for.\\n\"\n",
    "        message += \"Ask me `how many bikes on XXXXX station` and I will try to answer.\"\n",
    "        \n",
    "    return message"
   ]
  },
  {
   "cell_type": "code",
   "execution_count": null,
   "metadata": {
    "collapsed": true
   },
   "outputs": [],
   "source": [
    "# Read the access token from the file and create the Slack Client\n",
    "import json\n",
    "\n",
    "secrets_file = 'slack_secret.json'\n",
    "f = open(secrets_file, 'r') \n",
    "content = f.read()\n",
    "f.close()\n",
    "\n",
    "auth_info = json.loads(content)\n",
    "auth_token = auth_info[\"access_token\"]\n",
    "bot_user_id = auth_info[\"user_id\"]\n",
    "\n",
    "from slackclient import SlackClient\n",
    "sc = SlackClient(auth_token)\n",
    "\n"
   ]
  },
  {
   "cell_type": "code",
   "execution_count": null,
   "metadata": {
    "collapsed": false
   },
   "outputs": [],
   "source": [
    "# Connect to the Real Time Messaging API of Slack and process the events\n",
    "\n",
    "if sc.rtm_connect():\n",
    "    # We are going to be polling the Slack API for recent events continuously\n",
    "    while True:\n",
    "        # We are going to wait 1 second between monitoring attempts\n",
    "        time.sleep(1)\n",
    "        # If there are any new events, we will get a response. If there are no events, the response will be empty\n",
    "        response = sc.rtm_read()\n",
    "        for item in response:\n",
    "            # Check that the event is a message. If not, ignore and proceed to the next event.\n",
    "            if item.get(\"type\") != 'message':\n",
    "                continue\n",
    "                \n",
    "            # Check that the message comes from a user. If not, ignore and proceed to the next event.\n",
    "            if item.get(\"user\") == None:\n",
    "                continue\n",
    "            \n",
    "            # Check that the message is asking the bot to do something. If not, ignore and proceed to the next event.\n",
    "            message_text = item.get('text')\n",
    "            if not message_matches(bot_user_id, message_text):\n",
    "                continue\n",
    "                \n",
    "            # Get the username of the user who asked the question\n",
    "            response = sc.api_call(\"users.info\", user=item[\"user\"])\n",
    "            username = response['user'].get('name')\n",
    "            \n",
    "            # Extract the station name from the user's message\n",
    "            station_name = extract_station_name(message_text)\n",
    "\n",
    "            # Prepare the message that we will send back to the user\n",
    "            message = create_message(username, station_name)\n",
    "\n",
    "            # Post a response to the #bots channel\n",
    "            sc.api_call(\"chat.postMessage\", channel=\"#bots\", text=message)\n",
    "                \n",
    "        "
   ]
  },
  {
   "cell_type": "code",
   "execution_count": null,
   "metadata": {
    "collapsed": true
   },
   "outputs": [],
   "source": []
  }
 ],
 "metadata": {
  "kernelspec": {
   "display_name": "Python 3",
   "language": "python",
   "name": "python3"
  },
  "language_info": {
   "codemirror_mode": {
    "name": "ipython",
    "version": 3
   },
   "file_extension": ".py",
   "mimetype": "text/x-python",
   "name": "python",
   "nbconvert_exporter": "python",
   "pygments_lexer": "ipython3",
   "version": "3.5.2"
  }
 },
 "nbformat": 4,
 "nbformat_minor": 2
}
