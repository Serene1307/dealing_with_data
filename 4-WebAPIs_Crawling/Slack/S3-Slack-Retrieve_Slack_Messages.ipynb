{
 "cells": [
  {
   "cell_type": "code",
   "execution_count": null,
   "metadata": {
    "collapsed": false
   },
   "outputs": [],
   "source": [
    "import json\n",
    "from slackclient import SlackClient\n",
    "\n",
    "# Read the access token from the file\n",
    "secrets_file = 'slack_secret.json'\n",
    "f = open(secrets_file, 'r') \n",
    "content = f.read()\n",
    "f.close()\n",
    "auth_info = json.loads(content)\n",
    "token = auth_info[\"access_token\"]\n",
    "sc = SlackClient(token)\n"
   ]
  },
  {
   "cell_type": "code",
   "execution_count": null,
   "metadata": {
    "collapsed": true
   },
   "outputs": [],
   "source": [
    "import pandas as pd\n",
    "from pandas.io.json import json_normalize"
   ]
  },
  {
   "cell_type": "code",
   "execution_count": null,
   "metadata": {
    "collapsed": false
   },
   "outputs": [],
   "source": [
    "# Get channel list and store in database\n",
    "response = sc.api_call(\"channels.list\")\n",
    "df_channels = json_normalize(response[\"channels\"])\n",
    "df_channels.drop('members', axis=1, inplace = True)\n",
    "# df_channels.to_sql(name='channels', con=mysql, if_exists='replace')\n",
    "df_channels"
   ]
  },
  {
   "cell_type": "code",
   "execution_count": null,
   "metadata": {
    "collapsed": false,
    "scrolled": false
   },
   "outputs": [],
   "source": [
    "# Get users list and store in database\n",
    "response = sc.api_call(\"users.list\")\n",
    "df_users = json_normalize(response[\"members\"])\n",
    "# df_users.to_sql(name='users', con=engine, if_exists='replace')\n",
    "df_users"
   ]
  },
  {
   "cell_type": "code",
   "execution_count": null,
   "metadata": {
    "collapsed": false
   },
   "outputs": [],
   "source": [
    "# Retrieves all past messages from all public channels\n",
    "def get_messages(channel_id, latest_fetched_ts): \n",
    "    oldest = sys.maxsize\n",
    "    results = []\n",
    "    while True:\n",
    "        response = sc.api_call(\"channels.history\", channel=channel_id, latest=oldest)\n",
    "        data = [{\"timestamp\": entry.get(\"ts\"), \"user\": entry.get(\"user\"), \"message\": entry.get(\"text\")} for entry in response[\"messages\"] ]\n",
    "        results.extend(data)\n",
    "        oldest = min([entry[\"ts\"] for entry in response[\"messages\"]])\n",
    "        latest = max([entry[\"ts\"] for entry in response[\"messages\"]])\n",
    "        if response[\"has_more\"] == False:\n",
    "            break\n",
    "    df = pd.DataFrame(results)\n",
    "    return df"
   ]
  },
  {
   "cell_type": "code",
   "execution_count": null,
   "metadata": {
    "collapsed": false
   },
   "outputs": [],
   "source": [
    "import sys\n",
    "\n",
    "for i, row in df_channels[[\"id\", \"name\"]].iterrows():\n",
    "    channel_id = row[\"id\"]\n",
    "    channel_name = row[\"name\"]\n",
    "    print(channel_id, channel_name)\n",
    "    df_msgs = get_messages(channel_id, sys.maxsize)\n",
    "    df_msgs[\"channel_id\"] = row[\"id\"]\n",
    "    # df_msgs.to_sql(name='messages', con=engine, if_exists='append')"
   ]
  },
  {
   "cell_type": "code",
   "execution_count": null,
   "metadata": {
    "collapsed": true
   },
   "outputs": [],
   "source": []
  }
 ],
 "metadata": {
  "kernelspec": {
   "display_name": "Python 3",
   "language": "python",
   "name": "python3"
  },
  "language_info": {
   "codemirror_mode": {
    "name": "ipython",
    "version": 3
   },
   "file_extension": ".py",
   "mimetype": "text/x-python",
   "name": "python",
   "nbconvert_exporter": "python",
   "pygments_lexer": "ipython3",
   "version": "3.5.2"
  }
 },
 "nbformat": 4,
 "nbformat_minor": 0
}
