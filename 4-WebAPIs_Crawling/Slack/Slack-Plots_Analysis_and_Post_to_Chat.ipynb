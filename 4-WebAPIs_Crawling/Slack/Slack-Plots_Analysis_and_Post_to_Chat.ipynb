{
 "cells": [
  {
   "cell_type": "code",
   "execution_count": null,
   "metadata": {
    "collapsed": false
   },
   "outputs": [],
   "source": [
    "# !sudo python3 -m pip install -U slackclient"
   ]
  },
  {
   "cell_type": "code",
   "execution_count": null,
   "metadata": {
    "collapsed": false
   },
   "outputs": [],
   "source": [
    "# !sudo apt-get install python3-mysqldb"
   ]
  },
  {
   "cell_type": "code",
   "execution_count": null,
   "metadata": {
    "collapsed": true
   },
   "outputs": [],
   "source": [
    "%matplotlib inline"
   ]
  },
  {
   "cell_type": "code",
   "execution_count": null,
   "metadata": {
    "collapsed": true
   },
   "outputs": [],
   "source": [
    "import pandas as pd\n",
    "from pandas.io.json import json_normalize\n",
    "\n",
    "import time\n"
   ]
  },
  {
   "cell_type": "code",
   "execution_count": null,
   "metadata": {
    "collapsed": false
   },
   "outputs": [],
   "source": [
    "import json\n",
    "from slackclient import SlackClient\n",
    "\n",
    "# Read the access token from the file\n",
    "secrets_file = 'slack_secret.json'\n",
    "f = open(secrets_file, 'r') \n",
    "content = f.read()\n",
    "f.close()\n",
    "auth_info = json.loads(content)\n",
    "token = auth_info[\"access_token\"]\n",
    "sc = SlackClient(token)\n"
   ]
  },
  {
   "cell_type": "code",
   "execution_count": null,
   "metadata": {
    "collapsed": false
   },
   "outputs": [],
   "source": [
    "# Parameters to connect to MySQL database\n",
    "parameters = {\n",
    "    'host':     'localhost', \n",
    "    'username': 'root', \n",
    "    'password': 'dwdstudent2015', \n",
    "    'database': 'slack',\n",
    "    'port':     '3306',\n",
    "    'charset':  'utf8',\n",
    "    'use_unicode': True\n",
    "}"
   ]
  },
  {
   "cell_type": "code",
   "execution_count": null,
   "metadata": {
    "collapsed": false
   },
   "outputs": [],
   "source": [
    "import mysql.connector\n",
    "from sqlalchemy import create_engine\n",
    "\n",
    "\n",
    "template = 'mysql+mysqlconnector://{username}:{password}@{host}:{port}/{database}?charset={charset}'\n",
    "conn_string = template.format(**parameters)\n",
    "\n",
    "engine = create_engine(conn_string, echo=False)\n"
   ]
  },
  {
   "cell_type": "code",
   "execution_count": null,
   "metadata": {
    "collapsed": false
   },
   "outputs": [],
   "source": [
    "df = pd.read_sql(\"SELECT * FROM messages\", con=engine)\n",
    "df['timestamp'] = pd.to_datetime(df['timestamp'])\n",
    "df.set_index('timestamp', inplace=True)\n",
    "df.sort_index(inplace=True)"
   ]
  },
  {
   "cell_type": "code",
   "execution_count": null,
   "metadata": {
    "collapsed": true
   },
   "outputs": [],
   "source": [
    "baseurl = \"http://ipython-panos.ipeirotis.com:5000/\""
   ]
  },
  {
   "cell_type": "code",
   "execution_count": null,
   "metadata": {
    "collapsed": false
   },
   "outputs": [],
   "source": [
    "# Generate channel sentiment reports\n",
    "\n",
    "df_channels = pd.read_sql(\"SELECT * FROM channels\", con=engine)\n",
    "df_channels.set_index('id', inplace=True)\n",
    "\n",
    "attachments = []\n",
    "\n",
    "for i, row in df_channels[[\"name\"]].iterrows():\n",
    "    ts = str(time.time())\n",
    "    channel_id = i\n",
    "    channel_name = row[\"name\"]\n",
    "    plot_df = df[ df['channel_id'] == channel_id].sort_index()\n",
    "    if len(plot_df)>2000:\n",
    "        ax = plot_df.rolling(window=300).mean()[['pos', 'neg']].plot(figsize=(10,6), ylim=(0,0.25))\n",
    "        ax.set_xlabel(\"Sentiment on #\"+channel_name)\n",
    "        fig = ax.get_figure()\n",
    "        filename = 'plots/'+channel_name+'-'+ts+'.png'\n",
    "        fig.savefig(filename)\n",
    "        attachment = {\n",
    "            \"image_url\": baseurl + filename,\n",
    "            \"text\": \"Sentiment on channel #\" + channel_name\n",
    "        }\n",
    "        attachments.append(attachment)\n",
    "        \n",
    "sc.api_call(\"chat.postMessage\", channel=\"#bot_stats\", text=\"Channel Sentiment Report\", attachments=attachments)"
   ]
  },
  {
   "cell_type": "code",
   "execution_count": null,
   "metadata": {
    "collapsed": false
   },
   "outputs": [],
   "source": [
    "#user_stats = df.groupby(df['user']).mean()\n",
    "\n",
    "#data = df_users[['profile.real_name']].join(user_stats)\n",
    "#data"
   ]
  },
  {
   "cell_type": "code",
   "execution_count": null,
   "metadata": {
    "collapsed": false
   },
   "outputs": [],
   "source": [
    "# Generate user sentiment reports\n",
    "\n",
    "df_users = pd.read_sql(\"SELECT * FROM users WHERE deleted=False AND is_bot=False\", con=engine)\n",
    "df_users.set_index('id', inplace=True)\n",
    "\n",
    "attachments = []\n",
    "\n",
    "for i, row in df_users[['profile.real_name']].iterrows():\n",
    "    ts = str(time.time())\n",
    "    user_id = i\n",
    "    user_name = row[\"profile.real_name\"]\n",
    "    plot_df = df[ (df['user'] == user_id)].sort_index()\n",
    "    plot_df[\"diff\"] = plot_df['pos'] - plot_df['neg']\n",
    "    plot_df[\"sentiment\"] = plot_df[\"diff\"].rolling(center=False, win_type='parzen', window=100).mean()\n",
    "    # plot_df = plot_df.rolling(window=200, win_type='parzen').mean()\n",
    "    \n",
    "    if len(plot_df) == 0:\n",
    "        continue\n",
    "    ax = plot_df[['sentiment']].cumsum().plot(figsize=(10,6))\n",
    "    ax.set_xlabel(\"Sentiment of user \"+user_name)\n",
    "    ax.grid(True)\n",
    "    fig = ax.get_figure()\n",
    "    filename = 'plots/'+user_id+'-'+ts+'.png'\n",
    "    fig.savefig(filename)\n",
    "    attachment = {\n",
    "        \"image_url\": baseurl + filename,\n",
    "        \"text\": \"Sentiment of user \" + user_name\n",
    "    }\n",
    "    attachments.append(attachment)\n",
    "\n",
    "# sc.api_call(\"chat.postMessage\", channel=\"#bot_stats\", text=\"User Sentiment Report\", attachments=attachments)\n",
    "    "
   ]
  },
  {
   "cell_type": "code",
   "execution_count": null,
   "metadata": {
    "collapsed": false,
    "scrolled": false
   },
   "outputs": [],
   "source": [
    "df_users['profile.real_name']"
   ]
  },
  {
   "cell_type": "code",
   "execution_count": null,
   "metadata": {
    "collapsed": false
   },
   "outputs": [],
   "source": [
    "df_users.index.values"
   ]
  },
  {
   "cell_type": "code",
   "execution_count": null,
   "metadata": {
    "collapsed": false
   },
   "outputs": [],
   "source": [
    "data = []\n",
    "\n",
    "# for i, row in df_users[['profile.real_name']].iterrows()\n",
    "\n",
    "user_id = 'U0HLS92BX'\n",
    "user_name = 'Matthew Voshell'\n",
    "\n",
    "print(user_name)\n",
    "for j, row in df[['user','message']].iterrows():\n",
    "    user = row['user']\n",
    "    if user == user_id:\n",
    "        tag = 'pos'\n",
    "    else:\n",
    "        tag = 'neg'\n",
    "    data.append( (tag, row['message']) )\n",
    "\n",
    "data"
   ]
  },
  {
   "cell_type": "code",
   "execution_count": null,
   "metadata": {
    "collapsed": false
   },
   "outputs": [],
   "source": [
    "# This is the number of positive sentences\n",
    "len([tag for (tag, s) in data if tag=='pos'])"
   ]
  },
  {
   "cell_type": "code",
   "execution_count": null,
   "metadata": {
    "collapsed": false
   },
   "outputs": [],
   "source": [
    "# This is the number of negative sentences\n",
    "len([tag for (tag, s) in data if tag=='neg'])"
   ]
  },
  {
   "cell_type": "code",
   "execution_count": null,
   "metadata": {
    "collapsed": false
   },
   "outputs": [],
   "source": [
    "import nltk\n",
    "\n",
    "def features(msg):\n",
    "    if msg==None or len(msg)==0 or pd.isnull(msg):\n",
    "        return {}\n",
    "    sent_tokens = nltk.word_tokenize(msg)\n",
    "    # document_words = nltk.pos_tag(sent_tokens)\n",
    "    features = {}\n",
    "    #for word, tag in document_words:\n",
    "    for word in sent_tokens:\n",
    "        if word in df_users.index.values:\n",
    "            continue\n",
    "        if '|' in word:\n",
    "            continue\n",
    "        #if tag.startswith('NNP'):\n",
    "        #features['%s/%s' % (word, tag)] = True\n",
    "        features[word] = True\n",
    "    return features\n",
    "\n",
    "labeled_features = [(features(sent), tag) for (tag, sent) in data]"
   ]
  },
  {
   "cell_type": "code",
   "execution_count": null,
   "metadata": {
    "collapsed": false
   },
   "outputs": [],
   "source": [
    "import random\n",
    "\n",
    "test_set_size = int(len(labeled_features)/8)\n",
    "random.shuffle(labeled_features)\n",
    "train_set, test_set = labeled_features[test_set_size:], labeled_features[:test_set_size]\n"
   ]
  },
  {
   "cell_type": "code",
   "execution_count": null,
   "metadata": {
    "collapsed": true
   },
   "outputs": [],
   "source": [
    "classifier = nltk.NaiveBayesClassifier.train(train_set)"
   ]
  },
  {
   "cell_type": "code",
   "execution_count": null,
   "metadata": {
    "collapsed": false
   },
   "outputs": [],
   "source": [
    "msg = classifier.show_most_informative_features(100)"
   ]
  },
  {
   "cell_type": "code",
   "execution_count": null,
   "metadata": {
    "collapsed": true
   },
   "outputs": [],
   "source": [
    "m = '''\n",
    "                Material = True              pos : neg    =    252.5 : 1.0\n",
    "                  pinned = True              pos : neg    =    199.3 : 1.0\n",
    "                 `Today` = True              pos : neg    =    191.9 : 1.0\n",
    "                     Yea = True              pos : neg    =    177.4 : 1.0\n",
    "                   Image = True              pos : neg    =    171.7 : 1.0\n",
    "                  Design = True              pos : neg    =    165.5 : 1.0\n",
    "       utm_medium=social = True              pos : neg    =    151.5 : 1.0\n",
    "           //medium.com/ = True              pos : neg    =    151.5 : 1.0\n",
    "                     yea = True              pos : neg    =    133.7 : 1.0\n",
    "              Foundation = True              pos : neg    =    131.3 : 1.0\n",
    "                 YouTube = True              pos : neg    =    131.3 : 1.0\n",
    "     utm_campaign=buffer = True              pos : neg    =    131.3 : 1.0\n",
    "                  worthy = True              pos : neg    =    111.1 : 1.0\n",
    "                invision = True              pos : neg    =    111.1 : 1.0\n",
    "                   now.. = True              pos : neg    =    111.1 : 1.0\n",
    "                     biz = True              pos : neg    =    111.1 : 1.0\n",
    "                  sketch = True              pos : neg    =    103.0 : 1.0\n",
    "                   whois = True              pos : neg    =     90.9 : 1.0\n",
    "                    York = True              pos : neg    =     90.9 : 1.0\n",
    "//i.giphy.com/Q56SF4czEtSZG.gif = True              pos : neg    =     90.9 : 1.0\n",
    "                 sprints = True              pos : neg    =     90.9 : 1.0\n",
    "  utm_source=twitter.com = True              pos : neg    =     90.9 : 1.0\n",
    "                 Channel = True              pos : neg    =     90.9 : 1.0\n",
    "                      ha = True              pos : neg    =     81.9 : 1.0\n",
    "                  lookup = True              pos : neg    =     78.8 : 1.0\n",
    "                  walked = True              pos : neg    =     70.7 : 1.0\n",
    "                  time.. = True              pos : neg    =     70.7 : 1.0\n",
    "              Experience = True              pos : neg    =     70.7 : 1.0\n",
    "                personas = True              pos : neg    =     70.7 : 1.0\n",
    "                   staff = True              pos : neg    =     70.7 : 1.0\n",
    "'''"
   ]
  },
  {
   "cell_type": "code",
   "execution_count": null,
   "metadata": {
    "collapsed": false
   },
   "outputs": [],
   "source": [
    "sc.api_call(\"chat.postMessage\", channel=\"#bot_stats\", text=\"@matthew characteristic phrases:\\n```\"+m+\"```\")"
   ]
  },
  {
   "cell_type": "code",
   "execution_count": null,
   "metadata": {
    "collapsed": true
   },
   "outputs": [],
   "source": []
  }
 ],
 "metadata": {
  "kernelspec": {
   "display_name": "Python 3",
   "language": "python",
   "name": "python3"
  },
  "language_info": {
   "codemirror_mode": {
    "name": "ipython",
    "version": 3
   },
   "file_extension": ".py",
   "mimetype": "text/x-python",
   "name": "python",
   "nbconvert_exporter": "python",
   "pygments_lexer": "ipython3",
   "version": "3.5.2"
  }
 },
 "nbformat": 4,
 "nbformat_minor": 0
}
