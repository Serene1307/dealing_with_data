{
 "cells": [
  {
   "cell_type": "markdown",
   "metadata": {},
   "source": [
    "## Web API's continued: Face Recognition, Entity Extraction, etc"
   ]
  },
  {
   "cell_type": "markdown",
   "metadata": {},
   "source": [
    "Now let's try to play with a few APIs that are a bit more complex than the ones that we dealt earlier.\n",
    "\n",
    "## FacePlusPlus API: Face Recognition\n",
    "\n",
    "Let's start with the FacePlusPlus API that allows us to recognize faces. We will call the API through Mashape, which will also allow us to learn about _headers_, which is an additional piece of information that we send to APIs, in addition to parameters. The documentation of Face++ on Mashape can be found at https://market.mashape.com/faceplusplus/faceplusplus-face-detection.\n",
    "\n",
    "We will start by analyzing the image below, which is accessible through this URL: http://graphics8.nytimes.com/newsgraphics/2016/02/01/iowa-hp/dd8cb1e066b52661f94bb2306fc54189f1c3325e/hp-kk-dem-1.jpg"
   ]
  },
  {
   "cell_type": "markdown",
   "metadata": {},
   "source": [
    "![Image from NY Times](http://graphics8.nytimes.com/newsgraphics/2016/02/01/iowa-hp/dd8cb1e066b52661f94bb2306fc54189f1c3325e/hp-kk-dem-1.jpg)"
   ]
  },
  {
   "cell_type": "code",
   "execution_count": null,
   "metadata": {
    "collapsed": false
   },
   "outputs": [],
   "source": [
    "import requests\n",
    "import json\n",
    "\n",
    "facepp_url = \"https://faceplusplus-faceplusplus.p.mashape.com/detection/detect\"\n",
    "img_url = \"http://graphics8.nytimes.com/newsgraphics/2016/02/01/iowa-hp/dd8cb1e066b52661f94bb2306fc54189f1c3325e/hp-kk-dem-1.jpg\"\n",
    "\n",
    "headers = {\n",
    "  \"X-Mashape-Key\": \"zG3wec50exmshxNoF1NMHNRH37GYp1d7oW8jsnWwIMTeMmALxg\",\n",
    "  \"Accept\": \"application/json\"\n",
    "}\n",
    "parameters = {\n",
    "    'attributes': 'glass,pose,gender,age,race,smiling',\n",
    "    'url': img_url\n",
    "}\n",
    "\n",
    "data = requests.get(facepp_url, params=parameters, headers=headers, verify=True).json()\n"
   ]
  },
  {
   "cell_type": "code",
   "execution_count": null,
   "metadata": {
    "collapsed": false
   },
   "outputs": [],
   "source": [
    "data"
   ]
  },
  {
   "cell_type": "code",
   "execution_count": null,
   "metadata": {
    "collapsed": false
   },
   "outputs": [],
   "source": [
    "data.keys()"
   ]
  },
  {
   "cell_type": "code",
   "execution_count": null,
   "metadata": {
    "collapsed": false
   },
   "outputs": [],
   "source": [
    "# The \"face\" attribute contains a list, and each element of the list is a dictionary\n",
    "len(data[\"face\"])"
   ]
  },
  {
   "cell_type": "markdown",
   "metadata": {},
   "source": [
    "#### Exercise\n",
    "\n",
    "* Print the gender, age, race, and smiling attributes for each face\n",
    "* Do an image search and get an image URL from the Internet, preferably with multiple faces. Repeat the task above for the new image."
   ]
  },
  {
   "cell_type": "code",
   "execution_count": null,
   "metadata": {
    "collapsed": true
   },
   "outputs": [],
   "source": [
    "# your code here"
   ]
  },
  {
   "cell_type": "markdown",
   "metadata": {},
   "source": [
    "### Interacting with the IBM Watson Alchemy API; POST vs GET\n",
    "\n",
    "Another useful API, especially when dealing with text, is the IBM Watson [Alchemy Language API](https://www.ibm.com/watson/developercloud/alchemy-language.html), which offers a variety of text analysis functionalities, such as sentiment analysis, entity extraction, keyword extraction, etc (see the main page for tutorials and the [API documentation](https://www.ibm.com/watson/developercloud/alchemy-language/api/v1/) for detailed description of each API call).\n",
    "\n",
    "#### TextGetTextSentiment call\n",
    "\n",
    "Full Documentation of the call at https://www.ibm.com/watson/developercloud/alchemy-language/api/v1/#sentiment\n",
    "\n",
    "We will first start with the TextGetTextSentiment API call, which takes as input a piece of text, and returns a sentiment value associated with it. \n",
    "\n",
    "With this API call, we will use for the first time the \"POST\" method, as opposed to the \"GET\" method that we used so far. The \"POST\" method is used when the size of the parameters that we need to pass to the API is to big (e.g., analyzing a piece of long text for sentiment). In such cases, we need to use the \"POST\" options as opposed to the \"GET\" function (although admittedly, many APIs will try to be forgiving).\n",
    "\n",
    "The call below gets as input a \"text\" variable, and returns back the sentiment of the text."
   ]
  },
  {
   "cell_type": "code",
   "execution_count": null,
   "metadata": {
    "collapsed": false
   },
   "outputs": [],
   "source": [
    "import requests\n",
    "import json\n",
    "\n",
    "url = \"http://access.alchemyapi.com/calls/text/TextGetTextSentiment\"\n",
    "\n",
    "# You can register and get your own key\n",
    "api_key = '4b46c7859a7be311b6f9389b12504e302cac0a55'\n",
    "\n",
    "text = '''\n",
    "If things go as promised, Trump won’t be there Thursday when Fox hosts the final Republican debate before Monday’s Iowa presidential caucuses. He says he’s backing out because of a taunting statement from Fox, though his detractors accuse him of dodging a last showdown with his chief rival, Sen. Ted Cruz (Tex.). Instead, Trump has made plans to materialize elsewhere in Iowa, hosting a benefit for wounded veterans — counter-programming on a ­Trumpian scale of swagger.\n",
    "\n",
    "His threatened absence from the debate stage is a demonstration of Trump’s perception of his own self-worth, his verifiable status as a ratings-generating gargantuan whose screen persona can translate into millions of advertising dollars. In a sense, it’s an act of subversion by a candidate who has broken all the normal rules of modern campaigns. But it’s also a manifestation of Trump’s philosophy about getting what he wants when he wants it.\n",
    "'''\n",
    "\n",
    "headers = {\n",
    "  \"Accept\": \"application/json\"\n",
    "}\n",
    "\n",
    "parameters = {\n",
    "    'outputMode': 'json',\n",
    "    'apikey' : api_key,\n",
    "    'text': text,\n",
    "}\n",
    "\n",
    "resp = requests.post(url, params=parameters, headers=headers)\n",
    "data = json.loads(resp.text)\n",
    "\n",
    "data"
   ]
  },
  {
   "cell_type": "markdown",
   "metadata": {},
   "source": [
    "#### URLGetRankedNamedEntities call\n",
    "\n",
    "Full Documentation of the call at https://www.ibm.com/watson/developercloud/alchemy-language/api/v1/#entities\n",
    "\n",
    "\n",
    "And here is a different API call that extracts entities from the text, and also the sentiment for each of these entities. You will also see that there is the capability of \"normalizing\" each entity, so that two different ways of saying the same thing get mapped to the same entity. So for example, \"President Trump\" and \"Donald Trump\" get mapped to the same Knowledge Graph entity."
   ]
  },
  {
   "cell_type": "code",
   "execution_count": null,
   "metadata": {
    "collapsed": false
   },
   "outputs": [],
   "source": [
    "import requests\n",
    "\n",
    "url = \"http://gateway-a.watsonplatform.net/calls/url/URLGetRankedNamedEntities\"\n",
    "\n",
    "# You can register and get your own key\n",
    "api_key = '4b46c7859a7be311b6f9389b12504e302cac0a55'\n",
    "\n",
    "text_url = 'https://www.washingtonpost.com/politics/question-whats-clintons-message-answer-all-of-the-above/2016/02/06/5df28fcc-cc4a-11e5-88ff-e2d1b4289c2f_story.html'\n",
    "headers = {\n",
    "  \"Accept\": \"application/json\"\n",
    "}\n",
    "\n",
    "parameters = {\n",
    "    'outputMode': 'json',\n",
    "    'apikey' : api_key,\n",
    "    'sentiment' :1,\n",
    "    'knowledgeGraph': 1,\n",
    "    'url': text_url\n",
    "}\n",
    "\n",
    "resp = requests.post(url, params=parameters, headers=headers)\n",
    "data = resp.json()\n"
   ]
  },
  {
   "cell_type": "code",
   "execution_count": null,
   "metadata": {
    "collapsed": false
   },
   "outputs": [],
   "source": [
    "# Let's see what we get back as top-level attributes\n",
    "data.keys()"
   ]
  },
  {
   "cell_type": "code",
   "execution_count": null,
   "metadata": {
    "collapsed": false
   },
   "outputs": [],
   "source": [
    "# Let' see the entities list\n",
    "data[\"entities\"]"
   ]
  },
  {
   "cell_type": "code",
   "execution_count": null,
   "metadata": {
    "collapsed": false
   },
   "outputs": [],
   "source": [
    "# Let' see the first entity. Notice the \"disambiguated\" attribute that\n",
    "# points to \"canonical\" versions of the entity, in DBPedia, Freebase, OpenCYC, YAGO, etc\n",
    "data[\"entities\"][0]"
   ]
  },
  {
   "cell_type": "markdown",
   "metadata": {
    "collapsed": true
   },
   "source": [
    "#### Exercise\n",
    "\n",
    "* Fetch the main page of NY Times. Print the entities that are currently being discussed in the news, together with their relevance value and the associated sentiment.\n",
    "* _Optional:_ Use the NY Times API to fetch the Top Stories News. You can register and get an API key at https://developer.nytimes.com/. The `Top Stories V2 API` provides the details of the news of the day: (The API call documentation is at https://developer.nytimes.com/top_stories_v2.json and the API Call is  https://api.nytimes.com/svc/topstories/v2/home.json?api-key=PUTYOURKEYHERE). Repeat the entity extraction process from above."
   ]
  },
  {
   "cell_type": "code",
   "execution_count": null,
   "metadata": {
    "collapsed": true
   },
   "outputs": [],
   "source": [
    "# your code here"
   ]
  },
  {
   "cell_type": "markdown",
   "metadata": {
    "collapsed": true
   },
   "source": [
    "### Exercise: Using the Spotify API\n",
    "\n",
    "We will now use the Spotify API to get information about an artist. The documentation of the calls is at https://developer.spotify.com/web-api/endpoint-reference/. For now, use only the calls that do not require an OAuth authentication. \n",
    "\n",
    "Tasks:\n",
    "* We can first find the id of an artist using the `/v1/search?type=artist` API call. The documentation of the `search-item` endpoint is at https://developer.spotify.com/web-api/search-item/.\n",
    "* Once you get back the ID of the artist, use the `get artist` endpoint, to get further information about the artist: https://developer.spotify.com/web-api/get-artist/\n",
    "* Study the documentation and figure out how to get the albums of an article, the top tracks for an artist, and the related artists.\n",
    "\n",
    "\n",
    "\n"
   ]
  },
  {
   "cell_type": "code",
   "execution_count": null,
   "metadata": {
    "collapsed": true
   },
   "outputs": [],
   "source": []
  }
 ],
 "metadata": {
  "kernelspec": {
   "display_name": "Python 3",
   "language": "python",
   "name": "python3"
  },
  "language_info": {
   "codemirror_mode": {
    "name": "ipython",
    "version": 3
   },
   "file_extension": ".py",
   "mimetype": "text/x-python",
   "name": "python",
   "nbconvert_exporter": "python",
   "pygments_lexer": "ipython3",
   "version": "3.5.2"
  }
 },
 "nbformat": 4,
 "nbformat_minor": 0
}
