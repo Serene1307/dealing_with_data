{
 "cells": [
  {
   "cell_type": "markdown",
   "metadata": {},
   "source": [
    "Regular Expressions\n",
    "-------------------\n",
    "\n",
    "Regular expressions (regexes or re’s) constitute an extremely powerful, flexible and concise language for matching elements in text ranging from a few characters to complex patterns. While mastering the syntax of the regular expression language does require climbing a learning curve, this learning curve is not particularly steep, and a newcomer can find herself performing useful tasks with regular expressions almost immediately. Efforts spent learning regular expressions quickly pay off--tasks that are well suited for regular expressions abound. Indeed, regular expressions are one of the most useful computer skills, and an absolutely critical tool for data scientists. "
   ]
  },
  {
   "cell_type": "markdown",
   "metadata": {},
   "source": [
    "This document will present basic regular expression syntax and cover common use cases for regular expressions: pattern matching, filtering, data extraction, and string replacement. We will present examples using grep, which we covered previously. (In case you forgot, we used grep to find lines of a text file with a given string in them.) "
   ]
  },
  {
   "cell_type": "markdown",
   "metadata": {},
   "source": [
    "### `grep`:\n",
    "\n",
    "A utility for pattern matching. grep is by far the most useful unix utility. grep is typically called like this: \n",
    "\n",
    "`grep [options] [pattern] [files]`. \n",
    "\n",
    "With no options specified, this simply looks for the specified pattern in the given files, printing to the console only those lines that match the given pattern. \n",
    "\n",
    "Consider the file sample.txt (which we have downloaded previously):"
   ]
  },
  {
   "cell_type": "code",
   "execution_count": 1,
   "metadata": {
    "collapsed": false
   },
   "outputs": [
    {
     "name": "stdout",
     "output_type": "stream",
     "text": [
      "  % Total    % Received % Xferd  Average Speed   Time    Time     Time  Current\n",
      "                                 Dload  Upload   Total   Spent    Left  Speed\n",
      "100   201  100   201    0     0    837      0 --:--:-- --:--:-- --:--:--   837\n"
     ]
    }
   ],
   "source": [
    "!curl -L 'https://dl.dropboxusercontent.com/u/16006464/IPDS/sample.txt' -o sample.txt"
   ]
  },
  {
   "cell_type": "code",
   "execution_count": 2,
   "metadata": {
    "collapsed": false
   },
   "outputs": [
    {
     "name": "stdout",
     "output_type": "stream",
     "text": [
      "123\t1346699925\t11122\tfoo bar\r\n",
      "222\t1346699955\t11145\tbiz baz\r\n",
      "140\t1346710000\t11122\thee haw\r\n",
      "234\t1346700000\t11135\tbip bop\r\n",
      "146\t1346699999\t11123\tfoo bar\r\n",
      "99\t1346750000\t11135\tbip bop\r\n",
      "99\t1346750000\t11135\tbip bop\r\n"
     ]
    }
   ],
   "source": [
    "!cat sample.txt"
   ]
  },
  {
   "cell_type": "markdown",
   "metadata": {},
   "source": [
    "If we are trying to find a line that contains the string 'biz baz' in the sample.txt file, we issue the command:"
   ]
  },
  {
   "cell_type": "code",
   "execution_count": 3,
   "metadata": {
    "collapsed": false
   },
   "outputs": [
    {
     "name": "stdout",
     "output_type": "stream",
     "text": [
      "222\t1346699955\t11145\tbiz baz\r\n"
     ]
    }
   ],
   "source": [
    "!grep 'biz baz' sample.txt"
   ]
  },
  {
   "cell_type": "markdown",
   "metadata": {},
   "source": [
    "If we search for the lines containing the string 'foo bar' we type:"
   ]
  },
  {
   "cell_type": "code",
   "execution_count": 4,
   "metadata": {
    "collapsed": false
   },
   "outputs": [
    {
     "name": "stdout",
     "output_type": "stream",
     "text": [
      "123\t1346699925\t11122\tfoo bar\r\n",
      "146\t1346699999\t11123\tfoo bar\r\n"
     ]
    }
   ],
   "source": [
    "!grep 'foo bar' sample.txt"
   ]
  },
  {
   "cell_type": "markdown",
   "metadata": {},
   "source": [
    "If you want to see grep marking the regular expression in color, you can pass the parameter \"--color=always\". "
   ]
  },
  {
   "cell_type": "code",
   "execution_count": 5,
   "metadata": {
    "collapsed": false
   },
   "outputs": [
    {
     "name": "stdout",
     "output_type": "stream",
     "text": [
      "123\t1346699925\t11122\t\u001b[01;31m\u001b[Kfoo bar\u001b[m\u001b[K\r\n",
      "146\t1346699999\t11123\t\u001b[01;31m\u001b[Kfoo bar\u001b[m\u001b[K\r\n"
     ]
    }
   ],
   "source": [
    "!grep --color=always 'foo bar' sample.txt"
   ]
  },
  {
   "cell_type": "markdown",
   "metadata": {},
   "source": [
    "If you also use the command `less` together with grep, you will want to pass the parameter -R to less, to allow less to display the colors:\n",
    "\n",
    "`grep --color=always 'foo bar' sample.txt | less -R`"
   ]
  },
  {
   "cell_type": "markdown",
   "metadata": {},
   "source": [
    "### NYC Restaurant Names Data\n",
    "\n",
    "To have a longer data set to play with, let's download the list of restaurant names from the NYC Restaurant Inspection Dataset. (I have already extracted the names from the file, removed duplicates, and sorted them, to save us time. As an exercise, you may want to take the original 100Mb dataset, and then use the UNIX commands that we described previously to generate the file)"
   ]
  },
  {
   "cell_type": "code",
   "execution_count": 6,
   "metadata": {
    "collapsed": false
   },
   "outputs": [
    {
     "name": "stdout",
     "output_type": "stream",
     "text": [
      "  % Total    % Received % Xferd  Average Speed   Time    Time     Time  Current\n",
      "                                 Dload  Upload   Total   Spent    Left  Speed\n",
      "100  364k  100  364k    0     0  1381k      0 --:--:-- --:--:-- --:--:-- 1384k\n"
     ]
    }
   ],
   "source": [
    "!curl -L 'https://dl.dropboxusercontent.com/u/16006464/DwD_Winter2015/uniquenames.txt' -o /home/ubuntu/data/uniquenames.txt"
   ]
  },
  {
   "cell_type": "markdown",
   "metadata": {},
   "source": [
    "Let's take a peek at the contents using the `head` and `tail` commands:"
   ]
  },
  {
   "cell_type": "code",
   "execution_count": 7,
   "metadata": {
    "collapsed": false
   },
   "outputs": [
    {
     "name": "stdout",
     "output_type": "stream",
     "text": [
      "/home/ubuntu/data\n"
     ]
    }
   ],
   "source": [
    "#change the working directory for iPython\n",
    "%cd /home/ubuntu/data "
   ]
  },
  {
   "cell_type": "code",
   "execution_count": 8,
   "metadata": {
    "collapsed": false
   },
   "outputs": [
    {
     "name": "stdout",
     "output_type": "stream",
     "text": [
      "#1 GARDEN CHINESE\n",
      "#1 ME. NICK'S\n",
      "#1 SABOR LATINO RESTAURANT\n",
      "$1.25 PIZZA\n",
      "''U'' LIKE CHINESE RESTAURANT\n",
      "''W'' CAFE\n",
      "'WICHCRAFT\n",
      "(LEWIS DRUG STORE) LOCANDA VINI E OLII\n",
      "(LIBRARY)  FOUR & TWENTY BLACKBIRDS\n",
      "(PUBLIC FARE) 81ST STREET AND CENTRAL PARK WEST (DELACORTE THEATRE)\n",
      "........\n",
      "ZUCKER'S BAGELS AND SMOKED FISH\n",
      "ZUM SCHNEIDER\n",
      "ZUM STAMMTISCH\n",
      "ZUMA JAPANESE RESTAURANT NEW YORK\n",
      "ZUMBA RESTAURANT\n",
      "ZUTTO\n",
      "ZUZU RAMEN\n",
      "ZYMI BAR & GRILL\n",
      "ZZ CLAM BAR\n",
      "ZZ'S PIZZA & GRILL\n"
     ]
    }
   ],
   "source": [
    "!head -10 uniquenames.txt\n",
    "!echo '........' # The \"echo\" command just prints in the output the string that follows the command (in this case \"......\")\n",
    "!tail -10 uniquenames.txt"
   ]
  },
  {
   "cell_type": "markdown",
   "metadata": {},
   "source": [
    "Now, let's see if there are any restaurants with the string 'PANO' in them:"
   ]
  },
  {
   "cell_type": "code",
   "execution_count": 11,
   "metadata": {
    "collapsed": false
   },
   "outputs": [
    {
     "name": "stdout",
     "output_type": "stream",
     "text": [
      "BUFFALO WILD WINGS,PEETS COOFEE &TEA, \u001b[01;31m\u001b[KPANO\u001b[m\u001b[KPOLIS BAKERY & CAFE\r\n",
      "CAFE ES\u001b[01;31m\u001b[KPANO\u001b[m\u001b[KL\r\n",
      "EL CHARRO ES\u001b[01;31m\u001b[KPANO\u001b[m\u001b[KL\r\n",
      "EL POTE ES\u001b[01;31m\u001b[KPANO\u001b[m\u001b[KL\r\n",
      "LA CANDELA ES\u001b[01;31m\u001b[KPANO\u001b[m\u001b[KLA\r\n",
      "PAM\u001b[01;31m\u001b[KPANO\u001b[m\u001b[K\r\n",
      "\u001b[01;31m\u001b[KPANO\u001b[m\u001b[KRAMA OF MY SILENCE-HEART\r\n",
      "\u001b[01;31m\u001b[KPANO\u001b[m\u001b[KRAMA RESTAURANT\r\n",
      "TIGIN IRISH PUB,PEETS COFFEE&TEA,\u001b[01;31m\u001b[KPANO\u001b[m\u001b[KPOLIS BAKERY&CAFE\r\n"
     ]
    }
   ],
   "source": [
    "!grep --color=always 'PANO' uniquenames.txt"
   ]
  },
  {
   "cell_type": "markdown",
   "metadata": {},
   "source": [
    "What can we do if we want to search for something more complex than a fixed string? Regular expressions are solving exactly this problem. \n",
    "\n",
    "### The atoms\n",
    "\n",
    "The simplest regular expressions are a sequence of `atoms`. An atom can be any of the following:\n",
    "* single character, \n",
    "* a dot,\n",
    "* a bracket expression, \n",
    "* an anchor.\n",
    "\n",
    "#### Single character atom\n",
    "\n",
    "A single character atom matches itself.\n",
    "\n",
    "#### The `.` character atom\n",
    "\n",
    "A dot atom matches any single character (except for a new line character `\\n`)."
   ]
  },
  {
   "cell_type": "markdown",
   "metadata": {},
   "source": [
    "Example: Using single character atoms, and the `.` atom, let's find all restaurant names that contain the characters `AB`, followed by any character (`.`) and then the character `D`:"
   ]
  },
  {
   "cell_type": "code",
   "execution_count": 12,
   "metadata": {
    "collapsed": false
   },
   "outputs": [
    {
     "name": "stdout",
     "output_type": "stream",
     "text": [
      "\u001b[01;31m\u001b[KABID\u001b[m\u001b[KE BROOKLYN PITA\r\n",
      "JJ PE\u001b[01;31m\u001b[KABOD\u001b[m\u001b[KY'S\r\n",
      "L\u001b[01;31m\u001b[KABAD\u001b[m\u001b[KEE MANOIR\r\n",
      "NEW KAB\u001b[01;31m\u001b[KAB D\u001b[m\u001b[KINER\r\n",
      "RESTAURANT \u001b[01;31m\u001b[KABID\u001b[m\u001b[KJAN\r\n"
     ]
    }
   ],
   "source": [
    "!grep --color=always 'AB.D' uniquenames.txt "
   ]
  },
  {
   "cell_type": "code",
   "execution_count": 13,
   "metadata": {
    "collapsed": false
   },
   "outputs": [
    {
     "name": "stdout",
     "output_type": "stream",
     "text": [
      "99 CENTS MEG\u001b[01;31m\u001b[KA PIZ\u001b[m\u001b[KZA\r\n",
      "ALB\u001b[01;31m\u001b[KA PIZ\u001b[m\u001b[KZA\r\n",
      "ALITALI\u001b[01;31m\u001b[KA PIZ\u001b[m\u001b[KZA RESTAURANT\r\n",
      "\u001b[01;31m\u001b[KALMAZ\u001b[m\u001b[K RESTAURANT\r\n",
      "\u001b[01;31m\u001b[KANDAZ\u001b[m\u001b[K\r\n",
      "\u001b[01;31m\u001b[KANDAZ\u001b[m\u001b[K FIFTH AVENUE\r\n",
      "ANGELIC\u001b[01;31m\u001b[KA PIZ\u001b[m\u001b[KZERIA\r\n",
      "ANNA MARI\u001b[01;31m\u001b[KA PIZ\u001b[m\u001b[KZA PASTA\r\n",
      "ANTIK\u001b[01;31m\u001b[KA PIZ\u001b[m\u001b[KZERIA\r\n",
      "ANTILLAN\u001b[01;31m\u001b[KA PIZ\u001b[m\u001b[KZERIA\r\n",
      "\u001b[01;31m\u001b[KAPIZZ\u001b[m\u001b[K RESTAURANT\r\n",
      "\u001b[01;31m\u001b[KARBUZ\u001b[m\u001b[K\r\n",
      "ASI\u001b[01;31m\u001b[KA BAZ\u001b[m\u001b[KARR\r\n",
      "ASTORI\u001b[01;31m\u001b[KA PIZ\u001b[m\u001b[KZA\r\n",
      "ASTORI\u001b[01;31m\u001b[KA PIZ\u001b[m\u001b[KZA FACTORY\r\n",
      "BELLA DONN\u001b[01;31m\u001b[KA PIZ\u001b[m\u001b[KZERIA\r\n",
      "BELLA DONN\u001b[01;31m\u001b[KA PIZ\u001b[m\u001b[KZZA\r\n",
      "BELL\u001b[01;31m\u001b[KA PIZ\u001b[m\u001b[KZA\r\n",
      "BELL\u001b[01;31m\u001b[KA PIZ\u001b[m\u001b[KZA OF BRONX\r\n",
      "BELLA ROM\u001b[01;31m\u001b[KA PIZ\u001b[m\u001b[KZA\r\n",
      "BELL\u001b[01;31m\u001b[KA ROZ\u001b[m\u001b[KA\r\n",
      "BELLA SER\u001b[01;31m\u001b[KA PIZ\u001b[m\u001b[KZA \r\n",
      "BELLA VIT\u001b[01;31m\u001b[KA PIZ\u001b[m\u001b[KZERIA\r\n",
      "BELMOR\u001b[01;31m\u001b[KA PIZ\u001b[m\u001b[KZA & RESTAURANT\r\n",
      "BON\u001b[01;31m\u001b[KA PIZ\u001b[m\u001b[KZA\r\n",
      "BRONX LAL\u001b[01;31m\u001b[KA PIZ\u001b[m\u001b[KZA\r\n",
      "BUON\u001b[01;31m\u001b[KA PIZ\u001b[m\u001b[KZA RESTAURANT\r\n",
      "BUONISSIM\u001b[01;31m\u001b[KA PIZ\u001b[m\u001b[KZERIA\r\n",
      "CAFE BAR N\u001b[01;31m\u001b[KAVRUZ\u001b[m\u001b[K\r\n",
      "CAFE ROM\u001b[01;31m\u001b[KA PIZ\u001b[m\u001b[KZERIA\r\n",
      "C\u001b[01;31m\u001b[KAFE Z\u001b[m\u001b[KAIYA\r\n",
      "C\u001b[01;31m\u001b[KAFE Z\u001b[m\u001b[KONA SUR\r\n",
      "CALIFORNI\u001b[01;31m\u001b[KA PIZ\u001b[m\u001b[KZA KITCHEN\r\n",
      "C\u001b[01;31m\u001b[KAPIZZ\u001b[m\u001b[KI\r\n",
      "C\u001b[01;31m\u001b[KARRIZ\u001b[m\u001b[KAL RESTAURANT\r\n",
      "CAS\u001b[01;31m\u001b[KA MEZ\u001b[m\u001b[KCAL\r\n",
      "CASABIANC\u001b[01;31m\u001b[KA PIZ\u001b[m\u001b[KZERIA\r\n",
      "CATERIN\u001b[01;31m\u001b[KA PIZ\u001b[m\u001b[KZA\r\n",
      "CHE BELL\u001b[01;31m\u001b[KA PIZ\u001b[m\u001b[KZA\r\n",
      "COPACABAN\u001b[01;31m\u001b[KA PIZ\u001b[m\u001b[KZA & GRILL\r\n",
      "CORON\u001b[01;31m\u001b[KA PIZ\u001b[m\u001b[KZA\r\n",
      "DELI PIZZ\u001b[01;31m\u001b[KA PIZ\u001b[m\u001b[KZERIA & TAQUERIA\r\n",
      "DI FAR\u001b[01;31m\u001b[KA PIZ\u001b[m\u001b[KZERIA\r\n",
      "DINA RATA AT \u001b[01;31m\u001b[KANDAZ\u001b[m\u001b[K WALL STREET HOTEL\r\n",
      "DOUM\u001b[01;31m\u001b[KA PIZ\u001b[m\u001b[KZA\r\n",
      "EL S\u001b[01;31m\u001b[KABROZ\u001b[m\u001b[KON\r\n",
      "ELIMATT GALLERI\u001b[01;31m\u001b[KA PIZ\u001b[m\u001b[KZA\r\n",
      "EMPIRE CHINESE RESTAUR\u001b[01;31m\u001b[KANT Z\u001b[m\u001b[KHENG\r\n",
      "FAMOUS FAMIGLI\u001b[01;31m\u001b[KA PIZ\u001b[m\u001b[KZA\r\n",
      "FIN\u001b[01;31m\u001b[KA PIZ\u001b[m\u001b[KZA BAR\r\n",
      "FORCELL\u001b[01;31m\u001b[KA PIZ\u001b[m\u001b[KZA NAPOLI\r\n",
      "FRANCISC\u001b[01;31m\u001b[KA PIZ\u001b[m\u001b[KZERIA BAGEL CAFE\r\n",
      "GABRIEL\u001b[01;31m\u001b[KA PIZ\u001b[m\u001b[KZERIA & RESTAURANT\r\n",
      "GLORI\u001b[01;31m\u001b[KA PIZ\u001b[m\u001b[KZA\r\n",
      "GOU B\u001b[01;31m\u001b[KANG Z\u001b[m\u001b[KI CHICKEN\r\n",
      "GRANDM\u001b[01;31m\u001b[KA PIZ\u001b[m\u001b[KZA\r\n",
      "GRAZIELL\u001b[01;31m\u001b[KA PIZ\u001b[m\u001b[KZERIA\r\n",
      "GROTT\u001b[01;31m\u001b[KA AZZ\u001b[m\u001b[KURRA\r\n",
      "GROTTO AZZUR\u001b[01;31m\u001b[KA PIZ\u001b[m\u001b[KZERIA\r\n",
      "GUSTOS\u001b[01;31m\u001b[KA PIZ\u001b[m\u001b[KZA\r\n",
      "IL P\u001b[01;31m\u001b[KALAZZ\u001b[m\u001b[KO\r\n",
      "IL TR\u001b[01;31m\u001b[KAMEZZ\u001b[m\u001b[KINO\r\n",
      "INDISKIA FERN\u001b[01;31m\u001b[KANDEZ\u001b[m\u001b[K\r\n",
      "ITALI\u001b[01;31m\u001b[KA PIZ\u001b[m\u001b[KZA\r\n",
      "IVAN\u001b[01;31m\u001b[KA PIZ\u001b[m\u001b[KZA\r\n",
      "JUAN V\u001b[01;31m\u001b[KALDEZ\u001b[m\u001b[K CAFE\r\n",
      "K\u001b[01;31m\u001b[KABOOZ\u001b[m\u001b[K'S BAR & GRILLE\r\n",
      "K\u001b[01;31m\u001b[KAN IZ\u001b[m\u001b[KAKAYA\r\n",
      "K\u001b[01;31m\u001b[KAVKAZ\u001b[m\u001b[K RESTAURANT INC\r\n",
      "K\u001b[01;31m\u001b[KAVKAZ\u001b[m\u001b[KKIY DVORIK\r\n",
      "K\u001b[01;31m\u001b[KAVKAZ\u001b[m\u001b[KSKIY DVORIK\r\n",
      "KIABACC\u001b[01;31m\u001b[KA PIZ\u001b[m\u001b[KZA AND BEER\r\n",
      "L \u001b[01;31m\u001b[KAND Z\u001b[m\u001b[K BAKERY\r\n",
      "LA BELL\u001b[01;31m\u001b[KA PIZ\u001b[m\u001b[KZA\r\n",
      "LA BELL\u001b[01;31m\u001b[KA PIZ\u001b[m\u001b[KZA EXPRESS\r\n",
      "LA BELL\u001b[01;31m\u001b[KA PIZ\u001b[m\u001b[KZERIA\r\n",
      "LA BELLEZZ\u001b[01;31m\u001b[KA PIZ\u001b[m\u001b[KZERIA\r\n",
      "LA BON\u001b[01;31m\u001b[KA PIZ\u001b[m\u001b[KZA RESTAURANT\r\n",
      "LA CAMPEN\u001b[01;31m\u001b[KA PIZ\u001b[m\u001b[KZERIA & TAQUERIA\r\n",
      "LA MARGARIT\u001b[01;31m\u001b[KA PIZ\u001b[m\u001b[KZERIA\r\n",
      "LA MI\u001b[01;31m\u001b[KA PIZ\u001b[m\u001b[KZA\r\n",
      "L\u001b[01;31m\u001b[KA NAZ\u001b[m\u001b[KIONALE SOCCER CLUB\r\n",
      "LA NOSTR\u001b[01;31m\u001b[KA PIZ\u001b[m\u001b[KZERIA\r\n",
      "LA NUEVA ESTRELL\u001b[01;31m\u001b[KA PIZ\u001b[m\u001b[KZA AND DELI GROCERY\r\n",
      "LA PIAZZ\u001b[01;31m\u001b[KA PIZ\u001b[m\u001b[KZERIA & RESTAURANT\r\n",
      "L\u001b[01;31m\u001b[KA PIZ\u001b[m\u001b[KZA & CONVENIENCE\r\n",
      "L\u001b[01;31m\u001b[KA PIZ\u001b[m\u001b[KZA FRESCA\r\n",
      "LA SORRENTIN\u001b[01;31m\u001b[KA PIZ\u001b[m\u001b[KZERIA RESTAURANT\r\n",
      "LA STRAD\u001b[01;31m\u001b[KA PIZ\u001b[m\u001b[KZERIA RESTAURANT\r\n",
      "L\u001b[01;31m\u001b[KA TAZ\u001b[m\u001b[KA DE ORO RESTAURANT\r\n",
      "LA TRAVIAT\u001b[01;31m\u001b[KA PIZ\u001b[m\u001b[KZA\r\n",
      "LA VILL\u001b[01;31m\u001b[KA PIZ\u001b[m\u001b[KZERIA\r\n",
      "LACONI\u001b[01;31m\u001b[KA PIZ\u001b[m\u001b[KZERIA\r\n",
      "L\u001b[01;31m\u001b[KAVAZZ\u001b[m\u001b[KA CAFE PER WES\r\n",
      "L\u001b[01;31m\u001b[KAVAZZ\u001b[m\u001b[KA ESPRESSO BAR\r\n",
      "LBELL\u001b[01;31m\u001b[KA PIZ\u001b[m\u001b[KZERIA & RESTAURANT\r\n",
      "LON\u001b[01;31m\u001b[KA PIZ\u001b[m\u001b[KZA\r\n",
      "LUCI\u001b[01;31m\u001b[KA PIZ\u001b[m\u001b[KZA\r\n",
      "LUN\u001b[01;31m\u001b[KA PIZ\u001b[m\u001b[KZA\r\n",
      "LUNETT\u001b[01;31m\u001b[KA PIZ\u001b[m\u001b[KZA & RESTAURANT\r\n",
      "LUNETT\u001b[01;31m\u001b[KA PIZ\u001b[m\u001b[KZERIA\r\n",
      "MAMA MI\u001b[01;31m\u001b[KA PIZ\u001b[m\u001b[KZA\r\n",
      "MAMA ROSARI\u001b[01;31m\u001b[KA PIZ\u001b[m\u001b[KZERIA\r\n",
      "MAMMA MI\u001b[01;31m\u001b[KA PIZ\u001b[m\u001b[KZA\r\n",
      "MAMMA MI\u001b[01;31m\u001b[KA PIZ\u001b[m\u001b[KZERIA\r\n",
      "M\u001b[01;31m\u001b[KANGEZ\u001b[m\u001b[K AVEC MOI\r\n",
      "MARGHERIT\u001b[01;31m\u001b[KA PIZ\u001b[m\u001b[KZA\r\n",
      "MARI\u001b[01;31m\u001b[KA PIZ\u001b[m\u001b[KZERIA\r\n",
      "MARIELL\u001b[01;31m\u001b[KA PIZ\u001b[m\u001b[KZA\r\n",
      "MARIN\u001b[01;31m\u001b[KA BIZ\u001b[m\u001b[KCOCHOS\r\n",
      "M\u001b[01;31m\u001b[KARITZ\u001b[m\u001b[KA CAKE\r\n",
      "M\u001b[01;31m\u001b[KARUZZ\u001b[m\u001b[KELLA\r\n",
      "MEXZZARELL\u001b[01;31m\u001b[KA PIZ\u001b[m\u001b[KZA\r\n",
      "MI\u001b[01;31m\u001b[KA PIZ\u001b[m\u001b[KZA\r\n",
      "MINITALI\u001b[01;31m\u001b[KA PIZ\u001b[m\u001b[KZERIA\r\n",
      "MONA LIS\u001b[01;31m\u001b[KA PIZ\u001b[m\u001b[KZERIA & RISTORANTE\r\n",
      "MUZZARELL\u001b[01;31m\u001b[KA PIZ\u001b[m\u001b[KZA\r\n",
      "N\u001b[01;31m\u001b[KAVRUZ\u001b[m\u001b[K BREAD\r\n",
      "NAY\u001b[01;31m\u001b[KA MEZ\u001b[m\u001b[KZE & GRILL\r\n",
      "NEW ROM\u001b[01;31m\u001b[KA PIZ\u001b[m\u001b[KZA\r\n",
      "NONNA GIN\u001b[01;31m\u001b[KA PIZ\u001b[m\u001b[KZERIA RESTAURANT\r\n",
      "NOODLE C\u001b[01;31m\u001b[KAFE Z\u001b[m\u001b[KEN\r\n",
      "OBIC\u001b[01;31m\u001b[KA MOZ\u001b[m\u001b[KZARELLA BAR\r\n",
      "OBIK\u001b[01;31m\u001b[KA MOZ\u001b[m\u001b[KZARELLA BAR\r\n",
      "OTTO ENOTEC\u001b[01;31m\u001b[KA PIZ\u001b[m\u001b[KZERIA\r\n",
      "P\u001b[01;31m\u001b[KALAZZ\u001b[m\u001b[KO GRILL & BAR\r\n",
      "P\u001b[01;31m\u001b[KAPATZ\u001b[m\u001b[KUL\r\n",
      "P\u001b[01;31m\u001b[KAPAZZ\u001b[m\u001b[KIO RESTAURANT\r\n",
      "PASH\u001b[01;31m\u001b[KA PIZ\u001b[m\u001b[KZA PITA GRILL\r\n",
      "P\u001b[01;31m\u001b[KASHAZ\u001b[m\u001b[KADE\r\n",
      "PASTAFIN\u001b[01;31m\u001b[KA PIZ\u001b[m\u001b[KZA\r\n",
      "P\u001b[01;31m\u001b[KATRIZ\u001b[m\u001b[KIA'S\r\n",
      "P\u001b[01;31m\u001b[KATRIZ\u001b[m\u001b[KIA'S OF BROOKLYN\r\n",
      "P\u001b[01;31m\u001b[KATRIZ\u001b[m\u001b[KIA'S OF WOODLAWN\r\n",
      "PI\u001b[01;31m\u001b[KA PIZ\u001b[m\u001b[KZERIA\r\n",
      "PIAZZ\u001b[01;31m\u001b[KA PIZ\u001b[m\u001b[KZA\r\n",
      "PIAZZ\u001b[01;31m\u001b[KA PIZ\u001b[m\u001b[KZA & GRILL\r\n",
      "PIS\u001b[01;31m\u001b[KA PIZ\u001b[m\u001b[KZERIA\r\n",
      "PIZZ\u001b[01;31m\u001b[KA MEZ\u001b[m\u001b[KZALUNA\r\n",
      "PLAZ\u001b[01;31m\u001b[KA PIZ\u001b[m\u001b[KZA\r\n",
      "PRIM\u001b[01;31m\u001b[KA PIZ\u001b[m\u001b[KZA\r\n",
      "PRIMAVER\u001b[01;31m\u001b[KA PIZ\u001b[m\u001b[KZA & PASTA\r\n",
      "PRIMAVER\u001b[01;31m\u001b[KA PIZ\u001b[m\u001b[KZERIA\r\n",
      "QU\u001b[01;31m\u001b[KATORZ\u001b[m\u001b[KE BISTRO\r\n",
      "R\u001b[01;31m\u001b[KANDAZ\u001b[m\u001b[KZO PIZZA RESTAURANT\r\n",
      "R\u001b[01;31m\u001b[KANDAZ\u001b[m\u001b[KZO'S CLAM BAR\r\n",
      "R\u001b[01;31m\u001b[KANDAZ\u001b[m\u001b[KZO'S PIZZERIA\r\n",
      "RE\u001b[01;31m\u001b[KAL AZ\u001b[m\u001b[KTECA II MEXICAN RESTAURANT & DINER\r\n",
      "RE\u001b[01;31m\u001b[KAL AZ\u001b[m\u001b[KTECA RESTAURANT\r\n",
      "REGIN\u001b[01;31m\u001b[KA PIZ\u001b[m\u001b[KZA\r\n",
      "RESTAURANT ON THE PLAZ\u001b[01;31m\u001b[KA PIZ\u001b[m\u001b[KZERIA\r\n",
      "ROCKWOOD MUSIC HALL (ST\u001b[01;31m\u001b[KAGE Z\u001b[m\u001b[KERO)\r\n",
      "ROM\u001b[01;31m\u001b[KA PIZ\u001b[m\u001b[KZA\r\n",
      "RUBIROS\u001b[01;31m\u001b[KA PIZ\u001b[m\u001b[KZA & RISTORANTE\r\n",
      "SALZ\u001b[01;31m\u001b[KA PIZ\u001b[m\u001b[KZA\r\n",
      "SAMARI\u001b[01;31m\u001b[KA PIZ\u001b[m\u001b[KZA\r\n",
      "SHA\u001b[01;31m\u001b[KARE Z\u001b[m\u001b[KION CATERERS\r\n",
      "SOFI\u001b[01;31m\u001b[KA PIZ\u001b[m\u001b[KZA RESTAURANT\r\n",
      "SOFI\u001b[01;31m\u001b[KA PIZ\u001b[m\u001b[KZERIA\r\n",
      "SOFI\u001b[01;31m\u001b[KA PIZ\u001b[m\u001b[KZERIA AND RESTAURANT\r\n",
      "STATEN ISL\u001b[01;31m\u001b[KAND Z\u001b[m\u001b[KOO CAFE\r\n",
      "THE AUROR\u001b[01;31m\u001b[KA PIZ\u001b[m\u001b[KZA CAFFE\r\n",
      "THE GRAND VILL\u001b[01;31m\u001b[KA PIZ\u001b[m\u001b[KZARIA CORP\r\n",
      "TRIBEC\u001b[01;31m\u001b[KA PIZ\u001b[m\u001b[KZERIA\r\n",
      "TRUE FL\u001b[01;31m\u001b[KAVORZ\u001b[m\u001b[K\r\n",
      "VERON\u001b[01;31m\u001b[KA PIZ\u001b[m\u001b[KZA\r\n",
      "VICTORI\u001b[01;31m\u001b[KA PIZ\u001b[m\u001b[KZA\r\n",
      "VILLA MARI\u001b[01;31m\u001b[KA PIZ\u001b[m\u001b[KZERIA\r\n",
      "VILLA MI\u001b[01;31m\u001b[KA PIZ\u001b[m\u001b[KZA\r\n",
      "VILLAGE MARI\u001b[01;31m\u001b[KA PIZ\u001b[m\u001b[KZA II\r\n",
      "VITO'S ROM\u001b[01;31m\u001b[KA PIZ\u001b[m\u001b[KZA\r\n",
      "YOLAND\u001b[01;31m\u001b[KA PIZ\u001b[m\u001b[KZERIA RESTAURANT\r\n",
      "Z\u001b[01;31m\u001b[KABLOZ\u001b[m\u001b[KKIS\r\n"
     ]
    }
   ],
   "source": [
    "! grep --color=always 'A...Z' uniquenames.txt "
   ]
  },
  {
   "cell_type": "markdown",
   "metadata": {},
   "source": [
    "#### Bracket expression atom\n",
    "\n",
    "A bracket expression (defined by square brackets []) defines a set of characters. matches only one single character that can be any of the characters defined in a set. Example: [ABL] matches either A, B, or L.\n",
    "\n",
    "Now, let's use a bracket expression: We want to find restaurants that contain one of the letters A,B,C,X,Y,Z followed by a digit. We specify the set of letters as `[ABCXYZ]` and the set of digits as [0123456789].  "
   ]
  },
  {
   "cell_type": "code",
   "execution_count": 15,
   "metadata": {
    "collapsed": false
   },
   "outputs": [
    {
     "name": "stdout",
     "output_type": "stream",
     "text": [
      "\u001b[01;31m\u001b[KB66\u001b[m\u001b[K CLUB\r\n",
      "B\u001b[01;31m\u001b[KA10\u001b[m\u001b[K02 BAR\r\n",
      "B\u001b[01;31m\u001b[KA10\u001b[m\u001b[K19 BAR\r\n",
      "B\u001b[01;31m\u001b[KA61\u001b[m\u001b[K10 BAR\r\n",
      "B\u001b[01;31m\u001b[KC81\u001b[m\u001b[K40 BAR AT THE GARDEN\r\n",
      "C\u001b[01;31m\u001b[KB80\u001b[m\u001b[K30 SAUSAGE CONCESSION\r\n",
      "CIBO MARKET (GATE \u001b[01;31m\u001b[KC65\u001b[m\u001b[K)\r\n",
      "COTTO MARKET-GATE \u001b[01;31m\u001b[KC30\u001b[m\u001b[K\r\n",
      "F\u001b[01;31m\u001b[KA80\u001b[m\u001b[K70 HOT DOG CONCESSION\r\n",
      "F\u001b[01;31m\u001b[KB10\u001b[m\u001b[K14 HOT DOG CONCESSION\r\n",
      "F\u001b[01;31m\u001b[KB80\u001b[m\u001b[K20 PIZZA CONCESSION\r\n",
      "F\u001b[01;31m\u001b[KB90\u001b[m\u001b[K90 HOT DOG CONCESSION\r\n",
      "F\u001b[01;31m\u001b[KB91\u001b[m\u001b[K10 HOT DOG CONCESSION\r\n",
      "F\u001b[01;31m\u001b[KB91\u001b[m\u001b[K20 HOT DOG CONCESSION\r\n",
      "HOT DOG CONCESSION \u001b[01;31m\u001b[KA80\u001b[m\u001b[K3-1\r\n",
      "JFK FUEL BAR \u001b[01;31m\u001b[KB27\u001b[m\u001b[K\r\n",
      "MADISON CLUB (B\u001b[01;31m\u001b[KB71\u001b[m\u001b[K84)\r\n",
      "RUNWA\u001b[01;31m\u001b[KY69\u001b[m\u001b[K\r\n",
      "YOGURT \u001b[01;31m\u001b[KY23\u001b[m\u001b[K INC\r\n"
     ]
    }
   ],
   "source": [
    "!grep --color=always '[ABCXYZ][0123456789][0123456789]' uniquenames.txt "
   ]
  },
  {
   "cell_type": "markdown",
   "metadata": {},
   "source": [
    "##### Brackets and ranges\n",
    "\n",
    "Instead of typing long lists of characters in a bracket expression, we can use the range character: [0-9] is equivalent to [0123456789]. Similarly [A-Z] is equivalent to [ABCDEFGHIJKLMNOPQRSTUVWXYZ]. And [D-T] is equivalent to [DEFGHIJKLMNOPQRST]. (You get the idea.) You can also combine multiple ranges: [a-e1-9] is equivalent to [abcde123456789]. Finally, you can even specify to be excluded from the set using the character (^). For example, [^0-9] matches any character other than a number.\n",
    "\n",
    "For example, let's find restaurants that contain a letter, followed by a number, and then followed by a charather that is not a number:"
   ]
  },
  {
   "cell_type": "code",
   "execution_count": 17,
   "metadata": {
    "collapsed": false
   },
   "outputs": [
    {
     "name": "stdout",
     "output_type": "stream",
     "text": [
      "ILLY/VELOCITY BAR (E\u001b[01;31m\u001b[KC2)\u001b[m\u001b[K\n",
      "JUIC\u001b[01;31m\u001b[KE4U\u001b[m\u001b[K\n",
      "\u001b[01;31m\u001b[KM1-\u001b[m\u001b[K5\n",
      "\u001b[01;31m\u001b[KM2M\u001b[m\u001b[K MART\n",
      "\u001b[01;31m\u001b[KM2N\u001b[m\u001b[K BUFFET\n",
      "TW\u001b[01;31m\u001b[KO8T\u001b[m\u001b[KWO BAR & BURGER\n",
      "US FRIED CHICKEN & \u001b[01;31m\u001b[KP1Z\u001b[m\u001b[KZA\n"
     ]
    }
   ],
   "source": [
    "!grep --color=always '[A-Z][0-9][^0-9]' uniquenames.txt "
   ]
  },
  {
   "cell_type": "markdown",
   "metadata": {},
   "source": [
    "Hm, we do not want to get results that have a space after the number, so let's also exclude the space character:"
   ]
  },
  {
   "cell_type": "code",
   "execution_count": 18,
   "metadata": {
    "collapsed": false
   },
   "outputs": [
    {
     "name": "stdout",
     "output_type": "stream",
     "text": [
      "ILLY/VELOCITY BAR (E\u001b[01;31m\u001b[KC2)\u001b[m\u001b[K\n",
      "JUIC\u001b[01;31m\u001b[KE4U\u001b[m\u001b[K\n",
      "\u001b[01;31m\u001b[KM1-\u001b[m\u001b[K5\n",
      "\u001b[01;31m\u001b[KM2M\u001b[m\u001b[K MART\n",
      "\u001b[01;31m\u001b[KM2N\u001b[m\u001b[K BUFFET\n",
      "TW\u001b[01;31m\u001b[KO8T\u001b[m\u001b[KWO BAR & BURGER\n",
      "US FRIED CHICKEN & \u001b[01;31m\u001b[KP1Z\u001b[m\u001b[KZA\n"
     ]
    }
   ],
   "source": [
    "!grep --color=always '[A-Z][0-9][^0-9 ]' uniquenames.txt "
   ]
  },
  {
   "cell_type": "code",
   "execution_count": 19,
   "metadata": {
    "collapsed": false
   },
   "outputs": [
    {
     "name": "stdout",
     "output_type": "stream",
     "text": [
      "$\u001b[01;31m\u001b[K1.2\u001b[m\u001b[K5 PIZZA\r\n",
      "\u001b[01;31m\u001b[K1 2\u001b[m\u001b[K 3 BURGER SHOT BEER\r\n",
      "\u001b[01;31m\u001b[K1.5\u001b[m\u001b[K GALBI CORP\r\n",
      "10\u001b[01;31m\u001b[K4-0\u001b[m\u001b[K1 FOSTER AVENUE COFFEE SHOP(UPS)\r\n",
      "3\u001b[01;31m\u001b[K6-0\u001b[m\u001b[K2 DITMARS COFFEE CORP.\r\n",
      "4\u001b[01;31m\u001b[K0/4\u001b[m\u001b[K0 CLUB\r\n",
      "4\u001b[01;31m\u001b[K0/4\u001b[m\u001b[K0 CLUB BAR\r\n",
      "4\u001b[01;31m\u001b[K4 1\u001b[m\u001b[K/2 CAFE\r\n",
      "51\u001b[01;31m\u001b[K0 1\u001b[m\u001b[K1ST BAR\r\n",
      "8\u001b[01;31m\u001b[K3 1\u001b[m\u001b[K/2\r\n",
      "BRASSERIE \u001b[01;31m\u001b[K8 1\u001b[m\u001b[K/2\r\n",
      "CAFE 10\u001b[01;31m\u001b[K1 1\u001b[m\u001b[K6TH FLOOR CAFETERIA\r\n",
      "FOOD DEPOT 1\u001b[01;31m\u001b[K2*4\u001b[m\u001b[K\r\n",
      "HOT DOG CONCESSION A80\u001b[01;31m\u001b[K3-1\u001b[m\u001b[K\r\n",
      "LADY M CONFECTIONS (PLAZA HOTEL 77\u001b[01;31m\u001b[K0 5\u001b[m\u001b[KTH AVENUE)\r\n",
      "M\u001b[01;31m\u001b[K1-5\u001b[m\u001b[K\r\n",
      "PRB 2\u001b[01;31m\u001b[K4-7\u001b[m\u001b[K\r\n",
      "THE BEST $\u001b[01;31m\u001b[K1.0\u001b[m\u001b[K0 PIZZA\r\n"
     ]
    }
   ],
   "source": [
    "!grep --color=always '[0-9][^A-Z0-9][0-9]' uniquenames.txt "
   ]
  },
  {
   "cell_type": "markdown",
   "metadata": {},
   "source": [
    "#### Anchor\n",
    "\n",
    "Anchor atoms are used to define the location of a regex within a line. \n",
    "\n",
    "The anchor `^` specifies the *beginning of a line*, the anchor `$` specifies the end of a line. The anchor `\\<` specifies the beginning of a word, and the anchor `\\>` specifies the end of a word."
   ]
  },
  {
   "cell_type": "markdown",
   "metadata": {},
   "source": [
    "Example: Find restaurant names that start with the characters `BAL`"
   ]
  },
  {
   "cell_type": "code",
   "execution_count": 20,
   "metadata": {
    "collapsed": false
   },
   "outputs": [
    {
     "name": "stdout",
     "output_type": "stream",
     "text": [
      "\u001b[01;31m\u001b[KBAL\u001b[m\u001b[KABOOSTA\r\n",
      "\u001b[01;31m\u001b[KBAL\u001b[m\u001b[KADE\r\n",
      "\u001b[01;31m\u001b[KBAL\u001b[m\u001b[KBOA RESTAURANT.\r\n",
      "\u001b[01;31m\u001b[KBAL\u001b[m\u001b[KCON QUITENO RESTAURANT\r\n",
      "\u001b[01;31m\u001b[KBAL\u001b[m\u001b[KDOR SPECIALTY FOODS\r\n",
      "\u001b[01;31m\u001b[KBAL\u001b[m\u001b[KDUCCI'S\r\n",
      "\u001b[01;31m\u001b[KBAL\u001b[m\u001b[KI NUSA INDONESIAN RESTAURANT\r\n",
      "\u001b[01;31m\u001b[KBAL\u001b[m\u001b[KILO DELI\r\n",
      "\u001b[01;31m\u001b[KBAL\u001b[m\u001b[KIMAYA RESTAURANT\r\n",
      "\u001b[01;31m\u001b[KBAL\u001b[m\u001b[KKANIKA\r\n",
      "\u001b[01;31m\u001b[KBAL\u001b[m\u001b[KKH SHISH KABAB HOUSE\r\n",
      "\u001b[01;31m\u001b[KBAL\u001b[m\u001b[KL PARK HOT DOG\r\n",
      "\u001b[01;31m\u001b[KBAL\u001b[m\u001b[KLARO\r\n",
      "\u001b[01;31m\u001b[KBAL\u001b[m\u001b[KLATO'S RESTAURANT\r\n",
      "\u001b[01;31m\u001b[KBAL\u001b[m\u001b[KLFIELDS CAFE\r\n",
      "\u001b[01;31m\u001b[KBAL\u001b[m\u001b[KLI DELI & SALAD BAR\r\n",
      "\u001b[01;31m\u001b[KBAL\u001b[m\u001b[KLY TOTAL FITNESS\r\n",
      "\u001b[01;31m\u001b[KBAL\u001b[m\u001b[KLY'S SPORT CLUB\r\n",
      "\u001b[01;31m\u001b[KBAL\u001b[m\u001b[KNDIE'S PLACE, INC\r\n",
      "\u001b[01;31m\u001b[KBAL\u001b[m\u001b[KON\r\n",
      "\u001b[01;31m\u001b[KBAL\u001b[m\u001b[KTHAZAR BAKERY\r\n",
      "\u001b[01;31m\u001b[KBAL\u001b[m\u001b[KTHAZAR RESTAURANT\r\n",
      "\u001b[01;31m\u001b[KBAL\u001b[m\u001b[KUCHI\r\n",
      "\u001b[01;31m\u001b[KBAL\u001b[m\u001b[KUCHI'S\r\n",
      "\u001b[01;31m\u001b[KBAL\u001b[m\u001b[KUCHI'S FRESH\r\n",
      "\u001b[01;31m\u001b[KBAL\u001b[m\u001b[KUCHI'S INDIAN FOOD\r\n",
      "\u001b[01;31m\u001b[KBAL\u001b[m\u001b[KVANERA\r\n",
      "\u001b[01;31m\u001b[KBAL\u001b[m\u001b[KZEM\r\n"
     ]
    }
   ],
   "source": [
    "!grep --color=always '^BAL' uniquenames.txt"
   ]
  },
  {
   "cell_type": "markdown",
   "metadata": {},
   "source": [
    "Example: Find restaurant names that end with the characters `NORTH`"
   ]
  },
  {
   "cell_type": "code",
   "execution_count": 21,
   "metadata": {
    "collapsed": false
   },
   "outputs": [
    {
     "name": "stdout",
     "output_type": "stream",
     "text": [
      "AQUEDUCT \u001b[01;31m\u001b[KNORTH\u001b[m\u001b[K\r\n",
      "BOURGEOIS PIG \u001b[01;31m\u001b[KNORTH\u001b[m\u001b[K\r\n",
      "PRATT INSTITUTE \u001b[01;31m\u001b[KNORTH\u001b[m\u001b[K\r\n"
     ]
    }
   ],
   "source": [
    "!grep --color=always 'NORTH$' uniquenames.txt"
   ]
  },
  {
   "cell_type": "markdown",
   "metadata": {},
   "source": [
    "Example: Let's try to find restaurants containing the word `COLUMBIA`:"
   ]
  },
  {
   "cell_type": "code",
   "execution_count": 26,
   "metadata": {
    "collapsed": false
   },
   "outputs": [
    {
     "name": "stdout",
     "output_type": "stream",
     "text": [
      "BROWNIE'S CAFE AT \u001b[01;31m\u001b[KCOLUMBIA\u001b[m\u001b[K\r\n",
      "CAFE 212/\u001b[01;31m\u001b[KCOLUMBIA\u001b[m\u001b[K CATERING KITCHEN - ALFRED LERNER HALL\r\n",
      "\u001b[01;31m\u001b[KCOLUMBIA\u001b[m\u001b[K UNIVERSITY MEDICAL CENTER BOOKSTORE CAFE\r\n",
      "EL PUNTO \u001b[01;31m\u001b[KCOLUMBIA\u001b[m\u001b[KNO RESTAURANTE BAKERY\r\n",
      "LA GATA GOLOSA \u001b[01;31m\u001b[KCOLUMBIA\u001b[m\u001b[KN FOOD\r\n",
      "PARAISO \u001b[01;31m\u001b[KCOLUMBIA\u001b[m\u001b[KNO RESTAURANT\r\n",
      "THE FACULTY CLUB (\u001b[01;31m\u001b[KCOLUMBIA\u001b[m\u001b[K UNIVERSITY)\r\n",
      "THE SCHOOL AT \u001b[01;31m\u001b[KCOLUMBIA\u001b[m\u001b[K UNIVERSITY\r\n",
      "TIERRAS \u001b[01;31m\u001b[KCOLUMBIA\u001b[m\u001b[KNAS\r\n"
     ]
    }
   ],
   "source": [
    "!grep --color=always 'COLUMBIA' uniquenames.txt"
   ]
  },
  {
   "cell_type": "markdown",
   "metadata": {},
   "source": [
    "Hm, something is wrong. We also get COLUMBIANO, COLUMBIANAS, and other words. We want only the word COLUMBIA, so we add the word anchors:"
   ]
  },
  {
   "cell_type": "code",
   "execution_count": 27,
   "metadata": {
    "collapsed": false
   },
   "outputs": [
    {
     "name": "stdout",
     "output_type": "stream",
     "text": [
      "BROWNIE'S CAFE AT \u001b[01;31m\u001b[KCOLUMBIA\u001b[m\u001b[K\r\n",
      "CAFE 212/\u001b[01;31m\u001b[KCOLUMBIA\u001b[m\u001b[K CATERING KITCHEN - ALFRED LERNER HALL\r\n",
      "\u001b[01;31m\u001b[KCOLUMBIA\u001b[m\u001b[K UNIVERSITY MEDICAL CENTER BOOKSTORE CAFE\r\n",
      "THE FACULTY CLUB (\u001b[01;31m\u001b[KCOLUMBIA\u001b[m\u001b[K UNIVERSITY)\r\n",
      "THE SCHOOL AT \u001b[01;31m\u001b[KCOLUMBIA\u001b[m\u001b[K UNIVERSITY\r\n"
     ]
    }
   ],
   "source": [
    "!grep --color=always '\\<COLUMBIA\\>' uniquenames.txt"
   ]
  },
  {
   "cell_type": "code",
   "execution_count": 34,
   "metadata": {
    "collapsed": false
   },
   "outputs": [
    {
     "name": "stdout",
     "output_type": "stream",
     "text": [
      "\u001b[01;31m\u001b[KSTARBUCKS\u001b[m\u001b[K\r\n"
     ]
    }
   ],
   "source": [
    "!grep --color=always '^STARBUCKS$' uniquenames.txt"
   ]
  },
  {
   "cell_type": "markdown",
   "metadata": {},
   "source": [
    "#### In class exercises\n",
    "\n",
    "Write a regular expression for:\n",
    "\n",
    "* Match any character\n",
    "* Match the end of line\n",
    "* Match any digit\n",
    "* Find all characters that are not digits\n",
    "* Find all words with four letters\n",
    "* Find every line that starts with a digit\n",
    "* Find all empty lines\n",
    "* Find all lines with 4 characters\n"
   ]
  },
  {
   "cell_type": "markdown",
   "metadata": {},
   "source": [
    "### Regular Expressions: Operators\n",
    "\n",
    "#### Alternation |\n",
    "\n",
    "The alternation operator `|` defines one or more alternatives regular expressions that need to be true for the string to match the regular expression. \n",
    "\n",
    "For example, if we are looking for names that contain either the word `GREEK` or the word `RUSSIAN`, we issue the following command: "
   ]
  },
  {
   "cell_type": "code",
   "execution_count": 36,
   "metadata": {
    "collapsed": false
   },
   "outputs": [
    {
     "name": "stdout",
     "output_type": "stream",
     "text": [
      "ANTHI'S \u001b[01;31m\u001b[KGREEK\u001b[m\u001b[K FOOD\r\n",
      "AVLEE  \u001b[01;31m\u001b[KGREEK\u001b[m\u001b[K KITCHEN\r\n",
      "AVLEE \u001b[01;31m\u001b[KGREEK\u001b[m\u001b[K KITCHEN\r\n",
      "AVLI THE LITTLE \u001b[01;31m\u001b[KGREEK\u001b[m\u001b[K TAVERN\r\n",
      "BREEZE THAI-\u001b[01;31m\u001b[KFRENCH\u001b[m\u001b[K KITCHEN\r\n",
      "BY SUZETTE \u001b[01;31m\u001b[KFRENCH\u001b[m\u001b[K CREPES\r\n",
      "DIRTY \u001b[01;31m\u001b[KFRENCH\u001b[m\u001b[K\r\n",
      "ETHOS \u001b[01;31m\u001b[KGREEK\u001b[m\u001b[K CUISINE\r\n",
      "\u001b[01;31m\u001b[KFRENCH\u001b[m\u001b[K CAFE GOURMAND\r\n",
      "\u001b[01;31m\u001b[KFRENCH\u001b[m\u001b[K DINER\r\n",
      "\u001b[01;31m\u001b[KFRENCH\u001b[m\u001b[K LOUIE\r\n",
      "\u001b[01;31m\u001b[KFRENCH\u001b[m\u001b[K ROAST\r\n",
      "\u001b[01;31m\u001b[KGREEK\u001b[m\u001b[K EXPRESS\r\n",
      "\u001b[01;31m\u001b[KGREEK\u001b[m\u001b[K FAMILY KITCHEN\r\n",
      "\u001b[01;31m\u001b[KGREEK\u001b[m\u001b[K GARDENS GRILL\r\n",
      "\u001b[01;31m\u001b[KGREEK\u001b[m\u001b[K GRILL\r\n",
      "\u001b[01;31m\u001b[KGREEK\u001b[m\u001b[K ISLANDS\r\n",
      "GRK FRESH \u001b[01;31m\u001b[KGREEK\u001b[m\u001b[K\r\n",
      "GYRO \u001b[01;31m\u001b[KGREEK\u001b[m\u001b[K STYLE\r\n",
      "JEAN CLAUDE \u001b[01;31m\u001b[KFRENCH\u001b[m\u001b[K BISTRO\r\n",
      "JEAN DANET \u001b[01;31m\u001b[KFRENCH\u001b[m\u001b[K PASTRY\r\n",
      "JENNY \u001b[01;31m\u001b[KFRENCH\u001b[m\u001b[K TOAST COFFEE SHOP RESTAURANT\r\n",
      "MEDITERRANEAN GRILL \u001b[01;31m\u001b[KGREEK\u001b[m\u001b[K TARVERNA\r\n",
      "OKEANOS \u001b[01;31m\u001b[KGREEK\u001b[m\u001b[K SEAFOOD\r\n",
      "OPA! \u001b[01;31m\u001b[KGREEK\u001b[m\u001b[K RESTAURANT\r\n",
      "PIZZA AND \u001b[01;31m\u001b[KFRENCH\u001b[m\u001b[K TASTE PIZZERIA\r\n",
      "RAFINA \u001b[01;31m\u001b[KGREEK\u001b[m\u001b[K CUISINE\r\n",
      "\u001b[01;31m\u001b[KRUSSIAN\u001b[m\u001b[K BATHS\r\n",
      "\u001b[01;31m\u001b[KRUSSIAN\u001b[m\u001b[K SAMOVAR\r\n",
      "\u001b[01;31m\u001b[KRUSSIAN\u001b[m\u001b[K TURKISH BATHS\r\n",
      "SOMETHING \u001b[01;31m\u001b[KGREEK\u001b[m\u001b[K\r\n",
      "SYMPOSIUM \u001b[01;31m\u001b[KGREEK\u001b[m\u001b[K RESTAURANT\r\n",
      "THE \u001b[01;31m\u001b[KGREEK\u001b[m\u001b[K\r\n",
      "THE \u001b[01;31m\u001b[KGREEK\u001b[m\u001b[K CORNER\r\n",
      "THE \u001b[01;31m\u001b[KGREEK\u001b[m\u001b[K KITCHEN  CLINTON BAKERY CAFE\r\n",
      "THE \u001b[01;31m\u001b[KRUSSIAN\u001b[m\u001b[K TEA ROOM\r\n",
      "VILLAGE TAVERNA \u001b[01;31m\u001b[KGREEK\u001b[m\u001b[K GRILL\r\n",
      "ZENON TAVERNA \u001b[01;31m\u001b[KGREEK\u001b[m\u001b[K RESTAURANT\r\n"
     ]
    }
   ],
   "source": [
    "!grep -E --color=always 'GREEK|RUSSIAN|FRENCH' uniquenames.txt"
   ]
  },
  {
   "cell_type": "markdown",
   "metadata": {},
   "source": [
    "The -E flag specifies that we will be using the \"Extended Regular Expressions\" standard (see the slides), which has more simplified syntax than the original regular expressions, which is the default for grep."
   ]
  },
  {
   "cell_type": "markdown",
   "metadata": {},
   "source": [
    "#### Repetition {m,n}\n",
    "\n",
    "A repetition operator specifies that the atom or expression immediately before the repetition may be repeated. For example, if we are looking for restaurants that contain the letter I, three to five times:  "
   ]
  },
  {
   "cell_type": "markdown",
   "metadata": {},
   "source": [
    "_**Note**: The double braces that we use here is *just* for iPython Notebooks. In a unix shell we would issue the command `grep -E 'I{3,5}' UniqueNames.txt` but due to the special way the iPython notebook treats the `{}` characters, we need to use double braces for the command to be interpreted properly._"
   ]
  },
  {
   "cell_type": "code",
   "execution_count": 37,
   "metadata": {
    "collapsed": false
   },
   "outputs": [
    {
     "name": "stdout",
     "output_type": "stream",
     "text": [
      "ANTIQUE CAFE & BAKERY \u001b[01;31m\u001b[KIII\u001b[m\u001b[K INC\r\n",
      "AZOGUENITA BAKERY & RESTAURANT \u001b[01;31m\u001b[KIII\u001b[m\u001b[K\r\n",
      "BAGEL EXPRESS \u001b[01;31m\u001b[KIII\u001b[m\u001b[K\r\n",
      "BARZOLA'S RESTAURANT \u001b[01;31m\u001b[KIII\u001b[m\u001b[K\r\n",
      "BREAD BROTHERS \u001b[01;31m\u001b[KIII\u001b[m\u001b[K\r\n",
      "CESTRA'S PIZZA \u001b[01;31m\u001b[KIII\u001b[m\u001b[K\r\n",
      "EL CHIVITO D'ORO \u001b[01;31m\u001b[KIII\u001b[m\u001b[K\r\n",
      "EL PACHANGON \u001b[01;31m\u001b[KIII\u001b[m\u001b[K RESTAURANT & BAR\r\n",
      "EL POLLO \u001b[01;31m\u001b[KIII\u001b[m\u001b[K\r\n",
      "EL REY \u001b[01;31m\u001b[KIII\u001b[m\u001b[K\r\n",
      "EMILIO \u001b[01;31m\u001b[KIII\u001b[m\u001b[K BAR\r\n",
      "ESTRELLITA POBLANA \u001b[01;31m\u001b[KIII\u001b[m\u001b[K\r\n",
      "GOLDEN DRAGON \u001b[01;31m\u001b[KIII\u001b[m\u001b[K\r\n",
      "KNAPP PIZZA \u001b[01;31m\u001b[KIII\u001b[m\u001b[K\r\n",
      "LAS NUEVAS EMPANADAS MONUMENTAL \u001b[01;31m\u001b[KIII\u001b[m\u001b[K\r\n",
      "LITTLE ITALY PIZZA \u001b[01;31m\u001b[KIII\u001b[m\u001b[K\r\n",
      "LOS POLLITOS \u001b[01;31m\u001b[KIII\u001b[m\u001b[K\r\n",
      "MIRACALI \u001b[01;31m\u001b[KIII\u001b[m\u001b[K\r\n",
      "NEW CHINA \u001b[01;31m\u001b[KIII\u001b[m\u001b[K\r\n",
      "NEW FRESCO TORTILLOS \u001b[01;31m\u001b[KIII\u001b[m\u001b[K\r\n",
      "NEW WIN HING \u001b[01;31m\u001b[KIII\u001b[m\u001b[K CHINESE RESTAURANT\r\n",
      "ROCCO PIZZA \u001b[01;31m\u001b[KIII\u001b[m\u001b[K\r\n",
      "SAKURA \u001b[01;31m\u001b[KIII\u001b[m\u001b[K\r\n",
      "SHINJU \u001b[01;31m\u001b[KIII\u001b[m\u001b[K SUSHI\r\n",
      "SUSHI TATSU JAPANESE RESTAURANT \u001b[01;31m\u001b[KIII\u001b[m\u001b[K\r\n",
      "THI \u001b[01;31m\u001b[KIII\u001b[m\u001b[K NEW YORK\r\n",
      "WARD \u001b[01;31m\u001b[KIII\u001b[m\u001b[K\r\n"
     ]
    }
   ],
   "source": [
    "!grep -E --color=always 'I{{3,5}}' uniquenames.txt"
   ]
  },
  {
   "cell_type": "markdown",
   "metadata": {},
   "source": [
    "Now, let's find all the restaurants that have a name length from 50 to 55 characters:"
   ]
  },
  {
   "cell_type": "code",
   "execution_count": 41,
   "metadata": {
    "collapsed": false
   },
   "outputs": [
    {
     "name": "stdout",
     "output_type": "stream",
     "text": [
      "\u001b[01;31m\u001b[KBRASSIERIE 1605/BROADWAY 49 BAR & LOUNGE (MAIN KITCHEN)\u001b[m\u001b[K\r\n",
      "\u001b[01;31m\u001b[KBROOKLYN CHILDREN'S MUSEUM CAFE/FOREST CITY RATNER CAFE\u001b[m\u001b[K\r\n",
      "\u001b[01;31m\u001b[KCAFE 212/COLUMBIA CATERING KITCHEN - ALFRED LERNER HALL\u001b[m\u001b[K\r\n",
      "\u001b[01;31m\u001b[KCAFE1 & CAFE 4 (AMERICAN MUSEUM OF NATURAL HISTORY)\u001b[m\u001b[K\r\n",
      "\u001b[01;31m\u001b[KCARIBBEAN CONNECTION CATERING SERVICES INC RESTAURANT\u001b[m\u001b[K\r\n",
      "\u001b[01;31m\u001b[KCHARTWELLS AT COLLEGE OF MOUNT ST. VINCENT-BENEDICT\u001b[m\u001b[K\r\n",
      "\u001b[01;31m\u001b[KCOURTYARD & RESIDENCE INN BY MARRIOTT CENTRAL PARK\u001b[m\u001b[K\r\n",
      "\u001b[01;31m\u001b[KFORDHAM UNIVERSITY/MCGINLEY CENTER/RAMSKELLER KITCHEN\u001b[m\u001b[K\r\n",
      "\u001b[01;31m\u001b[KGREEN AND ACKERMAN KOSHER DAIRY RESTAURANT & PIZZA\u001b[m\u001b[K\r\n",
      "\u001b[01;31m\u001b[KHOMESTYLE FOOD SERVICES (ST. BARNABAS HIGH SCHOOL)\u001b[m\u001b[K\r\n",
      "\u001b[01;31m\u001b[KLOBBY LOUNGE AND TROUBLE'S TRUST @ THE PALACE HOTEL\u001b[m\u001b[K\r\n",
      "\u001b[01;31m\u001b[KNATURAL TOFU & NOODLES RESTAURANT (BOOK CHANG DONG)\u001b[m\u001b[K\r\n",
      "\u001b[01;31m\u001b[KNEW YORK BOTANICAL GARDENS TERRACE CAFE ( GARDEN CAFE )\u001b[m\u001b[K\r\n",
      "\u001b[01;31m\u001b[KNEW YORK UNIVERSITY - KIMMEL STUDENT CENTER CAFETERIA\u001b[m\u001b[K\r\n",
      "\u001b[01;31m\u001b[KPYRAMID COFFEE COMPANY HOSPITAL FOR SPECIAL SURGERY\u001b[m\u001b[K\r\n",
      "\u001b[01;31m\u001b[KQ.B.COMM.COLLEGE-MAIN KITCHEN/TIGER BITES PIZZA SECTION\u001b[m\u001b[K\r\n",
      "\u001b[01;31m\u001b[KRESORTS WORLD CASINO GROUND LEVEL ( EMPLOYEE DINING)\u001b[m\u001b[K\r\n",
      "\u001b[01;31m\u001b[KROSE PIZZA, CHARLIE SUB GRILL, MOE'S SOUTHWEST GRILL\u001b[m\u001b[K\r\n",
      "\u001b[01;31m\u001b[KSTARBUCKS (JFK TERMINAL 5-POST SECURITY DEPARTURE)\u001b[m\u001b[K\r\n",
      "\u001b[01;31m\u001b[KTHE BIG APPLE (RITZ CARLTON HOTEL EMPLOYEE CAFETERIA)\u001b[m\u001b[K\r\n",
      "\u001b[01;31m\u001b[KTIGIN IRISH PUB,PEETS COFFEE&TEA,PANOPOLIS BAKERY&CAFE\u001b[m\u001b[K\r\n",
      "\u001b[01;31m\u001b[KUMI JAPANESE RESTAURANT  SUSHI BAR & TERIYAKI GRILL\u001b[m\u001b[K\r\n",
      "\u001b[01;31m\u001b[KVINNY'S OF CARROLL GARDEN RESTAURANT & LUNCHEONETT\u001b[m\u001b[K\r\n",
      "\u001b[01;31m\u001b[KVISTA SKY LOUNGE & CATERING (SHERATON FOUR POINTS)\u001b[m\u001b[K\r\n"
     ]
    }
   ],
   "source": [
    "!grep --color=always -E '^.{{50,55}}$' uniquenames.txt"
   ]
  },
  {
   "cell_type": "markdown",
   "metadata": {},
   "source": [
    "In the repetition operator {m,n}, we can skip putting the upper limit if we want to say, \"anything with m matches and above\". For example, let's find all the restaurants that have a name length 60 characters and above:"
   ]
  },
  {
   "cell_type": "code",
   "execution_count": 42,
   "metadata": {
    "collapsed": false
   },
   "outputs": [
    {
     "name": "stdout",
     "output_type": "stream",
     "text": [
      "\u001b[01;31m\u001b[K(PUBLIC FARE) 81ST STREET AND CENTRAL PARK WEST (DELACORTE THEATRE)\u001b[m\u001b[K\r\n",
      "\u001b[01;31m\u001b[KBUFFALO WILD WINGS,PEETS COOFEE &TEA, PANOPOLIS BAKERY & CAFE\u001b[m\u001b[K\r\n",
      "\u001b[01;31m\u001b[KCENTER PLATE- CONCOURSE CAFE-JACOB K JAVITS CONVENTION CENTER\u001b[m\u001b[K\r\n",
      "\u001b[01;31m\u001b[KCENTERPLATE-EMPLOYEE CAFETERIA-JACOB K JAVITS CONVENTION CENTER\u001b[m\u001b[K\r\n",
      "\u001b[01;31m\u001b[KCENTRA`L MARKET ALL AMERICAN GRILL ( STATEN ISLAND FERRY TERMINAL)\u001b[m\u001b[K\r\n",
      "\u001b[01;31m\u001b[KDELTA SKY CLUB (BARTENDER SERVICE TERMINAL D DELTA DEPARTURE)\u001b[m\u001b[K\r\n",
      "\u001b[01;31m\u001b[KDUNKIN DONUTS (INSIDE GULF GAS STATION ON NORTH SIDE OF MAJ. DEEGAN EXWY- AFTER EXIT 13 - 233 ST.)\u001b[m\u001b[K\r\n",
      "\u001b[01;31m\u001b[KFASHION INSTITUTE OF TECHNOLOGY DAVID DUBINSKY STUDENT CENTER\u001b[m\u001b[K\r\n",
      "\u001b[01;31m\u001b[KGREATER NEW YORK SOCIAL AND HEALTH ADULT DAY CARE CENTER LLC\u001b[m\u001b[K\r\n",
      "\u001b[01;31m\u001b[KHOMEWOOD SUITES BY HILTON NEW YORK MIDTOWN MANHATTAN TIMES SQUARE\u001b[m\u001b[K\r\n",
      "\u001b[01;31m\u001b[KHONG KONG CAFE / FRESH SANDWICH BAKERY (BASEMENT FOOD COURT RESTAURANT & 1ST FL BAKERY)\u001b[m\u001b[K\r\n",
      "\u001b[01;31m\u001b[KMARLIN BAR AT TOMMY BAHAMA AND TOMMY BAHAMA RESTAURANT AND B\u001b[m\u001b[K\r\n",
      "\u001b[01;31m\u001b[KNEW WAI LING CHINESE RESTAURANT/NEW FRESCO TORTILLAS II TACO\u001b[m\u001b[K\r\n",
      "\u001b[01;31m\u001b[KNEW YORK UNIVERSITY - KIMMEL STUDENT CENTER (CATERING KITCHEN)\u001b[m\u001b[K\r\n",
      "\u001b[01;31m\u001b[KRED STORM DINER @ ST. VINCENT'S HALL OF ST. JOHN'S UNIVERSITY\u001b[m\u001b[K\r\n",
      "\u001b[01;31m\u001b[KSNACK BAR (LOCATED BETWEEN A-B BETWEEN FANCY FOOD AND MASTERS)\u001b[m\u001b[K\r\n",
      "\u001b[01;31m\u001b[KSTAND 142 THE ORIGINAL CASCARINO\u001aS BRICK OVEN PIZZERIA & RISTORANTE\u001b[m\u001b[K\r\n",
      "\u001b[01;31m\u001b[KTHE PENINSULA NEW YORK/ CLEMENT/ THE GOTHAM LOUNGE/ SALON DE NING\u001b[m\u001b[K\r\n",
      "\u001b[01;31m\u001b[KUNION SQUARE SPORTS & ENTERTAINMENT AT THEATRE FOR A NEW AUDIENCE\u001b[m\u001b[K\r\n"
     ]
    }
   ],
   "source": [
    "!grep --color=always -E '^.{{60,}}$' uniquenames.txt"
   ]
  },
  {
   "cell_type": "markdown",
   "metadata": {},
   "source": [
    "##### Repetition shortcuts (very common!): \n",
    "\n",
    "* `* = {0,}`. The `*` character means match the previous atom zero or more times\n",
    "* `+ = {1,}`. The `+` character means match the previous atom one or more times\n",
    "* `? = {0,1}`. The `*` character means match the previous atom zero or one times\n",
    "\n",
    "\n",
    "\n",
    "\n"
   ]
  },
  {
   "cell_type": "markdown",
   "metadata": {},
   "source": [
    "Find all restaurants that start with one or more digits, followed by a space."
   ]
  },
  {
   "cell_type": "code",
   "execution_count": 43,
   "metadata": {
    "collapsed": false
   },
   "outputs": [
    {
     "name": "stdout",
     "output_type": "stream",
     "text": [
      "\u001b[01;31m\u001b[K002 \u001b[m\u001b[KMERCURY TACOS LLC\r\n",
      "\u001b[01;31m\u001b[K1 \u001b[m\u001b[K2 3 BURGER SHOT BEER\r\n",
      "\u001b[01;31m\u001b[K1 \u001b[m\u001b[KBANANA QUEEN\r\n",
      "\u001b[01;31m\u001b[K1 \u001b[m\u001b[KBUEN SABOR\r\n",
      "\u001b[01;31m\u001b[K1 \u001b[m\u001b[KDARBAR\r\n",
      "\u001b[01;31m\u001b[K1 \u001b[m\u001b[KEAST 66TH STREET KITCHEN\r\n",
      "\u001b[01;31m\u001b[K1 \u001b[m\u001b[KOAK\r\n",
      "\u001b[01;31m\u001b[K1 \u001b[m\u001b[KOR 8\r\n",
      "\u001b[01;31m\u001b[K1 \u001b[m\u001b[KSTOP PATTY SHOP\r\n",
      "\u001b[01;31m\u001b[K10 \u001b[m\u001b[KDEVOE\r\n",
      "\u001b[01;31m\u001b[K10 \u001b[m\u001b[KPOINTS KTV\r\n",
      "\u001b[01;31m\u001b[K100 \u001b[m\u001b[KFUN\r\n",
      "\u001b[01;31m\u001b[K1001 \u001b[m\u001b[KNIGHTS\r\n",
      "\u001b[01;31m\u001b[K1001 \u001b[m\u001b[KNIGHTS CAFE\r\n",
      "\u001b[01;31m\u001b[K1005 \u001b[m\u001b[KCATERING\r\n",
      "\u001b[01;31m\u001b[K101 \u001b[m\u001b[KCAFE\r\n",
      "\u001b[01;31m\u001b[K101 \u001b[m\u001b[KDELI\r\n",
      "\u001b[01;31m\u001b[K101 \u001b[m\u001b[KRESTAURANT AND BAR\r\n",
      "\u001b[01;31m\u001b[K102 \u001b[m\u001b[KNOODLES TOWN RESTAURANT\r\n",
      "\u001b[01;31m\u001b[K1020 \u001b[m\u001b[KBAR\r\n",
      "\u001b[01;31m\u001b[K1028 \u001b[m\u001b[KBAR & RESTAURANT EL SALVADORENO \r\n",
      "\u001b[01;31m\u001b[K1061 \u001b[m\u001b[KCATERING LLC\r\n",
      "\u001b[01;31m\u001b[K107 \u001b[m\u001b[KWEST RESTAURANT\r\n",
      "\u001b[01;31m\u001b[K108 \u001b[m\u001b[KFAST FOOD CORP\r\n",
      "\u001b[01;31m\u001b[K108 \u001b[m\u001b[KLOUNGE - CLUB 108\r\n",
      "\u001b[01;31m\u001b[K1081 \u001b[m\u001b[KFULTON\r\n",
      "\u001b[01;31m\u001b[K11 \u001b[m\u001b[KSTREET CAFE\r\n",
      "\u001b[01;31m\u001b[K111 \u001b[m\u001b[KRESTAURANT\r\n",
      "\u001b[01;31m\u001b[K1174 \u001b[m\u001b[KFULTON CUISINE, HALAL FOOD\r\n",
      "\u001b[01;31m\u001b[K12 \u001b[m\u001b[KCHAIRS\r\n",
      "\u001b[01;31m\u001b[K12 \u001b[m\u001b[KCHAIRS CAFE\r\n",
      "\u001b[01;31m\u001b[K12 \u001b[m\u001b[KCORAZONES RESTAURANT & BAR\r\n",
      "\u001b[01;31m\u001b[K12 \u001b[m\u001b[KCORNERS\r\n",
      "\u001b[01;31m\u001b[K12 \u001b[m\u001b[KCORNERS COFFEE INC\r\n",
      "\u001b[01;31m\u001b[K12 \u001b[m\u001b[KSTREET ALE HOUSE\r\n",
      "\u001b[01;31m\u001b[K120 \u001b[m\u001b[KBAY CAFE\r\n",
      "\u001b[01;31m\u001b[K1200 \u001b[m\u001b[KMILES\r\n",
      "\u001b[01;31m\u001b[K121 \u001b[m\u001b[KFULTON STREET\r\n",
      "\u001b[01;31m\u001b[K123 \u001b[m\u001b[KNIKKO\r\n",
      "\u001b[01;31m\u001b[K124 \u001b[m\u001b[KCOFFEE SHOP\r\n",
      "\u001b[01;31m\u001b[K128 \u001b[m\u001b[KDUMPLING HOUSE\r\n",
      "\u001b[01;31m\u001b[K137 \u001b[m\u001b[KBAR & GRILL\r\n",
      "\u001b[01;31m\u001b[K1380 \u001b[m\u001b[KBRONX RIVER CAFE CORP\r\n",
      "\u001b[01;31m\u001b[K149 \u001b[m\u001b[KSTEAM FISH CORP.\r\n",
      "\u001b[01;31m\u001b[K15 \u001b[m\u001b[KCENTRAL PARK WEST RESTAURANT\r\n",
      "\u001b[01;31m\u001b[K15 \u001b[m\u001b[KEAST RESTAURANT\r\n",
      "\u001b[01;31m\u001b[K15 \u001b[m\u001b[KFLAVORS\r\n",
      "\u001b[01;31m\u001b[K15 \u001b[m\u001b[KFLAVORS \r\n",
      "\u001b[01;31m\u001b[K15 \u001b[m\u001b[KST CAFE\r\n",
      "\u001b[01;31m\u001b[K156 \u001b[m\u001b[KTEX BAR AND LOUNGE\r\n",
      "\u001b[01;31m\u001b[K16 \u001b[m\u001b[KHANDLES\r\n",
      "\u001b[01;31m\u001b[K16 \u001b[m\u001b[KHANDLES FROZEN YOGURT\r\n",
      "\u001b[01;31m\u001b[K16 \u001b[m\u001b[KHANDLES MIDWOOD\r\n",
      "\u001b[01;31m\u001b[K162 \u001b[m\u001b[KEB CORP BAKERY\r\n",
      "\u001b[01;31m\u001b[K168 \u001b[m\u001b[KASUKA SUSHI\r\n",
      "\u001b[01;31m\u001b[K168 \u001b[m\u001b[KBOWERY HOLDING LLC\r\n",
      "\u001b[01;31m\u001b[K168 \u001b[m\u001b[KHI TEA\r\n",
      "\u001b[01;31m\u001b[K168 \u001b[m\u001b[KTEA LLC\r\n",
      "\u001b[01;31m\u001b[K169 \u001b[m\u001b[KBAR\r\n",
      "\u001b[01;31m\u001b[K1734 \u001b[m\u001b[KVICTORY BOULEVARD,INC.\r\n",
      "\u001b[01;31m\u001b[K18 \u001b[m\u001b[KBAKERY\r\n",
      "\u001b[01;31m\u001b[K18 \u001b[m\u001b[KCHINESE CUISINE\r\n",
      "\u001b[01;31m\u001b[K18 \u001b[m\u001b[KEAST GUNHILL PIZZA\r\n",
      "\u001b[01;31m\u001b[K18 \u001b[m\u001b[KHIPOT\r\n",
      "\u001b[01;31m\u001b[K18 \u001b[m\u001b[KRESTAURANT\r\n",
      "\u001b[01;31m\u001b[K18 \u001b[m\u001b[KSTARS KITCHEN\r\n",
      "\u001b[01;31m\u001b[K181 \u001b[m\u001b[KST CARIDAD RESTAURANT\r\n",
      "\u001b[01;31m\u001b[K1818 \u001b[m\u001b[KSEAFOOD RESTAURANT\r\n",
      "\u001b[01;31m\u001b[K187 \u001b[m\u001b[KYANG GARDEN\r\n",
      "\u001b[01;31m\u001b[K188 \u001b[m\u001b[KFAST FOOD INC\r\n",
      "\u001b[01;31m\u001b[K19 \u001b[m\u001b[KCAFE\r\n",
      "\u001b[01;31m\u001b[K1962 \u001b[m\u001b[KSOGONGDONG SONTOFU\r\n",
      "\u001b[01;31m\u001b[K2 \u001b[m\u001b[KBROS\r\n",
      "\u001b[01;31m\u001b[K2 \u001b[m\u001b[KBROS PIZZA\r\n",
      "\u001b[01;31m\u001b[K2 \u001b[m\u001b[KBROTHERS RESTAURANT\r\n",
      "\u001b[01;31m\u001b[K2 \u001b[m\u001b[KCHILL\r\n",
      "\u001b[01;31m\u001b[K2 \u001b[m\u001b[KDUCK GOOSE\r\n",
      "\u001b[01;31m\u001b[K2 \u001b[m\u001b[KIN 1 RESTAURANT\r\n",
      "\u001b[01;31m\u001b[K2 \u001b[m\u001b[KPALMITAS MEXICAN DELI\r\n",
      "\u001b[01;31m\u001b[K200 \u001b[m\u001b[KFIFTH AVENUE RESTAURANT & SPORTS BAR\r\n",
      "\u001b[01;31m\u001b[K200 \u001b[m\u001b[KORCHARD BAR\r\n",
      "\u001b[01;31m\u001b[K201 \u001b[m\u001b[KBAR AND RESTAURANT\r\n",
      "\u001b[01;31m\u001b[K2013 \u001b[m\u001b[KBROOKLYN RESTAURANT\r\n",
      "\u001b[01;31m\u001b[K203 \u001b[m\u001b[KLENA INC\r\n",
      "\u001b[01;31m\u001b[K2058 \u001b[m\u001b[KDELI AND GROCERY\r\n",
      "\u001b[01;31m\u001b[K21 \u001b[m\u001b[KBAR\r\n",
      "\u001b[01;31m\u001b[K21 \u001b[m\u001b[KCLUB\r\n",
      "\u001b[01;31m\u001b[K21 \u001b[m\u001b[KSHANGHAI HOUSE\r\n",
      "\u001b[01;31m\u001b[K211 \u001b[m\u001b[KNEW TACO GRILL\r\n",
      "\u001b[01;31m\u001b[K212 \u001b[m\u001b[KSHAWARMA GRILL\r\n",
      "\u001b[01;31m\u001b[K212 \u001b[m\u001b[KSTEAKHOUSE\r\n",
      "\u001b[01;31m\u001b[K216 \u001b[m\u001b[KGOOD JOY CHINESE RESTAURANT\r\n",
      "\u001b[01;31m\u001b[K218 \u001b[m\u001b[KRESTAURANT\r\n",
      "\u001b[01;31m\u001b[K22 \u001b[m\u001b[KTHAI CUISINE\r\n",
      "\u001b[01;31m\u001b[K229 \u001b[m\u001b[KLINDEN RESTAURANT\r\n",
      "\u001b[01;31m\u001b[K230 \u001b[m\u001b[KFIFTH\r\n",
      "\u001b[01;31m\u001b[K232 \u001b[m\u001b[KWILLIS AVENUE FOODS, LLC\r\n",
      "\u001b[01;31m\u001b[K234 \u001b[m\u001b[KCHINA CITY\r\n",
      "\u001b[01;31m\u001b[K2419 \u001b[m\u001b[KCHINA STAR RESTAURANT\r\n",
      "\u001b[01;31m\u001b[K2432 \u001b[m\u001b[KPEKING HOUSE INC\r\n",
      "\u001b[01;31m\u001b[K2460 \u001b[m\u001b[KLUCKY GARDEN\r\n",
      "\u001b[01;31m\u001b[K248 \u001b[m\u001b[KHOSPITALITY GROUP LLC\r\n",
      "\u001b[01;31m\u001b[K26 \u001b[m\u001b[KSEATS\r\n",
      "\u001b[01;31m\u001b[K2647 \u001b[m\u001b[KDOUBLE DRAGON CHINESE RESTAURANT\r\n",
      "\u001b[01;31m\u001b[K27 \u001b[m\u001b[KSHENG WANG NOODLE SHOP\r\n",
      "\u001b[01;31m\u001b[K27 \u001b[m\u001b[KSHINJUKU SUSHI INC\r\n",
      "\u001b[01;31m\u001b[K27 \u001b[m\u001b[KSPORTS BAR & CAFE\r\n",
      "\u001b[01;31m\u001b[K28 \u001b[m\u001b[KMR. MING'S CAFFE\r\n",
      "\u001b[01;31m\u001b[K28 \u001b[m\u001b[KNOODLES\r\n",
      "\u001b[01;31m\u001b[K286 \u001b[m\u001b[KPIZZA PLACE INC\r\n",
      "\u001b[01;31m\u001b[K3 \u001b[m\u001b[KALARM\r\n",
      "\u001b[01;31m\u001b[K3 \u001b[m\u001b[KD'S LEGACY SALAD & GRILL\r\n",
      "\u001b[01;31m\u001b[K3 \u001b[m\u001b[KDELI & GRILL\r\n",
      "\u001b[01;31m\u001b[K3 \u001b[m\u001b[KESQUINAS RESTAURANT\r\n",
      "\u001b[01;31m\u001b[K3 \u001b[m\u001b[KGUYS\r\n",
      "\u001b[01;31m\u001b[K3 \u001b[m\u001b[KGUYS RESTURANT\r\n",
      "\u001b[01;31m\u001b[K3 \u001b[m\u001b[KIN 1 FS&H JAMAICAN RESTAURANT\r\n",
      "\u001b[01;31m\u001b[K3 \u001b[m\u001b[KIN 1 KITCHEN\r\n",
      "\u001b[01;31m\u001b[K3 \u001b[m\u001b[KMOUNTS\r\n",
      "\u001b[01;31m\u001b[K3 \u001b[m\u001b[KROOTS\r\n",
      "\u001b[01;31m\u001b[K3 \u001b[m\u001b[KSHEETS SALOON\r\n",
      "\u001b[01;31m\u001b[K3 \u001b[m\u001b[KSISTERS' & SHANTA'S RESTAURANT & BAKERY\r\n",
      "\u001b[01;31m\u001b[K3 \u001b[m\u001b[KSTAR JUICE CENTER\r\n",
      "\u001b[01;31m\u001b[K3 \u001b[m\u001b[KWAY RESTAURANT\r\n",
      "\u001b[01;31m\u001b[K301 \u001b[m\u001b[KCAFE JUICE AND SMOOTHIES\r\n",
      "\u001b[01;31m\u001b[K310 \u001b[m\u001b[K- EXELSIOR\r\n",
      "\u001b[01;31m\u001b[K318 \u001b[m\u001b[K- TWO BOOTS\r\n",
      "\u001b[01;31m\u001b[K32 \u001b[m\u001b[KDEGREE FROYO LOUNGE\r\n",
      "\u001b[01;31m\u001b[K33 \u001b[m\u001b[KGOURMET\r\n",
      "\u001b[01;31m\u001b[K337 \u001b[m\u001b[K- BURGERS & DOGS\r\n",
      "\u001b[01;31m\u001b[K3463 \u001b[m\u001b[KJUICES FOR LIFE LLC\r\n",
      "\u001b[01;31m\u001b[K35 \u001b[m\u001b[KDUET\r\n",
      "\u001b[01;31m\u001b[K360 \u001b[m\u001b[KLOUNGE\r\n",
      "\u001b[01;31m\u001b[K374 \u001b[m\u001b[KDELI\r\n",
      "\u001b[01;31m\u001b[K38 \u001b[m\u001b[KDELI\r\n",
      "\u001b[01;31m\u001b[K388 \u001b[m\u001b[KCAFE & DELI\r\n",
      "\u001b[01;31m\u001b[K39 \u001b[m\u001b[KCOFFEE SHOP\r\n",
      "\u001b[01;31m\u001b[K39 \u001b[m\u001b[KKARAOKE\r\n",
      "\u001b[01;31m\u001b[K395 \u001b[m\u001b[KGOURMET AND GROCERY\r\n",
      "\u001b[01;31m\u001b[K401 \u001b[m\u001b[KLUCKY STAR RESTAURANT\r\n",
      "\u001b[01;31m\u001b[K414 \u001b[m\u001b[KHOTEL\r\n",
      "\u001b[01;31m\u001b[K414 \u001b[m\u001b[KLATINO RESTAURANT SPORTS BAR\r\n",
      "\u001b[01;31m\u001b[K44 \u001b[m\u001b[K& X HELL'S KITCHEN\r\n",
      "\u001b[01;31m\u001b[K44 \u001b[m\u001b[K1/2 CAFE\r\n",
      "\u001b[01;31m\u001b[K44 \u001b[m\u001b[KSW RISTORANTE & BAR\r\n",
      "\u001b[01;31m\u001b[K444 \u001b[m\u001b[KMADISON COFFEE SHOP\r\n",
      "\u001b[01;31m\u001b[K456 \u001b[m\u001b[KRESTAURANT\r\n",
      "\u001b[01;31m\u001b[K4618 \u001b[m\u001b[KBAKERY\r\n",
      "\u001b[01;31m\u001b[K49 \u001b[m\u001b[KGROVE\r\n",
      "\u001b[01;31m\u001b[K5 \u001b[m\u001b[KAVENUE ASIAN TASTE\r\n",
      "\u001b[01;31m\u001b[K5 \u001b[m\u001b[KBORO BURGER\r\n",
      "\u001b[01;31m\u001b[K5 \u001b[m\u001b[KBURRO CAFE\r\n",
      "\u001b[01;31m\u001b[K5 \u001b[m\u001b[KDE MAYO\r\n",
      "\u001b[01;31m\u001b[K5 \u001b[m\u001b[KESTRELLA BAKERY\r\n",
      "\u001b[01;31m\u001b[K5 \u001b[m\u001b[KNAPKIN BURGER\r\n",
      "\u001b[01;31m\u001b[K5 \u001b[m\u001b[KSTAR CHEESE STEAK AND PIZZA\r\n",
      "\u001b[01;31m\u001b[K5 \u001b[m\u001b[KSTAR CHEESESTEAK AND PIZZA\r\n",
      "\u001b[01;31m\u001b[K5 \u001b[m\u001b[KSTAR VILLAGE CAFE\r\n",
      "\u001b[01;31m\u001b[K5 \u001b[m\u001b[KTH & VINE\r\n",
      "\u001b[01;31m\u001b[K502 \u001b[m\u001b[KBAR LOUNGE\r\n",
      "\u001b[01;31m\u001b[K502 \u001b[m\u001b[KHUDSON BAGEL CORP\r\n",
      "\u001b[01;31m\u001b[K508 \u001b[m\u001b[KRESTAURANT AND BAR\r\n",
      "\u001b[01;31m\u001b[K510 \u001b[m\u001b[K11ST BAR\r\n",
      "\u001b[01;31m\u001b[K525 \u001b[m\u001b[KLEX RESTAURANT & BAR\r\n",
      "\u001b[01;31m\u001b[K54 \u001b[m\u001b[KBELOW\r\n",
      "\u001b[01;31m\u001b[K55 \u001b[m\u001b[KBAR\r\n",
      "\u001b[01;31m\u001b[K55 \u001b[m\u001b[KDELI & GRILL INC\r\n",
      "\u001b[01;31m\u001b[K55 \u001b[m\u001b[KTHOMAS CAFE\r\n",
      "\u001b[01;31m\u001b[K555 \u001b[m\u001b[KVIVACAFE\r\n",
      "\u001b[01;31m\u001b[K556 \u001b[m\u001b[KEL CAFE INTERNATIONAL\r\n",
      "\u001b[01;31m\u001b[K59 \u001b[m\u001b[KCHINA\r\n",
      "\u001b[01;31m\u001b[K61 \u001b[m\u001b[KLOCAL\r\n",
      "\u001b[01;31m\u001b[K620 \u001b[m\u001b[KON CATON\r\n",
      "\u001b[01;31m\u001b[K624 \u001b[m\u001b[KKAM HAI CHINESE FOOD\r\n",
      "\u001b[01;31m\u001b[K6321 \u001b[m\u001b[KYUAN BAO\r\n",
      "\u001b[01;31m\u001b[K652 \u001b[m\u001b[KLIN'S GARDEN\r\n",
      "\u001b[01;31m\u001b[K658 \u001b[m\u001b[KKINGS DELI\r\n",
      "\u001b[01;31m\u001b[K66 \u001b[m\u001b[KHOPE CAFE\r\n",
      "\u001b[01;31m\u001b[K66 \u001b[m\u001b[KPRINCE RESTAURANT\r\n",
      "\u001b[01;31m\u001b[K67 \u001b[m\u001b[KBURGER\r\n",
      "\u001b[01;31m\u001b[K67 \u001b[m\u001b[KORANGE STREET\r\n",
      "\u001b[01;31m\u001b[K67 \u001b[m\u001b[KRESTAURANT\r\n",
      "\u001b[01;31m\u001b[K678 \u001b[m\u001b[KAURORA CATERING INC\r\n",
      "\u001b[01;31m\u001b[K68 \u001b[m\u001b[KDELI CANAL STORE\r\n",
      "\u001b[01;31m\u001b[K68 \u001b[m\u001b[KJAY STREET BAR\r\n",
      "\u001b[01;31m\u001b[K68 \u001b[m\u001b[KMEI MEI BAKERY\r\n",
      "\u001b[01;31m\u001b[K69 \u001b[m\u001b[KBAR LOUNGE\r\n",
      "\u001b[01;31m\u001b[K69 \u001b[m\u001b[KBAYARD RESTAURANT\r\n",
      "\u001b[01;31m\u001b[K69 \u001b[m\u001b[KCOFFEE SHOP\r\n",
      "\u001b[01;31m\u001b[K69 \u001b[m\u001b[KPIZZERIA\r\n",
      "\u001b[01;31m\u001b[K696 \u001b[m\u001b[KGOURMET DELI\r\n",
      "\u001b[01;31m\u001b[K7 \u001b[m\u001b[KGRAMS CAFFE\r\n",
      "\u001b[01;31m\u001b[K7 \u001b[m\u001b[KGREEN & GRAIN\r\n",
      "\u001b[01;31m\u001b[K7 \u001b[m\u001b[KSPICES\r\n",
      "\u001b[01;31m\u001b[K7 \u001b[m\u001b[KSTARS\r\n",
      "\u001b[01;31m\u001b[K7 \u001b[m\u001b[KTACOS MEXICAN CUISINE CORP\r\n",
      "\u001b[01;31m\u001b[K706 \u001b[m\u001b[KBAR\r\n",
      "\u001b[01;31m\u001b[K71 \u001b[m\u001b[KIRVING PLACE\r\n",
      "\u001b[01;31m\u001b[K718 \u001b[m\u001b[KHOOKAH LOUNGE\r\n",
      "\u001b[01;31m\u001b[K718 \u001b[m\u001b[KLOUNGE\r\n",
      "\u001b[01;31m\u001b[K718 \u001b[m\u001b[KLOUNGE & TAPAS\r\n",
      "\u001b[01;31m\u001b[K729 \u001b[m\u001b[KBAR & GRILL\r\n",
      "\u001b[01;31m\u001b[K739 \u001b[m\u001b[KFRANKLIN BAR & LOUNGE\r\n",
      "\u001b[01;31m\u001b[K765 \u001b[m\u001b[KFOOD MARKET\r\n",
      "\u001b[01;31m\u001b[K773 \u001b[m\u001b[KLOUNGE\r\n",
      "\u001b[01;31m\u001b[K777 \u001b[m\u001b[KTHEATER BAR\r\n",
      "\u001b[01;31m\u001b[K8 \u001b[m\u001b[KDRAGON & PHOENIX CHINESE RESTAURANT\r\n",
      "\u001b[01;31m\u001b[K8 \u001b[m\u001b[KPAET RIO\r\n",
      "\u001b[01;31m\u001b[K80 \u001b[m\u001b[KRIVERSIDE CAFE\r\n",
      "\u001b[01;31m\u001b[K805 \u001b[m\u001b[KZHENG YUAN BAO GOURMET\r\n",
      "\u001b[01;31m\u001b[K809 \u001b[m\u001b[KGRILL & BAR RESTAURANT\r\n",
      "\u001b[01;31m\u001b[K809 \u001b[m\u001b[KPERFECT DELI.\r\n",
      "\u001b[01;31m\u001b[K8090 \u001b[m\u001b[KTAI WANESE\r\n",
      "\u001b[01;31m\u001b[K810 \u001b[m\u001b[KDELI & CAFE\r\n",
      "\u001b[01;31m\u001b[K829 \u001b[m\u001b[KBAR RESTAURANT\r\n",
      "\u001b[01;31m\u001b[K83 \u001b[m\u001b[K1/2\r\n",
      "\u001b[01;31m\u001b[K83 \u001b[m\u001b[KKIEN TUONG RESTAURANT\r\n",
      "\u001b[01;31m\u001b[K833 \u001b[m\u001b[KANNADALE ROAD CORP.\r\n",
      "\u001b[01;31m\u001b[K85 \u001b[m\u001b[KBROAD CAFE\r\n",
      "\u001b[01;31m\u001b[K85 \u001b[m\u001b[KCHINESE RESTAURANT\r\n",
      "\u001b[01;31m\u001b[K86 \u001b[m\u001b[KBAKERY\r\n",
      "\u001b[01;31m\u001b[K86 \u001b[m\u001b[KBEST BAKERY\r\n",
      "\u001b[01;31m\u001b[K86 \u001b[m\u001b[KNOODLES\r\n",
      "\u001b[01;31m\u001b[K86 \u001b[m\u001b[KSEAFOOD CHINESE RESTAURANT\r\n",
      "\u001b[01;31m\u001b[K86 \u001b[m\u001b[KSUPERSTAR INC\r\n",
      "\u001b[01;31m\u001b[K876 \u001b[m\u001b[KBAR LOUNGE CORP\r\n",
      "\u001b[01;31m\u001b[K876 \u001b[m\u001b[KMARKET DELI\r\n",
      "\u001b[01;31m\u001b[K88 \u001b[m\u001b[KCAFE\r\n",
      "\u001b[01;31m\u001b[K88 \u001b[m\u001b[KCANTEEN\r\n",
      "\u001b[01;31m\u001b[K88 \u001b[m\u001b[KCHINESE RESTAURANT\r\n",
      "\u001b[01;31m\u001b[K88 \u001b[m\u001b[KDEGREES\r\n",
      "\u001b[01;31m\u001b[K88 \u001b[m\u001b[KPALACE RESTAURANT\r\n",
      "\u001b[01;31m\u001b[K888 \u001b[m\u001b[KKITCHEN\r\n",
      "\u001b[01;31m\u001b[K9 \u001b[m\u001b[K& 8 CAFE\r\n",
      "\u001b[01;31m\u001b[K900 \u001b[m\u001b[KPARK\r\n",
      "\u001b[01;31m\u001b[K904 \u001b[m\u001b[KLUPITA RESTAURANT CORP\r\n",
      "\u001b[01;31m\u001b[K940 \u001b[m\u001b[KFLUSHING LOUNGE/ARANCINI BROS\r\n",
      "\u001b[01;31m\u001b[K95 \u001b[m\u001b[KSOUTH\r\n",
      "\u001b[01;31m\u001b[K96 \u001b[m\u001b[KSOUTH PARK\r\n",
      "\u001b[01;31m\u001b[K983 \u001b[m\u001b[KBUSHWICK LIVING ROOM\r\n",
      "\u001b[01;31m\u001b[K99 \u001b[m\u001b[KCENT BEST PIZZA 5AVE INC\r\n",
      "\u001b[01;31m\u001b[K99 \u001b[m\u001b[KCENT EXPRESS PIZZA\r\n",
      "\u001b[01;31m\u001b[K99 \u001b[m\u001b[KCENT FRESH PIZZA\r\n",
      "\u001b[01;31m\u001b[K99 \u001b[m\u001b[KCENT FRESH PIZZA VILLA CAFE\r\n",
      "\u001b[01;31m\u001b[K99 \u001b[m\u001b[KCENT PIZZA\r\n",
      "\u001b[01;31m\u001b[K99 \u001b[m\u001b[KCENTS BEST & FRESH PIZZA INC.\r\n",
      "\u001b[01;31m\u001b[K99 \u001b[m\u001b[KCENTS FRESH HOT PIZZA\r\n",
      "\u001b[01;31m\u001b[K99 \u001b[m\u001b[KCENTS FRESH SLICE PIZZA\r\n",
      "\u001b[01;31m\u001b[K99 \u001b[m\u001b[KCENTS MEGA PIZZA\r\n",
      "\u001b[01;31m\u001b[K99 \u001b[m\u001b[KFAVOR TASTE\r\n",
      "\u001b[01;31m\u001b[K99 \u001b[m\u001b[KFRESH PIZZA\r\n",
      "\u001b[01;31m\u001b[K99 \u001b[m\u001b[KMILES TO PHILLY\r\n"
     ]
    }
   ],
   "source": [
    "!grep -E --color=always '^[0-9]+ ' uniquenames.txt"
   ]
  },
  {
   "cell_type": "markdown",
   "metadata": {},
   "source": [
    "Find all restaurants that start with a letter, followed by one or more digits, followed by a space."
   ]
  },
  {
   "cell_type": "code",
   "execution_count": 44,
   "metadata": {
    "collapsed": false
   },
   "outputs": [
    {
     "name": "stdout",
     "output_type": "stream",
     "text": [
      "\u001b[01;31m\u001b[KA1 \u001b[m\u001b[KOCHA SUSHI\r\n",
      "\u001b[01;31m\u001b[KB4 \u001b[m\u001b[KNYC\r\n",
      "\u001b[01;31m\u001b[KB66 \u001b[m\u001b[KCLUB\r\n",
      "\u001b[01;31m\u001b[KC2 \u001b[m\u001b[KCAFE\r\n",
      "\u001b[01;31m\u001b[KF1 \u001b[m\u001b[KLOUNGE AND GRILL\r\n",
      "\u001b[01;31m\u001b[KH20 \u001b[m\u001b[KLOUNGE AND RESTAURANT\r\n",
      "\u001b[01;31m\u001b[KJ4 \u001b[m\u001b[KHOOKAH LOUNGE\r\n",
      "\u001b[01;31m\u001b[KQ2 \u001b[m\u001b[KTHAI RESTAURANT\r\n",
      "\u001b[01;31m\u001b[KT2 \u001b[m\u001b[K- GO\r\n",
      "\u001b[01;31m\u001b[KT49 \u001b[m\u001b[KCAFE\r\n"
     ]
    }
   ],
   "source": [
    "!grep -E --color=always '^[A-Z][0-9]+ ' uniquenames.txt"
   ]
  },
  {
   "cell_type": "markdown",
   "metadata": {},
   "source": [
    "Find all restaurants that start with the word STARBUCKS, followed by any number of characters, and then have a digit."
   ]
  },
  {
   "cell_type": "code",
   "execution_count": 45,
   "metadata": {
    "collapsed": false
   },
   "outputs": [
    {
     "name": "stdout",
     "output_type": "stream",
     "text": [
      "\u001b[01;31m\u001b[KSTARBUCKS # 14840\u001b[m\u001b[K\r\n",
      "\u001b[01;31m\u001b[KSTARBUCKS (JFK TERMINAL 5\u001b[m\u001b[K-POST SECURITY DEPARTURE)\r\n",
      "\u001b[01;31m\u001b[KSTARBUCKS (STORE 16628\u001b[m\u001b[K)\r\n",
      "\u001b[01;31m\u001b[KSTARBUCKS 22420\u001b[m\u001b[K\r\n",
      "\u001b[01;31m\u001b[KSTARBUCKS COFFEE  #16608\u001b[m\u001b[K\r\n",
      "\u001b[01;31m\u001b[KSTARBUCKS COFFEE # 15440\u001b[m\u001b[K\r\n",
      "\u001b[01;31m\u001b[KSTARBUCKS COFFEE # 7463\u001b[m\u001b[K\r\n",
      "\u001b[01;31m\u001b[KSTARBUCKS COFFEE # 7540\u001b[m\u001b[K\r\n",
      "\u001b[01;31m\u001b[KSTARBUCKS COFFEE #14240\u001b[m\u001b[K\r\n",
      "\u001b[01;31m\u001b[KSTARBUCKS COFFEE #18509\u001b[m\u001b[K\r\n",
      "\u001b[01;31m\u001b[KSTARBUCKS COFFEE #20679\u001b[m\u001b[K\r\n",
      "\u001b[01;31m\u001b[KSTARBUCKS COFFEE #21514\u001b[m\u001b[K\r\n",
      "\u001b[01;31m\u001b[KSTARBUCKS COFFEE #22596\u001b[m\u001b[K\r\n",
      "\u001b[01;31m\u001b[KSTARBUCKS COFFEE #23266\u001b[m\u001b[K\r\n",
      "\u001b[01;31m\u001b[KSTARBUCKS COFFEE #23267\u001b[m\u001b[K\r\n",
      "\u001b[01;31m\u001b[KSTARBUCKS COFFEE #3438\u001b[m\u001b[K\r\n",
      "\u001b[01;31m\u001b[KSTARBUCKS COFFEE #7344\u001b[m\u001b[K\r\n",
      "\u001b[01;31m\u001b[KSTARBUCKS COFFEE #7358\u001b[m\u001b[K\r\n",
      "\u001b[01;31m\u001b[KSTARBUCKS COFFEE #7416\u001b[m\u001b[K\r\n",
      "\u001b[01;31m\u001b[KSTARBUCKS COFFEE #7682\u001b[m\u001b[K\r\n",
      "\u001b[01;31m\u001b[KSTARBUCKS COFFEE #7826\u001b[m\u001b[K\r\n",
      "\u001b[01;31m\u001b[KSTARBUCKS COFFEE #9282\u001b[m\u001b[K\r\n",
      "\u001b[01;31m\u001b[KSTARBUCKS COFFEE #9722\u001b[m\u001b[K\r\n",
      "\u001b[01;31m\u001b[KSTARBUCKS COFFEE (#19890\u001b[m\u001b[K)\r\n",
      "\u001b[01;31m\u001b[KSTARBUCKS COFFEE (#2785\u001b[m\u001b[K)\r\n",
      "\u001b[01;31m\u001b[KSTARBUCKS COFFEE (STORE #13539\u001b[m\u001b[K)\r\n",
      "\u001b[01;31m\u001b[KSTARBUCKS COFFEE (STORE #7216\u001b[m\u001b[K)\r\n",
      "\u001b[01;31m\u001b[KSTARBUCKS COFFEE (STORE #7555\u001b[m\u001b[K)\r\n",
      "\u001b[01;31m\u001b[KSTARBUCKS COFFEE (STORE #7577\u001b[m\u001b[K)\r\n",
      "\u001b[01;31m\u001b[KSTARBUCKS COFFEE (STORE #7587\u001b[m\u001b[K)\r\n",
      "\u001b[01;31m\u001b[KSTARBUCKS COFFEE (STORE #7696\u001b[m\u001b[K)\r\n",
      "\u001b[01;31m\u001b[KSTARBUCKS COFFEE (STORE #8614\u001b[m\u001b[K)\r\n",
      "\u001b[01;31m\u001b[KSTARBUCKS COFFEE (STORE 17478\u001b[m\u001b[K)\r\n",
      "\u001b[01;31m\u001b[KSTARBUCKS COFFEE (STORE 7261\u001b[m\u001b[K)\r\n",
      "\u001b[01;31m\u001b[KSTARBUCKS COFFEE (STORE#11650\u001b[m\u001b[K)\r\n",
      "\u001b[01;31m\u001b[KSTARBUCKS COFFEE (STORE#20161\u001b[m\u001b[K)\r\n",
      "\u001b[01;31m\u001b[KSTARBUCKS COFFEE COMPANY #22560\u001b[m\u001b[K\r\n",
      "\u001b[01;31m\u001b[KSTARBUCKS COFFEE MACY'S 6\u001b[m\u001b[KTH FLOOR\r\n",
      "\u001b[01;31m\u001b[KSTARBUCKS COFFEE# 7426\u001b[m\u001b[K\r\n",
      "\u001b[01;31m\u001b[KSTARBUCKS COFFEE#7462\u001b[m\u001b[K\r\n",
      "\u001b[01;31m\u001b[KSTARBUCKS JPMC 270\u001b[m\u001b[K PARK\r\n"
     ]
    }
   ],
   "source": [
    "!grep -E --color=always 'STARBUCKS.*[0-9]+' uniquenames.txt"
   ]
  },
  {
   "cell_type": "markdown",
   "metadata": {},
   "source": [
    "#### Grouping ()\n",
    "\n",
    "In the group operator, when a group of characters is enclosed in parentheses, the next operator applies to the whole group, not only the previous characters. For example, find all restaurant names that contain BA two times or more:"
   ]
  },
  {
   "cell_type": "code",
   "execution_count": 46,
   "metadata": {
    "collapsed": false
   },
   "outputs": [
    {
     "name": "stdout",
     "output_type": "stream",
     "text": [
      "ALI \u001b[01;31m\u001b[KBABA\u001b[m\u001b[K\r\n",
      "ALI \u001b[01;31m\u001b[KBABA\u001b[m\u001b[K RESTAURANT\r\n",
      "ALI \u001b[01;31m\u001b[KBABA\u001b[m\u001b[K'S\r\n",
      "ALI\u001b[01;31m\u001b[KBABA\u001b[m\u001b[K\r\n",
      "ALI\u001b[01;31m\u001b[KBABA\u001b[m\u001b[K EXPRESS\r\n",
      "ALI\u001b[01;31m\u001b[KBABA\u001b[m\u001b[K GRILL\r\n",
      "\u001b[01;31m\u001b[KBABA\u001b[m\u001b[K COOL\r\n",
      "\u001b[01;31m\u001b[KBABA\u001b[m\u001b[K GHANOUGE\r\n",
      "\u001b[01;31m\u001b[KBABA\u001b[m\u001b[K'S PIEROGIES\r\n",
      "\u001b[01;31m\u001b[KBABA\u001b[m\u001b[KGHANOUSH\r\n",
      "\u001b[01;31m\u001b[KBABA\u001b[m\u001b[KLU\r\n",
      "SA\u001b[01;31m\u001b[KBABA\u001b[m\u001b[K LOUNGE\r\n"
     ]
    }
   ],
   "source": [
    "!grep -E --color=always '(BA){{2,}}' uniquenames.txt"
   ]
  },
  {
   "cell_type": "markdown",
   "metadata": {},
   "source": [
    "#### In class exercices\n",
    "\n",
    "What do these regular expressions match?\n",
    "\n",
    "* b (cd)*\n",
    "* h (d)+\n",
    "* j? k+\n",
    "* (cd){2,5}\n",
    "* o(pre){3,}\n",
    "* Panos|Ipeirotis\n",
    "\n",
    "#### In class exercises (advanced)\n",
    "\n",
    "Write down the regular expressions for the following:\n",
    "\n",
    "* A telephone number (e.g, 212-555-0921)\n",
    "* A zip+4 code (e.g, 10012-1809)\n",
    "* For matching a float number (e.g., +12.34 or -1.457 or 1023.4568)\n",
    "* Dollar amount with optional cents  (e.g. \\$0.33, \\$784)\n",
    "* Time of Day (e.g. 12:15am, 3:34pm)\n",
    "* Match urls  only of the form http://www.alphanumeric.com\n",
    "* Match an email of the form username@domain (assume  that the domain might be in the form alphanumeric.alphanumeric, or alphanumeric.alphanumeric.alphanumeric)   \n",
    "\n"
   ]
  },
  {
   "cell_type": "markdown",
   "metadata": {},
   "source": [
    "### Backreferences\n",
    "\n",
    "Sometimes it is handy to be able to refer to a match that was made earlier in a regex. This is done with backreferences. `\\k` is the backreference specifier, where `k` is a number, which refers to the `k`-th regular expression *that was enclosed in parenthesis*.\n",
    "\n",
    "For example, find if the first character(s) of a line are the same as the last:\n"
   ]
  },
  {
   "cell_type": "code",
   "execution_count": 50,
   "metadata": {
    "collapsed": false
   },
   "outputs": [
    {
     "name": "stdout",
     "output_type": "stream",
     "text": [
      "\u001b[01;31m\u001b[K108 LOUNGE - CLUB 108\u001b[m\u001b[K\r\n",
      "\u001b[01;31m\u001b[KANTEK RESTAURANT\u001b[m\u001b[K\r\n",
      "\u001b[01;31m\u001b[KANTOJITOS RETAURANT\u001b[m\u001b[K\r\n",
      "\u001b[01;31m\u001b[KANTONIO'S RESTAURANT\u001b[m\u001b[K\r\n",
      "\u001b[01;31m\u001b[KARRIBA ARRIBA\u001b[m\u001b[K\r\n",
      "\u001b[01;31m\u001b[KBARCELONA BAR\u001b[m\u001b[K\r\n",
      "\u001b[01;31m\u001b[KBARRACUDA BAR\u001b[m\u001b[K\r\n",
      "\u001b[01;31m\u001b[KBERONBERON\u001b[m\u001b[K\r\n",
      "\u001b[01;31m\u001b[KBINGO BINGO BINGO\u001b[m\u001b[K\r\n",
      "\u001b[01;31m\u001b[KBUMBLE AND BUMBLE\u001b[m\u001b[K\r\n",
      "\u001b[01;31m\u001b[KBURGER BURGER\u001b[m\u001b[K\r\n",
      "\u001b[01;31m\u001b[KCENTER PLATE- CONCOURSE CAFE-JACOB K JAVITS CONVENTION CENTER\u001b[m\u001b[K\r\n",
      "\u001b[01;31m\u001b[KCENTERPLATE-EMPLOYEE CAFETERIA-JACOB K JAVITS CONVENTION CENTER\u001b[m\u001b[K\r\n",
      "\u001b[01;31m\u001b[KCHARLES SALLY & CHARLES\u001b[m\u001b[K\r\n",
      "\u001b[01;31m\u001b[KCHEEBURGER CHEEBURGER\u001b[m\u001b[K\r\n",
      "\u001b[01;31m\u001b[KCHEN MOMMY KITCHEN\u001b[m\u001b[K\r\n",
      "\u001b[01;31m\u001b[KCHEN'S KITCHEN\u001b[m\u001b[K\r\n",
      "\u001b[01;31m\u001b[KCHOP CHOP\u001b[m\u001b[K\r\n",
      "\u001b[01;31m\u001b[KCREPE SUCRE\u001b[m\u001b[K\r\n",
      "\u001b[01;31m\u001b[KDIP DIP\u001b[m\u001b[K\r\n",
      "\u001b[01;31m\u001b[KETCETERA ETCETERA\u001b[m\u001b[K\r\n",
      "\u001b[01;31m\u001b[KGAJI GAJI\u001b[m\u001b[K\r\n",
      "\u001b[01;31m\u001b[KGIT-IT-N-GIT\u001b[m\u001b[K\r\n",
      "\u001b[01;31m\u001b[KGONZALEZ Y GONZALEZ\u001b[m\u001b[K\r\n",
      "\u001b[01;31m\u001b[KGUDE GUDE\u001b[m\u001b[K\r\n",
      "\u001b[01;31m\u001b[KHALF AND HALF\u001b[m\u001b[K\r\n",
      "\u001b[01;31m\u001b[KHOME SWEET HOME\u001b[m\u001b[K\r\n",
      "\u001b[01;31m\u001b[KJANCHI JANCHI\u001b[m\u001b[K\r\n",
      "\u001b[01;31m\u001b[KKENEDY FRIED CHICKEN\u001b[m\u001b[K\r\n",
      "\u001b[01;31m\u001b[KKENNDY FRIED CHICKEN\u001b[m\u001b[K\r\n",
      "\u001b[01;31m\u001b[KKENNEDY  FRIED CHICKEN\u001b[m\u001b[K\r\n",
      "\u001b[01;31m\u001b[KKENNEDY FRIED CHICKEN\u001b[m\u001b[K\r\n",
      "\u001b[01;31m\u001b[KKENNEDY GRILL & FRIED CHICKEN\u001b[m\u001b[K\r\n",
      "\u001b[01;31m\u001b[KKENNEDY GRILL AND FRIED CHICKEN\u001b[m\u001b[K\r\n",
      "\u001b[01;31m\u001b[KKENNEDY PIZZA & CHICKEN\u001b[m\u001b[K\r\n",
      "\u001b[01;31m\u001b[KKENTUCKY FRIED CHICKEN\u001b[m\u001b[K\r\n",
      "\u001b[01;31m\u001b[KKOPI KOPI\u001b[m\u001b[K\r\n",
      "\u001b[01;31m\u001b[KLAS RAMBLAS\u001b[m\u001b[K\r\n",
      "\u001b[01;31m\u001b[KLES HALLES\u001b[m\u001b[K\r\n",
      "\u001b[01;31m\u001b[KLOS 3 POTRILLOS\u001b[m\u001b[K\r\n",
      "\u001b[01;31m\u001b[KLOS DOS POTRILLOS\u001b[m\u001b[K\r\n",
      "\u001b[01;31m\u001b[KLOS TRES POTRILLOS\u001b[m\u001b[K\r\n",
      "\u001b[01;31m\u001b[KLUCA LUCA\u001b[m\u001b[K\r\n",
      "\u001b[01;31m\u001b[KMANGO MANGO\u001b[m\u001b[K\r\n",
      "\u001b[01;31m\u001b[KMANGOMANGO\u001b[m\u001b[K\r\n",
      "\u001b[01;31m\u001b[KMOCU-MOCU\u001b[m\u001b[K\r\n",
      "\u001b[01;31m\u001b[KNAKA NAKA\u001b[m\u001b[K\r\n",
      "\u001b[01;31m\u001b[KNAM NAM\u001b[m\u001b[K\r\n",
      "\u001b[01;31m\u001b[KNITA NITA\u001b[m\u001b[K\r\n",
      "\u001b[01;31m\u001b[KNORTHERN MANOR\u001b[m\u001b[K\r\n",
      "\u001b[01;31m\u001b[KONE AND ONE\u001b[m\u001b[K\r\n",
      "\u001b[01;31m\u001b[KPIO PIO\u001b[m\u001b[K\r\n",
      "\u001b[01;31m\u001b[KPIO-PIO\u001b[m\u001b[K\r\n",
      "\u001b[01;31m\u001b[KSAATCHI & SAATCHI\u001b[m\u001b[K\r\n",
      "\u001b[01;31m\u001b[KSALSA Y SALSA\u001b[m\u001b[K\r\n",
      "\u001b[01;31m\u001b[KSAN SOO KAP SAN\u001b[m\u001b[K\r\n",
      "\u001b[01;31m\u001b[KSANSOOKAPSAN\u001b[m\u001b[K\r\n",
      "\u001b[01;31m\u001b[KSEBA SEBA\u001b[m\u001b[K\r\n",
      "\u001b[01;31m\u001b[KSEBA-SEBA\u001b[m\u001b[K\r\n",
      "\u001b[01;31m\u001b[KSHERATON NEW YORK HOTEL @ LINK SHERATON\u001b[m\u001b[K\r\n",
      "\u001b[01;31m\u001b[KSHINJU III SUSHI\u001b[m\u001b[K\r\n",
      "\u001b[01;31m\u001b[KSOOM SOOM\u001b[m\u001b[K\r\n",
      "\u001b[01;31m\u001b[KSUSHI SUSHI\u001b[m\u001b[K\r\n",
      "\u001b[01;31m\u001b[KTAKA TAKA\u001b[m\u001b[K\r\n",
      "\u001b[01;31m\u001b[KTETE-A-TETE\u001b[m\u001b[K\r\n",
      "\u001b[01;31m\u001b[KTUK TUK\u001b[m\u001b[K\r\n",
      "\u001b[01;31m\u001b[KVIS-A-VIS\u001b[m\u001b[K\r\n"
     ]
    }
   ],
   "source": [
    "!grep -E --color=always '^(.{{3,}}).*\\1$' uniquenames.txt"
   ]
  },
  {
   "cell_type": "markdown",
   "metadata": {},
   "source": [
    "Or find all the restaurant names that the first 5 characters (or more) are identical to the last characters."
   ]
  },
  {
   "cell_type": "code",
   "execution_count": null,
   "metadata": {
    "collapsed": false
   },
   "outputs": [],
   "source": [
    "!grep -E '^([A-Z]+)\\1$' uniquenames.txt"
   ]
  },
  {
   "cell_type": "markdown",
   "metadata": {},
   "source": [
    "Find all names that have three consecutive same digits"
   ]
  },
  {
   "cell_type": "code",
   "execution_count": null,
   "metadata": {
    "collapsed": false
   },
   "outputs": [],
   "source": [
    "!grep -E  --color=always '([0-9])\\1\\1' uniquenames.txt"
   ]
  },
  {
   "cell_type": "markdown",
   "metadata": {},
   "source": [
    "As we are going to see, these backreferences will also be of tremendous use for extraction purposes."
   ]
  },
  {
   "cell_type": "markdown",
   "metadata": {},
   "source": [
    "#### In class exercise (advanced)\n",
    "\n",
    "Say that you have a file with telephone numbers written in a variety of forms: \n",
    "\n",
    "* 679-397-5255\n",
    "* 2126660921\n",
    "* 212-998-0902\n",
    "* 888-888-2222\n",
    "* 800-555-1211\n",
    "* 800 555 1212\n",
    "* 800.555.1213\n",
    "* (800) 555-1214\n",
    "* 1-800-555-1215\n",
    "* 1(800)555-1216\n",
    "* 800-555-1212-1234\n",
    "* 800-555-1212x1234\n",
    "* 800-555-1212 ext. 1234\n",
    "* work 1-(800) 555.1212 #1234\n",
    "\n",
    "The task is to standardize everything in the form (xxx)-xxx-xxx.\n"
   ]
  },
  {
   "cell_type": "markdown",
   "metadata": {},
   "source": [
    "To make the process interactive, go to http://regex101.com/?#python, copy and paste the numbers above in the textarea called \"Text String\", and then try to write the regular expression above. (As a side note, the website provides excellent explanations about the meaning of the regular expression that you write down.) Remember to put the \"g\" character in the small textfield next to the regex: this has the same meaning as in sed, and it means \"find globally\" the regex, not just the first occurence."
   ]
  },
  {
   "cell_type": "markdown",
   "metadata": {},
   "source": [
    "\n",
    "If you manage to deal with that task, consider the case of also having international country calling codes (e.g., +1 for US, +44 for UK, +7 for Russia, +30 for Greece, +354 for Iceland etc), and also standardizing the extensions."
   ]
  },
  {
   "cell_type": "markdown",
   "metadata": {},
   "source": [
    "### Additional Regex Resources\n",
    "\n",
    "* [Visual Regular Expression Tester](http://www.debuggex.com/?flavor=pcre)\n",
    "* [Test Python Regular Expressions Online](http://www.pyregex.com/)\n",
    "* [Regular Expressions 101](http://regex101.com/?)\n",
    "* [Python's re Library Official Documentation](http://docs.python.org/2/library/re.html)\n",
    "* [Regular expression reference at W3schools](http://www.w3schools.com/jsref/jsref_obj_regexp.asp)\n",
    "* [Parsing phone numbers using Python and regular expressions](http://www.diveintopython.net/regular_expressions/phone_numbers.html)"
   ]
  },
  {
   "cell_type": "markdown",
   "metadata": {},
   "source": [
    "### Additional Regular Expressions\n",
    "\n",
    "While we have not used these before, they are commonly used shortcuts to simplify the construction of regular expressions:\n",
    "\n",
    "* `\\d`: matches the digits, 0-9.\n",
    "* `\\D`: matches anything but `\\d`.\n",
    "* `\\w`: matches any alphanumeric character plus underscore: `[A-Za-z0-9_]`.\n",
    "* `\\W`: matches anything but `\\w`.\n",
    "* `\\s`: matches any \"whitespace\" character (space, tab, newline, etc): `[ \\t\\n\\r\\f\\v]`.\n",
    "* `\\S`: matches anything but `\\s`.\n",
    "* `\\b`: matches the breaks between alphanumeric and non-alphanumeric characters (an empty string), the boundary between `\\w` and `\\W`. Useful for ensuring that what you match is actually a word.\n",
    "* `\\B`: matches anything but `\\b`. Useful for ensuring your match is in the middle of a word.\n",
    "\n",
    "And the ones below get a little bit more advanced:\n",
    "\n",
    "* `*?`, `+?`: ordinarily, `*`, `+` and `?` are greedy, matching the longest possible string that satisfies the regular expression. Adding the `?` to any of these makes it non-greedy, instead matching the shortest possible expression. \n",
    "* `(?: )`: A non-capturing group. This works just as `()`, but doesn’t hold on to the matched contents.\n",
    "* `(?<=x)`: Matches any string that is preceded by x (an arbitrary regular expression).\n"
   ]
  },
  {
   "cell_type": "code",
   "execution_count": 56,
   "metadata": {
    "collapsed": false
   },
   "outputs": [],
   "source": [
    "!curl -L -s \"http://finance.yahoo.com/\" -o /home/ubuntu/data/test.html\n"
   ]
  },
  {
   "cell_type": "code",
   "execution_count": 58,
   "metadata": {
    "collapsed": false
   },
   "outputs": [
    {
     "name": "stdout",
     "output_type": "stream",
     "text": [
      "\t<meta property=\"og:image\" content=\"http://l3.yimg.com/bt/api/res/1.2/M7vS95b2fvSzHFeFStPk0A--/YXBwaWQ9eW5ld3NfbGVnbztxPTc1O3c9NjAw/http://l.yimg.com/os/mit/media/m/social/images/social_default_logo-1481777.png\"/>\r\n",
      "<link rel=\"stylesheet\" type=\"text/css\" href=\"http://l.yimg.com/zz/combo?os/stencil/2.0.23/styles.css&os/mit/media/p/content/other/ad-controller-desktop-min-2e496c7.css&os/mit/media/p/content/base/v2-master-min-f784570.css&os/mit/media/p/content/base/v2-desktop-min-8180379.css&os/mit/media/p/common/stencil-fix-min-56d3a2e.css&os/mit/media/p/content/grids/v2sg-desktop-min-386af90.css&os/mit/media/p/content/overrides/classic-overrides-min-c644875.css&os/mit/media/p/content/overrides/stencil-v2s-reset-overrides-min-863e25b.css&os/mit/media/p/content/other/react-sidekick-min-3b4b3c1.css&os/mit/media/m/header/header-uh3-desktop-min-0724437.css&os/mit/media/m/ads/ads-min-bcb1fc4.css&os/mit/media/m/navigation/content-navigation-desktop-min-a8a04a0.css&os/mit/media/m/navigation/content-navigation-stencil-desktop-min-a8a04a0.css\" />\r\n",
      "<link rel=\"stylesheet\" type=\"text/css\" href=\"http://l.yimg.com/zz/combo?os/mit/media/m/content/sfl-notifier-min-ee15495.css&os/mit/media/m/content_social/media-content-follow-property-min-6f74faf.css&os/mit/media/m/content_social/media-content-follow-property-desktop-min-d86f135.css&os/mit/media/m/finance/common-gs-min-12d09cb.css&os/mit/media/m/finance/watchlist-gs-desktop-min-228a992.css&os/mit/media/m/finance/follow-quote-min-9f13aa8.css&os/mit/media/m/quotes/quotes-search-gs-desktop-min-d3800d6.css&os/mit/media/m/quotes/quotes-common-min-a978f16.css&os/mit/media/m/finance/disclaimer-gs-desktop-min-808a7c1.css&os/mit/media/m/content_index/breaking-news-desktop-min-715358a.css&os/mit/media/m/finance/quote-streaming-gs-min-919aeef.css&os/mit/media/m/quotes/market-summary-gs-desktop-min-f5be354.css&os/mit/media/m/finance/column-super-hero-desktop-min-fde73b3.css&os/mit/media/m/header/gta-min-08f9e98.css&os/mit/media/m/content_index/generic-listings-desktop-min-da555a8.css&os/mit/media/m/finance/tumblr_article_list-min-6d6b2ca.css&yui:3.18.1/build/overlay/assets/skins/sam/overlay.css&os/mit/media/m/content_social/media-content-share-buttons-int-min-0116754.css\" />\r\n",
      "<script type=\"text/javascript\" src=\"http://l.yimg.com/zz/combo?yui:3.18.1/build/yui/yui-min.js&os/mit/media/p/common/rmp-min-56d3a2e.js&os/mit/media/m/base/viewport-loader-min-649ba6f.js&ss/rapid-3.32.js&os/mit/td/asset-loader-min-b6b675d4.js&os/mit/media/p/content/react-with-addons-min-098f019.js\"></script>\r\n",
      "            <img src=\"http://l3.yimg.com/bt/api/res/1.2/yRlDDxnjmpb78It6a.6_YQ--/YXBwaWQ9eW5ld3M7dz05MjtoPTkyO2ZpPWZpbGw7cHhvZmY9NTA7cHlvZmY9MTAw/https://s.yimg.com/os/games/global/bab136f5-3faf-4d41-9369-d1cc1d9ab8e2/logo/d0776bd486fa0eb16f2dc0f5e6aa016e.jpg\" title=\"Bricks Breaking\" class=\"W-100\"></img>\r\n",
      "            <img src=\"http://l3.yimg.com/bt/api/res/1.2/.LhvnJNNhmqj_JnpcFWemA--/YXBwaWQ9eW5ld3M7dz05MjtoPTkyO2ZpPWZpbGw7cHhvZmY9NTA7cHlvZmY9MTAw/https://s.yimg.com/os/446/2013/06/21/marble-lines-20x20-jpg_223438.jpg\" title=\"Marble Lines\" class=\"W-100\"></img>\r\n",
      "            <img src=\"http://l2.yimg.com/bt/api/res/1.2/e2OTvFaPp0CIvQ1KWPPWFA--/YXBwaWQ9eW5ld3M7dz05MjtoPTkyO2ZpPWZpbGw7cHhvZmY9NTA7cHlvZmY9MTAw/https://s.yimg.com/os/446/2014/04/29/shape-inlay-60x60-jpg_182052.jpg\" title=\"Shape Inlay\" class=\"W-100\"></img>\r\n",
      "\t   \t\t\t     <div class='lead-image BackgroundPic Ov-h Fl-start Pos-r' style='background-image:url(http://l.yimg.com/bt/api/res/1.2/6NZiCbPB1GKlcNbZY6wnuA--/YXBwaWQ9eW5ld3NfbGVnbztmaT1maWxsO2g9MjU2O3B5b2ZmPTE1O3E9NzU7dz0zMDA-/http://globalfinance.zenfs.com/images/US_AHTTP_REUTERS_OLUSBUS_WRAPPER_H_LIVE_NEW/2016-05-24T122340Z_1_LYNXNPEC4N0U5_RTROPTP_3_TOLL-BROTHERS-RESULTS_original.jpg)'>\r\n",
      "\t   \t\t \t        <div class='child-image BackgroundPic Ov-h Pos-r' style='background-image:url(http://l3.yimg.com/bt/api/res/1.2/HbngicEmwcs31yZhLCCVhg--/YXBwaWQ9eW5ld3NfbGVnbztmaT1maWxsO2g9MTM2O3B5b2ZmPTE1O3E9NzU7dz0zMDA-/http://globalfinance.zenfs.com/images/SG_AHTTP_OLGBBUS_Wrapper_NewFeed_1/2016-05-25T184016Z_1_LYNXNPEC4O1QF_RTROPTP_3_MCDONALDS-CEO_original.jpg)'>\r\n",
      "\t   \t\t \t\t    <a href='/news/microsoft-windows-mobile-strategy-change-173738169.html' class='D-b Fz-s Fw-400' data-ylk='rspns:nav;t3:sub0;elm:hdln;elmt:ct;itc:0;pkgt:15;g:06afb1ce-6962-32d9-ae42-e57d34f245cd;ct:1;cpos:3;'>\r\n",
      "\t   \t\t \t        <div class='child-image BackgroundPic Ov-h Pos-r' style='background-image:url(http://l1.yimg.com/bt/api/res/1.2/4kdmxkZwSuaxVcvP4X00sg--/YXBwaWQ9eW5ld3NfbGVnbztmaT1maWxsO2g9MTM2O3B5b2ZmPTE1O3E9NzU7dz0zMDA-/http://l.yimg.com/os/publish-images/finance/2016-05-25/952b2700-229a-11e6-9be1-03710a14d9bb_Screen-Shot-2016-05-25-at-12-53-43-PM.png.cf.jpg)'>\r\n",
      "\t   \t\t \t        <div class='child-image BackgroundPic Ov-h Pos-r' style='background-image:url(http://l2.yimg.com/bt/api/res/1.2/SrUlmj.5zw_g4FSYwV9rFQ--/YXBwaWQ9eW5ld3NfbGVnbztmaT1maWxsO2g9MTM2O3B5b2ZmPTE1O3E9NzU7dz0zMDA-/https://media.zenfs.com/creatr-images/GLB/2016-05-25/5073f890-22a3-11e6-aba1-2fe66a4f38ec_d2613d1b677e03d36daf2ed7236094df.jpg)'>\r\n",
      "\t   \t\t \t            <a class='Stretch D-b Z-1' href='/news/here-s-how-to-pay-less-than--10-on-top-rated-wine-172500433.html' data-ylk='rspns:nav;t3:sub2;elm:img;elmt:ct;itc:0;pkgt:15;g:8cf83480-5d3c-3ba1-bbb1-5db4b52cb529;ct:1;' data-outcome='pl'>\r\n",
      "\t   \t\t \t\t    <a href='/news/love-honor-share-credit-card-143125664.html' class='D-b Fz-s Fw-400' data-ylk='rspns:nav;t3:sub2;elm:hdln;elmt:ct;itc:0;pkgt:15;g:8cf83480-5d3c-3ba1-bbb1-5db4b52cb529;ct:1;cpos:13;'>\r\n",
      "</div><input type=\"hidden\" class=\"historystate\" data-time=\"1464202994.9284\"><ul><li class=\"content has-image voh-parent cf\" data-uuid=\"3c9f35d1-f6be-3248-9daf-8ec937790d2e\" data-ylk=\"sec:strm;cat:default;bpos:1;cpos:1;pkgt:4;ccode:grandSlam_finance;g:3c9f35d1-f6be-3248-9daf-8ec937790d2e;ed:0;\" data-wikiids=\"YCT:001000303|YCT:001000311|WIKIID:Credit_card|WIKIID:Credit_bureau|WIKIID:A_Good_Thing|WIKIID:Student_loan|WIKIID:Personal_finance|WIKIID:Interest_rate|WIKIID:Student_debt\" data-reason=\"TRENDING\" data-i=\"4000009314A100S00065\"><div class=\"wrapper cf\"><div class=\"img ov-h thumb-left \"><img src=\"http://l.yimg.com/ts/api/res/1.2/SPZAVDgKY4NESM1tgqYFIg--/YXBwaWQ9eWhvbWVydW47cT00NTtzbT0xO2ZpPWZpbGw7dz0xNjQ7aD0xNjQ7cHlvZmY9MA--/http://portal.kiplinger.com/kipimages/pages/14729.jpg.cf.jpg\" width=\"82\" height=\"82\" alt=\"\" title=\"\"></div><div class=\"body classical\"><div class=\"body-wrap\"><h3 class=\"fw-b fz-s lh-115\"><a class=\"\" href=\"http://portal.kiplinger.com/article/credit/T017-C000-S015-debt-payoffs-that-boost-your-credit-score-the-most.html?rid=SYN-yahoo&rpageid=14729&yptr=yahoo\" data-ylk=\"sec:strm;ed:0;bpos:1;pos:1;cpos:1;g:3c9f35d1-f6be-3248-9daf-8ec937790d2e;tar:portal.kiplinger.com;ltxt:7DebtPay;ct:1;rspns:nav;pkgt:4;r:4000009314A100S00065;slk:title;itc:0;prov:Kiplinger;sort:1;intl:us;cat:default;t1:a3;t2:strm;t3:ct;elm:itm;ccode:grandSlam_finance;\" target=\"_blank\" rel=\"nofollow\"><u class='imgstretch thumb-left'></u>7 Debt Payoffs That Boost Your Credit Score the Most</a></h3><p class=\"summary mt-xxs\">Your credit score can be a baffling thing. Your score goes up, and it goes down, and it&#39;s not always clear what is responsible for the movement.</p></div><div class=\"attribution fz-xxs\"><span class=\"source\">Kiplinger<span class=\"d-ib img-sprite off-network-icon\"></span></span></div></div><div class=\"side-buttons\"><button class=\"check-icon side-button img-sprite rapid-noclick-resp voh\">More like this</button><button class=\"img-sprite close side-button voh rapid-noclick-resp\">Remove</button></div></div></li><li class=\"content rmx-ad featured featured-ads has-image voh-parent cf\" data-uuid=\"31041828646\" data-ylk=\"sec:strm;cat:default;bpos:1;cpos:2;pkgt:5;ccode:grandSlam_finance;g:31041828646;ed:0;\" data-rmx-beacon=\"https://beap.gemini.yahoo.com/mbcsc?bv=1.0.0&amp;es=pXof62sGIS.s_bJNTcdrtV2.ZnzlEQGryp.WCT9pJ6CtCARfmXHb2hblZ3cppU1y4_tl8BHYDKVwAxafZcgEUwSrwqrfM3pjg5um_Ujl4CRV39z5RKV5lyFavzZWTuMDqCkoHJAYqzkzkKJbIdWsyzHi0r7zXocBidS9fSMjaRQtkarKTyUywuyIh3OKmkZsTIk0iQlxd4mYyx1u2flY0HP7l1g2NIYR.K2GPUXB2gHllstBIcw1SF7kE3DCXSkjvcbt9wm7bkt7kPrc.5.B6RyVEY_w_m2UqQdY5oOmsD11s3_pIQanTJ0XVIjfc45Bp.zj85MHPwnBYOsqkmAtRl8P_ehACDZBJQlRpmM.5xKXyRReW9A3hCsnz67CkQmPDQ--&amp;ap=2\" data-ad-feedback-beacon=\"https://us.af.beap.bc.yahoo.com/af?bv=1.0.0&amp;bs=(15v07vilv(gid$557585f4-22ab-11e6-b9ad-cf7c1596d32c-7f32e82b4700,st$1464202995019000,li$0,cr$31041828646,dmn$campbellskitchen.com,srv$3,exp$1464210195019000,ct$27,v$1.0,adv$1133569,pbid$1,seid$4492794))&amp;r=1464202995019&amp;al=$(AD_FEEDBACK)\" data-thirdparty-beacons=\"[&quot;https:\\/\\/secure-gl.imrworldwide.com\\/cgi-bin\\/m?ci=yahoo-ca&amp;at=view&amp;rt=banner&amp;st=image&amp;ca=yahoo_campbells_soup&amp;cr=site_served&amp;pc=native&amp;ce=yahoo&amp;r=1464202994&quot;]\" style=\"background-color:#fafaff;\"><div class=\"wrapper cf\"><div class=\"featured-image  \" style=\"background-image:url('http://l.yimg.com/ts/api/res/1.2/AveBoDUK7PrnsdXBc8gwFw--/YXBwaWQ9eWhvbWVydW47cT00MDtzbT0xO3c9NjAwO2g9MTI1NA--/https://s.yimg.com/av/moneyball/ads/1442870604485-22.jpg');background:none\\9;filter:progid:DXImageTransform.Microsoft.AlphaImageLoader(src=http://l.yimg.com/ts/api/res/1.2/AveBoDUK7PrnsdXBc8gwFw--/YXBwaWQ9eWhvbWVydW47cT00MDtzbT0xO3c9NjAwO2g9MTI1NA--/https://s.yimg.com/av/moneyball/ads/1442870604485-22.jpg,sizingMethod='scale');\"><span class=\"\" ></span></div><div class=\"body classical\"><div class=\"body-wrap\"><h3 class=\"fw-b fz-l\"><a class=\"\" href=\"https://beap.gemini.yahoo.com/mbclk?bv=1.0.0&es=DzR7Pf8GIS_p3tQYme24x6KWtQ0R_Nzcg96v.FwGObtSuNsU.QyIYWxI_cyNXgZnwl7OnarsS6PGokpTOK4.c0VmMdgF19vTq_qcP.rGkzQ0B7fJej1Nyqs7qhZAot2h5GgnHAXAjc6Ka7ilah37pq7A4dkhi4GQV0m9bzKoiTy4jvgvwSZUTQGpRtJaFNDGR6r0YghynH8.Rztnfu_mYxV2l_EHfJ8GZtPI2_ZQ4eK7FGwvVC5Ekjv8.1C1xBlQTHzob6pZYzNJDohiIXx1KhO4pJRPq5wotXOsrT7XvQPN9pzVfJ9i4touEagpliEjXe6YlSLddiZBmhxhyXRnJ3q.nm3lnw4XbG2TdIpXGD.5wndNAW4PSiKbYbocz5ft8zSkuEs.ffg3VviIMkFCDhh.kpmhfQTVZNlcM21cxoUW2rlY3ntzv5L8Okwi.3gPIAnttp7uNPQ01MkwlzpeXF.MLkxHrux.N7wpv4YrZnKxOHjuyaOEVz2MAMJb_nQm2vv4KnxgoS7fthbQcV4.csdZrZn6b7sB5koPTz2PzTVHSjD8.GEK.Rv_WfKqPwMC%26lp=\" data-ylk=\"sec:strm;ed:0;bpos:1;pos:1;cpos:2;g:31041828646;tar:beap.gemini.yahoo.com;ltxt:TaterTop;ct:1;rspns:nav;pkgt:5;ad:1;slk:title;itc:0;sort:1;intl:us;cat:default;t1:a3;t2:strm;t3:ct;elm:itm;ccode:grandSlam_finance;\" target=\"_blank\" rel=\"nofollow\"><u class='ftrimgstretch  '></u>Tater Topped Casserole</a></h3><p class=\"summary mt-xxs\">Hungry guests clamor for more when you serve this well-loved old-fashioned potato-topped casserole.</p></div><a class=\"fz-xxs adv rapid-noclick-resp\" href=\"https://beap.gemini.yahoo.com/mbclk?bv=1.0.0&es=DzR7Pf8GIS_p3tQYme24x6KWtQ0R_Nzcg96v.FwGObtSuNsU.QyIYWxI_cyNXgZnwl7OnarsS6PGokpTOK4.c0VmMdgF19vTq_qcP.rGkzQ0B7fJej1Nyqs7qhZAot2h5GgnHAXAjc6Ka7ilah37pq7A4dkhi4GQV0m9bzKoiTy4jvgvwSZUTQGpRtJaFNDGR6r0YghynH8.Rztnfu_mYxV2l_EHfJ8GZtPI2_ZQ4eK7FGwvVC5Ekjv8.1C1xBlQTHzob6pZYzNJDohiIXx1KhO4pJRPq5wotXOsrT7XvQPN9pzVfJ9i4touEagpliEjXe6YlSLddiZBmhxhyXRnJ3q.nm3lnw4XbG2TdIpXGD.5wndNAW4PSiKbYbocz5ft8zSkuEs.ffg3VviIMkFCDhh.kpmhfQTVZNlcM21cxoUW2rlY3ntzv5L8Okwi.3gPIAnttp7uNPQ01MkwlzpeXF.MLkxHrux.N7wpv4YrZnKxOHjuyaOEVz2MAMJb_nQm2vv4KnxgoS7fthbQcV4.csdZrZn6b7sB5koPTz2PzTVHSjD8.GEK.Rv_WfKqPwMC%26lp=\" target=\"_blank\" rel=\"nofollow\"><span class=\"source\">Campbell's Kitchen</span></a><a href=\"http://help.yahoo.com/kb/index?page=content&y=PROD_FRONT&locale=en_US&id=SLN14553\" class=\"fz-xxs sp rapid-noclick-resp\" target=\"_blank\">Sponsored</a>            <a  class=\"adlink fz-xxs rapid-noclick-resp ad-link-icon\" href=\"https://info.yahoo.com/privacy/us/yahoo/relevantads.html\" target=\"_blank\"><i class=\"img-sprite\"></i></a>\r\n",
      "            <div class=\"side-buttons\"><button class=\"img-sprite close side-button voh rapid-noclick-resp\"></button></div><div class=\"attribution fz-xxs\"><div class=\"attribution-sub\"></div></div></div></div></li><li class=\"content enrich-slim voh-parent cf\" data-uuid=\"84f88e5f-d22f-34d3-a278-62acf4f138d2\" data-ylk=\"sec:strm;cat:default;bpos:1;cpos:3;pkgt:3;ccode:grandSlam_finance;g:84f88e5f-d22f-34d3-a278-62acf4f138d2;ed:0;\" data-wikiids=\"YCT:001000323|YCT:001000298|WIKIID:Buffalo_Wild_Wings|WIKIID:Ugh%21|WIKIID:Association_football|WIKIID:Heineken|WIKIID:Article_%28grammar%29|WIKIID:Fatigue_%28medical%29|WIKIID:PepsiCo\" data-reason=\"TRENDING\" data-i=\"4000006540A100S00065\"><div class=\"wrapper cf\"><div class=\"body classical\"><div class=\"body-wrap\"><h3 class=\"fw-b fz-s lh-115\"><a class=\"\" href=\"http://realmoney.thestreet.com/articles/05/25/2016/think-about-clipping-some-buffalo-wild-wings?puc=yahoo&cm_ven=YAHOO&yptr=yahoo\" data-ylk=\"sec:strm;ed:0;bpos:1;pos:1;cpos:3;g:84f88e5f-d22f-34d3-a278-62acf4f138d2;tar:realmoney.thestreet.com;ltxt:ThinkAbo;ct:1;rspns:nav;pkgt:3;r:4000006540A100S00065;slk:title;itc:0;prov:TheStreet.com;sort:1;intl:us;cat:default;t1:a3;t2:strm;t3:ct;elm:itm;ccode:grandSlam_finance;\" target=\"_blank\" rel=\"nofollow\">Think About Clipping Some Buffalo Wild Wings</a></h3><p class=\"summary mt-xxs\">The company can&#39;t raise prices, and its segment is saturated.</p></div><div class=\"attribution fz-xxs\"><span class=\"source\">TheStreet.com<span class=\"d-ib img-sprite off-network-icon\"></span></span></div><div class=\"enrichment stock lh-115\"><a href=\"http://finance.yahoo.com/q?s=BWLD\" data-ylk=\"sec:strm;ed:0;bpos:1;pos:1;cpos:3;g:84f88e5f-d22f-34d3-a278-62acf4f138d2;tar:finance.yahoo.com;ltxt:BWLD;ct:1;rspns:nav;pkgt:3;r:4000006540A100S00065;slk:quote;itc:0;prov:TheStreet.com;sort:1;intl:us;cat:default;t1:a3;t2:strm;t3:ct;elm:itm;ccode:grandSlam_finance;\" data-action=\"click\"><span class=\"symbol\">BWLD</span>&nbsp;$141.04&nbsp;<span class=\"down\">-0.74%</span></a></div></div><div class=\"side-buttons\"><button class=\"check-icon side-button img-sprite rapid-noclick-resp voh\">More like this</button><button class=\"img-sprite close side-button voh rapid-noclick-resp\">Remove</button></div></div></li><li class=\"content has-image voh-parent cf\" data-uuid=\"d8f85207-7544-3d17-8c67-4472eb809292\" data-ylk=\"sec:strm;cat:default;bpos:1;cpos:4;pkgt:4;ccode:grandSlam_finance;g:d8f85207-7544-3d17-8c67-4472eb809292;ed:0;\" data-wikiids=\"YCT:001000001|WIKIID:Getty_Images|WIKIID:Chapter_11,_Title_11,_United_States_Code|WIKIID:Product_%28business%29|WIKIID:E-commerce|WIKIID:Tweet_%28singer%29|WIKIID:Sport_Chalet|WIKIID:Retail|WIKIID:Private_equity_firm\" data-reason=\"TRENDING\" data-i=\"4000009104A100S00065\"><div class=\"wrapper cf\"><div class=\"img ov-h thumb-left \"><img src=\"http://l.yimg.com/ts/api/res/1.2/CARIzV7IPX5wnGpLdudrfg--/YXBwaWQ9eWhvbWVydW47cT00NTtzbT0xO2ZpPWZpbGw7dz0xNjQ7aD0xNjQ7cHlvZmY9MA--/http://slingstone.zenfs.com/offnetwork/a5766812f28e99b80c1f6407cdd8051f.cf.jpg\" width=\"82\" height=\"82\" alt=\"\" title=\"\"></div><div class=\"body classical\"><div class=\"body-wrap\"><h3 class=\"fw-b fz-s lh-115\"><a class=\"\" href=\"http://www.usatoday.com/story/money/2016/05/23/sports-authority-going-out-biz-sales-should-start-end-week/84792816/?yptr=yahoo\" data-ylk=\"sec:strm;ed:0;bpos:1;pos:1;cpos:4;g:d8f85207-7544-3d17-8c67-4472eb809292;tar:www.usatoday.com;ltxt:SportsAu;ct:1;rspns:nav;pkgt:4;r:4000009104A100S00065;slk:title;itc:0;prov:USAToday;sort:1;intl:us;cat:default;t1:a3;t2:strm;t3:ct;elm:itm;ccode:grandSlam_finance;\" target=\"_blank\" rel=\"nofollow\"><u class='imgstretch thumb-left'></u>Sports Authority shutting down with giant going-out-of-business sale</a></h3><p class=\"summary mt-xxs\">Store closing sales are set to begin by May 27 and finish no later than Aug. 31</p></div><div class=\"attribution fz-xxs\"><span class=\"source\">USA Today<span class=\"d-ib img-sprite off-network-icon\"></span></span></div></div><div class=\"side-buttons\"><button class=\"check-icon side-button img-sprite rapid-noclick-resp voh\">More like this</button><button class=\"img-sprite close side-button voh rapid-noclick-resp\">Remove</button></div></div></li><li class=\"content cavideo has-image voh-parent cf\" data-uuid=\"75bc7d97-2191-3089-93d0-1e52e0a05cab\" data-ylk=\"sec:strm;cat:default;bpos:1;cpos:5;pkgt:4;ccode:grandSlam_finance;g:75bc7d97-2191-3089-93d0-1e52e0a05cab;ed:0;\" data-wikiids=\"YCT:001000123\" data-reason=\"TRENDING\" data-i=\"4000011061A100S00065\"><div class=\"wrapper cf\"><div class=\"img ov-h thumb-left \"><img src=\"http://l.yimg.com/ts/api/res/1.2/1aiG4b1FEn07bz3nyiZLlg--/YXBwaWQ9eWhvbWVydW47cT04NTtzbT0xO2ZpPWZpbGw7dz04MjtoPTgyO3B5b2ZmPTA-/http://media.zenfs.com/en-US/video/video.cnbc2.com/af3b59780ce73f83bdc4e681305ea2d1.cf.jpg\" width=\"82\" height=\"82\" alt=\"\" title=\"\"><span class=\"icon-overlay\"><span class=\"video-icon d-ib\"><i class=\"icon-sprite\"></i> <span class=\"play-now fz-xxs\">Play</span></span></span></div><div class=\"body classical\"><div class=\"body-wrap\"><h3 class=\"fw-b fz-s lh-115\"><a class=\"\" href=\"/video/oil-refineries-france-now-shut-143400481.html\" data-ylk=\"sec:strm;ed:0;bpos:1;pos:1;cpos:5;g:75bc7d97-2191-3089-93d0-1e52e0a05cab;tar:finance.yahoo.com;ltxt:Alloilre;ct:3;rspns:nav;pkgt:4;r:4000011061A100S00065;slk:title;itc:0;prov:CNBCVideos;sort:1;grpt:vp;intl:us;cat:default;t1:a3;t2:strm;t3:ct;elm:itm;ccode:grandSlam_finance;\"><u class='imgstretch thumb-left'></u>All oil refineries in France now shut down</a></h3><p class=\"summary mt-xxs\">More than two thousand gas stations are running dry across France, with drivers lining up for hours to fill their cars.</p></div><div class=\"attribution fz-xxs\"><span class=\"source\">CNBC Videos</span></div></div><div class=\"side-buttons\"><button class=\"check-icon side-button img-sprite rapid-noclick-resp voh\">More like this</button><button class=\"img-sprite close side-button voh rapid-noclick-resp\">Remove</button></div></div></li><li class=\"content rmx-ad featured featured-ads has-image voh-parent cf\" data-uuid=\"31967795940\" data-ylk=\"sec:strm;cat:default;bpos:1;cpos:6;pkgt:5;ccode:grandSlam_finance;g:31967795940;ed:0;\" data-rmx-beacon=\"https://beap.gemini.yahoo.com/mbcsc?bv=1.0.0&amp;es=uyp9ajMGIS8olB3X0wcItxbQnZRFbIT6pplnFMBom7bQ1LyNKvsWzqROVTBn9u8vSAsI1wAk6kVz4c_jI7ELaOG4WFFvqNFpwK9c0BJq_kzh2udP0bYHvvFJ0aMKSao.lb.lY6ng0WLT_B8JGwEfQLV4DeGq0xCwRNzAfZQrpgVsFcR4GLlg9i3oLALrMzQIcKcVkfSIkgOeyxMw5dfBnVDExzQ7rlowzXmHszDmcds8y55orPOnZAfQtt2wf_rvjOypFX2hFcFOK.iHPRs0TwbGEZrId52EUJVmh6U_MFizV.wepAFEsOhSoYPOWzd7D9Xf4DzdZ9YCllVURE0s5GZPjrsUOYE0bf6XoJPZXi2tullDjmwZH3mfa4Fo0fcqb_I-&amp;ap=6\" data-ad-feedback-beacon=\"https://us.af.beap.bc.yahoo.com/af?bv=1.0.0&amp;bs=(15m46ehav(gid$557585f4-22ab-11e6-b9ad-cf7c1596d32c-7f32e82b4700,st$1464202995019000,li$0,cr$31967795940,dmn$c31967795940,srv$3,exp$1464210195019000,ct$27,v$1.0,adv$986095,pbid$1,seid$4492794))&amp;r=1464202995019&amp;al=$(AD_FEEDBACK)\" style=\"background-color:#fafaff;\"><div class=\"wrapper cf\"><div class=\"featured-image  \" style=\"background-image:url('http://l.yimg.com/ts/api/res/1.2/bZ9_qTrWUIAZk3Si4bwZ4w--/YXBwaWQ9eWhvbWVydW47cT00MDtzbT0xO3c9NjAwO2g9MTI1NA--/http://l.yimg.com/av/curveball/ads/pr/RESIZE_AND_CROP/1200x627/2a2a4a31327dbb04554e4d188dc05e5b.jpeg');background:none\\9;filter:progid:DXImageTransform.Microsoft.AlphaImageLoader(src=http://l.yimg.com/ts/api/res/1.2/bZ9_qTrWUIAZk3Si4bwZ4w--/YXBwaWQ9eWhvbWVydW47cT00MDtzbT0xO3c9NjAwO2g9MTI1NA--/http://l.yimg.com/av/curveball/ads/pr/RESIZE_AND_CROP/1200x627/2a2a4a31327dbb04554e4d188dc05e5b.jpeg,sizingMethod='scale');\"><span class=\"\" ></span></div><div class=\"body classical\"><div class=\"body-wrap\"><h3 class=\"fw-b fz-l\"><a class=\"\" href=\"https://beap.gemini.yahoo.com/mbclk?bv=1.0.0&es=92KooHkGIS_T9zHO2_ODbnFh7vBOOON7BeWW6o1BgmfM7qq8frtCv_zdgGf.ZiYYWqOTvtEbovS6S_9jOcdUKcKLe_6frafdKOrclDMsxlbGVLwM9KGt1Bs1r2UAdv9VkSLJGmcOfuEbmEQvS8mKe_ouHvpkzH6uX5toks5lVYIBeVbdDTR9QjAWuPcgGaMgIyrkWMUnbJ4zVl._1cWyduMR_v7XAQCv.LM8GPiIjMLiwXSUhOjGd4nxaiqgPOeGQgoQs4mKJSSDNw0plfsP0ykLGjkNx4CWQdW1UEzTp2CtitPWAraKF98soxmcDq4__ROtnqQ7XYRLr5p2lkSvZILi6VscuAswO3ZqN6Wg0lAxSHrBwqJT.ccQoyHAkq6iKtzqE0SDe7Uqd3VTeVBCW7fr6YRK2nNDyAk6dphTAMvH_Q8zB_DLNsdU3ukqb2GMai9E.F82Fp_FWtrnSgc3XiAtGk6sxpFScZpH6A--%26lp=\" data-ylk=\"sec:strm;ed:0;bpos:1;pos:1;cpos:6;g:31967795940;tar:beap.gemini.yahoo.com;ltxt:8FoodsTh;ct:1;rspns:nav;pkgt:5;ad:1;slk:title;itc:0;sort:1;intl:us;cat:default;t1:a3;t2:strm;t3:ct;elm:itm;ccode:grandSlam_finance;\" target=\"_blank\" rel=\"nofollow\"><u class='ftrimgstretch  '></u>8 Foods That Clean Up Smokers Lungs</a></h3><p class=\"summary mt-xxs\">Regenerate your lungs and help clean with these foods.</p></div><a class=\"fz-xxs adv rapid-noclick-resp\" href=\"https://beap.gemini.yahoo.com/mbclk?bv=1.0.0&es=92KooHkGIS_T9zHO2_ODbnFh7vBOOON7BeWW6o1BgmfM7qq8frtCv_zdgGf.ZiYYWqOTvtEbovS6S_9jOcdUKcKLe_6frafdKOrclDMsxlbGVLwM9KGt1Bs1r2UAdv9VkSLJGmcOfuEbmEQvS8mKe_ouHvpkzH6uX5toks5lVYIBeVbdDTR9QjAWuPcgGaMgIyrkWMUnbJ4zVl._1cWyduMR_v7XAQCv.LM8GPiIjMLiwXSUhOjGd4nxaiqgPOeGQgoQs4mKJSSDNw0plfsP0ykLGjkNx4CWQdW1UEzTp2CtitPWAraKF98soxmcDq4__ROtnqQ7XYRLr5p2lkSvZILi6VscuAswO3ZqN6Wg0lAxSHrBwqJT.ccQoyHAkq6iKtzqE0SDe7Uqd3VTeVBCW7fr6YRK2nNDyAk6dphTAMvH_Q8zB_DLNsdU3ukqb2GMai9E.F82Fp_FWtrnSgc3XiAtGk6sxpFScZpH6A--%26lp=\" target=\"_blank\" rel=\"nofollow\"><span class=\"source\">Healthy Scroll</span></a><a href=\"http://help.yahoo.com/kb/index?page=content&y=PROD_FRONT&locale=en_US&id=SLN14553\" class=\"fz-xxs sp rapid-noclick-resp\" target=\"_blank\">Sponsored</a>            <a  class=\"adlink fz-xxs rapid-noclick-resp ad-link-icon\" href=\"https://info.yahoo.com/privacy/us/yahoo/relevantads.html\" target=\"_blank\"><i class=\"img-sprite\"></i></a>\r\n",
      "            <div class=\"side-buttons\"><button class=\"img-sprite close side-button voh rapid-noclick-resp\"></button></div><div class=\"attribution fz-xxs\"><div class=\"attribution-sub\"></div></div></div></div></li><li class=\"content voh-parent cf\" data-uuid=\"bae42975-a6cd-319b-a212-577ffef0ef42\" data-ylk=\"sec:strm;cat:default;bpos:1;cpos:7;pkgt:3;ccode:grandSlam_finance;g:bae42975-a6cd-319b-a212-577ffef0ef42;ed:0;\" data-wikiids=\"YCT:001000168|YCT:001000123|WIKIID:Physical_exercise|WIKIID:Research_institute|WIKIID:Meditation|WIKIID:Employee_benefit|WIKIID:Colorectal_cancer|WIKIID:Chronic_condition|WIKIID:Cardiovascular_disease\" data-reason=\"TRENDING\" data-i=\"4000006404A100S00065\"><div class=\"wrapper cf\"><div class=\"body classical\"><div class=\"body-wrap\"><h3 class=\"fw-b fz-s lh-115\"><a class=\"\" href=\"http://www.usatoday.com/story/money/columnist/powell/2016/05/25/6-ways-have-happy-retirement/83547956/?yptr=yahoo\" data-ylk=\"sec:strm;ed:0;bpos:1;pos:1;cpos:7;g:bae42975-a6cd-319b-a212-577ffef0ef42;tar:www.usatoday.com;ltxt:6waystoh;ct:1;rspns:nav;pkgt:3;r:4000006404A100S00065;slk:title;itc:0;prov:USATODAY;sort:1;intl:us;cat:default;t1:a3;t2:strm;t3:ct;elm:itm;ccode:grandSlam_finance;\" target=\"_blank\" rel=\"nofollow\">6 ways to have a happy retirement</a></h3><p class=\"summary mt-xxs\">Retirees are less satisfied these days, but there are easy ways to change that.</p></div><div class=\"attribution fz-xxs\"><span class=\"source\">USA TODAY<span class=\"d-ib img-sprite off-network-icon\"></span></span></div></div><div class=\"side-buttons\"><button class=\"check-icon side-button img-sprite rapid-noclick-resp voh\">More like this</button><button class=\"img-sprite close side-button voh rapid-noclick-resp\">Remove</button></div></div></li><li class=\"content has-image voh-parent cf\" data-uuid=\"d50ca684-cd63-30a4-b298-4085ca370a48\" data-ylk=\"sec:strm;cat:default;bpos:1;cpos:8;pkgt:4;ccode:grandSlam_finance;g:d50ca684-cd63-30a4-b298-4085ca370a48;ed:0;\" data-wikiids=\"YCT:001000346|YCT:001000299\" data-reason=\"TRENDING\" data-i=\"4000007468A100S00065\"><div class=\"wrapper cf\"><div class=\"img ov-h thumb-left \"><img src=\"http://l.yimg.com/os/mit/media/m/base/images/transparent-1093278.png\" style=\"background-image:url('http://l.yimg.com/ts/api/res/1.2/QLl7fAAWRtU25gIv4s05IQ--/YXBwaWQ9eWhvbWVydW47cT00NTtzbT0xO2ZpPWZpbGw7dz0xNjQ7aD0xNjQ7cHlvZmY9MA--/http://slingstone.zenfs.com/offnetwork/4f29e77454c3ef5d95de380e5530b073.cf.jpg');\" width=\"82\" height=\"82\" alt=\"\" title=\"\" class=\"lzbg\"></div><div class=\"body classical\"><div class=\"body-wrap\"><h3 class=\"fw-b fz-s lh-115\"><a class=\"\" href=\"http://www.marketwatch.com/story/5-things-rich-people-do-with-money-that-you-should-be-doing-2016-05-23?siteid=yhoof2&yptr=yahoo\" data-ylk=\"sec:strm;ed:0;bpos:1;pos:1;cpos:8;g:d50ca684-cd63-30a4-b298-4085ca370a48;tar:www.marketwatch.com;ltxt:5thingsr;ct:1;rspns:nav;pkgt:4;r:4000007468A100S00065;slk:title;itc:0;prov:MarketWatch;sort:1;intl:us;cat:default;t1:a3;t2:strm;t3:ct;elm:itm;ccode:grandSlam_finance;\" target=\"_blank\" rel=\"nofollow\"><u class='imgstretch thumb-left'></u>5 things rich people do with money — that you should be doing</a></h3><p class=\"summary mt-xxs\">You can learn a lot from how rich people handle their money.</p></div><div class=\"attribution fz-xxs\"><span class=\"source\">MarketWatch<span class=\"d-ib img-sprite off-network-icon\"></span></span></div></div><div class=\"side-buttons\"><button class=\"check-icon side-button img-sprite rapid-noclick-resp voh\">More like this</button><button class=\"img-sprite close side-button voh rapid-noclick-resp\">Remove</button></div></div></li><li class=\"content has-image enrich-slim voh-parent cf\" data-uuid=\"405951ae-b665-3eed-8ffd-847120c57196\" data-ylk=\"sec:strm;cat:default;bpos:1;cpos:9;pkgt:4;ccode:grandSlam_finance;g:405951ae-b665-3eed-8ffd-847120c57196;ed:0;\" data-wikiids=\"YCT:001000298|WIKIID:Honeywell|WIKIID:Walt_Disney|WIKIID:Leslie_Moonves|WIKIID:Philippe_Dauman|WIKIID:Viacom|WIKIID:Yahoo%21|WIKIID:Salesforce.com|WIKIID:Mitt_Romney_presidential_campaign,_2012\" data-reason=\"TRENDING\" data-i=\"4000005883A100S00065\"><div class=\"wrapper cf\"><div class=\"img ov-h thumb-left \"><img src=\"http://l.yimg.com/os/mit/media/m/base/images/transparent-1093278.png\" style=\"background-image:url('http://l.yimg.com/ts/api/res/1.2/NOLEZtV8F3Bws80sl7wqYg--/YXBwaWQ9eWhvbWVydW47cT00NTtzbT0xO2ZpPWZpbGw7dz0xNjQ7aD0xNjQ7cHlvZmY9MA--/http://media.zenfs.com/en_us/News/ap_webfeeds/ad78616574a0478892617ca07f7ba391.jpg.cf.jpg');\" width=\"82\" height=\"82\" alt=\"\" title=\"\" class=\"lzbg\"></div><div class=\"body classical\"><div class=\"body-wrap\"><h3 class=\"fw-b fz-s lh-115\"><a class=\"\" href=\"/news/top-10-highest-paid-ceos-101130598.html\" data-ylk=\"sec:strm;ed:0;bpos:1;pos:1;cpos:9;g:405951ae-b665-3eed-8ffd-847120c57196;tar:finance.yahoo.com;ltxt:Top10hig;ct:1;rspns:nav;pkgt:4;r:4000005883A100S00065;slk:title;itc:0;prov:AssociatedPress;sort:1;intl:us;cat:default;t1:a3;t2:strm;t3:ct;elm:itm;ccode:grandSlam_finance;\"><u class='imgstretch thumb-left'></u>Top 10 highest-paid CEOs</a></h3><p class=\"summary mt-xxs\">Here are the 10 highest-paid CEOs for 2015, as calculated by The Associated Press and Equilar, an executive data firm.</p></div><div class=\"attribution fz-xxs\"><span class=\"source\">Associated Press</span></div><div class=\"enrichment stock lh-115\"><a href=\"http://finance.yahoo.com/q?s=DIS\" data-ylk=\"sec:strm;ed:0;bpos:1;pos:1;cpos:9;g:405951ae-b665-3eed-8ffd-847120c57196;tar:finance.yahoo.com;ltxt:DIS;ct:1;rspns:nav;pkgt:4;r:4000005883A100S00065;slk:quote;itc:0;prov:AssociatedPress;sort:1;intl:us;cat:default;t1:a3;t2:strm;t3:ct;elm:itm;ccode:grandSlam_finance;\" data-action=\"click\"><span class=\"symbol\">DIS</span>&nbsp;$100.08&nbsp;<span class=\"up\">0.57%</span></a></div></div><div class=\"side-buttons\"><button class=\"check-icon side-button img-sprite rapid-noclick-resp voh\">More like this</button><button class=\"img-sprite close side-button voh rapid-noclick-resp\">Remove</button></div></div></li><li class=\"content rmx-ad featured featured-ads has-image voh-parent cf\" data-uuid=\"32035502804\" data-ylk=\"sec:strm;cat:default;bpos:1;cpos:10;pkgt:5;ccode:grandSlam_finance;g:32035502804;ed:0;\" data-rmx-beacon=\"https://beap.gemini.yahoo.com/mbcsc?bv=1.0.0&amp;es=KY1G8EIGIS8ZQbZuMdT27oBZuvEMnE7NOY3xVGVQIYKFLxXw3jdo9UYQ9QH.5Hb5CB9hyoIWaiRuNYN.4CEPxlLL30nBD7xhXb.c8mxjjXWm.._qHM1V38Z6yxgIdkjsjGyAhQJqaWwdMtfPLqFrnCfOKpxJdUuEKAp8n3vEp8NdnJ6j5u2E6__3iGQsGpQkg1FlE29TAX9PgZ_XHumrdFC.pQCCcUzKJ6.Tpf0.Fi2F6DLYgj7iel_j.BexveBKHJywqjfJkNzguXQLXaGJlltPZPyMQY7L8AJDEfLR_zPoOI5lpAs5k9mETvPRDKoCQWMpKkzeF1qOHGVe5TVBF2NTCK_2U6t8tkEzXA9YnhHnrs2U4vBH60pzB8amwkBzNXoS&amp;ap=10\" data-ad-feedback-beacon=\"https://us.af.beap.bc.yahoo.com/af?bv=1.0.0&amp;bs=(15n3gi51t(gid$557585f4-22ab-11e6-b9ad-cf7c1596d32c-7f32e82b4700,st$1464202995019000,li$0,cr$32035502804,dmn$c32035502804,srv$3,exp$1464210195019000,ct$27,v$1.0,adv$1018236,pbid$1,seid$4492794))&amp;r=1464202995019&amp;al=$(AD_FEEDBACK)\" data-thirdparty-beacons=\"[&quot;https:\\/\\/ad.doubleclick.net\\/ddm\\/trackimpj\\/N5295.282706.YAHOO\\/B9755522.132130372;dc_trk_aid=304738710;dc_trk_cid=70836438;ord=1464202994;dc_lat=;dc_rdid=;tag_for_child_directed_treatment=?&quot;]\" style=\"background-color:#fafaff;\"><div class=\"wrapper cf\"><div class=\"featured-image  lzbg\" style=\"background-image:url('http://l.yimg.com/ts/api/res/1.2/yOUbNemaBdAnXvHFJ3NW1Q--/YXBwaWQ9eWhvbWVydW47cT00MDtzbT0xO3c9NjAwO2g9MTI1NA--/https://s.yimg.com/av/moneyball/ads/1462476988768-6880.jpg');background:none\\9;filter:progid:DXImageTransform.Microsoft.AlphaImageLoader(src=http://l.yimg.com/ts/api/res/1.2/yOUbNemaBdAnXvHFJ3NW1Q--/YXBwaWQ9eWhvbWVydW47cT00MDtzbT0xO3c9NjAwO2g9MTI1NA--/https://s.yimg.com/av/moneyball/ads/1462476988768-6880.jpg,sizingMethod='scale');\"><span class=\"\" ></span></div><div class=\"body classical\"><div class=\"body-wrap\"><h3 class=\"fw-b fz-l\"><a class=\"\" href=\"https://beap.gemini.yahoo.com/mbclk?bv=1.0.0&es=ZeGdcPsGIS8z4A3VHOzKeX4HdohdJSMnhmgmqFAk0OMeLPEBHohGmg1PeqIqwjPX9.jsXpMEdZoYvoYJLvpPON8pAQ_JEvKPsLv9tEez6hf3LiEo.do4n3Zpl92Dn6R5vBPf9UDbnvL1ATVFBTNkolNwwsPKtyO5pr7fL23QWjrpqStNIPuerTXxu2iGZvAWVCLK1R9Hi3l2TdxzE70l49i2eTBovbtNwVYcNAZXfojlC1YKLWDQVPmldh0e6lgI3Zjkek7634t2AIlQqSTOkPyg3y1wqv8GxaMNQ.cFq0cBHodEdvFW37XBAPSfwXXhREih1CrY.9eULAMeRxZjPluDjGAxmubcS3IG3XbnnI10s_rchBkMz9NDSZ32sWW6e_3HDdtVuEHTGEmLLQXvnEmVAVTKs_Zo2ztR5rZOzYTh4myTKaQPFX3Y8mtJLEiWAGEqFMNa6KpSI8AkqDBI6lur6d0yZCWeu9JCCbOWrfT1GZl4YGyaIggm8_kXbCNPEYRKS8bFjd8FCj49hUun0Ik8cr6BfY6UDsFVd8D0MsyTNJPUgJ0V1DAvK9hIkln1pH93I6UDHq4ISqNRS8.3eN8vBq9j2KOaatPrP20OmnTxF0kYsisjdm9vP4RDNs5HG08-%26lp=\" data-ylk=\"sec:strm;ed:0;bpos:1;pos:1;cpos:10;g:32035502804;tar:beap.gemini.yahoo.com;ltxt:Chromebo;ct:1;rspns:nav;pkgt:5;ad:1;slk:title;itc:0;sort:1;intl:us;cat:default;t1:a3;t2:strm;t3:ct;elm:itm;ccode:grandSlam_finance;\" target=\"_blank\" rel=\"nofollow\"><u class='ftrimgstretch  '></u>Chromebooks from $149</a></h3><p class=\"summary mt-xxs\">Long Battery Life. Boots in Seconds. For Everyone from $149. Buy Now!</p></div><a class=\"fz-xxs adv rapid-noclick-resp\" href=\"https://beap.gemini.yahoo.com/mbclk?bv=1.0.0&es=ZeGdcPsGIS8z4A3VHOzKeX4HdohdJSMnhmgmqFAk0OMeLPEBHohGmg1PeqIqwjPX9.jsXpMEdZoYvoYJLvpPON8pAQ_JEvKPsLv9tEez6hf3LiEo.do4n3Zpl92Dn6R5vBPf9UDbnvL1ATVFBTNkolNwwsPKtyO5pr7fL23QWjrpqStNIPuerTXxu2iGZvAWVCLK1R9Hi3l2TdxzE70l49i2eTBovbtNwVYcNAZXfojlC1YKLWDQVPmldh0e6lgI3Zjkek7634t2AIlQqSTOkPyg3y1wqv8GxaMNQ.cFq0cBHodEdvFW37XBAPSfwXXhREih1CrY.9eULAMeRxZjPluDjGAxmubcS3IG3XbnnI10s_rchBkMz9NDSZ32sWW6e_3HDdtVuEHTGEmLLQXvnEmVAVTKs_Zo2ztR5rZOzYTh4myTKaQPFX3Y8mtJLEiWAGEqFMNa6KpSI8AkqDBI6lur6d0yZCWeu9JCCbOWrfT1GZl4YGyaIggm8_kXbCNPEYRKS8bFjd8FCj49hUun0Ik8cr6BfY6UDsFVd8D0MsyTNJPUgJ0V1DAvK9hIkln1pH93I6UDHq4ISqNRS8.3eN8vBq9j2KOaatPrP20OmnTxF0kYsisjdm9vP4RDNs5HG08-%26lp=\" target=\"_blank\" rel=\"nofollow\"><span class=\"source\">Google</span></a><a href=\"http://help.yahoo.com/kb/index?page=content&y=PROD_FRONT&locale=en_US&id=SLN14553\" class=\"fz-xxs sp rapid-noclick-resp\" target=\"_blank\">Sponsored</a>            <a  class=\"adlink fz-xxs rapid-noclick-resp ad-link-icon\" href=\"https://info.yahoo.com/privacy/us/yahoo/relevantads.html\" target=\"_blank\"><i class=\"img-sprite\"></i></a>\r\n",
      "            <div class=\"side-buttons\"><button class=\"img-sprite close side-button voh rapid-noclick-resp\"></button></div><div class=\"attribution fz-xxs\"><div class=\"attribution-sub\"></div></div></div></div></li><li class=\"content enrich-slim voh-parent cf\" data-uuid=\"12edcbea-b350-3618-9147-c6d6391dad18\" data-ylk=\"sec:strm;cat:default;bpos:1;cpos:11;pkgt:3;ccode:grandSlam_finance;g:12edcbea-b350-3618-9147-c6d6391dad18;ed:0;\" data-wikiids=\"YCT:001000323|YCT:001000298|WIKIID:Amortization|WIKIID:Balance_sheet|WIKIID:Common_stock|WIKIID:Income|WIKIID:Shareholder|WIKIID:Commercial_property|WIKIID:B._F._Saul_Company\" data-reason=\"TRENDING\" data-i=\"4000006210A100S00065\"><div class=\"wrapper cf\"><div class=\"body classical\"><div class=\"body-wrap\"><h3 class=\"fw-b fz-s lh-115\"><a class=\"\" href=\"/news/realty-income-o-closes-offering-101110002.html\" data-ylk=\"sec:strm;ed:0;bpos:1;pos:1;cpos:11;g:12edcbea-b350-3618-9147-c6d6391dad18;tar:finance.yahoo.com;ltxt:RealtyIn;ct:1;rspns:nav;pkgt:3;r:4000006210A100S00065;slk:title;itc:0;prov:Zacks;sort:1;intl:us;cat:default;t1:a3;t2:strm;t3:ct;elm:itm;ccode:grandSlam_finance;\">Realty Income (O) Closes Offering of 6.5M Common Shares</a></h3><p class=\"summary mt-xxs\">Realty Income Corporation (O) has closed the offering of 6.5 million common shares.</p></div><div class=\"attribution fz-xxs\"><span class=\"source\">Zacks</span></div><div class=\"enrichment stock lh-115\"><a href=\"http://finance.yahoo.com/q?s=O\" data-ylk=\"sec:strm;ed:0;bpos:1;pos:1;cpos:11;g:12edcbea-b350-3618-9147-c6d6391dad18;tar:finance.yahoo.com;ltxt:O;ct:1;rspns:nav;pkgt:3;r:4000006210A100S00065;slk:quote;itc:0;prov:Zacks;sort:1;intl:us;cat:default;t1:a3;t2:strm;t3:ct;elm:itm;ccode:grandSlam_finance;\" data-action=\"click\"><span class=\"symbol\">O</span>&nbsp;$59.31&nbsp;<span class=\"down\">-0.20%</span></a></div></div><div class=\"side-buttons\"><button class=\"check-icon side-button img-sprite rapid-noclick-resp voh\">More like this</button><button class=\"img-sprite close side-button voh rapid-noclick-resp\">Remove</button></div></div></li><li class=\"content has-image voh-parent cf\" data-uuid=\"a8ee66e8-0a48-3392-8979-0faa629aeddd\" data-ylk=\"sec:strm;cat:default;bpos:1;cpos:12;pkgt:4;ccode:grandSlam_finance;g:a8ee66e8-0a48-3392-8979-0faa629aeddd;ed:0;\" data-wikiids=\"YCT:001000661|WIKIID:Vermont|WIKIID:Face_the_Nation|WIKIID:United_States_Secretary_of_State|WIKIID:Debbie_Wasserman_Schultz|WIKIID:Donald_Trump|WIKIID:Hillary_Clinton|WIKIID:The_Fiscal_Times|WIKIID:The_Washington_Post\" data-reason=\"TRENDING\" data-i=\"4000008289A100S00065\"><div class=\"wrapper cf\"><div class=\"img ov-h thumb-left \"><img src=\"http://l.yimg.com/os/mit/media/m/base/images/transparent-1093278.png\" style=\"background-image:url('http://l.yimg.com/ts/api/res/1.2/lfaCbcJvb2BcETV3hLqncg--/YXBwaWQ9eWhvbWVydW47cT00NTtzbT0xO2ZpPWZpbGw7dz0xNjQ7aD0xNjQ7cHlvZmY9MA--/http://globalfinance.zenfs.com/images/US_AHTTP_H_FISCAL_TIMES_LIVE/04082016_Bernie_Sanders_original.jpg.cf.jpg');\" width=\"82\" height=\"82\" alt=\"\" title=\"\" class=\"lzbg\"></div><div class=\"body classical\"><div class=\"body-wrap\"><h3 class=\"fw-b fz-s lh-115\"><a class=\"\" href=\"/news/sanders-scores-big-victory-battle-192000718.html\" data-ylk=\"sec:strm;ed:0;bpos:1;pos:1;cpos:12;g:a8ee66e8-0a48-3392-8979-0faa629aeddd;tar:finance.yahoo.com;ltxt:SandersS;ct:1;rspns:nav;pkgt:4;r:4000008289A100S00065;slk:title;itc:0;prov:TheFiscalTimes;sort:1;intl:us;cat:default;t1:a3;t2:strm;t3:ct;elm:itm;ccode:grandSlam_finance;\"><u class='imgstretch thumb-left'></u>Sanders Scores a Big Victory in His Battle With Clinton</a></h3><p class=\"summary mt-xxs\">Consider it the first of what could be many olive branches offered by Hillary Clinton and the Democratic Party to Bernie Sanders. The Washington Post reports that party officials and frontrunner Clinton have struck a deal with Sanders that allows the Vermont senator to name one-third of the panel…</p></div><div class=\"attribution fz-xxs\"><span class=\"source\">The Fiscal Times</span></div></div><div class=\"side-buttons\"><button class=\"check-icon side-button img-sprite rapid-noclick-resp voh\">More like this</button><button class=\"img-sprite close side-button voh rapid-noclick-resp\">Remove</button></div></div></li><li class=\"content has-image enrich-slim voh-parent cf\" data-uuid=\"aa612c0f-9cd6-392a-ae40-e63962fd5535\" data-ylk=\"sec:strm;cat:default;bpos:1;cpos:13;pkgt:4;ccode:grandSlam_finance;g:aa612c0f-9cd6-392a-ae40-e63962fd5535;ed:0;\" data-wikiids=\"YCT:001000721|YCT:001000323|WIKIID:Last_Tuesday|WIKIID:New_York|WIKIID:Business_Insider|WIKIID:Demography|WIKIID:Toll_Brothers|WIKIID:Interest_rate|WIKIID:Real_estate_economics\" data-reason=\"TRENDING\" data-i=\"4000007890A100S00065\"><div class=\"wrapper cf\"><div class=\"img ov-h thumb-left \"><img src=\"http://l.yimg.com/os/mit/media/m/base/images/transparent-1093278.png\" style=\"background-image:url('http://l.yimg.com/ts/api/res/1.2/iM1kmu4er5ThWtAs2YmDJg--/YXBwaWQ9eWhvbWVydW47cT00NTtzbT0xO2ZpPWZpbGw7dz0xNjQ7aD0xNjQ7cHlvZmY9MA--/http://globalfinance.zenfs.com/en_us/Finance/US_AFTP_SILICONALLEY_H_LIVE/The_largest_US_luxury_homebuilder-7ba61a245f0d5cfe8e27685467d14f79.cf.jpg');\" width=\"82\" height=\"82\" alt=\"\" title=\"\" class=\"lzbg\"></div><div class=\"body classical\"><div class=\"body-wrap\"><h3 class=\"fw-b fz-s lh-115\"><a class=\"\" href=\"/news/biggest-luxury-homebuilder-crushed-earnings-104909507.html\" data-ylk=\"sec:strm;ed:0;bpos:1;pos:1;cpos:13;g:aa612c0f-9cd6-392a-ae40-e63962fd5535;tar:finance.yahoo.com;ltxt:Thelarge;ct:1;rspns:nav;pkgt:4;r:4000007890A100S00065;slk:title;itc:0;prov:BusinessInsider;sort:1;intl:us;cat:default;t1:a3;t2:strm;t3:ct;elm:itm;ccode:grandSlam_finance;\"><u class='imgstretch thumb-left'></u>The largest US luxury homebuilder crushed earnings but acknowledged the big problem in the housing market</a></h3><p class=\"summary mt-xxs\">Toll Brothers, the largest luxury homebuilder in the US, reported strong earnings Tuesday but...</p></div><div class=\"attribution fz-xxs\"><span class=\"source\">Business Insider</span></div><div class=\"enrichment stock lh-115\"><a href=\"http://finance.yahoo.com/q?s=TOL\" data-ylk=\"sec:strm;ed:0;bpos:1;pos:1;cpos:13;g:aa612c0f-9cd6-392a-ae40-e63962fd5535;tar:finance.yahoo.com;ltxt:TOL;ct:1;rspns:nav;pkgt:4;r:4000007890A100S00065;slk:quote;itc:0;prov:BusinessInsider;sort:1;intl:us;cat:default;t1:a3;t2:strm;t3:ct;elm:itm;ccode:grandSlam_finance;\" data-action=\"click\"><span class=\"symbol\">TOL</span>&nbsp;$29.15&nbsp;<span class=\"down\">-1.05%</span></a></div></div><div class=\"side-buttons\"><button class=\"check-icon side-button img-sprite rapid-noclick-resp voh\">More like this</button><button class=\"img-sprite close side-button voh rapid-noclick-resp\">Remove</button></div></div></li><li class=\"content rmx-ad featured featured-ads has-image voh-parent cf\" data-uuid=\"32032356587\" data-ylk=\"sec:strm;cat:default;bpos:1;cpos:14;pkgt:5;ccode:grandSlam_finance;g:32032356587;ed:0;\" data-rmx-beacon=\"https://beap.gemini.yahoo.com/mbcsc?bv=1.0.0&amp;es=95XD9PAGIS9vNEW9LKHvrpfJmWzj7nPz5FwB9x7cZ5efW8o0Y029rPiWy.MiGUgGI8pAxyhUVUd10dNPCLl3ODkub9Hu_98ZqcZQcGcUvBYuwolUGgkaN1CKZnzuISZhYx10aoNQleD9aaBW7beFoSSnNYXusUXqJzkNWXlzIKeIFAqbtFoDq3o7pSrmVYbT9p3qatIWBDoC.EII0eLl69uSb1YLcqAZkVcv057dR9Mt0cAWMO.MH2XjvZmBtH4COvesuUW1k04A9kkxQYk0315Eu6VBko4dNpaaRUEDeMP3QNLiWeScDAAT7qw0o.E2PLwT430FNeK_Zn0LTiXM1dpKklkE2a5zVDGFCLr.nRKF9RtvL0oTcQiGpyjtLJMoEMc-&amp;ap=14\" data-ad-feedback-beacon=\"https://us.af.beap.bc.yahoo.com/af?bv=1.0.0&amp;bs=(15q6e1nva(gid$557585f4-22ab-11e6-b9ad-cf7c1596d32c-7f32e82b4700,st$1464202995020000,li$0,cr$32032356587,dmn$assets.udate.com,srv$3,exp$1464210195020000,ct$27,v$1.0,adv$923878,pbid$1,seid$4492794))&amp;r=1464202995020&amp;al=$(AD_FEEDBACK)\" style=\"background-color:#fafaff;\"><div class=\"wrapper cf\"><div class=\"featured-image  lzbg\" style=\"background-image:url('http://l.yimg.com/ts/api/res/1.2/.A7WltaVmN5JXfXJhO7IVg--/YXBwaWQ9eWhvbWVydW47cT00MDtzbT0xO3c9NjAwO2g9MTI1NA--/https://s.yimg.com/av/moneyball/ads/1462298938609-9171.jpg');background:none\\9;filter:progid:DXImageTransform.Microsoft.AlphaImageLoader(src=http://l.yimg.com/ts/api/res/1.2/.A7WltaVmN5JXfXJhO7IVg--/YXBwaWQ9eWhvbWVydW47cT00MDtzbT0xO3c9NjAwO2g9MTI1NA--/https://s.yimg.com/av/moneyball/ads/1462298938609-9171.jpg,sizingMethod='scale');\"><span class=\"\" ></span></div><div class=\"body classical\"><div class=\"body-wrap\"><h3 class=\"fw-b fz-l\"><a class=\"\" href=\"https://beap.gemini.yahoo.com/mbclk?bv=1.0.0&es=22CxpbMGIS9HhoCrm4UhUWer041GghYlxaZPWy9H8lh3Om_LfTWQOpjb3FptZUGoMP5PiABHwl6AIQzxIt6r9ROVfcNsUE1ugPx.kv7Uic2cFfHSx77Mx5SaiTzg6fJ2KliLIp.u4ZEL8cgOaz1fV5cRux4w0sFz47V97EZHJK9TPZdFfqE2G.h4evRDx5xIAwulJcHfELO5XVLq.r4YRR.Rs3Oo4Y1jG5hnndpiWNy8dW9gkIlQWbP6r5xZs4PqQXB6gLwGVoVWZ3zEHCqkEVPgWwefGoTUfxI8lGnCe0opmHdwyVY6Ntp75QjB2vJzQiLVO1eWCGb_ZWHEh8lNR10XhfijH5sg519T3KY6OlJtzMeGOIcfz5QZRkFUggrjx0uAxrpaNNGh.Nnve619MCaXO990qxoIKmt.SUF8Mg7CFFzaY6ckE84fNTBZAQHD518GxLkAR0ufJ55xSu7hwgbMev1YxRghguV6Fs8kp0hHM4uP6cRRbUj2m0Za74P3vSJUCBlCwsGB6bVeudUD7M6x%26lp=\" data-ylk=\"sec:strm;ed:0;bpos:1;pos:1;cpos:14;g:32032356587;tar:beap.gemini.yahoo.com;ltxt:Meetyour;ct:1;rspns:nav;pkgt:5;ad:1;slk:title;itc:0;sort:1;intl:us;cat:default;t1:a3;t2:strm;t3:ct;elm:itm;ccode:grandSlam_finance;\" target=\"_blank\" rel=\"nofollow\"><u class='ftrimgstretch  '></u>Meet your girlfriend</a></h3><p class=\"summary mt-xxs\">No games. Just real women looking for a mature guy.  Find the right dating site for you!</p></div><a class=\"fz-xxs adv rapid-noclick-resp\" href=\"https://beap.gemini.yahoo.com/mbclk?bv=1.0.0&es=22CxpbMGIS9HhoCrm4UhUWer041GghYlxaZPWy9H8lh3Om_LfTWQOpjb3FptZUGoMP5PiABHwl6AIQzxIt6r9ROVfcNsUE1ugPx.kv7Uic2cFfHSx77Mx5SaiTzg6fJ2KliLIp.u4ZEL8cgOaz1fV5cRux4w0sFz47V97EZHJK9TPZdFfqE2G.h4evRDx5xIAwulJcHfELO5XVLq.r4YRR.Rs3Oo4Y1jG5hnndpiWNy8dW9gkIlQWbP6r5xZs4PqQXB6gLwGVoVWZ3zEHCqkEVPgWwefGoTUfxI8lGnCe0opmHdwyVY6Ntp75QjB2vJzQiLVO1eWCGb_ZWHEh8lNR10XhfijH5sg519T3KY6OlJtzMeGOIcfz5QZRkFUggrjx0uAxrpaNNGh.Nnve619MCaXO990qxoIKmt.SUF8Mg7CFFzaY6ckE84fNTBZAQHD518GxLkAR0ufJ55xSu7hwgbMev1YxRghguV6Fs8kp0hHM4uP6cRRbUj2m0Za74P3vSJUCBlCwsGB6bVeudUD7M6x%26lp=\" target=\"_blank\" rel=\"nofollow\"><span class=\"source\">uDate</span></a><a href=\"http://help.yahoo.com/kb/index?page=content&y=PROD_FRONT&locale=en_US&id=SLN14553\" class=\"fz-xxs sp rapid-noclick-resp\" target=\"_blank\">Sponsored</a>            <a  class=\"adlink fz-xxs rapid-noclick-resp ad-link-icon\" href=\"https://info.yahoo.com/privacy/us/yahoo/relevantads.html\" target=\"_blank\"><i class=\"img-sprite\"></i></a>\r\n",
      "            <div class=\"side-buttons\"><button class=\"img-sprite close side-button voh rapid-noclick-resp\"></button></div><div class=\"attribution fz-xxs\"><div class=\"attribution-sub\"></div></div></div></div></li><li class=\"content voh-parent cf\" data-uuid=\"c3e265e9-6e0f-365a-8881-8bae4f0c7e33\" data-ylk=\"sec:strm;cat:default;bpos:1;cpos:15;pkgt:3;ccode:grandSlam_finance;g:c3e265e9-6e0f-365a-8881-8bae4f0c7e33;ed:0;\" data-wikiids=\"YCT:001000215|YCT:001000213|WIKIID:The_Last_Moment|WIKIID:Doha|WIKIID:United_States|WIKIID:Cartel|WIKIID:Price_of_oil|WIKIID:Saudis|WIKIID:Rosneft\" data-reason=\"TRENDING\" data-i=\"4000006766A100S00065\"><div class=\"wrapper cf\"><div class=\"body classical\"><div class=\"body-wrap\"><h3 class=\"fw-b fz-s lh-115\"><a class=\"\" href=\"/news/opec-head-calls-65-oil-220500509.html\" data-ylk=\"sec:strm;ed:0;bpos:1;pos:1;cpos:15;g:c3e265e9-6e0f-365a-8881-8bae4f0c7e33;tar:finance.yahoo.com;ltxt:OPECHead;ct:1;rspns:nav;pkgt:3;r:4000006766A100S00065;slk:title;itc:0;prov:Oilprice.com;sort:1;intl:us;cat:default;t1:a3;t2:strm;t3:ct;elm:itm;ccode:grandSlam_finance;\">OPEC Head Calls for $65 Oil</a></h3><p class=\"summary mt-xxs\">Qatar’s Energy minister Mohammed bin Saleh al-Sada has called for a $65 price floor for crude</p></div><div class=\"attribution fz-xxs\"><span class=\"source\">Oilprice.com</span></div></div><div class=\"side-buttons\"><button class=\"check-icon side-button img-sprite rapid-noclick-resp voh\">More like this</button><button class=\"img-sprite close side-button voh rapid-noclick-resp\">Remove</button></div></div></li><li class=\"content has-image voh-parent cf\" data-uuid=\"13289f50-329e-3181-9cb3-3249d632f376\" data-ylk=\"sec:strm;cat:default;bpos:1;cpos:16;pkgt:4;ccode:grandSlam_finance;g:13289f50-329e-3181-9cb3-3249d632f376;ed:0;\" data-wikiids=\"YCT:001000511|YCT:001000298|WIKIID:Health_insurance|WIKIID:Health_economics|WIKIID:United_States|WIKIID:Financial_risk|WIKIID:Subsidy|WIKIID:Patient_Protection_and_Affordable_Care_Act|WIKIID:Tax_credit\" data-reason=\"TRENDING\" data-i=\"4000006440A100S00065\"><div class=\"wrapper cf\"><div class=\"img ov-h thumb-left \"><img src=\"http://l.yimg.com/os/mit/media/m/base/images/transparent-1093278.png\" style=\"background-image:url('http://l.yimg.com/ts/api/res/1.2/rkncrzNWReWWO3lfFRYwCQ--/YXBwaWQ9eWhvbWVydW47cT00NTtzbT0xO2ZpPWZpbGw7dz0xNjQ7aD0xNjQ7cHlvZmY9MA--/http://slingstone.zenfs.com/offnetwork/9bb98713a2bc76866351c5f14880cd9c.cf.jpg');\" width=\"82\" height=\"82\" alt=\"\" title=\"\" class=\"lzbg\"></div><div class=\"body classical\"><div class=\"body-wrap\"><h3 class=\"fw-b fz-s lh-115\"><a class=\"\" href=\"http://www.cnbc.com/2016/05/24/cost-of-obamacare-price-increases-depends-on-where-you-live.html?__source=yahoo%7Cfinance%7Cheadline%7Cheadline%7Cstory&par=yahoo&doc=103661527&yptr=yahoo\" data-ylk=\"sec:strm;ed:0;bpos:1;pos:1;cpos:16;g:13289f50-329e-3181-9cb3-3249d632f376;tar:www.cnbc.com;ltxt:Obamacar;ct:1;rspns:nav;pkgt:4;r:4000006440A100S00065;slk:title;itc:0;prov:CNBC.com;sort:1;intl:us;cat:default;t1:a3;t2:strm;t3:ct;elm:itm;ccode:grandSlam_finance;\" target=\"_blank\" rel=\"nofollow\"><u class='imgstretch thumb-left'></u>Obamacare price hikes are coming—but they depend on where you live</a></h3><p class=\"summary mt-xxs\">Where you buy Obamacare plans could significantly affect how much more you will pay for your coverage next year.</p></div><div class=\"attribution fz-xxs\"><span class=\"source\">CNBC.com<span class=\"d-ib img-sprite off-network-icon\"></span></span></div></div><div class=\"side-buttons\"><button class=\"check-icon side-button img-sprite rapid-noclick-resp voh\">More like this</button><button class=\"img-sprite close side-button voh rapid-noclick-resp\">Remove</button></div></div></li><li class=\"content has-image voh-parent cf\" data-uuid=\"bb052c5d-9b88-3a01-9e1a-b032871f1b7a\" data-ylk=\"sec:strm;cat:default;bpos:1;cpos:17;pkgt:4;ccode:grandSlam_finance;g:bb052c5d-9b88-3a01-9e1a-b032871f1b7a;ed:0;\" data-wikiids=\"YCT:001000323|YCT:001000298|WIKIID:Dividend_payout_ratio|WIKIID:Chevron_Corporation|WIKIID:Twitter\" data-reason=\"TRENDING\" data-i=\"4000006228A100S00065\"><div class=\"wrapper cf\"><div class=\"img ov-h thumb-left \"><img src=\"http://l.yimg.com/os/mit/media/m/base/images/transparent-1093278.png\" style=\"background-image:url('http://l.yimg.com/ts/api/res/1.2/y2T5S32Tl62rzCADdwfNPw--/YXBwaWQ9eWhvbWVydW47cT00NTtzbT0xO2ZpPWZpbGw7dz0xNjQ7aD0xNjQ7cHlvZmY9MA--/http://slingstone.zenfs.com/offnetwork/383643ba1f8b16decabc4bdc684e462c.cf.jpg');\" width=\"82\" height=\"82\" alt=\"\" title=\"\" class=\"lzbg\"></div><div class=\"body classical\"><div class=\"body-wrap\"><h3 class=\"fw-b fz-s lh-115\"><a class=\"\" href=\"http://www.cnbc.com/2016/05/24/too-much-of-a-dividend-can-be-a-really-bad-thing.html?__source=yahoo%7Cfinance%7Cheadline%7Cheadline%7Cstory&par=yahoo&doc=103659053&yptr=yahoo\" data-ylk=\"sec:strm;ed:0;bpos:1;pos:1;cpos:17;g:bb052c5d-9b88-3a01-9e1a-b032871f1b7a;tar:www.cnbc.com;ltxt:Ifyoudep;ct:1;rspns:nav;pkgt:4;r:4000006228A100S00065;slk:title;itc:0;prov:CNBC.com;sort:1;intl:us;cat:default;t1:a3;t2:strm;t3:ct;elm:itm;ccode:grandSlam_finance;\" target=\"_blank\" rel=\"nofollow\"><u class='imgstretch thumb-left'></u>If you depend on dividends, you better watch this metric</a></h3><p class=\"summary mt-xxs\">Investors love big dividends, but some companies lack the earnings to afford it. Here&#39;s how to know if a dividend could mask cash problems.</p></div><div class=\"attribution fz-xxs\"><span class=\"source\">CNBC.com<span class=\"d-ib img-sprite off-network-icon\"></span></span></div></div><div class=\"side-buttons\"><button class=\"check-icon side-button img-sprite rapid-noclick-resp voh\">More like this</button><button class=\"img-sprite close side-button voh rapid-noclick-resp\">Remove</button></div></div></li><li class=\"content rmx-ad has-image voh-parent cf\" data-uuid=\"31058433620\" data-ylk=\"sec:strm;cat:default;bpos:1;cpos:18;pkgt:4;ccode:grandSlam_finance;g:31058433620;ed:0;\" data-rmx-beacon=\"https://beap.gemini.yahoo.com/mbcsc?bv=1.0.0&amp;es=0uulPpgGIS_7zgBaCaDoOVJ45FImXvvVCQVDbj2WgrBpt5QM1UA5Q09jacvtd1sn5s2dmG7tEOhJFszdSzGuPY5z14u24dcVBkhxzUPPbzy0UuXq1LZTms9UwKoOgMeT78MTajlXpCOlNPUPips5uQftIm8N0B.KXZ4gXVs5zeDJ9YeQ.vC1K2wRvepTNnZArY2BGqJe7wmnUrLn9fWGghAD4SJ.wtcX5wc1erBHT9NF6UxhTanZhs_gPRxEah8AYBRSVmbkyraj61OCmWY8BA3uk_t1Bgzq5PfKNntXL6OTa.2G8_FZmz73AnVIZyZM4JUwjwUpdv_vBVOhvZDEa4fU6I2O5NmwKFebq3mk6LeaTdx8xg_suV3uvJ7uM6ry6ZfVIw--&amp;ap=18\" data-ad-feedback-beacon=\"https://us.af.beap.bc.yahoo.com/af?bv=1.0.0&amp;bs=(15ut27um2(gid$557585f4-22ab-11e6-b9ad-cf7c1596d32c-7f32e82b4700,st$1464202995020000,li$0,cr$31058433620,dmn$maturedatingonly.com,srv$3,exp$1464210195020000,ct$27,v$1.0,adv$958097,pbid$1,seid$4492794))&amp;r=1464202995020&amp;al=$(AD_FEEDBACK)\" style=\"background-color:#fafaff;\"><div class=\"wrapper cf\"><div class=\"img ov-h thumb-left \" style=\"max-height:82px;max-width:82px;_height:82px\"><img src=\"http://l.yimg.com/os/mit/media/m/base/images/transparent-1093278.png\" style=\"background-image:url('http://l.yimg.com/av/moneyball/ads/1419394042966-9242.jpg');\" width=\"82\" height=\"82\" alt=\"\" title=\"\" class=\"lzbg\"></div><div class=\"body classical\"><div class=\"body-wrap\"><h3 class=\"fw-b fz-s lh-115\"><a class=\"\" href=\"https://beap.gemini.yahoo.com/mbclk?bv=1.0.0&es=itIY.sMGIS.m5hiWH51DETe4.81HDDW18zgcf6NiULRkEC6wPHw8n2EK5h8yp3t6KlJkHqMxD98Vx2c6bPR82uBEmSv9NMgvKBb7t401bIzpw7BE08ycBWYj6y0f8a6zMrZQGchTKuuA0kb4aBnDnrq4GHKdspu7zIZVKSeG7kH6E039sIINjohSxb5MOgcneIdDJX4URnm0L7_atGA8qH41U_DRbMTX8e9XT41fRoSJzGctWU.owZT68u4AzvbMLnM3Fz1tw9c0hogdmbfbc._jkdMMB6uv0zfemHdqzpP1Y8YbFT4fyWNuJ3DWVbbVBx_evfmt.US16ftZRpgpwqUkc3R3OjOXdwW2iwGZTLVjIzkum_6K3INZDVd4Wjxp4CUs87M0rTA4ZTxOA7moruEK2NE.g3iww0LJvzeemIJs3.2l_CRx4VPlVuGLi4Y7uD6HUaavQPOLRv_viDmm0ItxDTrzY5HlUbE.wdRU2cG3oE6cma5hmHhO6o23GCQK44_ABAvD28vMkUaacRZSA7k2Gv_yp2AOGPMbprKkRS2N6_XuILo-%26lp=\" data-ylk=\"sec:strm;ed:0;bpos:1;pos:1;cpos:18;g:31058433620;tar:beap.gemini.yahoo.com;ltxt:BetterTh;ct:1;rspns:nav;pkgt:4;ad:1;slk:title;itc:0;sort:1;intl:us;cat:default;t1:a3;t2:strm;t3:ct;elm:itm;ccode:grandSlam_finance;\" target=\"_blank\" rel=\"nofollow\"><u class='imgstretch thumb-left'></u>Better Than Online Dating!</a></h3><p class=\"summary mt-xxs\">Thousands of healthy, wealthy and loving women in your city requesting men ages 50+. Meet the woman of your dreams today. Get Started!</p><a class=\"fz-xxs adv rapid-noclick-resp\" href=\"https://beap.gemini.yahoo.com/mbclk?bv=1.0.0&es=itIY.sMGIS.m5hiWH51DETe4.81HDDW18zgcf6NiULRkEC6wPHw8n2EK5h8yp3t6KlJkHqMxD98Vx2c6bPR82uBEmSv9NMgvKBb7t401bIzpw7BE08ycBWYj6y0f8a6zMrZQGchTKuuA0kb4aBnDnrq4GHKdspu7zIZVKSeG7kH6E039sIINjohSxb5MOgcneIdDJX4URnm0L7_atGA8qH41U_DRbMTX8e9XT41fRoSJzGctWU.owZT68u4AzvbMLnM3Fz1tw9c0hogdmbfbc._jkdMMB6uv0zfemHdqzpP1Y8YbFT4fyWNuJ3DWVbbVBx_evfmt.US16ftZRpgpwqUkc3R3OjOXdwW2iwGZTLVjIzkum_6K3INZDVd4Wjxp4CUs87M0rTA4ZTxOA7moruEK2NE.g3iww0LJvzeemIJs3.2l_CRx4VPlVuGLi4Y7uD6HUaavQPOLRv_viDmm0ItxDTrzY5HlUbE.wdRU2cG3oE6cma5hmHhO6o23GCQK44_ABAvD28vMkUaacRZSA7k2Gv_yp2AOGPMbprKkRS2N6_XuILo-%26lp=\" target=\"_blank\" rel=\"nofollow\"><span class=\"source\">Mature Dating Only</span></a><a href=\"http://help.yahoo.com/kb/index?page=content&y=PROD_FRONT&locale=en_US&id=SLN14553\" class=\"fz-xxs sp rapid-noclick-resp\" target=\"_blank\">Sponsored</a>            <a  class=\"adlink fz-xxs rapid-noclick-resp ad-link-icon\" href=\"https://info.yahoo.com/privacy/us/yahoo/relevantads.html\" target=\"_blank\"><i class=\"img-sprite\"></i></a>\r\n",
      "            <div class=\"side-buttons\"><button class=\"img-sprite close side-button voh rapid-noclick-resp\"></button></div></div><div class=\"attribution fz-xxs\"></div></div></div></li><li class=\"content cavideo has-image voh-parent cf\" data-uuid=\"125a7bbd-e22e-3b0d-8734-7788fd00a5b2\" data-ylk=\"sec:strm;cat:default;bpos:1;cpos:19;pkgt:4;ccode:grandSlam_finance;g:125a7bbd-e22e-3b0d-8734-7788fd00a5b2;ed:0;\" data-wikiids=\"YCT:001000931|WIKIID:IPhone\" data-reason=\"TRENDING\" data-i=\"4000008655A100S00065\"><div class=\"wrapper cf\"><div class=\"img ov-h thumb-left \"><img src=\"http://l.yimg.com/os/mit/media/m/base/images/transparent-1093278.png\" style=\"background-image:url('http://l.yimg.com/ts/api/res/1.2/qr9BSFrPRamJCw0V9kF11g--/YXBwaWQ9eWhvbWVydW47cT04NTtzbT0xO2ZpPWZpbGw7dz04MjtoPTgyO3B5b2ZmPTA-/http://media.zenfs.com/en-US/video/video.cnbc2.com/25e58b9c76a1e152888cfd732661a32f.cf.jpg');\" width=\"82\" height=\"82\" alt=\"\" title=\"\" class=\"lzbg\"><span class=\"icon-overlay\"><span class=\"video-icon d-ib\"><i class=\"icon-sprite\"></i> <span class=\"play-now fz-xxs\">Play</span></span></span></div><div class=\"body classical\"><div class=\"body-wrap\"><h3 class=\"fw-b fz-s lh-115\"><a class=\"\" href=\"/video/apples-tim-cook-saw-iphone-160700661.html\" data-ylk=\"sec:strm;ed:0;bpos:1;pos:1;cpos:19;g:125a7bbd-e22e-3b0d-8734-7788fd00a5b2;tar:finance.yahoo.com;ltxt:Apple&#3;ct:3;rspns:nav;pkgt:4;r:4000008655A100S00065;slk:title;itc:0;prov:CNBCVideos;sort:1;grpt:vp;intl:us;cat:default;t1:a3;t2:strm;t3:ct;elm:itm;ccode:grandSlam_finance;\"><u class='imgstretch thumb-left'></u>Apple&#39;s Tim Cook saw an iPhone in 350-year-old painting</a></h3><p class=\"summary mt-xxs\">The Apple chief executive joked saying he thought he knew when and where the iPhone was invented.</p></div><div class=\"attribution fz-xxs\"><span class=\"source\">CNBC Videos</span></div></div><div class=\"side-buttons\"><button class=\"check-icon side-button img-sprite rapid-noclick-resp voh\">More like this</button><button class=\"img-sprite close side-button voh rapid-noclick-resp\">Remove</button></div></div></li><li class=\"content featured has-image voh-parent cf\" data-uuid=\"07c7023a-4449-3c77-a646-e66939fd0f1a\" data-ylk=\"sec:strm;cat:default;bpos:1;cpos:20;pkgt:5;ccode:grandSlam_finance;g:07c7023a-4449-3c77-a646-e66939fd0f1a;ed:0;\" data-wikiids=\"YCT:001000323|YCT:001001083|WIKIID:Samanta|WIKIID:Gold|WIKIID:Financial_institution|WIKIID:Vijayakumar_%28actor%29|WIKIID:Hong_Kong|WIKIID:Interest_rate|WIKIID:Palladium\" data-reason=\"TRENDING\" data-i=\"4000006303A100S00065\"><div class=\"wrapper cf\"><div class=\"featured-image  lzbg\" style=\"background-image:url('http://l.yimg.com/ts/api/res/1.2/IVDXPnKalsLP0Rlxc03pSQ--/YXBwaWQ9eWhvbWVydW47cT04NTtzbT0xO3c9NTgwO2g9Mzg2/http://globalfinance.zenfs.com/images/SG_AHTTP_OLINBUS_Wrapper_NewFeed_1/2016-05-25T013500Z_1_LYNXNPEC4O01N_RTROPTP_3_MARKETS-GLOBAL_original.jpg.cf.jpg');\"><span class=\"\" ></span></div><div class=\"body classical\"><div class=\"body-wrap\"><h3 class=\"fw-b fz-l\"><a class=\"\" href=\"/news/gold-hits-7-week-low-013500865.html\" data-ylk=\"sec:strm;ed:0;bpos:1;pos:1;cpos:20;g:07c7023a-4449-3c77-a646-e66939fd0f1a;tar:finance.yahoo.com;ltxt:Golddrop;ct:1;rspns:nav;pkgt:5;r:4000006303A100S00065;slk:title;itc:0;prov:Reuters;sort:1;intl:us;cat:default;t1:a3;t2:strm;t3:ct;elm:itm;ccode:grandSlam_finance;\"><u class='ftrimgstretch  '></u>Gold drops to seven-week low on Fed rate hike prospects</a></h3><p class=\"summary mt-xxs\">Bullion has taken a beating from the prospect of an imminent rate increase, as indicated by Fed meeting minutes released last week. Gold is sensitive to interest rates, gains in which raise the opportunity cost of holding the non-interest-yielding asset. Spot gold was down 0.2 percent at $1,223.96…</p></div><div class=\"attribution fz-xxs\"><span class=\"source\">Reuters</span><div class=\"attribution-sub\"></div></div></div><div class=\"side-buttons\"><button class=\"check-icon side-button img-sprite rapid-noclick-resp voh\">More like this</button><button class=\"img-sprite close side-button voh rapid-noclick-resp\">Remove</button></div></div></li><li class=\"content has-image voh-parent cf\" data-uuid=\"cb52288e-13e7-3b09-bc03-86be333f96ad\" data-ylk=\"sec:strm;cat:default;bpos:1;cpos:21;pkgt:4;ccode:grandSlam_finance;g:cb52288e-13e7-3b09-bc03-86be333f96ad;ed:0;\" data-wikiids=\"YCT:001000323|YCT:001000123|WIKIID:Cloud_computing|WIKIID:Dell|WIKIID:Gartner|WIKIID:Jim_McGregor|WIKIID:Hewlett-Packard|WIKIID:Shareholder|WIKIID:Meg_Whitman\" data-reason=\"TRENDING\" data-i=\"4000005567A100S00065\"><div class=\"wrapper cf\"><div class=\"img ov-h thumb-left \"><img src=\"http://l.yimg.com/os/mit/media/m/base/images/transparent-1093278.png\" style=\"background-image:url('http://l.yimg.com/ts/api/res/1.2/U2jTr7Mo3IN9nbxkpiLlUQ--/YXBwaWQ9eWhvbWVydW47cT00NTtzbT0xO2ZpPWZpbGw7dz0xNjQ7aD0xNjQ7cHlvZmY9MA--/http://slingstone.zenfs.com/offnetwork/10fb63c31690fabc393c71aae88586bd.cf.jpg');\" width=\"82\" height=\"82\" alt=\"\" title=\"\" class=\"lzbg\"></div><div class=\"body classical\"><div class=\"body-wrap\"><h3 class=\"fw-b fz-s lh-115\"><a class=\"\" href=\"http://www.usatoday.com/story/tech/2016/05/24/hpe-announces-spin-off-enterprise-services-business/84710052/?yptr=yahoo\" data-ylk=\"sec:strm;ed:0;bpos:1;pos:1;cpos:21;g:cb52288e-13e7-3b09-bc03-86be333f96ad;tar:www.usatoday.com;ltxt:HPEtospi;ct:1;rspns:nav;pkgt:4;r:4000005567A100S00065;slk:title;itc:0;prov:USAToday;sort:1;intl:us;cat:default;t1:a3;t2:strm;t3:ct;elm:itm;ccode:grandSlam_finance;\" target=\"_blank\" rel=\"nofollow\"><u class='imgstretch thumb-left'></u>HPE to spin off enterprise services, merge unit with CSC</a></h3><p class=\"summary mt-xxs\">HPE announces spin-off of enterprise services business, and merger, with CSC.</p></div><div class=\"attribution fz-xxs\"><span class=\"source\">USA Today<span class=\"d-ib img-sprite off-network-icon\"></span></span></div></div><div class=\"side-buttons\"><button class=\"check-icon side-button img-sprite rapid-noclick-resp voh\">More like this</button><button class=\"img-sprite close side-button voh rapid-noclick-resp\">Remove</button></div></div></li><li class=\"content rmx-ad featured featured-ads has-image voh-parent cf\" data-uuid=\"32020959947\" data-ylk=\"sec:strm;cat:default;bpos:1;cpos:22;pkgt:5;ccode:grandSlam_finance;g:32020959947;ed:0;\" data-rmx-beacon=\"https://beap.gemini.yahoo.com/mbcsc?bv=1.0.0&amp;es=k7xkpK0GIS8WTOzCoS6SNCC7Df05qIAq25JIWU0qzzJdk4XLRlAZbOReEjIHugIOtC21Ee7oz9He3hry2QB859ux0DSTqtXlFGXqFjuaIovuOmOgfWQwaVE8eXc3npZqEWUL6GGqMIpyd2jzuFQfAVeks6j7rPVTGZMsIg7UwEpQIsbifzJuqCx9u9hE6FfwUCsqJlIzHCYlHLxTpRjqrIWcDO8bSyv9FcjB2_cWxaZOcFsWlg_LbczlzDbgRXbYiPsiUCTsrTiXfAgxylT_LaUiUG4sRt5FIyBzQQ4yzIGWp_3W45obm7eHylIUYoLjnzk5noHX_Zq0duQrN1Rvq2GOubmRYxrH6b0E58I3MsepsWYdhchIkuq._dgUhXAzMUsULg--&amp;ap=22\" data-ad-feedback-beacon=\"https://us.af.beap.bc.yahoo.com/af?bv=1.0.0&amp;bs=(15ptetlki(gid$557585f4-22ab-11e6-b9ad-cf7c1596d32c-7f32e82b4700,st$1464202995020000,li$0,cr$32020959947,dmn$idistracted.net,srv$3,exp$1464210195020000,ct$27,v$1.0,adv$959186,pbid$1,seid$4492794))&amp;r=1464202995020&amp;al=$(AD_FEEDBACK)\" style=\"background-color:#fafaff;\"><div class=\"wrapper cf\"><div class=\"featured-image  lzbg\" style=\"background-image:url('http://l.yimg.com/ts/api/res/1.2/VQxmlRypEewg2CRm2XUL.Q--/YXBwaWQ9eWhvbWVydW47cT00MDtzbT0xO3c9NjAwO2g9MTI1NA--/https://s.yimg.com/av/moneyball/ads/1461702493378-105.jpg');background:none\\9;filter:progid:DXImageTransform.Microsoft.AlphaImageLoader(src=http://l.yimg.com/ts/api/res/1.2/VQxmlRypEewg2CRm2XUL.Q--/YXBwaWQ9eWhvbWVydW47cT00MDtzbT0xO3c9NjAwO2g9MTI1NA--/https://s.yimg.com/av/moneyball/ads/1461702493378-105.jpg,sizingMethod='scale');\"><span class=\"\" ></span></div><div class=\"body classical\"><div class=\"body-wrap\"><h3 class=\"fw-b fz-l\"><a class=\"\" href=\"https://beap.gemini.yahoo.com/mbclk?bv=1.0.0&es=CsThcYMGIS.XKN8MWpP8NRGwFz_LveibnhTZNk23FOqtdeiuRTvq_GJyu_tLxIlswAPGNYQZA8lL0wPRmQzN_2N1USIeiaW_P6qcoh0XDnHVeJjzGcy3GCBK6nK.vCSEqTN5Ym5VVVtkAN1M895GYSrwuSmzEXtcCrAMf0uOTJE2YXapIqKjmTUjNzkIPWJm1uNIuBKYPbMbs14ZCqpZ81NFZ4nzq9lF8WiiaKmvE_6494tOnIrykFP1Noi1mQpi_ywN5DJUOvoC0W2syF0E0zDNXZC4YqtHJdXtxs6.YKFY5q9_igAkgJfe5oJOd1fuB07fhZX5XVFOmHssHyg0..TlqO2Ln5WNNU2UGBkJ_eyoiYhUxU6GftYcAh44HIKop6X5pVwpgNIRr7WxcxJQgCi3WUpNMjE9HJLgUJW86626IoZ93eCTZPpW9nnWvMD8n6RmM.h4WNms8XyEEdyIxZSE_TLTyVAbf12i4_z.xaER2DG0_KEWuVBihc2jnYbYz8ga_7wwZq_odPu2xnyk27P0C1x6oSSQPiCEFtJ.hfLqWK4XS.79mG4Ppg0PvKPWph4NWB1B.n4nKyYqhDkCffH39Ftj58tq0d3WRB2NhS_ZNheCXZ9L.RcAniETppwd9Pu8fEmA5uxSYAcvVGtds2e3x8zen6TItjXX7Sx51v4lTvobtSuZNG.BvUlOMhC_oME-%26lp=\" data-ylk=\"sec:strm;ed:0;bpos:1;pos:1;cpos:22;g:32020959947;tar:beap.gemini.yahoo.com;ltxt:70sSuper;ct:1;rspns:nav;pkgt:5;ad:1;slk:title;itc:0;sort:1;intl:us;cat:default;t1:a3;t2:strm;t3:ct;elm:itm;ccode:grandSlam_finance;\" target=\"_blank\" rel=\"nofollow\"><u class='ftrimgstretch  '></u>70s Superstars Who Look Nothing Like They Used To</a></h3><p class=\"summary mt-xxs\">These Stars Look Absolutely Nothing Like Before...</p></div><a class=\"fz-xxs adv rapid-noclick-resp\" href=\"https://beap.gemini.yahoo.com/mbclk?bv=1.0.0&es=CsThcYMGIS.XKN8MWpP8NRGwFz_LveibnhTZNk23FOqtdeiuRTvq_GJyu_tLxIlswAPGNYQZA8lL0wPRmQzN_2N1USIeiaW_P6qcoh0XDnHVeJjzGcy3GCBK6nK.vCSEqTN5Ym5VVVtkAN1M895GYSrwuSmzEXtcCrAMf0uOTJE2YXapIqKjmTUjNzkIPWJm1uNIuBKYPbMbs14ZCqpZ81NFZ4nzq9lF8WiiaKmvE_6494tOnIrykFP1Noi1mQpi_ywN5DJUOvoC0W2syF0E0zDNXZC4YqtHJdXtxs6.YKFY5q9_igAkgJfe5oJOd1fuB07fhZX5XVFOmHssHyg0..TlqO2Ln5WNNU2UGBkJ_eyoiYhUxU6GftYcAh44HIKop6X5pVwpgNIRr7WxcxJQgCi3WUpNMjE9HJLgUJW86626IoZ93eCTZPpW9nnWvMD8n6RmM.h4WNms8XyEEdyIxZSE_TLTyVAbf12i4_z.xaER2DG0_KEWuVBihc2jnYbYz8ga_7wwZq_odPu2xnyk27P0C1x6oSSQPiCEFtJ.hfLqWK4XS.79mG4Ppg0PvKPWph4NWB1B.n4nKyYqhDkCffH39Ftj58tq0d3WRB2NhS_ZNheCXZ9L.RcAniETppwd9Pu8fEmA5uxSYAcvVGtds2e3x8zen6TItjXX7Sx51v4lTvobtSuZNG.BvUlOMhC_oME-%26lp=\" target=\"_blank\" rel=\"nofollow\"><span class=\"source\">iDistracted</span></a><a href=\"http://help.yahoo.com/kb/index?page=content&y=PROD_FRONT&locale=en_US&id=SLN14553\" class=\"fz-xxs sp rapid-noclick-resp\" target=\"_blank\">Sponsored</a>            <a  class=\"adlink fz-xxs rapid-noclick-resp ad-link-icon\" href=\"https://info.yahoo.com/privacy/us/yahoo/relevantads.html\" target=\"_blank\"><i class=\"img-sprite\"></i></a>\r\n",
      "            <div class=\"side-buttons\"><button class=\"img-sprite close side-button voh rapid-noclick-resp\"></button></div><div class=\"attribution fz-xxs\"><div class=\"attribution-sub\"></div></div></div></div></li><li class=\"content has-image voh-parent cf\" data-uuid=\"c8b97b76-0d48-33aa-ba55-674609025446\" data-ylk=\"sec:strm;cat:default;bpos:1;cpos:23;pkgt:4;ccode:grandSlam_finance;g:c8b97b76-0d48-33aa-ba55-674609025446;ed:0;\" data-wikiids=\"YCT:001000661|YCT:001000705|WIKIID:Arsenal_F.C.|WIKIID:Intelligence|WIKIID:Phacochoerus|WIKIID:The_Fiscal_Times|WIKIID:United_States_Air_Force|WIKIID:Attack_aircraft|WIKIID:National_Defense_Authorization_Act\" data-reason=\"TRENDING\" data-i=\"4000008265A100S00065\"><div class=\"wrapper cf\"><div class=\"img ov-h thumb-left \"><img src=\"http://l.yimg.com/os/mit/media/m/base/images/transparent-1093278.png\" style=\"background-image:url('http://l.yimg.com/ts/api/res/1.2/JNePdqUhw9QmMUmbx5r7PQ--/YXBwaWQ9eWhvbWVydW47cT00NTtzbT0xO2ZpPWZpbGw7dz0xNjQ7aD0xNjQ7cHlvZmY9MA--/http://globalfinance.zenfs.com/images/US_AHTTP_H_FISCAL_TIMES_LIVE/07312015_Air_Force_Fighter_Jets_original.jpg.cf.jpg');\" width=\"82\" height=\"82\" alt=\"\" title=\"\" class=\"lzbg\"></div><div class=\"body classical\"><div class=\"body-wrap\"><h3 class=\"fw-b fz-s lh-115\"><a class=\"\" href=\"/news/air-force-congress-t-afford-111500037.html\" data-ylk=\"sec:strm;ed:0;bpos:1;pos:1;cpos:23;g:c8b97b76-0d48-33aa-ba55-674609025446;tar:finance.yahoo.com;ltxt:AirForce;ct:1;rspns:nav;pkgt:4;r:4000008265A100S00065;slk:title;itc:0;prov:TheFiscalTimes;sort:1;intl:us;cat:default;t1:a3;t2:strm;t3:ct;elm:itm;ccode:grandSlam_finance;\"><u class='imgstretch thumb-left'></u>Air Force to Congress: We Can’t Afford All of These Fighter Jets</a></h3><p class=\"summary mt-xxs\">The Pentagon says its total aviation inventory will shrink by roughly 10 percent over the next decade because it can’t afford to build and modernize enough planes to keep up with the pace of aircraft retirements, according to a new agency report. The &quot;Annual Aviation Inventory and Funding Plan…</p></div><div class=\"attribution fz-xxs\"><span class=\"source\">The Fiscal Times</span></div></div><div class=\"side-buttons\"><button class=\"check-icon side-button img-sprite rapid-noclick-resp voh\">More like this</button><button class=\"img-sprite close side-button voh rapid-noclick-resp\">Remove</button></div></div></li><li class=\"content has-image voh-parent cf\" data-uuid=\"3304b7e8-aa32-3ed5-8fea-59b314672df4\" data-ylk=\"sec:strm;cat:default;bpos:1;cpos:24;pkgt:4;ccode:grandSlam_finance;g:3304b7e8-aa32-3ed5-8fea-59b314672df4;ed:0;\" data-wikiids=\"YCT:001000323|YCT:001000298\" data-reason=\"TRENDING\" data-i=\"4000006048A100S00065\"><div class=\"wrapper cf\"><div class=\"img ov-h thumb-left \"><img src=\"http://l.yimg.com/os/mit/media/m/base/images/transparent-1093278.png\" style=\"background-image:url('http://l.yimg.com/ts/api/res/1.2/iQ84Um.g5IEdnnen09yaYQ--/YXBwaWQ9eWhvbWVydW47cT00NTtzbT0xO2ZpPWZpbGw7dz0xNjQ7aD0xNjQ7cHlvZmY9MA--/http://slingstone.zenfs.com/offnetwork/7ce09160a22698ccf169b2a252608110.cf.jpg');\" width=\"82\" height=\"82\" alt=\"\" title=\"\" class=\"lzbg\"></div><div class=\"body classical\"><div class=\"body-wrap\"><h3 class=\"fw-b fz-s lh-115\"><a class=\"\" href=\"http://www.marketwatch.com/story/whats-next-for-the-longest-stock-market-correction-in-history-2016-05-24?siteid=yhoof2&yptr=yahoo\" data-ylk=\"sec:strm;ed:0;bpos:1;pos:1;cpos:24;g:3304b7e8-aa32-3ed5-8fea-59b314672df4;tar:www.marketwatch.com;ltxt:What’sne;ct:1;rspns:nav;pkgt:4;r:4000006048A100S00065;slk:title;itc:0;prov:MarketWatch;sort:1;intl:us;cat:default;t1:a3;t2:strm;t3:ct;elm:itm;ccode:grandSlam_finance;\" target=\"_blank\" rel=\"nofollow\"><u class='imgstretch thumb-left'></u>What’s next for the longest stock market correction in history?</a></h3><p class=\"summary mt-xxs\">The bull market, which reached a record high a year ago, seems to have petered out, writes Mark Hulbert.</p></div><div class=\"attribution fz-xxs\"><span class=\"source\">MarketWatch<span class=\"d-ib img-sprite off-network-icon\"></span></span></div></div><div class=\"side-buttons\"><button class=\"check-icon side-button img-sprite rapid-noclick-resp voh\">More like this</button><button class=\"img-sprite close side-button voh rapid-noclick-resp\">Remove</button></div></div></li><li class=\"content enrich-slim voh-parent cf\" data-uuid=\"67e65a69-c4d7-3904-b495-81e51f963736\" data-ylk=\"sec:strm;cat:default;bpos:1;cpos:25;pkgt:3;ccode:grandSlam_finance;g:67e65a69-c4d7-3904-b495-81e51f963736;ed:0;\" data-wikiids=\"YCT:001000532|YCT:001000298|WIKIID:Abbott_Laboratories|WIKIID:Johnson_%26_Johnson|WIKIID:Exelixis|WIKIID:Ipsen|WIKIID:Phases_of_clinical_research|WIKIID:Clinical_endpoint|WIKIID:Marketing_authorization\" data-reason=\"TRENDING\" data-i=\"4000005912A100S00065\"><div class=\"wrapper cf\"><div class=\"body classical\"><div class=\"body-wrap\"><h3 class=\"fw-b fz-s lh-115\"><a class=\"\" href=\"/news/exelixis-kidney-cancer-drug-cabometyx-211509268.html\" data-ylk=\"sec:strm;ed:0;bpos:1;pos:1;cpos:25;g:67e65a69-c4d7-3904-b495-81e51f963736;tar:finance.yahoo.com;ltxt:Exelixis;ct:1;rspns:nav;pkgt:3;r:4000005912A100S00065;slk:title;itc:0;prov:Zacks;sort:1;intl:us;cat:default;t1:a3;t2:strm;t3:ct;elm:itm;ccode:grandSlam_finance;\">Exelixis&#39; Kidney Cancer Drug Cabometyx Positive in Phase II</a></h3><p class=\"summary mt-xxs\">Exelixis, Inc. (EXEL) announced positive top-line data from the phase II trial, CABOSUN, on Cabometyx in patients suffering from previously untreated advanced renal cell carcinoma (RCC).</p></div><div class=\"attribution fz-xxs\"><span class=\"source\">Zacks</span></div><div class=\"enrichment stock lh-115\"><a href=\"http://finance.yahoo.com/q?s=EXEL\" data-ylk=\"sec:strm;ed:0;bpos:1;pos:1;cpos:25;g:67e65a69-c4d7-3904-b495-81e51f963736;tar:finance.yahoo.com;ltxt:EXEL;ct:1;rspns:nav;pkgt:3;r:4000005912A100S00065;slk:quote;itc:0;prov:Zacks;sort:1;intl:us;cat:default;t1:a3;t2:strm;t3:ct;elm:itm;ccode:grandSlam_finance;\" data-action=\"click\"><span class=\"symbol\">EXEL</span>&nbsp;$6.22&nbsp;<span class=\"up\">1.06%</span></a></div></div><div class=\"side-buttons\"><button class=\"check-icon side-button img-sprite rapid-noclick-resp voh\">More like this</button><button class=\"img-sprite close side-button voh rapid-noclick-resp\">Remove</button></div></div></li><li class=\"content rmx-ad featured featured-ads has-image voh-parent cf\" data-uuid=\"32041437018\" data-ylk=\"sec:strm;cat:default;bpos:1;cpos:26;pkgt:5;ccode:grandSlam_finance;g:32041437018;ed:0;\" data-rmx-beacon=\"https://beap.gemini.yahoo.com/mbcsc?bv=1.0.0&amp;es=xjF66kQGIS9mZ9wB4YubeaWGv7_qOYxgARPV6IX_b9LFy1rjpAIB_idByW99LdeQBcP931b2zxC_rFfKuXlPf0cKBa16BIAlnJ79H6hh.z.R9vUFW7A9KGlXRLLt_9WEOvNv1_OZ6K30ZMfFK4tpkg0mnvxjvXQ2r5angSKqZRNaX4A0z2oO97goJ_AASFVrzVp2DwxFeg.tBkqW1pzAc.k2IW6QPX2XfIqullFtoCiMpWU0WrTq23_qWpNvrxX4ObAf9bZzhP65wJgh6AEGse0PwpQcbgqEJwdS5hopblOSlRVdPn_ygwzOdr76UapDu_7kuf7YXLV2Lm5gRT52MaZArnYJ5zp7gEEnIgBA13viwdEq2W3TdsIaFiHDERQXmljM&amp;ap=26\" data-ad-feedback-beacon=\"https://us.af.beap.bc.yahoo.com/af?bv=1.0.0&amp;bs=(15pd45bm7(gid$557585f4-22ab-11e6-b9ad-cf7c1596d32c-7f32e82b4700,st$1464202995020000,li$0,cr$32041437018,dmn$thedailyiq.com,srv$3,exp$1464210195020000,ct$27,v$1.0,adv$1398894,pbid$1,seid$4492794))&amp;r=1464202995020&amp;al=$(AD_FEEDBACK)\" style=\"background-color:#fafaff;\"><div class=\"wrapper cf\"><div class=\"featured-image  lzbg\" style=\"background-image:url('http://l.yimg.com/ts/api/res/1.2/45kn7B.17O9Ooyeqiw.nZQ--/YXBwaWQ9eWhvbWVydW47cT00MDtzbT0xO3c9NjAwO2g9MTI1NA--/https://s.yimg.com/av/moneyball/ads/1463071693763-4761.jpg');background:none\\9;filter:progid:DXImageTransform.Microsoft.AlphaImageLoader(src=http://l.yimg.com/ts/api/res/1.2/45kn7B.17O9Ooyeqiw.nZQ--/YXBwaWQ9eWhvbWVydW47cT00MDtzbT0xO3c9NjAwO2g9MTI1NA--/https://s.yimg.com/av/moneyball/ads/1463071693763-4761.jpg,sizingMethod='scale');\"><span class=\"\" ></span></div><div class=\"body classical\"><div class=\"body-wrap\"><h3 class=\"fw-b fz-l\"><a class=\"\" href=\"https://beap.gemini.yahoo.com/mbclk?bv=1.0.0&es=FJqiRt8GIS_i45ZuDQ2_ZRjeEF.C99n4x1iNJTATmbpGdohu3_rZoTiYNb5zyD_ISAi5VxQ2VS7eKZWyHZxEI5a8TkBGo9fMEOllMz7KrlmkQ8DZv40Zj372AZoR0YdBWOwHMg44bWQX5jKazIiP06J3fxbEhTPXweDHXG0L1V53hEB378ziIw.umhyiJxTBltatq_o43UVtFWg8Nrlu9ysA6.MSXrZ9BWxZ6oikVkRg_0gj3WK21x9YBygT_u6BAoNdgN9_mUH7a7hSan24BFyU0J.4rtYcCgngBYQSkmXKancodtxJ7vLyAQCwwoPnjPMeV0ExRbWIdAz1zdX7tFzaiElIQF3tNMYtWKEyhcetq8yGAf125Bl4CTTaHHkM5DGFy0vl.N9KkX48VsDpQE37SNGpH3ubCjDuZ_P4Le268KMzyXLs.zRbzxY8hTchaZCsmAuWZkX7hh6M6DuMSFfMS6CEU2nBjJxpZZICQqDSohuXvhVxn4.S9w3yDpaVf6M1gEeh3_YVGBpWszW36zEdILkybll5gI1LD6wrKQEC.OWFw.c-%26lp=\" data-ylk=\"sec:strm;ed:0;bpos:1;pos:1;cpos:26;g:32041437018;tar:beap.gemini.yahoo.com;ltxt:25Scanda;ct:1;rspns:nav;pkgt:5;ad:1;slk:title;itc:0;sort:1;intl:us;cat:default;t1:a3;t2:strm;t3:ct;elm:itm;ccode:grandSlam_finance;\" target=\"_blank\" rel=\"nofollow\"><u class='ftrimgstretch  '></u>25 Scandals That Rocked ESPN</a></h3><p class=\"summary mt-xxs\">ESPN is no stranger to controversy. Take a behind the scenes look at some of the allegations and scandals that rocked the sports titan.</p></div><a class=\"fz-xxs adv rapid-noclick-resp\" href=\"https://beap.gemini.yahoo.com/mbclk?bv=1.0.0&es=FJqiRt8GIS_i45ZuDQ2_ZRjeEF.C99n4x1iNJTATmbpGdohu3_rZoTiYNb5zyD_ISAi5VxQ2VS7eKZWyHZxEI5a8TkBGo9fMEOllMz7KrlmkQ8DZv40Zj372AZoR0YdBWOwHMg44bWQX5jKazIiP06J3fxbEhTPXweDHXG0L1V53hEB378ziIw.umhyiJxTBltatq_o43UVtFWg8Nrlu9ysA6.MSXrZ9BWxZ6oikVkRg_0gj3WK21x9YBygT_u6BAoNdgN9_mUH7a7hSan24BFyU0J.4rtYcCgngBYQSkmXKancodtxJ7vLyAQCwwoPnjPMeV0ExRbWIdAz1zdX7tFzaiElIQF3tNMYtWKEyhcetq8yGAf125Bl4CTTaHHkM5DGFy0vl.N9KkX48VsDpQE37SNGpH3ubCjDuZ_P4Le268KMzyXLs.zRbzxY8hTchaZCsmAuWZkX7hh6M6DuMSFfMS6CEU2nBjJxpZZICQqDSohuXvhVxn4.S9w3yDpaVf6M1gEeh3_YVGBpWszW36zEdILkybll5gI1LD6wrKQEC.OWFw.c-%26lp=\" target=\"_blank\" rel=\"nofollow\"><span class=\"source\">TheDailyIQ</span></a><a href=\"http://help.yahoo.com/kb/index?page=content&y=PROD_FRONT&locale=en_US&id=SLN14553\" class=\"fz-xxs sp rapid-noclick-resp\" target=\"_blank\">Sponsored</a>            <a  class=\"adlink fz-xxs rapid-noclick-resp ad-link-icon\" href=\"https://info.yahoo.com/privacy/us/yahoo/relevantads.html\" target=\"_blank\"><i class=\"img-sprite\"></i></a>\r\n",
      "    YMedia.namespace('dali').config = {\"props\":{\"dali\":{\"crumb\":\"invalid\",\"mLogin\":0},\"proxyUrl\":\"\\/hjs?m_mode=fragment&site=finance&region=US&lang=en-US&pagetype=minihome\"},\"data\":null,\"mods\":[{\"data\":{\"maple\":{\"platform\":{},\"module\":\"badge\",\"instance\":\"badge\",\"signature\":\"he5R2PEbnkHjPiFGhQuSNQ--\"},\"moduleId\":\"u_30345786\"},\"props\":{\"refHandler\":\"cfg.maple_dali.handler.refresh\",\"id\":\"badge\",\"ns\":\"badge\",\"trusted\":true},\"state\":{},\"strs\":{\"STR.MODULE.ERROR_FALLBACK_TEXT\":\"Requested module is not available. Please try again.\",\"STR.EDIT\":\"Settings\",\"STR.EDIT.CLOSE\":\"Close Settings\"},\"res\":{},\"mods\":[{\"data\":{\"maple\":{\"platform\":{},\"module\":\"u_30345786\",\"instance\":\"__mmh_0\",\"ba\":{\"_action\":\"show\",\"chrome\":\"1\",\"_id\":\"u_30345786\"},\"signature\":\"5nh6UiryEE9aP5zSGTFEXg--\"},\"clientPagination\":true,\"woeId\":23424977,\"intl\":\"us\",\"socialEnabled\":true,\"swipeEnabled\":false,\"fbAcctLinked\":false,\"dynamicEnabled\":true,\"removalMenuEnabled\":true,\"adsRemoveEnable\":true,\"closeEnabled\":true,\"markAsReadEnabled\":true,\"tooltipsEnabled\":true,\"batchPause\":0,\"interestFiltersEnabled\":false,\"interestFiltersBroadcast\":true,\"minArticleCount\":6,\"broadcastDynamicEnabled\":true,\"sortBy\":0,\"saveEnabled\":false,\"scrollBuffer\":900,\"actionDrawerEnabled\":true,\"writeMixerActions\":true,\"pageloadListId\":\"\",\"isRmp\":true,\"itemClickBroadcastOnly\":true,\"itemClickContext\":true,\"playIconHoverEnabled\":true,\"restoreStateExpire\":1800000,\"restoreStateMethod\":\"LOCAL_STORAGE\",\"restoreStateOnCacheMiss\":true,\"batchSize\":20,\"beacon_sec\":\"app-loc\",\"beacon_slk\":\"s-op\",\"bucketid\":\"901\",\"useGlApi\":true,\"ccode\":\"grandSlam_finance\",\"items\":[{\"u\":\"e3f49258-922c-35e8-8c5d-7bb074ef15c8\",\"i\":\"4000005248A100S00065\"},{\"u\":\"9a0220dd-72dd-350a-b761-37a02a7144b4\",\"i\":\"4000004418A100S00065\"},{\"u\":\"32002915852\",\"s\":\"Add any of these cleaning tricks into your car cleaning routine and watch how jealous your friends get.\",\"im\":{\"original\":{\"url\":\"http:\\/\\/l.yimg.com\\/av\\/curveball\\/ads\\/pr\\/RESIZE\\/82x82\\/633a2ff4a077395a092ff79635a96dfd.jpeg\",\"width\":82,\"height\":82,\"orientation\":\"square\",\"ratio\":1}},\"ur\":\"https:\\/\\/beap.gemini.yahoo.com\\/mbclk?bv=1.0.0&es=bqTfdvwGIS8TfkH1EmtyzMjd7PJhtGH.wahjgTLaxAosZt5js_cTQi.qMfFsK4RcH6D9VM47eRzLwlYdeIzl2BzOYChuPrYrPCYRvJicpdoIw3R4OW2naJM2.0jewjDtGoYcerxdx3B_G3xDlwCD7jLDCHzwkOFk0mYYygUYPi6R.KECGMbg5tqgt2ewS0ZgzNm79NKvIotwjjvSFmvQKJMtotOKLaYm0XkkKzdKEpzkKS.aZ_mUeojynO2bXOYhyN4p4yGC0MmZGkfw2EHWi.4hkz_VKgatmGxp5XIj.G967CpoFvKxgsHUToYllbWnH6muw.OTBs_OicWZ7FKGG.M4.Kz4RIZS38rzlKqNEbgItNbiUrmJcAMgjAuMioqeoqApFinfMGLBnvrp.Fy.eNNoL5zko9JQPgpqeaRcqoLr..3_37jjcIjzDFpvogrDwTg8r8L2r8C2oGy1xVYCJRiQOduBKPd8dNZFTU4HjMN7syQHmoc5FGTk2wYCIpoc6ckq.bgRvxXrTWLrQg47eadpEkN.W57MZfTWt6J8QL6EcmvpaAKFa1Wce1VGr0A5freGUr_KwmrBKbSTAjOez0IUElaAN3jHqyUwwS59kq1Jp07qxg--%26lp=\",\"t\":\"10 Cleaning Hacks that Will Clean Your Car Better\",\"b\":\"https:\\/\\/beap.gemini.yahoo.com\\/mbcsc?bv=1.0.0&es=DZ5Dg4gGIS8Vnm.Jw2jBcHfYn_xYyseCINoqkg4ARYhp.Iiz5UoB_ouM.MjMy71M0e_M.5Jtr9ZnGt58nvMzVNd3WHtImeYF_18mBzIVw.U7lWwoYMBQPtYdJuWHubRognh2t5ZLTU04IiIy6VDTvJ90txzsRo2A7_dKY6JUCRfcVnaf6skzxOZSg3rI.8oVGVEw67F1AvCrm_57J9hYtLSOq0O8KUFQtVcdVUhDwofcF_U6ZthufrwQ7_yQP19_TfS.SQ3usbZcV2zHLUFO50MSIuMO3UAPcBSEzHkl1tx2L95KX4OSz3genV6kcFFXeJ2hz.rBV9qv55Eh6fsWr7TDYwK1CqFVZL0t8sDJkForXhyaXe9E_S9m6agbapm9JVdr&ap=30\",\"tr\":false,\"ia\":1,\"at\":\"Activly\",\"ccCode\":\"STRM\",\"vid\":\"\",\"hi\":\"http:\\/\\/l.yimg.com\\/ts\\/api\\/res\\/1.2\\/blesjfkoWoG6ffGCYpy7fw--\\/YXBwaWQ9eWhvbWVydW47cT00MDtzbT0xO3c9NjAwO2g9MTI1NA--\\/http:\\/\\/l.yimg.com\\/av\\/curveball\\/ads\\/pr\\/RESIZE_AND_CROP\\/1200x627\\/1dd2ce47420855493624de7dd6d6069b.jpeg\",\"hiw\":1254,\"hih\":600},{\"u\":\"a6254dea-05d7-3a5d-af63-75724bc72ac4\",\"i\":\"4000004592A100S00065\"},{\"u\":\"139ce817-785b-3460-9990-e37e5a53d85b\",\"i\":\"4000006779A100S00065\"},{\"u\":\"bd64120d-f294-373d-b658-8131be4e7c3c\",\"i\":\"4000005753A100S00065\"},{\"u\":\"31763003276\",\"s\":\"Love your insurance as much as you love your home. Switch and save today by combining Auto + Home for up to a 15% discount. Click for a free quote.\",\"im\":{\"original\":{\"url\":\"http:\\/\\/l.yimg.com\\/av\\/curveball\\/ads\\/pr\\/RESIZE\\/82x82\\/3c44d203c13dd0ccba5a42c63b3bc0d2.jpeg\",\"width\":82,\"height\":82,\"orientation\":\"square\",\"ratio\":1}},\"ur\":\"https:\\/\\/beap.gemini.yahoo.com\\/mbclk?bv=1.0.0&es=mpAgo1AGIS8fkI7p4Cyv_QoMrEFequOHjSZypeZtxOMZsAaakDlnkit3KbFzBd1RLzhsTHCnnq32eE8s0nIs8Xu8Dfyb.jT8d7MYzmXSUBwlsKNkJBpcNElGA634GsEOViIvhNuWS1l_cinpN5RHhPUiqk6nt68RgdAubNrkOLJ_zNJSd8eXKwUZ4yFpIr_bcgRnA6hFE0nMeiEOWVQ4J1W7mPuz8qfWA4JJTKJNmeTiv4Z7E36Y1dxD_GtEOEpx0459J.zv61Sqz4noNRfrX_yesoir9Mswo3DfGkMFeUCWOkrXvsavFNE31yeqDpiO3ISUDVIyQcAAt6Rpn20yo6pHeH4IqF3hm3I89abifeOcyCsl0tNTxr6qVSyPT7mGDSRHWBlbU0dlnU20giHv8AlResWH3B0LMbpsunWFpHPP6XMkVdmWyrcXId5yNXQe87KvxZZvmudkdZwpJdTowZzKNNx1nS6ZwVueGzaIzx5lLcf0TipqHSoy09lx_DjAM1vOACti4RiE_2DMfQcgl0hbw3x777hVmTZcgvCuqJUuIcWdQ_vb40zt5iOcpPj7LcmNy8anF93ojRQmYfsj4Ue9VNYouTdC%26lp=\",\"t\":\"Final touch on your dream home? Amica Insurance.\",\"b\":\"https:\\/\\/beap.gemini.yahoo.com\\/mbcsc?bv=1.0.0&es=4UiExEsGIS_ZZcTTd_HsQ_md2Pa7qrm0q4HNc_FR1P_Wsx0lne5gdtYzkntGxnEH5ef8A116AVhr_jPBYbQ6h1s4OZgIJcEk1WOzGOlsbzOOcZW1SxYSildLKeYphdLMylWfYtGPa8gkydbCszCQxKeQ7QG3wIHLL6MdlC0wfmaml.2cojWLgWH5kGT4XzmayyT.n6gFUFzRaD5M.VLhm_TICHPX2gOFxyWQETirMH3M8uRfh_lkxxd9If8s_f1eUPzCoy2B4pGstKGUZJzXMt83DTA0n4jBTFuwyZeQCmS.ylIeto1lXr6PVWRtOIxOrRX5IhSsRQDxwgNhUU1RQIcGe.Bbxqm13A0aIEFVD52wI.1jpVoWyA0cr3xkCDcmWXhxPAQ-&ap=34\",\"ts\":[\"https:\\/\\/ad.atdmt.com\\/i\\/img;p=11152201114000;aaid=;aaid_lat=;idfa=;idfa_lat=;cache=557585f4-22ab-11e6-b9ad-cf7c1596d32c-7f32e82b4700\",\"https:\\/\\/secure.insightexpressai.com\\/adServer\\/adServerESI.aspx?bannerID=858703&script=false&rnd=557585f4-22ab-11e6-b9ad-cf7c1596d32c-7f32e82b4700&did=&redir=https:\\/\\/secure.insightexpressai.com\\/adserver\\/1pixel.gif\"],\"ia\":1,\"at\":\"Amica\\u00ae\",\"ccCode\":\"STRM\",\"vid\":\"\",\"hi\":\"http:\\/\\/l.yimg.com\\/ts\\/api\\/res\\/1.2\\/HRF01NrEH8ZRWTqt_2cujA--\\/YXBwaWQ9eWhvbWVydW47cT00MDtzbT0xO3c9NjAwO2g9MTI1NA--\\/https:\\/\\/s.yimg.com\\/av\\/moneyball\\/ads\\/1457548219116-9373.jpg\",\"hiw\":1254,\"hih\":600},{\"u\":\"04014ccc-1219-36bb-b498-5da2070992fb\",\"i\":\"4000004577A100S00065\"},{\"u\":\"6619963f-84dd-30a3-9ed6-f04d1cdface6\",\"i\":\"4000004170A100S00065\"},{\"u\":\"7d615458-f7af-3d36-baf2-880d3c97e165\",\"i\":\"4000007618A100S00065\"},{\"u\":\"31984173149\",\"s\":\"How can a few plates of this drastically improve nerve health? Find out what your body needs to fight never damage.\",\"im\":{\"original\":{\"url\":\"http:\\/\\/l.yimg.com\\/av\\/curveball\\/ads\\/pr\\/RESIZE\\/82x82\\/996fde3acede8275950ca6e136b9cc23.jpeg\",\"width\":82,\"height\":82,\"orientation\":\"square\",\"ratio\":1}},\"ur\":\"https:\\/\\/beap.gemini.yahoo.com\\/mbclk?bv=1.0.0&es=bM.F404GIS9_KeF1aLiQQb30EgO81N1A0c5cyF_KlilVz31nFqGt_04Rvpl5F6y5QfZgfDtUt27v9MYmqD6rOt_EJ9FjrCEK_QokRlFkUt368e74Jroqoxv9sIMa62p9x_iKRzKbco7q1fDSI3IdQ0VPtqIZI3dlHi59AYfXJr6Q3WBDe3S_MGBoMGjZSRISrXWM8BxshtlC7FxH7y5.mM1r3wZ7kyLU7xEuco8LRGTxtphn_orp5It86qKCZ97OK8SwXsx5OEkTxVRMuHaIkaC7qPRD0oxl3Pz_Tze7VHzmy6aHmuwGvhRMwJrll5U48q5OY7n5MqfcwzkDGWj.BlX_NIqGVCckp7lwaLO5yWSODoAJVXQlqxaa2TLpJvWTqSKJwvFwozi3WhE6uoIPO1AQaDA.GH0S.8HYL8XmKYBAnF2s.oh9blxDbTkkSfwjLQw1HdGxVsohwlpp7SA5qOVZ4y0e5S3X9pbtrCnSSQ8gXL1yPVvFJHObqqmFHA--%26lp=\",\"t\":\"Eat This Every Day To Fight Nerve Pain\",\"b\":\"https:\\/\\/beap.gemini.yahoo.com\\/mbcsc?bv=1.0.0&es=6Cn4_3cGIS_MZTlBaz1n2G0Ock5ic0X1y6tPpMtyFYh2jU.D3t3QtB2AKo00WRm.VepXQXoF1KbNFxiPBpVOJAYJHIculWXTocOy7PnUIMskUnMCDLOjO7Hf_8bIr2s3sYuulsCZ.F8BSg4PaB9qzrJAPIzyhRReARfDLlLTMwoXBznQnGFXfYxO2JNmIvzmEVB.bEkE54lGGMWIjOSsbGhEgqi6YbhsVpwpZAz.6T292gR5qtiIEhMepFmGh7GwncL35h0ZCCEkY2GshtMboNluLq3BdtlLPBZqK0gzz2I66xIWB3sMi9rkVGti0wZwoUG5bl9oEfc6P5kR4I9VyWRt58oGHen6ZSFqRLsLMzhY.aj85eVHQ31pm7mNMp4O_RI-&ap=38\",\"tr\":false,\"ia\":1,\"at\":\"Neuropathytreatmentgroup.com\",\"ccCode\":\"STRM\",\"vid\":\"\",\"hi\":\"http:\\/\\/l.yimg.com\\/ts\\/api\\/res\\/1.2\\/4p1ufw_fhY_RHJkMbrSUrw--\\/YXBwaWQ9eWhvbWVydW47cT00MDtzbT0xO3c9NjAwO2g9MTI1NA--\\/https:\\/\\/s.yimg.com\\/av\\/moneyball\\/ads\\/1459981897568-2099.jpg\",\"hiw\":1254,\"hih\":600},{\"u\":\"8a1e438a-415b-3860-9451-88405ab80759\",\"i\":\"4000003708A100S00065\"},{\"u\":\"c7604369-5f64-3e6b-aa59-426d77d5bc02\",\"i\":\"4000002893A100S00065\"},{\"u\":\"4d49970f-e9b6-3b81-b7a3-7a6f42b35441\",\"i\":\"4000000947A100S00065\"},{\"u\":\"32044287367\",\"s\":\"See the most hilarious cheerleader fails.\",\"im\":{\"original\":{\"url\":\"http:\\/\\/l.yimg.com\\/av\\/curveball\\/ads\\/pr\\/RESIZE\\/82x82\\/d21260eb1c4e38ce291e23084ad725b6.jpeg\",\"width\":82,\"height\":82,\"orientation\":\"square\",\"ratio\":1}},\"ur\":\"https:\\/\\/beap.gemini.yahoo.com\\/mbclk?bv=1.0.0&es=Aoivb0AGIS8T7RhaZ1qSsuF1Jz_OoxXIqn.gMVx6KdLXkzxmtw1NbwIDL5lzu3_YDMPVGX70XWhHiysgwJqQLuR3jT0UGGnQOCT103tdgic20.LaA9.2VE6dklS5zagvKGMM63kl.4suCgWuHqAHUANhHjt1KwHHUOxD79_uu1_nLZwo_yXWqbxPO8w5z1WnVv_Je5ojB8vw3H.6w8VopvPIOGa0JNhl7c.nWUtzkDay.9yErKDku935hNPTpaMaKzrZ4NeQNCAV.QIGqLvcdDXT_mf3snBVQqGt9_NnLRzp1D9UNKxHDsZYRt8pFR.xWkBDIcikEgOAi_dGb12FbqhsjzYYuzIPp6GdjY26zbWaEdYef.iZ7XbYK0RKbgMMFb5wo9b8oAy2nL64ZvUvoMrrYAwBmuGugX7AR_wZ3t7hSblUaY_5TsKlYCQiWOEnDO0N8wx31eZ8IdaXgFRjD52zQqLnpkhXl.y9pRrTBzplPHZ.wmBN._mhKzO2NPtds_heTuQWjh5oNLFQNbqUCHssWlH6Qu5crIB3WKcmnbf64kSqRaF2YRS.H21IguAtANjPn7JrGCMF.3eqrLrcN1fUnh314t99lRPDJAxHuxSV0jDJ_BugYWTAgZPuO18qYULiKHn533SLcSA8eJJk.A--%26lp=\",\"t\":\"20 Embarrassing Cheerleader Photos\",\"b\":\"https:\\/\\/beap.gemini.yahoo.com\\/mbcsc?bv=1.0.0&es=68OsvPMGIS9j8CcBFUbW1u2.yAIKh0i8rt2TNkQuHT7J1q9PtSpMT8c_PJDWJtsOwcmwsHBf.voAn7FT9ldg7ZAqF4Jkz0RHTBQ6c3kla0eU6OsFD5LkAtH0xRr3AVT6Lo3Jqxn3rW0JJweY67VKZTi5Uc6boYFY350sQiokQYtTRZZjVhTRSd58m4wx34Ux3hOXhzLB70IpppTYWqucLSwaEzZjXw3uXbV7Fzy9rKGtY4PCOMNy9d7tgCXcNWhXg8eHbimFeUijAhNzqL430gFfiz.0PZONI6avlROU5YS_ct7MophTSorWR4QM71m85lTQWe0HGgBF4cvgOQJOfMRNFE0OM1uv10kk4TGg.jivKKUxOAwLBpSobgJ7MYpEMN6D3QI-&ap=42\",\"tr\":false,\"ia\":1,\"at\":\"BiteTheBuzz\",\"ccCode\":\"STRM\",\"vid\":\"\",\"hi\":\"http:\\/\\/l.yimg.com\\/ts\\/api\\/res\\/1.2\\/6nNThglTbNzH54.AQvlzBg--\\/YXBwaWQ9eWhvbWVydW47cT00MDtzbT0xO3c9NjAwO2g9MTI1NA--\\/https:\\/\\/s.yimg.com\\/av\\/moneyball\\/ads\\/1463390688086-4933.jpg\",\"hiw\":1254,\"hih\":600},{\"u\":\"4a2a323d-2053-3996-87bd-f8fa0ecf515d\",\"i\":\"4000001491A100S00065\"},{\"u\":\"ed098be1-ea28-345f-89dc-85fc9f83f8da\",\"i\":\"4000008088A100S00065\"},{\"u\":\"aec1817f-fc2f-3345-ba1d-27b57427267a\",\"i\":\"4000002943A100S00065\"},{\"u\":\"31730722402\",\"s\":\"Little things make a big difference, and this is especially true when it comes to cars.\",\"im\":{\"original\":{\"url\":\"http:\\/\\/l.yimg.com\\/av\\/curveball\\/ads\\/pr\\/RESIZE\\/82x82\\/0779df36604d79063477512bdf0ec504.jpeg\",\"width\":82,\"height\":82,\"orientation\":\"square\",\"ratio\":1}},\"ur\":\"https:\\/\\/beap.gemini.yahoo.com\\/mbclk?bv=1.0.0&es=Yb2v.8oGIS9IikEAJnDzRWjR9HnFqKxTXfxiBPkwDx.gWnr2aTrLsFVRnzzP7DqUhnTSr6uJaz7FRnp59_5jm6NM4qb57mkHhPX.kjkI3YGNDTNqbII0OYoTcE0NHNDp_KwWl.VZb5hlRwfeEWHU.r3zmwrgaCEV43iNVmZllXfBfzEmgp.qBK.IiKoKeRsJvIsICCFAHRxqoFd0eF9MJldPVpZFUWZRevob13vS8ekDShAEXjv31btq3O019owk6QjnVJIulPkbj3_LhG396_TWh9z9QJQsmRgPRbaJT1w8_s3b1Gf3MaWHkzQhzlr4Y2JQb6FHCxVoMPb9_Mnm_9u_4P6luMg5z.fv6687ZbeDexqhyiYRfdmP8u.0d9TBB20H1J8r3dk7IAuED9GHusLghGGU5f89bLQEntIdMXjXU_1zGpKe_Jg1PwjSuxWSfq9iuntWifJkbcWmGKKGGm83mVxo4ZWE5YcPiFBhmEMAYjd7SBUqcXXE8HUHTKjNHLTeoNy9xhsYLhtjIRwC0iTgdVzh9MirrYBG9ujuIC2.4AFcGbffEY1VeBeFhwO6EmIcW8mGpFSqUPtkPlSW5_ZSYfmMxEIgZEife4rwxWWyXwTNaj5w54TCaFtaxPbnjKfTpB75yqGiB7uTgo8-%26lp=\",\"t\":\"10 Things That Will Keep Your Car Running Forever\",\"b\":\"https:\\/\\/beap.gemini.yahoo.com\\/mbcsc?bv=1.0.0&es=Wj6OCAMGIS_sf3FdApFYrW83isDz1v7jXetmBmxW7ufaU3aoRVVGDhtB5LfyYxgqUmZ7UBbnNTgPobj8IRNyqeHKGF0hxcnNkTE1VuMHEMw_nT4.P724narkhDZP7YTawkdhb.wlIvMMzxcxMSPaDXcCZ7_uou7xtPicrTPgJSsCR.FcmPkjLlg_4yekA.OJ6OrRmcSGR.ETd3G9wNvd_Got4Ocb8cRmc37rjl.bh89oFWDTF.jEtB.wEacbs78ZS.e0YBmt.Ke8KBKhSC2_blu8aY5Xcom_Bb491yAu0uWdreSxYpjsnlU1hbiTz3B8uCZgAR0gkMs6fGFUP_N4YaXIvzy97aaLUVknc9wrr6m43bYX1cMmDowSJaVS3OpFSNLJjQ6Ji9g_UQ--&ap=46\",\"tr\":false,\"ia\":1,\"at\":\"Goliath\",\"ccCode\":\"STRM\",\"vid\":\"\",\"hi\":\"http:\\/\\/l.yimg.com\\/ts\\/api\\/res\\/1.2\\/vLKpXY3fVpqKkARreiVomw--\\/YXBwaWQ9eWhvbWVydW47cT00MDtzbT0xO3c9NjAwO2g9MTI1NA--\\/http:\\/\\/l.yimg.com\\/av\\/curveball\\/ads\\/pr\\/RESIZE_AND_CROP\\/1200x627\\/0f6592662b48eee2023bddbcd85bc045.jpeg\",\"hiw\":1254,\"hih\":600},{\"u\":\"8690ef50-8efa-3315-b54c-243de8262e24\",\"i\":\"4000000645A100S00065\"},{\"u\":\"c21b18b6-93ca-3235-8299-eb9bbbd6716e\",\"i\":\"4000004729A100S00065\"},{\"u\":\"fe7f5d86-9a54-36b2-8c0a-23325efacf94\",\"i\":\"4000006866A100S00065\"},{\"u\":\"32037694310\",\"s\":\"See what people are saying about the most popular Blood Thinners or share your own thoughts. Search now.\",\"im\":{\"original\":{\"url\":\"http:\\/\\/l.yimg.com\\/av\\/curveball\\/ads\\/pr\\/RESIZE\\/82x82\\/c200e5975f628824d628fbb410a72dc3.jpeg\",\"width\":82,\"height\":82,\"orientation\":\"square\",\"ratio\":1}},\"ur\":\"https:\\/\\/beap.gemini.yahoo.com\\/mbclk?bv=1.0.0&es=6NAVmaQGIS_lZFaHrppMVFVjz9A1UXswnC3tNZfQcMZHYEN2yEwZQGKxFZ2O1qwlkdGKPGjlgHh_rqva1YRYbY2vLBqMmbl3Kb6nzJEcveDBRh28hyByF61p14TQk0aNszgQHy3ROpLiYh_CS9xsiuVq3WViZ_jVtilzPyCcjprJ16Iiq7G0tLreuo296Bp1I3nn9gxMw4AGKc0h4ENAaK1RYvDO6gefmby6RzEXWOdSZtDywaSQzUQTe0E50tPb04uNolPN0TwIsaXTtUDKZ9DGfySsMLdRkoI2npd36qpnb3SidkzpE5p_cM3APomo6q8Ppl5IqgSzs8I13pdHxpTZj2C1GccOptLQ0FBQS.JNwtWTS2bIr3srdV2V74zw6eA8hMxkp2_M9pa6zNjfsCkahNpFfoIDuYdKANIiJRMtbwidHdtwwkB8IFM9dLmBE46oRwok5g12j4nl2lJBVqjkMH6jxSIbTh0Sq6oc.ReGvYm70o9wReEdfMi6UvUaa0vrMBkgcJ8AtwYmwxZ2_VMltjb4tlrmBSkcwTR1DWzgx5W79hNBaVPbvYJqKA--%26lp=\",\"t\":\"Blood Thinner Meds Rated\",\"b\":\"https:\\/\\/beap.gemini.yahoo.com\\/mbcsc?bv=1.0.0&es=ND_wRX8GIS_.VLU23R0lXqbtewet4Q7Ir7O.DQpo_js6kpJ5sWR_F_FeGFTBvZA_KVAB1uQ2UZlviQQ5kmANu0vRqnu3h1G_ejtP1ge0GNQXZQQOkeh44LWQIWdShHevEsJjeeFTKKV.MeGi4PG45BFH4f6Ter4KQ0hfW3qiD00S7kstCd5BiHpzlRj7O9lC5Ow._u8XJI0O8mTU30xZQnFyeslBCLErvHFWpZJKLtXk1kk0E3rKYIqIOsYkB3DRJfCmhOCWxdjH7WPj3EvAJzdbU28rFwiPvGKVsBzZD55XPyc3IAXJIpN3ni8w8XZmHOf2KVwYhEPznzeEP6k2Y.Ul5EvXF5YF8BP43_kv9j1lr5Up0vT9ZNiYoeTHLYvj2Ll7y_GG5zTE6PUFPQ--&ap=50\",\"tr\":false,\"ia\":1,\"at\":\"ClaimRating.com\",\"ccCode\":\"STRM\",\"vid\":\"\",\"hi\":\"http:\\/\\/l.yimg.com\\/ts\\/api\\/res\\/1.2\\/5mhENKKsns0WDiKO0SYGOA--\\/YXBwaWQ9eWhvbWVydW47cT00MDtzbT0xO3c9NjAwO2g9MTI1NA--\\/https:\\/\\/s.yimg.com\\/av\\/curveball\\/ads\\/pr\\/RESIZE_AND_CROP\\/1200x627\\/3451b4d279c60a87302c2fab0e539ed6.jpeg\",\"hiw\":1254,\"hih\":600},{\"u\":\"82be86ed-13cd-3a25-8370-54a19663d3ac\",\"i\":\"4000005015A100S00065\"},{\"u\":\"e94fb493-ae42-392c-b9b3-7aab91f27ab8\",\"i\":\"4000003903A100S00065\"},{\"u\":\"ca03a801-62a1-343d-a9a0-f3e5fff83c93\",\"i\":\"4000002598A100S00065\"},{\"u\":\"32032121315\",\"s\":\"Judge Judy made a name for herself with her no-nonsense attitude, tough talk, and the long, belittling lectures.\",\"im\":{\"original\":{\"url\":\"http:\\/\\/l.yimg.com\\/av\\/curveball\\/ads\\/pr\\/RESIZE\\/82x82\\/abc0fa2ee32a21badb1c6c3dc89ded47.jpeg\",\"width\":82,\"height\":82,\"orientation\":\"square\",\"ratio\":1}},\"ur\":\"https:\\/\\/beap.gemini.yahoo.com\\/mbclk?bv=1.0.0&es=YwxYHiYGIS_ooTmCJ5309_mPeY40EaTtVrFVN63YAI4w4eSWDZNGidwfFffykb6lfaMpJl.H3qRH8bO_YyWvvPSkOVE659ifu5m_jjAttQlFPIoW93q_glAIqODoLlaJ9_wAsuDAJl4Xyecn6NJ0zUYVL4.mOtd45KfyHwhUYO7J8LY4GedaSpC5JxAqF55lngywD.1a3PslE5RZSXDzRoht88QaA86b8Xktx4fYojdfULLEE3gGgdnhxqITvGfjGLsgHTx.MZOlzzI5eDZIWpWFCNVPqfR0JWtlZKAnyVHrCFWrLvgVPnjcgtmT.qI.ZdED_dz6OQlM_UkwhLLTn8ZJCfvLtSKjuZS4YoDJAJpLlHy01Ph6owWVl9sdQixW.kj9HzUN8ljh7juYhAxwe8yk0bsSdQC8J1IhHT1jlMSlMQTngAUQFRoKW4Qg0E0RLw1CZkiym8qnWA3eDvJQYFh0f10wJQ8-%26lp=\",\"t\":\"The Truth &#039;Judge Judy&#039; Doesn&#039;t Want You To Know\",\"b\":\"https:\\/\\/beap.gemini.yahoo.com\\/mbcsc?bv=1.0.0&es=oz6WyfEGIS95LOqW9eCaLByR4uFIsx56rBuDpTnZ6a4bNzV3jeAbhlTt7p07uEY913fwvGCZW1EJcYSyAoJ2Dj8HXqu8ekNR2ZYS5HmdhG9FQlHByTfxeHjSHMf_jzinmeqC0qVZI9xw2pu_9PrQnUl1SDb4Lu2kFSUZz9XqYID7ZevEddsrecg7bLiGiD2gg.fDiMvXcQLRrMjABdvuk2nvEXgy8riGMQqxPiVtTX39n8rCan4xS4icGtLSEoIzxsoOULkFq_Z9_ns8yBxfbosr2M0MCjP4fZzFWzGhQ2IkAifyQtq03MFpQQ75keMT.DMaJOZ1BebYE.DNQCQKaKyXFdHqOXnhDS.n54xUZCpkvW19spa.AluPI_BbyKztuCt4&ap=54\",\"tr\":false,\"ia\":1,\"at\":\"Necessary Newz\",\"ccCode\":\"STRM\",\"vid\":\"\",\"hi\":\"http:\\/\\/l.yimg.com\\/ts\\/api\\/res\\/1.2\\/m3dEOvRyPNQKuj4h5_8nUQ--\\/YXBwaWQ9eWhvbWVydW47cT00MDtzbT0xO3c9NjAwO2g9MTI1NA--\\/http:\\/\\/l.yimg.com\\/av\\/curveball\\/ads\\/pr\\/RESIZE_AND_CROP\\/1200x627\\/41fd6c73f9991b96188aa973c2bcf79f.jpeg\",\"hiw\":1254,\"hih\":600},{\"u\":\"ebfe4dd4-8e78-3c70-a117-73a56afaf9da\",\"i\":\"4000002474A100S00065\"},{\"u\":\"9a6a441e-76e3-3ee8-a012-fb808758a6bd\",\"i\":\"4000004886A100S00065\"},{\"u\":\"7d2fbac2-e33d-3008-a1fb-627a6179565b\",\"i\":\"4000001987A100S00065\"},{\"u\":\"32103088482\",\"s\":\"Controversial tactical-grade weapon has just been released to the public and this ex-cop says it&#039;s simply too dangerous for civilians to carry.\",\"im\":{\"original\":{\"url\":\"http:\\/\\/l.yimg.com\\/av\\/curveball\\/ads\\/pr\\/RESIZE\\/82x82\\/81ac27ec338a698ec49bd0a2bea4bef5.jpeg\",\"width\":82,\"height\":82,\"orientation\":\"square\",\"ratio\":1}},\"ur\":\"https:\\/\\/beap.gemini.yahoo.com\\/mbclk?bv=1.0.0&es=pEXOTRkGIS_3.vp6jvsGGwom89uGYcIgY35s5CrwUylRGLvopiQu22rkGQqlovVeIKmAB4JgvGfJYqhUA2wn7oacCFF_c27i13xzw5xjcyJMYiEXBCqAt6kM03dY2kC7e1zjx_Iedgtgd_sL6nkctWc_TgSnm1nysDWoyC8OQ0bRbrbEs.R.wAzN4h3ENTJGgqg18PYUzf97u_gNGsYyfL4_suTEN7MybTkjnOYlDYVtP2A_ouHXo0rZiyIzkxwVpRHai5PtRgiBt08dmjpdOTHxKQCb1Tq.P17axv.j38VD8o.nhP16SBjqBaWNnRCpzdyvnspn25xmBEtBe9iYAq8YAOWKjSWCBnSmAMfGrzPfAn9NzFx.JAw_Nmf7bnq6fzOBwSDbXVPNsjKrmdXOY3GNHl5i9sNEfWGPCEGtNulKv53gpH1Ly7bclBFmNZeftCSTGFleXkoRNZXOQsj5OIh9HMM3s7T7_WhTS2BT.D7nqAZK8zwGBMjvzlAExh3rztzDaJrA3Fzh2Fm4wA6iJ8orvHfx1HDWgTa3iCKGmugjO7NrgfQOpTEhGwAz7S4hWbOnQyRXye8NDKuon.k.lLX3BUIlv1ojzVcBrZu.DmpMfQ--%26lp=\",\"t\":\"Ex-Cop: &quot;This Device Should Be Restricted To Cops&quot;\",\"b\":\"https:\\/\\/beap.gemini.yahoo.com\\/mbcsc?bv=1.0.0&es=tgFzFIAGIS8OSwxhzL0mUnfaSgWf3.ImwBhwMV5ENymBL9UrkCXLMIimA_aauNUhITTjlwYvpklFzt0KxcK8LQmkq_PQt_8r.r5Y4T5CiJuPC4_b392NFAp7g4CI88k_LRWfBe8gCqrLQWMg8.UbvRa62smt3plAc6eBFQTBX8aUEcj6YTB4ABKWMMe3Oj2D_jWFnQcBq.Z45ecL0Jt1yi65CWS2cEn7qWww7pULZVk7Zb6Uld2N4XihVfi0fFrAAaGQ0FSZtITgFX7lmp3Ji9csV0MtB2UkAvulZLFHvK7pUbOHqMNHat0vsXTCViHgPAwugraM3XCX3m3pBeMyig6ewvTYv99qVpcVHr.J2VXQj8B6bLzGl1kWc4Yu8x7eLA4sOnU-&ap=58\",\"tr\":false,\"ia\":1,\"at\":\"Life&#039;d\",\"ccCode\":\"STRM\",\"vid\":\"\",\"hi\":\"http:\\/\\/l.yimg.com\\/ts\\/api\\/res\\/1.2\\/7G0Q8V2vpEmhSDM10YJrlg--\\/YXBwaWQ9eWhvbWVydW47cT00MDtzbT0xO3c9NjAwO2g9MTI1NA--\\/https:\\/\\/s.yimg.com\\/av\\/moneyball\\/ads\\/1463523204465-2303.jpg\",\"hiw\":1254,\"hih\":600},{\"u\":\"1d2b21d1-b2b8-3bf1-ad5c-f0e9b5cf14a9\",\"i\":\"4000000528A100S00065\"},{\"u\":\"439d3411-289a-39f2-8b14-45f99e9eb394\",\"i\":\"4000002679A100S00065\"},{\"u\":\"517b5cce-c15d-3244-bde8-6c5a217feaae\",\"i\":\"4000001971A100S00065\"},{\"u\":\"32044364098\",\"s\":\"Include these nutrition superstars in your diabetes diet to lower blood sugar, burn fat, reduce inflammation, and gain more health benefits.\",\"im\":{\"original\":{\"url\":\"http:\\/\\/l.yimg.com\\/av\\/curveball\\/ads\\/pr\\/RESIZE\\/82x82\\/58799133e49c1ae4a2bb2a9e447d9e8f.jpeg\",\"width\":82,\"height\":82,\"orientation\":\"square\",\"ratio\":1}},\"ur\":\"https:\\/\\/beap.gemini.yahoo.com\\/mbclk?bv=1.0.0&es=YTVgWm0GIS8let6UKjBhb0hVhB5GDgvmVps_JQT4DbaBfWh6R5R.SjNshpCgr44TwYPGFR5PSrcQyfe9nFz0fa089HRWiPu6IPh.ErUSWrRyxmTH5yYnhyE8S36ahpND_fSc86..u1sdjSzQf52as.YZ00euzNNN91gH5BN9yF6ABtxcjz2JQ2Fj5xPLLe1YmZDf0KE3G.DMROdCVSMK_8m.HZCpOZBgQt0A7Ez5XPBlyXCXoAEQGW_Rf8uwdXlrXO4dGPXtsEkMIHWZ4uYvzGBZq9znznO0_nrOit9bRhLSTrWVj4oDwBkDKedJPDF4kGkRwtOayggbnASsDol8OG3o09Vq17kCTLJ1wR2wkB.5YBbjq0pgVpyM889Aa9n9BbRw2peAGdeHiF.aChWlvWxFJ.eGFoRc0wmV8neIhVycKU9zZ4OjW.FUQAdlHstrP.10OpX.bL4UWPh8UofkU4fnBOZtWgHRTk11rKO_GMjCcs.PzK4bKMVxfrIrQSAtuY1zW5fceAnXqL2tQhy8Z0.E_fdNA0yrwQ7kxjA7iE1ZUq0RzKj.WDiWVIUSX7YLL69634RR7sWkGSkP8L0y3E04QyPcn69zf58Maw7srhvMKNLmFAmKg4EaZgfJfEfxAC5sI6x_G0GDmAb1AVtrZELbkFNOWko_fxMlkHqrAYC5%26lp=\",\"t\":\"8 Foods That Prevent and Control Diabetes\",\"b\":\"https:\\/\\/beap.gemini.yahoo.com\\/mbcsc?bv=1.0.0&es=1HudHFYGIS9oj5H0UMnW7AO6L7KoW2WxkwCIrGZFzK1BrFsClq20WMlBLQkW6DuXGkZNl_0EudzWUdoQI1tDu0J9QGIfTWv37ejmEvNgscwM5ccEb3FzDrl7WIIqoSuSbrHXdfVH9q6rHM3uupDUyfIX9fV1Cweuxx7tvqs.QbHOyoPTP5Cyl5MJiotyKwXu5RvXXSza39yQpeQ0.jYOjB63cqBPkwWGsl6bc8JzlOB37bAIbSh4B90ZL8KdFUjKIZqyuffKXnziSl2hHnxM3stdaj3t1aA9ONmWNvm4BZOV3TwQ3dVUkhHC77WdkhH_SJBc0UhJSk1C.KZsP33NFeCuvJtNwm4PPBxa5T6KJAD8TNXR2N64VVCXE2CJ4EjTjot6&ap=62\",\"tr\":false,\"ia\":1,\"at\":\"Reinventing Aging\",\"ccCode\":\"STRM\",\"vid\":\"\",\"hi\":\"http:\\/\\/l.yimg.com\\/ts\\/api\\/res\\/1.2\\/Gb_9yqrYRA7X5yqfWSK6Tg--\\/YXBwaWQ9eWhvbWVydW47cT00MDtzbT0xO3c9NjAwO2g9MTI1NA--\\/https:\\/\\/s.yimg.com\\/av\\/moneyball\\/ads\\/1463403517454-4667.jpg\",\"hiw\":1254,\"hih\":600},{\"u\":\"e776a967-0f9a-39a4-b4c2-5877e30fc1bf\",\"i\":\"4000001321A100S00065\"},{\"u\":\"e9623f3f-23b7-3180-95b0-7df123fab7b0\",\"i\":\"4000004565A100S00065\"},{\"u\":\"0b4bae81-4fba-3e7c-a1f1-ba2f1cda59e1\",\"i\":\"4000005170A100S00065\"},{\"u\":\"31715826178\",\"s\":\"Sports logos have always been important in creating fandom and establishing a brand. Some logos are straightforward, but these 21 logos have eve. . .\",\"im\":{\"original\":{\"url\":\"http:\\/\\/l.yimg.com\\/av\\/curveball\\/ads\\/pr\\/RESIZE\\/82x82\\/f3ed079a36cfa5482d337c4a197697a3.jpeg\",\"width\":82,\"height\":82,\"orientation\":\"square\",\"ratio\":1}},\"ur\":\"https:\\/\\/beap.gemini.yahoo.com\\/mbclk?bv=1.0.0&es=gEkV5rAGIS8ELpUfxbdcOkRHPsKfzW1wY8nj.yjFaoNH3BuK71IRSOIN7UX25U57PbTMrT2FnwH6KdUJaV1RCQiINxbEOP8evBxKFJJsKkOE3eM.nFyD2Gv5tJWetbGVJXFnfKZpMq9LFgr7sVRqxcv1.FM0nQBqpQy4ApuJbWyYnVD0eorwX8VeMqny14vGToYUpFNm4v79h.0K0X9r8GLpduUeK1gE5sg7gDDe5imqF0nwZMjOsPf7i.kJfFBnExkBVQYWPnSO8w87oqWmb_ADoKsePynw97y8.jmrFPAGAsCo6IbBasCLXsw95jh8F_bQuZjuSLYJyAKMZtX4c1KWPUcAPZ_MVaMkrz.8cVqwMxLe.zo.7l9XeRccN5cXrImNpi.W9L.UFgLfRwOTdUtVj2uRJDEZ8hFxfFOjjK0Q1LjrkSP4ghIwEjLwQKYcTT4Veq6TTj7qlIX6KMChXFvhmqsBFI6IexR9deUGFvZ0KKkd7DfjqFaqejzOjVztmk6amDHuMnkpW8G8oo4b5AEgW.6bQrB7MY1fs9Lsx1Pt..qzN0_zg9n2Qm.vNh.dPONIbb2sESjq0y6SHBVqW0BPjWxOQbxLhmb69bqM1oJpw18ucusziUpzLCC2lcXRseBWb17y0y2MN8wB1N5VOJbYXIjiA.RoENGSGmKGH3Labi3BbsTd0XrcJ66BePVv84UV0D3luRo9KTj_YoAMp1MdXJPkUCEJ.Ra_PwXEv8SJy3ncELQpEJ_SmFvGg7gq%26lp=\",\"t\":\"21 Sports Logos With Surprising Hidden Meanings\",\"b\":\"https:\\/\\/beap.gemini.yahoo.com\\/mbcsc?bv=1.0.0&es=UwDgJh8GIS..JOxYoCJnJYUx3nsdzUXuSkyii907UfapW6tEQHSZW602PapK1jiWRBXcIUYVyr.BhAA6i6cLvDznvku378P0CTvQwXo2RZB6Y8po8bl4Spe5zhjTPLxtWuJU5xB.MPsagIwwsaJXmMpIfn2j34yQtiISHaKurHju0eewKNeU98tJbQ.tLvPW4.ggTkNDS01Jn5zi7PVntwAt6qpSn2pj08hKwoUmsnxAljFc4v3VcbcqLVStjIxxyDbvg54m1wgIzMkucMNsJCgoFd5TCKN54OmEJ50iTrPWkkwZCCuU7qrsami2Q6vlcTVf7PkV3cQwP5NFnTUUdQEngy7CZ1g0pJuH3ISfrloJZOSXit4ZPnww2rD2jkVM4neb&ap=66\",\"tr\":false,\"ia\":1,\"at\":\"Answers\",\"ccCode\":\"STRM\",\"vid\":\"\",\"hi\":\"http:\\/\\/l.yimg.com\\/ts\\/api\\/res\\/1.2\\/wdRWfP2lfAPtey6A72jrDw--\\/YXBwaWQ9eWhvbWVydW47cT00MDtzbT0xO3c9NjAwO2g9MTI1NA--\\/http:\\/\\/l.yimg.com\\/av\\/curveball\\/ads\\/pr\\/RESIZE_AND_CROP\\/1200x627\\/eb297104afe098551236290934677165.jpeg\",\"hiw\":1254,\"hih\":600},{\"u\":\"f45a95ef-e5a6-37d6-bf52-0faa7262c45d\",\"i\":\"4000005400A100S00065\"},{\"u\":\"93427961-309c-39ca-9c61-c0797f937b58\",\"i\":\"4000001093A100S00065\"},{\"u\":\"f43e873c-d743-333e-835c-8c8de0460f61\",\"i\":\"4000001881A100S00065\"},{\"u\":\"32103673939\",\"s\":\"Worst 15 States For Early Retirement\",\"im\":{\"original\":{\"url\":\"http:\\/\\/l.yimg.com\\/av\\/curveball\\/ads\\/pr\\/RESIZE\\/82x82\\/1d896b5273877f278194e05d33c342ef.jpeg\",\"width\":82,\"height\":82,\"orientation\":\"square\",\"ratio\":1}},\"ur\":\"https:\\/\\/beap.gemini.yahoo.com\\/mbclk?bv=1.0.0&es=ITxHuggGIS.UCVyifZrEXc2QjjAhr69pxsRcEnWvDiuA8W6LCrrOhuq_SbMOJF2refR1n72o7aiADnaxxzoNfhLYQELH6_i4zSg9kGioP4WIt7byQAC_4DOVCL0vjp3aaTf1weXYbGLKvjddNgAzcxpkWPveS141cTdz8.88ftlFGyebSuninTqpL7tCyozCo7uz7vEsYAvhIqvjGYy5__18tnCNrw6fWb41eWDXA6B_gNMpvNaQ0MlrgY8x28jfhNyBw5OKemFFuLqDm7xGLcChcXNYLNThBQlkS_8qo99X1tsk_vc3Tz0pjVNVkCKIXP9xTTSeAdNSn5gMhHw0q1Dbv35xtLyiurufV7pLgYVO0ssmWBh_6lyO8w_LvzKa4lZ8yXXk.ohe9sSqkAcVH2rTkca4eEwgnWz1fSQZ3KqdE7OH0rS2Vz0pltc08wzDwg2TxTsc7BfbPNBH3H9Rx7MaqFql2d_VYEVptt4M6aNIZW0s6KCUv_KXyHR3SKJlMhpGe0R1lnijWeo6XTQtS37t_ItKvaI_MgQlgva7chOx0RTLN78wfM6OXDlFvE.4st4DLoBi7OzNa44ZxkFTUDpyBUAQYHrpyjXWaP3dFruVEMd3YHu9.WG2TFSLXfyO.rJSwz0-%26lp=\",\"t\":\"Worst 15 States For Early Retirement\",\"b\":\"https:\\/\\/beap.gemini.yahoo.com\\/mbcsc?bv=1.0.0&es=06HoMFUGIS8RnjGksqacUstJ4nw4bXMHiAuKz6Tj_EZvWI5wnyULXrYMQ.HTOxPgRrDX7vFWiYkdoJcI0RgFIDwI55kco3IeJD13z_ko_83Zou1RDp0eaoYmsfptYH.3PjnXPo_nB5IRxWLWAuP6gMB54N7tC7vNKOTT6lcJVIdInnlSmb3LLww44WJORM6g6qMhQnHKC4IOUnMhh71jXYyxGiWoS3LNawdaCULwZRiG0hm4VjEgsFsV3YNpBcu9BMuaeaKlm4wvQfFY3m7or9CzE8PTbLs8bfX6Sp8bBVxkT4qCFvJANw_7lolFi.QgfyMk8xpBdJNhrd5f.6JDvYE0A4QGcdASnlcfLW26zQTt7HjeoMtzBoKEHsf02p1gogjA&ap=70\",\"tr\":false,\"ia\":1,\"at\":\"Livechronicle\",\"ccCode\":\"STRM\",\"vid\":\"\",\"hi\":\"http:\\/\\/l.yimg.com\\/ts\\/api\\/res\\/1.2\\/ZMP0Xf4dU1stN6EhnvUu_g--\\/YXBwaWQ9eWhvbWVydW47cT00MDtzbT0xO3c9NjAwO2g9MTI1NA--\\/https:\\/\\/s.yimg.com\\/av\\/moneyball\\/ads\\/1463791930400-1943.jpg\",\"hiw\":1254,\"hih\":600},{\"u\":\"3583344f-2b7f-3c78-8301-b58f9302e312\",\"i\":\"4000004383A100S00065\"},{\"u\":\"e449ea75-2b4e-3b44-9f91-9fa2783a0b8f\",\"i\":\"4000003969A100S00065\"},{\"u\":\"7372e395-fe42-3656-8593-46a92e6c4d98\",\"i\":\"4000001039A100S00065\"},{\"u\":\"31767435215\",\"s\":\"You won&#039;t believe these private jets that are the pride and joy of their celeb owners.\",\"im\":{\"original\":{\"url\":\"http:\\/\\/l.yimg.com\\/av\\/curveball\\/ads\\/pr\\/RESIZE\\/82x82\\/d5207fae2323f0ef60d9e3e733c02c3b.jpeg\",\"width\":82,\"height\":82,\"orientation\":\"square\",\"ratio\":1}},\"ur\":\"https:\\/\\/beap.gemini.yahoo.com\\/mbclk?bv=1.0.0&es=uCz2Dj0GIS.WSVZknaqnaBDPOzRAO1LFkVQOhBVZmdZRt0.o5nvLJ9e3cO3VzEdxkJYFJvli0Y3fam.Fs7Xv_acQWXqFnDt3fop1uyf_GL2KHqmv4dTL8ZpOJe2RdlYHNNvSts2Hili5NnehnvqJ1CsjkVg5OwAUdOXlPnryzwSZF2wByVYM65aDD58ulXTM90D3r0GeNYHz9h81njQa.nbZ_cZNgXENDJHHq3CllscdKG0bpeAdo1syEQFDzmUaHvpN0wxN6OIOhzsWGmQsoIksKSey8Gf5_aIqJHLLCdtynF_5okI.o.RQdWp44cAdgTI7fX0hhXOPWAw0LUh1SfzsAw3E1BmY0dBSR3WNviJsSGjs74D9K5nDhUqE3C1XIL35paFGuxhqU8CxYpEsWfd2il6oLIoOJDjtWKj_lYAaq6DpZOUqKuPji0jugd0K2tpzLJspxOx.RXpG6hmICRXa_mKtnpYDccSReakAVRmL2bnHDkzu5lLbbZcCPZ66jMLgMeHalWrG95xWI3XGvW4gvQkmijGdm0sNFWgbMVmWVEIOBB5JfX5wBMf1KF_T8a6dlg--%26lp=\",\"t\":\"13 Most Expensive Celeb Private Jets\",\"b\":\"https:\\/\\/beap.gemini.yahoo.com\\/mbcsc?bv=1.0.0&es=K_6UfocGIS_Pce.KTSAHmLtIe1RKGO4h_IPTVhdxT7zvzPPznpgyaD.RtWhgb2EUBahTQgmx1Tk0isfasGftW1nFEXfDJo3c28uQ7cDXpKZnthpkSx18jQ5sb9Lnm.1YmVztSVd197hAVOIFdZkLPrJz7YESXzny8dJKhsGX18a9ML3hwH5Dm8PrhAxovOxndHmJTo779WBAAWBQ2sluzYn4kL4HlRDqy9JUqbGjxTPLKXKDE2wwTCEzW_E3H4SFg6HBOGU51wmru6GIDwJxYQBVwQixO7iGgOLSLnQWrqcJ1dVLKN5keIKEW8pgLc7ostJCJfMlIPiVmuvMW8bT63mj5LEWBA2K6e3KMHM2DIME_1QKuY26GZivQtQsObeDajvy&ap=74\",\"tr\":false,\"ia\":1,\"at\":\"PressRoomVIP\",\"ccCode\":\"STRM\",\"vid\":\"\",\"hi\":\"http:\\/\\/l.yimg.com\\/ts\\/api\\/res\\/1.2\\/PMvL99iKdOSqiWJoZSN7cg--\\/YXBwaWQ9eWhvbWVydW47cT00MDtzbT0xO3c9NjAwO2g9MTI1NA--\\/https:\\/\\/s.yimg.com\\/av\\/moneyball\\/ads\\/1457733444200-8440.jpg\",\"hiw\":1254,\"hih\":600},{\"u\":\"a00e1fc4-1934-3329-ace6-46ba5dee9f62\",\"i\":\"4000001980A100S00065\"},{\"u\":\"9efee05b-1704-3341-b9b2-559cb2d623e3\",\"i\":\"4000000648A100S00065\"},{\"u\":\"ceed998f-ce06-36cf-9a32-00945bad744b\",\"i\":\"4000001419A100S00065\"},{\"u\":\"31755580879\",\"s\":\"Save your cash. Don&#039;t purchase a lemon. Know the most unreliable cars and purchase a car with low maintenance costs.\",\"im\":{\"original\":{\"url\":\"http:\\/\\/l.yimg.com\\/av\\/curveball\\/ads\\/pr\\/RESIZE\\/82x82\\/ef25d3c165a450228afc326724c0a258.jpeg\",\"width\":82,\"height\":82,\"orientation\":\"square\",\"ratio\":1}},\"ur\":\"https:\\/\\/beap.gemini.yahoo.com\\/mbclk?bv=1.0.0&es=AQLDXfoGIS.BWlpT7rAPve34XwqiVsi4PRyR9wADwStk_TTBAQzvn9w6.dB2IcDDOxDJRyxlxE56of3t_TQo8N5.yoIQpLJetZ.K4p1yTeyCyUtT50voVXrHVqXBHY6gXUH1u2cGQmxKcEpJYbgWCeyW5CuWNJqjPxXbJiy43UezpfyIBunKAUjIGKeUG4TEEvK3YjWV54HjKz7AbVtStP0.1Lxy9OVCzWXzFZPAdC2hO19VGruz5Z.PLcGkBshF_bD.p3aoQzVZDVjSFscoeyq85aj0XaEUtZDiK9jnlkBbB7Z1Ti9k4cvjuv42oLGg_F9DbWlMDUDcuBSk5edmRigZzZ15kH.ZWGBNHZB0pF0mIeY6riT.Jw19gRdJMEpNfKJqkCanDC6TXU28LpY9qVnL6pBM._MInEuqwMeqWxD4G3Lk1c9vwRh4afq5XHB99hQyE2CbGqt5AzyadZ99lCgjKx9JnC7kBw2Mh_OUWYaVco.TU3i3KClT5pbnJybr.8ziv1Qu88jwv5Z1hXFjjqkAmqIIb0mTXR3OzII3ROai6qE42WA64eXoRMMHJgSOgudsEZLnbL89a04WEOnLuvblT3DQBe62s.gQntzHwBjOyQwcd1SNaHAAZIKoGk1bb8wKPSWwBMhYXLgP38vBLfpQxSqBsKattwZzTv0Wf8WjXpK0y0VuOMBmkw.bZKVMgtKncS9s9jbUtFve9U4kyWkJjLJk6J8sRWi0BYAahEYtETPxvWeG28lw4ix4GKzx%26lp=\",\"t\":\"18 Most Unreliable Cars You Don&#039;t Want To Buy\",\"b\":\"https:\\/\\/beap.gemini.yahoo.com\\/mbcsc?bv=1.0.0&es=WNXBW5kGIS_jCft7xyActikJTtiYaGoi9nXpK44O.LlPoOE9GFT3b6JdEN96R144U6OsRnn25kXdROdWL2XjPmqzBeaMGcI0rdmfW5BO2VqSLqVq6JUi7DSP0umT4z1yl_oovXSo6AM6xfvydo29UjupunKLrI1_PGlgtNpNtkpbbD3P0bmbgxzknKM235YqnJvfzOZ_rpWBGic.P5QEoxyrt3BqXCjnCR1.Neh4c2HYEGGXeYHFt77vSkg1p0.rtxy7FUKFbGT.OcxGkD9Oas8A9iaxMRdpK1cczrGJv6SCdoiKMv3MmfAdMgsyRCc3PVSX222ZXQwOywrxbveDH4n3sZICWJfvZRMjJ_W1iNglxcsNqVomDDKhaQRjj90kEZ1hroo-&ap=78\",\"tr\":false,\"ia\":1,\"at\":\"Brainy Cars\",\"ccCode\":\"STRM\",\"vid\":\"\",\"hi\":\"http:\\/\\/l.yimg.com\\/ts\\/api\\/res\\/1.2\\/JHcgpmMTZlDgSeylBYRC7g--\\/YXBwaWQ9eWhvbWVydW47cT00MDtzbT0xO3c9NjAwO2g9MTI1NA--\\/http:\\/\\/l.yimg.com\\/av\\/curveball\\/ads\\/pr\\/RESIZE_AND_CROP\\/1200x627\\/5e69c8d78d95012f2365291758236c6f.jpeg\",\"hiw\":1254,\"hih\":600},{\"u\":\"577c49dd-5822-362b-b958-1fd107f7c950\",\"i\":\"4000000817A100S00065\"},{\"u\":\"0d4ea42e-0378-350e-ba98-38fd458841ca\",\"i\":\"4000001830A100S00065\"},{\"u\":\"8cd62ff1-0f93-391a-a315-db796a1ea722\",\"i\":\"4000003040A100S00065\"},{\"u\":\"5e4ac977-323f-3ffb-90ce-a82a74e482b5\",\"i\":\"4000001547A100S00065\"},{\"u\":\"a376f25c-8ad6-3ab0-9841-9b130fc09e86\",\"i\":\"4000001214A100S00065\"},{\"u\":\"a5041310-464a-3de6-82c7-94ec2e419494\",\"i\":\"4000001907A100S00065\"},{\"u\":\"e7757eac-1689-349d-b778-05c00b7abf34\",\"i\":\"4000004985A100S00065\"},{\"u\":\"b08c82cb-1dba-3c5e-92dc-0289212721c2\",\"i\":\"4000004413A100S00065\"},{\"u\":\"d6de50f0-a949-3684-9938-09f9cb821396\",\"i\":\"4000001573A100S00065\"},{\"u\":\"7e62d575-300c-323f-a23c-728f9c75a883\",\"i\":\"4000000888A100S00065\"},{\"u\":\"d0ee7a6d-f388-3027-905c-e5b42961cc30\",\"i\":\"4000001423A100S00065\"},{\"u\":\"e22756b3-bc76-388f-bd8a-b271e2b702df\",\"i\":\"4000002700A100S00065\"},{\"u\":\"a46b3a48-7fc9-3900-bdcc-f6b57a02e632\",\"i\":\"4000003777A100S00065\"},{\"u\":\"fc9aaa84-04fa-399b-a32d-d4f74a629e1f\",\"i\":\"4000001202A100S00065\"},{\"u\":\"5411b300-857b-30f3-b1fc-8c2561dc4097\",\"i\":\"4000001526A100S00065\"},{\"u\":\"a9147668-e2aa-3a4e-a2b1-5a959703607c\",\"i\":\"4000000851A100S00065\"},{\"u\":\"4f450ae1-669b-39d1-ba50-f02a6cc7c580\",\"i\":\"4000003171A100S00065\"},{\"u\":\"1140befe-261f-329b-b0f8-d550b901793f\",\"i\":\"4000000948A100S00065\"},{\"u\":\"6947eea8-fcfc-38a4-9750-1c44bd70ce8e\",\"i\":\"4000003044A100S00065\"},{\"u\":\"b086d893-3a64-3d13-b04b-7475738c3abe\",\"i\":\"4000001055A100S00065\"},{\"u\":\"cd6f5584-668f-3540-9124-c70419ce2e1c\",\"i\":\"4000000994A100S00065\"},{\"u\":\"bb38323b-64bc-34e8-8bb7-c1e99c137b7b\",\"i\":\"4000001347A100S00065\"},{\"u\":\"6481b67b-9979-3049-bccb-dd2992e5a17e\",\"i\":\"4000001459A100S00065\"},{\"u\":\"f8a4350d-4cd4-35f4-8f33-f23eb44d8e78\",\"i\":\"4000002417A100S00065\"},{\"u\":\"3282db16-a7da-31be-a220-3c1042480b01\",\"i\":\"4000000780A100S00065\"},{\"u\":\"f2a951be-9239-3ede-91f9-31594129c0fb\",\"i\":\"4000002785A100S00065\"},{\"u\":\"730bc217-25ec-3bb3-8d75-992c2012a8e4\",\"i\":\"4000004858A100S00065\"},{\"u\":\"d422c696-7a35-390b-8fbe-fb42f88c4bd2\",\"i\":\"4000001021A100S00065\"},{\"u\":\"6e06ba35-6205-356b-9359-e9f28be834b1\",\"i\":\"4000002166A100S00065\"},{\"u\":\"89b311f3-1c8b-3ad8-a8f2-f6bda68a048c\",\"i\":\"4000000998A100S00065\"},{\"u\":\"bc6a94ad-0dcf-31bb-b8f7-b34944faa9e0\",\"i\":\"4000004254A100S00065\"},{\"u\":\"a5814454-37eb-3a00-acc1-6d1bfdfb7f96\",\"i\":\"4000001402A100S00065\"},{\"u\":\"4cac94a2-ba9f-385f-9e30-8fdf0dc8f0e4\",\"i\":\"4000000691A100S00065\"},{\"u\":\"726982bc-6c6b-3e17-9ba8-0bdcbd83c08e\",\"i\":\"4000004808A100S00065\"},{\"u\":\"4fc03b27-1ec0-37c6-a075-d11a3cb22b78\",\"i\":\"4000001490A100S00065\"},{\"u\":\"27ea3b43-4326-3d5a-afbd-85c36893d141\",\"i\":\"4000001710A100S00065\"},{\"u\":\"bd9368ae-5060-3572-909c-9f0219618996\",\"i\":\"4000001650A100S00065\"},{\"u\":\"62e42ca0-2d44-35bd-a159-bff38fa0e426\",\"i\":\"4000000000A100S00065\"},{\"u\":\"be5ca1c1-90fc-3efb-8626-217a0e1662b2\",\"i\":\"4000002295A100S00065\"},{\"u\":\"3bff66c0-ab97-3c31-8839-62b908ba9acf\",\"i\":\"4000000984A100S00065\"},{\"u\":\"5d1b83b6-d9f5-3403-b045-b88af9cb8ff0\",\"i\":\"4000004008A100S00065\"},{\"u\":\"d1a3efbc-4937-3fe5-bd5f-1990137d3998\",\"i\":\"4000000995A100S00065\"},{\"u\":\"f2da1b87-c803-36eb-80eb-d807a6e2b651\",\"i\":\"4000002565A100S00065\"},{\"u\":\"ba2628f6-0def-3623-b9d7-c1fee6b1c77e\",\"i\":\"4000003326A100S00065\"},{\"u\":\"77c41487-a979-362e-a28e-16abf23f974f\",\"i\":\"4000000884A100S00065\"},{\"u\":\"49d74379-7450-3861-9330-78dceb073ebd\",\"i\":\"4000001332A100S00065\"},{\"u\":\"1ec0496e-449f-3965-9d5f-7f515c917a18\",\"i\":\"4000002155A100S00065\"},{\"u\":\"b7e6863a-8771-3e7f-b2db-cd4cab9fa09d\",\"i\":\"4000002528A100S00065\"},{\"u\":\"10e57f75-5ef6-3891-94a8-694e4e15c5cf\",\"i\":\"4000001081A100S00065\"},{\"u\":\"3dc6e6b7-0487-3b00-ac23-6a386ac84806\",\"i\":\"4000000852A100S00065\"},{\"u\":\"e3324d17-1b74-3f9c-b862-0d5ddc3480a9\",\"i\":\"4000001580A100S00065\"},{\"u\":\"711f15dc-09f8-3089-8a10-80217b73ac5b\",\"i\":\"4000004078A100S00065\"},{\"u\":\"4a9acc1b-55fd-3db7-bf92-0341d95a2c25\",\"i\":\"4000001112A100S00065\"},{\"u\":\"f0a3c238-b369-347e-a6c9-160e2e9a3433\",\"i\":\"4000001320A100S00065\"},{\"u\":\"c0d7e88b-c037-3dd5-ad12-79898923ace7\",\"i\":\"4000003419A100S00065\"},{\"u\":\"2f4bfa65-0320-34e2-8400-c7366442d7a3\",\"i\":\"4000002608A100S00065\"},{\"u\":\"5dd946b5-c73f-31a4-ae68-8bbf4fbf1b0b\",\"i\":\"4000001743A100S00065\"},{\"u\":\"8bf4a834-1bc4-3ed6-8b7b-d6d4cf952783\",\"i\":\"4000001046A100S00065\"},{\"u\":\"a89f7d4d-3e7f-30eb-8967-82d22d6cf1d1\",\"i\":\"4000000837A100S00065\"},{\"u\":\"4206586d-901f-30f4-bc26-38b689f0cfe8\",\"i\":\"4000000672A100S00065\"},{\"u\":\"2aa247ab-8911-37a7-a731-2d7b4ead0c10\",\"i\":\"4000002314A100S00065\"},{\"u\":\"49abc02b-73a8-3269-9d48-60b59419e469\",\"i\":\"4000000780A100S00065\"},{\"u\":\"828dbb19-996d-352e-9e6b-c95b84fdcdbf\",\"i\":\"4000000593A100S00065\"},{\"u\":\"65623d5e-24e7-31ac-acdf-0b7ae277ce22\",\"i\":\"4000000719A100S00065\"},{\"u\":\"f1e9292a-e808-35cb-9163-ad93efce9275\",\"i\":\"4000001499A100S00065\"},{\"u\":\"a0b69118-73f8-3185-99c1-fc76985df049\",\"i\":\"4000001509A100S00065\"},{\"u\":\"a2cc801d-5343-3212-8e12-48b8f56790f5\",\"i\":\"4000001483A100S00065\"},{\"u\":\"b55a77b4-9abf-36d4-92c5-a632414ed8a5\",\"i\":\"4000002192A100S00065\"},{\"u\":\"ac1a8cd4-0c09-310e-9db2-d3bf26db481c\",\"i\":\"4000001826A100S00065\"},{\"u\":\"36f34cf7-4032-3d62-8830-c83dff5fe2fc\",\"i\":\"4000002401A100S00065\"},{\"u\":\"04c0fa98-82a0-38e0-b4f2-c5fee1e5dda1\",\"i\":\"4000001496A100S00065\"},{\"u\":\"a67999cd-9b9b-3437-9f7c-56ef453dca6c\",\"i\":\"4000002284A100S00065\"},{\"u\":\"03b74b42-5300-3421-9812-b3a979afb9d8\",\"i\":\"4000000864A100S00065\"},{\"u\":\"5ea0ecb9-06f4-3aaf-b37f-d3a01c83cede\",\"i\":\"4000000420A100S00065\"},{\"u\":\"715fe795-e296-3f2f-bc9f-09d3100b49c5\",\"i\":\"4000000845A100S00065\"},{\"u\":\"69203075-087d-3e3b-a8d1-77239546e245\",\"i\":\"4000001110A100S00065\"},{\"u\":\"12c370e4-5f92-3a40-b879-fec4aa8a7ca1\",\"i\":\"4000000969A100S00065\"},{\"u\":\"5841c5a2-1ddb-3660-99ef-353dd51888a3\",\"i\":\"4000001172A100S00065\"},{\"u\":\"62136633-42dc-3687-83aa-8c80ac5dc81a\",\"i\":\"4000000749A100S00065\"},{\"u\":\"d3eacf88-927b-3bb1-9074-1b9b47c3cc56\",\"i\":\"4000001222A100S00065\"},{\"u\":\"5ff297fc-0916-3c7f-9b3d-d1c09fcb2d87\",\"i\":\"4000001793A100S00065\"},{\"u\":\"b608ebb2-5cd9-32ef-9b68-54545b46c6c1\",\"i\":\"4000000771A100S00065\"},{\"u\":\"c34a321c-23f4-3749-aef5-13b379f59ba5\",\"i\":\"4000001327A100S00065\"},{\"u\":\"35295d4e-a215-321a-8e8d-9a676ff82742\",\"i\":\"4000001364A100S00065\"},{\"u\":\"3e1c56d0-cc16-3b60-bb21-3babdc2ac07d\",\"i\":\"4000001199A100S00065\"},{\"u\":\"2baf5350-c818-3b76-8ca4-22be25f5647c\",\"i\":\"4000003459A100S00065\"},{\"u\":\"ff1f2005-23af-3eb1-b715-3639705593aa\",\"i\":\"4000003108A100S00065\"},{\"u\":\"37c2a81d-be20-3c45-b2f7-f1e57d9de69d\",\"i\":\"4000001648A100S00065\"},{\"u\":\"2f0cb9eb-be37-305e-a1eb-1bad411b2715\",\"i\":\"4000001996A100S00065\"},{\"u\":\"c9526780-0201-3032-9279-9de65981d5ad\",\"i\":\"4000001012A100S00065\"},{\"u\":\"3cc4fe86-c454-327e-8b67-db552204d98e\",\"i\":\"4000003576A100S00065\"},{\"u\":\"3a5b648e-2dfb-3691-bea7-66b3d3c4edac\",\"i\":\"4000002996A100S00065\"},{\"u\":\"b64e5582-a8ff-3f13-9a85-9d06ecfabbd5\",\"i\":\"4000002203A100S00065\"},{\"u\":\"aa4b357a-4637-3201-8a20-838d83ea711c\",\"i\":\"4000000712A100S00065\"},{\"u\":\"4ba96053-f771-3cb0-a364-e9d22b78bad4\",\"i\":\"4000001668A100S00065\"},{\"u\":\"efd57f5f-3dca-3ff1-8571-918babca1714\",\"i\":\"4000002059A100S00065\"},{\"u\":\"4e06cabc-878e-334f-87b2-edc7f8359af7\",\"i\":\"4000000882A100S00065\"},{\"u\":\"ddaed14c-2b5f-3e0e-bb46-420e0de75b5f\",\"i\":\"4000000697A100S00065\"},{\"u\":\"7b544a45-a3d2-3957-aec5-3ebfc84f8f81\",\"i\":\"4000000999A100S00065\"},{\"u\":\"7cd01761-c575-3eb1-afb7-8d4e78ade762\",\"i\":\"4000001285A100S00065\"},{\"u\":\"6aa6547f-727e-3932-95c1-8f96d3eed431\",\"i\":\"4000003599A100S00065\"},{\"u\":\"762fc6d1-4341-36be-87e6-560639a21fae\",\"i\":\"4000000812A100S00065\"},{\"u\":\"ac5e1406-f093-387c-913a-e388e4fca9b0\",\"i\":\"4000001687A100S00065\"},{\"u\":\"3583795b-93d0-3028-8950-13eb932260d2\",\"i\":\"4000001355A100S00065\"},{\"u\":\"192d5ce8-a527-3112-8af7-4570635611dd\",\"i\":\"4000000907A100S00065\"},{\"u\":\"6f1734a6-bcf4-3b65-9453-e3caaa89c644\",\"i\":\"4000001429A100S00065\"},{\"u\":\"0e0e5ed6-a38b-304b-befa-beec6672d035\",\"i\":\"4000001717A100S00065\"},{\"u\":\"00e11610-a092-3a99-9d69-35bf46ce2641\",\"i\":\"4000000923A100S00065\"},{\"u\":\"c53fdb48-1407-3019-9066-2901401891a1\",\"i\":\"4000000967A100S00065\"},{\"u\":\"d7fb049c-8d73-3154-941f-5f425b2db826\",\"i\":\"4000001080A100S00065\"},{\"u\":\"161db1a2-ce4a-3bab-a50b-978ad949ea22\",\"i\":\"4000000752A100S00065\"},{\"u\":\"66d9dae1-b7e7-322d-a54a-b956d07e9604\",\"i\":\"4000001218A100S00065\"}],\"contentpos\":27,\"interestsData\":{\"YCT:001000303\":{\"name\":\"Credit\",\"count\":0,\"url\":\"http:\\/\\/news.yahoo.com\\/credit\\/\",\"declared\":1},\"YCT:001000311\":{\"name\":\"Debt Management\",\"count\":0,\"url\":\"http:\\/\\/news.yahoo.com\\/debt-management\\/\",\"declared\":1},\"WIKIID:Credit_card\":{\"name\":\"Credit card\",\"count\":0,\"url\":\"http:\\/\\/news.yahoo.com\\/credit-card\\/\",\"declared\":1},\"WIKIID:Credit_bureau\":{\"name\":\"Credit bureau\",\"count\":0,\"url\":\"http:\\/\\/www.yahoo.com\\/topic\\/credit-bureau\\/\",\"declared\":1},\"WIKIID:A_Good_Thing\":{\"name\":\"A Good Thing\",\"count\":0,\"url\":\"http:\\/\\/news.yahoo.com\\/a-good-thing\\/\",\"declared\":1},\"WIKIID:Student_loan\":{\"name\":\"Student loan\",\"count\":0,\"url\":\"http:\\/\\/news.yahoo.com\\/student-loan\\/\",\"declared\":1},\"WIKIID:Personal_finance\":{\"name\":\"Personal finance\",\"count\":0,\"url\":\"http:\\/\\/www.yahoo.com\\/topic\\/personal-finance\\/\",\"declared\":1},\"WIKIID:Interest_rate\":{\"name\":\"Interest rate\",\"count\":0,\"declared\":1},\"WIKIID:Student_debt\":{\"name\":\"Student debt\",\"count\":0,\"url\":\"http:\\/\\/www.yahoo.com\\/topic\\/student-debt\\/\",\"declared\":1},\"YCT:001000323\":{\"name\":\"Investment & Company Information\",\"count\":0,\"url\":\"http:\\/\\/news.yahoo.com\\/investment-and-company-information\\/\",\"declared\":1},\"YCT:001000298\":{\"name\":\"Finance\",\"count\":0,\"url\":\"http:\\/\\/news.yahoo.com\\/finance-news\\/\",\"declared\":1},\"WIKIID:Buffalo_Wild_Wings\":{\"name\":\"Buffalo Wild Wings\",\"count\":0,\"url\":\"http:\\/\\/www.yahoo.com\\/topic\\/buffalo-wild-wings\\/\",\"declared\":1},\"WIKIID:Ugh%21\":{\"name\":\"Ugh!\",\"count\":0,\"declared\":1},\"WIKIID:Association_football\":{\"name\":\"Association football\",\"count\":0,\"declared\":1},\"WIKIID:Heineken\":{\"name\":\"Heineken\",\"count\":0,\"url\":\"http:\\/\\/www.yahoo.com\\/topic\\/heineken\\/\",\"declared\":1},\"WIKIID:Article_%28grammar%29\":{\"name\":\"Article (grammar)\",\"count\":0,\"declared\":1},\"WIKIID:Fatigue_%28medical%29\":{\"name\":\"Fatigue (medical)\",\"count\":0,\"url\":\"http:\\/\\/www.yahoo.com\\/topic\\/fatigue-medical\\/\",\"declared\":1},\"WIKIID:PepsiCo\":{\"name\":\"PepsiCo\",\"count\":0,\"url\":\"http:\\/\\/news.yahoo.com\\/pepsico\\/\",\"declared\":1},\"YCT:001000001\":{\"name\":\"Sports & Recreation\",\"count\":0,\"url\":\"http:\\/\\/news.yahoo.com\\/sports-organisations\\/\",\"declared\":1},\"WIKIID:Getty_Images\":{\"name\":\"Getty Images\",\"count\":0,\"url\":\"http:\\/\\/www.yahoo.com\\/topic\\/getty-images\\/\",\"declared\":1},\"WIKIID:Chapter_11,_Title_11,_United_States_Code\":{\"name\":\"Chapter 11, Title 11, United States Code\",\"count\":0,\"declared\":1},\"WIKIID:Product_%28business%29\":{\"name\":\"Product (business)\",\"count\":0,\"url\":\"http:\\/\\/www.yahoo.com\\/topic\\/product-business\\/\",\"declared\":1},\"WIKIID:E-commerce\":{\"name\":\"E-commerce\",\"count\":0,\"url\":\"http:\\/\\/www.yahoo.com\\/topic\\/e-commerce\\/\",\"declared\":1},\"WIKIID:Tweet_%28singer%29\":{\"name\":\"Tweet (singer)\",\"count\":0,\"declared\":1},\"WIKIID:Sport_Chalet\":{\"name\":\"Sport Chalet\",\"count\":0,\"url\":\"http:\\/\\/www.yahoo.com\\/topic\\/sport-chalet\\/\",\"declared\":1},\"WIKIID:Retail\":{\"name\":\"Retail\",\"count\":0,\"declared\":1},\"WIKIID:Private_equity_firm\":{\"name\":\"Private equity firm\",\"count\":0,\"url\":\"http:\\/\\/www.yahoo.com\\/topic\\/private-equity-firm\\/\",\"declared\":1},\"YCT:001000123\":{\"name\":\"Business\",\"count\":0,\"url\":\"http:\\/\\/news.yahoo.com\\/consumer-services\\/\",\"declared\":1},\"YCT:001000168\":{\"name\":\"Employment & Career\",\"count\":0,\"url\":\"http:\\/\\/news.yahoo.com\\/employment-and-career\\/\",\"declared\":1},\"WIKIID:Physical_exercise\":{\"name\":\"Physical exercise\",\"count\":0,\"url\":\"http:\\/\\/www.yahoo.com\\/topic\\/physical-exercise\\/\",\"declared\":1},\"WIKIID:Research_institute\":{\"name\":\"Research institute\",\"count\":0,\"url\":\"http:\\/\\/www.yahoo.com\\/topic\\/research-institute\\/\",\"declared\":1},\"WIKIID:Meditation\":{\"name\":\"Meditation\",\"count\":0,\"declared\":1},\"WIKIID:Employee_benefit\":{\"name\":\"Employee benefit\",\"count\":0,\"declared\":1},\"WIKIID:Colorectal_cancer\":{\"name\":\"Colorectal cancer\",\"count\":0,\"declared\":1},\"WIKIID:Chronic_condition\":{\"name\":\"Chronic condition\",\"count\":0,\"declared\":1},\"WIKIID:Cardiovascular_disease\":{\"name\":\"Cardiovascular disease\",\"count\":0,\"url\":\"http:\\/\\/www.yahoo.com\\/topic\\/cardiovascular-disease\\/\",\"declared\":1},\"YCT:001000346\":{\"name\":\"Personal Investing Ideas & Strategies\",\"count\":0,\"url\":\"http:\\/\\/news.yahoo.com\\/personal-investing-ideas-and-strategies\\/\",\"declared\":1},\"YCT:001000299\":{\"name\":\"Banking & Budgeting\",\"count\":0,\"url\":\"http:\\/\\/news.yahoo.com\\/banking-and-budgeting\\/\",\"declared\":1},\"WIKIID:Honeywell\":{\"name\":\"Honeywell\",\"count\":0,\"url\":\"http:\\/\\/www.yahoo.com\\/topic\\/honeywell\\/\",\"declared\":1},\"WIKIID:Walt_Disney\":{\"name\":\"Walt Disney\",\"count\":0,\"declared\":1},\"WIKIID:Leslie_Moonves\":{\"name\":\"Leslie Moonves\",\"count\":0,\"url\":\"http:\\/\\/www.yahoo.com\\/topic\\/leslie-moonves\\/\",\"declared\":1},\"WIKIID:Philippe_Dauman\":{\"name\":\"Philippe Dauman\",\"count\":0,\"url\":\"http:\\/\\/www.yahoo.com\\/topic\\/philippe-dauman\\/\",\"declared\":1},\"WIKIID:Viacom\":{\"name\":\"Viacom\",\"count\":0,\"url\":\"http:\\/\\/www.yahoo.com\\/topic\\/viacom\\/\",\"declared\":1},\"WIKIID:Yahoo%21\":{\"name\":\"Yahoo!\",\"count\":0,\"url\":\"http:\\/\\/news.yahoo.com\\/yahoo\\/\",\"declared\":1},\"WIKIID:Salesforce.com\":{\"name\":\"Salesforce.com\",\"count\":0,\"url\":\"http:\\/\\/www.yahoo.com\\/topic\\/salesforcecom\\/\",\"declared\":1},\"WIKIID:Mitt_Romney_presidential_campaign,_2012\":{\"name\":\"Mitt Romney presidential campaign, 2012\",\"count\":0,\"declared\":1},\"WIKIID:Amortization\":{\"name\":\"Amortization\",\"count\":0,\"url\":\"http:\\/\\/www.yahoo.com\\/topic\\/amortization\\/\",\"declared\":1},\"WIKIID:Balance_sheet\":{\"name\":\"Balance sheet\",\"count\":0,\"url\":\"http:\\/\\/news.yahoo.com\\/balance-sheet\\/\",\"declared\":1},\"WIKIID:Common_stock\":{\"name\":\"Common stock\",\"count\":0,\"url\":\"http:\\/\\/news.yahoo.com\\/common-stock\\/\",\"declared\":1},\"WIKIID:Income\":{\"name\":\"Income\",\"count\":0,\"declared\":1},\"WIKIID:Shareholder\":{\"name\":\"Shareholder\",\"count\":0,\"url\":\"http:\\/\\/www.yahoo.com\\/topic\\/shareholder\\/\",\"declared\":1},\"WIKIID:Commercial_property\":{\"name\":\"Commercial property\",\"count\":0,\"declared\":1},\"WIKIID:B._F._Saul_Company\":{\"name\":\"B. F. Saul Company\",\"count\":0,\"declared\":1},\"YCT:001000661\":{\"name\":\"Politics\",\"count\":0,\"url\":\"http:\\/\\/news.yahoo.com\\/white-house\\/\",\"declared\":1},\"WIKIID:Vermont\":{\"name\":\"Vermont\",\"count\":0,\"url\":\"http:\\/\\/www.yahoo.com\\/topic\\/vermont\\/\",\"declared\":1},\"WIKIID:Face_the_Nation\":{\"name\":\"Face the Nation\",\"count\":0,\"declared\":1},\"WIKIID:United_States_Secretary_of_State\":{\"name\":\"United States Secretary of State\",\"count\":0,\"url\":\"http:\\/\\/www.yahoo.com\\/topic\\/united-states-secretary-of-state\\/\",\"declared\":1},\"WIKIID:Debbie_Wasserman_Schultz\":{\"name\":\"Debbie Wasserman Schultz\",\"count\":0,\"url\":\"http:\\/\\/www.yahoo.com\\/topic\\/debbie-wasserman-schultz\\/\",\"declared\":1},\"WIKIID:Donald_Trump\":{\"name\":\"Donald Trump\",\"count\":0,\"declared\":1},\"WIKIID:Hillary_Clinton\":{\"name\":\"Hillary Clinton\",\"count\":0,\"declared\":1},\"WIKIID:The_Fiscal_Times\":{\"name\":\"The Fiscal Times\",\"count\":0,\"declared\":1},\"WIKIID:The_Washington_Post\":{\"name\":\"The Washington Post\",\"count\":0,\"url\":\"http:\\/\\/www.yahoo.com\\/topic\\/the-washington-post\\/\",\"declared\":1},\"YCT:001000721\":{\"name\":\"Real Estate\",\"count\":0,\"url\":\"http:\\/\\/news.yahoo.com\\/real-estate\\/\",\"declared\":1},\"WIKIID:Last_Tuesday\":{\"name\":\"Last Tuesday\",\"count\":0,\"url\":\"http:\\/\\/www.yahoo.com\\/topic\\/last-tuesday\\/\",\"declared\":1},\"WIKIID:New_York\":{\"name\":\"New York\",\"count\":0,\"url\":\"http:\\/\\/news.yahoo.com\\/new-york\\/\",\"declared\":1},\"WIKIID:Business_Insider\":{\"name\":\"Business Insider\",\"count\":0,\"declared\":1},\"WIKIID:Demography\":{\"name\":\"Demography\",\"count\":0,\"url\":\"http:\\/\\/www.yahoo.com\\/topic\\/demography\\/\",\"declared\":1},\"WIKIID:Toll_Brothers\":{\"name\":\"Toll Brothers\",\"count\":0,\"url\":\"http:\\/\\/www.yahoo.com\\/topic\\/toll-brothers\\/\",\"declared\":1},\"WIKIID:Real_estate_economics\":{\"name\":\"Real estate economics\",\"count\":0,\"url\":\"http:\\/\\/www.yahoo.com\\/topic\\/real-estate-economics\\/\",\"declared\":1},\"YCT:001000215\":{\"name\":\"Oil, Gas, & Consumable Fuels\",\"count\":0,\"url\":\"http:\\/\\/news.yahoo.com\\/oil-gas-and-consumable-fuels\\/\",\"declared\":1},\"YCT:001000213\":{\"name\":\"Energy Industry\",\"count\":0,\"url\":\"http:\\/\\/news.yahoo.com\\/energy-industry\\/\",\"declared\":1},\"WIKIID:The_Last_Moment\":{\"name\":\"The Last Moment\",\"count\":0,\"declared\":1},\"WIKIID:Doha\":{\"name\":\"Doha\",\"count\":0,\"url\":\"http:\\/\\/www.yahoo.com\\/topic\\/doha\\/\",\"declared\":1},\"WIKIID:United_States\":{\"name\":\"United States\",\"count\":0,\"url\":\"http:\\/\\/www.yahoo.com\\/topic\\/united-states\\/\",\"declared\":1},\"WIKIID:Cartel\":{\"name\":\"Cartel\",\"count\":0,\"url\":\"http:\\/\\/www.yahoo.com\\/topic\\/cartel\\/\",\"declared\":1},\"WIKIID:Price_of_oil\":{\"name\":\"Price of oil\",\"count\":0,\"declared\":1},\"WIKIID:Saudis\":{\"name\":\"Saudis\",\"count\":0,\"declared\":1},\"WIKIID:Rosneft\":{\"name\":\"Rosneft\",\"count\":0,\"url\":\"http:\\/\\/www.yahoo.com\\/topic\\/rosneft\\/\",\"declared\":1},\"YCT:001000511\":{\"name\":\"Health Care Policy\",\"count\":0,\"url\":\"http:\\/\\/news.yahoo.com\\/health-care-policy\\/\",\"declared\":1},\"WIKIID:Health_insurance\":{\"name\":\"Health insurance\",\"count\":0,\"declared\":1},\"WIKIID:Health_economics\":{\"name\":\"Health economics\",\"count\":0,\"url\":\"http:\\/\\/www.yahoo.com\\/topic\\/health-economics\\/\",\"declared\":1},\"WIKIID:Financial_risk\":{\"name\":\"Financial risk\",\"count\":0,\"url\":\"http:\\/\\/www.yahoo.com\\/topic\\/financial-risk\\/\",\"declared\":1},\"WIKIID:Subsidy\":{\"name\":\"Subsidy\",\"count\":0,\"declared\":1},\"WIKIID:Patient_Protection_and_Affordable_Care_Act\":{\"name\":\"Patient Protection and Affordable Care Act\",\"count\":0,\"url\":\"http:\\/\\/news.yahoo.com\\/patient-protection-and-affordable-care-act\\/\",\"declared\":1},\"WIKIID:Tax_credit\":{\"name\":\"Tax credit\",\"count\":0,\"url\":\"http:\\/\\/www.yahoo.com\\/topic\\/tax-credit\\/\",\"declared\":1},\"WIKIID:Dividend_payout_ratio\":{\"name\":\"Dividend payout ratio\",\"count\":0,\"url\":\"http:\\/\\/www.yahoo.com\\/topic\\/dividend-payout-ratio\\/\",\"declared\":1},\"WIKIID:Chevron_Corporation\":{\"name\":\"Chevron Corporation\",\"count\":0,\"url\":\"http:\\/\\/news.yahoo.com\\/chevron-corporation\\/\",\"declared\":1},\"WIKIID:Twitter\":{\"name\":\"Twitter\",\"count\":0,\"url\":\"http:\\/\\/www.yahoo.com\\/topic\\/twitter\\/\",\"declared\":1},\"YCT:001000931\":{\"name\":\"Technology & Electronics\",\"count\":0,\"url\":\"http:\\/\\/news.yahoo.com\\/technology-and-electronics\\/\",\"declared\":1},\"WIKIID:IPhone\":{\"name\":\"IPhone\",\"count\":0,\"url\":\"http:\\/\\/www.yahoo.com\\/topic\\/iphone\\/\",\"declared\":1},\"YCT:001001083\":{\"name\":\"Gold Investing\",\"count\":0,\"url\":\"http:\\/\\/news.yahoo.com\\/gold-investing\\/\",\"declared\":1},\"WIKIID:Samanta\":{\"name\":\"Samanta\",\"count\":0,\"url\":\"http:\\/\\/www.yahoo.com\\/topic\\/samanta\\/\",\"declared\":1},\"WIKIID:Gold\":{\"name\":\"Gold\",\"count\":0,\"url\":\"http:\\/\\/www.yahoo.com\\/topic\\/gold\\/\",\"declared\":1},\"WIKIID:Financial_institution\":{\"name\":\"Financial institution\",\"count\":0,\"url\":\"http:\\/\\/news.yahoo.com\\/financial-institution\\/\",\"declared\":1},\"WIKIID:Vijayakumar_%28actor%29\":{\"name\":\"Vijayakumar (actor)\",\"count\":0,\"url\":\"http:\\/\\/www.yahoo.com\\/topic\\/vijayakumar-actor\\/\",\"declared\":1},\"WIKIID:Hong_Kong\":{\"name\":\"Hong Kong\",\"count\":0,\"url\":\"http:\\/\\/news.yahoo.com\\/hong-kong-3\\/\",\"declared\":1},\"WIKIID:Palladium\":{\"name\":\"Palladium\",\"count\":0,\"url\":\"http:\\/\\/www.yahoo.com\\/topic\\/palladium\\/\",\"declared\":1},\"WIKIID:Cloud_computing\":{\"name\":\"Cloud computing\",\"count\":0,\"url\":\"http:\\/\\/news.yahoo.com\\/cloud-computing\\/\",\"declared\":1},\"WIKIID:Dell\":{\"name\":\"Dell\",\"count\":0,\"url\":\"http:\\/\\/news.yahoo.com\\/dell\\/\",\"declared\":1},\"WIKIID:Gartner\":{\"name\":\"Gartner\",\"count\":0,\"url\":\"http:\\/\\/www.yahoo.com\\/topic\\/gartner\\/\",\"declared\":1},\"WIKIID:Jim_McGregor\":{\"name\":\"Jim McGregor\",\"count\":0,\"url\":\"http:\\/\\/www.yahoo.com\\/topic\\/jim-mcgregor\\/\",\"declared\":1},\"WIKIID:Hewlett-Packard\":{\"name\":\"Hewlett-Packard\",\"count\":0,\"url\":\"http:\\/\\/www.yahoo.com\\/topic\\/hewlett-packard\\/\",\"declared\":1},\"WIKIID:Meg_Whitman\":{\"name\":\"Meg Whitman\",\"count\":0,\"url\":\"http:\\/\\/news.yahoo.com\\/meg-whitman\\/\",\"declared\":1},\"YCT:001000705\":{\"name\":\"Military\",\"count\":0,\"url\":\"http:\\/\\/news.yahoo.com\\/military-and-defense\\/\",\"declared\":1},\"WIKIID:Arsenal_F.C.\":{\"name\":\"Arsenal F.C.\",\"count\":0,\"url\":\"http:\\/\\/www.yahoo.com\\/topic\\/arsenal-fc\\/\",\"declared\":1},\"WIKIID:Intelligence\":{\"name\":\"Intelligence\",\"count\":0,\"url\":\"http:\\/\\/www.yahoo.com\\/topic\\/intelligence\\/\",\"declared\":1},\"WIKIID:Phacochoerus\":{\"name\":\"Phacochoerus\",\"count\":0,\"declared\":1},\"WIKIID:United_States_Air_Force\":{\"name\":\"United States Air Force\",\"count\":0,\"url\":\"http:\\/\\/www.yahoo.com\\/topic\\/united-states-air-force\\/\",\"declared\":1},\"WIKIID:Attack_aircraft\":{\"name\":\"Attack aircraft\",\"count\":0,\"declared\":1},\"WIKIID:National_Defense_Authorization_Act\":{\"name\":\"National Defense Authorization Act\",\"count\":0,\"url\":\"http:\\/\\/www.yahoo.com\\/topic\\/national-defense-authorization-act\\/\",\"declared\":1},\"YCT:001000532\":{\"name\":\"Pharmaceuticals & Drug Trials\",\"count\":0,\"url\":\"http:\\/\\/news.yahoo.com\\/pharmaceuticals-and-drug-trials\\/\",\"declared\":1},\"WIKIID:Abbott_Laboratories\":{\"name\":\"Abbott Laboratories\",\"count\":0,\"url\":\"http:\\/\\/news.yahoo.com\\/abbott-laboratories\\/\",\"declared\":1},\"WIKIID:Johnson_%26_Johnson\":{\"name\":\"Johnson & Johnson\",\"count\":0,\"url\":\"http:\\/\\/www.yahoo.com\\/topic\\/johnson-johnson\\/\",\"declared\":1},\"WIKIID:Exelixis\":{\"name\":\"Exelixis\",\"count\":0,\"url\":\"http:\\/\\/www.yahoo.com\\/topic\\/exelixis\\/\",\"declared\":1},\"WIKIID:Ipsen\":{\"name\":\"Ipsen\",\"count\":0,\"url\":\"http:\\/\\/www.yahoo.com\\/topic\\/ipsen\\/\",\"declared\":1},\"WIKIID:Phases_of_clinical_research\":{\"name\":\"Phases of clinical research\",\"count\":0,\"url\":\"http:\\/\\/www.yahoo.com\\/topic\\/phases-of-clinical-research\\/\",\"declared\":1},\"WIKIID:Clinical_endpoint\":{\"name\":\"Clinical endpoint\",\"count\":0,\"url\":\"http:\\/\\/www.yahoo.com\\/topic\\/clinical-endpoint\\/\",\"declared\":1},\"WIKIID:Marketing_authorization\":{\"name\":\"Marketing authorization\",\"count\":0,\"declared\":1},\"WIKIID:Non-sufficient_funds\":{\"name\":\"Non-sufficient funds\",\"count\":0,\"url\":\"http:\\/\\/www.yahoo.com\\/topic\\/non-sufficient-funds\\/\",\"declared\":1},\"WIKIID:Credit_limit\":{\"name\":\"Credit limit\",\"count\":0,\"url\":\"http:\\/\\/www.yahoo.com\\/topic\\/credit-limit\\/\",\"declared\":1},\"WIKIID:Email\":{\"name\":\"Email\",\"count\":0,\"url\":\"http:\\/\\/www.yahoo.com\\/topic\\/email\\/\",\"declared\":1},\"WIKIID:Mobile_app\":{\"name\":\"Mobile app\",\"count\":0,\"declared\":1},\"WIKIID:Algorithm\":{\"name\":\"Algorithm\",\"count\":0,\"url\":\"http:\\/\\/www.yahoo.com\\/topic\\/algorithm\\/\",\"declared\":1}}},\"props\":{\"refHandler\":\"cfg.maple_dali.handler.refresh\",\"id\":\"u_30345786\",\"ns\":\"type_stream\",\"trusted\":true,\"type\":\"stream\",\"contentId\":\"30345786\",\"tags\":[],\"title\":\"Stream\",\"icon\":\"\",\"shortTitle\":\"Stream\",\"detailUrl\":\"\",\"chromecolor\":\"blue\"},\"state\":{\"view\":\"default\",\"defer\":false,\"collapsed\":0},\"strs\":{\"STR.LOADING\":\"<div class=\\\"fp-loader ti\\\">Load more stories<\\/div>\",\"STR.LOADING.CONTENT\":\"<div class=\\\"loading next-batch\\\" data-key=\\\"0\\\"><div class=\\\"fp-loader ti\\\">Load more stories&hellip;<\\/div><\\/div>\",\"STR.BUTTON.REMOVE_DONE\":\"<button class=\\\"fz-xxs remove-done uibutton rapid-noclick-resp\\\">Done<\\/button>\",\"STR.REMOVE.CONFIRM\":\"\",\"STR.BUTTON.WIKIID\":\"<button class=\\\"fz-xxs wikiid uibutton rapid-noclick-resp {selected}\\\" data-wikiid=\\\"{id}\\\" data-interesttype=\\\"{type}\\\">{name}<span class=\\\"d-ib img-sprite remove-neg\\\"><\\/span><\\/button>\",\"STR.SHOW.LESS\":\"<div class=\\\"show-less fz-xs\\\">Show me fewer stories about:<\\/div>\",\"STR.INTERESTS.LIKETEXT\":\"More like this\",\"STR.INTERESTS.DISLIKETEXT\":\"Fewer like this\",\"STR.INTERESTS.ADSDISLIKETEXT\":\"I don't like this ad\",\"STR.INTERESTS.REMOVETEXT\":\"Remove\",\"STR.INTERESTS.FLAGTEXT\":\"Report Content\",\"STR.ACTIONDRAWER.SAVEDCTA\":\"Sign-in to save this story to read later.\",\"STR.ACTIONDRAWER.LIKEDCTA\":\"Sign-in and we'll show you more like this in the future.\",\"STR.ACTIONDRAWER.DISLIKEDCTA\":\"Sign-in and we'll show you less like this in the future.\",\"STR.ACTIONDRAWER.ADSDISLIKEDCTA\":\"Why don't you like this ad?\",\"STR.ACTIONDRAWER.ADSDISLIKEOPTN1\":\"It's offensive to me\",\"STR.ACTIONDRAWER.ADSDISLIKEOPTN2\":\"I keep seeing this\",\"STR.ACTIONDRAWER.ADSDISLIKEOPTN3\":\"It's not relevant to me\",\"STR.ACTIONDRAWER.ADSDISLIKEOPTN4\":\"Something else\",\"STR.ACTIONDRAWER.ADSDISLIKE.SOMETHING.ELSE\":\"Tell us why you don't like this ad:\",\"STR.ACTIONDRAWER.FLAGGEDCTA\":\"Sign-in to report this content.\",\"STR.ENTITY.LIST.DISLIKED.MSG\":\"<p>Tell us more about what you dislike:<\\/p>\",\"STR.TOOLTIP.UNDO\":\"Undo\",\"STR.ACTIONDRAWER.DONE\":\"<button class=\\\"fz-xs done-button rapid-noclick-resp\\\">Done<\\/button>\",\"STR.ACTIONDRAWER.NOENTITIESLIKE\":\"<p class=\\\"no-entities\\\">Got it. We'll show you more stories like this.<\\/p>\",\"STR.REMOVE.ITEM.THANKYOU\":\"<div class=\\\"remove-wrap \\\"><p class=\\\"dimmed remove-msg\\\">Great, you'll not see this story again.<\\/p><div class=\\\"undo-remove\\\">Story removed<button class=\\\"undo-btn fz-xs\\\">Undo<\\/button><\\/div><\\/div>\",\"STR.REMOVE.ADS.THANKYOU\":\"                <div class=\\\"remove-wrap \\\"><p class=\\\"dimmed remove-msg\\\">Thank you for your feedback.<\\/p><div class=\\\"undo-remove\\\">We'll review and make changes needed.<\\/div><\\/div>\",\"STR.FLAG.ITEM.THANKYOU\":\"<div class=\\\"remove-wrap flag-thankyou\\\"><p class=\\\"dimmed flag-done-msg-header\\\">Thank you for your feedback.<\\/p><p class=\\\"dimmed flag-done-msg-body\\\">We'll review your submission.<\\/p><\\/div>\",\"STR.ENTITY.LIST.TEMPLATE\":\"<div class=\\\"entity-msg\\\"><p>Tell us more about what you like:<\\/p><\\/div>{source}<ul class=\\\"entity-list classical\\\">{entities}<\\/ul><button class=\\\"fz-xs done-button rapid-noclick-resp\\\">Done<\\/button>\",\"STR.ADSDISLIKE.TEMPLATE\":\"<div class=\\\"mod view_default\\\">\\n<div class=\\\"bd type_login type_login_default\\\">\\n<div class=\\\"embed\\\" style=\\\"height: 120px;\\\">\\n<h3  class=\\\"title mb-l\\\">{cdata}<\\/h3>\\n<ul style=\\\"padding: 0px;\\\" id=\\\"radioContainer\\\">\\n  <li><label for=\\\"ads-dislike-option1\\\"><input id=\\\"ads-dislike-option1\\\" name=\\\"ads-dislike-option\\\" value=\\\"1\\\" class=\\\"ads-dislike-option1\\\" type=\\\"radio\\\" \\/>{option1}<\\/label><\\/li>\\n  <li><label for=\\\"ads-dislike-option2\\\"><input id=\\\"ads-dislike-option2\\\" name=\\\"ads-dislike-option\\\" value=\\\"6\\\" class=\\\"ads-dislike-option2\\\" type=\\\"radio\\\" \\/>{option2}<\\/label><\\/li>\\n  <li><label for=\\\"ads-dislike-option3\\\"><input id=\\\"ads-dislike-option3\\\" name=\\\"ads-dislike-option\\\" value=\\\"4\\\" class=\\\"ads-dislike-option3\\\" type=\\\"radio\\\" \\/>{option3}<\\/label><\\/li>\\n  <li><label for=\\\"ads-dislike-option4\\\"><input id=\\\"ads-dislike-option4\\\" name=\\\"ads-dislike-option\\\" value=\\\"2\\\" class=\\\"ads-dislike-option4\\\" type=\\\"radio\\\" \\/>{option4}<\\/label><\\/li>\\n  <\\/ul>\\n  <div class=\\\"input-wrapper hidden custom_resp\\\">\\n  <h3 id=\\\"tellUs\\\"> {somethingq}<\\/h3>\\n<input style=\\\"width: 80%;\\\" id=\\\"cmnt\\\" class=\\\"input-query input-long med-large compact-input-enabled\\\" value=\\\"\\\" autocomplete=\\\"off\\\" type=\\\"text\\\"><\\/div>\\n\\n<\\/div><\\/div><\\/div>\\n\",\"STR.ENTITY.ITEM.TEMPLATE\":\"<li class=\\\"entity {state} {type}\\\" data-interestId=\\\"{id}\\\">{name}<span class=\\\"d-ib entity-icon-container\\\"><i class=\\\"img-sprite entity-icon\\\"><\\/i><\\/span><\\/li>\",\"STR.SOURCE.ITEM.TEMPLATE\":\"<div><div class=\\\"section-prefix ell\\\">Stories from: <\\/div><div class=\\\"source entity {state}\\\" data-interestId=\\\"{id}\\\">{name}<span class=\\\"d-ib entity-icon-container\\\"><i class=\\\"img-sprite entity-icon\\\"><\\/i><\\/span><\\/div><\\/div>\",\"STR.REMOVE.MENU\":\"<div class=\\\"menu\\\"><div class=\\\"remove-menu-main cf\\\"><div class=\\\"entity-msg\\\"><p>Tell us more about what you like:<\\/p><\\/div>{source}<ul class=\\\"entity-list classical\\\">{entities}<\\/ul><button class=\\\"done-button fz-xs dn rapid-noclick-resp\\\">Done<\\/button><\\/div><a class=\\\"profile-link d-ib fz-xs\\\" href=\\\"https:\\/\\/settings.yahoo.com\\/interests\\\" data-ylk=\\\"sec:td-strm-dr;slk:pref;rspns:nav\\\">Content preferences<\\/a><\\/div>\",\"STR.ACTIONDRAWER.LOGIN.TEMPLATE\":\"<div id=\\\"default-p_30345826\\\" class=\\\"mod view_default\\\">  <div id=\\\"default-p_30345826-bd\\\" class=\\\"bd type_login type_login_default\\\"><div class=\\\"embed\\\"><h3 class=\\\"title mb-l\\\">Sign-in and we&#39;ll show you more like this in the future.<\\/h3><div class=\\\"btns fz-xs\\\"><a class=\\\"login-svc ylogin login-btn-purple rapid-noclick-resp login-btn-small\\\" href=\\\"https:\\/\\/login.yahoo.com\\/config\\/login?.src=fpctx&.intl=us\\\" data-action=\\\"click\\\" data-action-outcome=\\\"lgn\\\" data-ylk=\\\"sec:td-strm-rm;rspns:nav;t1:a4;t2:td-strm-rm;t3:set;slk:Yahoo;elm:btn;elmt:lgn-yh;itc:0;cat:;\\\" target=\\\"_top\\\"\\\"><i class=\\\"img-sprite y-icon\\\"><\\/i>Yahoo<\\/a><\\/div><\\/div>    <\\/div>\\n<\\/div>\"},\"res\":{},\"mods\":[{\"props\":{\"trusted\":true,\"id\":\"p_30345810_fe3\",\"type\":\"fstream\",\"ns\":\"type_fstream\",\"contentId\":\"30345810\",\"tags\":[],\"title\":\"\",\"icon\":\"\",\"shortTitle\":\"\",\"detailUrl\":\"\",\"chromecolor\":\"blue\"},\"data\":{\"dropdownHover\":true,\"dynamicMax\":8,\"filterRestoreEnabled\":false,\"dropdownFilter\":false,\"tabFilter\":true,\"autoHideEnabled\":true,\"recentFiltersEnabled\":false,\"swipeFilterEnabled\":false,\"dynamicSectionEnabled\":false,\"filterFontSize\":\"fz-s\"},\"strs\":{\"STR.FILTERS.FILTERBY\":\"Filter by\"},\"state\":{\"view\":\"default\",\"defer\":false,\"collapsed\":0},\"prefs\":{\"isc\":0,\"_mc\":0}}]}]}],\"res\":{\"css\":{\"helpers_css\":\"http:\\/\\/l.yimg.com\\/nn\\/lib\\/metro\\/g\\/ui\\/helpers_0.0.9.css\",\"typography_css\":\"http:\\/\\/l.yimg.com\\/nn\\/lib\\/metro\\/g\\/ui\\/typography_0.0.4.css\",\"theme_default_css\":\"http:\\/\\/l.yimg.com\\/nn\\/lib\\/metro\\/g\\/theme\\/default\\/common_0.0.40.css\",\"theme_default_desktop_css\":\"http:\\/\\/l.yimg.com\\/nn\\/lib\\/metro\\/g\\/theme\\/default\\/desktop_0.0.142.css\",\"tooltip_service_css\":\"http:\\/\\/l.yimg.com\\/nn\\/lib\\/metro\\/g\\/uiplugins\\/tooltip_service_1.0.15.css\",\"tablite_service_desktop_css\":\"http:\\/\\/l.yimg.com\\/nn\\/lib\\/metro\\/g\\/uiplugins\\/tablite_service_desktop_0.0.18.css\",\"type_stream_css\":\"http:\\/\\/l.yimg.com\\/nn\\/lib\\/metro\\/g\\/stream\\/stream_0.0.315.css\",\"theme_gs_css\":\"http:\\/\\/l.yimg.com\\/nn\\/lib\\/metro\\/g\\/stream\\/themes\\/gs_0.0.61.css\",\"rmx_ads_css\":\"http:\\/\\/l.yimg.com\\/nn\\/lib\\/metro\\/g\\/stream\\/rmx_ads_0.0.24.css\",\"stream_tweets_css\":\"http:\\/\\/l.yimg.com\\/nn\\/lib\\/metro\\/g\\/stream\\/stream_tweets_0.0.32.css\",\"stream_action_drawer_desktop_css\":\"http:\\/\\/l.yimg.com\\/nn\\/lib\\/metro\\/g\\/stream\\/stream_action_drawer_desktop_0.0.31.css\",\"finance_enrichment_css\":\"http:\\/\\/l.yimg.com\\/nn\\/lib\\/metro\\/g\\/finance\\/finance_enrichment_0.0.10.css\",\"type_fstream_desktop_css\":\"http:\\/\\/l.yimg.com\\/nn\\/lib\\/metro\\/g\\/fstream\\/fstream_desktop_0.0.33.css\",\"type_login_css\":\"http:\\/\\/l.yimg.com\\/nn\\/lib\\/metro\\/g\\/login\\/login_0.0.75.css\",\"type_appscontainer_desktop_css\":\"http:\\/\\/l.yimg.com\\/nn\\/lib\\/metro\\/g\\/appscontainer\\/appscontainer_desktop_0.0.58.css\",\"type_finance_base_css\":\"http:\\/\\/l.yimg.com\\/nn\\/lib\\/metro\\/g\\/finance\\/finance_base_0.0.10.css\",\"type_finance_css\":\"http:\\/\\/l.yimg.com\\/nn\\/lib\\/metro\\/g\\/finance\\/finance_0.1.143.css\"},\"js\":{\"oop\":\"http:\\/\\/l.yimg.com\\/nn\\/lib\\/metro\\/g\\/yui\\/oop_3.8.3.js\",\"event-custom-base\":\"http:\\/\\/l.yimg.com\\/nn\\/lib\\/metro\\/g\\/yui\\/event-custom-base_3.8.3.js\",\"event-base\":\"http:\\/\\/l.yimg.com\\/nn\\/lib\\/metro\\/g\\/yui\\/event-base_3.8.3.js\",\"io-base\":\"http:\\/\\/l.yimg.com\\/nn\\/lib\\/metro\\/g\\/yui\\/io-base_3.8.3.js\",\"json-parse\":\"http:\\/\\/l.yimg.com\\/nn\\/lib\\/metro\\/g\\/yui\\/json-parse_3.8.3.js\",\"json-stringify\":\"http:\\/\\/l.yimg.com\\/nn\\/lib\\/metro\\/g\\/yui\\/json-stringify_3.8.3.js\",\"cookie\":\"http:\\/\\/l.yimg.com\\/nn\\/lib\\/metro\\/g\\/yui\\/cookie_3.8.3.js\",\"jsonp\":\"http:\\/\\/l.yimg.com\\/nn\\/lib\\/metro\\/g\\/yui\\/jsonp_3.8.3.js\",\"dom-core\":\"http:\\/\\/l.yimg.com\\/nn\\/lib\\/metro\\/g\\/yui\\/dom-core_3.8.3.js\",\"dom-base\":\"http:\\/\\/l.yimg.com\\/nn\\/lib\\/metro\\/g\\/yui\\/dom-base_3.8.3.js\",\"dom-style\":\"http:\\/\\/l.yimg.com\\/nn\\/lib\\/metro\\/g\\/yui\\/dom-style_3.8.3.js\",\"selector-native\":\"http:\\/\\/l.yimg.com\\/nn\\/lib\\/metro\\/g\\/yui\\/selector-native_3.8.3.js\",\"selector\":\"http:\\/\\/l.yimg.com\\/nn\\/lib\\/metro\\/g\\/yui\\/selector_3.8.3.js\",\"node-core\":\"http:\\/\\/l.yimg.com\\/nn\\/lib\\/metro\\/g\\/yui\\/node-core_3.8.3.js\",\"node-base\":\"http:\\/\\/l.yimg.com\\/nn\\/lib\\/metro\\/g\\/yui\\/node-base_3.8.3.js\",\"node-style\":\"http:\\/\\/l.yimg.com\\/nn\\/lib\\/metro\\/g\\/yui\\/node-style_3.8.3.js\",\"transition\":\"http:\\/\\/l.yimg.com\\/nn\\/lib\\/metro\\/g\\/yui\\/transition_3.8.4.js\",\"selector-css2\":\"http:\\/\\/l.yimg.com\\/nn\\/lib\\/metro\\/g\\/yui\\/selector-css2_3.8.3.js\",\"selector-css3\":\"http:\\/\\/l.yimg.com\\/nn\\/lib\\/metro\\/g\\/yui\\/selector-css3_3.8.3.js\",\"event-custom-complex\":\"http:\\/\\/l.yimg.com\\/nn\\/lib\\/metro\\/g\\/yui\\/event-custom-complex_3.8.3.js\",\"event-synthetic\":\"http:\\/\\/l.yimg.com\\/nn\\/lib\\/metro\\/g\\/yui\\/event-synthetic_3.8.3.js\",\"event-focus\":\"http:\\/\\/l.yimg.com\\/nn\\/lib\\/metro\\/g\\/yui\\/event-focus_3.8.3.js\",\"event-delegate\":\"http:\\/\\/l.yimg.com\\/nn\\/lib\\/metro\\/g\\/yui\\/event-delegate_3.8.3.js\",\"node-event-delegate\":\"http:\\/\\/l.yimg.com\\/nn\\/lib\\/metro\\/g\\/yui\\/node-event-delegate_3.8.3.js\",\"pluginhost-base\":\"http:\\/\\/l.yimg.com\\/nn\\/lib\\/metro\\/g\\/yui\\/pluginhost-base_3.8.3.js\",\"pluginhost-config\":\"http:\\/\\/l.yimg.com\\/nn\\/lib\\/metro\\/g\\/yui\\/pluginhost-config_3.8.3.js\",\"node-pluginhost\":\"http:\\/\\/l.yimg.com\\/nn\\/lib\\/metro\\/g\\/yui\\/node-pluginhost_3.8.3.js\",\"dom-screen\":\"http:\\/\\/l.yimg.com\\/nn\\/lib\\/metro\\/g\\/yui\\/dom-screen_3.8.3.js\",\"node-screen\":\"http:\\/\\/l.yimg.com\\/nn\\/lib\\/metro\\/g\\/yui\\/node-screen_3.8.3.js\",\"gallery-storage-lite\":\"http:\\/\\/l.yimg.com\\/nn\\/lib\\/metro\\/g\\/yui\\/gallery-storage-lite_3.8.3.js\",\"loader-base\":\"http:\\/\\/l.yimg.com\\/nn\\/lib\\/metro\\/g\\/yui\\/loader-base_3.8.3.js\",\"loader-yui3\":\"http:\\/\\/l.yimg.com\\/nn\\/lib\\/metro\\/g\\/yui\\/loader-yui3_3.8.3.js\",\"module_platform\":\"http:\\/\\/l.yimg.com\\/nn\\/lib\\/metro\\/g\\/uicontrib\\/dali\\/module_platform_1.1.19.js\",\"resourcemgr\":\"http:\\/\\/l.yimg.com\\/nn\\/lib\\/metro\\/g\\/uicontrib\\/dali\\/resourcemgr_1.1.18.js\",\"transport\":\"http:\\/\\/l.yimg.com\\/nn\\/lib\\/metro\\/g\\/uicontrib\\/dali\\/dali_transport_1.1.36.js\",\"metro_ext\":\"http:\\/\\/l.yimg.com\\/nn\\/lib\\/metro\\/g\\/uicontrib\\/dali\\/metro_dali_1.0.29.js\",\"module_api\":\"http:\\/\\/l.yimg.com\\/nn\\/lib\\/metro\\/g\\/uicontrib\\/dali\\/module_api_1.1.18.js\",\"yui_service\":\"http:\\/\\/l.yimg.com\\/nn\\/lib\\/metro\\/g\\/uicontrib\\/dali\\/yui_service_0.1.21.js\",\"metro_viewtype\":\"http:\\/\\/l.yimg.com\\/nn\\/lib\\/metro\\/g\\/uiplugins\\/metro_viewtype_0.1.26.js\",\"default_viewtype\":\"http:\\/\\/l.yimg.com\\/nn\\/lib\\/metro\\/g\\/uiplugins\\/default_viewtype_0.1.65.js\",\"edit_viewtype\":\"http:\\/\\/l.yimg.com\\/nn\\/lib\\/metro\\/g\\/uiplugins\\/edit_viewtype_0.1.44.js\",\"ylc\":\"http:\\/\\/l.yimg.com\\/nn\\/lib\\/metro\\/g\\/uicontrib\\/ylc_1.8.24.js\",\"instrumentation_service\":\"http:\\/\\/l.yimg.com\\/nn\\/lib\\/metro\\/g\\/uiplugins\\/instrumentation_service_0.1.126.js\",\"userinfo_service\":\"http:\\/\\/l.yimg.com\\/nn\\/lib\\/metro\\/g\\/uiplugins\\/userinfo_service_0.1.19.js\",\"statemgr_service\":\"http:\\/\\/l.yimg.com\\/nn\\/lib\\/metro\\/g\\/uiplugins\\/statemgr_service_0.1.23.js\",\"arcade_transport\":\"http:\\/\\/l.yimg.com\\/nn\\/lib\\/metro\\/g\\/uiplugins\\/arcade_transport_1.0.18.js\",\"tooltip_service\":\"http:\\/\\/l.yimg.com\\/nn\\/lib\\/metro\\/g\\/uiplugins\\/tooltip_service_0.1.59.js\",\"metrologger_service\":\"http:\\/\\/l.yimg.com\\/nn\\/lib\\/metro\\/g\\/uiplugins\\/metrologger_service_0.1.22.js\",\"autohide_service\":\"http:\\/\\/l.yimg.com\\/nn\\/lib\\/metro\\/g\\/uiplugins\\/autohide_service_0.1.19.js\",\"tablite_service\":\"http:\\/\\/l.yimg.com\\/nn\\/lib\\/metro\\/g\\/uiplugins\\/tablite_service_0.0.12.js\",\"badge\":\"http:\\/\\/l.yimg.com\\/nn\\/lib\\/metro2\\/g\\/badge\\/badge_0.1.22.js\",\"transport_helper_service\":\"http:\\/\\/l.yimg.com\\/nn\\/lib\\/metro\\/g\\/uiplugins\\/transport_helper_service_0.0.5.js\",\"type_stream\":\"http:\\/\\/l.yimg.com\\/nn\\/lib\\/metro\\/g\\/stream\\/stream_0.0.536.js\",\"storage_service\":\"http:\\/\\/l.yimg.com\\/nn\\/lib\\/metro\\/g\\/uiplugins\\/storage_service_0.0.3.js\",\"login_service\":\"http:\\/\\/l.yimg.com\\/nn\\/lib\\/metro\\/g\\/uiplugins\\/login_service_0.0.52.js\",\"interests_service\":\"http:\\/\\/l.yimg.com\\/nn\\/lib\\/metro\\/g\\/uiplugins\\/interests_service_0.1.3.js\",\"stream_action_drawer\":\"http:\\/\\/l.yimg.com\\/nn\\/lib\\/metro\\/g\\/stream\\/stream_action_drawer_0.0.55.js\",\"type_fstream\":\"http:\\/\\/l.yimg.com\\/nn\\/lib\\/metro\\/g\\/fstream\\/fstream_0.0.119.js\",\"type_login\":\"http:\\/\\/l.yimg.com\\/nn\\/lib\\/metro\\/g\\/login\\/login_0.0.39.js\",\"type_finance\":\"http:\\/\\/l.yimg.com\\/nn\\/lib\\/metro\\/g\\/finance\\/finance_0.1.140.js\"}}};\r\n",
      "<div id=\"td-applet-sidekick-tv_container\"><div class=\"yom-app ReactYomApp\" id=\"applet_sidekick_tv\" data-reactid=\".4z4yzobqps\" data-react-checksum=\"1389264925\"><div class=\"SidekickTV D-b Pos-r\" data-ylk=\"mpos:3;t1:a4;t2:lst-tv;sec:lst-tv;\" data-reactid=\".4z4yzobqps.0\"><div class=\"Grid W-100\" data-reactid=\".4z4yzobqps.0.0\"><div class=\"Grid-U W-55\" style=\"background-color:#006e8e;height:40px;\" data-reactid=\".4z4yzobqps.0.0.0\"><img src=\"http://l.yimg.com/os/mit/media/m/content_index/images/sidekick_tv_finance-2e9c408.png\" style=\"height:40px;\" data-reactid=\".4z4yzobqps.0.0.0.0\"></div><div class=\"Grid-U W-15 SidekickTVArrow Bxz-bb\" style=\"border-left-color:#006e8e;background-color:#dbdbdb;\" data-reactid=\".4z4yzobqps.0.0.1\"></div><div class=\"Grid-U W-30 SidekickTVMore Ta-end Fz-xs Fw-b\" style=\"background-color:#dbdbdb;color:#000;height:40px;line-height:40px;\" data-reactid=\".4z4yzobqps.0.0.2\"><span class=\"Mend-10\" data-reactid=\".4z4yzobqps.0.0.2.0\">Must Watch</span></div></div><div class=\"W-100 Pos-r\" data-reactid=\".4z4yzobqps.0.1\"><div class=\"Pos-a T-0 Start-0 W-100 Ratio-16-9\" data-reactid=\".4z4yzobqps.0.1.$thumbimage\"><img src=\"https://s1.yimg.com/uu/api/res/1.2/pKtCFsmQ8iLyZkfN1TY29Q--/Zmk9ZmlsbDtweW9mZj0wO3c9MzAwO2g9MTY5O3NtPTE7YXBwaWQ9eXRhY2h5b24-/https://media.zenfs.com/creatr-images/GLB/2016-05-25/321bdb90-22aa-11e6-a32c-8964bc13d37c_21fbdef0869b070b297b52d50fc69899.jpg\" class=\"W-100\" data-reactid=\".4z4yzobqps.0.1.$thumbimage.0\"></div><div class=\"VideoPlayer D(b) Pos(r) Ratio-16-9\" style=\"width:100%;height:auto;\" data-reactid=\".4z4yzobqps.0.1.1\"><div class=\"StretchedBox\" data-reactid=\".4z4yzobqps.0.1.1.$player\"></div></div></div><div class=\"ftr Grid list-view\" style=\"background-color:#dbdbdb;color:#000;\" data-reactid=\".4z4yzobqps.0.2\"><div class=\"Grid-U list-view-item selected Cur-d Py-10\" data-reactid=\".4z4yzobqps.0.2.0\"><div class=\" Px-10\" data-reactid=\".4z4yzobqps.0.2.0.1\"></div><div class=\"ad-sponsored thread-snippet Pt-2 Px-10\" data-reactid=\".4z4yzobqps.0.2.0.2\"></div></div></div></div></div></div><script>window.Af=window.Af||{};window.Af.bootstrap=window.Af.bootstrap||{};window.Af.bootstrap[\"6613250387942830\"] = {\"applet_type\":\"td-applet-sidekick-tv\",\"transport\":{\"xhr\":\"/_td_api\"},\"context\":{\"bucket\":\"\",\"crumb\":\"9I3Lb9C1lI2\",\"device\":\"desktop\",\"lang\":\"en-US\",\"region\":\"US\",\"site\":\"finance\"}};</script><script>/******/!function(modules){/******/\r\n",
      "function(module,exports){module.exports={\"58c52b50-216f-11e3-bfd3-05678ea2ca61\":{nameRef:\"popular\",site:\"\",betaIcon:\"mail-beta-mustWatch\"},\"5803cc90-ec11-11e3-a2ff-8642de44d2d8\":{nameRef:\"live\",site:\"\"},\"4321a800-1688-11e4-9fad-676cadfc0e2b\":{nameRef:\"community\",site:\"\"},\"19e05f30-b7a1-11e4-91fd-bd2acaed93db\":{nameRef:\"other-space\",site:\"\"},\"3960e6b0-b786-11e4-bbbd-e5ea2565a6fb\":{nameRef:\"sin-city-saints\",site:\"\"},\"70694df0-30ff-11e3-bdd3-b44a55fa9c74\":{nameRef:\"music\",site:\"music\",betaIcon:\"mail-beta-music2\"},\"4d941c10-d1b7-11e4-bfff-5277fcade0d7\":{nameRef:\"movies\",site:\"movies\"},\"0df0bd30-daee-11e4-afa7-14110910fe07\":{nameRef:\"tv\",site:\"tv\"},\"2716dce0-3202-11e3-bfb6-c4799056d53c\":{nameRef:\"celebrity\",site:\"omg\",betaIcon:\"mail-beta-celebrity\"},\"4085b660-2172-11e3-affd-fb1eed42cc5a\":{nameRef:\"comedy\",site:\"\",betaIcon:\"mail-beta-comedy\"},\"d55b0230-36c7-11e3-8967-67c7a77559ee\":{nameRef:\"sports\",site:\"sports\",betaIcon:\"mail-beta-sport\"},\"ae77d4b0-d999-11e4-b77f-e28f1acc8d82\":{nameRef:\"fantasy-sports\",site:\"sports\"},\"4cb412d0-36bf-11e3-bbf5-9657794d6211\":{nameRef:\"news\",site:\"news\",betaIcon:\"mail-beta-news\"},\"cd4f0890-d999-11e4-9fce-14b43557b43e\":{nameRef:\"politics\",site:\"politics\"},\"fc5a3ae0-c736-11e3-9f7f-e5b8936e1729\":{nameRef:\"finance\",site:\"finance\",betaIcon:\"mail-beta-finance\"},\"29df2420-d99d-11e4-b4bf-6a488a19f1e6\":{nameRef:\"tech\",site:\"tech\",betaIcon:\"mail-beta-tech\"},\"f1c75730-dc8d-11e4-bfbb-a3e55d014855\":{nameRef:\"games\",site:\"games\"},\"bb3bd620-3e89-11e4-b38f-b3eecbed919f\":{nameRef:\"autos\",site:\"autos\"},\"5b475fc0-d99b-11e4-bfcf-8fd63617bcd5\":{nameRef:\"style\",site:\"style\"},\"d230da20-d99c-11e4-9d9e-9f167a3b15e8\":{nameRef:\"beauty\",site:\"beauty\"},\"ee91a710-a880-11e3-bedf-e437b2803014\":{nameRef:\"vevo\",site:\"music\",displayName:\"Music Videos\",betaIcon:\"mail-beta-music2\"},\"756da470-cf2b-11e3-9f9b-fd2b666ece79\":{nameRef:\"travel\",site:\"travel\",betaIcon:\"mail-beta-travel\"},\"df931f80-2178-11e3-bbff-8613cc9cf21b\":{nameRef:\"food\",site:\"food\",betaIcon:\"mail-beta-food\"},\"b3f169a0-da71-11e4-b962-151e216879ac\":{nameRef:\"health\",site:\"health\",betaIcon:\"mail-beta-health\"},\"d855ef90-a1c4-11e4-b5b7-60e6f731cdb4\":{nameRef:\"makers\",site:\"makers\"},\"fa82c970-818b-11e4-bbfe-43fbcbffdbcf\":{nameRef:\"parenting\",site:\"parenting\",betaIcon:\"mail-beta-parenting\"}}},/* 42 */\r\n",
      "\"use strict\";var VideoplayerLightMngr,ACTIONS={PAUSE:\"PAUSE\",MUTE:\"MUTE\",DESTROY:\"DESTROY\"};VideoplayerLightMngr=function(){var player_count=0,max_players=2,players_registry={},findAndExecute=function(id,action){var player;for(var pid in players_registry)if(players_registry.hasOwnProperty(pid)&&pid!==id)switch(player=players_registry[pid],action){case ACTIONS.PAUSE:player.controls.isPlaying()&&player.controls.pause();break;case ACTIONS.MUTE:player.controls.getMute()||player.controls.setMute(!0)}},destroyOldest=function(){var current_player,oldest_player,oldest_pid;for(var pid in players_registry)players_registry.hasOwnProperty(pid)&&(current_player=players_registry[pid],(!oldest_player||oldest_player.registeredAt>current_player.registeredAt)&&(oldest_player=current_player,oldest_pid=pid));oldest_player&&(oldest_player.onDestroy&&oldest_player.onDestroy(),delete players_registry[oldest_pid],oldest_player.destroy())};return{registerPlayer:function(id,inst,onDestroy){return players_registry[id]?null:(player_count+=1,players_registry[id]=inst,players_registry[id].registeredAt=new Date,players_registry[id].onDestroy=onDestroy,void(player_count>max_players&&destroyOldest()))},removePlayer:function(id){player_count-=1,delete players_registry[id]},onPlayback:function(id){findAndExecute(id,ACTIONS.PAUSE)},onSound:function(id){findAndExecute(id,ACTIONS.MUTE)},getRegistry:function(){return players_registry},setMaxPlayers:function(max){max_players=max}}},function(){\"undefined\"!=typeof window&&(window.VideoplayerLightMngr||(window.VideoplayerLightMngr=VideoplayerLightMngr()))}()}]);</script><script>(function() {    var docHead = document.head || document.getElementsByTagName(\"head\")[0],        style = document.createElement(\"style\");    style.type = \"text/css\";    if (style.styleSheet) {         style.styleSheet.cssText = \".SidekickTV{background:#FFF}.SidekickTV .player-controls{margin-left:-35%;margin-top:-9%;height:30%}.SidekickTV .player-controls .btn-player{margin:0 4%}.SidekickTV .player-controls .btn-player i{background-position:50% 50%;background-repeat:no-repeat;background-color:rgba(255,255,255,.7);background-size:80%;border-radius:100%}.SidekickTV .player-controls .btn-player i.off{background-image:url(data:image/svg+xml;base64,PD94bWwgdmVyc2lvbj0iMS4wIiBlbmNvZGluZz0idXRmLTgiPz4NCjwhLS0gR2VuZXJhdG9yOiBBZG9iZSBJbGx1c3RyYXRvciAxNi4wLjAsIFNWRyBFeHBvcnQgUGx1Zy1JbiAuIFNWRyBWZXJzaW9uOiA2LjAwIEJ1aWxkIDApICAtLT4NCjwhRE9DVFlQRSBzdmcgUFVCTElDICItLy9XM0MvL0RURCBTVkcgMS4xLy9FTiIgImh0dHA6Ly93d3cudzMub3JnL0dyYXBoaWNzL1NWRy8xLjEvRFREL3N2ZzExLmR0ZCI+DQo8c3ZnIHZlcnNpb249IjEuMSIgaWQ9IkxheWVyXzEiIHhtbG5zPSJodHRwOi8vd3d3LnczLm9yZy8yMDAwL3N2ZyIgeG1sbnM6eGxpbms9Imh0dHA6Ly93d3cudzMub3JnLzE5OTkveGxpbmsiIHg9IjBweCIgeT0iMHB4Ig0KCSB3aWR0aD0iNDBweCIgaGVpZ2h0PSI0MHB4IiB2aWV3Qm94PSIwIDAgNDAgNDAiIGVuYWJsZS1iYWNrZ3JvdW5kPSJuZXcgMCAwIDQwIDQwIiB4bWw6c3BhY2U9InByZXNlcnZlIj4NCjxwb2x5Z29uIHBvaW50cz0iMTQuMDA5LDE2LjkzMiAxMSwxNi45MzIgMTEsMjIuOTM0IDE0LjAzMSwyMi45MzQgMjAuMDA1LDI4LjkxNiAyMC4wMDUsMTAuOTE2IDE0LjAwOSwxNi45MjIgIi8+DQo8cGF0aCBkPSJNMjMuMTA1LDE2LjEyOWwtMC45MDMsMS43Nzd2MC4wNDJjMC41NjcsMC40NjIsMC45MzcsMS4xNTQsMC45MzcsMS45NDRjMCwwLjc5LTAuMzY5LDEuNDc5LTAuOTM3LDEuOTQ0djAuMDA3bDAuOTE3LDEuODA0DQoJYzEuMjEyLTAuODEsMi4wMTgtMi4xODgsMi4wMTgtMy43NTNDMjUuMTM3LDE4LjMxNiwyNC4zMzEsMTYuOTM2LDIzLjEwNSwxNi4xMjl6Ii8+DQo8cGF0aCBkPSJNMjkuNzI1LDE5Ljg5M2MwLTMuMzUyLTEuODQyLTYuMjYyLTQuNTYyLTcuNzk5bC0wLjg5NSwxLjc1djAuMDQ3YzIuMDY3LDEuMjA2LDMuNDYxLDMuNDM5LDMuNDYxLDYuMDAyDQoJcy0xLjM5NCw0Ljc5Ni0zLjQ2MSw2LjAwNXYwLjAwNmwwLjkxLDEuNzc5QzI3Ljg5MywyNi4xNDUsMjkuNzI1LDIzLjIzMiwyOS43MjUsMTkuODkzeiIvPg0KPC9zdmc+DQo=)}.SidekickTV .player-controls .btn-player i.off:hover{background-color:#FFF}.SidekickTV .player-controls .btn-player i.on{background-image:url(data:image/svg+xml;base64,PD94bWwgdmVyc2lvbj0iMS4wIiBlbmNvZGluZz0idXRmLTgiPz4NCjwhLS0gR2VuZXJhdG9yOiBBZG9iZSBJbGx1c3RyYXRvciAxNi4wLjAsIFNWRyBFeHBvcnQgUGx1Zy1JbiAuIFNWRyBWZXJzaW9uOiA2LjAwIEJ1aWxkIDApICAtLT4NCjwhRE9DVFlQRSBzdmcgUFVCTElDICItLy9XM0MvL0RURCBTVkcgMS4xLy9FTiIgImh0dHA6Ly93d3cudzMub3JnL0dyYXBoaWNzL1NWRy8xLjEvRFREL3N2ZzExLmR0ZCI+DQo8c3ZnIHZlcnNpb249IjEuMSIgaWQ9IkxheWVyXzEiIHhtbG5zPSJodHRwOi8vd3d3LnczLm9yZy8yMDAwL3N2ZyIgeG1sbnM6eGxpbms9Imh0dHA6Ly93d3cudzMub3JnLzE5OTkveGxpbmsiIHg9IjBweCIgeT0iMHB4Ig0KCSB3aWR0aD0iNDBweCIgaGVpZ2h0PSI0MHB4IiB2aWV3Qm94PSIwIDAgNDAgNDAiIGVuYWJsZS1iYWNrZ3JvdW5kPSJuZXcgMCAwIDQwIDQwIiB4bWw6c3BhY2U9InByZXNlcnZlIj4NCjxwb2x5Z29uIHBvaW50cz0iMTMuMDA0LDE2LjkzMiA5Ljk5NSwxNi45MzIgOS45OTUsMjIuOTM0IDEzLjAyNiwyMi45MzQgMTksMjguOTE2IDE5LDEwLjkxNiAxMy4wMDQsMTYuOTIyICIvPg0KPHBvbHlnb24gcG9pbnRzPSIzMS4yMDcsMTYuNzA3IDI5Ljc5MywxNS4yOTMgMjYuMjUsMTguODM2IDIyLjcwNywxNS4yOTMgMjEuMjkzLDE2LjcwNyAyNC44MzYsMjAuMjUgMjEuMjkzLDIzLjc5MyAyMi43MDcsMjUuMjA3IA0KCTI2LjI1LDIxLjY2NCAyOS43OTMsMjUuMjA3IDMxLjIwNywyMy43OTMgMjcuNjY0LDIwLjI1ICIvPg0KPC9zdmc+DQo=)}.SidekickTV .player-controls .btn-player i.on:hover{background-color:#FFF}.SidekickTV .player-controls .btn-player i.play{background-image:url(data:image/svg+xml;base64,PD94bWwgdmVyc2lvbj0iMS4wIiBlbmNvZGluZz0idXRmLTgiPz4NCjwhLS0gR2VuZXJhdG9yOiBBZG9iZSBJbGx1c3RyYXRvciAxNi4wLjAsIFNWRyBFeHBvcnQgUGx1Zy1JbiAuIFNWRyBWZXJzaW9uOiA2LjAwIEJ1aWxkIDApICAtLT4NCjwhRE9DVFlQRSBzdmcgUFVCTElDICItLy9XM0MvL0RURCBTVkcgMS4xLy9FTiIgImh0dHA6Ly93d3cudzMub3JnL0dyYXBoaWNzL1NWRy8xLjEvRFREL3N2ZzExLmR0ZCI+DQo8c3ZnIHZlcnNpb249IjEuMSIgaWQ9IkxheWVyXzEiIHhtbG5zPSJodHRwOi8vd3d3LnczLm9yZy8yMDAwL3N2ZyIgeG1sbnM6eGxpbms9Imh0dHA6Ly93d3cudzMub3JnLzE5OTkveGxpbmsiIHg9IjBweCIgeT0iMHB4Ig0KCSB3aWR0aD0iNDBweCIgaGVpZ2h0PSI0MHB4IiB2aWV3Qm94PSIwIDAgNDAgNDAiIGVuYWJsZS1iYWNrZ3JvdW5kPSJuZXcgMCAwIDQwIDQwIiB4bWw6c3BhY2U9InByZXNlcnZlIj4NCjxwb2x5Z29uIHBvaW50cz0iMTQuMzY2LDEzIDE0LjM2NiwyMC41MDIgMTQuMzY2LDI4IDI2LDIwLjUwMiAiLz4NCjwvc3ZnPg0K)}.SidekickTV .player-controls .btn-player i.play:hover{background-color:#FFF}.SidekickTV .player-controls .btn-player i.pause{background-image:url(data:image/svg+xml;base64,PD94bWwgdmVyc2lvbj0iMS4wIiBlbmNvZGluZz0idXRmLTgiPz4NCjwhLS0gR2VuZXJhdG9yOiBBZG9iZSBJbGx1c3RyYXRvciAxNi4wLjAsIFNWRyBFeHBvcnQgUGx1Zy1JbiAuIFNWRyBWZXJzaW9uOiA2LjAwIEJ1aWxkIDApICAtLT4NCjwhRE9DVFlQRSBzdmcgUFVCTElDICItLy9XM0MvL0RURCBTVkcgMS4xLy9FTiIgImh0dHA6Ly93d3cudzMub3JnL0dyYXBoaWNzL1NWRy8xLjEvRFREL3N2ZzExLmR0ZCI+DQo8c3ZnIHZlcnNpb249IjEuMSIgaWQ9IkxheWVyXzEiIHhtbG5zPSJodHRwOi8vd3d3LnczLm9yZy8yMDAwL3N2ZyIgeG1sbnM6eGxpbms9Imh0dHA6Ly93d3cudzMub3JnLzE5OTkveGxpbmsiIHg9IjBweCIgeT0iMHB4Ig0KCSB3aWR0aD0iNDBweCIgaGVpZ2h0PSI0MHB4IiB2aWV3Qm94PSIwIDAgNDAgNDAiIGVuYWJsZS1iYWNrZ3JvdW5kPSJuZXcgMCAwIDQwIDQwIiB4bWw6c3BhY2U9InByZXNlcnZlIj4NCjxyZWN0IHg9IjE0IiB5PSIxMyIgd2lkdGg9IjMiIGhlaWdodD0iMTUiLz4NCjxyZWN0IHg9IjIzIiB5PSIxMyIgd2lkdGg9IjMiIGhlaWdodD0iMTUiLz4NCjwvc3ZnPg0K)}.SidekickTV .player-controls .btn-player i.pause:hover{background-color:#FFF}.SidekickTV .player-controls .btn-player i.constrict,.SidekickTV .player-controls .btn-player i.expand{background-image:url(data:image/svg+xml;base64,PD94bWwgdmVyc2lvbj0iMS4wIiBlbmNvZGluZz0idXRmLTgiPz4NCjwhLS0gR2VuZXJhdG9yOiBBZG9iZSBJbGx1c3RyYXRvciAxNi4wLjAsIFNWRyBFeHBvcnQgUGx1Zy1JbiAuIFNWRyBWZXJzaW9uOiA2LjAwIEJ1aWxkIDApICAtLT4NCjwhRE9DVFlQRSBzdmcgUFVCTElDICItLy9XM0MvL0RURCBTVkcgMS4xLy9FTiIgImh0dHA6Ly93d3cudzMub3JnL0dyYXBoaWNzL1NWRy8xLjEvRFREL3N2ZzExLmR0ZCI+DQo8c3ZnIHZlcnNpb249IjEuMSIgaWQ9IkxheWVyXzEiIHhtbG5zPSJodHRwOi8vd3d3LnczLm9yZy8yMDAwL3N2ZyIgeG1sbnM6eGxpbms9Imh0dHA6Ly93d3cudzMub3JnLzE5OTkveGxpbmsiIHg9IjBweCIgeT0iMHB4Ig0KCSB3aWR0aD0iNDBweCIgaGVpZ2h0PSI0MHB4IiB2aWV3Qm94PSIwIDAgNDAgNDAiIGVuYWJsZS1iYWNrZ3JvdW5kPSJuZXcgMCAwIDQwIDQwIiB4bWw6c3BhY2U9InByZXNlcnZlIj4NCjxwb2x5Z29uIHBvaW50cz0iMjQuNjMyLDE0Ljg0OCAyMS4yNzksMTguMjA2IDIyLjgxMiwxOS43NDIgMjYuMTYyLDE2LjM3OCAyOC45ODIsMTkuMTkxIDI5LDEyIDIxLjgwNywxMi4wMzMgIi8+DQo8cG9seWdvbiBwb2ludHM9IjE2LjM2OSwyNi4xNDggMTkuNzI1LDIyLjc5MSAxOC4xODksMjEuMjU4IDE0Ljg0MiwyNC42MTkgMTIuMDIxLDIxLjgwNSAxMiwyOSAxOS4xOTgsMjguOTY0ICIvPg0KPC9zdmc+DQo=)}.SidekickTV .player-controls .btn-player i.constrict:hover,.SidekickTV .player-controls .btn-player i.expand:hover{background-color:#FFF}.SidekickTV .hideDefVidActions .yvp-mute-indicator,.SidekickTV .hideDefVidActions .yvp-start-screen-bar-wrapper,.SidekickTV .hideDefVidActions .yvp-start-screen-button{display:none}.SidekickTV .hideDefVidActions .yvp-content .yvp-bottom-bar{height:4px}.SidekickTV .hideDefVidActions .yvp-content .yvp-bottom-bar .yvp-menu-controls,.SidekickTV .hideDefVidActions .yvp-content .yvp-bottom-bar .yvp-play-btn,.SidekickTV .hideDefVidActions .yvp-content .yvp-bottom-bar .yvp-time-container{display:none}.SidekickTV .hideDefVidActions .yvp-content.yvp-state-fullscreen .yvp-bottom-bar{height:30px}.SidekickTV .hideDefVidActions .yvp-content.yvp-state-fullscreen .yvp-bottom-bar .yvp-menu-controls,.SidekickTV .hideDefVidActions .yvp-content.yvp-state-fullscreen .yvp-bottom-bar .yvp-play-btn,.SidekickTV .hideDefVidActions .yvp-content.yvp-state-fullscreen .yvp-bottom-bar .yvp-time-container{display:block}.SidekickTV .hideDefVidActions .yvp-lightbox-ancestor .yvp-content .yvp-bottom-bar{height:30px}.SidekickTV .hideDefVidActions .yvp-lightbox-ancestor .yvp-content .yvp-bottom-bar .yvp-menu-controls,.SidekickTV .hideDefVidActions .yvp-lightbox-ancestor .yvp-content .yvp-bottom-bar .yvp-play-btn,.SidekickTV .hideDefVidActions .yvp-lightbox-ancestor .yvp-content .yvp-bottom-bar .yvp-time-container{display:block}.SidekickTV .yvp-main .yvp-setting-btn,.SidekickTV .yvp-main .yvp-watch-later-btn{display:none}.SidekickTVLazy{opacity:0;transition:opacity .3s ease-in}.SidekickTVLazy:hover{opacity:1}.SidekickTVArrow{width:0;height:0;border-bottom:40px solid transparent;border-left:40px solid}.ad-sponsored{color:#888;font-size:11px;margin-right:0;padding-right:0}.VideoPlayerCrossFade-enter{opacity:0;transition:opacity .3s ease-in}.VideoPlayerCrossFade-enter.VideoPlayerCrossFade-enter-active{opacity:1}.VideoPlayerCrossFade-leave{opacity:1;transition:opacity .3s ease-in}.VideoPlayerCrossFade-leave.VideoPlayerCrossFade-leave-active{opacity:0}.StretchedBox{position:absolute;top:0;left:0;width:100%;height:100%}\";    } else {         style.appendChild(document.createTextNode(\".SidekickTV{background:#FFF}.SidekickTV .player-controls{margin-left:-35%;margin-top:-9%;height:30%}.SidekickTV .player-controls .btn-player{margin:0 4%}.SidekickTV .player-controls .btn-player i{background-position:50% 50%;background-repeat:no-repeat;background-color:rgba(255,255,255,.7);background-size:80%;border-radius:100%}.SidekickTV .player-controls .btn-player i.off{background-image:url(data:image/svg+xml;base64,PD94bWwgdmVyc2lvbj0iMS4wIiBlbmNvZGluZz0idXRmLTgiPz4NCjwhLS0gR2VuZXJhdG9yOiBBZG9iZSBJbGx1c3RyYXRvciAxNi4wLjAsIFNWRyBFeHBvcnQgUGx1Zy1JbiAuIFNWRyBWZXJzaW9uOiA2LjAwIEJ1aWxkIDApICAtLT4NCjwhRE9DVFlQRSBzdmcgUFVCTElDICItLy9XM0MvL0RURCBTVkcgMS4xLy9FTiIgImh0dHA6Ly93d3cudzMub3JnL0dyYXBoaWNzL1NWRy8xLjEvRFREL3N2ZzExLmR0ZCI+DQo8c3ZnIHZlcnNpb249IjEuMSIgaWQ9IkxheWVyXzEiIHhtbG5zPSJodHRwOi8vd3d3LnczLm9yZy8yMDAwL3N2ZyIgeG1sbnM6eGxpbms9Imh0dHA6Ly93d3cudzMub3JnLzE5OTkveGxpbmsiIHg9IjBweCIgeT0iMHB4Ig0KCSB3aWR0aD0iNDBweCIgaGVpZ2h0PSI0MHB4IiB2aWV3Qm94PSIwIDAgNDAgNDAiIGVuYWJsZS1iYWNrZ3JvdW5kPSJuZXcgMCAwIDQwIDQwIiB4bWw6c3BhY2U9InByZXNlcnZlIj4NCjxwb2x5Z29uIHBvaW50cz0iMTQuMDA5LDE2LjkzMiAxMSwxNi45MzIgMTEsMjIuOTM0IDE0LjAzMSwyMi45MzQgMjAuMDA1LDI4LjkxNiAyMC4wMDUsMTAuOTE2IDE0LjAwOSwxNi45MjIgIi8+DQo8cGF0aCBkPSJNMjMuMTA1LDE2LjEyOWwtMC45MDMsMS43Nzd2MC4wNDJjMC41NjcsMC40NjIsMC45MzcsMS4xNTQsMC45MzcsMS45NDRjMCwwLjc5LTAuMzY5LDEuNDc5LTAuOTM3LDEuOTQ0djAuMDA3bDAuOTE3LDEuODA0DQoJYzEuMjEyLTAuODEsMi4wMTgtMi4xODgsMi4wMTgtMy43NTNDMjUuMTM3LDE4LjMxNiwyNC4zMzEsMTYuOTM2LDIzLjEwNSwxNi4xMjl6Ii8+DQo8cGF0aCBkPSJNMjkuNzI1LDE5Ljg5M2MwLTMuMzUyLTEuODQyLTYuMjYyLTQuNTYyLTcuNzk5bC0wLjg5NSwxLjc1djAuMDQ3YzIuMDY3LDEuMjA2LDMuNDYxLDMuNDM5LDMuNDYxLDYuMDAyDQoJcy0xLjM5NCw0Ljc5Ni0zLjQ2MSw2LjAwNXYwLjAwNmwwLjkxLDEuNzc5QzI3Ljg5MywyNi4xNDUsMjkuNzI1LDIzLjIzMiwyOS43MjUsMTkuODkzeiIvPg0KPC9zdmc+DQo=)}.SidekickTV .player-controls .btn-player i.off:hover{background-color:#FFF}.SidekickTV .player-controls .btn-player i.on{background-image:url(data:image/svg+xml;base64,PD94bWwgdmVyc2lvbj0iMS4wIiBlbmNvZGluZz0idXRmLTgiPz4NCjwhLS0gR2VuZXJhdG9yOiBBZG9iZSBJbGx1c3RyYXRvciAxNi4wLjAsIFNWRyBFeHBvcnQgUGx1Zy1JbiAuIFNWRyBWZXJzaW9uOiA2LjAwIEJ1aWxkIDApICAtLT4NCjwhRE9DVFlQRSBzdmcgUFVCTElDICItLy9XM0MvL0RURCBTVkcgMS4xLy9FTiIgImh0dHA6Ly93d3cudzMub3JnL0dyYXBoaWNzL1NWRy8xLjEvRFREL3N2ZzExLmR0ZCI+DQo8c3ZnIHZlcnNpb249IjEuMSIgaWQ9IkxheWVyXzEiIHhtbG5zPSJodHRwOi8vd3d3LnczLm9yZy8yMDAwL3N2ZyIgeG1sbnM6eGxpbms9Imh0dHA6Ly93d3cudzMub3JnLzE5OTkveGxpbmsiIHg9IjBweCIgeT0iMHB4Ig0KCSB3aWR0aD0iNDBweCIgaGVpZ2h0PSI0MHB4IiB2aWV3Qm94PSIwIDAgNDAgNDAiIGVuYWJsZS1iYWNrZ3JvdW5kPSJuZXcgMCAwIDQwIDQwIiB4bWw6c3BhY2U9InByZXNlcnZlIj4NCjxwb2x5Z29uIHBvaW50cz0iMTMuMDA0LDE2LjkzMiA5Ljk5NSwxNi45MzIgOS45OTUsMjIuOTM0IDEzLjAyNiwyMi45MzQgMTksMjguOTE2IDE5LDEwLjkxNiAxMy4wMDQsMTYuOTIyICIvPg0KPHBvbHlnb24gcG9pbnRzPSIzMS4yMDcsMTYuNzA3IDI5Ljc5MywxNS4yOTMgMjYuMjUsMTguODM2IDIyLjcwNywxNS4yOTMgMjEuMjkzLDE2LjcwNyAyNC44MzYsMjAuMjUgMjEuMjkzLDIzLjc5MyAyMi43MDcsMjUuMjA3IA0KCTI2LjI1LDIxLjY2NCAyOS43OTMsMjUuMjA3IDMxLjIwNywyMy43OTMgMjcuNjY0LDIwLjI1ICIvPg0KPC9zdmc+DQo=)}.SidekickTV .player-controls .btn-player i.on:hover{background-color:#FFF}.SidekickTV .player-controls .btn-player i.play{background-image:url(data:image/svg+xml;base64,PD94bWwgdmVyc2lvbj0iMS4wIiBlbmNvZGluZz0idXRmLTgiPz4NCjwhLS0gR2VuZXJhdG9yOiBBZG9iZSBJbGx1c3RyYXRvciAxNi4wLjAsIFNWRyBFeHBvcnQgUGx1Zy1JbiAuIFNWRyBWZXJzaW9uOiA2LjAwIEJ1aWxkIDApICAtLT4NCjwhRE9DVFlQRSBzdmcgUFVCTElDICItLy9XM0MvL0RURCBTVkcgMS4xLy9FTiIgImh0dHA6Ly93d3cudzMub3JnL0dyYXBoaWNzL1NWRy8xLjEvRFREL3N2ZzExLmR0ZCI+DQo8c3ZnIHZlcnNpb249IjEuMSIgaWQ9IkxheWVyXzEiIHhtbG5zPSJodHRwOi8vd3d3LnczLm9yZy8yMDAwL3N2ZyIgeG1sbnM6eGxpbms9Imh0dHA6Ly93d3cudzMub3JnLzE5OTkveGxpbmsiIHg9IjBweCIgeT0iMHB4Ig0KCSB3aWR0aD0iNDBweCIgaGVpZ2h0PSI0MHB4IiB2aWV3Qm94PSIwIDAgNDAgNDAiIGVuYWJsZS1iYWNrZ3JvdW5kPSJuZXcgMCAwIDQwIDQwIiB4bWw6c3BhY2U9InByZXNlcnZlIj4NCjxwb2x5Z29uIHBvaW50cz0iMTQuMzY2LDEzIDE0LjM2NiwyMC41MDIgMTQuMzY2LDI4IDI2LDIwLjUwMiAiLz4NCjwvc3ZnPg0K)}.SidekickTV .player-controls .btn-player i.play:hover{background-color:#FFF}.SidekickTV .player-controls .btn-player i.pause{background-image:url(data:image/svg+xml;base64,PD94bWwgdmVyc2lvbj0iMS4wIiBlbmNvZGluZz0idXRmLTgiPz4NCjwhLS0gR2VuZXJhdG9yOiBBZG9iZSBJbGx1c3RyYXRvciAxNi4wLjAsIFNWRyBFeHBvcnQgUGx1Zy1JbiAuIFNWRyBWZXJzaW9uOiA2LjAwIEJ1aWxkIDApICAtLT4NCjwhRE9DVFlQRSBzdmcgUFVCTElDICItLy9XM0MvL0RURCBTVkcgMS4xLy9FTiIgImh0dHA6Ly93d3cudzMub3JnL0dyYXBoaWNzL1NWRy8xLjEvRFREL3N2ZzExLmR0ZCI+DQo8c3ZnIHZlcnNpb249IjEuMSIgaWQ9IkxheWVyXzEiIHhtbG5zPSJodHRwOi8vd3d3LnczLm9yZy8yMDAwL3N2ZyIgeG1sbnM6eGxpbms9Imh0dHA6Ly93d3cudzMub3JnLzE5OTkveGxpbmsiIHg9IjBweCIgeT0iMHB4Ig0KCSB3aWR0aD0iNDBweCIgaGVpZ2h0PSI0MHB4IiB2aWV3Qm94PSIwIDAgNDAgNDAiIGVuYWJsZS1iYWNrZ3JvdW5kPSJuZXcgMCAwIDQwIDQwIiB4bWw6c3BhY2U9InByZXNlcnZlIj4NCjxyZWN0IHg9IjE0IiB5PSIxMyIgd2lkdGg9IjMiIGhlaWdodD0iMTUiLz4NCjxyZWN0IHg9IjIzIiB5PSIxMyIgd2lkdGg9IjMiIGhlaWdodD0iMTUiLz4NCjwvc3ZnPg0K)}.SidekickTV .player-controls .btn-player i.pause:hover{background-color:#FFF}.SidekickTV .player-controls .btn-player i.constrict,.SidekickTV .player-controls .btn-player i.expand{background-image:url(data:image/svg+xml;base64,PD94bWwgdmVyc2lvbj0iMS4wIiBlbmNvZGluZz0idXRmLTgiPz4NCjwhLS0gR2VuZXJhdG9yOiBBZG9iZSBJbGx1c3RyYXRvciAxNi4wLjAsIFNWRyBFeHBvcnQgUGx1Zy1JbiAuIFNWRyBWZXJzaW9uOiA2LjAwIEJ1aWxkIDApICAtLT4NCjwhRE9DVFlQRSBzdmcgUFVCTElDICItLy9XM0MvL0RURCBTVkcgMS4xLy9FTiIgImh0dHA6Ly93d3cudzMub3JnL0dyYXBoaWNzL1NWRy8xLjEvRFREL3N2ZzExLmR0ZCI+DQo8c3ZnIHZlcnNpb249IjEuMSIgaWQ9IkxheWVyXzEiIHhtbG5zPSJodHRwOi8vd3d3LnczLm9yZy8yMDAwL3N2ZyIgeG1sbnM6eGxpbms9Imh0dHA6Ly93d3cudzMub3JnLzE5OTkveGxpbmsiIHg9IjBweCIgeT0iMHB4Ig0KCSB3aWR0aD0iNDBweCIgaGVpZ2h0PSI0MHB4IiB2aWV3Qm94PSIwIDAgNDAgNDAiIGVuYWJsZS1iYWNrZ3JvdW5kPSJuZXcgMCAwIDQwIDQwIiB4bWw6c3BhY2U9InByZXNlcnZlIj4NCjxwb2x5Z29uIHBvaW50cz0iMjQuNjMyLDE0Ljg0OCAyMS4yNzksMTguMjA2IDIyLjgxMiwxOS43NDIgMjYuMTYyLDE2LjM3OCAyOC45ODIsMTkuMTkxIDI5LDEyIDIxLjgwNywxMi4wMzMgIi8+DQo8cG9seWdvbiBwb2ludHM9IjE2LjM2OSwyNi4xNDggMTkuNzI1LDIyLjc5MSAxOC4xODksMjEuMjU4IDE0Ljg0MiwyNC42MTkgMTIuMDIxLDIxLjgwNSAxMiwyOSAxOS4xOTgsMjguOTY0ICIvPg0KPC9zdmc+DQo=)}.SidekickTV .player-controls .btn-player i.constrict:hover,.SidekickTV .player-controls .btn-player i.expand:hover{background-color:#FFF}.SidekickTV .hideDefVidActions .yvp-mute-indicator,.SidekickTV .hideDefVidActions .yvp-start-screen-bar-wrapper,.SidekickTV .hideDefVidActions .yvp-start-screen-button{display:none}.SidekickTV .hideDefVidActions .yvp-content .yvp-bottom-bar{height:4px}.SidekickTV .hideDefVidActions .yvp-content .yvp-bottom-bar .yvp-menu-controls,.SidekickTV .hideDefVidActions .yvp-content .yvp-bottom-bar .yvp-play-btn,.SidekickTV .hideDefVidActions .yvp-content .yvp-bottom-bar .yvp-time-container{display:none}.SidekickTV .hideDefVidActions .yvp-content.yvp-state-fullscreen .yvp-bottom-bar{height:30px}.SidekickTV .hideDefVidActions .yvp-content.yvp-state-fullscreen .yvp-bottom-bar .yvp-menu-controls,.SidekickTV .hideDefVidActions .yvp-content.yvp-state-fullscreen .yvp-bottom-bar .yvp-play-btn,.SidekickTV .hideDefVidActions .yvp-content.yvp-state-fullscreen .yvp-bottom-bar .yvp-time-container{display:block}.SidekickTV .hideDefVidActions .yvp-lightbox-ancestor .yvp-content .yvp-bottom-bar{height:30px}.SidekickTV .hideDefVidActions .yvp-lightbox-ancestor .yvp-content .yvp-bottom-bar .yvp-menu-controls,.SidekickTV .hideDefVidActions .yvp-lightbox-ancestor .yvp-content .yvp-bottom-bar .yvp-play-btn,.SidekickTV .hideDefVidActions .yvp-lightbox-ancestor .yvp-content .yvp-bottom-bar .yvp-time-container{display:block}.SidekickTV .yvp-main .yvp-setting-btn,.SidekickTV .yvp-main .yvp-watch-later-btn{display:none}.SidekickTVLazy{opacity:0;transition:opacity .3s ease-in}.SidekickTVLazy:hover{opacity:1}.SidekickTVArrow{width:0;height:0;border-bottom:40px solid transparent;border-left:40px solid}.ad-sponsored{color:#888;font-size:11px;margin-right:0;padding-right:0}.VideoPlayerCrossFade-enter{opacity:0;transition:opacity .3s ease-in}.VideoPlayerCrossFade-enter.VideoPlayerCrossFade-enter-active{opacity:1}.VideoPlayerCrossFade-leave{opacity:1;transition:opacity .3s ease-in}.VideoPlayerCrossFade-leave.VideoPlayerCrossFade-leave-active{opacity:0}.StretchedBox{position:absolute;top:0;left:0;width:100%;height:100%}\"));    }    docHead.appendChild(style);})();var backfillSidekickTV = false,    sidekickTVSettings = {\"mostTxtColor\":\"#000\",\"mostBgColor\":\"#006e8e\",\"descBgColor\":\"#dbdbdb\",\"logoHeight\":\"40px\",\"ylogo\":\"http://l.yimg.com/os/mit/media/m/content_index/images/sidekick_tv_finance-2e9c408.png\",\"singlePlayer\":true,\"yvpGConfig\":{\"comscoreC4\":\"US finance\",\"region\":\"US\",\"lang\":\"en-US\",\"site\":\"finance\"},\"autoplay\":true,\"playerJs\":\"https://yep.video.yahoo.com/js/3/videoplayer-min.js?r=nextgen-flash&ypv=prod\",\"YVAPId\":[\"1014\",\"1014\"],\"pageSpaceId\":\"1183300002\",\"bucket\":\"\",\"waitDomreadyInit\":true,\"addViewportHandler\":true,\"shuffle\":false,\"videoCount\":0,\"defaultVidActions\":true,\"html5\":false,\"expName\":\"\",\"iframeRender\":false,\"playlist\":[{\"id\":\"1a186815-af74-3dc3-95db-dfa46bc6b538\",\"title\":\"Why Domino's stock could be set to crash\",\"thumbnails\":[{\"tag\":\"original\",\"url\":\"https://s1.yimg.com/uu/api/res/1.2/V2OQCzPINagIpjfYX1AYqg--/dz0yMDAwO2g9MTM0MDthcHBpZD15dGFjaHlvbg--/https://media.zenfs.com/creatr-images/GLB/2016-05-25/321bdb90-22aa-11e6-a32c-8964bc13d37c_21fbdef0869b070b297b52d50fc69899.jpg\",\"width\":2000,\"height\":1340},{\"tag\":\"300x169\",\"url\":\"https://s1.yimg.com/uu/api/res/1.2/pKtCFsmQ8iLyZkfN1TY29Q--/Zmk9ZmlsbDtweW9mZj0wO3c9MzAwO2g9MTY5O3NtPTE7YXBwaWQ9eXRhY2h5b24-/https://media.zenfs.com/creatr-images/GLB/2016-05-25/321bdb90-22aa-11e6-a32c-8964bc13d37c_21fbdef0869b070b297b52d50fc69899.jpg\",\"width\":300,\"height\":169},{\"tag\":\"original_raw\",\"url\":\"https://media.zenfs.com/creatr-images/GLB/2016-05-25/321bdb90-22aa-11e6-a32c-8964bc13d37c_21fbdef0869b070b297b52d50fc69899.jpg\",\"width\":2000,\"height\":1340}],\"targetUrl\":\"https://screen.yahoo.com/sidekick-finance/why-dominos-stock-could-set-185611486.html\",\"provider\":{\"name\":\"Yahoo Finance Video\"}},{\"id\":\"8f7a977e-789f-3b7f-99ac-4d8c2007f58d\",\"title\":\"Hillary Clinton Doubles Down on Data\",\"thumbnails\":[{\"tag\":\"original\",\"url\":\"https://s1.yimg.com/uu/api/res/1.2/LsQh5Q0pPXjRFe_QTPuICA--/dz02NDA7aD0zNjA7YXBwaWQ9eXRhY2h5b24-/http://media.zenfs.com/en-US/video/bloomberg_932/25e54ff46a6671c927fc7c7ecfbf82ab\",\"width\":640,\"height\":360},{\"tag\":\"300x169\",\"url\":\"https://s1.yimg.com/uu/api/res/1.2/oVZA_up9dC.4DFBZxL42dA--/Zmk9ZmlsbDtweW9mZj0wO3c9MzAwO2g9MTY5O3NtPTE7YXBwaWQ9eXRhY2h5b24-/http://media.zenfs.com/en-US/video/bloomberg_932/25e54ff46a6671c927fc7c7ecfbf82ab\",\"width\":300,\"height\":169},{\"tag\":\"original_raw\",\"url\":\"http://media.zenfs.com/en-US/video/bloomberg_932/25e54ff46a6671c927fc7c7ecfbf82ab\",\"width\":640,\"height\":360}],\"targetUrl\":\"https://screen.yahoo.com/sidekick-finance/hillary-clinton-doubles-down-data-183916592.html\",\"provider\":{\"name\":\"Bloomberg Video\"}},{\"id\":\"ef95f746-384b-38e7-9309-5e6a030cfb97\",\"title\":\"Thiel's beef with Gawker\",\"thumbnails\":[{\"tag\":\"original\",\"url\":\"https://s.yimg.com/uu/api/res/1.2/drfdqFZqfo2_2rBBro8X_A--/dz00MDA7aD0yMjU7YXBwaWQ9eXRhY2h5b24-/http://media.zenfs.com/en-US/video/video.cnbc2.com/9dcabc91aa4d61ed78c3598c39b684ab\",\"width\":400,\"height\":225},{\"tag\":\"300x169\",\"url\":\"https://s.yimg.com/uu/api/res/1.2/L_f9Mg0k_EST43c0iixvfA--/Zmk9ZmlsbDtweW9mZj0wO3c9MzAwO2g9MTY5O3NtPTE7YXBwaWQ9eXRhY2h5b24-/http://media.zenfs.com/en-US/video/video.cnbc2.com/9dcabc91aa4d61ed78c3598c39b684ab\",\"width\":300,\"height\":169},{\"tag\":\"original_raw\",\"url\":\"http://media.zenfs.com/en-US/video/video.cnbc2.com/9dcabc91aa4d61ed78c3598c39b684ab\",\"width\":400,\"height\":225}],\"targetUrl\":\"https://screen.yahoo.com/sidekick-finance/thiels-beef-gawker-182100232.html\",\"provider\":{\"name\":\"CNBC Videos\"}},{\"id\":\"fe18f0d4-9f9d-3389-af01-59cbddb101e6\",\"title\":\"Is Las Vegas About to Get an NHL Hockey Team?\",\"thumbnails\":[{\"tag\":\"original\",\"url\":\"https://s1.yimg.com/uu/api/res/1.2/gQxStWqP8c3HtqQYfjpSsg--/dz02NDA7aD0zNjA7YXBwaWQ9eXRhY2h5b24-/http://media.zenfs.com/en-US/video/bloomberg_932/afd4fac57e1d3965312cb5e2497deff4\",\"width\":640,\"height\":360},{\"tag\":\"300x169\",\"url\":\"https://s1.yimg.com/uu/api/res/1.2/fwnG7a9qoDaJe1O95aVBcQ--/Zmk9ZmlsbDtweW9mZj0wO3c9MzAwO2g9MTY5O3NtPTE7YXBwaWQ9eXRhY2h5b24-/http://media.zenfs.com/en-US/video/bloomberg_932/afd4fac57e1d3965312cb5e2497deff4\",\"width\":300,\"height\":169},{\"tag\":\"original_raw\",\"url\":\"http://media.zenfs.com/en-US/video/bloomberg_932/afd4fac57e1d3965312cb5e2497deff4\",\"width\":640,\"height\":360}],\"targetUrl\":\"https://screen.yahoo.com/sidekick-finance/las-vegas-nhl-hockey-team-181640518.html\",\"provider\":{\"name\":\"Bloomberg Video\"}},{\"id\":\"5e340d87-1de6-395e-b896-47717b72be74\",\"title\":\"Suit against Obama admin. over bathroom policy\",\"thumbnails\":[{\"tag\":\"original\",\"url\":\"https://s.yimg.com/uu/api/res/1.2/ysajt7IHpCnX4mvMMt4y5A--/dz00MDA7aD0yMjU7YXBwaWQ9eXRhY2h5b24-/http://media.zenfs.com/en-US/video/video.cnbc2.com/e0f0f65ecc73310bdc2401a47288dd00\",\"width\":400,\"height\":225},{\"tag\":\"300x169\",\"url\":\"https://s.yimg.com/uu/api/res/1.2/1np0urhyfgpOSQ2f7LrTnQ--/Zmk9ZmlsbDtweW9mZj0wO3c9MzAwO2g9MTY5O3NtPTE7YXBwaWQ9eXRhY2h5b24-/http://media.zenfs.com/en-US/video/video.cnbc2.com/e0f0f65ecc73310bdc2401a47288dd00\",\"width\":300,\"height\":169},{\"tag\":\"original_raw\",\"url\":\"http://media.zenfs.com/en-US/video/video.cnbc2.com/e0f0f65ecc73310bdc2401a47288dd00\",\"width\":400,\"height\":225}],\"targetUrl\":\"https://screen.yahoo.com/sidekick-finance/suit-against-obama-admin-over-181600852.html\",\"provider\":{\"name\":\"CNBC Videos\"}},{\"id\":\"a418d910-4101-3be5-8ada-d92932cd6812\",\"title\":\"Why Defaulting on National Debt May Become More Common\",\"thumbnails\":[{\"tag\":\"original\",\"url\":\"https://s.yimg.com/uu/api/res/1.2/LTbkheSWowNxRfvTQbt5jw--/dz0xMjgwO2g9NzIwO2FwcGlkPXl0YWNoeW9u/http://media.zenfs.com/en-US/video/wall_street_journal_733/bde3101d7e867bc0df5b0a7ad7e98b13\",\"width\":1280,\"height\":720},{\"tag\":\"300x169\",\"url\":\"https://s.yimg.com/uu/api/res/1.2/arMvl1xcErO1xVnFRNhxSA--/Zmk9ZmlsbDtweW9mZj0wO3c9MzAwO2g9MTY5O3NtPTE7YXBwaWQ9eXRhY2h5b24-/http://media.zenfs.com/en-US/video/wall_street_journal_733/bde3101d7e867bc0df5b0a7ad7e98b13\",\"width\":300,\"height\":169},{\"tag\":\"original_raw\",\"url\":\"http://media.zenfs.com/en-US/video/wall_street_journal_733/bde3101d7e867bc0df5b0a7ad7e98b13\",\"width\":1280,\"height\":720}],\"targetUrl\":\"https://screen.yahoo.com/sidekick-finance/why-defaulting-national-debt-may-181405888.html\",\"provider\":{\"name\":\"WSJ Live\"}},{\"id\":\"648cb4ed-11a7-3cae-a3af-d94c34e44295\",\"title\":\"The Benefits of a Personal Uniform\",\"thumbnails\":[{\"tag\":\"original\",\"url\":\"https://s.yimg.com/uu/api/res/1.2/CX7pr0Jd0XLVWM5vJ0TZGw--/dz0xMjgwO2g9NzIwO2FwcGlkPXl0YWNoeW9u/http://media.zenfs.com/en-US/video/wall_street_journal_733/413e35b9f9680e638e929cfee8838a2d\",\"width\":1280,\"height\":720},{\"tag\":\"300x169\",\"url\":\"https://s.yimg.com/uu/api/res/1.2/tu99bcnnIHm3gXRBP8YXZQ--/Zmk9ZmlsbDtweW9mZj0wO3c9MzAwO2g9MTY5O3NtPTE7YXBwaWQ9eXRhY2h5b24-/http://media.zenfs.com/en-US/video/wall_street_journal_733/413e35b9f9680e638e929cfee8838a2d\",\"width\":300,\"height\":169},{\"tag\":\"original_raw\",\"url\":\"http://media.zenfs.com/en-US/video/wall_street_journal_733/413e35b9f9680e638e929cfee8838a2d\",\"width\":1280,\"height\":720}],\"targetUrl\":\"https://screen.yahoo.com/sidekick-finance/benefits-personal-uniform-181111439.html\",\"provider\":{\"name\":\"WSJ Live\"}},{\"id\":\"0268861d-f4c3-3ede-98a5-04ef6cce185d\",\"title\":\"Exxon Mobil vs. shareholders\",\"thumbnails\":[{\"tag\":\"original\",\"url\":\"https://s.yimg.com/uu/api/res/1.2/lGerRHP9WrmqJ1nnJ1xC0w--/dz00MDA7aD0yMjU7YXBwaWQ9eXRhY2h5b24-/http://media.zenfs.com/en-US/video/video.cnbc2.com/eb89e9c17b675618b8d9e4a5396ace1c\",\"width\":400,\"height\":225},{\"tag\":\"300x169\",\"url\":\"https://s.yimg.com/uu/api/res/1.2/Mwg1rrquLqXq..IrxOGHlA--/Zmk9ZmlsbDtweW9mZj0wO3c9MzAwO2g9MTY5O3NtPTE7YXBwaWQ9eXRhY2h5b24-/http://media.zenfs.com/en-US/video/video.cnbc2.com/eb89e9c17b675618b8d9e4a5396ace1c\",\"width\":300,\"height\":169},{\"tag\":\"original_raw\",\"url\":\"http://media.zenfs.com/en-US/video/video.cnbc2.com/eb89e9c17b675618b8d9e4a5396ace1c\",\"width\":400,\"height\":225}],\"targetUrl\":\"https://screen.yahoo.com/sidekick-finance/exxon-mobil-vs-shareholders-181100766.html\",\"provider\":{\"name\":\"CNBC Videos\"}},{\"id\":\"c3fc6ef4-e100-31f4-8c3e-d2a3c70c63de\",\"title\":\"Microsoft Pares Back Smartphone Ambitions\",\"thumbnails\":[{\"tag\":\"original\",\"url\":\"https://s1.yimg.com/uu/api/res/1.2/107r2d65jOF30cZ30hoUDA--/dz02NDA7aD0zNjA7YXBwaWQ9eXRhY2h5b24-/http://media.zenfs.com/en-US/video/bloomberg_932/87d2acc460ee73083b8ed41010689e6d\",\"width\":640,\"height\":360},{\"tag\":\"300x169\",\"url\":\"https://s1.yimg.com/uu/api/res/1.2/_dsIKP0TJQJqa5A__W8I8A--/Zmk9ZmlsbDtweW9mZj0wO3c9MzAwO2g9MTY5O3NtPTE7YXBwaWQ9eXRhY2h5b24-/http://media.zenfs.com/en-US/video/bloomberg_932/87d2acc460ee73083b8ed41010689e6d\",\"width\":300,\"height\":169},{\"tag\":\"original_raw\",\"url\":\"http://media.zenfs.com/en-US/video/bloomberg_932/87d2acc460ee73083b8ed41010689e6d\",\"width\":640,\"height\":360}],\"targetUrl\":\"https://screen.yahoo.com/sidekick-finance/microsoft-pares-back-smartphone-ambitions-180940802.html\",\"provider\":{\"name\":\"Bloomberg Video\"}},{\"id\":\"bb8e585c-3089-34a6-87e5-fd2967bffd85\",\"title\":\"The trade on BABA\",\"thumbnails\":[{\"tag\":\"original\",\"url\":\"https://s.yimg.com/uu/api/res/1.2/oChyJjuZeoOSjdlOREB2Ww--/dz00MDA7aD0yMjU7YXBwaWQ9eXRhY2h5b24-/http://media.zenfs.com/en-US/video/video.cnbc2.com/c03a4584ba89bdce34c90c6009fd62fd\",\"width\":400,\"height\":225},{\"tag\":\"300x169\",\"url\":\"https://s.yimg.com/uu/api/res/1.2/n83IuTkb2qjQ_jQODkk3QQ--/Zmk9ZmlsbDtweW9mZj0wO3c9MzAwO2g9MTY5O3NtPTE7YXBwaWQ9eXRhY2h5b24-/http://media.zenfs.com/en-US/video/video.cnbc2.com/c03a4584ba89bdce34c90c6009fd62fd\",\"width\":300,\"height\":169},{\"tag\":\"original_raw\",\"url\":\"http://media.zenfs.com/en-US/video/video.cnbc2.com/c03a4584ba89bdce34c90c6009fd62fd\",\"width\":400,\"height\":225}],\"targetUrl\":\"https://screen.yahoo.com/sidekick-finance/trade-baba-180800941.html\",\"provider\":{\"name\":\"CNBC Videos\"}}]};(function() {    var ReactContainerId = document.getElementById(\"td-applet-sidekick-tv_container\");    if (backfillSidekickTV) {         sidekickTVBackFillHandler();    } else if (ReactContainerId){        React && React.renderComponent(React.DOM.div({className: \"yom-app ReactYomApp \", id: \"applet_sidekick_tv\"},             SidekickTV(sidekickTVSettings)), ReactContainerId);    }})();function sidekickTVBackFillHandler() {    if (!YMedia || !YMedia.Global) {        console.log(\"SIDEKICK-TV-APPLET: YMedia not ready\");        return;    }    YMedia.Global.on(\"sidekicktv:backfill\", function () {        sidekickTVBackFill();    });};function sidekickTVBackFill() {    console.log(\"SIDEKICK-TV-APPLET: start backfill\");    YMedia.Global.fire(\"rapid-tracker:event\", {        mod_id: \"sidekicktv\",        data: {            name: \"secview\",            keys: {                sec: \"stv\",                slk: \"start\"            }        }    });    var ReactContainerId = document.getElementById(\"td-applet-sidekick-tv_container\");    if (ReactContainerId && sidekickTVSettings) {        sidekickTVSettings.autoplay = true;        YMedia.Global.fire(\"rapid-tracker:event\", {            mod_id: \"sidekicktv\",            data: {                name: \"secview\",                keys: {                    sec: \"stv\",                    slk: \"render\"                }            }        });        React && React.renderComponent(React.DOM.div({className: \"yom-app ReactYomApp \", id: \"applet_sidekick_tv\"},              SidekickTV(sidekickTVSettings)), ReactContainerId);     }};</script>\r\n",
      "                        <img src=\"http://l.yimg.com/os/mit/media/m/base/images/transparent-649ba6f.png\" width=\"55\" height=\"55\" style=\"background-image:url('http://l3.yimg.com/bt/api/res/1.2/9hFoWSjvd7cY7SKYQhbQ5w--/YXBwaWQ9eW5ld3NfbGVnbztmaT1maWxsO2g9NTU7cT0xMDA7dz01NQ--/https://api.tumblr.com/v2/blog/skrisiloff.tumblr.com/avatar/512');\" class=\"lzbg\">                    </div>\r\n",
      "                        <img src=\"http://l.yimg.com/os/mit/media/m/base/images/transparent-649ba6f.png\" width=\"55\" height=\"55\" style=\"background-image:url('http://l3.yimg.com/bt/api/res/1.2/AtGglKu3wxAoUHIf2ewIYw--/YXBwaWQ9eW5ld3NfbGVnbztmaT1maWxsO2g9NTU7cT0xMDA7dz01NQ--/https://api.tumblr.com/v2/blog/bidnessetcnews.tumblr.com/avatar/512');\" class=\"lzbg\">                    </div>\r\n",
      "                        <img src=\"http://l.yimg.com/os/mit/media/m/base/images/transparent-649ba6f.png\" width=\"55\" height=\"55\" style=\"background-image:url('http://l3.yimg.com/bt/api/res/1.2/f_6EAzr7CYQEhaZ6r4Am9Q--/YXBwaWQ9eW5ld3NfbGVnbztmaT1maWxsO2g9NTU7cT0xMDA7dz01NQ--/https://api.tumblr.com/v2/blog/cfainstitute.tumblr.com/avatar/512');\" class=\"lzbg\">                    </div>\r\n",
      "                        <img src=\"http://l.yimg.com/os/mit/media/m/base/images/transparent-649ba6f.png\" width=\"55\" height=\"55\" style=\"background-image:url('http://l3.yimg.com/bt/api/res/1.2/AtGglKu3wxAoUHIf2ewIYw--/YXBwaWQ9eW5ld3NfbGVnbztmaT1maWxsO2g9NTU7cT0xMDA7dz01NQ--/https://api.tumblr.com/v2/blog/bidnessetcnews.tumblr.com/avatar/512');\" class=\"lzbg\">                    </div>\r\n",
      "                        <img src=\"http://l.yimg.com/os/mit/media/m/base/images/transparent-649ba6f.png\" width=\"55\" height=\"55\" style=\"background-image:url('http://l3.yimg.com/bt/api/res/1.2/f_6EAzr7CYQEhaZ6r4Am9Q--/YXBwaWQ9eW5ld3NfbGVnbztmaT1maWxsO2g9NTU7cT0xMDA7dz01NQ--/https://api.tumblr.com/v2/blog/cfainstitute.tumblr.com/avatar/512');\" class=\"lzbg\">                    </div>\r\n",
      "<script id=\"td-ads-prefetched-content\" type=\"text/plain\">{\"prefetchAd\":{\"5417818\":[{\"ad_feedback_beacon\":\"https://us.af.beap.bc.yahoo.com/af?bv=1.0.0&bs=(15n5iqh4r(gid$556b7d0c-22ab-11e6-9974-008cfacc449c-7f66bf032700,st$1464202994951000,li$0,cr$31073100172,dmn$c31073100172,srv$3,exp$1464210194951000,ct$27,v$1.0,adv$1133569,pbid$1,seid$5417818))&r=1464202994951&al=$(AD_FEEDBACK)\",\"clickUrl\":\"https://beap.gemini.yahoo.com/mbclk?bv=1.0.0&es=55xcm8MGIS8ScYwCXkCbWuWdzi4VBe2HLKxIqBGmN7tNUl2qOUxRrHZS8_CYBKnW2jwVw1MzpPdAxdX5873pZwTdkTYd4wQYLwDKE2fW_0qYfXSB5rnailW.TCrwGF75hF8P5NJJBRmBiEdSjB2LdTNLbNemyjLXh_hThR88JiGHCBoXGO_Q2ZdHxM9zaVhZavjCeE_9UeLeK89iiNYgdiMgX6_sKdIhcd4elAjmVTRe5KKmEcYmbWyHTfNE4Ihg6ZJGpxg5ZJaAzkcxNKjhGd6K0dXOmAnoQUkX9Tri6QZgWfDMtZwszReuppUVJOR0B91VpfaWIMza79ylDbDsTgY0pUrsQrRx90RKPTLl3b.ZTH3yErHWMgU5KWgJqEcP_eY8TRfFJ82WKs82mOg_4Jsra9QK9vscYLJwV_Pg8M_geYOqhD_rbdbLwdDOTlIVVclEwtrsx.xhLSQtPZslD3d3v17uOfwayN_hwcQEz0xuNubgdOs3phijUPhmnnlJql_uuf5tNeNOMuSk5Jxu4MzOyNYHUr7ZL15AL1L6kLvCs4aCwY4-%26lp=\",\"headline\":\"Ultimate Chicken Pot Pie\",\"image\":\"http://l.yimg.com/av/curveball/ads/pr/RESIZE/82x82/ce89fbdb42505b1c58ae2896c78f090b.jpeg\",\"imprTrackingUrl\":\"https://secure-gl.imrworldwide.com/cgi-bin/m?ci=yahoo-ca&at=view&rt=banner&st=image&ca=yahoo_campbells_soup&cr=site_served&pc=native&ce=yahoo&r=1464202994\",\"imprTrackingUrls\":[\"https://secure-gl.imrworldwide.com/cgi-bin/m?ci=yahoo-ca&at=view&rt=banner&st=image&ca=yahoo_campbells_soup&cr=site_served&pc=native&ce=yahoo&r=1464202994\"],\"landingUrl\":\"https://bs.serving-sys.com/BurstingPipe/adServer.bs?cn=tf&c=20&mc=click&pli=15322862&PluID=0&ord=${CACHEBUSTER}\",\"secHqImage\":\"http://l2.yimg.com/bt/api/res/1.2/ZP2Unrbajnb2xI4wxdFb2Q--/YXBwaWQ9eW5ld3M7dz0zMDA7aD0xNTY7Zmk9ZmlsbA--/https://s.yimg.com/av/moneyball/ads/1443641800102-3247.jpg.cf.jpg\",\"secImage\":\"https://s.yimg.com/av/curveball/ads/pr/RESIZE/82x82/ce89fbdb42505b1c58ae2896c78f090b.jpeg\",\"source\":\"Campbell's Kitchen\",\"summary\":\"Using products like canned soup, cooked chicken, frozen veggies and refrigerated pie crusts make this comfort food classic a cinch to prepare.\",\"beacon\":\"https://beap.gemini.yahoo.com/mbcsc?bv=1.0.0&es=nQKmBcoGIS8OKNkm3ibWswP7ZQwkI7EguIdB2uWR6Kv6CXoOIMmgHaElCSzOoGFSuxdqSIzFpf5.rXOkUVciMm9KgU.TcKvSPuoBgRKVh2OVN2LoSUrfsYHXa4nCngSZnd5T2X2VhB4RCCglneqAAxBBtvtmlaGifppZwBK5PkJ_.RsDsfzPx6Zmlhf3B5911Iv6Y.SgPF9ohRGn1tK_ryQCMg4vwCzDsUYLmVCwWjLX6x3abVG4uxHKou_RQCtwbUwICkV2b2UI1JtwakjjBLIDMJ2aidNQSDbAxptzQbUDM0J_WUmqMNoipARmV1NjKy_RXbrOK968JfbDg.uJtDmwldJ9z9fFlZRmzJbrlBEtB5diPpy3N35q4sk1ex3IXg--&ap=$(AD_POSN)\"},{\"ad_feedback_beacon\":\"https://us.af.beap.bc.yahoo.com/af?bv=1.0.0&bs=(15r5bgb3t(gid$556b7d0c-22ab-11e6-9974-008cfacc449c-7f66bf032700,st$1464202994951000,li$0,cr$29545368647,dmn$identityguard.com,srv$3,exp$1464210194951000,ct$27,v$1.0,adv$924082,pbid$1,seid$5417818))&r=1464202994951&al=$(AD_FEEDBACK)\",\"clickUrl\":\"https://beap.gemini.yahoo.com/mbclk?bv=1.0.0&es=QryybDMGIS_1CzvXpQuuSx8HfgzRYMGX3tmEFJ3DYCUFhKCpc9pqt3.ALvIEi4fwvW_8G7YIur_Wpx8q6BMIAEl1FTlbn2mzxa6lE.zoPKfQG3LV2K7J99.eAzYHYSrwg_TBRjr5_7SnbuUP9To8.Rq5TBQg37XHpZV3t.zWyCqutj.RTt0Xv1CRBjp3RtpZT1bZEDjn2xxSoMFTNj5qma9agRdg0FiVGflZNvmBEhYiYhxbGwA._d00VrrUqfJFzpxA2G3Ipd1IjgjDdEWF984U2kqUQqGWb4nTzw08kQxsoZfiWtZgKRqJa4Jvm1THVxwT8lp9AOrgwj3PBk50EhOImn7uVfTecAL3TsH3waj.W8nhfdCELreOO.Xw5XllMUO6e3w9EUZ.l0xH_ScdPbmM3_vb9GdAM2vxyliSDtcFu3YvdbuuKW7JbkzJc5rKx_4Vkxy4opJ_BIcU4LArw2tIlVKLGh_kzZiEM6smUWIwwL1f7WtsDJOXRCJpp7ua6dptGAIS3InOyESrQHritoqnbvIUuZ98fU_qoBnVilvNw8bglPqI9GgLGfNf00a1SslsHRGydk9HS7lXLeV.sOUuPobP30qbKnBEGM1k6r8_YV2h0Rx3dGKCDOhv1IIBsD7jjP4lMaYsJYT8snPxWOn1YSkjOHz7%26lp=\",\"headline\":\"For Less Than the Cost of a Hamburger Meal\",\"image\":\"http://l.yimg.com/av/curveball/ads/pr/RESIZE/82x82/68b939026f5b693e563e655275f0bf15.jpeg\",\"imprTrackingUrl\":\"https://290-img.c3tag.com/v.gif?cid=290&c3ch=Display&c3nid=YDNStream&creative=Hamburger&placement=Identity_Theft\",\"imprTrackingUrls\":[\"https://290-img.c3tag.com/v.gif?cid=290&c3ch=Display&c3nid=YDNStream&creative=Hamburger&placement=Identity_Theft\"],\"landingUrl\":\"http://affiliate.idgtracker.com/rd/r.php?sid=925&pub=300061&mktp=YDN&c1=Identity_Theft&c2=Credit9-2014&c3=Hamburger&c3ch=Display&c3nid=YDNStream&c3placement=Identity_Theft&c3creative=Hamburger\",\"secHqImage\":\"http://l2.yimg.com/bt/api/res/1.2/VtnHCG0s4Ahu.nsoQu9JZg--/YXBwaWQ9eW5ld3M7dz0zMDA7aD0xNTY7Zmk9ZmlsbA--/https://s.yimg.com/av/moneyball/ads/1412961122235-9270.jpg.cf.jpg\",\"secImage\":\"https://s.yimg.com/av/curveball/ads/pr/RESIZE/82x82/68b939026f5b693e563e655275f0bf15.jpeg\",\"source\":\"IdentityGuard\",\"summary\":\"Get Identity Protection - includes 3-Bureau Credit Monitoring, Lost Wallet Protection, and much more! Get tips on protecting your identity and credit.\",\"beacon\":\"https://beap.gemini.yahoo.com/mbcsc?bv=1.0.0&es=HR6QeTkGIS8_GHmPsTm3hT6GUuKli9JeKViT3phDEGEUFFkM6URRexkxcz_RwLMOx43xOF4RZm0zWnGkyCl.bnNU1ayvnWr4w4ILe8oVtCu.RwyOzIuACqCYmXeY_6eTSy5DUbry7oHw1ygkwhTKXGpscRwLqea__PcEu_tG40v7btWchUFfg4tUAD1iWnBk21Aso4y3D5XEDgSbijOOw_K3zeqRHOpxn3GCeL7Jjuv9MMh7X9fYQqUkx2.LQ0cxOb1WMXguHHThpiDa.xHyT982rMGIHniTXNo_apKtpuatFYDbvQjkFWdVfqnGwJy3L39PiX3CszkYV1HqS7XW0JJ3oajFnCH2_JHE2lEu7H11xRDC.ZDYd56c645BDg--&ap=$(AD_POSN)\"},{\"ad_feedback_beacon\":\"https://us.af.beap.bc.yahoo.com/af?bv=1.0.0&bs=(15ls4236p(gid$556b7d0c-22ab-11e6-9974-008cfacc449c-7f66bf032700,st$1464202994951000,li$0,cr$32044459520,dmn$smmirk.com,srv$3,exp$1464210194951000,ct$27,v$1.0,adv$1106530,pbid$1,seid$5417818))&r=1464202994951&al=$(AD_FEEDBACK)\",\"clickUrl\":\"https://beap.gemini.yahoo.com/mbclk?bv=1.0.0&es=yJRbBhwGIS8NUcNRsmtHO3SzSXS3CB5vgYB1Z5U_634hq82tohSNhQXknhLNYL0fWAqJaNoqgasqt3wvktl_fnPN76fPJ1h6lEVjYPP8ZytZRpsdWRThhR5ecZc9WXf1s4lT7Yce0V2jPLKeej1dYP0UTY29LT6zyvhTwHjjoxSmz3OoqO8sMYT0Rjy.eWuNU5Nj2WqR568buq.TzpnJQvAhby2AeiD6PemfXqyqOVF9yb7qUxGrSqaGrWJaBD309hDzVKxSItaaknLnTJkRCkVdxtHB5_aAT3HRSJJY8fWGYar3CalWFOcLFfnvBC.D28.EsuGIX9pPftQEnAnA1GEir_fqJezn63cdKw7iioZJ75Z2.7631ixeoplp2w0AbsVSNUP.UU3LaIkF1OnbH67c89eA8SI1__imACdbUKTUPwgWyEZPCKPGaYtl8Ifwrv5q9mOpeybuFv8wXrLyYvgGczUMhw9U7av9hegsiUOCFAYLCXKFRUiLnkZv9.h8YTFEVtNb7_hHogFoCN.DKl4Xnht7FewKE__UIk_HzR6GI7LM%26lp=\",\"headline\":\"23 Photos That Almost Broke The Internet\",\"image\":\"http://l.yimg.com/av/curveball/ads/pr/RESIZE/82x82/490df77a276ccb3c7315a5e65c4527b4.jpeg\",\"landingUrl\":\"http://smmirk.com/funny-viral-photos.html?utm_source=Yahoo&utm_medium=cpc&utm_campaign=YahooFunnyViralPhotosUSA\",\"secHqImage\":\"http://l3.yimg.com/bt/api/res/1.2/T1q32naG0Ozplz_4XXPVVg--/YXBwaWQ9eW5ld3M7dz0zMDA7aD0xNTY7Zmk9ZmlsbA--/https://s.yimg.com/av/moneyball/ads/1463419822161-6993.jpg.cf.jpg\",\"secImage\":\"https://s.yimg.com/av/curveball/ads/pr/RESIZE/82x82/490df77a276ccb3c7315a5e65c4527b4.jpeg\",\"source\":\"smmirk\",\"summary\":\"These 23 photos went so viral that they crashed servers and websites.\",\"beacon\":\"https://beap.gemini.yahoo.com/mbcsc?bv=1.0.0&es=tObYROcGIS9U_WFstMXtxJ_d3hUZzniLPp2rs28Z67lGzeiOOr6D9wjg4TQlVAAEe2diTywyCdQA9DdEFiJivO5MVG_B_0.c1mgEyE9Z3C0y5KTcR6kQX6InYYyo4gwZs1UwYm.w6t38Ea7cQ5wwxTmhc3csZEBz55V8rL4UF1kfJ7QQ9Il58lfZEyWLdhVmJViT1frB1dCJ2PRicXrVNbXtKMna3iNP3C_qMjTAypuxmGZWznZ9Dk3sIJGy8hYBV9yhbj3tVNjOVyypDORILG8XAz.O79XREypD1jqEcCqqZ3O7vZ5HpsH6TyZMl1I3L.62B1n3BV2k_PdP_gxhaT.4G2AJPL0TVL1qcMRsJl7OMNGbPWwnxXGMv1Fo0_lhSBQK&ap=$(AD_POSN)\"},{\"ad_feedback_beacon\":\"https://us.af.beap.bc.yahoo.com/af?bv=1.0.0&bs=(15kbgpmlp(gid$556b7d0c-22ab-11e6-9974-008cfacc449c-7f66bf032700,st$1464202994951000,li$0,cr$31079621807,dmn$c31079621807,srv$3,exp$1464210194951000,ct$27,v$1.0,adv$1848,pbid$1,seid$5417818))&r=1464202994951&al=$(AD_FEEDBACK)\",\"clickUrl\":\"https://beap.gemini.yahoo.com/mbclk?bv=1.0.0&es=.kkfb1UGIS_owkVg1IQ1EDPDLL4R1YgtYlkz6HVLYfIrQUQZFqju46_7gihe2NZEFtHlgPYX9IcfeMin.2.Dt_Qcn6CGEegCIF8OTuNW0bEx2xbOibOaU7xvAND1JQy0dXFUOoDvHyq7z_0rB8ocvopc0DI_gQ2OfD92P6ixKUw2WEJt85V2UOs7xYON3pLAmTo_UabTrbMlhmibVEoNWi1816Sv3zFpolaBJjOCXoDns9wJlQyJWSh3n5biWl5z3_V_WA5NI6ILb.I3nTzxuj.PiHgvWt5GBLGlse8dYTypsge7E.46bQGqi2cazxwfFLCUylvx5Jk6tYA0rMMWNVBkTv1dhCHQBRTrZH0rjF0V89p_VOtvY0vgLYgNBO3k8YNUGAfvMs8RcVXXCjYiYNnlc9O_Pc_pjzcUBQCG9ahpu5LdHV_tkevzid9hCzR8LNF8K9fX6OQpRnoPSPRAfzRFOZ25w4D_CuBOjWC.NyPxS7sbrXhgyTzKpkEx.iFqJGkUekxJEcZ.WJ38NEfhfIHW4CODCMulERm8uCb7V_BjjvTKyBuignNUDaQPBVhrAcgORG_dFWy0F9EN90FJiidGgx2BNN9INO1KyM7KLM9WjzJ9DNTSk6g3iLxU0QlnT1kDAiEQ0hoVi8sUyl3LI1RPy3kze3F5Kfwl9RxdTO4hNR3J94Icb9rUGmzgIlvyEZJvwgbOFzceIr4sKMd6ot3_qzn98Tc_LtAM2IaKFxrJ20K02K_eEiW283uA5.wXnacgZYkMGu0xeVXlXCJpri3iGKGvJyRN75LTh56IHyhuCi67wW5yrS9kiuZtFcq7VEhAPa.JD.Q42UKTdWlU0gpBUFfGmxXWR9AZowLX_m.dOc9pbKb_a43tngAnWX3VOn.142dWqyGZkxWu_Ke47dlNiyVPeQSGtshMFsg.xoWWpzTy_cgbzuLclEyEAZ6gM2zShkxY0EPqVGoK87aoSOV5.WFvvKyWESCh6eAvsVWz3it9uPkOr8nfoxhR7mBLrP1R_NA-%26lp=\",\"headline\":\"The Newly Refined 2016 Mazda CX-5\",\"image\":\"http://l2.yimg.com/av/moneyball/ads/-1422671471-9187.jpg\",\"landingUrl\":\"http://6238.xg4ken.com/media/redir.php?prof=465&camp=2958&affcode=cr43&k_inner_url_encoded=1&cid=31079621807|42446|&mType=&queryStr=&networkType=n&kdv=&url[]=http%3A%2F%2Fwww.mazdausa.com%2FMusaWeb%2FdisplayPage.action%3FpageParameter%3DmodelsMain%26vehicleCode%3DCX5%26semid%3D465-609-2958-42446-31079621807%26providertag%3DMazdaSEM%26servicetag%3D465-609-2958-42446-31079621807%26t%3D1%26k_clickid%3D_kenshoo_clickid_\",\"secHqImage\":\"http://l3.yimg.com/bt/api/res/1.2/CO9_MxySnnwnLG59h4tTGQ--/YXBwaWQ9eW5ld3M7dz0zMDA7aD0xNTY7Zmk9ZmlsbA--/https://s.yimg.com/av/moneyball/ads/1422664362610-682.jpg.cf.jpg\",\"secImage\":\"https://s.yimg.com/av/moneyball/ads/-1422671471-9187.jpg\",\"source\":\"Mazda USA\",\"summary\":\"Watch Mazda's Penn & Teller commercial. You won't believe what you see!\",\"beacon\":\"https://beap.gemini.yahoo.com/mbcsc?bv=1.0.0&es=6LzJzkwGIS8qVK969rg0TFfb3Xs6uOS4salTW4HbAcuOBG4j.TfapAUa67_IIQ8CYFAsdjWwUPj.go4LHEutc3CMpogdq9yeJReLJCkDWJIyRuYml3RdMT6xUpY.K0v8LJW_6l__x2qguNvhTwb0ty1U.AgWiK8d34DY4hJC3lGoDBfuARFONrj_z5hCLOBm8KKEjlSl81siqK3F_Zd3OYYGrVTS01qd9jFABC1gAL_wwCAO6r3XO7W8Vx88ddbfZuOFJy4Q7740dkNspkk3jdZSapkLwEWkY1UDBwRnkofhyfu3VWlFJmaupOPbXWN9WlsEdNjGTJ7.yuZyB49OjtHtgZHaqejSUwRGpQK9Gmr45Yc5JBj_36T0Gf3vgQ--&ap=$(AD_POSN)\"},{\"ad_feedback_beacon\":\"https://us.af.beap.bc.yahoo.com/af?bv=1.0.0&bs=(15otebl37(gid$556b7d0c-22ab-11e6-9974-008cfacc449c-7f66bf032700,st$1464202994951000,li$0,cr$31523088518,dmn$info.waldenu.edu,srv$3,exp$1464210194951000,ct$27,v$1.0,adv$1169,pbid$1,seid$5417818))&r=1464202994951&al=$(AD_FEEDBACK)\",\"clickUrl\":\"https://beap.gemini.yahoo.com/mbclk?bv=1.0.0&es=O9zQaEQGIS.qTcu_stPMMhfPy5pCVPrwy3r0URcy2BzyJxVz6mQhkIkJHs6ALYqRL.6nRJFYY2pc0J9LpguDMOq7W5OeqTpjKeFgoW7QQfayqARdZ8TVwXBE._TPU_msU5pxQb5Wokarcd3xj8ms0rjlAy7yEH2.nA0RdLKmQzub1SrcySTDaSVhoSAqO2bsVunFwE82jh7OmPuzAoHN8TVH4VbvZCy4k1VJaAQX_Mi2r4VJpP16jSofFdkboFIsmQ9akp0fxlD6q3V5Cd2i_pdOEX7aYNf7ulw5REKZQ3Y0gC.yNiqD94Xy2Rhu1oABKJ79qVqUrBaIBOFnqisqj6gbSYndASydhTRfvNyC.4KnqiE2giBT4cWKUDB0ELeOH7pmtmrLOde2eKhnKXZbuIO5dVS6awYnsZOQ3GzFTFLp0cVgtxXH6ihmX60QZ8P_z0g_gHnxWEQ7rQ7DY4oBvqxmKozHsrR_6IWtQhArjCY5BmBDIzaUsMoAyClIkOk67XADewM91xtWU.CKAZtbToZ8NVV1DrDdLfufsf3FlZTxKYSxz4gVl56d5IkdhkEBUpgWpHCH2fJgoUXhUGxz.YLDu0KadU86NsWiQcAyvXvNbfV8BDdcUyVLoIYqJqzHV.gZc_MoUNKspQBWSWjOwZ.TMwccu0ydnmZgg3t7ni8AsvoaDI4FvYNuvEBSc6Vz5nR2kwl5qWE-%26lp=\",\"headline\":\"Walden University- Doctor of Nursing Practice\",\"image\":\"http://l.yimg.com/av/curveball/ads/pr/RESIZE/82x82/11b4e591312396183bd5476c99cb73cd.jpeg\",\"landingUrl\":\"http://info.waldenu.edu/walden-programs/nursing/doctoral/doctor-of-nursing-practice-d-n-p/?comm_code=4321801&utm_source=Stream_Ads&utm_medium=Display&utm_content=StreamAds_DNP&utm_campaign=Yahoo_Stream_1_6&display=StreamAds_DNP2\",\"secHqImage\":\"http://l.yimg.com/bt/api/res/1.2/hfe9sWAu8QfJroxHX0bfyA--/YXBwaWQ9eW5ld3M7dz0zMDA7aD0xNTY7Zmk9ZmlsbA--/https://s.yimg.com/av/curveball/ads/pr/RESIZE_AND_CROP/1200x627/f93bd3232285f861e96b8bbfe5e55e8d.jpeg.cf.jpg\",\"secImage\":\"https://s.yimg.com/av/curveball/ads/pr/RESIZE/82x82/11b4e591312396183bd5476c99cb73cd.jpeg\",\"source\":\"Walden University\",\"summary\":\"Earn your degree online through Walden's CCNE-accredited nursing program and make a difference in your patients' lives. Request free info today!\",\"beacon\":\"https://beap.gemini.yahoo.com/mbcsc?bv=1.0.0&es=osVQ6wIGIS88dKRh6chiwU9JBLjocPbWuA1.jlSJ7.R49zjQCvmUedG.lVHFZoR4.ORypLguwTivqbpGNUDs_GXIBdlYLmCG8RlCjifVR9DZCeNMBM8AfqkHL9j7Ze5Um91WZb49CkkJq30H.W9Ij8b02vXDNmes8lPacL_n0yxNVGvh8tALXfYpM8kn7nmg0pntS2PkgLLxZqjd6bl5G92vU_zrgOOhOlrDIdLvfT97D7fTamjoV2QI_5cn8vCufMDB2DGbWWcI7m7NcqTP8ktpyfynYlF6N171vd.6hvYVzyFhrVleBpNxBpsA_R4XxMHbneoW1LKmzCSwPCvzs9IIc.WnXs6uTpogDx4VcEiP_An5pY.0P9QveVLLBw--&ap=$(AD_POSN)\"},{\"ad_feedback_beacon\":\"https://us.af.beap.bc.yahoo.com/af?bv=1.0.0&bs=(15ph3koqd(gid$556b7d0c-22ab-11e6-9974-008cfacc449c-7f66bf032700,st$1464202994951000,li$0,cr$31510272995,dmn$gocoastguard.com,srv$3,exp$1464210194951000,ct$27,v$1.0,adv$66158,pbid$1,seid$5417818))&r=1464202994951&al=$(AD_FEEDBACK)\",\"clickUrl\":\"https://beap.gemini.yahoo.com/mbclk?bv=1.0.0&es=w3uGIWAGIS8uXMMcG8KnOAkanoYdUKmz0Jl0KtmgfoHBG5v10RszenhbVxDEYwbWRO8coTWIx4VyGJz7hh1kyTfcx0ix67ru12cRUg0A2W9380jlFr3D9YLBQZmh81ZFhOAoH_.nWEB2RzqsCRy4T962rp3v7WWjd_RHK8RMWH82Zct..59N5oT3E_O1p..dNwq7mSUTYRVcyvQms__IGIl2pVg_s4KxWJgRkoaBzPsNni60AyWqF3N0WlMObNp6EAsJ19_URQ73zw0AxhsILK_LFdyWGwwfgFN1ab507OoRvE398ODAFwbCCd4H_SmGZchu.D3XO2FUjS0JmgKYFuB12Y73Ua6h4iPEKSMtxx.Wt1_UW3qOhF88G3ElevYEhtoHosfNugRXoxIei7gwREUBz8EgmRnrU0xclEqs5ISIO945CXr3utrCdUrzBSC1IJ8zqzTt4FJKex2Z0CmsRZ3BJWbwTQR7OlRH0j2cUVeJryVrGuDMOu9FCjysUPvx9pRC_LCiUVdhA1U-%26lp=\",\"headline\":\"Make a Difference on Land, on Sea, or in the Air\",\"image\":\"http://l.yimg.com/av/curveball/ads/pr/RESIZE/82x82/33e2e7b34af7b22eeb060177e7219838.jpeg\",\"landingUrl\":\"http://www.gocoastguard.com/careers?utm_source=yahoo&utm_medium=cpc&utm_campaign=FY16Gem\",\"secHqImage\":\"http://l3.yimg.com/bt/api/res/1.2/RYSWVN7RwMrkR5I3Cj6OhA--/YXBwaWQ9eW5ld3M7dz0zMDA7aD0xNTY7Zmk9ZmlsbA--/https://s.yimg.com/av/moneyball/ads/1449161278508-9962.jpg.cf.jpg\",\"secImage\":\"https://s.yimg.com/av/curveball/ads/pr/RESIZE/82x82/33e2e7b34af7b22eeb060177e7219838.jpeg\",\"source\":\"United States Coast Guard\",\"summary\":\"The Coast Guard is an elite force that values integrity and rewards excellence. Learn about your career opportunities today.\",\"beacon\":\"https://beap.gemini.yahoo.com/mbcsc?bv=1.0.0&es=Lkr82xoGIS.vlpA1PmrO_Vu5AB.x89gjyvSnVDx1iznmcOzC9oqmTZ11BDk8AGpV08H8nPVwticfpCQ2vHMxNbD3jFHV2oNyNY3pcHKCFqQ_Vp2ORU_GDfL2cPz8DaJWeJG6SkUErl6YKNb4dAmf21ZjToVPF6t04Kk8Kac9h_9bpXNDNsZOLyLodN2dx4r0ygyGPs5OCxP7yVrHlO4sGN4BhyuPVAQPE_A6kEldLhVMOmiJ0HRjFmoM.7pcMRJximeAjAfHCLaTUYtjU07rjy3CwkVebS7CflPN_zPNa.xSOCX1C3JhdME4I.T6cbcyPX2iX3CHX2avBlfgh6k.NzospQ26BEB.eS62AvDhyRerPTibYDr15z.bNfbN153FQw--&ap=$(AD_POSN)\"},{\"ad_feedback_beacon\":\"https://us.af.beap.bc.yahoo.com/af?bv=1.0.0&bs=(15o1350gk(gid$556b7d0c-22ab-11e6-9974-008cfacc449c-7f66bf032700,st$1464202994951000,li$0,cr$31519083609,dmn$howlifeworks.com,srv$3,exp$1464210194951000,ct$27,v$1.0,adv$4474,pbid$1,seid$5417818))&r=1464202994951&al=$(AD_FEEDBACK)\",\"clickUrl\":\"https://beap.gemini.yahoo.com/mbclk?bv=1.0.0&es=lbIO_jIGIS8dlZOHN3SwhRQP8CwgJihS0FwR77cbs.Bi3x4G5LQojWxR11LzNYK_7HCOLK7E0EGFuLeTZbkAUcBoNel7XsPOtqeZLjo7TPius5W3Htfktot6vTPDJ7j0kipB2qB0S8TKcuA.crOF2RFucxbxzOV4aiV2OkMnJG5RRvIV_VhZpELkLDhrCl2Uyf7TKV1_ro1vJsf.BdbFLP9GGGekt0ykHVevdaKLuSp97KFJ7Wt4heW2o9wZPZApOQR8uKQ2bWgPC3Rqe3gedfL0vrPbh8J3nGTdZlxFl31Eo_lspUyZbChJJQ7YPGOtnZaNSJoy9RQqsf2xdzgLXaWtHWMiDNuREZfGxPlo61qM1pJ8G7.wFIZKuaDdw_KqXZEDC0zhGTCjI121FVdxAehgkH99HE7Z_D5.Ywh7wf0vTPuG9.muJhDuZ1bWFgEYIUM1PGILX8qVQuNaKCN7NIucRhCf5TOgK3r7EQ--%26lp=\",\"headline\":\"How to Read Your Child's Deleted iPhone Texts\",\"image\":\"http://l.yimg.com/av/curveball/ads/pr/RESIZE/82x82/251db9c77d188aaf27938004da453a00.jpeg\",\"landingUrl\":\"http://www.howlifeworks.com/a/a?AG_ID=1846&cid=8088cg7_chome\",\"secHqImage\":\"http://l1.yimg.com/bt/api/res/1.2/TCLx0var4IKJY_jxoljqZg--/YXBwaWQ9eW5ld3M7dz0zMDA7aD0xNTY7Zmk9ZmlsbA--/https://s.yimg.com/av/moneyball/ads/1448044468995-5428.jpg.cf.jpg\",\"secImage\":\"https://s.yimg.com/av/curveball/ads/pr/RESIZE/82x82/251db9c77d188aaf27938004da453a00.jpeg\",\"source\":\"TeenSafe\",\"summary\":\"New service makes it easy to monitor your child’s texts (even deleted ones) as well as activity on Snapchat, Instagram and WhatsApp.\",\"beacon\":\"https://beap.gemini.yahoo.com/mbcsc?bv=1.0.0&es=2DorILUGIS8nYBUZUEhMwqZodpq278EuTYmde4i2z_.w8mzQ05nBiVy5AIzzkw1_3xRWmmUH81PTE4Q1gN8qWU4N.KplTUk0TSixw7bVV2vXUmavl1bOW_aRDcOJB7H9okoKnTkELRCMwvLGqN9MConT4V0Pf01vfBdGo2882yYoJBSeiy99atp.yXbooiJeHJ67875HHiiTWj3KjP8YCG6ltXmJaROl2vnMqWW4sm3.sQgGpy66S7sNvrG2CYp5qQbmML5qKPx8gaV_bTrKjJAOqOfyt_5ANVcAu8EVN5GW8WCZdqTiceUvPdcpJB3n4f.IG1MrpceVlinoa8T3xSFUcQ58qvIuCSVnh6nMvBTw4B5ac5Jy.iEOlAhtJwaI&ap=$(AD_POSN)\"},{\"ad_feedback_beacon\":\"https://us.af.beap.bc.yahoo.com/af?bv=1.0.0&bs=(15h9ta1tf(gid$556b7d0c-22ab-11e6-9974-008cfacc449c-7f66bf032700,st$1464202994951000,li$0,cr$31995906158,dmn$match.com,srv$3,exp$1464210194951000,ct$27,v$1.0,adv$9617,pbid$1,seid$5417818))&r=1464202994951&al=$(AD_FEEDBACK)\",\"clickUrl\":\"https://beap.gemini.yahoo.com/mbclk?bv=1.0.0&es=nc.UTH0GIS9D1ATPDtfM76dIcWlVUJgNKQFbKrl1hTdl7ZXcxRL58TrWkzceb9LTcXoRaZ9QrWQANG2x_gRl0AX1Us7vASYd6ptxZBbmmNHEe22COVepoKPaXOiPcOEIxpdFVvWtQ7BcRCouCAF7Co8BekRGz_8Fp3vciNlACMzZjUGLqdmOGwAxrqQ4t_eOTD28H3PjZPswDbqoWcpTTplRO1Ibcq5iwTlmXIjoAb5lr8A_f3vg9QmVqKfJRYFOVqarVhcLTc8XvFLfZkJjGwQxCNtY6k7.RUzji8f5mKZYAfRVkjeL4.nsdc610a4Jb8xbVyLv9TZazubAe_SoAjImKUFx96giXGEuqQxPAN10IxuqZhL1XDsZc2v_FBuYeyy8rLrTT0sztdQQTVrNpF5srvSzQ.49od_W.f94p6qZ75MZ9BXCk0P73xpQ9hpyxUgYnoFG7Pg4v8JvuZEh_u21.NoFNuje7rrkS57ACYEKsVBz_nHopRX0wBZXldj9R7HkSnLztT7eQoViowse4XFTEm9lGBU_Wyjfcn5XvD7D9ycK4.VzkyOlHzq4FJxwIjpxKQVETYZs%26lp=\",\"headline\":\"Click here to view singles near you!\",\"image\":\"http://l.yimg.com/av/curveball/ads/pr/RESIZE/82x82/56d4d0b45bc0fccd9bdaa146f70a863a.jpeg\",\"landingUrl\":\"http://www.match.com/cpx/en-us/landing/display/84123/?gc=1&tr=2&trackingID=528240&bannerID=9009568&CPV2=31995906158\",\"secHqImage\":\"http://l3.yimg.com/bt/api/res/1.2/S.VkShAULNSSv3DMy2buJA--/YXBwaWQ9eW5ld3M7dz0zMDA7aD0xNTY7Zmk9ZmlsbA--/https://s.yimg.com/av/moneyball/ads/1460502076278-4269.jpg.cf.jpg\",\"secImage\":\"https://s.yimg.com/av/curveball/ads/pr/RESIZE/82x82/56d4d0b45bc0fccd9bdaa146f70a863a.jpeg\",\"source\":\"Match\",\"summary\":\"The dating site that knows your type. Browse profiles and pics for free today!\",\"beacon\":\"https://beap.gemini.yahoo.com/mbcsc?bv=1.0.0&es=MchyzZEGIS_HUyUd3cS3Cymgt3gK0EJiwg5R76XkddWbNzGK915IVRHG9T.0bf2kQudUj3Y3ONYofDDjIudAUFia6Ijn3WdSUQfysfGiYkhmPuQm7GoYyXhbEgAMkMYVG9zewU52.bPJGQ_HPgqLpOjul7wnYvereniwUr6lHCereeILikhQYbswXG.PV2Ix7RDjON4JHku9i8nRBGpm9bJZIUGLHDmiULx298rPicPa9cXJzSru1W1.uUGnW6Z3SHaEyghKvQRF6LKcxubiLDuMhcPsSAHtg5XRBb6dD6KfTXhmi2.V00pztnyWspuDi90rE9NsBUOpJudwWO4cyECO2T..MSxxD4o1wZLrmdk8kOZsp0PStGHwcXsMH4UsClj4Xe9U5pM-&ap=$(AD_POSN)\"},{\"ad_feedback_beacon\":\"https://us.af.beap.bc.yahoo.com/af?bv=1.0.0&bs=(15p8vrnd2(gid$556b7d0c-22ab-11e6-9974-008cfacc449c-7f66bf032700,st$1464202994951000,li$0,cr$32041437018,dmn$thedailyiq.com,srv$3,exp$1464210194951000,ct$27,v$1.0,adv$1398894,pbid$1,seid$5417818))&r=1464202994951&al=$(AD_FEEDBACK)\",\"clickUrl\":\"https://beap.gemini.yahoo.com/mbclk?bv=1.0.0&es=HI18kvkGIS8fuCicLidSVfFs86s4qSRyXVTKQcTV09YzZ.mht6YhICbDXbaQgeI8riY9IDWtx93HBcqsIV6GRat5s8PSy.fNK51HBhawC6tfysR9J8HmRCW19jB8qvFNZtFndICV7l9TbbbYA2pWukCkxTvOwKMdVsmeUFAyUbMqPgtpWLpKFSS9GTvutxqTIcOtbLPBKSFhe8O.da4Gapg9DpMOKWhnkSwKTndEpvHojdayioCxd6qV5bbXdpNY9J_de7fmp0zA.3LQwq3r5f_TksXfDIOhsyOKLCRa7Q3jmkz6.3zV.6FdEmi3QU4Ib1ypTPgTBRg6.pBVy9mZu4u.T12soTJ1OxZqS9bqMlKOtuzlh9H5ouLf.8qA8nG8nqS2rKd.3KrZA0SfWqFC6uwXdT4etPUuVt3Izq4Z68_0RDiAJavMExiqnyd1Ebb6uHnP3GdVb9UUKqDDVEXkBzGTPj3dr7iLNQhdAQYGGoTe3HdG_ATgq9O5BwBT.UEWjv11kuBcJUSKkkKA0pF7cvrLEj5IaZnYE3o3kEe2YzCv29kgp5k-%26lp=\",\"headline\":\"25 Scandals That Rocked ESPN\",\"image\":\"http://l.yimg.com/av/curveball/ads/pr/RESIZE/82x82/8e445ee04287abec9c0ca1854471aa71.jpeg\",\"landingUrl\":\"http://www.thedailyiq.com/the-15-scandals-that-rocked-espn?utm_source=yahoo&utm_medium=referral&utm_campaign=espn\",\"secHqImage\":\"http://l2.yimg.com/bt/api/res/1.2/BaD3NkmhES0hzsC3e4zTcA--/YXBwaWQ9eW5ld3M7dz0zMDA7aD0xNTY7Zmk9ZmlsbA--/https://s.yimg.com/av/moneyball/ads/1463071693763-4761.jpg.cf.jpg\",\"secImage\":\"https://s.yimg.com/av/curveball/ads/pr/RESIZE/82x82/8e445ee04287abec9c0ca1854471aa71.jpeg\",\"source\":\"TheDailyIQ\",\"summary\":\"ESPN is no stranger to controversy. Take a behind the scenes look at some of the allegations and scandals that rocked the sports titan.\",\"beacon\":\"https://beap.gemini.yahoo.com/mbcsc?bv=1.0.0&es=vQ1sY9oGIS.LrL85ld_5l9VoxY8sckBGzeIow931YcAbq7dPDfozFhJ10KWpmo93wYB1FkUb.rPy0S8cP6MOJHK9_BoiWw91CBEPo0WLTNF5GsNx7g0KF3tZ_aDctzUKhtcSnmPn4tqnGrosI7z5.d6I0qu43XopeDYLNVK1TJqPah9D6EpLR126TiQu7ZxfaUfIsq3aVaT5kONIjpy5VItobM7c6pK56dlg0.Ca3o.Lav5mrzNEDJ6xDln6mvHOfzKSMFvACsSTRt1tHYE9S6wOys0Syh66qi7s2kbqSQqkSrGN3ea8AIoEZdJ8i0Of_.EjvPBRQu3t.v6PoV6miqkZfSgm2Cfj6dp6HGmETaUabfKtYDj2vMoMAhug5d_ks9D2&ap=$(AD_POSN)\"},{\"ad_feedback_beacon\":\"https://us.af.beap.bc.yahoo.com/af?bv=1.0.0&bs=(15qbotuon(gid$556b7d0c-22ab-11e6-9974-008cfacc449c-7f66bf032700,st$1464202994951000,li$0,cr$32032356587,dmn$assets.udate.com,srv$3,exp$1464210194951000,ct$27,v$1.0,adv$923878,pbid$1,seid$5417818))&r=1464202994951&al=$(AD_FEEDBACK)\",\"clickUrl\":\"https://beap.gemini.yahoo.com/mbclk?bv=1.0.0&es=XGlYH2kGIS9lQPLXMdxzuilfFOE8NkHhuRy0zixf0bwKB8YW1lljowYMKuzgj1mehEY0LtdjZWagKByBRJA8seRit4aKeRWTj.REYjo_AX_9CUX7FORL5KUa7xi5aKZYWe60KAkJ6zcFRkPlRD8Ji4D3PITT8tMtr669BX7H5vY7cW94ykem3qNn40jduBsE.7CAi3dTTLJvXLnz.dmkI.9IX5NCOpdP.UPJapZyWbrVEQH4Fx_raF_1.OHLCvWWAuE6Py9a1hbfjKsKqCO0KddxMDvAX3mMKImkVO7yKJeeJzzdY_6xQ0jVlrhLObGg0Rla6XbJuRzSJWgJ0wOxFgy5Od.r_kMx_Rmf0V1SqTDJxR.uIZ8ykhXSJ_R5_wbvZ83wEYTsr.PeL2zGFStXOFn_YV.inGn3nXDvJNuYWxvayXurCtX2kp9US9330WxJM5BLZpy3LYytNNoMgE6xwPSQNANzdL8NSWOMUEClVNSW54nw2hdBMgq2z06RQZSxf6nVaUAsn00onWZqjXdom46i%26lp=\",\"headline\":\"Meet your girlfriend\",\"image\":\"http://l.yimg.com/av/curveball/ads/pr/RESIZE/82x82/c66d74952d269bcfa0dc6ba2af906352.jpeg\",\"landingUrl\":\"http://www.udate.com?cht=0&tr=2&gc=1&trackingid=529770&bannerid=9059272&cpv2=32032356587\",\"secHqImage\":\"http://l3.yimg.com/bt/api/res/1.2/wTFaiqD80jQ.REJnWHyB6w--/YXBwaWQ9eW5ld3M7dz0zMDA7aD0xNTY7Zmk9ZmlsbA--/https://s.yimg.com/av/moneyball/ads/1462298938609-9171.jpg.cf.jpg\",\"secImage\":\"https://s.yimg.com/av/curveball/ads/pr/RESIZE/82x82/c66d74952d269bcfa0dc6ba2af906352.jpeg\",\"source\":\"uDate\",\"summary\":\"No games. Just real women looking for a mature guy.  Find the right dating site for you!\",\"beacon\":\"https://beap.gemini.yahoo.com/mbcsc?bv=1.0.0&es=4zA5vFEGIS_brSGL8qxC5HXnT.BODwBbI3Jmtx.h89hqBa1lUT.edmqfK8oS_hpn2EIDeimaJ.FyLxjhgo3TlZUvTeIoBtdU2F8lPL12eFjMc_dQn0SOKrxf27o2itdh9CqsZMR64goDGIoPYdaNnW8fP_.B1ZUZzIzsNEnynykZGmdrLVAKv7EPvUTWYcFUAq70Gg2Q1XIH2IOTLWr2Adr.lpSQ5dg5xeNDkhA.9Z2uibxqJKmgaJcl8dp0E2oxRn5LK6BHWB7kaxjfIV9CJZl0cQvf1_6Ol8YvEd0crD6HH2m2U9eKy6zyiniLiDE1Plmec6z.KGFyIXlpMMN3jqEhoSxWCTieEmFOAoWBytF_S.xXhh_uArJYKLy.2CyogFg-&ap=$(AD_POSN)\"},{\"ad_feedback_beacon\":\"https://us.af.beap.bc.yahoo.com/af?bv=1.0.0&bs=(15rqr05ud(gid$556b7d0c-22ab-11e6-9974-008cfacc449c-7f66bf032700,st$1464202994951000,li$0,cr$31755583741,dmn$smarttrends.club,srv$3,exp$1464210194951000,ct$27,v$1.0,adv$1088337,pbid$1,seid$5417818))&r=1464202994951&al=$(AD_FEEDBACK)\",\"clickUrl\":\"https://beap.gemini.yahoo.com/mbclk?bv=1.0.0&es=muU65BAGIS8WVBFI6x.LaFdiCb2Z3nkGS9qYmQW6762tiafblpDI5Z1yxxCF9xhOZWVrpcfPez23Tn49wqYAiyMKfy2AheqWRXWLeGv6eXs419ah7Ia0i9KM90JIk814OdLwCbwh1PiYXI11.rA4WT4tbQiDDrUfoAuvbQAeO4w_nuE1ycmgej76N01cZvXaLGC_n5m8SoSFVLY5Ocj73wxKeD1ExjMFmGOlrakuffykrV.Z7b.18omEMd7VZt4snl1V.NJ8MQQAGFSxfeZzzUbYzhuGxHACqii22Idg1K_xidZZ39_cy9sZKOAjWnRGpAnfRr7JBOYykQjWCv19oMxFfvAZ15.WWzNYsxJn.qnMExCrnLlWk51ZGyBnTe4dktQJtOuTowdvAFSA_IsNsbjY8o1PBIO15Ge5aNGYU0GHjJqchmwqagAw3QP1KDdt8h1GFlDkflXS6T.ppvkwItkVCSPetxSzuq_pHX3TpziBOUJV3hO24j5ELkgDwBKeg.HZO81oDv2EQR10U3CIaQYdBOHDwEj_1sEBSVqVoYasMB9W.x1HKT5GzTrkqEB1NC3RhCUYPEugEpya1Hdn296IP3xK3iwCRNFanaiUCUjXC.i.j6w_WdeqGn9WmqWcRdzbPVfvu_TNuPcbq4s_pnZC1jKfXiTX.0DWNodgaIDU88l7k5oz4DWifi25SQRJO9vxuejAQEA3vSx7K2QomxY3XHzTEm3_%26lp=\",\"headline\":\"Finally, a snoring cure that beats CPAP Masks\",\"image\":\"http://l.yimg.com/av/curveball/ads/pr/RESIZE/82x82/481106db6834b14ed6b2b2a9dc5a827a.jpeg\",\"landingUrl\":\"http://www.smarttrends.club/es/158/entry2/An-instant-snoring-fix-that-beats-CPAP-masks?utm_source=Yahoo&utm_medium=cpc&utm_campaign=YCM_55_BF3_2016-01-03-smarttrends_An_instant_snoring_fix_that_beats_CPAP_masks_v5&utm_content=31755583741\",\"secHqImage\":\"http://l3.yimg.com/bt/api/res/1.2/lqqX6DaUpvbIyFoJvRB6OA--/YXBwaWQ9eW5ld3M7dz0zMDA7aD0xNTY7Zmk9ZmlsbA--/http://l.yimg.com/av/curveball/ads/pr/RESIZE_AND_CROP/1200x627/1e5d4e92f1d808c3be2d15a5524785f0.jpeg.cf.jpg\",\"secImage\":\"https://s.yimg.com/av/curveball/ads/pr/RESIZE/82x82/481106db6834b14ed6b2b2a9dc5a827a.jpeg\",\"source\":\"Medical Supply Hotline\",\"summary\":\"Snoring causes headaches, high blood pressure and fatigue. Each leads to something more serious. Here's a simple SOLUTION to a very serious problem.\",\"beacon\":\"https://beap.gemini.yahoo.com/mbcsc?bv=1.0.0&es=O4J64mcGIS8roRUr4qEReKN_SbWruWxdln5yhYAvVW5wfKNq.0GMiGXvUULMYC6W3B8ZGUwrPkZMolA1FE.clLEZrho0u6r8oQFVFCzyO86e0ymYH4XS5ZBTulnTe2HH2f.AWAtqC1Pl9L97g9tPbE_B.mIf_kkDSxpeBUgC0xv34lEHEO_MGRIyyIJz0wgOu7VXEXXovSqU6SGVbTQlTpKta6V0_yavCmD7OEMCcJAI4jfxtxPA0li61si4QvTW5V9geWEM.aoCD.uaVd5dwCQCD6Ri7OPmVIMdkQh49wmAEOGYw8TzpHWKV21kEIKCjbGkvAqxg8eEN4HQhdcG4pT8s03jgz7U63jvFJg_J3znCEot467uYoXO88B6tlV3RlNpPNE-&ap=$(AD_POSN)\"},{\"ad_feedback_beacon\":\"https://us.af.beap.bc.yahoo.com/af?bv=1.0.0&bs=(166cbhjs5(gid$556b7d0c-22ab-11e6-9974-008cfacc449c-7f66bf032700,st$1464202994951000,li$0,cr$31984173149,dmn$neuropathytreatmentgroup.com,srv$3,exp$1464210194951000,ct$27,v$1.0,adv$971973,pbid$1,seid$5417818))&r=1464202994951&al=$(AD_FEEDBACK)\",\"clickUrl\":\"https://beap.gemini.yahoo.com/mbclk?bv=1.0.0&es=fPUybb0GIS9F73cOliyIFj60ShkDO5Bwa4miASn0QIuLq4VwKmQWSmKwJKat7z6IwBpJ9EU2jR3_LGjKm18eckWYrMyljGATOL2RIgc9majOjda7tUHvWe_l2VU8oZeOy2HR2VLUBBp8TR4SqpzviIB7nTRbPZGS1_6.FJvVy_2Wz747soUedoSQevRP9DbWIedfg4gXuurxJJUzeCCUUmNADcEpNFkLbHvcrTewBJamWbH2jTG2THvyiS9qtbrwvJgjftD4sZJLtz_KB_913K.JmLCaZYpAJ48bOeirNs0sPKxb9CEBhUaOTNTq0fknB6M8wIxUwbYq8UeAw3BW1jtS8RFYtmlXyjIveBoDn773MVwt3CxXn_BvQQuu_Npm3cgwBKaME.llr6oCjbhDa1OC4YS1NvBLvWtTqlysgwBPC0kkf7BNB7rMCsF_JiArw8QuxsC_vwO0uJRaos0A5EGnN0ro7YlI2EKfxc4Tu4Clj2Dt7KB7JbV54b_g2g--%26lp=\",\"headline\":\"Eat This Every Day To Fight Nerve Pain\",\"image\":\"http://l.yimg.com/av/curveball/ads/pr/RESIZE/82x82/996fde3acede8275950ca6e136b9cc23.jpeg\",\"landingUrl\":\"http://www.neuropathytreatmentgroup.com/aff?w=78w&p=kim&a=Yahoo_Liver_Golf\",\"secHqImage\":\"http://l1.yimg.com/bt/api/res/1.2/Hjw8_TTqHti8Cmq6RolZUw--/YXBwaWQ9eW5ld3M7dz0zMDA7aD0xNTY7Zmk9ZmlsbA--/https://s.yimg.com/av/moneyball/ads/1459981897568-2099.jpg.cf.jpg\",\"secImage\":\"https://s.yimg.com/av/curveball/ads/pr/RESIZE/82x82/996fde3acede8275950ca6e136b9cc23.jpeg\",\"source\":\"Neuropathytreatmentgroup.com\",\"summary\":\"How can a few plates of this drastically improve nerve health? Find out what your body needs to fight never damage.\",\"beacon\":\"https://beap.gemini.yahoo.com/mbcsc?bv=1.0.0&es=KW6DTzMGIS_0UlwFDbo_h9xMWFq.SKMVDdchS5x8oHg5bb5AZXaQsFeREoMYigQ00pwNIxrEHzKBr9ScstYa1YOur8HIKuxBMzXGncIznwzfNOhUqMw5JVkue1HEjbjUX13JPLKiGiAGpMLK2ZfufL6sls_8xwLpB7DXcKmmI6uljUhJgCZsslCv6UzJf44w5NV7JTCU_A_6mSt1mLaDCOhnAgAZ9ttAKmxgVOhMRLpTOokrf3P0lc972fYji4qorA1Wm3kQJR.iOxYMQiVt4VbpGruMMmoOVjTFrxtzVgMBeg2STnBBh6Klg.pyQDzAW3R_qprkyhKDgErKjrEI9uvW_2q5rIz9QLExp_qmgKr1O8XWTQCeGt4lhXLUC4C8yMI-&ap=$(AD_POSN)\"},{\"ad_feedback_beacon\":\"https://us.af.beap.bc.yahoo.com/af?bv=1.0.0&bs=(15mp3u3s5(gid$556b7d0c-22ab-11e6-9974-008cfacc449c-7f66bf032700,st$1464202994951000,li$0,cr$32002915852,dmn$activly.com,srv$3,exp$1464210194951000,ct$27,v$1.0,adv$1134391,pbid$1,seid$5417818))&r=1464202994951&al=$(AD_FEEDBACK)\",\"clickUrl\":\"https://beap.gemini.yahoo.com/mbclk?bv=1.0.0&es=m06T5coGIS9qGewShbKjWbXE78pGvQ25nGyvDWZIKFxdKZVqann14f3WhcsPZQtrV22N17fdXXblv8GrBItO0fNulbP92iCx_TLDC1HEaKNG0EZ.bWnu203V7K6YLzsWX8Minmbj7t2a6lZd8GHZWG8UfHvKnPJv2LIHTzGHHvLHxMzfczcwJVwa17ZNCYEGjUGnZ13h5NU7rPM5HfmloUIbxTWSDnDOItWZnnK7cqgyQjRE3ugCc4lu_9n_903tKyk4S6EpdHze5_yggJO.Zs2vTyAjlQFf_5IEvaBwzUygfSkom3lqpDspTIOQkOev18RNAhLw5uZZHfxUooRIom8RUSiCYiwNzNyA_8.29ZRxiJtdaiIgMtMbnJLbMNajDQGEfw.iu21Mxl9vYnRZfHC.j3bHGD.4Qv7_xRTI2_6M39h3uCuu116RUrjkMj9zO4EOGUdB_zuMkY2hZ7LnNo4VDc4R6N5ieOLk9WBua7MvGC1BGgqgS3khWcyz.gPU4rNzD0PYicezeIBNmaGPb7g0jRXPAmVKrcxGm_83mt7hjJ_mLNvOi4_2nGtJ8WBZFLJoZbeAw1ZYUqSYUw51nkjVmlV3FVEtXacILsWUPu8dxsY5yg--%26lp=\",\"headline\":\"10 Cleaning Hacks that Will Clean Your Car Better\",\"image\":\"http://l.yimg.com/av/curveball/ads/pr/RESIZE/82x82/633a2ff4a077395a092ff79635a96dfd.jpeg\",\"landingUrl\":\"http://activly.com/10-cleaning-hacks-that-will-clean-your-car-better-and-faster-than-you-ever-have/?utm_source=yahoo&utm_medium=cpc&utm_campaign=88carcleantips1\",\"secHqImage\":\"http://l3.yimg.com/bt/api/res/1.2/Y4zEKiqZviyOsoVRgvZ3aA--/YXBwaWQ9eW5ld3M7dz0zMDA7aD0xNTY7Zmk9ZmlsbA--/http://l.yimg.com/av/curveball/ads/pr/RESIZE_AND_CROP/1200x627/1dd2ce47420855493624de7dd6d6069b.jpeg.cf.jpg\",\"secImage\":\"https://s.yimg.com/av/curveball/ads/pr/RESIZE/82x82/633a2ff4a077395a092ff79635a96dfd.jpeg\",\"source\":\"Activly\",\"summary\":\"Add any of these cleaning tricks into your car cleaning routine and watch how jealous your friends get.\",\"beacon\":\"https://beap.gemini.yahoo.com/mbcsc?bv=1.0.0&es=jojTN4cGIS.Pv2SPYkvsruy89pazdak_rwkMkWfj7qX1NaJ_wnQdyFHb.DhxTWYGcZcqqiw7Sh0hVFfGpQJuE4eNpw0d3KRx05rQxZRk9c7s9FlMWguIuH7qy_9LuFqagjDrazgWTlazYTXH9B8Z4KTwHuPcaZ5W.tR2yKYFyMlmyGKndjiJlvBZKcrSdLVpCeYyLzU5E3L3kW4Xms7UReAI4l4i5OVzAtEXGh9QGV7CpNLmNc75gHQKX1Iy5lU6ultlwwXoqHXJn0dA0IvkEbsBlnvm7rNePcfAo9oD7ygWzh3PIAytwFQbFU9nOHBErNVsF6K4jg9OV31Ej88oDDZGmxaEWOTiSbxG1NCPZhE86.SQfbI8ri3wPbkK_Ye7XZYI&ap=$(AD_POSN)\"},{\"ad_feedback_beacon\":\"https://us.af.beap.bc.yahoo.com/af?bv=1.0.0&bs=(15qn4asuk(gid$556b7d0c-22ab-11e6-9974-008cfacc449c-7f66bf032700,st$1464202994951000,li$0,cr$32088052909,dmn$bitethebuzz.com,srv$3,exp$1464210194951000,ct$27,v$1.0,adv$1025415,pbid$1,seid$5417818))&r=1464202994951&al=$(AD_FEEDBACK)\",\"clickUrl\":\"https://beap.gemini.yahoo.com/mbclk?bv=1.0.0&es=0Lhj89oGIS8WdSU33QXEBZehqCAHowG2X0cWrFJf9._TK5GapWlkDCxgG0sQ9_a52u12GY_n3V_uBmovNASRwjCkAMyTD_VPIk2ewgGHbi1PbMvq2EjnBj0OE50f3akCXj95_aliNUDqU2GQv3KCuwUF61CI8Eytv.ln1P20tWYbr..m02NjvBpeh2MOWV0IqQuc_PoriHRp.7wwhl4d3.mONfSQk_xqHePiorTj7BPadktq3USyfXMyfOHE0d6FLaTx6ePZc435CuxLkwpqFkQwPx8CIz.UUvGMiGRKra680Agr7Jozvd7JXc21QA65GbTdNUDwAfOf75HdWHIZZhR_Qio79cGBSqwBKaLZbdpp2M75jgqBrq32JNhVh1cdxxNohaUDIkg0P5VGJGtiStInXJ4jLcLG6nFcLFqNFwh8G7yUY5zbRaZq2oizkOtdReicypaFbCf1Huaa4PW2CQkTM1wQNanMYHkLMtLui61lC_NGEvzIbm6bEfSdVvntjLyrkLA7MR9YmWCxgtLEhLxdpHPF9XZB86VlUuFF_ycQ1oipYNb_IrQN.HsJslZQaLsaiEQYmrJz2KVR3GuCmFOgqc_DwQBDH32LG.LdC8zLkuV61JeqSu2QT_7GrbkQACTLeKdqgcKkJPIHRSIGNRQfJiE4%26lp=\",\"headline\":\"20 Embarrassing Cheerleader Photos\",\"image\":\"http://l.yimg.com/av/curveball/ads/pr/RESIZE/82x82/91ac8ee0906886c1407c453f85f7e7de.jpeg\",\"landingUrl\":\"http://www.bitethebuzz.com/cheerleader-fails-that-will-make-you-laugh/?utm_source=gemini&utm_medium=paid&utm_campaign=mob_bitethebuzz_gm_us_cheerleader_fails_35_64_female&utm_content=ad008\",\"secHqImage\":\"http://l3.yimg.com/bt/api/res/1.2/at0c.LR2SkczC34tnAHhPg--/YXBwaWQ9eW5ld3M7dz0zMDA7aD0xNTY7Zmk9ZmlsbA--/https://s.yimg.com/av/moneyball/ads/1463391062790-2040.jpg.cf.jpg\",\"secImage\":\"https://s.yimg.com/av/curveball/ads/pr/RESIZE/82x82/91ac8ee0906886c1407c453f85f7e7de.jpeg\",\"source\":\"BiteTheBuzz\",\"summary\":\"See the most hilarious cheerleader fails.\",\"beacon\":\"https://beap.gemini.yahoo.com/mbcsc?bv=1.0.0&es=dstoXG0GIS_nlaTS0oLTydF37OFJa84_1SdGYFclTHNARamDlQoMnKR_n053XDbQJuK9WWLEJoeXjCnK6bzYunuLx6246zIlEEV8CGNLeuVhPDIBByA7KTL8fFce7CLZ2ghkv8dLO1MzXnbmiXx1pH2krUU4FkErD0Fc7I6A0kH7GkTupezj3zXHN7S0lhXqNpmSEoHMpBgHS.QUSBYtEeoSCYDguAipQjJxiekZ7ZWclV7G2pv3S7SzfyEDvkMR2nktuMOnGnHII4zPpgxYP9rNn_axh2tzxuZyJ_NvvdKILVzsvwNp2RWsDCaaCzNSr1ioWjOVochYmjOF9kbAk29LbIZShvmexgi1EJ06zUyntbIHS8ys1..epLfGO6BDt3kF6DY-&ap=$(AD_POSN)\"},{\"ad_feedback_beacon\":\"https://us.af.beap.bc.yahoo.com/af?bv=1.0.0&bs=(15q2src32(gid$556b7d0c-22ab-11e6-9974-008cfacc449c-7f66bf032700,st$1464202994951000,li$0,cr$32038994698,dmn$fitstylelife.com,srv$3,exp$1464210194951000,ct$27,v$1.0,adv$959186,pbid$1,seid$5417818))&r=1464202994951&al=$(AD_FEEDBACK)\",\"clickUrl\":\"https://beap.gemini.yahoo.com/mbclk?bv=1.0.0&es=Ywvwyc8GIS_oq6JGt4rDL7AZEbAhVYrtHp4BqMvyJxkyCQ.RpG5T6ZIQxMcQLsLpiBC00iY9krWS6wpU05U8aF3Rn.4FgVx76TI_KWgyMRImMFPoyTS6tr5uCX7ZPThnpdY2fAlnNtlE6m6e0iuVZgEockvfr.WdXSur77q15roDz7ztK4yeylw74rwkUZmJ241IM_IVdkxTHSYBD4hbvbPFE_E52FoLroDaUdtP4jClOefDerQRrYnJ63hzC4sItgoanxX2w_qGSWpZ1IbY4xvbfvZ_aTsTTwCJu7jEnFgBnnRvI3yM3mLXxVN8NP7o6TVdjM.wrVnmE8H_SF0lWXXZDXJjPUUThewI43gao3317Hm_fvtsu2YKcbJRsz_SqxGSajD9WsfLzYvZbEA_cDMkawaKVBlCnJDSQEiZJd5fRYE3fYNMyGoUjDA5yZhy8yMwJFXvKKRfhuXMd619R.PG92w1lOodcRMpy0dfYgyPo_Fog8QZl4iVqUiDLirdGameL8nnwSMGd4M01kmEvO40FD6XfkCkdnMH6XMIz3om.JR_oxNvvkHWljec1LJ.dkdl0xbZbgPuJYitF4yABLG1U_dZfnbmsGtcEebtBT5pOPOchQh61y1TiSMHMaK9iTHJHqq1ZaKBX7r3SDhyShhwj0QYLuGS2yl_RzGPpsWhgWmEsOs0z_W40CZTpAKWsehcdlrV_Z9Cpit5tnPlCXG.Q77LC8qZ62_G4Y1R8floS2ZZ8SHt%26lp=\",\"headline\":\"15 Celebs Who Paid The Price For Tax Evasion\",\"image\":\"http://l.yimg.com/av/curveball/ads/pr/RESIZE/82x82/91961d37e313c0ad9426f273c600fa30.jpeg\",\"landingUrl\":\"http://www.fitstylelife.com/2016/04/celebrities-busted-tax-evasion/?utm_source=yahoo&utm_medium=FitStyleLife%2Ecom%2DDesktop%2DUS%2DTAX&utm_content=TaxYahoo2&utm_campaign=15%20Celebs%20Who%20Paid%20The%20Price%20For%20Tax%20Evasion\",\"secHqImage\":\"http://l2.yimg.com/bt/api/res/1.2/CkbwFQPGiwY4f8OcHYz0Zw--/YXBwaWQ9eW5ld3M7dz0zMDA7aD0xNTY7Zmk9ZmlsbA--/https://s.yimg.com/av/moneyball/ads/1462831711981-6967.jpg.cf.jpg\",\"secImage\":\"https://s.yimg.com/av/curveball/ads/pr/RESIZE/82x82/91961d37e313c0ad9426f273c600fa30.jpeg\",\"source\":\"FitStyleLife\",\"summary\":\"Celebrities make a ton of money but it doesn’t necessarily endear them to tax laws…\",\"beacon\":\"https://beap.gemini.yahoo.com/mbcsc?bv=1.0.0&es=xfd6ysUGIS.S6pBvzgf7SgemVenfZT_8Gp1LupJZjaV54fyXQj6MIXQ5K9K0Usk4Ex93vlIL1txKGEyUKE0b.W7C8Fjd5CxVx6womtD.c_ZPYtRnPEbOcFvTuJtEj0ZGvRAqlPRkVE7bC1rX4M2OuWNB8YfO0gpphFWgrDWmaNlG5v.sRUiTuSwd4wkyCIeshG97_.TyA4VM7lOT2rGoKmQFEmxqrVqeyAJ02gOorsZ7aNU2NvRUjf7TgA8q9IiwxXeur3Xzb01eN3Afs.tGDGSaOZOiFpegSQ96Pulwtk8tFNgYjMaUId88ziUSeH6D6FhB6L2xfcQ9MDntzYd8Is4CRDgSGO71AvlBiNBNE_UVdy4ZoUlbAvg.wSLBeha281m3kw--&ap=$(AD_POSN)\"}]},\"spaceid\":\"1183300002\",\"enableClientSideFetch\":\"0\",\"enableBeaconComputation\":\"1\",\"mock\":\"\", \"enableAdFeedback\":\"1\", \"enableAdBeaconTracking\":\"1\", \"enableImprBeaconFirst\":\"1\"}</script>\r\n",
      "<script>YMedia.use(\"media-rmp\", \"media-viewport-loader\", function(Y){Y.Global.Media.ViewportLoader.addContainers([{selector: \"#mediatrendingtickersgs_container\",callback: function (node) {Y.Media.RMP.load({\"srcNode\":\"#mediatrendingtickersgs_container\",\"continueOnError\":true,\"response\":\"\\r\\n--dali-response-split-5745f6f30ef84\\r\\nContent-Type: text\\/plain; charset=utf-8\\r\\nRMP-Embed-Location: top\\r\\n\\r\\n<link rel=\\\"stylesheet\\\" type=\\\"text\\/css\\\" href=\\\"http:\\/\\/l.yimg.com\\/zz\\/combo?os\\/mit\\/media\\/m\\/finance\\/common-gs-min-12d09cb.css&os\\/mit\\/media\\/m\\/finance\\/tabbed-quotes-headlines-desktop-min-ff22359.css&os\\/mit\\/media\\/m\\/finance\\/follow-quote-min-9f13aa8.css\\\" \\/>\\r\\n--dali-response-split-5745f6f30ef84\\r\\nContent-Type: text\\/plain; charset=utf-8\\r\\nRMP-Embed-Location: bottom\\r\\n\\r\\n<script language=\\\"javascript\\\">\\n        \\nYUI.YUICfg = {\\\"gallery\\\":\\\"yui:gallery-2011.04.20-13-04\\\",\\\"groups\\\":{\\\"group01c9d8dea06e05460a64eed4dadd622b6\\\":{\\\"base\\\":\\\"http:\\\\\\/\\\\\\/l.yimg.com\\\\\\/\\\",\\\"comboBase\\\":\\\"http:\\\\\\/\\\\\\/l.yimg.com\\\\\\/zz\\\\\\/combo?\\\",\\\"modules\\\":{\\\"media-tabbed-quotes-headlines\\\":{\\\"path\\\":\\\"os\\\\\\/mit\\\\\\/media\\\\\\/m\\\\\\/finance\\\\\\/tabbed-quotes-headlines-min-8a3c5b2.js\\\"},\\\"media-follow-quote\\\":{\\\"path\\\":\\\"os\\\\\\/mit\\\\\\/media\\\\\\/m\\\\\\/finance\\\\\\/follow-quote-min-8559ad0.js\\\"}},\\\"combine\\\":true,\\\"filter\\\":\\\"min\\\",\\\"root\\\":\\\"\\\\\\/\\\"}},\\\"combine\\\":true,\\\"allowRollup\\\":true,\\\"comboBase\\\":\\\"http:\\\\\\/\\\\\\/l.yimg.com\\\\\\/zz\\\\\\/combo?\\\",\\\"fetchCSS\\\":false,\\\"maxURLLength\\\":\\\"2000\\\"}\\nYUI.YUICfg.root='yui:'+YUI.version+'\\/build\\/';\\nYMedia.applyConfig(YUI.YUICfg);\\nYUI.Env[YUI.version].base = 'http:\\/\\/l.yimg.com\\/';\\nYUI.Env[YUI.version].comboBase = 'http:\\/\\/l.yimg.com\\/zz\\/combo?';\\nYUI.Env[YUI.version].root = 'yui:'+YUI.version+'\\/build\\/';\\nYMedia.use(\\\"media-tabbed-quotes-headlines\\\",function(Y){\\n          \\n           \\n});\\n\\nYUI.Env.add(window, \\\"load\\\", function(){\\nYMedia.use(\\\"tabview\\\",\\\"io\\\",\\\"media-follow-quote\\\",\\\"media-static-chart\\\",\\\"media-follow-quote\\\",function(Y){\\n          \\n    Y.later(10, this, function() {var conf = {\\n\\t\\t\\t    mod_id:\\\"mediatrendingtickersgs\\\",\\n\\t\\t\\t    tabview:\\\"yom-tabview\\\",\\n\\t\\t\\t    space_id:\\\"\\\",\\n\\t\\t\\t    rapid_enabled:\\\"1\\\",\\n\\t\\t\\t    rapid_pos:\\\"a3\\\",\\n\\t\\t\\t    enable_svg_charts: 0\\n\\t\\t\\t}\\n\\t\\t\\t \\n\\t\\t\\t new Y.Media.TabbedQuotesHeadlines(conf);\\n    });\\n    Y.later(10, this, function() {Y.namespace(\\\"Media\\\").foldGroup.addTrigger('#mediatrendingtickersgs', 'click');\\n    });\\n    Y.later(10, this, function() {(function(){ var rapid = YMedia.rapid; if (rapid) { rapid.addModules(\\\"mediatrendingtickersgs\\\"); } }());\\n    });\\n});\\n});\\n        \\n        <\\/script>\\r\\n--dali-response-split-5745f6f30ef84\\r\\nContent-Type: text\\/html; charset=utf-8\\r\\n\\r\\n<div id=\\\"mediatrendingtickersgs\\\" class=\\\"yom-mod yom-app yfi-tt-rq np fz-xs fin-glass-disabled\\\" data-ylk=\\\"sec:trd-tkr;t1:a3;t2:trd-tkr;\\\">\\n  <div class=\\\"hd\\\">\\n      <h2 class='Fw-200 Fz-l M-0 position_info'>Trending Tickers\\n      <\\/h2><div id=\\\"info_icon\\\">\\n             <span id=\\\"info_symbol\\\" class=\\\"Cur-p\\\">i<\\/span>\\n             <div class=\\\"pointer\\\">\\n             <div class=\\\"info_textarea\\\"> Trending Tickers features significant U.S. stocks showing the most dramatic increase in user interest in Yahoo Finance in the previous hour over historic norms. The list is limited to those equities which trade at least 100,000 shares on an average day and have a market cap of more than $300 million. <\\/div>\\n             <\\/div>\\n         <\\/div>\\n      <div class=\\\"Fl-end Cf Ov-h\\\">\\n        <div id=\\\"yom-ad-SPON\\\" class=\\\"yom-ad yom-ad-SPON\\\"><center><div id=\\\"yom-ad-SPON-iframe\\\" class=\\\"yom-ad\\\">                <script>\\n                    YMedia.use('node-base','media-ad-controller', function(Y){\\n                        Y.log(\\\"Loaded client-fectch scripts for nested ads in async modules\\\");\\n\\n                        var adConfig = [],\\n                            fetchAd = function(adConfig) {\\n                                Y.log(\\\"Doing client-fectch for nested ads in async modules\\\");\\n                                if (DARLA && DARLA.inProgress()) {\\n                                    Y.log('DARLA is in Progress, wait 1s for fetching: ' + adConfig);\\n                                    setTimeout(function(){fetchAd(adConfig);}, 1000);\\n                                }\\n                                else {\\n                                    Y.log('DARLA is not in Progress, start fectching: ' + adConfig);\\n                                    if (Y.Media.adController._isDarlaReady()) {\\n                                        Y.Media.adController.fetchAd(adConfig);\\n                                    }\\n                                    else {\\n                                        Y.Global.on('darla:ready', function() {\\n                                            if (DARLA && DARLA.inProgress()){\\n                                                Y.log('DARLA is in Progress, wait 1s for fetching: ' + adConfig);\\n                                                setTimeout(function(){fetchAd(adConfig);}, 1000);\\n                                            }\\n                                            else{\\n                                                Y.Media.adController.fetchAd(adConfig);\\n                                            }\\n                                        });\\n                                    }\\n                                }\\n                            };\\n                       adConfig.push('SPON');\\n                       setTimeout(function(){fetchAd(adConfig);}, 1000);\\n                    });\\n                <\\/script><\\/div><\\/center><\\/div>\\n      <\\/div>\\n  <\\/div>\\n      <ul class=\\\"items\\\">\\n            <li class=\\\"item Mb-10 D-b Ov-h Mt-14 Pos-r\\\">\\n                <a class=\\\"thumb-link Fl-start D-b Mend-8 Pos-r Bgc-n\\\" href=\\\"\\/video\\/microsoft-cuts-1850-jobs-hp-152457025.html\\\">\\n\\t\\t    <img src=\\\"http:\\/\\/l3.yimg.com\\/bt\\/api\\/res\\/1.2\\/LMluzSsHtCB0BeWDNwmepA--\\/YXBwaWQ9eW5ld3NfbGVnbztmaT1maWxsO2g9ODQ7cHlvZmY9MDtxPTc1O3c9MTQ5\\/https:\\/\\/media.zenfs.com\\/creatr-images\\/GLB\\/2016-05-25\\/cee02260-228c-11e6-9d91-4d4059e8f34d_d5ef6a063b2d0552d6ccf1ddd58b1a3f.png.cf.jpg\\\" width=\\\"149\\\" height=\\\"84\\\">                    <span class=\\\"overlay-icon icon-white-play-xsmall Pos-a\\\"><\\/span>\\n                <\\/a>\\n                <div class=\\\"listing-title\\\">\\n                    <a href=\\\"\\/video\\/microsoft-cuts-1850-jobs-hp-152457025.html\\\">Microsoft cuts 1850 jobs; HP Enterprise spin off; Whole&nbsp;&hellip;<\\/a>\\n                    <div class=\\\"Fz-xs Pt-4 C-f Fw-400\\\">Yahoo Finance Video<\\/div>\\n                    <div class=\\\"Fz-xs Pt-4 Fw-400 published_date\\\">3 hrs ago<\\/div>\\n                <\\/div>\\n            <\\/li> \\n      <\\/ul>\\n        <div class='Fw-300 Fz-m Mt-8'>Also Trending<\\/div>\\n  <div class=\\\"mod-bd yom-tabview\\\">\\n        <ul role=\\\"tablist\\\" class=\\\"yui3-tabview-list\\\">\\n            <li role=\\\"presentation\\\" data-tabid=\\\"CSC\\\" data-ticker=\\\"CSC\\\" class=\\\"yui3-tab yui3-widget yui3-tab-selected neg-text-color\\\" >\\n                <div class=\\\"yui3-tab-label\\\">\\n                <div class=\\\"yom-tab-content Fz-s\\\">\\n                    <a class=\\\"yom-tab-details NoTextDecoration rapid-nf\\\" target=\\\"#mediatrendingtickersgs-CSC\\\" data-ylk=\\\"sec:trd-tkr;t1:a3;t2:trd-tkr;elmt:tab;elm:itm;itc:1;rspns:nav;\\\"  data-ylk = \\\"sec:trd-tkr;t1:a3;t2:trd-tkr;\\\">\\n                    <span  class=\\\"symbol\\\" title=\\\"Computer Sciences Corporation\\\" >CSC<\\/span><span  id=\\\"yfs_l84_csc\\\" class=\\\"price l84\\\" title=\\\"\\\" >49.68<\\/span><span  id=\\\"yfs_pp0_csc\\\" class=\\\"pct_change pp0 yfi-price-change-green\\\" title=\\\"\\\" >+39.35%<\\/span>\\n                    <\\/a>\\n                <\\/div>\\n                <\\/div>\\n            <\\/li>\\n            <li role=\\\"presentation\\\" data-tabid=\\\"GE\\\" data-ticker=\\\"GE\\\" class=\\\"yui3-tab yui3-widget  base-txt-color\\\" >\\n                <div class=\\\"yui3-tab-label\\\">\\n                <div class=\\\"yom-tab-content Fz-s\\\">\\n                    <a class=\\\"yom-tab-details NoTextDecoration rapid-nf\\\" target=\\\"#mediatrendingtickersgs-GE\\\" data-ylk=\\\"sec:trd-tkr;t1:a3;t2:trd-tkr;elmt:tab;elm:itm;itc:1;rspns:nav;\\\"  data-ylk = \\\"sec:trd-tkr;t1:a3;t2:trd-tkr;\\\">\\n                    <span  class=\\\"symbol\\\" title=\\\"General Electric Company\\\" >GE<\\/span><span  id=\\\"yfs_l84_ge\\\" class=\\\"price l84\\\" title=\\\"\\\" >30.145<\\/span><span  id=\\\"yfs_pp0_ge\\\" class=\\\"pct_change pp0 yfi-price-change-green\\\" title=\\\"\\\" >+0.99%<\\/span>\\n                    <\\/a>\\n                <\\/div>\\n                <\\/div>\\n            <\\/li>\\n            <li role=\\\"presentation\\\" data-tabid=\\\"MON\\\" data-ticker=\\\"MON\\\" class=\\\"yui3-tab yui3-widget  base-txt-color\\\" >\\n                <div class=\\\"yui3-tab-label\\\">\\n                <div class=\\\"yom-tab-content Fz-s\\\">\\n                    <a class=\\\"yom-tab-details NoTextDecoration rapid-nf\\\" target=\\\"#mediatrendingtickersgs-MON\\\" data-ylk=\\\"sec:trd-tkr;t1:a3;t2:trd-tkr;elmt:tab;elm:itm;itc:1;rspns:nav;\\\"  data-ylk = \\\"sec:trd-tkr;t1:a3;t2:trd-tkr;\\\">\\n                    <span  class=\\\"symbol\\\" title=\\\"Monsanto Company\\\" >MON<\\/span><span  id=\\\"yfs_l84_mon\\\" class=\\\"price l84\\\" title=\\\"\\\" >111.855<\\/span><span  id=\\\"yfs_pp0_mon\\\" class=\\\"pct_change pp0 yfi-price-change-green\\\" title=\\\"\\\" >+2.34%<\\/span>\\n                    <\\/a>\\n                <\\/div>\\n                <\\/div>\\n            <\\/li>\\n        <\\/ul>\\n        <div role=\\\"tabpanels\\\">\\n            <div role=\\\"tabpanel\\\" id=\\\"CSC\\\" class=\\\"yui3-tab-panel yui3-tab-panel-selected\\\">\\n                    <div class=\\\"media-tickers\\\">\\n                        <div class=\\\"media-ticker-details\\\">\\n\\t\\t             <h5 class=\\\"Fz-s quote_name\\\"><a href=\\\"\\/q?s=CSC\\\" symbol=\\\"CSC\\\" title=\\\"Computer Sciences Corporation\\\" data-ylk=\\\"sec:trd-tkr;t1:a3;t2:trd-tkr;elmt:qte;elm:itm;itc:0;rspns:nav;t3:dtl;\\\"  data-ylk=\\\"sec:trd-tkr;t1:a3;t2:trd-tkr;\\\">\\n                           Computer Sciences Corporation<\\/a><\\/h5>\\n                            <div>\\n\\t\\t\\t    <a href=\\\"\\/q?s=CSC\\\" data-ylk=\\\"sec:trd-tkr;t1:a3;t2:trd-tkr;elmt:qte;elm:itm;itc:0;rspns:nav;t3:dtl;\\\"  data-ylk=\\\"sec:trd-tkr;t1:a3;t2:trd-tkr;\\\">\\n            <span  id=\\\"yfs_l84_csc\\\" class=\\\"price l84 Fz-3xl\\\">49.68<\\/span><span  id=\\\"yfs_c63_csc\\\" class=\\\"change c63 yfi-price-change-green Fz-l\\\">+14.03<\\/span><span  id=\\\"yfs_p43_csc\\\" class=\\\"pct_change p43 yfi-price-change-green Fz-l\\\">(+39.35%)<\\/span>\\n\\t\\t\\t    <\\/a>\\n        <\\/div>\\n\\t\\t\\t    <div class=\\\"media-ticker-extra\\\">\\n\\t\\t\\t        <span  class=\\\"exchange\\\">NYSE<\\/span><span  id=\\\"yfs_t53_csc\\\" class=\\\"time Fz-10\\\">3:03 PM EDT<\\/span>\\n\\t\\t\\t    <\\/div>\\n\\t\\t\\t<\\/div>\\n            <a href=\\\"\\/q?s=CSC\\\">\\n                <div class=\\\"media-ticker-chart\\\"><img src=\\\"http:\\/\\/chart.finance.yahoo.com\\/instrument\\/1.0\\/CSC\\/chart;range=1d\\/image;size=274x130?region=US&amp;lang=en-US&amp;scheme=gsbeta\\\" width=\\\"274\\\" height=\\\"130\\\"><\\/div>\\n            <\\/a>\\n             <\\/div>\\n                    <div class=\\\"media-headlines\\\">\\n                            <ul>\\n                                <li  name=\\\"class\\\" value=\\\"Fz-s\\\" >\\n                        \\t                            <a href=\\\"http:\\/\\/us.rd.yahoo.com\\/finance\\/external\\/tsmfe\\/SIG=13kuqqukp\\/*https:\\/\\/www.thestreet.com\\/story\\/13585472\\/1\\/here-s-how-to-trade-7-of-the-market-s-most-active-stocks-right-now.html?puc=yahoo&amp;amp;cm_ven=YAHOO\\\" data-ylk=\\\"sec:trd-tkr;t1:a3;t2:trd-tkr;elmt:ct;elm:itm;itc:0;rspns:nav;t3:ct;cat:CSC;pkgt:2;ct:1;\\\">Here's How to Trade 7 of the Market's Most-Active Stocks Right Now<\\/a>\\n                        \\t    <div class=\\\"attrs\\\"><span  class=\\\"source\\\">TheStreet\\n                                <span class=\\\"D-ib\\\"> <i class='Icon'>&#x71;<\\/i><\\/span>\\n                                <\\/span><span  class=\\\"time\\\">38 mins ago\\n                                <\\/span><\\/div>\\n                        \\t    <\\/li>\\n                                <li  name=\\\"class\\\" value=\\\"Fz-s\\\" >\\n                        \\t                            <a href=\\\"http:\\/\\/finance.yahoo.com\\/news\\/hp-enterprise-units-merger-csc-182201348.html\\\" data-ylk=\\\"sec:trd-tkr;t1:a3;t2:trd-tkr;elmt:ct;elm:itm;itc:0;rspns:nav;t3:ct;cat:CSC;pkgt:2;ct:1;\\\">HP Enterprise unit's merger with CSC no shield from cloudburst<\\/a>\\n                        \\t    <div class=\\\"attrs\\\"><span  class=\\\"source\\\">Reuters\\n                                <\\/span><span  class=\\\"time\\\">41 mins ago\\n                                <\\/span><\\/div>\\n                        \\t    <\\/li>\\n                            <\\/ul>\\n                            <div class=\\\"more-headlines\\\">                        <a href=\\\"\\/q\\/h?s=CSC\\\" data-ylk=\\\"sec:trd-tkr;t1:a3;t2:trd-tkr;elmt:mr;elm:itm;itc:0;rspns:nav;t3:ct;cat:CSC;\\\">More<\\/a><\\/div>\\n                    <\\/div>\\n            <\\/div>\\n            <div role=\\\"tabpanel\\\" id=\\\"GE\\\" class=\\\"yui3-tab-panel \\\">\\n                    <div class=\\\"media-tickers\\\">\\n                        <div class=\\\"media-ticker-details\\\">\\n\\t\\t             <h5 class=\\\"Fz-s quote_name\\\"><a href=\\\"\\/q?s=GE\\\" symbol=\\\"GE\\\" title=\\\"General Electric Company\\\" data-ylk=\\\"sec:trd-tkr;t1:a3;t2:trd-tkr;elmt:qte;elm:itm;itc:0;rspns:nav;t3:dtl;\\\"  data-ylk=\\\"sec:trd-tkr;t1:a3;t2:trd-tkr;\\\">\\n                           General Electric Company<\\/a><\\/h5>\\n                            <div>\\n\\t\\t\\t    <a href=\\\"\\/q?s=GE\\\" data-ylk=\\\"sec:trd-tkr;t1:a3;t2:trd-tkr;elmt:qte;elm:itm;itc:0;rspns:nav;t3:dtl;\\\"  data-ylk=\\\"sec:trd-tkr;t1:a3;t2:trd-tkr;\\\">\\n            <span  id=\\\"yfs_l84_ge\\\" class=\\\"price l84 Fz-3xl\\\">30.145<\\/span><span  id=\\\"yfs_c63_ge\\\" class=\\\"change c63 yfi-price-change-green Fz-l\\\">+0.295<\\/span><span  id=\\\"yfs_p43_ge\\\" class=\\\"pct_change p43 yfi-price-change-green Fz-l\\\">(+0.99%)<\\/span>\\n\\t\\t\\t    <\\/a>\\n        <\\/div>\\n\\t\\t\\t    <div class=\\\"media-ticker-extra\\\">\\n\\t\\t\\t        <span  class=\\\"exchange\\\">NYSE<\\/span><span  id=\\\"yfs_t53_ge\\\" class=\\\"time Fz-10\\\">3:03 PM EDT<\\/span>\\n\\t\\t\\t    <\\/div>\\n\\t\\t\\t<\\/div>\\n            <a href=\\\"\\/q?s=GE\\\">\\n                <div class=\\\"media-ticker-chart\\\"><img src=\\\"http:\\/\\/chart.finance.yahoo.com\\/instrument\\/1.0\\/GE\\/chart;range=1d\\/image;size=274x130?region=US&amp;lang=en-US&amp;scheme=gsbeta\\\" width=\\\"274\\\" height=\\\"130\\\"><\\/div>\\n            <\\/a>\\n             <\\/div>\\n                    <div class=\\\"media-headlines\\\">\\n                    <\\/div>\\n            <\\/div>\\n            <div role=\\\"tabpanel\\\" id=\\\"MON\\\" class=\\\"yui3-tab-panel \\\">\\n                    <div class=\\\"media-tickers\\\">\\n                        <div class=\\\"media-ticker-details\\\">\\n\\t\\t             <h5 class=\\\"Fz-s quote_name\\\"><a href=\\\"\\/q?s=MON\\\" symbol=\\\"MON\\\" title=\\\"Monsanto Company\\\" data-ylk=\\\"sec:trd-tkr;t1:a3;t2:trd-tkr;elmt:qte;elm:itm;itc:0;rspns:nav;t3:dtl;\\\"  data-ylk=\\\"sec:trd-tkr;t1:a3;t2:trd-tkr;\\\">\\n                           Monsanto Company<\\/a><\\/h5>\\n                            <div>\\n\\t\\t\\t    <a href=\\\"\\/q?s=MON\\\" data-ylk=\\\"sec:trd-tkr;t1:a3;t2:trd-tkr;elmt:qte;elm:itm;itc:0;rspns:nav;t3:dtl;\\\"  data-ylk=\\\"sec:trd-tkr;t1:a3;t2:trd-tkr;\\\">\\n            <span  id=\\\"yfs_l84_mon\\\" class=\\\"price l84 Fz-3xl\\\">111.855<\\/span><span  id=\\\"yfs_c63_mon\\\" class=\\\"change c63 yfi-price-change-green Fz-l\\\">+2.555<\\/span><span  id=\\\"yfs_p43_mon\\\" class=\\\"pct_change p43 yfi-price-change-green Fz-l\\\">(+2.34%)<\\/span>\\n\\t\\t\\t    <\\/a>\\n        <\\/div>\\n\\t\\t\\t    <div class=\\\"media-ticker-extra\\\">\\n\\t\\t\\t        <span  class=\\\"exchange\\\">NYSE<\\/span><span  id=\\\"yfs_t53_mon\\\" class=\\\"time Fz-10\\\">3:03 PM EDT<\\/span>\\n\\t\\t\\t    <\\/div>\\n\\t\\t\\t<\\/div>\\n            <a href=\\\"\\/q?s=MON\\\">\\n                <div class=\\\"media-ticker-chart\\\"><img src=\\\"http:\\/\\/chart.finance.yahoo.com\\/instrument\\/1.0\\/MON\\/chart;range=1d\\/image;size=274x130?region=US&amp;lang=en-US&amp;scheme=gsbeta\\\" width=\\\"274\\\" height=\\\"130\\\"><\\/div>\\n            <\\/a>\\n             <\\/div>\\n                    <div class=\\\"media-headlines\\\">\\n                    <\\/div>\\n            <\\/div>\\n         <\\/div>\\n        <script>if(!window.yfs_module_params) {\\n                    yfs_module_params = {\\n                        s : [],\\n                        k : ['c63','l84','p43','t53','t10']\\n                    };\\n                 }\\n                 yfs_module_params.s.push('CSC','GE','MON')<\\/script>\\n  <\\/div>\\n<\\/div>\\n\\r\\n--dali-response-split-5745f6f30ef84--\\r\\n\"});}}]);});</script><!-- fe665.global.media.bf1.yahoo.com uncompressed/chunked Wed May 25 19:03:14 UTC 2016 -->\r\n",
      "YUI.YUICfg = {\"gallery\":\"yui:gallery-2011.04.20-13-04\",\"groups\":{\"group01c9d8dea06e05460a64eed4dadd622b6\":{\"base\":\"http:\\/\\/l.yimg.com\\/\",\"comboBase\":\"http:\\/\\/l.yimg.com\\/zz\\/combo?\",\"modules\":{\"media-content-manager\":{\"path\":\"os\\/mit\\/media\\/p\\/content\\/content-manager-min-c15b49c.js\"},\"media-perf-timeable\":{\"path\":\"os\\/mit\\/media\\/p\\/content\\/perf-timeable-min-3201e29.js\"},\"media-beacon-manager\":{\"path\":\"os\\/mit\\/media\\/p\\/content\\/beacon-manager-min-c84baae.js\"},\"media-ad-controller\":{\"path\":\"os\\/mit\\/media\\/p\\/content\\/ad-controller-min-cc0aa40.js\"},\"media-interest-manager\":{\"path\":\"os\\/mit\\/media\\/p\\/content\\/interest-manager-min-0527e1c.js\"},\"ylt-strip\":{\"path\":\"ss\\/strip_3.4.js\"},\"media-instrumentation\":{\"path\":\"os\\/mit\\/media\\/p\\/content\\/instrumentation-min-a1c712f.js\"},\"media-watchlist-base\":{\"path\":\"os\\/mit\\/media\\/m\\/finance\\/watchlist-base-min-240ac0f.js\"},\"media-watchlist-gs\":{\"path\":\"os\\/mit\\/media\\/m\\/finance\\/watchlist-gs-min-8a3c5b2.js\"},\"media-follow-quote\":{\"path\":\"os\\/mit\\/media\\/m\\/finance\\/follow-quote-min-8559ad0.js\"},\"media-quotes-search-gs\":{\"path\":\"os\\/mit\\/media\\/m\\/quotes\\/quotes-search-gs-min-edf8574.js\"},\"media-market-summary-gs\":{\"path\":\"os\\/mit\\/media\\/m\\/quotes\\/market-summary-gs-min-391320a.js\"},\"media-marketing-pixel\":{\"path\":\"os\\/mit\\/media\\/m\\/finance\\/marketing-pixel-min-0663ca6.js\"},\"media-content-share-buttons-int\":{\"path\":\"os\\/mit\\/media\\/m\\/content_social\\/content-share-buttons-int-min-5e4593a.js\"},\"media-content-social-base\":{\"path\":\"os\\/mit\\/media\\/m\\/content_social\\/content-social-base-min-f516ed2.js\"},\"media-trfsm\":{\"path\":\"os\\/mit\\/media\\/p\\/common\\/trfsm-min-56d3a2e.js\"},\"media-i13n\":{\"path\":\"os\\/mit\\/media\\/p\\/common\\/i13n-min-56d3a2e.js\"},\"media-ywa-tracking\":{\"path\":\"os\\/mit\\/media\\/p\\/common\\/ywa-tracking-min-56d3a2e.js\"},\"media-content-follow-property\":{\"path\":\"os\\/mit\\/media\\/m\\/content_social\\/content-follow-property-min-f7473b3.js\"},\"media-content-navigation-desktop\":{\"path\":\"os\\/mit\\/media\\/m\\/navigation\\/content-navigation-desktop-min-990c8d3.js\"},\"media-yfs_l10n_en-US\":{\"path\":\"os\\/mit\\/media\\/m\\/quotes\\/yfs_l10n_en-US-min-01dce39.js\"},\"media-quotes-streaming\":{\"path\":\"os\\/mit\\/media\\/m\\/quotes\\/quotes-streaming-min-fbb9f53.js\"},\"media-preview-default\":{\"path\":\"os\\/mit\\/media\\/m\\/content_index\\/preview-default-min-e0e1d50.js\"},\"media-footer\":{\"path\":\"os\\/mit\\/media\\/m\\/footer\\/footer-min-1adbfba.js\"},\"media-share-buttons-builder\":{\"path\":\"os\\/mit\\/media\\/m\\/content_social\\/share-buttons-builder-min-02674e5.js\"}},\"combine\":true,\"filter\":\"min\",\"root\":\"\\/\"}},\"combine\":true,\"allowRollup\":true,\"comboBase\":\"http:\\/\\/l.yimg.com\\/zz\\/combo?\",\"fetchCSS\":false,\"maxURLLength\":\"2000\"}\r\n",
      "    Y.later(10, this, function() {new Y.Media.MediaContentFollowProperty({\"item_facebook\":{\"fb:app_id\":\"90376669494\",\"fb:page_id\":\"\",\"og:description\":\"At Yahoo Finance, you get free stock quotes, up to date news, portfolio management resources, international market data, message boards, and mortgage rates that help you manage your financial life.\",\"og:image\":\"http:\\/\\/l3.yimg.com\\/bt\\/api\\/res\\/1.2\\/M7vS95b2fvSzHFeFStPk0A--\\/YXBwaWQ9eW5ld3NfbGVnbztxPTc1O3c9NjAw\\/http:\\/\\/l.yimg.com\\/os\\/mit\\/media\\/m\\/social\\/images\\/social_default_logo-1481777.png\",\"og:site_name\":\"Yahoo Finance\",\"og:title\":\"Yahoo Finance - Business Finance, Stock Market, Quotes, News\",\"og:type\":\"website\",\"og:url\":\"http:\\/\\/finance.yahoo.com\\/\",\"twitter:card\":\"summary\",\"twitter:description\":\"At Yahoo Finance, you get free stock quotes, up to date news, portfolio management resources, international market data, message boards, and mortgage rates that help you manage your financial life.\",\"twitter:dnt\":\"on\",\"twitter:site\":\"@YahooFinance\",\"twitter:title\":\"Yahoo Finance - Business Finance, Stock Market, Quotes, News\",\"follow_url\":\"www.facebook.com\",\"follow_site\":\"facebook\",\"follow_id\":\"yahoofinance\",\"follow_title\":\"on Facebook\",\"lang\":\"en_US\",\"trackingIcon\":\"data-ylk= t1:a4;t2:sh-fwm;t3:tp;sec:sh-fwm;elm:icn;cpos:1;_p:1;itc:0;tar:www.facebook.com;test:;act:click;rspns:nav;slk:btn-sh-fb;elmt:sh-fb;\",\"tracking\":\"data-ylk= t1:a4;t2:sh-fwm;t3:tp;sec:sh-fwm;elm:itm;cpos:1;_p:1;itc:0;tar:www.facebook.com;test:;act:click;rspns:nav;slk:btn-sh-fb;elmt:sh-fb;\",\"outcome\":\"sh\",\"rel\":\"publisher\",\"gicon\":\"&#xe000;\",\"is_tumblr\":\"\"},\"item_twitter\":{\"fb:app_id\":\"90376669494\",\"fb:page_id\":\"\",\"og:description\":\"At Yahoo Finance, you get free stock quotes, up to date news, portfolio management resources, international market data, message boards, and mortgage rates that help you manage your financial life.\",\"og:image\":\"http:\\/\\/l3.yimg.com\\/bt\\/api\\/res\\/1.2\\/M7vS95b2fvSzHFeFStPk0A--\\/YXBwaWQ9eW5ld3NfbGVnbztxPTc1O3c9NjAw\\/http:\\/\\/l.yimg.com\\/os\\/mit\\/media\\/m\\/social\\/images\\/social_default_logo-1481777.png\",\"og:site_name\":\"Yahoo Finance\",\"og:title\":\"Yahoo Finance - Business Finance, Stock Market, Quotes, News\",\"og:type\":\"website\",\"og:url\":\"http:\\/\\/finance.yahoo.com\\/\",\"twitter:card\":\"summary\",\"twitter:description\":\"At Yahoo Finance, you get free stock quotes, up to date news, portfolio management resources, international market data, message boards, and mortgage rates that help you manage your financial life.\",\"twitter:dnt\":\"on\",\"twitter:site\":\"@YahooFinance\",\"twitter:title\":\"Yahoo Finance - Business Finance, Stock Market, Quotes, News\",\"follow_url\":\"twitter.com\",\"follow_site\":\"twitter\",\"follow_id\":\"YahooFinance\",\"follow_title\":\"on Twitter\",\"lang\":\"en_US\",\"trackingIcon\":\"data-ylk= t1:a4;t2:sh-fwm;t3:tp;sec:sh-fwm;elm:icn;cpos:1;_p:2;itc:0;tar:twitter.com;test:;act:click;rspns:nav;slk:btn-sh-tw;elmt:sh-tw;\",\"tracking\":\"data-ylk= t1:a4;t2:sh-fwm;t3:tp;sec:sh-fwm;elm:itm;cpos:1;_p:2;itc:0;tar:twitter.com;test:;act:click;rspns:nav;slk:btn-sh-tw;elmt:sh-tw;\",\"outcome\":\"sh\",\"rel\":\"publisher\",\"gicon\":\"&#xe001;\",\"is_tumblr\":\"\"},\"item_tumblr\":{\"fb:app_id\":\"90376669494\",\"fb:page_id\":\"\",\"og:description\":\"At Yahoo Finance, you get free stock quotes, up to date news, portfolio management resources, international market data, message boards, and mortgage rates that help you manage your financial life.\",\"og:image\":\"http:\\/\\/l3.yimg.com\\/bt\\/api\\/res\\/1.2\\/M7vS95b2fvSzHFeFStPk0A--\\/YXBwaWQ9eW5ld3NfbGVnbztxPTc1O3c9NjAw\\/http:\\/\\/l.yimg.com\\/os\\/mit\\/media\\/m\\/social\\/images\\/social_default_logo-1481777.png\",\"og:site_name\":\"Yahoo Finance\",\"og:title\":\"Yahoo Finance - Business Finance, Stock Market, Quotes, News\",\"og:type\":\"website\",\"og:url\":\"http:\\/\\/finance.yahoo.com\\/\",\"twitter:card\":\"summary\",\"twitter:description\":\"At Yahoo Finance, you get free stock quotes, up to date news, portfolio management resources, international market data, message boards, and mortgage rates that help you manage your financial life.\",\"twitter:dnt\":\"on\",\"twitter:site\":\"@YahooFinance\",\"twitter:title\":\"Yahoo Finance - Business Finance, Stock Market, Quotes, News\",\"follow_url\":\"tumblr.com\",\"follow_site\":\"tumblr\",\"follow_id\":\"yahoofinance\",\"follow_title\":\"on Tumblr\",\"lang\":\"en_US\",\"trackingIcon\":\"data-ylk= t1:a4;t2:sh-fwm;t3:tp;sec:sh-fwm;elm:icn;cpos:1;_p:3;itc:0;tar:yahoofinance.tumblr.com;test:;act:click;rspns:nav;slk:btn-sh-tu;elmt:sh-tu;\",\"tracking\":\"data-ylk= t1:a4;t2:sh-fwm;t3:tp;sec:sh-fwm;elm:itm;cpos:1;_p:3;itc:0;tar:yahoofinance.tumblr.com;test:;act:click;rspns:nav;slk:btn-sh-tu;elmt:sh-tu;\",\"outcome\":\"sh\",\"rel\":\"publisher\",\"gicon\":\"&#xe071;\",\"is_tumblr\":\"1\"},\"mod_id\":\"mediacontentfollowproperty_3\",\"mixer\":{\"site\":\"finance\",\"region\":\"US\",\"lang\":\"en-US\",\"scrumb\":\"\",\"content_id\":\"e56e9ef7-abad-33d9-ab17-d9658fe72b45\",\"title_orig\":\"Yahoo Finance - Business Finance, Stock Market, Quotes, News\",\"url_orig\":\"http:\\/\\/finance.yahoo.com\\/\"}});\r\n",
      "    Y.later(10, this, function() {new Y.Media.MediaContentFollowProperty({\"item_facebook\":{\"fb:app_id\":\"90376669494\",\"fb:page_id\":\"\",\"og:description\":\"At Yahoo Finance, you get free stock quotes, up to date news, portfolio management resources, international market data, message boards, and mortgage rates that help you manage your financial life.\",\"og:image\":\"http:\\/\\/l3.yimg.com\\/bt\\/api\\/res\\/1.2\\/M7vS95b2fvSzHFeFStPk0A--\\/YXBwaWQ9eW5ld3NfbGVnbztxPTc1O3c9NjAw\\/http:\\/\\/l.yimg.com\\/os\\/mit\\/media\\/m\\/social\\/images\\/social_default_logo-1481777.png\",\"og:site_name\":\"Yahoo Finance\",\"og:title\":\"Yahoo Finance - Business Finance, Stock Market, Quotes, News\",\"og:type\":\"website\",\"og:url\":\"http:\\/\\/finance.yahoo.com\\/\",\"twitter:card\":\"summary\",\"twitter:description\":\"At Yahoo Finance, you get free stock quotes, up to date news, portfolio management resources, international market data, message boards, and mortgage rates that help you manage your financial life.\",\"twitter:dnt\":\"on\",\"twitter:site\":\"@YahooFinance\",\"twitter:title\":\"Yahoo Finance - Business Finance, Stock Market, Quotes, News\",\"follow_url\":\"www.facebook.com\",\"follow_site\":\"facebook\",\"follow_id\":\"yahoofinance\",\"follow_title\":\"on Facebook\",\"lang\":\"en_US\",\"trackingIcon\":\"data-ylk= t1:a4;t2:sh-fwm;t3:btm;sec:sh-fwm;elm:icn;cpos:1;_p:1;itc:0;tar:www.facebook.com;test:;act:click;rspns:nav;slk:btn-sh-fb;elmt:sh-fb;\",\"tracking\":\"data-ylk= t1:a4;t2:sh-fwm;t3:btm;sec:sh-fwm;elm:itm;cpos:1;_p:1;itc:0;tar:www.facebook.com;test:;act:click;rspns:nav;slk:btn-sh-fb;elmt:sh-fb;\",\"outcome\":\"sh\",\"rel\":\"publisher\",\"gicon\":\"&#xe000;\",\"is_tumblr\":\"\"},\"item_twitter\":{\"fb:app_id\":\"90376669494\",\"fb:page_id\":\"\",\"og:description\":\"At Yahoo Finance, you get free stock quotes, up to date news, portfolio management resources, international market data, message boards, and mortgage rates that help you manage your financial life.\",\"og:image\":\"http:\\/\\/l3.yimg.com\\/bt\\/api\\/res\\/1.2\\/M7vS95b2fvSzHFeFStPk0A--\\/YXBwaWQ9eW5ld3NfbGVnbztxPTc1O3c9NjAw\\/http:\\/\\/l.yimg.com\\/os\\/mit\\/media\\/m\\/social\\/images\\/social_default_logo-1481777.png\",\"og:site_name\":\"Yahoo Finance\",\"og:title\":\"Yahoo Finance - Business Finance, Stock Market, Quotes, News\",\"og:type\":\"website\",\"og:url\":\"http:\\/\\/finance.yahoo.com\\/\",\"twitter:card\":\"summary\",\"twitter:description\":\"At Yahoo Finance, you get free stock quotes, up to date news, portfolio management resources, international market data, message boards, and mortgage rates that help you manage your financial life.\",\"twitter:dnt\":\"on\",\"twitter:site\":\"@YahooFinance\",\"twitter:title\":\"Yahoo Finance - Business Finance, Stock Market, Quotes, News\",\"follow_url\":\"twitter.com\",\"follow_site\":\"twitter\",\"follow_id\":\"YahooFinance\",\"follow_title\":\"on Twitter\",\"lang\":\"en_US\",\"trackingIcon\":\"data-ylk= t1:a4;t2:sh-fwm;t3:btm;sec:sh-fwm;elm:icn;cpos:1;_p:2;itc:0;tar:twitter.com;test:;act:click;rspns:nav;slk:btn-sh-tw;elmt:sh-tw;\",\"tracking\":\"data-ylk= t1:a4;t2:sh-fwm;t3:btm;sec:sh-fwm;elm:itm;cpos:1;_p:2;itc:0;tar:twitter.com;test:;act:click;rspns:nav;slk:btn-sh-tw;elmt:sh-tw;\",\"outcome\":\"sh\",\"rel\":\"publisher\",\"gicon\":\"&#xe001;\",\"is_tumblr\":\"\"},\"item_tumblr\":{\"fb:app_id\":\"90376669494\",\"fb:page_id\":\"\",\"og:description\":\"At Yahoo Finance, you get free stock quotes, up to date news, portfolio management resources, international market data, message boards, and mortgage rates that help you manage your financial life.\",\"og:image\":\"http:\\/\\/l3.yimg.com\\/bt\\/api\\/res\\/1.2\\/M7vS95b2fvSzHFeFStPk0A--\\/YXBwaWQ9eW5ld3NfbGVnbztxPTc1O3c9NjAw\\/http:\\/\\/l.yimg.com\\/os\\/mit\\/media\\/m\\/social\\/images\\/social_default_logo-1481777.png\",\"og:site_name\":\"Yahoo Finance\",\"og:title\":\"Yahoo Finance - Business Finance, Stock Market, Quotes, News\",\"og:type\":\"website\",\"og:url\":\"http:\\/\\/finance.yahoo.com\\/\",\"twitter:card\":\"summary\",\"twitter:description\":\"At Yahoo Finance, you get free stock quotes, up to date news, portfolio management resources, international market data, message boards, and mortgage rates that help you manage your financial life.\",\"twitter:dnt\":\"on\",\"twitter:site\":\"@YahooFinance\",\"twitter:title\":\"Yahoo Finance - Business Finance, Stock Market, Quotes, News\",\"follow_url\":\"tumblr.com\",\"follow_site\":\"tumblr\",\"follow_id\":\"yahoofinance\",\"follow_title\":\"on Tumblr\",\"lang\":\"en_US\",\"trackingIcon\":\"data-ylk= t1:a4;t2:sh-fwm;t3:btm;sec:sh-fwm;elm:icn;cpos:1;_p:3;itc:0;tar:yahoofinance.tumblr.com;test:;act:click;rspns:nav;slk:btn-sh-tu;elmt:sh-tu;\",\"tracking\":\"data-ylk= t1:a4;t2:sh-fwm;t3:btm;sec:sh-fwm;elm:itm;cpos:1;_p:3;itc:0;tar:yahoofinance.tumblr.com;test:;act:click;rspns:nav;slk:btn-sh-tu;elmt:sh-tu;\",\"outcome\":\"sh\",\"rel\":\"publisher\",\"gicon\":\"&#xe071;\",\"is_tumblr\":\"1\"},\"mod_id\":\"mediacontentfollowproperty_2\",\"mixer\":{\"site\":\"finance\",\"region\":\"US\",\"lang\":\"en-US\",\"scrumb\":\"\",\"content_id\":\"e56e9ef7-abad-33d9-ab17-d9658fe72b45\",\"title_orig\":\"Yahoo Finance - Business Finance, Stock Market, Quotes, News\",\"url_orig\":\"http:\\/\\/finance.yahoo.com\\/\"}});\r\n",
      "    Y.later(10, this, function() {Y.Media.shareButtonsBuilder = new Y.Media.ShareButtonsBuilder({\"modId\":\"\",\"container\":\"#\",\"btns\":[\"tumblr\",\"facebook\",\"twitter\",\"whatsapp\",\"gplus\",\"linkedin\",\"mail\"],\"overlayBlob\":\"\",\"device\":\"full\",\"template\":\"<div class=\\\"share-btns-int-container\\\">\\n    <div class=\\\"share-btns\\\" role=\\\"menu\\\">\\n        <ul><li class=\\\"share-btn tumblr\\\"><a href=\\\"https:\\/\\/www.tumblr.com\\/share\\/link?url=http%3A%2F%2Ffinance.yahoo.com%2F%3Fsoc_src%3D%26soc_trk%3Dtu&amp;description=At%20Yahoo%20Finance%2C%20you%20get%20free%20stock%20quotes%2C%20up%20to%20date%20news%2C%20portfolio%20management%20resources%2C%20international%20market%20data%2C%20message%20boards%2C%20and%20mortgage%20rates%20that%20help%20you%20manage%20your%20financial%20life.&amp;name=Yahoo%20Finance%20-%20Business%20Finance%2C%20Stock%20Market%2C%20Quotes%2C%20News\\\"  role=\\\"link\\\" title=\\\"Share on Tumblr\\\" data-share-key=\\\"tumblr\\\"  target=\\\"_blank\\\"><span class=\\\"Icon btn-icon btn-tumblr small\\\">&#xe071;<\\/span><\\/a><\\/li><li class=\\\"share-btn facebook\\\"><a href=\\\"https:\\/\\/www.facebook.com\\/dialog\\/feed?app_id=90376669494&amp;redirect_uri=http%3A%2F%2Ffinance.yahoo.com%2F_xhr%2Fmediacontentsharebuttons%2Fpostshare%2F%3Fsrc%3Dfb&amp;link=http%3A%2F%2Ffinance.yahoo.com%2F%3Fsoc_src%3D%26soc_trk%3Dfb&amp;picture=http%3A%2F%2Fl3.yimg.com%2Fbt%2Fapi%2Fres%2F1.2%2FM7vS95b2fvSzHFeFStPk0A--%2FYXBwaWQ9eW5ld3NfbGVnbztxPTc1O3c9NjAw%2Fhttp%3A%2F%2Fl.yimg.com%2Fos%2Fmit%2Fmedia%2Fm%2Fsocial%2Fimages%2Fsocial_default_logo-1481777.png&amp;name=Yahoo+Finance+-+Business+Finance%2C+Stock+Market%2C+Quotes%2C+News&amp;description=At+Yahoo+Finance%2C+you+get+free+stock+quotes%2C+up+to+date+news%2C+portfolio+management+resources%2C+international+market+data%2C+message+boards%2C+and+mortgage+rates+that+help+you+manage+your+financial+life.&amp;display=popup&amp;show_error=yes\\\"  role=\\\"link\\\" title=\\\"Share on Facebook\\\" data-share-key=\\\"facebook\\\"  target=\\\"_blank\\\"><span class=\\\"Icon btn-icon btn-facebook small\\\">&#xe000;<\\/span><\\/a><\\/li><li class=\\\"share-btn twitter\\\"><a href=\\\"https:\\/\\/twitter.com\\/share?text=Yahoo+Finance+-+Business+Finance%2C+Stock+Market%2C+Quotes%2C+News&amp;url=http%3A%2F%2Ffinance.yahoo.com%2F%3Fsoc_src%3D%26soc_trk%3Dtw&amp;via=YahooFinance\\\"  role=\\\"link\\\" title=\\\"Share on Twitter\\\" data-share-key=\\\"twitter\\\"  target=\\\"_blank\\\"><span class=\\\"Icon btn-icon btn-twitter small\\\">&#xe001;<\\/span><\\/a><\\/li><li class=\\\"share-btn gplus\\\"><a href=\\\"https:\\/\\/plus.google.com\\/share?url=http%3A%2F%2Ffinance.yahoo.com%2F%3Fsoc_src%3D%26soc_trk%3Dgp&amp;hl=en-US\\\"  role=\\\"link\\\" title=\\\"Share on Google+\\\" data-share-key=\\\"gplus\\\"  target=\\\"_blank\\\"><span class=\\\"Icon btn-icon btn-gplus small\\\">&#xe07e;<\\/span><\\/a><\\/li><li class=\\\"share-btn more\\\"><a href=\\\"#\\\" role=\\\"menu\\\" title=\\\"\\\" data-share-key=\\\"more\\\" ><span class=\\\"Icon btn-icon btn-more\\\">&#x22ef;<\\/span><\\/a><\\/li><\\/ul>\\n        <div class=\\\"moreBox hidden\\\">\\n          <div class=\\\"moreBoxPointer\\\"><\\/div>\\n          <div class=\\\"moreBoxPointerSmall\\\"><\\/div>\\n          <div class=\\\"moreBoxInner\\\">\\n            <ul><li class=\\\"share-btn linkedin\\\"><a href=\\\"https:\\/\\/www.linkedin.com\\/shareArticle?mini=true&amp;url=http%3A%2F%2Ffinance.yahoo.com%2F%3Fsoc_src%3D%26soc_trk%3Dli&amp;title=Yahoo+Finance+-+Business+Finance%2C+Stock+Market%2C+Quotes%2C+News&amp;summary=At+Yahoo+Finance%2C+you+get+free+stock+quotes%2C+up+to+date+news%2C+portfolio+management+resources%2C+international+market+data%2C+message+boards%2C+and+mortgage+rates+that+help+you+manage+your+financial+life.&amp;source=YahooFinance\\\"  role=\\\"link\\\" title=\\\"Share on Linkedin\\\" data-share-key=\\\"linkedin\\\"  target=\\\"_blank\\\"><span class=\\\"Icon btn-icon btn-linkedin small\\\">&#xe601;<\\/span><\\/a><\\/li><li class=\\\"share-btn mail\\\"><a href=\\\"http:\\/\\/finance.yahoo.com\\/_xhr\\/mtf_popup\\/?url=http%3A%2F%2Ffinance.yahoo.com%2F%3Fsoc_src%3D%26soc_trk%3Dma&amp;site=finance&amp;region=US&amp;lang=en-US&amp;content_id=e56e9ef7-abad-33d9-ab17-d9658fe72b45&amp;alias_id=path%3D%2F\\\" class=\\\"rapid-noclick-resp\\\" role=\\\"link\\\" title=\\\"Email to friends\\\" data-share-key=\\\"mail\\\"  target=\\\"_blank\\\"><span class=\\\"Icon btn-icon btn-mail small\\\">&#xe07d;<\\/span><\\/a><\\/li><\\/ul>\\n          <\\/div>\\n        <\\/div>\\n    <\\/div>\\n<\\/div>\\n\",\"defaultButtons\":\"tumblr,facebook,twitter,whatsapp,mail\",\"shortenLink\":false});\r\n"
     ]
    }
   ],
   "source": [
    "!grep -E '\\d{3}' /home/ubuntu/data/test.html"
   ]
  },
  {
   "cell_type": "code",
   "execution_count": null,
   "metadata": {
    "collapsed": true
   },
   "outputs": [],
   "source": []
  }
 ],
 "metadata": {
  "kernelspec": {
   "display_name": "Python 2",
   "language": "python",
   "name": "python2"
  },
  "language_info": {
   "codemirror_mode": {
    "name": "ipython",
    "version": 2
   },
   "file_extension": ".py",
   "mimetype": "text/x-python",
   "name": "python",
   "nbconvert_exporter": "python",
   "pygments_lexer": "ipython2",
   "version": "2.7.6"
  }
 },
 "nbformat": 4,
 "nbformat_minor": 0
}
