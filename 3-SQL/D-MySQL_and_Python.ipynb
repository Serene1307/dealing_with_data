{
 "cells": [
  {
   "cell_type": "markdown",
   "metadata": {},
   "source": [
    "### Python MySQLdb module"
   ]
  },
  {
   "cell_type": "markdown",
   "metadata": {},
   "source": [
    "To enable Python to access programatically the contents of MySQL, we need to install the package `python3-mysqldb`. To do so, type:\n",
    "\n",
    "`sudo apt-get install python3-mysqldb`"
   ]
  },
  {
   "cell_type": "code",
   "execution_count": 1,
   "metadata": {
    "collapsed": false
   },
   "outputs": [
    {
     "name": "stdout",
     "output_type": "stream",
     "text": [
      "Reading package lists... Doneding package lists... 100%\n",
      "Building dependency tree       ilding dependency tree... 0%Building dependency tree... 50%\n",
      "Reading state information... Doneding state information... 1%\n",
      "The following additional packages will be installed:\n",
      "  libmysqlclient20\n",
      "Suggested packages:\n",
      "  python-egenix-mxdatetime python3-mysqldb-dbg\n",
      "The following NEW packages will be installed:\n",
      "  libmysqlclient20 python3-mysqldb\n",
      "0 upgraded, 2 newly installed, 0 to remove and 3 not upgraded.\n",
      "Need to get 848 kB of archives.\n",
      "After this operation, 4,517 kB of additional disk space will be used.\n",
      "Get:1 http://us-east1.gce.archive.ubuntu.com/ubuntu xenial-updates/main amd64 libmysqlclient20 amd64 5.7.16-0ubuntu0.16.04.1 [809 kB]\n",
      "             lclient20 0 B/809 kB 0%]                                     Get:2 http://us-east1.gce.archive.ubuntu.com/ubuntu xenial/main amd64 python3-mysqldb amd64 1.3.7-1build2 [39.2 kB]\n",
      "Fetched 848 kB in 0s (4,280 kB/s)B 0%]                                                    \n",
      "Selecting previously unselected package libmysqlclient20:amd64.\n",
      "(Reading database ... 67894 files and directories currently installed.)20%(Reading database ... 30%(Reading database ... 40%(Reading database ... 50%(Reading database ... 60%(Reading database ... 70%(Reading database ... 80%(Reading database ... 90%(Reading database ... 100%\n",
      "Preparing to unpack .../libmysqlclient20_5.7.16-0ubuntu0.16.04.1_amd64.deb ...\n",
      "Unpacking libmysqlclient20:amd64 (5.7.16-0ubuntu0.16.04.1) ...\n",
      "Selecting previously unselected package python3-mysqldb.\n",
      "Preparing to unpack .../python3-mysqldb_1.3.7-1build2_amd64.deb ...\n",
      "Unpacking python3-mysqldb (1.3.7-1build2) ...\n",
      "Processing triggers for libc-bin (2.23-0ubuntu5) ...\n",
      "Setting up libmysqlclient20:amd64 (5.7.16-0ubuntu0.16.04.1) ...\n",
      "Setting up python3-mysqldb (1.3.7-1build2) ...\n",
      "Processing triggers for libc-bin (2.23-0ubuntu5) ...\n"
     ]
    }
   ],
   "source": [
    "!sudo apt-get install -y python3-mysqldb"
   ]
  },
  {
   "cell_type": "markdown",
   "metadata": {},
   "source": [
    "Now, let's try our first connection to the database:"
   ]
  },
  {
   "cell_type": "code",
   "execution_count": 2,
   "metadata": {
    "collapsed": false
   },
   "outputs": [
    {
     "name": "stdout",
     "output_type": "stream",
     "text": [
      "Database version: ('5.7.16-0ubuntu0.16.04.1',)\n"
     ]
    }
   ],
   "source": [
    "import MySQLdb as mdb\n",
    "import sys\n",
    "\n",
    "# The connect() method has four parameters. \n",
    "# The first parameter is the host, where the MySQL database is located. \n",
    "# In our case it is a localhost, e.g. our computer. \n",
    "# The second parameter is the database user name. \n",
    "# It is followed by the user's account password. \n",
    "# The final parameter is the database name.\n",
    "host = 'localhost'\n",
    "username = 'root'\n",
    "password = 'dwdstudent2015'\n",
    "database = 'imdb'\n",
    "\n",
    "con = mdb.connect(host, username, password, database, \n",
    "                charset='utf8', use_unicode=True);\n",
    "cur = con.cursor()\n",
    "cur.execute(\"SELECT VERSION()\")\n",
    "ver = cur.fetchone()\n",
    "print(\"Database version:\", ver)\n",
    "\n",
    "con.close()"
   ]
  },
  {
   "cell_type": "markdown",
   "metadata": {},
   "source": [
    "And let's try our first query. You will use the `fetchall` command, which returns all the results."
   ]
  },
  {
   "cell_type": "code",
   "execution_count": null,
   "metadata": {
    "collapsed": false,
    "scrolled": true
   },
   "outputs": [],
   "source": [
    "import MySQLdb as mdb\n",
    "import sys\n",
    "\n",
    "# Now we create a table and populate it with some data.\n",
    "con = mdb.connect(host, username, password, database, charset='utf8', use_unicode=True);\n",
    "\n",
    "with con:\n",
    "    cur = con.cursor()\n",
    "    cur.execute(\"SELECT * FROM actors LIMIT 100\")\n",
    "    results = cur.fetchall()\n",
    "\n",
    "print(results)"
   ]
  },
  {
   "cell_type": "markdown",
   "metadata": {},
   "source": [
    "Now, let's fetch the data line by line, to avoid having long execution times when fetching the results"
   ]
  },
  {
   "cell_type": "code",
   "execution_count": null,
   "metadata": {
    "collapsed": false
   },
   "outputs": [],
   "source": [
    "import MySQLdb as mdb\n",
    "import sys\n",
    "\n",
    "# Returning all data at a time may not be feasible. We can fetch rows one by one.\n",
    "with con:\n",
    "    cur = con.cursor()\n",
    "    cur.execute(\"SELECT * FROM actors LIMIT 100\")\n",
    "# We fetch the rows one by one using the fetchone() method. \n",
    "# The rowcount property gives the number of rows returned by the SQL statement.\n",
    "    for i in range(cur.rowcount):\n",
    "        row = cur.fetchone()\n",
    "        print(row[0], row[1], row[2])"
   ]
  },
  {
   "cell_type": "markdown",
   "metadata": {},
   "source": [
    "**The dictionary cursor:** There are multiple cursor types in the MySQLdb module. The default cursor returns the data in a tuple of tuples. When we use a dictionary cursor (`mdb.cursors.DictCursor`), the data is placed in a Python dictionary, which allows us to refer to the data by their column names."
   ]
  },
  {
   "cell_type": "code",
   "execution_count": null,
   "metadata": {
    "collapsed": false
   },
   "outputs": [],
   "source": [
    "import MySQLdb as mdb\n",
    "import sys\n",
    "\n",
    "# The dictionary cursor\n",
    "# There are multiple cursor types in the MySQLdb module. \n",
    "# The default cursor returns the data in a tuple of tuples. \n",
    "# When we use a dictionary cursor, the data is sent in a form of Python dictionaries. \n",
    "# This way we can refer to the data by their column names.\n",
    "with con:\n",
    "    \n",
    "    sql_query = \"SELECT * FROM actors LIMIT 100\"\n",
    "\n",
    "    cur = con.cursor(mdb.cursors.DictCursor)\n",
    "    cur.execute(sql_query)\n",
    "    rows = cur.fetchall()\n",
    "    for row in rows:\n",
    "        print(row)\n",
    "        print(row[\"id\"], row[\"first_name\"], row[\"last_name\"])"
   ]
  },
  {
   "cell_type": "code",
   "execution_count": null,
   "metadata": {
    "collapsed": true
   },
   "outputs": [],
   "source": []
  }
 ],
 "metadata": {
  "kernelspec": {
   "display_name": "Python 3",
   "language": "python",
   "name": "python3"
  },
  "language_info": {
   "codemirror_mode": {
    "name": "ipython",
    "version": 3
   },
   "file_extension": ".py",
   "mimetype": "text/x-python",
   "name": "python",
   "nbconvert_exporter": "python",
   "pygments_lexer": "ipython3",
   "version": "3.5.2"
  }
 },
 "nbformat": 4,
 "nbformat_minor": 0
}
