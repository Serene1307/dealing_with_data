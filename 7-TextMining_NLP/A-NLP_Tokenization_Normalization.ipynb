{
 "cells": [
  {
   "cell_type": "code",
   "execution_count": 1,
   "metadata": {
    "collapsed": false,
    "deletable": true,
    "editable": true
   },
   "outputs": [],
   "source": [
    "%matplotlib inline\n",
    "import pandas as pd\n",
    "import matplotlib.pyplot as plt\n",
    "# Make the graphs a bit prettier, and bigger\n",
    "plt.rcParams['figure.figsize'] = (15, 5)"
   ]
  },
  {
   "cell_type": "markdown",
   "metadata": {
    "deletable": true,
    "editable": true
   },
   "source": [
    "### Installing NLTK toolkit"
   ]
  },
  {
   "cell_type": "markdown",
   "metadata": {
    "deletable": true,
    "editable": true
   },
   "source": [
    "Before starting let's install the NLTK library (http://www.nltk.org/), by typing the following commands in vagrant terminal.\n",
    "\n",
    "* Install Numpy: `sudo -H pip3 install -U numpy`\n",
    "* Install NLTK: `sudo -H pip3 install -U nltk`\n",
    "* Install Tkinter: `sudo -H apt-get -y install python3-tk`\n",
    "\n",
    "Test that the library is installed properly by executing the following command:"
   ]
  },
  {
   "cell_type": "markdown",
   "metadata": {
    "deletable": true,
    "editable": true
   },
   "source": [
    "Once the NLTK toolkit is installed, we need to install the NLTK data: \n",
    "\n",
    "`sudo python -m nltk.downloader -d /usr/share/nltk_data all`"
   ]
  },
  {
   "cell_type": "code",
   "execution_count": 3,
   "metadata": {
    "collapsed": false,
    "deletable": true,
    "editable": true
   },
   "outputs": [
    {
     "name": "stdout",
     "output_type": "stream",
     "text": [
      "[nltk_data] Downloading collection 'all'\n",
      "[nltk_data]    | \n",
      "[nltk_data]    | Downloading package abc to /usr/share/nltk_data...\n",
      "[nltk_data]    |   Package abc is already up-to-date!\n",
      "[nltk_data]    | Downloading package alpino to /usr/share/nltk_data...\n",
      "[nltk_data]    |   Package alpino is already up-to-date!\n",
      "[nltk_data]    | Downloading package biocreative_ppi to\n",
      "[nltk_data]    |     /usr/share/nltk_data...\n",
      "[nltk_data]    |   Package biocreative_ppi is already up-to-date!\n",
      "[nltk_data]    | Downloading package brown to /usr/share/nltk_data...\n",
      "[nltk_data]    |   Package brown is already up-to-date!\n",
      "[nltk_data]    | Downloading package brown_tei to\n",
      "[nltk_data]    |     /usr/share/nltk_data...\n",
      "[nltk_data]    |   Package brown_tei is already up-to-date!\n",
      "[nltk_data]    | Downloading package cess_cat to\n",
      "[nltk_data]    |     /usr/share/nltk_data...\n",
      "[nltk_data]    |   Package cess_cat is already up-to-date!\n",
      "[nltk_data]    | Downloading package cess_esp to\n",
      "[nltk_data]    |     /usr/share/nltk_data...\n",
      "[nltk_data]    |   Package cess_esp is already up-to-date!\n",
      "[nltk_data]    | Downloading package chat80 to /usr/share/nltk_data...\n",
      "[nltk_data]    |   Package chat80 is already up-to-date!\n",
      "[nltk_data]    | Downloading package city_database to\n",
      "[nltk_data]    |     /usr/share/nltk_data...\n",
      "[nltk_data]    |   Package city_database is already up-to-date!\n",
      "[nltk_data]    | Downloading package cmudict to\n",
      "[nltk_data]    |     /usr/share/nltk_data...\n",
      "[nltk_data]    |   Package cmudict is already up-to-date!\n",
      "[nltk_data]    | Downloading package comparative_sentences to\n",
      "[nltk_data]    |     /usr/share/nltk_data...\n",
      "[nltk_data]    |   Package comparative_sentences is already up-to-\n",
      "[nltk_data]    |       date!\n",
      "[nltk_data]    | Downloading package comtrans to\n",
      "[nltk_data]    |     /usr/share/nltk_data...\n",
      "[nltk_data]    |   Package comtrans is already up-to-date!\n",
      "[nltk_data]    | Downloading package conll2000 to\n",
      "[nltk_data]    |     /usr/share/nltk_data...\n",
      "[nltk_data]    |   Package conll2000 is already up-to-date!\n",
      "[nltk_data]    | Downloading package conll2002 to\n",
      "[nltk_data]    |     /usr/share/nltk_data...\n",
      "[nltk_data]    |   Package conll2002 is already up-to-date!\n",
      "[nltk_data]    | Downloading package conll2007 to\n",
      "[nltk_data]    |     /usr/share/nltk_data...\n",
      "[nltk_data]    |   Package conll2007 is already up-to-date!\n",
      "[nltk_data]    | Downloading package crubadan to\n",
      "[nltk_data]    |     /usr/share/nltk_data...\n",
      "[nltk_data]    |   Package crubadan is already up-to-date!\n",
      "[nltk_data]    | Downloading package dependency_treebank to\n",
      "[nltk_data]    |     /usr/share/nltk_data...\n",
      "[nltk_data]    |   Package dependency_treebank is already up-to-date!\n",
      "[nltk_data]    | Downloading package europarl_raw to\n",
      "[nltk_data]    |     /usr/share/nltk_data...\n",
      "[nltk_data]    |   Package europarl_raw is already up-to-date!\n",
      "[nltk_data]    | Downloading package floresta to\n",
      "[nltk_data]    |     /usr/share/nltk_data...\n",
      "[nltk_data]    |   Package floresta is already up-to-date!\n",
      "[nltk_data]    | Downloading package framenet_v15 to\n",
      "[nltk_data]    |     /usr/share/nltk_data...\n",
      "[nltk_data]    |   Package framenet_v15 is already up-to-date!\n",
      "[nltk_data]    | Downloading package framenet_v17 to\n",
      "[nltk_data]    |     /usr/share/nltk_data...\n",
      "[nltk_data]    |   Package framenet_v17 is already up-to-date!\n",
      "[nltk_data]    | Downloading package gazetteers to\n",
      "[nltk_data]    |     /usr/share/nltk_data...\n",
      "[nltk_data]    |   Package gazetteers is already up-to-date!\n",
      "[nltk_data]    | Downloading package genesis to\n",
      "[nltk_data]    |     /usr/share/nltk_data...\n",
      "[nltk_data]    |   Package genesis is already up-to-date!\n",
      "[nltk_data]    | Downloading package gutenberg to\n",
      "[nltk_data]    |     /usr/share/nltk_data...\n",
      "[nltk_data]    |   Package gutenberg is already up-to-date!\n",
      "[nltk_data]    | Downloading package ieer to /usr/share/nltk_data...\n",
      "[nltk_data]    |   Package ieer is already up-to-date!\n",
      "[nltk_data]    | Downloading package inaugural to\n",
      "[nltk_data]    |     /usr/share/nltk_data...\n",
      "[nltk_data]    |   Package inaugural is already up-to-date!\n",
      "[nltk_data]    | Downloading package indian to /usr/share/nltk_data...\n",
      "[nltk_data]    |   Package indian is already up-to-date!\n",
      "[nltk_data]    | Downloading package jeita to /usr/share/nltk_data...\n",
      "[nltk_data]    |   Package jeita is already up-to-date!\n",
      "[nltk_data]    | Downloading package kimmo to /usr/share/nltk_data...\n",
      "[nltk_data]    |   Package kimmo is already up-to-date!\n",
      "[nltk_data]    | Downloading package knbc to /usr/share/nltk_data...\n",
      "[nltk_data]    |   Package knbc is already up-to-date!\n",
      "[nltk_data]    | Downloading package lin_thesaurus to\n",
      "[nltk_data]    |     /usr/share/nltk_data...\n",
      "[nltk_data]    |   Package lin_thesaurus is already up-to-date!\n",
      "[nltk_data]    | Downloading package mac_morpho to\n",
      "[nltk_data]    |     /usr/share/nltk_data...\n",
      "[nltk_data]    |   Package mac_morpho is already up-to-date!\n",
      "[nltk_data]    | Downloading package machado to\n",
      "[nltk_data]    |     /usr/share/nltk_data...\n",
      "[nltk_data]    |   Package machado is already up-to-date!\n",
      "[nltk_data]    | Downloading package masc_tagged to\n",
      "[nltk_data]    |     /usr/share/nltk_data...\n",
      "[nltk_data]    |   Package masc_tagged is already up-to-date!\n",
      "[nltk_data]    | Downloading package moses_sample to\n",
      "[nltk_data]    |     /usr/share/nltk_data...\n",
      "[nltk_data]    |   Package moses_sample is already up-to-date!\n",
      "[nltk_data]    | Downloading package movie_reviews to\n",
      "[nltk_data]    |     /usr/share/nltk_data...\n",
      "[nltk_data]    |   Package movie_reviews is already up-to-date!\n",
      "[nltk_data]    | Downloading package names to /usr/share/nltk_data...\n",
      "[nltk_data]    |   Package names is already up-to-date!\n",
      "[nltk_data]    | Downloading package nombank.1.0 to\n",
      "[nltk_data]    |     /usr/share/nltk_data...\n",
      "[nltk_data]    |   Package nombank.1.0 is already up-to-date!\n",
      "[nltk_data]    | Downloading package nps_chat to\n",
      "[nltk_data]    |     /usr/share/nltk_data...\n",
      "[nltk_data]    |   Package nps_chat is already up-to-date!\n",
      "[nltk_data]    | Downloading package omw to /usr/share/nltk_data...\n",
      "[nltk_data]    |   Package omw is already up-to-date!\n",
      "[nltk_data]    | Downloading package opinion_lexicon to\n",
      "[nltk_data]    |     /usr/share/nltk_data...\n",
      "[nltk_data]    |   Package opinion_lexicon is already up-to-date!\n",
      "[nltk_data]    | Downloading package paradigms to\n",
      "[nltk_data]    |     /usr/share/nltk_data...\n",
      "[nltk_data]    |   Package paradigms is already up-to-date!\n",
      "[nltk_data]    | Downloading package pil to /usr/share/nltk_data...\n",
      "[nltk_data]    |   Package pil is already up-to-date!\n",
      "[nltk_data]    | Downloading package pl196x to /usr/share/nltk_data...\n",
      "[nltk_data]    |   Package pl196x is already up-to-date!\n",
      "[nltk_data]    | Downloading package ppattach to\n",
      "[nltk_data]    |     /usr/share/nltk_data...\n",
      "[nltk_data]    |   Package ppattach is already up-to-date!\n",
      "[nltk_data]    | Downloading package problem_reports to\n",
      "[nltk_data]    |     /usr/share/nltk_data...\n",
      "[nltk_data]    |   Package problem_reports is already up-to-date!\n",
      "[nltk_data]    | Downloading package propbank to\n",
      "[nltk_data]    |     /usr/share/nltk_data...\n",
      "[nltk_data]    |   Package propbank is already up-to-date!\n",
      "[nltk_data]    | Downloading package ptb to /usr/share/nltk_data...\n",
      "[nltk_data]    |   Package ptb is already up-to-date!\n",
      "[nltk_data]    | Downloading package product_reviews_1 to\n",
      "[nltk_data]    |     /usr/share/nltk_data...\n",
      "[nltk_data]    |   Package product_reviews_1 is already up-to-date!\n",
      "[nltk_data]    | Downloading package product_reviews_2 to\n",
      "[nltk_data]    |     /usr/share/nltk_data...\n",
      "[nltk_data]    |   Package product_reviews_2 is already up-to-date!\n",
      "[nltk_data]    | Downloading package pros_cons to\n",
      "[nltk_data]    |     /usr/share/nltk_data...\n",
      "[nltk_data]    |   Package pros_cons is already up-to-date!\n",
      "[nltk_data]    | Downloading package qc to /usr/share/nltk_data...\n",
      "[nltk_data]    |   Package qc is already up-to-date!\n",
      "[nltk_data]    | Downloading package reuters to\n",
      "[nltk_data]    |     /usr/share/nltk_data...\n",
      "[nltk_data]    |   Package reuters is already up-to-date!\n",
      "[nltk_data]    | Downloading package rte to /usr/share/nltk_data...\n",
      "[nltk_data]    |   Package rte is already up-to-date!\n",
      "[nltk_data]    | Downloading package semcor to /usr/share/nltk_data...\n",
      "[nltk_data]    |   Package semcor is already up-to-date!\n",
      "[nltk_data]    | Downloading package senseval to\n",
      "[nltk_data]    |     /usr/share/nltk_data...\n",
      "[nltk_data]    |   Package senseval is already up-to-date!\n",
      "[nltk_data]    | Downloading package sentiwordnet to\n",
      "[nltk_data]    |     /usr/share/nltk_data...\n",
      "[nltk_data]    |   Package sentiwordnet is already up-to-date!\n",
      "[nltk_data]    | Downloading package sentence_polarity to\n",
      "[nltk_data]    |     /usr/share/nltk_data...\n",
      "[nltk_data]    |   Package sentence_polarity is already up-to-date!\n",
      "[nltk_data]    | Downloading package shakespeare to\n",
      "[nltk_data]    |     /usr/share/nltk_data...\n",
      "[nltk_data]    |   Package shakespeare is already up-to-date!\n",
      "[nltk_data]    | Downloading package sinica_treebank to\n",
      "[nltk_data]    |     /usr/share/nltk_data...\n",
      "[nltk_data]    |   Package sinica_treebank is already up-to-date!\n",
      "[nltk_data]    | Downloading package smultron to\n",
      "[nltk_data]    |     /usr/share/nltk_data...\n",
      "[nltk_data]    |   Package smultron is already up-to-date!\n",
      "[nltk_data]    | Downloading package state_union to\n",
      "[nltk_data]    |     /usr/share/nltk_data...\n",
      "[nltk_data]    |   Package state_union is already up-to-date!\n",
      "[nltk_data]    | Downloading package stopwords to\n",
      "[nltk_data]    |     /usr/share/nltk_data...\n",
      "[nltk_data]    |   Package stopwords is already up-to-date!\n",
      "[nltk_data]    | Downloading package subjectivity to\n",
      "[nltk_data]    |     /usr/share/nltk_data...\n",
      "[nltk_data]    |   Package subjectivity is already up-to-date!\n",
      "[nltk_data]    | Downloading package swadesh to\n",
      "[nltk_data]    |     /usr/share/nltk_data...\n",
      "[nltk_data]    |   Package swadesh is already up-to-date!\n",
      "[nltk_data]    | Downloading package switchboard to\n",
      "[nltk_data]    |     /usr/share/nltk_data...\n",
      "[nltk_data]    |   Package switchboard is already up-to-date!\n",
      "[nltk_data]    | Downloading package timit to /usr/share/nltk_data...\n",
      "[nltk_data]    |   Package timit is already up-to-date!\n",
      "[nltk_data]    | Downloading package toolbox to\n",
      "[nltk_data]    |     /usr/share/nltk_data...\n",
      "[nltk_data]    |   Package toolbox is already up-to-date!\n",
      "[nltk_data]    | Downloading package treebank to\n",
      "[nltk_data]    |     /usr/share/nltk_data...\n",
      "[nltk_data]    |   Package treebank is already up-to-date!\n",
      "[nltk_data]    | Downloading package twitter_samples to\n",
      "[nltk_data]    |     /usr/share/nltk_data...\n",
      "[nltk_data]    |   Package twitter_samples is already up-to-date!\n",
      "[nltk_data]    | Downloading package udhr to /usr/share/nltk_data...\n",
      "[nltk_data]    |   Package udhr is already up-to-date!\n",
      "[nltk_data]    | Downloading package udhr2 to /usr/share/nltk_data...\n",
      "[nltk_data]    |   Package udhr2 is already up-to-date!\n",
      "[nltk_data]    | Downloading package unicode_samples to\n",
      "[nltk_data]    |     /usr/share/nltk_data...\n",
      "[nltk_data]    |   Package unicode_samples is already up-to-date!\n",
      "[nltk_data]    | Downloading package universal_treebanks_v20 to\n",
      "[nltk_data]    |     /usr/share/nltk_data...\n",
      "[nltk_data]    |   Package universal_treebanks_v20 is already up-to-\n",
      "[nltk_data]    |       date!\n",
      "[nltk_data]    | Downloading package verbnet to\n",
      "[nltk_data]    |     /usr/share/nltk_data...\n",
      "[nltk_data]    |   Package verbnet is already up-to-date!\n",
      "[nltk_data]    | Downloading package webtext to\n",
      "[nltk_data]    |     /usr/share/nltk_data...\n",
      "[nltk_data]    |   Package webtext is already up-to-date!\n",
      "[nltk_data]    | Downloading package wordnet to\n",
      "[nltk_data]    |     /usr/share/nltk_data...\n",
      "[nltk_data]    |   Package wordnet is already up-to-date!\n",
      "[nltk_data]    | Downloading package wordnet_ic to\n",
      "[nltk_data]    |     /usr/share/nltk_data...\n",
      "[nltk_data]    |   Package wordnet_ic is already up-to-date!\n",
      "[nltk_data]    | Downloading package words to /usr/share/nltk_data...\n",
      "[nltk_data]    |   Package words is already up-to-date!\n",
      "[nltk_data]    | Downloading package ycoe to /usr/share/nltk_data...\n",
      "[nltk_data]    |   Package ycoe is already up-to-date!\n",
      "[nltk_data]    | Downloading package rslp to /usr/share/nltk_data...\n",
      "[nltk_data]    |   Package rslp is already up-to-date!\n",
      "[nltk_data]    | Downloading package hmm_treebank_pos_tagger to\n",
      "[nltk_data]    |     /usr/share/nltk_data...\n",
      "[nltk_data]    |   Package hmm_treebank_pos_tagger is already up-to-\n",
      "[nltk_data]    |       date!\n",
      "[nltk_data]    | Downloading package maxent_treebank_pos_tagger to\n",
      "[nltk_data]    |     /usr/share/nltk_data...\n",
      "[nltk_data]    |   Package maxent_treebank_pos_tagger is already up-\n",
      "[nltk_data]    |       to-date!\n",
      "[nltk_data]    | Downloading package universal_tagset to\n",
      "[nltk_data]    |     /usr/share/nltk_data...\n",
      "[nltk_data]    |   Package universal_tagset is already up-to-date!\n",
      "[nltk_data]    | Downloading package maxent_ne_chunker to\n",
      "[nltk_data]    |     /usr/share/nltk_data...\n",
      "[nltk_data]    |   Package maxent_ne_chunker is already up-to-date!\n",
      "[nltk_data]    | Downloading package punkt to /usr/share/nltk_data...\n",
      "[nltk_data]    |   Package punkt is already up-to-date!\n",
      "[nltk_data]    | Downloading package book_grammars to\n",
      "[nltk_data]    |     /usr/share/nltk_data...\n",
      "[nltk_data]    |   Package book_grammars is already up-to-date!\n",
      "[nltk_data]    | Downloading package sample_grammars to\n",
      "[nltk_data]    |     /usr/share/nltk_data...\n",
      "[nltk_data]    |   Package sample_grammars is already up-to-date!\n",
      "[nltk_data]    | Downloading package spanish_grammars to\n",
      "[nltk_data]    |     /usr/share/nltk_data...\n",
      "[nltk_data]    |   Package spanish_grammars is already up-to-date!\n",
      "[nltk_data]    | Downloading package basque_grammars to\n",
      "[nltk_data]    |     /usr/share/nltk_data...\n",
      "[nltk_data]    |   Package basque_grammars is already up-to-date!\n",
      "[nltk_data]    | Downloading package large_grammars to\n",
      "[nltk_data]    |     /usr/share/nltk_data...\n",
      "[nltk_data]    |   Package large_grammars is already up-to-date!\n",
      "[nltk_data]    | Downloading package tagsets to\n",
      "[nltk_data]    |     /usr/share/nltk_data...\n",
      "[nltk_data]    |   Package tagsets is already up-to-date!\n",
      "[nltk_data]    | Downloading package snowball_data to\n",
      "[nltk_data]    |     /usr/share/nltk_data...\n",
      "[nltk_data]    |   Package snowball_data is already up-to-date!\n",
      "[nltk_data]    | Downloading package bllip_wsj_no_aux to\n",
      "[nltk_data]    |     /usr/share/nltk_data...\n",
      "[nltk_data]    |   Package bllip_wsj_no_aux is already up-to-date!\n",
      "[nltk_data]    | Downloading package word2vec_sample to\n",
      "[nltk_data]    |     /usr/share/nltk_data...\n",
      "[nltk_data]    |   Package word2vec_sample is already up-to-date!\n",
      "[nltk_data]    | Downloading package panlex_swadesh to\n",
      "[nltk_data]    |     /usr/share/nltk_data...\n",
      "[nltk_data]    | Downloading package mte_teip5 to\n",
      "[nltk_data]    |     /usr/share/nltk_data...\n",
      "[nltk_data]    |   Package mte_teip5 is already up-to-date!\n",
      "[nltk_data]    | Downloading package averaged_perceptron_tagger to\n",
      "[nltk_data]    |     /usr/share/nltk_data...\n",
      "[nltk_data]    |   Package averaged_perceptron_tagger is already up-\n",
      "[nltk_data]    |       to-date!\n",
      "[nltk_data]    | Downloading package panlex_lite to\n",
      "[nltk_data]    |     /usr/share/nltk_data...\n",
      "^C\n",
      "Traceback (most recent call last):\n",
      "  File \"/usr/lib/python3.5/runpy.py\", line 184, in _run_module_as_main\n",
      "    \"__main__\", mod_spec)\n",
      "  File \"/usr/lib/python3.5/runpy.py\", line 85, in _run_code\n",
      "    exec(code, run_globals)\n",
      "  File \"/usr/local/lib/python3.5/dist-packages/nltk/downloader.py\", line 2267, in <module>\n",
      "    halt_on_error=options.halt_on_error)\n",
      "  File \"/usr/local/lib/python3.5/dist-packages/nltk/downloader.py\", line 664, in download\n",
      "    for msg in self.incr_download(info_or_id, download_dir, force):\n",
      "  File \"/usr/local/lib/python3.5/dist-packages/nltk/downloader.py\", line 543, in incr_download\n",
      "    for msg in self.incr_download(info.children, download_dir, force):\n",
      "  File \"/usr/local/lib/python3.5/dist-packages/nltk/downloader.py\", line 529, in incr_download\n",
      "    for msg in self._download_list(info_or_id, download_dir, force):\n",
      "  File \"/usr/local/lib/python3.5/dist-packages/nltk/downloader.py\", line 572, in _download_list\n",
      "    for msg in self.incr_download(item, download_dir, force):\n",
      "  File \"/usr/local/lib/python3.5/dist-packages/nltk/downloader.py\", line 549, in incr_download\n",
      "    for msg in self._download_package(info, download_dir, force):\n",
      "  File \"/usr/local/lib/python3.5/dist-packages/nltk/downloader.py\", line 585, in _download_package\n",
      "    status = self.status(info, download_dir)\n",
      "  File \"/usr/local/lib/python3.5/dist-packages/nltk/downloader.py\", line 763, in status\n",
      "    filepath)\n",
      "  File \"/usr/local/lib/python3.5/dist-packages/nltk/downloader.py\", line 777, in _pkg_status\n",
      "    if md5_hexdigest(filepath) != info.checksum:\n",
      "  File \"/usr/local/lib/python3.5/dist-packages/nltk/downloader.py\", line 1970, in md5_hexdigest\n",
      "    return _md5_hexdigest(infile)\n",
      "  File \"/usr/local/lib/python3.5/dist-packages/nltk/downloader.py\", line 1976, in _md5_hexdigest\n",
      "    block = fp.read(1024*16)  # 16k blocks\n",
      "KeyboardInterrupt\n"
     ]
    }
   ],
   "source": [
    "!sudo python3 -m nltk.downloader -d /usr/share/nltk_data all"
   ]
  },
  {
   "cell_type": "markdown",
   "metadata": {
    "deletable": true,
    "editable": true
   },
   "source": [
    "#### Extra NLTK resources\n",
    "\n",
    "NLTK also comes with some of the files from Project Gutenberg already included:"
   ]
  },
  {
   "cell_type": "code",
   "execution_count": 5,
   "metadata": {
    "collapsed": false,
    "deletable": true,
    "editable": true
   },
   "outputs": [],
   "source": [
    "import nltk"
   ]
  },
  {
   "cell_type": "code",
   "execution_count": 6,
   "metadata": {
    "collapsed": false,
    "deletable": true,
    "editable": true
   },
   "outputs": [
    {
     "name": "stdout",
     "output_type": "stream",
     "text": [
      "['austen-emma.txt', 'austen-persuasion.txt', 'austen-sense.txt', 'bible-kjv.txt', 'blake-poems.txt', 'bryant-stories.txt', 'burgess-busterbrown.txt', 'carroll-alice.txt', 'chesterton-ball.txt', 'chesterton-brown.txt', 'chesterton-thursday.txt', 'edgeworth-parents.txt', 'melville-moby_dick.txt', 'milton-paradise.txt', 'shakespeare-caesar.txt', 'shakespeare-hamlet.txt', 'shakespeare-macbeth.txt', 'whitman-leaves.txt']\n"
     ]
    }
   ],
   "source": [
    "print(nltk.corpus.gutenberg.fileids())"
   ]
  },
  {
   "cell_type": "code",
   "execution_count": 7,
   "metadata": {
    "collapsed": false,
    "deletable": true,
    "editable": true
   },
   "outputs": [
    {
     "data": {
      "text/plain": [
       "34110"
      ]
     },
     "execution_count": 7,
     "metadata": {},
     "output_type": "execute_result"
    }
   ],
   "source": [
    "alice  = nltk.corpus.gutenberg.words('carroll-alice.txt')\n",
    "len(alice)"
   ]
  },
  {
   "cell_type": "code",
   "execution_count": 8,
   "metadata": {
    "collapsed": false,
    "deletable": true,
    "editable": true
   },
   "outputs": [
    {
     "name": "stdout",
     "output_type": "stream",
     "text": [
      "*** Introductory Examples for the NLTK Book ***\n",
      "Loading text1, ..., text9 and sent1, ..., sent9\n",
      "Type the name of the text or sentence to view it.\n",
      "Type: 'texts()' or 'sents()' to list the materials.\n",
      "text1: Moby Dick by Herman Melville 1851\n",
      "text2: Sense and Sensibility by Jane Austen 1811\n",
      "text3: The Book of Genesis\n",
      "text4: Inaugural Address Corpus\n",
      "text5: Chat Corpus\n",
      "text6: Monty Python and the Holy Grail\n",
      "text7: Wall Street Journal\n",
      "text8: Personals Corpus\n",
      "text9: The Man Who Was Thursday by G . K . Chesterton 1908\n"
     ]
    }
   ],
   "source": [
    "from nltk.book import *"
   ]
  },
  {
   "cell_type": "code",
   "execution_count": 9,
   "metadata": {
    "collapsed": false,
    "deletable": true,
    "editable": true
   },
   "outputs": [
    {
     "data": {
      "text/plain": [
       "145735"
      ]
     },
     "execution_count": 9,
     "metadata": {},
     "output_type": "execute_result"
    }
   ],
   "source": [
    "len(text4)"
   ]
  },
  {
   "cell_type": "markdown",
   "metadata": {
    "deletable": true,
    "editable": true
   },
   "source": [
    "It is one thing to automatically detect that a particular word occurs in a text, and to display some words that appear in the same context. However, we can also determine the location of a word in the text: how many words from the beginning it appears. This positional information can be displayed using a dispersion plot. Each stripe represents an instance of a word, and each row represents the entire text. You can produce this plot as shown below. You might like to try more words (e.g., liberty, constitution), and different texts. Can you predict the dispersion of a word before you view it? "
   ]
  },
  {
   "cell_type": "code",
   "execution_count": 10,
   "metadata": {
    "collapsed": false,
    "deletable": true,
    "editable": true
   },
   "outputs": [
    {
     "data": {
      "image/png": "[encoded data removed]",
      "text/plain": [
       "<matplotlib.figure.Figure at 0x7fca7d12a908>"
      ]
     },
     "metadata": {},
     "output_type": "display_data"
    }
   ],
   "source": [
    "# Text4 is the inauguration addresses\n",
    "text4.dispersion_plot([\"citizens\", \"democracy\", \"freedom\", \"duties\", \"America\", \"world\"])"
   ]
  },
  {
   "cell_type": "markdown",
   "metadata": {
    "deletable": true,
    "editable": true
   },
   "source": [
    "#### Exercise\n",
    "\n",
    "* Pick your own book and create a dispersion plot for your keywords of choice."
   ]
  },
  {
   "cell_type": "code",
   "execution_count": 11,
   "metadata": {
    "collapsed": false,
    "deletable": true,
    "editable": true
   },
   "outputs": [],
   "source": [
    "# Your code here\n"
   ]
  },
  {
   "cell_type": "markdown",
   "metadata": {
    "deletable": true,
    "editable": true
   },
   "source": [
    "### Processing Text: Introduction "
   ]
  },
  {
   "cell_type": "markdown",
   "metadata": {
    "deletable": true,
    "editable": true
   },
   "source": [
    "Let's start by fetching a piece of text. We will go to [Project Gutenberg](https://www.gutenberg.org/) and fetch the text for \"The origin of species\""
   ]
  },
  {
   "cell_type": "code",
   "execution_count": 12,
   "metadata": {
    "collapsed": false,
    "deletable": true,
    "editable": true
   },
   "outputs": [],
   "source": [
    "import requests\n",
    "\n",
    "# The origin of species\n",
    "# Original at http://www.gutenberg.org/cache/epub/1228/pg1228.txt but there seems to be \n",
    "# some problem with downloading from Amazon EC2\n",
    "# url = \"http://www.gutenberg.org/cache/epub/1228/pg1228.txt\"\n",
    "url = \"https://dl.dropboxusercontent.com/u/16006464/DwD_Winter2015/1228.txt\"\n",
    "\n",
    "# Get the URL, do not check the SSL certificate\n",
    "resp = requests.get(url)\n",
    "\n",
    "# Get the text\n",
    "content = resp.text\n"
   ]
  },
  {
   "cell_type": "code",
   "execution_count": 14,
   "metadata": {
    "collapsed": false,
    "deletable": true,
    "editable": true
   },
   "outputs": [
    {
     "name": "stdout",
     "output_type": "stream",
     "text": [
      "951128\n"
     ]
    }
   ],
   "source": [
    "# The text contains template stuff at the beginning and end. Let's get rid of these\n",
    "start_phrase = \"*** START OF THIS PROJECT GUTENBERG EBOOK ON THE ORIGIN OF SPECIES ***\"\n",
    "end_phrase = \"*** END OF THIS PROJECT GUTENBERG EBOOK ON THE ORIGIN OF SPECIES ***\"\n",
    "s = content.index(start_phrase)\n",
    "e = content.index(end_phrase)\n",
    "true_content = content[s+len(start_phrase):e]\n",
    "\n",
    "# Approximate bytes of text\n",
    "print(len(true_content))"
   ]
  },
  {
   "cell_type": "markdown",
   "metadata": {
    "deletable": true,
    "editable": true
   },
   "source": [
    "### Frequency distributions, Zipf's law"
   ]
  },
  {
   "cell_type": "markdown",
   "metadata": {
    "deletable": true,
    "editable": true
   },
   "source": [
    "Now, we have our first text ready to be analyzed. Let's first do some analysis of the words that appear in this classic text:"
   ]
  },
  {
   "cell_type": "code",
   "execution_count": 15,
   "metadata": {
    "collapsed": false,
    "deletable": true,
    "editable": true
   },
   "outputs": [
    {
     "name": "stdout",
     "output_type": "stream",
     "text": [
      "<FreqDist with 13908 samples and 155443 outcomes>\n"
     ]
    }
   ],
   "source": [
    "tokens = true_content.split()\n",
    "\n",
    "# The nltk.Text object will offer us many useful functions for text analysis\n",
    "text = nltk.Text(tokens)\n",
    "\n",
    "# Frequency analysis for words of interest\n",
    "fdist = text.vocab()\n",
    "\n",
    "# Number of unique and total words in the text\n",
    "print(fdist)"
   ]
  },
  {
   "cell_type": "markdown",
   "metadata": {
    "deletable": true,
    "editable": true
   },
   "source": [
    "Let's take a look at the frequencies of some words in the text:"
   ]
  },
  {
   "cell_type": "code",
   "execution_count": 17,
   "metadata": {
    "collapsed": false,
    "deletable": true,
    "editable": true
   },
   "outputs": [
    {
     "name": "stdout",
     "output_type": "stream",
     "text": [
      "894\n",
      "42\n",
      "30\n"
     ]
    }
   ],
   "source": [
    "print(fdist[\"species\"])\n",
    "print(fdist[\"sexual\"])\n",
    "print(fdist[\"origin\"])"
   ]
  },
  {
   "cell_type": "markdown",
   "metadata": {
    "deletable": true,
    "editable": true
   },
   "source": [
    "Let's take a look at the actual words of the text:"
   ]
  },
  {
   "cell_type": "code",
   "execution_count": 18,
   "metadata": {
    "collapsed": false,
    "deletable": true,
    "editable": true
   },
   "outputs": [
    {
     "data": {
      "text/plain": [
       "FreqDist({'waste': 1,\n",
       "          'Characters:': 1,\n",
       "          'variation': 48,\n",
       "          'cobs,': 1,\n",
       "          'possible;': 1,\n",
       "          'when,': 1,\n",
       "          'avoided': 1,\n",
       "          'big': 2,\n",
       "          'authors': 23,\n",
       "          \"Wallace's\": 1,\n",
       "          'variations;': 4,\n",
       "          'calf,': 3,\n",
       "          'favourable,': 8,\n",
       "          'namely,--that': 1,\n",
       "          'fusca': 3,\n",
       "          'flank-membrane,': 1,\n",
       "          'intersection': 7,\n",
       "          'neatly': 1,\n",
       "          'proceeding': 8,\n",
       "          'day.': 10,\n",
       "          '87.': 5,\n",
       "          'correct:--': 1,\n",
       "          'for': 1028,\n",
       "          'organic': 135,\n",
       "          'silence.': 1,\n",
       "          'horse,': 11,\n",
       "          'chestnut:': 1,\n",
       "          'outside': 1,\n",
       "          'marsh-species': 1,\n",
       "          'organisation.': 5,\n",
       "          'pain,': 1,\n",
       "          'mistakes,': 1,\n",
       "          '58.': 1,\n",
       "          'China;': 1,\n",
       "          'haunts.': 1,\n",
       "          'bars;': 1,\n",
       "          'useless.': 2,\n",
       "          'glaciers': 5,\n",
       "          'REMAINS,': 1,\n",
       "          'base;': 1,\n",
       "          'high': 56,\n",
       "          'remote,': 2,\n",
       "          'rock-pigeons': 1,\n",
       "          'Woodward,': 2,\n",
       "          'CIRCUMSTANCES': 1,\n",
       "          'races': 30,\n",
       "          'race)': 1,\n",
       "          'languages,': 3,\n",
       "          'attain': 1,\n",
       "          'auks.': 2,\n",
       "          'crossed,--a': 1,\n",
       "          'zone;': 1,\n",
       "          'tastes,': 1,\n",
       "          'darkness,': 1,\n",
       "          '\"as': 2,\n",
       "          'reappear;': 3,\n",
       "          'mountains': 21,\n",
       "          'take,': 2,\n",
       "          'vigorously': 3,\n",
       "          'charlock': 1,\n",
       "          'succession,': 5,\n",
       "          'matched,': 2,\n",
       "          'weapons,': 3,\n",
       "          'woodpecker,': 4,\n",
       "          'greyhound-like': 1,\n",
       "          'melted': 2,\n",
       "          'law)': 1,\n",
       "          'Mediterranean,': 1,\n",
       "          'finding': 3,\n",
       "          'ought,': 2,\n",
       "          'surviving,': 3,\n",
       "          'acutest': 1,\n",
       "          'palaeontological': 6,\n",
       "          'Seedlings,': 1,\n",
       "          'soon,': 1,\n",
       "          'collections.': 2,\n",
       "          'axis': 1,\n",
       "          'Peloria,': 1,\n",
       "          'category': 1,\n",
       "          'caves': 12,\n",
       "          'thinking': 4,\n",
       "          'progressed.': 1,\n",
       "          'honey;': 1,\n",
       "          'increased': 18,\n",
       "          'Grouping': 2,\n",
       "          'wide': 61,\n",
       "          'intelligible;': 1,\n",
       "          'ceased,': 1,\n",
       "          'Fish:': 1,\n",
       "          'plums;': 1,\n",
       "          'follow.': 1,\n",
       "          'now,': 4,\n",
       "          'unite,': 1,\n",
       "          'consequently': 44,\n",
       "          'springing': 2,\n",
       "          'plant,': 7,\n",
       "          'began': 8,\n",
       "          'EMBRYOLOGY,': 2,\n",
       "          'infertile': 1,\n",
       "          'workmen;': 1,\n",
       "          'tree': 16,\n",
       "          'its': 407,\n",
       "          'English': 15,\n",
       "          'Dr.,': 2,\n",
       "          'caverns': 1,\n",
       "          'pebbles,': 2,\n",
       "          'thickness': 11,\n",
       "          'Hilaire:': 1,\n",
       "          'tools': 2,\n",
       "          'freshwater': 1,\n",
       "          'prepotent': 6,\n",
       "          'was--as': 1,\n",
       "          'coast-action.': 1,\n",
       "          'procreate': 2,\n",
       "          'discussion.': 1,\n",
       "          'ability': 1,\n",
       "          'ridge,': 1,\n",
       "          'drought,': 2,\n",
       "          'bamboos,': 1,\n",
       "          'situated,': 1,\n",
       "          'Rubus,': 1,\n",
       "          'appearance;': 1,\n",
       "          'Kirby': 2,\n",
       "          'so?': 3,\n",
       "          'illustration,': 1,\n",
       "          'water-birds': 1,\n",
       "          'cautioned,': 1,\n",
       "          'interbreeding.': 2,\n",
       "          'position.': 1,\n",
       "          'existence--are': 1,\n",
       "          'glacial,': 1,\n",
       "          'extraordinary': 20,\n",
       "          'Both': 6,\n",
       "          'overlooked': 1,\n",
       "          'food,': 17,\n",
       "          'range.': 4,\n",
       "          'Habit.': 2,\n",
       "          'hornless': 2,\n",
       "          'first-named': 1,\n",
       "          'charming': 1,\n",
       "          'enables': 1,\n",
       "          'state': 76,\n",
       "          'peach': 1,\n",
       "          'benefited': 1,\n",
       "          'beast': 1,\n",
       "          'preconceived': 1,\n",
       "          'aphides;': 1,\n",
       "          'Boar,': 1,\n",
       "          'pond,': 3,\n",
       "          'chains': 2,\n",
       "          'And': 64,\n",
       "          'Geological': 3,\n",
       "          'road': 2,\n",
       "          'Robert,': 1,\n",
       "          'abortion;': 1,\n",
       "          'Calceolaria,': 2,\n",
       "          'donkeys,': 1,\n",
       "          'fossorial': 1,\n",
       "          'nothing': 23,\n",
       "          'warned': 1,\n",
       "          'eyelids,': 2,\n",
       "          'unite': 15,\n",
       "          'perfected,': 4,\n",
       "          '394.': 2,\n",
       "          'properly,': 1,\n",
       "          'intercrossing.': 2,\n",
       "          'fertilise': 2,\n",
       "          '337.': 1,\n",
       "          'doctrine': 16,\n",
       "          'Hazel-nuts,': 1,\n",
       "          'architecture,': 1,\n",
       "          'justifiable': 1,\n",
       "          'Frogs': 1,\n",
       "          'Trees:': 1,\n",
       "          'fantail,': 5,\n",
       "          'contrary,': 6,\n",
       "          'sites,': 1,\n",
       "          'turkey': 1,\n",
       "          'furious': 1,\n",
       "          'dwarfed': 2,\n",
       "          'India.': 2,\n",
       "          'differ': 90,\n",
       "          'surfaces.': 1,\n",
       "          'markings.': 1,\n",
       "          'native': 19,\n",
       "          'drew': 1,\n",
       "          'horn-like': 1,\n",
       "          'THROUGHOUT': 1,\n",
       "          'combine': 1,\n",
       "          'stream;': 1,\n",
       "          'encountered': 3,\n",
       "          'worthy': 5,\n",
       "          'speak': 9,\n",
       "          'cent.': 1,\n",
       "          '184.': 4,\n",
       "          'ancestor': 4,\n",
       "          'Codlin-apple,': 1,\n",
       "          'sculpture;': 1,\n",
       "          'journey.': 1,\n",
       "          'up:': 1,\n",
       "          'assumes': 3,\n",
       "          'etc.),': 2,\n",
       "          'reputed': 4,\n",
       "          'right,': 1,\n",
       "          'suspended': 1,\n",
       "          'land-shells,': 7,\n",
       "          'Bosquet,': 2,\n",
       "          'slaves.': 7,\n",
       "          'discharge': 1,\n",
       "          'seeds--and': 1,\n",
       "          'lines,': 4,\n",
       "          'rays,': 1,\n",
       "          'SUDDEN': 2,\n",
       "          'disappear': 5,\n",
       "          'parent.': 20,\n",
       "          'choicest': 2,\n",
       "          'shells.': 2,\n",
       "          'digression.': 1,\n",
       "          'constellations.': 1,\n",
       "          'square': 5,\n",
       "          'retard': 1,\n",
       "          'merino': 1,\n",
       "          '185.': 11,\n",
       "          'Formica': 8,\n",
       "          'Scandinavia;': 2,\n",
       "          'destroyed': 17,\n",
       "          'beaks': 6,\n",
       "          'turnip': 1,\n",
       "          'enter.': 1,\n",
       "          'membranous': 2,\n",
       "          'connect,': 2,\n",
       "          '322.': 3,\n",
       "          'complete': 16,\n",
       "          'paralysed': 1,\n",
       "          'tenour': 1,\n",
       "          'water,--we': 1,\n",
       "          'CONTENTS.': 1,\n",
       "          'turnspit': 1,\n",
       "          'vigorous': 11,\n",
       "          'balance.': 1,\n",
       "          'season;': 1,\n",
       "          'measurements': 3,\n",
       "          'Society,': 1,\n",
       "          'indirectly': 6,\n",
       "          'position;': 1,\n",
       "          'number.': 8,\n",
       "          'lowlands': 4,\n",
       "          '(a14': 2,\n",
       "          'northern,': 2,\n",
       "          'intermittent': 5,\n",
       "          'exception,': 1,\n",
       "          'most': 386,\n",
       "          'Palaeozoic': 2,\n",
       "          'answered': 2,\n",
       "          'protest': 1,\n",
       "          'Hewitt,': 2,\n",
       "          'says,': 3,\n",
       "          'EXISTENCE.': 2,\n",
       "          'permitted': 4,\n",
       "          '44.': 2,\n",
       "          'scale,': 3,\n",
       "          '159.': 3,\n",
       "          'Indian': 13,\n",
       "          'inutility,': 1,\n",
       "          'Pliny,': 1,\n",
       "          '(he': 1,\n",
       "          'oil-gland': 1,\n",
       "          'animals,--and': 1,\n",
       "          '(making': 1,\n",
       "          'Type,': 2,\n",
       "          'concerned.': 1,\n",
       "          'process,': 10,\n",
       "          'Aegyptian': 1,\n",
       "          'pounds': 1,\n",
       "          'generated': 3,\n",
       "          'ancient': 79,\n",
       "          'indicating': 1,\n",
       "          '\"adaptive': 1,\n",
       "          'buoyancy,': 1,\n",
       "          'presented,': 1,\n",
       "          'Indeed,': 1,\n",
       "          'extraordinarily': 10,\n",
       "          'pupae': 10,\n",
       "          'decay.': 1,\n",
       "          'certain': 168,\n",
       "          'domestication:': 1,\n",
       "          'beings,--we': 1,\n",
       "          '387.': 6,\n",
       "          'served': 4,\n",
       "          'prefer': 2,\n",
       "          'improvements;': 1,\n",
       "          'tools,': 1,\n",
       "          'organs.': 4,\n",
       "          'Coccus,': 1,\n",
       "          'heavy': 4,\n",
       "          'single': 102,\n",
       "          'inspect': 1,\n",
       "          'subsidence,': 7,\n",
       "          'Watson': 5,\n",
       "          'locality.': 1,\n",
       "          'offspring,': 10,\n",
       "          '1': 1,\n",
       "          'effecting': 4,\n",
       "          'apprehend,': 1,\n",
       "          'dun,': 1,\n",
       "          'beds,': 6,\n",
       "          'parts,': 19,\n",
       "          'generality': 4,\n",
       "          'enlarged.': 1,\n",
       "          'coast-waves,': 1,\n",
       "          'fancy.': 1,\n",
       "          'Barberry,': 1,\n",
       "          'fruit,': 9,\n",
       "          'slaves,': 7,\n",
       "          'neighbourhood': 1,\n",
       "          'cold.': 1,\n",
       "          'partridge.': 1,\n",
       "          'welfare,': 2,\n",
       "          'ceasing': 1,\n",
       "          'respects': 10,\n",
       "          'conclude': 25,\n",
       "          'coasts;': 1,\n",
       "          'from,': 3,\n",
       "          'both;': 2,\n",
       "          'Persia,': 1,\n",
       "          'thick': 15,\n",
       "          'remain': 24,\n",
       "          'migration': 31,\n",
       "          'woodpecker': 3,\n",
       "          'island.': 7,\n",
       "          'sick': 1,\n",
       "          'flower': 35,\n",
       "          'showing': 22,\n",
       "          'same,': 13,\n",
       "          'who': 71,\n",
       "          'economising': 1,\n",
       "          'change.': 5,\n",
       "          'question;': 1,\n",
       "          'notion': 3,\n",
       "          'descendants,--our': 1,\n",
       "          'dialects.': 1,\n",
       "          'Neuter': 3,\n",
       "          'flank-membranes,': 1,\n",
       "          'Andes;': 1,\n",
       "          'sub-Himalayan': 2,\n",
       "          'whilst': 25,\n",
       "          'short-horn': 1,\n",
       "          'spend': 1,\n",
       "          'arbitrarily,': 1,\n",
       "          'hour,': 1,\n",
       "          'bold': 2,\n",
       "          'Stag-beetles,': 1,\n",
       "          'insight': 1,\n",
       "          'failed,': 1,\n",
       "          'serving': 6,\n",
       "          'eagerly': 3,\n",
       "          'hammock;': 1,\n",
       "          'household': 1,\n",
       "          'dorsal': 1,\n",
       "          'Fuci,': 1,\n",
       "          'pedigrees;': 1,\n",
       "          'workmen': 2,\n",
       "          'built.': 1,\n",
       "          \"reader's\": 2,\n",
       "          '18,': 1,\n",
       "          'diffusion': 7,\n",
       "          'Thus,': 25,\n",
       "          'methodical': 8,\n",
       "          'remotest': 1,\n",
       "          'honey:': 1,\n",
       "          'because': 34,\n",
       "          '239.': 2,\n",
       "          'Laurel,': 1,\n",
       "          'consecutive.': 1,\n",
       "          'kingdoms;': 1,\n",
       "          'Darwin': 1,\n",
       "          'quoted': 1,\n",
       "          'happened': 6,\n",
       "          'compositae,': 2,\n",
       "          'commencement': 19,\n",
       "          'affording': 1,\n",
       "          'probable:': 1,\n",
       "          'competitor,': 1,\n",
       "          'heath,': 6,\n",
       "          'Modern': 1,\n",
       "          'Tobacco,': 1,\n",
       "          'habits?': 1,\n",
       "          'fourth,': 1,\n",
       "          'thinks': 2,\n",
       "          'varied.': 2,\n",
       "          'vertebrae.': 1,\n",
       "          'states': 7,\n",
       "          'states,': 3,\n",
       "          'tapir;': 1,\n",
       "          'hardy': 1,\n",
       "          'upheaved': 4,\n",
       "          'bulls': 2,\n",
       "          'together!': 1,\n",
       "          'side;': 2,\n",
       "          'quite': 117,\n",
       "          'ceased': 2,\n",
       "          'discussed.': 3,\n",
       "          'palaeontology': 2,\n",
       "          'perpetually': 3,\n",
       "          'annua': 1,\n",
       "          'fly,': 1,\n",
       "          'evolved.': 1,\n",
       "          'efforts': 3,\n",
       "          'males.': 4,\n",
       "          'opinion': 6,\n",
       "          'instances': 29,\n",
       "          'breeding,': 3,\n",
       "          'homes': 7,\n",
       "          'member': 8,\n",
       "          'predict;': 1,\n",
       "          'bustard,': 1,\n",
       "          'shall': 82,\n",
       "          'plainly,': 2,\n",
       "          'powerful': 6,\n",
       "          'Mastodon': 1,\n",
       "          'teazle,': 1,\n",
       "          'Russia,': 3,\n",
       "          'VARIATIONS;': 1,\n",
       "          'LAWS': 3,\n",
       "          'humped': 2,\n",
       "          'creation;': 1,\n",
       "          'essential': 9,\n",
       "          'insect,': 2,\n",
       "          'Over': 1,\n",
       "          'Palaeontology': 1,\n",
       "          '13.': 2,\n",
       "          'hatching.': 1,\n",
       "          'half.': 1,\n",
       "          'require': 7,\n",
       "          'well-worked': 1,\n",
       "          'incredible.': 1,\n",
       "          'Formation,': 1,\n",
       "          'of.': 2,\n",
       "          'RACES': 1,\n",
       "          'se.': 1,\n",
       "          'feebler': 3,\n",
       "          'dermal': 2,\n",
       "          'subject;': 5,\n",
       "          'horn,': 1,\n",
       "          'methodically': 2,\n",
       "          'safer': 1,\n",
       "          'cell,': 7,\n",
       "          'escape,': 1,\n",
       "          'argued': 1,\n",
       "          'rare,': 8,\n",
       "          'moreover,': 13,\n",
       "          'survivors;': 1,\n",
       "          'characters:': 1,\n",
       "          'noted': 1,\n",
       "          'strata................................13,190.': 1,\n",
       "          'utterly': 32,\n",
       "          'anomalies': 1,\n",
       "          'difficult': 31,\n",
       "          'indigenes': 1,\n",
       "          'probability,': 2,\n",
       "          'faults,': 1,\n",
       "          'complemental': 1,\n",
       "          'immigrated': 2,\n",
       "          'valves': 4,\n",
       "          'Fanciers': 1,\n",
       "          '\"polymorphic,\"': 1,\n",
       "          'b14,': 1,\n",
       "          'bellowing,': 1,\n",
       "          'endeavour': 2,\n",
       "          'bushes,': 1,\n",
       "          'perfected;': 1,\n",
       "          'family,': 10,\n",
       "          'definite': 11,\n",
       "          'INSTINCT.': 3,\n",
       "          'A;': 1,\n",
       "          'temporarily': 3,\n",
       "          'brethren': 2,\n",
       "          'All': 20,\n",
       "          'improvement,': 3,\n",
       "          'polymorphic': 7,\n",
       "          'adaptive': 11,\n",
       "          'err': 2,\n",
       "          'totally': 3,\n",
       "          'jacobin;': 1,\n",
       "          'densities': 1,\n",
       "          'modification': 94,\n",
       "          'Glasgow': 1,\n",
       "          'muddy': 3,\n",
       "          'squirrel': 3,\n",
       "          'ago?': 1,\n",
       "          'affinity.': 3,\n",
       "          'aviary;': 1,\n",
       "          'monsters': 2,\n",
       "          'Genesis,': 1,\n",
       "          'crop?': 1,\n",
       "          'Now': 27,\n",
       "          'produce,': 2,\n",
       "          'pubescence': 1,\n",
       "          'stage;': 1,\n",
       "          'MONGRELS': 1,\n",
       "          'checked': 10,\n",
       "          'observed--throw': 1,\n",
       "          'flexible': 1,\n",
       "          'ground.': 4,\n",
       "          'described': 11,\n",
       "          'catastrophes,': 1,\n",
       "          'knowing': 7,\n",
       "          'thickness,': 9,\n",
       "          'ungnawed,': 2,\n",
       "          'species--in': 1,\n",
       "          'and,': 45,\n",
       "          'caterpillar.': 1,\n",
       "          'endured': 7,\n",
       "          'Slave-making': 3,\n",
       "          'attached,': 1,\n",
       "          'diagram,': 10,\n",
       "          'Zealand,': 16,\n",
       "          'Dean': 1,\n",
       "          'taking': 10,\n",
       "          'upper': 25,\n",
       "          'corolla': 3,\n",
       "          'potted,': 1,\n",
       "          'throws': 2,\n",
       "          'Variation:': 1,\n",
       "          'W.:': 1,\n",
       "          'Plums': 1,\n",
       "          'assurance,': 1,\n",
       "          'focus': 1,\n",
       "          'Spanish': 2,\n",
       "          'exclusion': 1,\n",
       "          'indigenous': 4,\n",
       "          'geologist': 4,\n",
       "          'mouth': 5,\n",
       "          'umbelliferae,': 3,\n",
       "          'symmetry,': 1,\n",
       "          'strawberry': 3,\n",
       "          'sex,': 5,\n",
       "          'compared': 43,\n",
       "          'grounds;': 1,\n",
       "          'FAVOURABLE': 1,\n",
       "          'fur': 6,\n",
       "          'dwarf': 1,\n",
       "          'beneath,': 1,\n",
       "          'tickled': 1,\n",
       "          'necks,': 1,\n",
       "          'Tertiary': 1,\n",
       "          'injurious': 23,\n",
       "          'chose': 1,\n",
       "          'whole,': 3,\n",
       "          'SPECIES,': 2,\n",
       "          'however': 30,\n",
       "          'notoriously': 3,\n",
       "          'cultivators': 1,\n",
       "          'implied,': 1,\n",
       "          'surface': 16,\n",
       "          'productions': 70,\n",
       "          'convenience': 6,\n",
       "          'hear': 14,\n",
       "          'movement,': 1,\n",
       "          'landrail': 1,\n",
       "          'birds.': 9,\n",
       "          'bred,': 1,\n",
       "          'fewness': 1,\n",
       "          'resulting': 1,\n",
       "          'stronger': 3,\n",
       "          'logically,': 1,\n",
       "          '182.': 5,\n",
       "          'displays': 1,\n",
       "          'itself:': 1,\n",
       "          'Dung-beetles': 1,\n",
       "          'that': 1999,\n",
       "          'region': 23,\n",
       "          'eye,': 7,\n",
       "          'whale,': 3,\n",
       "          'consisted': 2,\n",
       "          'may,': 15,\n",
       "          'de,': 2,\n",
       "          'nature--had': 1,\n",
       "          'Umbelliferae': 1,\n",
       "          '72,584': 1,\n",
       "          'prey:': 1,\n",
       "          'palaeozoic': 14,\n",
       "          'ichneumon,': 1,\n",
       "          'fleetness;': 1,\n",
       "          'standing': 13,\n",
       "          'stocked,': 1,\n",
       "          'x': 2,\n",
       "          'm3,': 1,\n",
       "          'theory;': 5,\n",
       "          'found,': 8,\n",
       "          'crust': 7,\n",
       "          'monstrosities:': 1,\n",
       "          'generic.': 1,\n",
       "          'koulan': 1,\n",
       "          'titmouse': 1,\n",
       "          'astonishment': 1,\n",
       "          'unanimously,': 1,\n",
       "          'defined.': 3,\n",
       "          'plains;': 1,\n",
       "          'layer': 5,\n",
       "          'OFTEN': 1,\n",
       "          'perfected.': 3,\n",
       "          'operculum,': 1,\n",
       "          'Dogs:': 1,\n",
       "          'has': 601,\n",
       "          'thousand;': 1,\n",
       "          'certainly,': 1,\n",
       "          'contingencies.': 1,\n",
       "          'primary': 3,\n",
       "          'rape-seed,': 1,\n",
       "          'Amongst': 6,\n",
       "          'still': 104,\n",
       "          'freely.\"': 1,\n",
       "          'dives': 2,\n",
       "          'Wandering': 1,\n",
       "          'health': 1,\n",
       "          'fleetness': 2,\n",
       "          'increasing.': 2,\n",
       "          'favour': 10,\n",
       "          'diverge': 2,\n",
       "          'competition;': 2,\n",
       "          'hind-legs,': 1,\n",
       "          'magnificent': 1,\n",
       "          'seemed': 9,\n",
       "          'transition': 5,\n",
       "          'PECULIAR': 1,\n",
       "          'mastered': 1,\n",
       "          's2,': 1,\n",
       "          'COMPARED,': 1,\n",
       "          'French': 1,\n",
       "          'belong': 13,\n",
       "          'Macleay': 2,\n",
       "          'both.\"': 1,\n",
       "          'speculate': 3,\n",
       "          'minute': 8,\n",
       "          'blanks': 2,\n",
       "          'kinds;': 1,\n",
       "          'ocean,': 5,\n",
       "          'experiment)': 1,\n",
       "          'tame': 5,\n",
       "          'clover,': 4,\n",
       "          '367,': 1,\n",
       "          '330.': 2,\n",
       "          'interstices': 1,\n",
       "          'questions,': 1,\n",
       "          'mentioned': 2,\n",
       "          'fathoms;': 1,\n",
       "          'behold!': 1,\n",
       "          'philosophically': 1,\n",
       "          'for,': 13,\n",
       "          'called.': 1,\n",
       "          'difficult:': 2,\n",
       "          'affected.': 5,\n",
       "          'latitudes,': 3,\n",
       "          'off': 20,\n",
       "          'collection:': 1,\n",
       "          'lower': 23,\n",
       "          'somewhat': 28,\n",
       "          'Bromley,': 1,\n",
       "          'Acclimatisation.': 2,\n",
       "          'ages.': 1,\n",
       "          'slowness,': 1,\n",
       "          'another:': 2,\n",
       "          '143,': 1,\n",
       "          'infinitely,': 1,\n",
       "          'transitional,': 1,\n",
       "          'say,': 4,\n",
       "          'indigenes,': 1,\n",
       "          'pronunciation,': 1,\n",
       "          'conversely;': 2,\n",
       "          'strain,': 1,\n",
       "          '(frogs,': 1,\n",
       "          'witnesses,': 1,\n",
       "          'fail': 7,\n",
       "          'barest': 1,\n",
       "          'coleoptera': 1,\n",
       "          'work),': 1,\n",
       "          'inhabitants!': 1,\n",
       "          '94': 2,\n",
       "          'saying': 5,\n",
       "          'this--we': 1,\n",
       "          'scantily': 1,\n",
       "          'impels': 1,\n",
       "          'unaltered': 5,\n",
       "          'horticulturist,': 1,\n",
       "          'process;': 1,\n",
       "          'establishment': 1,\n",
       "          'weight.': 3,\n",
       "          'breast': 1,\n",
       "          'foetal': 1,\n",
       "          'untouched': 2,\n",
       "          'offspring.': 15,\n",
       "          'solved.': 1,\n",
       "          'cat,': 3,\n",
       "          'habits,': 34,\n",
       "          'Russia': 2,\n",
       "          'pleases.\"': 1,\n",
       "          'Heer,': 2,\n",
       "          'trees.': 3,\n",
       "          'C': 1,\n",
       "          'eight': 13,\n",
       "          'pole,': 1,\n",
       "          'embryological': 12,\n",
       "          'pull': 2,\n",
       "          'special': 43,\n",
       "          'spawn': 2,\n",
       "          'doubted,': 1,\n",
       "          'appear': 48,\n",
       "          'matter': 4,\n",
       "          'gnawed': 3,\n",
       "          'hybrids,': 36,\n",
       "          'Madeira;': 1,\n",
       "          'ORGANIC': 5,\n",
       "          'reflects': 1,\n",
       "          'transported?': 1,\n",
       "          'folded--mere': 1,\n",
       "          'reptile.': 1,\n",
       "          'chinks': 2,\n",
       "          'fertilises': 1,\n",
       "          'flies': 6,\n",
       "          'against': 18,\n",
       "          \"shepherd's\": 1,\n",
       "          'banks,': 2,\n",
       "          'Alps': 2,\n",
       "          'district!': 1,\n",
       "          'mainland.': 6,\n",
       "          'discussed,': 1,\n",
       "          'analogy,': 3,\n",
       "          'counted': 1,\n",
       "          'Considering': 4,\n",
       "          'affinities,': 5,\n",
       "          'Present': 2,\n",
       "          'him': 11,\n",
       "          '(Anomma)': 1,\n",
       "          'work,': 15,\n",
       "          'Silurian': 30,\n",
       "          'So,': 4,\n",
       "          'selection?': 2,\n",
       "          'type.': 3,\n",
       "          'done': 11,\n",
       "          '(three': 1,\n",
       "          'unequally,': 4,\n",
       "          'mown,': 1,\n",
       "          'tried:': 1,\n",
       "          'remarks': 16,\n",
       "          'gradation,': 1,\n",
       "          'accepted,': 1,\n",
       "          'great': 234,\n",
       "          'child': 10,\n",
       "          'would,': 14,\n",
       "          'Bamboo': 1,\n",
       "          'survive,': 1,\n",
       "          'opportunity': 2,\n",
       "          'prodigal': 2,\n",
       "          'life;--the': 1,\n",
       "          'Why,': 7,\n",
       "          'connected,': 1,\n",
       "          'Leicester': 1,\n",
       "          'prey,': 8,\n",
       "          'carrier': 4,\n",
       "          'sting': 6,\n",
       "          'margin,': 1,\n",
       "          'doubtful.': 2,\n",
       "          'Continent': 2,\n",
       "          'Atlantic,': 1,\n",
       "          'body--a': 1,\n",
       "          'long-continued': 23,\n",
       "          'unimproved': 1,\n",
       "          'style': 1,\n",
       "          'authentic': 2,\n",
       "          'Catasetum,': 1,\n",
       "          'deficient': 5,\n",
       "          'distinctness': 3,\n",
       "          'appreciable,': 1,\n",
       "          'seldom': 19,\n",
       "          'dependent': 9,\n",
       "          'wax:': 1,\n",
       "          'obvious,': 3,\n",
       "          'groups:': 1,\n",
       "          'lies,': 1,\n",
       "          'whole': 136,\n",
       "          '361.': 3,\n",
       "          'infertility': 2,\n",
       "          '54.': 1,\n",
       "          'subordinate': 23,\n",
       "          'checking': 5,\n",
       "          'queen-wasp)': 1,\n",
       "          'view.': 6,\n",
       "          'possessor.': 4,\n",
       "          'ordered,': 1,\n",
       "          'fruit-bearing': 1,\n",
       "          'eat;': 1,\n",
       "          'woodcocks': 1,\n",
       "          'contingencies,': 3,\n",
       "          'sun,': 1,\n",
       "          'mastodons,': 1,\n",
       "          'poisons.': 1,\n",
       "          'vision,': 2,\n",
       "          'flew': 2,\n",
       "          'petrel,': 1,\n",
       "          'secondly': 2,\n",
       "          'finest': 5,\n",
       "          'country;': 10,\n",
       "          'undergone;': 2,\n",
       "          'third,': 1,\n",
       "          'expects': 1,\n",
       "          'fruits': 6,\n",
       "          'checked:': 1,\n",
       "          'Eyton,': 1,\n",
       "          'facts?': 2,\n",
       "          '289.': 2,\n",
       "          'principle,': 12,\n",
       "          'characteristics.': 1,\n",
       "          'reproduction,': 4,\n",
       "          'holders': 2,\n",
       "          'DEVELOPED': 1,\n",
       "          \"Jones's\": 1,\n",
       "          'pupae,': 1,\n",
       "          'Mountains': 1,\n",
       "          'systems,': 3,\n",
       "          'enlarge': 1,\n",
       "          'parent--say,': 1,\n",
       "          'SUCCESSION': 3,\n",
       "          'improved,': 7,\n",
       "          'kitchen-garden,': 1,\n",
       "          'dispersed': 1,\n",
       "          'transposed.': 1,\n",
       "          'small,': 11,\n",
       "          'extinction,': 11,\n",
       "          'opportunities': 1,\n",
       "          'descent': 49,\n",
       "          'whale': 3,\n",
       "          'wandering': 3,\n",
       "          'anomalies.': 1,\n",
       "          'diminishes': 2,\n",
       "          'production:': 1,\n",
       "          'males': 37,\n",
       "          'inheritance:': 1,\n",
       "          'Pyrenees.': 2,\n",
       "          'connect.': 2,\n",
       "          'whatever.': 1,\n",
       "          'pedigree;': 2,\n",
       "          'America)': 1,\n",
       "          'planes': 8,\n",
       "          'times;': 1,\n",
       "          'pits,': 1,\n",
       "          'history;': 1,\n",
       "          'nature:': 1,\n",
       "          'disappearance;': 1,\n",
       "          'condensed': 2,\n",
       "          '19.': 1,\n",
       "          'example': 5,\n",
       "          'zones,': 4,\n",
       "          'earlier.': 1,\n",
       "          'recapitulated.': 1,\n",
       "          'ventured': 1,\n",
       "          'varied,--to': 1,\n",
       "          'situations': 1,\n",
       "          'hides,': 1,\n",
       "          'attention,': 1,\n",
       "          'USE': 1,\n",
       "          'expressing': 2,\n",
       "          'C,': 3,\n",
       "          'difficulty,': 23,\n",
       "          'judgment.': 1,\n",
       "          '340.': 1,\n",
       "          'widely-diffused': 1,\n",
       "          'tissues?': 1,\n",
       "          'ascertained': 3,\n",
       "          'primrose': 4,\n",
       "          'extend;': 1,\n",
       "          'discovery.': 2,\n",
       "          'opinions': 1,\n",
       "          'perhaps': 54,\n",
       "          'processes': 2,\n",
       "          'these,': 4,\n",
       "          'point.': 3,\n",
       "          'rudimentary;': 1,\n",
       "          'fantail': 6,\n",
       "          '358.': 4,\n",
       "          'MURRAY,': 1,\n",
       "          'bears,': 2,\n",
       "          'letters)': 1,\n",
       "          'Aphides': 3,\n",
       "          'orchidaceous': 1,\n",
       "          'lastly,': 5,\n",
       "          'gardens': 1,\n",
       "          'experimentally': 2,\n",
       "          'appreciation': 1,\n",
       "          'law,': 2,\n",
       "          'process': 64,\n",
       "          'coloured': 21,\n",
       "          'fifth,': 1,\n",
       "          'low:': 1,\n",
       "          'step': 6,\n",
       "          'infinitesimally': 1,\n",
       "          'element;': 2,\n",
       "          'statements;': 1,\n",
       "          'wrecks': 2,\n",
       "          'male.': 1,\n",
       "          '14.': 3,\n",
       "          'perfected': 10,\n",
       "          'arbitrarily': 3,\n",
       "          'beaver': 1,\n",
       "          'Chthamalus,': 3,\n",
       "          'species,--those': 1,\n",
       "          'Anglesea': 2,\n",
       "          'examples': 3,\n",
       "          '10.': 3,\n",
       "          'imagine.\"': 1,\n",
       "          'pied': 2,\n",
       "          'cases,': 46,\n",
       "          'transportation': 1,\n",
       "          'added': 7,\n",
       "          'to': 3546,\n",
       "          'EXTINCTION.': 2,\n",
       "          'egg,': 6,\n",
       "          'forty': 5,\n",
       "          'denuded,': 1,\n",
       "          'connecting': 7,\n",
       "          'vegetation:': 1,\n",
       "          'hair:': 1,\n",
       "          'uniform.': 1,\n",
       "          'exposed': 29,\n",
       "          'character': 84,\n",
       "          'lowness': 1,\n",
       "          'attached': 6,\n",
       "          'Sexual': 6,\n",
       "          'hive-bee?': 1,\n",
       "          'Longmynd': 1,\n",
       "          'epidemics--at': 1,\n",
       "          'weather': 1,\n",
       "          'inculcated': 2,\n",
       "          'stretching': 2,\n",
       "          'believed,': 2,\n",
       "          'assuring': 1,\n",
       "          'prices': 2,\n",
       "          'having,': 2,\n",
       "          'ill-defined': 2,\n",
       "          'pulling': 1,\n",
       "          'similar.': 1,\n",
       "          'resemble,': 2,\n",
       "          'doing.': 1,\n",
       "          'offer': 11,\n",
       "          'systematist.': 1,\n",
       "          'sub-species--that': 1,\n",
       "          'admitting': 5,\n",
       "          'scorn.': 1,\n",
       "          'pimpernel,': 1,\n",
       "          'remains.': 3,\n",
       "          'enlarged': 5,\n",
       "          'expressed': 8,\n",
       "          'higher': 32,\n",
       "          'independent': 29,\n",
       "          'webbed': 10,\n",
       "          'dare': 2,\n",
       "          'case;': 6,\n",
       "          'lay': 11,\n",
       "          'ORIGIN': 3,\n",
       "          'common;': 4,\n",
       "          'comparison': 26,\n",
       "          'Chapter': 1,\n",
       "          'areas.': 4,\n",
       "          'double,': 1,\n",
       "          'ornamental': 1,\n",
       "          'impossible,': 2,\n",
       "          'useful,': 5,\n",
       "          'Primula,': 1,\n",
       "          'away;': 1,\n",
       "          'enter,': 2,\n",
       "          'ovule,': 2,\n",
       "          '335.': 1,\n",
       "          'formation.': 13,\n",
       "          'areas;': 4,\n",
       "          'join': 2,\n",
       "          'Individual': 2,\n",
       "          'Hieracium': 1,\n",
       "          'Marsupials;': 2,\n",
       "          'geologically,': 1,\n",
       "          'valuable,': 2,\n",
       "          'checks.': 1,\n",
       "          'humble-bee,': 3,\n",
       "          'under,': 1,\n",
       "          'act;': 2,\n",
       "          'fuller': 2,\n",
       "          'opened;': 1,\n",
       "          'through': 101,\n",
       "          'make': 62,\n",
       "          'pottery': 1,\n",
       "          'North': 38,\n",
       "          'diverging': 12,\n",
       "          'Even': 23,\n",
       "          'discovered,': 4,\n",
       "          'existence': 36,\n",
       "          'reversion,--that': 1,\n",
       "          'manifest.': 1,\n",
       "          'forest': 1,\n",
       "          'carnivorous.': 1,\n",
       "          'slow,': 8,\n",
       "          'simply': 21,\n",
       "          ...})"
      ]
     },
     "execution_count": 18,
     "metadata": {},
     "output_type": "execute_result"
    }
   ],
   "source": [
    "fdist"
   ]
  },
  {
   "cell_type": "markdown",
   "metadata": {
    "deletable": true,
    "editable": true
   },
   "source": [
    "OK, let's see a few more words"
   ]
  },
  {
   "cell_type": "code",
   "execution_count": 19,
   "metadata": {
    "collapsed": false,
    "deletable": true,
    "editable": true
   },
   "outputs": [
    {
     "name": "stdout",
     "output_type": "stream",
     "text": [
      "[('the', 9808), ('of', 7559), ('and', 4286), ('in', 3735), ('to', 3546), ('a', 2357), ('that', 1999), ('have', 1741), ('be', 1623), ('as', 1449), ('on', 1360), ('by', 1326), ('is', 1315), ('which', 1189), ('or', 1151), ('are', 1109), ('from', 1102), ('for', 1028), ('I', 968), ('with', 960), ('we', 932), ('been', 926), ('species', 894), ('it', 835), ('not', 833), ('this', 816), ('same', 769), ('will', 713), ('their', 708), ('at', 665), ('some', 616), ('other', 611), ('has', 601), ('one', 597), ('but', 586), ('more', 567), ('each', 536), ('they', 530), ('all', 518), ('any', 504), ('can', 496), ('an', 493), ('may', 491), ('would', 472), ('these', 434), ('so', 432), ('many', 427), ('its', 407), ('The', 404), ('very', 397)]\n"
     ]
    }
   ],
   "source": [
    "print(fdist.most_common(50))"
   ]
  },
  {
   "cell_type": "markdown",
   "metadata": {
    "deletable": true,
    "editable": true
   },
   "source": [
    "Hm, that is not very useful. These are all words that are needed by every single English text. Only the world \"species\" seems to have some meaning. The rest of the words tell us nothing about the text; they're just English \"plumbing.\"\n",
    "\n",
    "What proportion of the text is taken up with such words? We can generate a cumulative frequency plot for these words:\n"
   ]
  },
  {
   "cell_type": "code",
   "execution_count": 22,
   "metadata": {
    "collapsed": false,
    "deletable": true,
    "editable": true
   },
   "outputs": [
    {
     "data": {
      "image/png": "[encoded data removed]",
      "text/plain": [
       "<matplotlib.figure.Figure at 0x7fca77938c18>"
      ]
     },
     "metadata": {},
     "output_type": "display_data"
    }
   ],
   "source": [
    "fdist.plot(50, cumulative=True)"
   ]
  },
  {
   "cell_type": "markdown",
   "metadata": {
    "deletable": true,
    "editable": true
   },
   "source": [
    "These 50 words account for nearly half the book! (If you rememeber, we had 155443 words in the book)"
   ]
  },
  {
   "cell_type": "markdown",
   "metadata": {
    "deletable": true,
    "editable": true
   },
   "source": [
    "If the frequent words don't help us, how about the words that occur once only, the so-called hapaxes? View them by typing `fdist.hapaxes()`: "
   ]
  },
  {
   "cell_type": "code",
   "execution_count": 23,
   "metadata": {
    "collapsed": false,
    "deletable": true,
    "editable": true
   },
   "outputs": [
    {
     "data": {
      "text/plain": [
       "['waste',\n",
       " 'Characters:',\n",
       " 'cobs,',\n",
       " 'possible;',\n",
       " 'when,',\n",
       " 'avoided',\n",
       " \"Wallace's\",\n",
       " 'neatly',\n",
       " 'silence.',\n",
       " 'chestnut:',\n",
       " 'cousins',\n",
       " 'outside',\n",
       " 'marsh-species',\n",
       " 'pain,',\n",
       " 'mistakes,',\n",
       " '58.',\n",
       " 'China;',\n",
       " 'haunts.',\n",
       " 'bars;',\n",
       " 'advanced--for',\n",
       " 'rock-pigeons',\n",
       " 'CIRCUMSTANCES',\n",
       " 'teleostean,',\n",
       " 'race)',\n",
       " 'attain',\n",
       " 'crossed,--a',\n",
       " 'zone;',\n",
       " 'tastes,',\n",
       " 'darkness,',\n",
       " 'charlock',\n",
       " 'greyhound-like',\n",
       " 'Mediterranean,',\n",
       " 'acutest',\n",
       " 'Seedlings,',\n",
       " 'soon,',\n",
       " 'axis',\n",
       " 'Peloria,',\n",
       " 'category',\n",
       " 'progressed.',\n",
       " 'invention,',\n",
       " 'intelligible;',\n",
       " 'ceased,',\n",
       " 'Fish:',\n",
       " 'plums;',\n",
       " 'unite,',\n",
       " 'sea-water.',\n",
       " 'infertile',\n",
       " 'workmen;',\n",
       " 'verbascum,',\n",
       " 'caverns',\n",
       " 'Hilaire:',\n",
       " 'freshwater',\n",
       " 'was--as',\n",
       " 'coast-action.',\n",
       " 'discussion.',\n",
       " 'ridge,',\n",
       " 'bamboos,',\n",
       " 'concerned.',\n",
       " 'situated,',\n",
       " 'Rubus,',\n",
       " 'appearance;',\n",
       " 'illustration,',\n",
       " 'water-birds',\n",
       " 'Viola',\n",
       " 'position.',\n",
       " 'glacial,',\n",
       " 'first-named',\n",
       " 'charming',\n",
       " 'enables',\n",
       " 'peach',\n",
       " 'benefited',\n",
       " 'beast',\n",
       " 'preconceived',\n",
       " 'aphides;',\n",
       " 'Boar,',\n",
       " 'else,',\n",
       " 'self-fertilises',\n",
       " 'sense:',\n",
       " 'Ought',\n",
       " 'fossorial',\n",
       " 'warned',\n",
       " 'properly,',\n",
       " '337.',\n",
       " 'Hazel-nuts,',\n",
       " 'architecture,',\n",
       " 'justifiable',\n",
       " 'Frogs',\n",
       " 'museums',\n",
       " 'sites,',\n",
       " 'furious',\n",
       " 'surfaces.',\n",
       " 'markings.',\n",
       " 'ornithologists',\n",
       " 'drew',\n",
       " 'horn-like',\n",
       " 'THROUGHOUT',\n",
       " 'combine',\n",
       " 'stream;',\n",
       " 'cent.',\n",
       " 'Codlin-apple,',\n",
       " 'sculpture;',\n",
       " 'journey.',\n",
       " 'up:',\n",
       " 'right,',\n",
       " 'suspended',\n",
       " 'discharge',\n",
       " 'rays,',\n",
       " 'marsh',\n",
       " 'digression.',\n",
       " 'yards,',\n",
       " 'objects.',\n",
       " 'retard',\n",
       " 'merino',\n",
       " 'land-shell,',\n",
       " 'enter.',\n",
       " 'paralysed',\n",
       " 'balanced,',\n",
       " 'water,--we',\n",
       " 'CONTENTS.',\n",
       " 'turnspit',\n",
       " 'balance.',\n",
       " 'Society,',\n",
       " 'position;',\n",
       " 'exception,',\n",
       " 'protest',\n",
       " 'Water,',\n",
       " 'inutility,',\n",
       " 'Pliny,',\n",
       " '(he',\n",
       " 'oil-gland',\n",
       " 'animals,--and',\n",
       " 'desert,',\n",
       " 'Aegyptian',\n",
       " 'pounds',\n",
       " 'Gardner,',\n",
       " 'indicating',\n",
       " '\"adaptive',\n",
       " 'buoyancy,',\n",
       " 'presented,',\n",
       " 'Indeed,',\n",
       " 'decay.',\n",
       " 'domestication:',\n",
       " 'beings,--we',\n",
       " 'improvements;',\n",
       " 'tools,',\n",
       " 'Coccus,',\n",
       " 'inspect',\n",
       " 'locality.',\n",
       " '1',\n",
       " 'enlarged.',\n",
       " 'coast-waves,',\n",
       " 'fancy.',\n",
       " 'Barberry,',\n",
       " 'cold.',\n",
       " 'partridge.',\n",
       " 'ceasing',\n",
       " 'coasts;',\n",
       " 'Merino,',\n",
       " 'Persia,',\n",
       " 'sick',\n",
       " 'economising',\n",
       " 'descendants,--our',\n",
       " 'dialects.',\n",
       " 'flank-membranes,',\n",
       " 'Andes;',\n",
       " 'molluscs',\n",
       " 'flap',\n",
       " 'spend',\n",
       " 'arbitrarily,',\n",
       " 'mitigate',\n",
       " 'Stag-beetles,',\n",
       " 'insight',\n",
       " 'failed,',\n",
       " 'frequent,',\n",
       " 'hammock;',\n",
       " 'household',\n",
       " 'dorsal',\n",
       " 'built.',\n",
       " '18,',\n",
       " 'Wolf:',\n",
       " 'remotest',\n",
       " 'honey:',\n",
       " 'accepted,',\n",
       " 'consecutive.',\n",
       " 'kingdoms;',\n",
       " 'Darwin',\n",
       " 'quoted',\n",
       " 'affording',\n",
       " 'probable:',\n",
       " 'competitor,',\n",
       " 'Modern',\n",
       " 'habits?',\n",
       " 'vertebrae.',\n",
       " 'tapir;',\n",
       " 'hardy',\n",
       " 'together!',\n",
       " 'entailed',\n",
       " 'annua',\n",
       " 'fly,',\n",
       " 'evolved.',\n",
       " 'exceed',\n",
       " 'bustard,',\n",
       " 'Mastodon',\n",
       " 'playing',\n",
       " 'VARIATIONS;',\n",
       " 'agent',\n",
       " 'hatching.',\n",
       " 'half.',\n",
       " 'well-worked',\n",
       " 'incredible.',\n",
       " 'Formation,',\n",
       " 'RACES',\n",
       " 'Turkey-cock,',\n",
       " 'anthers.',\n",
       " 'horn,',\n",
       " 'safer',\n",
       " 'escape,',\n",
       " 'regular,',\n",
       " 'survivors;',\n",
       " 'characters:',\n",
       " 'noted',\n",
       " 'strata................................13,190.',\n",
       " 'anomalies',\n",
       " 'indigenes',\n",
       " 'faults,',\n",
       " 'complemental',\n",
       " 'Fanciers',\n",
       " '\"polymorphic,\"',\n",
       " 'b14,',\n",
       " 'bellowing,',\n",
       " 'bushes,',\n",
       " 'perfected;',\n",
       " 'A;',\n",
       " 'jacobin;',\n",
       " 'densities',\n",
       " 'Glasgow',\n",
       " 'opposite,',\n",
       " 'planets',\n",
       " 'ago?',\n",
       " 'aviary;',\n",
       " 'representatives',\n",
       " 'crop?',\n",
       " 'pubescence',\n",
       " 'stage;',\n",
       " 'MONGRELS',\n",
       " 'observed--throw',\n",
       " 'flexible',\n",
       " 'coccus,',\n",
       " 'catastrophes,',\n",
       " 'species--in',\n",
       " 'attached,',\n",
       " 'Dean',\n",
       " 'potted,',\n",
       " 'Variation:',\n",
       " 'W.:',\n",
       " 'Plums',\n",
       " 'assurance,',\n",
       " 'focus',\n",
       " 'exclusion',\n",
       " 'reverse.',\n",
       " 'symmetry,',\n",
       " 'grounds;',\n",
       " 'dwarf',\n",
       " 'tickled',\n",
       " 'necks,',\n",
       " 'Tertiary',\n",
       " 'chose',\n",
       " 'cultivators',\n",
       " 'implied,',\n",
       " 'Individuals:',\n",
       " 'facilities',\n",
       " 'landrail',\n",
       " 'bred,',\n",
       " 'fewness',\n",
       " 'resulting',\n",
       " 'displays',\n",
       " 'itself:',\n",
       " 'Dung-beetles',\n",
       " 'glands,',\n",
       " 'wants,',\n",
       " 'nature--had',\n",
       " 'Umbelliferae',\n",
       " '72,584',\n",
       " 'prey:',\n",
       " 'arvensis',\n",
       " 'fleetness;',\n",
       " 'famine',\n",
       " 'stocked,',\n",
       " 'm3,',\n",
       " 'monstrosities:',\n",
       " 'generic.',\n",
       " 'koulan',\n",
       " 'titmouse',\n",
       " 'astonishment',\n",
       " 'unanimously,',\n",
       " 'plains;',\n",
       " 'OFTEN',\n",
       " 'detected,',\n",
       " 'Dogs:',\n",
       " 'thousand;',\n",
       " 'certainly,',\n",
       " 'contingencies.',\n",
       " 'rape-seed,',\n",
       " 'freely.\"',\n",
       " 'Wandering',\n",
       " 'health',\n",
       " 'hind-legs,',\n",
       " 'closed',\n",
       " 'magnificent',\n",
       " 's2,',\n",
       " 'mean:',\n",
       " 'French',\n",
       " 'both.\"',\n",
       " 'experiment)',\n",
       " '367,',\n",
       " 'interstices',\n",
       " 'questions,',\n",
       " 'fathoms;',\n",
       " 'behold!',\n",
       " 'philosophically',\n",
       " 'called.',\n",
       " 'characters--that',\n",
       " 'collection:',\n",
       " 'ages.',\n",
       " 'slowness,',\n",
       " '143,',\n",
       " 'infinitely,',\n",
       " 'mules,',\n",
       " 'unsuccessful',\n",
       " 'indigenes,',\n",
       " 'arrangements',\n",
       " 'strain,',\n",
       " '(frogs,',\n",
       " 'Fishes:',\n",
       " 'barest',\n",
       " 'coleoptera',\n",
       " 'work),',\n",
       " 'inhabitants!',\n",
       " 'this--we',\n",
       " 'scantily',\n",
       " 'musk-rat,',\n",
       " 'horticulturist,',\n",
       " 'establishment',\n",
       " 'breast',\n",
       " 'solved.',\n",
       " 'pleases.\"',\n",
       " 'pole,',\n",
       " 'doubted,',\n",
       " 'Madeira;',\n",
       " 'reflects',\n",
       " 'transported?',\n",
       " 'folded--mere',\n",
       " 'reptile.',\n",
       " 'pond;',\n",
       " 'fertilises',\n",
       " \"shepherd's\",\n",
       " 'assumed,',\n",
       " 'way.',\n",
       " 'district!',\n",
       " 'discussed,',\n",
       " 'counted',\n",
       " '(Anomma)',\n",
       " 'across.',\n",
       " '(three',\n",
       " 'mown,',\n",
       " 'tried:',\n",
       " 'gradation,',\n",
       " 'Bamboo',\n",
       " 'survive,',\n",
       " 'life;--the',\n",
       " 'connected,',\n",
       " 'Leicester',\n",
       " 'Rats:',\n",
       " 'margin,',\n",
       " 'Atlantic,',\n",
       " 'body--a',\n",
       " 'measures,',\n",
       " 'style',\n",
       " 'Catasetum,',\n",
       " 'coasts,',\n",
       " 'Hermaphrodites',\n",
       " 'wax:',\n",
       " 'groups:',\n",
       " 'lies,',\n",
       " 'abstract,',\n",
       " 'fruit-bearing',\n",
       " 'eat;',\n",
       " 'woodcocks',\n",
       " 'glory',\n",
       " 'elliptic',\n",
       " 'sun,',\n",
       " 'mastodons,',\n",
       " 'poisons.',\n",
       " 'Geography,',\n",
       " 'petrel,',\n",
       " 'expects',\n",
       " 'checked:',\n",
       " 'Eyton,',\n",
       " 'characteristics.',\n",
       " 'naturalist:',\n",
       " 'DEVELOPED',\n",
       " \"Jones's\",\n",
       " 'pupae,',\n",
       " 'Mountains',\n",
       " 'enlarge',\n",
       " 'parent--say,',\n",
       " 'kitchen-garden,',\n",
       " 'dispersed',\n",
       " 'transposed.',\n",
       " 'opportunities',\n",
       " 'anomalies.',\n",
       " 'proclaimed',\n",
       " 'production:',\n",
       " 'inheritance:',\n",
       " 'whatever.',\n",
       " 'America)',\n",
       " 'SEXUAL',\n",
       " 'Jerusalem,',\n",
       " 'history;',\n",
       " 'nature:',\n",
       " 'disappearance;',\n",
       " 'plumule',\n",
       " '19.',\n",
       " 'earlier.',\n",
       " 'recapitulated.',\n",
       " 'ventured',\n",
       " 'Andrew,',\n",
       " 'Branchiae,',\n",
       " 'attention,',\n",
       " 'USE',\n",
       " 'coerulea),',\n",
       " 'judgment.',\n",
       " '340.',\n",
       " '(which,',\n",
       " 'tissues?',\n",
       " 'extend;',\n",
       " 'opinions',\n",
       " 'rudimentary;',\n",
       " 'MURRAY,',\n",
       " 'letters)',\n",
       " 'orchidaceous',\n",
       " 'gardens',\n",
       " 'appreciation',\n",
       " 'fifth,',\n",
       " 'low:',\n",
       " 'infinitesimally',\n",
       " 'statements;',\n",
       " 'male.',\n",
       " 'beaver',\n",
       " 'species,--those',\n",
       " 'imagine.\"',\n",
       " 'transportation',\n",
       " 'Wings:',\n",
       " 'osculant',\n",
       " 'insuperable.',\n",
       " 'vegetation:',\n",
       " 'hair:',\n",
       " 'uniform.',\n",
       " 'hive-bee?',\n",
       " 'Longmynd',\n",
       " 'weather',\n",
       " 'sea-shell',\n",
       " 'balancement,',\n",
       " 'pulling',\n",
       " 'similar.',\n",
       " 'doing.',\n",
       " 'systematist.',\n",
       " 'sub-species--that',\n",
       " 'scorn.',\n",
       " 'pimpernel,',\n",
       " 'Chapter',\n",
       " 'double,',\n",
       " 'ornamental',\n",
       " 'Primula,',\n",
       " 'away;',\n",
       " '335.',\n",
       " 'Hieracium',\n",
       " 'Practically',\n",
       " 'checks.',\n",
       " 'under,',\n",
       " 'opened;',\n",
       " '(undergoing',\n",
       " 'reversion,--that',\n",
       " 'manifest.',\n",
       " 'forest',\n",
       " 'carnivorous.',\n",
       " 'naturalised;',\n",
       " '(whose',\n",
       " 'dominant.',\n",
       " 'forward,',\n",
       " 'donkey,',\n",
       " 'describing,',\n",
       " 'sterility:',\n",
       " 'Abstract,',\n",
       " 'partridge,',\n",
       " 'supposed),',\n",
       " 'volume;',\n",
       " 'super-added',\n",
       " 'a2,',\n",
       " 'historian,',\n",
       " 'mariners',\n",
       " 'staggered;',\n",
       " 'blindness.',\n",
       " 'collection,',\n",
       " 'manifold',\n",
       " 'horticulturist',\n",
       " 'rodent',\n",
       " 'currant',\n",
       " 'effect:',\n",
       " 'Merionethshire',\n",
       " 'notice;',\n",
       " 'Animals:',\n",
       " 'sisters?',\n",
       " 'areas:',\n",
       " 'easily,',\n",
       " 'ALMOST',\n",
       " 'great,--not',\n",
       " 'console',\n",
       " 'About',\n",
       " 'departments',\n",
       " 'belts',\n",
       " 'hypothetically',\n",
       " 'decay',\n",
       " 'penetrate',\n",
       " 'half-monstrous',\n",
       " 'ill-applied',\n",
       " 'grass-feeding',\n",
       " \"'Manual,'\",\n",
       " 'Hereafter',\n",
       " 'quinary,',\n",
       " 'unenclosed',\n",
       " 'Trees:',\n",
       " 'gall-fly',\n",
       " 'widened',\n",
       " 'actively',\n",
       " 'friend',\n",
       " 'Orders',\n",
       " 'moisture,',\n",
       " 'Reproduction;',\n",
       " 'pigeon-fancier.',\n",
       " 'arriving',\n",
       " \"World.'\",\n",
       " 'slower;',\n",
       " 'pencil,',\n",
       " 'dog:',\n",
       " 'reckoned',\n",
       " 'Harcourt,',\n",
       " 'pinnate',\n",
       " 'details)',\n",
       " 'Dugong,',\n",
       " 'duck;',\n",
       " 'drooping,',\n",
       " 'Neither',\n",
       " 'Wrens,',\n",
       " '\"have',\n",
       " 'Eggs',\n",
       " '23',\n",
       " 'animal;',\n",
       " 'cultivate,',\n",
       " 'f10,',\n",
       " 'forming.',\n",
       " 'keenly',\n",
       " 'appendage,',\n",
       " 'Chile.\"',\n",
       " 'far-fetched,',\n",
       " 'woodpeckers,',\n",
       " 'way;',\n",
       " 'inexorable',\n",
       " 'suspicion',\n",
       " 'wonderful,',\n",
       " 'grows,',\n",
       " 'geography',\n",
       " 'harmless',\n",
       " 'breaks',\n",
       " 'Rodents;',\n",
       " 'conclusively',\n",
       " 'imagination,',\n",
       " 'practically,',\n",
       " 'liable,',\n",
       " 'marshy',\n",
       " 'Reptiles',\n",
       " 'tool',\n",
       " 'working,--for',\n",
       " 'Rodents.',\n",
       " 'form--either',\n",
       " 'Mastodon,',\n",
       " 'exceedingly',\n",
       " 'compact',\n",
       " 'feathers;',\n",
       " 'incessant,',\n",
       " 'pony,',\n",
       " 'derivation.',\n",
       " 'imaginary,',\n",
       " 'songsters,',\n",
       " 'foal',\n",
       " 'mainland,--are,',\n",
       " 'breathed.',\n",
       " 'parted',\n",
       " 'invent',\n",
       " 'suffers',\n",
       " 'spear.',\n",
       " 'purchase',\n",
       " 'Geese:',\n",
       " 'circumstanced,',\n",
       " 'organisation:',\n",
       " 'elephant,',\n",
       " 'Reevesii,',\n",
       " 'puts',\n",
       " 'thickness;',\n",
       " 'Order,',\n",
       " '\"it',\n",
       " 'tree!',\n",
       " 'parturition,',\n",
       " 'structures;',\n",
       " 'Japan.',\n",
       " 'climber.',\n",
       " 'members;',\n",
       " 'sized',\n",
       " 'decreased.',\n",
       " 'parent-species.',\n",
       " 'duration;',\n",
       " 'compare--but',\n",
       " 'diluvial',\n",
       " 'examined.',\n",
       " 'stag',\n",
       " 'inconceivably',\n",
       " 'coot;',\n",
       " 're-performed',\n",
       " 'independently,',\n",
       " 'poor,',\n",
       " 'answered;',\n",
       " 'Modification',\n",
       " 'fact--the',\n",
       " 'birthplace',\n",
       " 'distinguished.',\n",
       " 'rendering',\n",
       " 'acuminata,',\n",
       " 'Hartung',\n",
       " 'philosophical',\n",
       " 'maxillae.',\n",
       " 'sacred',\n",
       " 'hippobosca,',\n",
       " 'hood,',\n",
       " 'country!',\n",
       " 'Lepsius;',\n",
       " 'eyes;',\n",
       " 'pass,',\n",
       " 'adults,',\n",
       " 'famines',\n",
       " 'germination',\n",
       " 'imagination;',\n",
       " 'slaves,--the',\n",
       " 'oesophagus.',\n",
       " 'cocoons.',\n",
       " 'hares.',\n",
       " 'proofs',\n",
       " 'meal',\n",
       " 'mysterious,',\n",
       " 'fragmentary',\n",
       " 'sizes.',\n",
       " 'separated,',\n",
       " 'deeply-seated',\n",
       " 'finch;',\n",
       " 'seeking,',\n",
       " 'countenances',\n",
       " 'convalescence',\n",
       " 'reefs,',\n",
       " 'testing',\n",
       " 'setter',\n",
       " 'valid,',\n",
       " 'prepare',\n",
       " 'situations.',\n",
       " 'botanist,',\n",
       " 'transport:',\n",
       " 'exterminating',\n",
       " 'case)',\n",
       " '\"sporting',\n",
       " 'lessening',\n",
       " 'Caraccas',\n",
       " 'COMPLICATION.',\n",
       " 'gone;',\n",
       " 'grades.',\n",
       " 'approached',\n",
       " 'Fernandez,',\n",
       " 'dray',\n",
       " 'Downs,',\n",
       " 'quaternary,',\n",
       " 'exportation:',\n",
       " '438.',\n",
       " 'augmenting,',\n",
       " 'immediately,',\n",
       " 'tenour',\n",
       " 'imperceptible',\n",
       " 'INDEX.',\n",
       " 'bright-coloured',\n",
       " 'ignorant.',\n",
       " 'necessitated',\n",
       " 'slaty-blue',\n",
       " 'limestone',\n",
       " 'four)',\n",
       " '33.',\n",
       " 'skins',\n",
       " 'throughout,',\n",
       " 'intercommunication.',\n",
       " 'peculiar,',\n",
       " 'outline.',\n",
       " 'digit',\n",
       " '388.',\n",
       " 'aborigines;',\n",
       " 'foregoing;',\n",
       " 'Mere',\n",
       " 'viscera.',\n",
       " 'inquiry',\n",
       " '\"nay,',\n",
       " 'covered,',\n",
       " 'woody',\n",
       " 'explained:',\n",
       " 'accidental.',\n",
       " 'retention',\n",
       " 'hexagonal;',\n",
       " 'sentence,',\n",
       " 'Etc.,',\n",
       " 'Climate',\n",
       " 'sub-classes,',\n",
       " 'conversed,',\n",
       " 'unexpected,',\n",
       " 'numbers?',\n",
       " 'abrupt,',\n",
       " 'premise,',\n",
       " 'quickly.',\n",
       " 'harvested',\n",
       " 'vehemently,',\n",
       " 'beaten;',\n",
       " 'accepted',\n",
       " 'pointer,',\n",
       " 'loved',\n",
       " 'marsupial',\n",
       " 'coelospermous',\n",
       " 'nest;',\n",
       " 'subsides.',\n",
       " 'recognised;',\n",
       " 'nodules',\n",
       " '459.',\n",
       " 'periods,--a',\n",
       " 'water-beetle',\n",
       " 'disregarded.',\n",
       " 'immense;',\n",
       " 'fanciers.',\n",
       " 'Martens,',\n",
       " 'flourish',\n",
       " 'Phasianus,',\n",
       " 'perform,',\n",
       " 'roost',\n",
       " 'advantages:',\n",
       " 'caterpillar.',\n",
       " 'disappeared;',\n",
       " 'surpass',\n",
       " 'phyllodineous',\n",
       " 'remark.',\n",
       " 'circumstance)',\n",
       " 'climates!',\n",
       " 'Round',\n",
       " 'surviving.',\n",
       " 'hemp,',\n",
       " 'packed',\n",
       " 'SELECTED.',\n",
       " 'gravel,',\n",
       " 'Sageret',\n",
       " 'fanciers',\n",
       " 'sobriety,',\n",
       " 'J.,',\n",
       " 'means:',\n",
       " 'useless;',\n",
       " 'ruins',\n",
       " 'communities',\n",
       " 'civilising',\n",
       " 'prizes',\n",
       " 'lead;',\n",
       " 'Mediterranean.',\n",
       " 'task',\n",
       " 'shrike,',\n",
       " 'breeze;',\n",
       " 'albino,',\n",
       " 'always,',\n",
       " 'Certainly,',\n",
       " 'eleventh',\n",
       " 'mention',\n",
       " 'Rhine,',\n",
       " 'found;',\n",
       " 'discovered--a',\n",
       " 'Embryology;',\n",
       " 'neighbourhood;',\n",
       " 'Ostrich:',\n",
       " 'earlier,',\n",
       " 'planes,',\n",
       " 'agriculturalists',\n",
       " 'adopt',\n",
       " 'apples,',\n",
       " 'WHOLE',\n",
       " 'Naturalisation:',\n",
       " 'ABSENCE',\n",
       " 'climates?',\n",
       " 'aerating',\n",
       " 'symmetry,\"',\n",
       " 'game-cock,',\n",
       " 'POORNESS',\n",
       " 'diversities',\n",
       " 'deny.',\n",
       " 'LOWEST',\n",
       " 'shoulder-stripe',\n",
       " 'water-lily,',\n",
       " '(Monochanthus,',\n",
       " 'mastered.',\n",
       " 'shepherd-dogs',\n",
       " 'vague;',\n",
       " 'unlike;',\n",
       " 'combinations',\n",
       " 'diverged.',\n",
       " 'spherical,',\n",
       " 'arise,',\n",
       " 'brackish',\n",
       " 'nest,--I',\n",
       " 'Bear,',\n",
       " 'local,--both',\n",
       " 'truly,',\n",
       " 'Marsupials--the',\n",
       " '446,',\n",
       " '\"roguing\"',\n",
       " '307,',\n",
       " 'definition;',\n",
       " 'Hamilton,',\n",
       " 'Norway',\n",
       " 'rivalled',\n",
       " '306,662,400',\n",
       " 'sentence',\n",
       " 'Silliman,',\n",
       " 'tuco-tuco,',\n",
       " 'Muller,',\n",
       " 'alighting',\n",
       " 'months',\n",
       " 'springs',\n",
       " 'fulfil',\n",
       " 'blackbird,',\n",
       " 'beings,--is',\n",
       " 'array',\n",
       " 'obscurity.',\n",
       " 'assist',\n",
       " 'illustrations',\n",
       " '357',\n",
       " '483.',\n",
       " 'incarnatum,',\n",
       " 'aphides.',\n",
       " 'replaces',\n",
       " 'colder,',\n",
       " 'Certainly',\n",
       " 'Lingula',\n",
       " 'Mud,',\n",
       " 'pigs;',\n",
       " 'Tausch,',\n",
       " 'Spencer',\n",
       " 'silkworm;',\n",
       " 'Metamorphism',\n",
       " 'Balanidae',\n",
       " 'attempting',\n",
       " 'aid;',\n",
       " 'Romans,',\n",
       " 'watched,',\n",
       " 'lasts',\n",
       " 'explained;',\n",
       " 'Drift',\n",
       " 'material',\n",
       " 'Buckley',\n",
       " 'EARLY',\n",
       " 'attained',\n",
       " 'monstrous,',\n",
       " 'COLLECTIONS.',\n",
       " 'HABITS',\n",
       " 'observed--and',\n",
       " 'laboriously',\n",
       " 'climate?',\n",
       " '(Troglodytes)',\n",
       " 'cotton-planter',\n",
       " 'pelvis;',\n",
       " 'world.\"',\n",
       " 'V.',\n",
       " 'nodules,',\n",
       " 'Crustaceans,',\n",
       " '1100',\n",
       " 'enveloped',\n",
       " 'sinks',\n",
       " 'vetches,',\n",
       " \"Horner's\",\n",
       " 'fore',\n",
       " 'created--is',\n",
       " 'station.',\n",
       " 'tip',\n",
       " 'twigs;',\n",
       " 'namely,--that',\n",
       " 'Strickland,',\n",
       " 'graft',\n",
       " 'counted.',\n",
       " 'Juan',\n",
       " 'indigenes;',\n",
       " 'Valenciennes,',\n",
       " 'rank.',\n",
       " 'taken,',\n",
       " 'production.',\n",
       " 'chase',\n",
       " 'steadiness',\n",
       " 'allowances,',\n",
       " 'Connarus.\"',\n",
       " 'Fellow',\n",
       " 'Schlegel,',\n",
       " 'importance--the',\n",
       " 'seeds?',\n",
       " 'improves',\n",
       " 'acquire.',\n",
       " 'pelicans;',\n",
       " 'districts:',\n",
       " 'tables,',\n",
       " 'embraces',\n",
       " 'failed;',\n",
       " 'allowances',\n",
       " 'little;',\n",
       " 'boring',\n",
       " 'preyed',\n",
       " 'salt-loving',\n",
       " 'Brent',\n",
       " 'hazard',\n",
       " 'define,',\n",
       " 'functions.',\n",
       " 'much;',\n",
       " 'prize,',\n",
       " 'what,',\n",
       " 'establishing',\n",
       " 'Lion:',\n",
       " 'respect.',\n",
       " 'press',\n",
       " 'imagining',\n",
       " 'purposely',\n",
       " 'intermingle,',\n",
       " 'distances.',\n",
       " 'pelargoniums,',\n",
       " 'historically',\n",
       " 'subsist',\n",
       " '\"plan',\n",
       " 'noticed,',\n",
       " 'comprehension;',\n",
       " '1858,',\n",
       " '135,',\n",
       " 'specific,',\n",
       " 'fancifully',\n",
       " 'fleshed',\n",
       " 'admit,',\n",
       " 'tube',\n",
       " 'membrane;',\n",
       " 'high,--some',\n",
       " 'recorded.',\n",
       " 'stages.',\n",
       " 'capriciously;',\n",
       " 'extensively',\n",
       " 'deciduous,',\n",
       " 'proved,',\n",
       " 'cracks',\n",
       " 'stipules',\n",
       " 'maxima,',\n",
       " 'dissolves',\n",
       " '\"To',\n",
       " 'distinction,',\n",
       " 'currant,',\n",
       " 'be;',\n",
       " '29,',\n",
       " 'property,',\n",
       " 'Puffinuria',\n",
       " 'thought:',\n",
       " 'disturb',\n",
       " 'silk-moth;',\n",
       " 'brackish-water',\n",
       " 'fair.',\n",
       " 'enumerated,',\n",
       " 'tropics,',\n",
       " 'rarer;',\n",
       " 'met;',\n",
       " 'end.',\n",
       " 'interest,',\n",
       " 'communication,',\n",
       " 'sees',\n",
       " 'higher,',\n",
       " 'do.',\n",
       " 'seventh',\n",
       " '(very',\n",
       " 'indisputable',\n",
       " 'around.',\n",
       " \"Lucas's\",\n",
       " 'hurt.',\n",
       " 'ptarmigan',\n",
       " 'Hilaire.',\n",
       " 'transformed',\n",
       " 'sterility;',\n",
       " 'groundless',\n",
       " ...]"
      ]
     },
     "execution_count": 23,
     "metadata": {},
     "output_type": "execute_result"
    }
   ],
   "source": [
    "fdist.hapaxes()"
   ]
  },
  {
   "cell_type": "markdown",
   "metadata": {
    "deletable": true,
    "editable": true
   },
   "source": [
    "OK, we have a problem. We generated the words of the text by doing a simple `split()`. So our \"words\" also contain punctuation, and words with different capitalization are considered difference."
   ]
  },
  {
   "cell_type": "markdown",
   "metadata": {
    "deletable": true,
    "editable": true
   },
   "source": [
    "### Normalization and Tokenization"
   ]
  },
  {
   "cell_type": "markdown",
   "metadata": {
    "deletable": true,
    "editable": true
   },
   "source": [
    "So, in order to to proper analysis we need to remove from the document all the punctuation. However, keeping only alphanumeric characters will break things like `B.Sc.` `N.Y.U.` and so on. The process of properly splitting the document into appropriate basic elements is called `tokenization`.\n",
    "\n",
    "NLTK gives us a (set of ) function call(s) that can do the tokenization (see also http://www.nltk.org/_modules/nltk/tokenize.html):"
   ]
  },
  {
   "cell_type": "code",
   "execution_count": 24,
   "metadata": {
    "collapsed": false,
    "deletable": true,
    "editable": true
   },
   "outputs": [
    {
     "name": "stdout",
     "output_type": "stream",
     "text": [
      "['Good', 'bagels', 'cost', '$', '2.88', 'in', 'New', 'York', '.', 'Hey', 'Prof.', 'Ipeirotis', ',', 'please', 'buy', 'me', 'two', 'of', 'them', '.', 'Thanks', '.', 'PS', ':', 'You', 'have', 'a', 'Ph.D.', ',', 'you', 'can', 'handle', 'this', ',', 'right', '?']\n"
     ]
    }
   ],
   "source": [
    "example = '''Good bagels cost $2.88 in New York.  \n",
    "    Hey Prof. Ipeirotis, please buy me two of them.\n",
    "    \n",
    "    Thanks.\n",
    "    \n",
    "    PS: You have a Ph.D., you can handle this, right?'''\n",
    "\n",
    "print(nltk.word_tokenize(example))"
   ]
  },
  {
   "cell_type": "code",
   "execution_count": 25,
   "metadata": {
    "collapsed": false,
    "deletable": true,
    "editable": true
   },
   "outputs": [
    {
     "name": "stdout",
     "output_type": "stream",
     "text": [
      "['On', 'a', '$', '50,000', 'mortgage', 'of', '30', 'years', 'at', '8', 'percent', ',', 'the', 'monthly', 'payment', 'would', 'be', '$', '366.88', '.']\n"
     ]
    }
   ],
   "source": [
    "s1 = \"On a $50,000 mortgage of 30 years at 8 percent, the monthly payment would be $366.88.\"\n",
    "print(nltk.word_tokenize(s1))"
   ]
  },
  {
   "cell_type": "code",
   "execution_count": 26,
   "metadata": {
    "collapsed": false,
    "deletable": true,
    "editable": true
   },
   "outputs": [
    {
     "name": "stdout",
     "output_type": "stream",
     "text": [
      "['``', 'We', 'beat', 'some', 'pretty', 'good', 'teams', 'to', 'get', 'here', ',', \"''\", 'Slocum', 'said', '.']\n"
     ]
    }
   ],
   "source": [
    "s2 = \"\\\"We beat some pretty good teams to get here,\\\" Slocum said.\"\n",
    "print(nltk.word_tokenize(s2))"
   ]
  },
  {
   "cell_type": "code",
   "execution_count": 27,
   "metadata": {
    "collapsed": false,
    "deletable": true,
    "editable": true
   },
   "outputs": [
    {
     "name": "stdout",
     "output_type": "stream",
     "text": [
      "['Well', ',', 'we', 'could', \"n't\", 'have', 'this', 'predictable', ',', 'cliche-ridden', ',', '``', 'Touched', 'by', 'an', 'Angel', \"''\", '(', 'a', 'show', 'creator', 'John', 'Masius', 'worked', 'on', ')', 'wanna-be', 'if', 'she', 'did', \"n't\", '.']\n"
     ]
    }
   ],
   "source": [
    "s3 = \"Well, we couldn't have this predictable, cliche-ridden, \\\"Touched by an Angel\\\" (a show creator John Masius worked on) wanna-be if she didn't.\"\n",
    "print(nltk.word_tokenize(s3))"
   ]
  },
  {
   "cell_type": "code",
   "execution_count": 28,
   "metadata": {
    "collapsed": false,
    "deletable": true,
    "editable": true
   },
   "outputs": [
    {
     "name": "stdout",
     "output_type": "stream",
     "text": [
      "['I', 'can', 'not', 'can', 'not', 'work', 'under', 'these', 'conditions', '!']\n"
     ]
    }
   ],
   "source": [
    "s4 = \"I cannot cannot work under these conditions!\"\n",
    "print(nltk.word_tokenize(s4))"
   ]
  },
  {
   "cell_type": "code",
   "execution_count": 29,
   "metadata": {
    "collapsed": false,
    "deletable": true,
    "editable": true
   },
   "outputs": [
    {
     "name": "stdout",
     "output_type": "stream",
     "text": [
      "['The', 'company', 'spent', '$', '30,000,000', 'last', 'year', '.']\n"
     ]
    }
   ],
   "source": [
    "s5 = \"The company spent $30,000,000 last year.\"\n",
    "print(nltk.word_tokenize(s5))"
   ]
  },
  {
   "cell_type": "code",
   "execution_count": 30,
   "metadata": {
    "collapsed": false,
    "deletable": true,
    "editable": true
   },
   "outputs": [
    {
     "name": "stdout",
     "output_type": "stream",
     "text": [
      "['The', 'company', 'spent', '40.75', '%', 'of', 'its', 'income', 'last', 'year', '.']\n"
     ]
    }
   ],
   "source": [
    "s6 = \"The company spent 40.75% of its income last year.\"\n",
    "print(nltk.word_tokenize(s6))"
   ]
  },
  {
   "cell_type": "code",
   "execution_count": 31,
   "metadata": {
    "collapsed": false,
    "deletable": true,
    "editable": true
   },
   "outputs": [
    {
     "name": "stdout",
     "output_type": "stream",
     "text": [
      "['He', 'arrived', 'at', '3:00', 'pm', '.']\n"
     ]
    }
   ],
   "source": [
    "s7 = \"He arrived at 3:00 pm.\"\n",
    "print(nltk.word_tokenize(s7))"
   ]
  },
  {
   "cell_type": "code",
   "execution_count": 32,
   "metadata": {
    "collapsed": false,
    "deletable": true,
    "editable": true
   },
   "outputs": [
    {
     "name": "stdout",
     "output_type": "stream",
     "text": [
      "['I', 'bought', 'these', 'items', ':', 'books', ',', 'pencils', ',', 'and', 'pens', '.']\n"
     ]
    }
   ],
   "source": [
    "s8 = \"I bought these items: books, pencils, and pens.\"\n",
    "print(nltk.word_tokenize(s8))"
   ]
  },
  {
   "cell_type": "code",
   "execution_count": 33,
   "metadata": {
    "collapsed": false,
    "deletable": true,
    "editable": true
   },
   "outputs": [
    {
     "name": "stdout",
     "output_type": "stream",
     "text": [
      "['Though', 'there', 'were', '150', ',', '100', 'of', 'them', 'were', 'old', '.']\n"
     ]
    }
   ],
   "source": [
    "s9 = \"Though there were 150, 100 of them were old.\"\n",
    "print(nltk.word_tokenize(s9))"
   ]
  },
  {
   "cell_type": "code",
   "execution_count": 34,
   "metadata": {
    "collapsed": false,
    "deletable": true,
    "editable": true
   },
   "outputs": [
    {
     "name": "stdout",
     "output_type": "stream",
     "text": [
      "['There', 'were', '300,000', ',', 'but', 'that', 'was', \"n't\", 'enough', '.']\n"
     ]
    }
   ],
   "source": [
    "s10 = \"There were 300,000, but that wasn't enough.\"\n",
    "print(nltk.word_tokenize(s10))"
   ]
  },
  {
   "cell_type": "markdown",
   "metadata": {
    "deletable": true,
    "editable": true
   },
   "source": [
    "So, let's repeat the process now for our original text:"
   ]
  },
  {
   "cell_type": "code",
   "execution_count": 35,
   "metadata": {
    "collapsed": false,
    "deletable": true,
    "editable": true
   },
   "outputs": [
    {
     "name": "stdout",
     "output_type": "stream",
     "text": [
      "<FreqDist with 7687 samples and 175682 outcomes>\n"
     ]
    }
   ],
   "source": [
    "# We tokenize and we also convert to lowercase for further normalization\n",
    "tokens = nltk.word_tokenize(true_content.lower())\n",
    "text = nltk.Text(tokens)\n",
    "\n",
    "# Frequency analysis for words of interest\n",
    "fdist = text.vocab()\n",
    "\n",
    "# Number of unique and total words in the text\n",
    "print(fdist)"
   ]
  },
  {
   "cell_type": "markdown",
   "metadata": {
    "deletable": true,
    "editable": true
   },
   "source": [
    "We went from `13908 samples and 155443 outcomes` to `7687 samples and 175682 outcomes`. In other words, we have now 7687 unique tokens, and a set of 175682 tokens, as punctuation characters are now separate tokens."
   ]
  },
  {
   "cell_type": "code",
   "execution_count": 36,
   "metadata": {
    "collapsed": false,
    "deletable": true,
    "editable": true
   },
   "outputs": [
    {
     "name": "stdout",
     "output_type": "stream",
     "text": [
      "[(',', 12594), ('the', 10288), ('of', 7851), ('and', 4439), ('.', 4045), ('in', 4016), ('to', 3605), ('a', 2465), ('that', 2083), ('have', 1762), (';', 1701), ('be', 1656), ('as', 1591), ('on', 1553), ('species', 1505), ('is', 1418), ('by', 1357), ('which', 1229), ('or', 1190), ('we', 1157), ('are', 1135), ('from', 1132), ('for', 1123), ('it', 1054), ('with', 999), ('not', 995), ('i', 993), ('this', 961), ('been', 931), ('but', 862), ('same', 792), ('other', 753), ('will', 736), ('their', 713), ('at', 689), ('some', 658), ('one', 643), ('can', 642), ('has', 611), ('more', 579), ('all', 553), ('each', 549), ('they', 541), ('so', 517), ('any', 514), ('may', 509), ('an', 506), ('these', 496), ('would', 489), ('many', 451)]\n"
     ]
    }
   ],
   "source": [
    "print(fdist.most_common(50))"
   ]
  },
  {
   "cell_type": "code",
   "execution_count": 39,
   "metadata": {
    "collapsed": false,
    "deletable": true,
    "editable": true
   },
   "outputs": [
    {
     "name": "stdout",
     "output_type": "stream",
     "text": [
      "[\"'introduction\", \"'journal\", \"'nature\", \"'vestiges\", '..13,190.', '..57,154.', '.2,240', '1', '1.41421', '10/100', '100', '1000', '101', '104.', '109.', '110', '1100', '111', '112', '12,000', '134', '135', '139', '14.3', '1400', '143', '143.', '155.', '157.', '16.', '1600', '164.', '17.', '1747', '18/94', '18/98', '181.', '182', '1837', '1854-55', '1858', '1859', '1859.', '186', '187.', '19.', '193', '196.', '197', '1st', '2', '20,000', '200', '203', '203.', '2048', '207.', '209.', '212', '22', '224.', '226.', '228', '23', '23.', '230.', '2300', '233', '233.', '245.', '246.', '247', '251', '252.', '255.', '256.', '260', '263.', '264.', '265.', '268', '268.', '273.', '274.', '275.', '29', '29.', '295', '3/4', '302.', '303', '306,662,400', '307', '309.', '310.', '318.', '319.', '321', '323.', '33', '33.', '334', '335.', '336.', '337.', '34.', '340.', '347.', '355.', '357', '357.', '36', '364.', '366', '366.', '367', '371.', '373', '375', '38.', '382.', '388.', '39', '39.', '398', '40.', '400.', '404.', '409.', '41', '411.', '42', '42.', '422.', '423.', '425.', '430.', '435.', '437.', '438.', '444.', '446', '449.', '450', '453.', '459.', '46', '483.', '488.', '4th', '50.', '52.', '53', '537', '54.', '550', '58.', '6', '6.9', '64', '64.', '64/87', '65.', '66', '7.7', '72', '72,584', '75.', '750', '76', '764', '78', '780', '800', '847', '85', '87', '92', '924', '93.', '97.', 'a2', 'abhorrent', 'ability', 'abjectly', 'abnormally', 'abodes', 'aborigines', 'abound', 'abounds', 'above-described', 'abraded', 'acaceas', 'access', 'acknowledging', 'acknowledgment', 'actively', 'acuminata', 'acutest', 'ad', 'adder', 'additional', 'adduce', 'adhere', 'adherent', 'adhesive', 'adjoins', 'adjusting', 'admonition', 'adopt', 'aegyptian', 'aerating', 'aestivation', 'affirm', 'affirmative', 'affording', 'agent', 'agents', 'agitated', 'agitation', 'agouti', 'agrees', 'agriculturalists', 'akber', 'alarmed', 'albemarle', 'albino', 'albumen', 'alighting', 'alimentary', 'allocating', 'allusions', 'alterations', 'amateurs', 'amounting', 'amounts', 'amplified', 'amputated', 'ancon', 'andes', \"animal's\", 'annelids', 'annua', 'answering', 'answers', 'ant-eaters', 'anteater', 'antecedent', 'anticipate', 'anticipation', 'antics', 'antipode', 'antler', 'anxious', 'apertures', 'aphorism', 'appended', 'apples', 'applying', 'appreciated', 'appreciation', 'approached', 'appropriated', 'approximate', 'apricot', 'arabian', 'archetype', 'archiac', 'archipelagos', 'architecture', 'argillaceous', 'argued', 'argumentum', 'arid', 'arises', 'armadilloes', 'armed', 'armorial', 'armour', 'arose', 'arrangements', 'array', 'arriving', 'arvensis', 'ascendancy', 'ascended', 'asiatic', 'aside', 'asking', 'aspect', 'asscher', 'assigning', 'assist', 'assurance', 'assuring', 'asylum', 'atlas', 'atmosphere', 'atolls', 'atrophy', 'attacked', 'attacking', 'attain', 'attained', 'attempting', 'attend', 'attendance', 'attending', 'attested', 'attributes', 'attrition', 'augmenting', 'aulicum', \"author's\", 'authorized', 'availed', 'averages', 'axis', 'aylesbury', 'b.c.', 'backward', 'backwards', 'bacon', 'baga', 'balanidae', 'balanus', 'baltic', 'bamboos', 'bane', 'banish', 'banished', 'bankiva', 'bantam', 'bantams', 'barb-pigeon', 'barbarians', 'barest', 'bark-feeders', 'barnacle', 'barnacles', 'based', 'bastard-wing', 'battling', 'beach', 'beagle', 'beaked', 'beans', 'beard', 'bearings', 'beast', 'beaumont', 'beaver', \"bee's\", 'beg', 'beginning', 'behave', 'behaved', 'belgium', 'bellowing', 'belongs', 'bend', 'benefited', 'berardi', 'berries', 'bespeaks', 'best-fitted', 'best-known', 'betray', 'betraying', 'betrays', 'bevelled', 'bill', 'birch', \"birds'-nests\", 'bits', 'bituminous', 'black-barred', 'black-grouse', 'blackbird', 'bladder', 'blenheim', 'blood-descendants', 'blueness', 'blunders', 'bohemia', 'boisterous', 'boldly', 'bolt', 'bonin', 'booty', 'bordered', 'bore', 'boring', 'bos', 'bounding', 'brackish', 'brackish-water', 'brain', 'brambles', 'brassy', 'breakage', 'breakfast', 'breaks', 'breakwater', 'bridge', 'bridged', 'bridgewater', 'briefest', 'bright-coloured', 'brings', 'broadly', 'broke', 'bromley', 'broody', 'browse', 'brushing', 'brushwood', 'brutal', 'buckland', 'buckley', 'budded', 'bug', 'bulb', 'bull', 'bulldog', 'burgess', 'burnt', 'burrows', 'burst', 'burthened', 'burthens', 'bush', 'bustard', 'cabbage-flower', 'cabbages', 'calcareous', 'calculated', 'calculation', 'calculations', 'calls', 'calves', 'camel-hair', 'camera', 'canal', 'canaries', 'canary-bird', 'canary-birds', 'capacities', 'capense', 'capes', 'capsules', 'capt', 'captain', 'captivates', 'captured', 'capturing', 'capybara', 'caraccas', 'carcasses', 'career', 'careless', 'carices', 'carnivora', 'caroline', 'carunculated', 'cast', 'casually', 'cataclysm', 'cataclysms', 'catalogues', 'catawbiense', 'category', 'catskill', 'cauliflower', 'caution', 'cautioned', 'ceasing', 'celebes', 'cent', 'cephalopodae', 'cephalopodic', 'cetaceans', 'chalked', 'chamber', 'characterized', 'charm', 'charming', 'chase', 'cheering', 'chemical', 'chequered', 'chest', 'childish', 'chiton', 'choking', 'choosing', 'chose', 'chromatic', 'chrysalis', 'circles', 'cited', 'civilising', 'classified', 'claws', 'clean', 'clean-feeding', 'clearest', 'climber', 'climbers', 'close-fitting', 'closely-linking', 'closeness', 'clothe', 'clouds', 'clubs', 'clump', 'clung', 'cluster', 'clusters', 'cnestis', 'co-exist', 'co-existed', 'coarse', 'coarse-haired', 'coarser', 'coast-ice', 'coat', 'cobs', 'cocci', 'cock', 'cock-fighter', 'cock-nests', 'codlin-apple', 'coelospermous', 'coerulea', 'coincident', 'colchicus', 'coleoptera', 'collector', 'collins', 'colt', 'colts', 'comb-making', 'combination', 'combinations', 'combine', 'combining', 'command', 'commanded', 'commences', 'commingling', 'commonly-assumed', 'commonness', 'comorin', 'compact', 'comparative', 'compatible', 'compatriots', 'compels', 'compensate', 'complement', 'complemental', 'complication', 'comprehension', 'concave', 'conceit', 'conceived', 'conceiving', 'concern', 'concludes', 'conclusive', 'conclusively', 'concurrent', 'concurring', 'confessedly', 'congener', 'conglomerate', 'congregate', 'conical', 'conjoined', 'conjointly', 'connaraceae', 'connarus', 'connoisseur', 'conscientious', 'conscientiously', 'consequences', 'consist', 'consisting', 'console', 'constantly-recurrent', 'constellations', 'constituting', 'construct', 'consultation', 'consulted', 'consumption', 'contain', 'contained', 'contingent', 'continual', 'convalescence', 'convergence', 'conversed', 'coo', 'cooked', 'coots', 'coral-islands', 'coral-producing', 'corn', 'corn-crake', 'corncrakes', 'cornea', 'corollary', 'corollas', 'correctness', 'correlate', 'correspondingly', 'corroborate', 'corroborates', 'cosmogonists', 'cotton-planter', 'cotton-trees', 'count', 'countenances', 'countenancing', 'county', 'couple', 'courses', 'court', 'courtly', 'cousins', 'cover', 'coverings', 'covers', 'coypu', 'cracked', 'cracks', 'craft', 'craven', 'crawling', 'cream-colour', 'creative', 'creatures', 'credible', 'creeper', 'crept', 'cretacean', 'crevices', 'criterions', 'crow', 'cub', 'cultivate', 'cultivator', 'cultivators', 'cup', 'curculio', 'cured', 'curiosity', 'curling', 'curls', 'currants', 'custom', 'cut-away', 'cuttings', 'cycling', 'cygnoides', 'cylinder', 'd', \"d'archiac\", \"d'orbigny\", 'daisy', 'damper', 'dampest', 'dampness', 'dandelion', 'danger-chuckle', 'dangers', 'dangling', 'dares', 'dark-coloured', 'darker', 'dashing', 'deafness', 'dean', 'decayed', 'deceitful', 'deception', 'decidedly', 'deciding', 'decision', 'decisive', 'declined', 'deduce', 'deduced', 'deduction', 'deductions', 'deed', 'deepen', 'deepest', 'deeply-scooped', 'deeply-seated', 'deference', 'deficiency', 'definable', 'deg-37', 'deg-67', 'degenerate', 'degenerated', 'deliberate', 'delight', 'demand', 'demonstrated', 'demonstration', 'demonstrative', 'denied', 'denominations', 'dense', 'densest', 'densities', 'density', 'departing', 'department', 'departments', 'dependency', 'depending', 'deride', 'derivation', 'descends', 'describing', 'descriptions', 'design', 'designated', 'designation', 'desire', 'desolate', 'destined', 'determination', 'detriment', 'detritus', 'deviate', 'deviated', 'devote', 'devotes', 'devour', 'dezertas', 'diaphragm', 'dicotyledonous', 'dies', 'differentiation', 'digestive', 'digests', 'digging', 'digit', 'dignified', 'digress', 'digression', 'diluvial', 'diminish', 'diminishing', 'diminution', 'dipsacus', 'directed', 'disappointed', 'disbelieve', 'disbelieves', 'discharge', 'discontinuous', 'diseases', 'disentangle', 'disgorge', 'disinterred', 'disjoined', 'dislikes', 'dislocations', 'dispassionate', 'displaced', 'displacement', 'displaying', 'displays', 'disposal', 'disposed', 'dispositions', 'disproportionably', 'disregards', 'dissection', 'disseminate', 'dissemination', 'disservice', 'dissolves', 'distincter', 'distinguishes', 'disturb', 'disturbance', 'dive', 'diversities', 'divine', 'divinity', 'dock-plant', 'dog-genus', 'dogmatize', 'dome', 'domesticating', 'dominating', 'donkey', 'donkeys', 'doomed', 'door', 'doors', 'dorking', 'dorsal', 'dose', 'doubled', 'doubling', 'doubting', 'dovecot-pigeon', 'downthrow', 'downy', 'dragon-flies', 'dragon-fly', 'dragons', 'drama', 'draught', 'dray', 'dray-horse', 'dreamed', 'dreams', 'dredge', 'drew', 'drier', 'drift-timber', 'drink', 'driver-ant', 'dromedary', 'drops', 'dryness', 'duckweed', 'ductile', 'ductus', 'dull', 'dung-beetles', 'dust', 'dutch', 'dwarf', 'eagle', 'earless', 'earth-worms', 'economical', 'economising', 'edging', 'effectual', 'efficiency', 'eighth', 'ejecting', 'elaborate', 'elaboration', 'elatior', 'electricity', 'eleventh', 'elie', 'eliminates', 'eliminating', 'elliot', 'elliptic', 'elucidated', 'elytra', 'embarrassed', 'embraces', 'emerge', 'emerges', 'emeu', 'emigrants', 'eminence', 'emit', 'emphatic', 'empirical', 'employing', 'enables', 'enabling', 'encroach', 'encumbered', 'encyclopaedia', 'encyclopaedias', 'ended', 'endowing', 'endowments', 'endures', 'energetic', 'energetically', 'engrained', 'enjoy', 'enlarges', 'ennobled', 'ensues', 'ensured', 'entailed', 'entails', 'entertains', 'enthusiasm', 'enthusiastic', 'entitled', 'entombed', 'entrance', 'entry', 'enumerate', 'enunciation', 'enveloped', 'equalled', 'equals', 'equine', 'erect', 'errors', 'escarpments', 'esquimaux', 'establishing', 'establishment', 'europaeo-asiatic', 'europeans', 'event', 'ever-acting', 'ever-increasing', 'everlasting', 'everyone', 'evil', 'evolved', 'exaggeration', 'exalted', 'excavating', 'excavations', 'exceeding', 'exceedingly', 'exceptionally', 'exchanges', 'excite', 'excites', 'exclaim', 'exclude', 'excluded', 'exclusion', 'excretes', 'excretions', 'exemplifying', 'exercised', 'exercises', 'exercising', 'exerted', 'exerts', 'exhibits', 'expanding', 'expanse', 'expectation', 'expects', 'expeditions', 'expense', 'experimental', 'experimentalist', 'explanations', 'explicit', 'exportation', 'exported', 'expresses', 'extensively', 'extensor', 'exterminating', 'extracted', 'extracts', 'eye-spot', 'eyelid', 'eyesight', 'f10', 'f8', 'facets', 'facilitate', 'facilities', 'faculties', 'faintest', 'faintly', 'falklands', 'fallen', 'famine', 'famines', 'fan', 'fancied', 'fancies', 'fancifully', 'fang', 'fantail-pigeons', 'far-extended', 'far-ranging', 'far-spreading', 'fare', 'farnham', 'faroe', 'farther', 'fashion', 'fat', 'fatten', 'fault', 'favourably', 'fearful', 'feather', 'feather-footed', 'february', 'fecundated', 'fecundation', 'feeds', 'feels', 'felidae', 'feline', 'fellow', 'fellow-labourers', 'feloniously', 'fernandez', 'ferns', 'ferociously', 'ferret', 'fertilises', 'festooned', 'fewness', 'field-mice', 'figure', 'filiation', 'fills', 'finch', 'finely', 'finish', 'finishing', 'fire', 'first-named', 'fishing-eagles', 'fitness', 'fixing', 'flank', 'flank-membrane', 'flank-membranes', 'flap', 'flappers', 'flash', 'flatten', 'flavour', 'fleetest', 'fleshed', 'flexible', 'flexures', 'fliers', 'flitting', 'float', 'florists', 'flower-feeding', 'fluid', 'flushed', 'fluttering', 'flycatcher', 'foaled', 'focus', 'foetal', 'foliage', 'followers', 'fore', 'fore-arm', 'forearm', 'forerunner', 'foresee', 'foreseen', 'forest', 'foretel', 'forty-five', 'forty-six', 'fossil-fish', 'fossilised', 'fossilized', 'fossorial', 'foster-brothers', 'fostered', 'foundations', 'founds', 'four-fifths', 'four-hundredth', 'fox-hound', 'fragmentary', 'frames', 'fred', 'fred.', 'frederick', 'freed', 'freely-crossing', 'french', 'frequented', 'friend', 'frigate-birds', 'fringed', 'frivolous', 'frost', 'fructification', 'fruit-bearing', 'fuchsia', 'fuegia', 'fulfil', 'fully-stocked', 'fulmar', 'furcula', 'furious', 'furriers', 'futile', 'g', 'gait', 'gall-fly', 'gallinaceae', 'galls', 'gallus', 'game-cock', 'ganglion', 'garden-stock', 'gardener', 'gardner', 'gastric', 'gauge', 'gave', 'genealogy', 'generalisation', 'generous', 'genesis', 'gentle', 'gentlemen', 'gentlest', 'geometer', 'germany', 'germinal', 'germinating', 'gestures', 'gifted', 'gills', 'girou', 'gizzard', 'glabra', 'glacier', 'gladly', 'gladness', 'glancing', 'gland', 'glasgow', 'glass', 'glasses', 'glories', 'glory', 'glottis', 'gnawing', 'golden', 'goodwood', 'gooseberries', 'gordian', 'gorgeous', 'gourd', 'gourds', 'government', 'graft', 'grallatores', 'grandchild', 'grandchildren', 'grandeur', 'grandfather', 'grandmother', 'grants', 'granules', 'graphically', 'grapple', 'grass-feeding', 'grassy', 'gratuitous', 'gravely', 'graver', 'gravity', 'great-grandfather', 'grebes', 'greedily', 'greensand', 'greyhound-like', 'gross', 'ground-birds', 'ground-feeders', 'ground-feeding', 'groundless', 'grounds', 'growths', 'guard', 'guarded', 'guarding', 'guiana', 'guides', 'guinea-fowl', 'gutenberg', 'h', 'habitation', 'habitations', 'habituated', 'hairiness', 'hairy', 'half-a-dozen', 'half-completed', 'half-monstrous', 'halting', 'halting-place', 'hammering', 'hampshire', 'handful', 'happy', 'harassed', 'harder', 'hardness', 'hardy', 'hare', 'harmless', 'harmonious', 'harmonises', 'harsh', 'harvested', 'hatches', 'haunted', 'haunts', 'hears', 'heart', 'hearty', 'heated', 'heath-plants', 'heather', 'heaths', 'heavily', 'held', 'help', 'helpless', 'helps', 'hemp', 'hens', 'herbage', 'herd', 'hereditarily', 'hereford', 'herons', 'herself', 'hesitate', 'hides', 'hieracium', 'highly-important', \"hilaire's\", 'hill-tops', 'hill-variety', 'himalayan', 'hind-legs', 'hippobosca', 'historically', 'hit', 'hocks', 'holding', 'holes', 'hollows', 'hominem', 'homologise', 'homology', 'homopterous', 'honoured', 'hooded', 'hopelessly', 'horn', 'horn-like', 'horny', 'horticulture', 'hosts', 'hothouses', 'hottentot', 'hottest', 'hourly', 'household', 'hovering', 'hugh', 'humblest', 'humboldt', 'humming-birds', 'hundred-thousandth', 'hungary', 'hunger', 'hurt', 'hutches', 'hyacinth', 'hybernated', 'hybernating', 'hybridiser', 'hybridisers', 'hybridising', 'hybridizer', 'hymenopterous', 'hypotheses', 'i.', 'ichneumon', 'icy', 'ideally', 'idle', 'idly', 'igneous', 'ill-applied', 'ill-fitted', 'ill-occupied', 'illusion', 'illustrative', 'image', 'imagining', 'imago', 'imbricate', 'imitation', 'immersed', 'immigrant', 'impaired', 'impartiality', 'impels', 'imperceptible', 'implicitly', 'impregnated', 'impressions', 'impressive', 'imprison', 'improvements', 'improves', 'inability', 'inactive', 'inarched', 'incalculable', 'incapacity', 'incidentally', 'incomplete', 'incomprehensible', 'incomprehensibly', 'inconceivable', 'inconceivably', 'inconsiderable', 'inconvenient', 'inconveniently', 'incurable', 'indelible', 'indented', 'independently-created', 'index', 'indians', 'indicated', 'indicates', 'indicating', 'indications', 'indies', 'indifferent', 'indisputably', 'indolent', 'induce', 'inducing', 'industrious', 'inexorable', 'infallible', 'infallibly', 'inferiors', 'inferring', 'infertile', 'infinitesimally', 'inflate', 'inflating', 'influential', 'ingenuity', 'injure', 'injured', 'injuring', 'inordinate', 'inosculation', 'inquiries', 'inquiry', 'insect-agency', 'insect-species', 'inserted', 'insight', 'insignificant', 'inspect', 'inspection', 'instantaneously', 'instituting', 'instructive', 'instruments', 'insulated', 'insuperably', 'insured', 'integrifolia', 'intellect', 'intellects', 'intellectual', 'intends', 'intense', 'intensified', 'intentionally', 'intently', 'intercalated', 'interested', 'interior', 'interlock', 'intermedia', 'intermigration', 'intermingle', 'interposition', 'interpositions', 'interspace', 'interstices', 'intervene', 'intervention', 'intestine', 'intricacy', 'introduce', 'intrude', 'intruding', 'inundated', 'invading', 'invent', 'invertebrata', 'invested', 'investigating', 'invoke', 'inwards', 'iran', 'isles', 'italy', 'jackals', 'jarred', 'johnston', 'joined', 'joins', 'joints', 'jostle', 'journal', 'journey', 'juan', 'just-hatched', 'justifiable', 'justify', 'k', 'keenly', 'keeps', 'kent', 'kerguelen-land', 'kestrel', 'key', 'khan', 'kicking', 'kills', 'kingfisher', 'kitchen', 'kitchen-garden', 'kitty-wrens', 'knife', 'knife-edged', 'koulan', 'laborious', 'laboriously', 'labours', 'lain', 'lake', 'lamb', 'land-mollusca', 'land-shell', 'landed', 'landrail', 'languish', 'lanky', 'lateral', 'latterly', 'laugher', 'laughter', 'lava-streams', 'le', 'leaf-eating', 'leagues', 'learning', 'leg-stripes', 'legions', 'legitimately', 'leicester', 'lemur', 'lemuridae', 'lengthy', 'lens', 'lens-shaped', 'lepidoptera', 'lepsius', 'less-improved', 'lessening', 'lessens', 'lifetimes', 'lifted', 'lighten', 'lime', 'limestone', 'limiting', 'limpet', 'limpid', 'linear', 'lingering', 'linnaean', 'linnean', 'liquid', 'litter', 'little-modified', 'livingstone', 'load', 'loaded', 'lobe', 'localisation', 'locality', 'located', 'locusts', 'loftier', 'logically', 'long-backed', 'long-enduring', 'long-haired', 'long-horned', 'long-horns', 'long-legged', 'long-toed', 'longitudinal', 'longmynd', 'loops', 'loosely', 'lose', 'lot', 'loth', 'lots', 'loved', 'lowly-organised', 'lucida', 'lulls', 'lurid', \"lyell's\", 'm.a.', 'm10', 'm2', 'm3', 'm6', 'm9', 'machinery', 'macrauchenia', 'magellan', 'magician', 'magnificent', 'majesty', 'malacca', 'malconformation', 'malconformations', 'manchester', 'manifold', 'manual', 'manuscript', 'manuscripts', 'marbled', 'march', 'marched', 'marching', 'marianne', 'mariners', 'marriage', 'marsh-species', 'marshy', 'marvelled', 'marvelling', 'massive', 'masterly', 'match', 'matching', 'material', 'matured', 'maxima', 'meadows', 'meal', 'measurement', 'measures', 'measuring', 'mechanism', 'medicinal', 'melanism', 'melodious', 'melting', 'membrane-connected', 'mention', 'merged', 'meridians', 'meridional', 'merionethshire', 'merits', 'messrs.', 'metamorphoses', 'metaphor', 'metaphysicians', 'micropterus', 'mid-ocean', 'migratory', 'milked', 'millet', 'millionth', 'mineral', 'minimum', 'minutes', 'miracle', 'mislead', 'misled', 'missletoes', 'misunderstood', 'mitigate', 'mock', 'mockery', 'mode', 'model', 'moderation', 'mollusca', 'molluscan', 'monarch', 'monarchs', 'mongrelized', 'monocanthus', 'monochanthus', 'month', 'moraine', 'moreton', 'morning', 'mortality', 'moth', 'mother-hen', 'motive', 'mottled', 'mottled-grey', 'mound', 'mounds', 'mountain-fastnesses', 'mountain-range', 'mounting', 'move', 'moves', 'mown', 'mr', 'much-isolated', 'multiform', 'multiplying', 'multitudes', 'murderous', 'musical', 'musk-rat', 'mutable', 'mutilations', 'mylodon', 'myriads', 'mysteries', 'nascent', 'natatory', 'naturalising', 'naturalization', 'naturalized', 'navels', 'nay', 'nearness', 'neatly', 'necessitated', 'necessitating', 'necks', 'nectar-excreting', 'nectar-feeding', 'neighbours', 'nestlings', 'newer', 'newly-formed', 'nicely-balanced', 'nictitating', 'nightly', 'nigra', 'nile', 'nine-tenths', 'ninety', 'ninth', 'nocturnal', 'non-inheritance', 'norfolk', 'norwegian', 'nostril', 'novelty', 'nuisance', 'nuptial', 'nuthatch', 'o.', 'oak-tree', 'oaks', 'oat', 'obey', 'obligation', 'obligations', 'obliged', 'obscurity', 'observes', 'observing', 'obstacles', 'obstinacy', 'obstinately', 'obtaining', 'occasions', 'occupying', 'october', 'oddest', 'odious', 'odour', 'oenas', 'oil-bearing', 'oneself', 'onion', 'opening', 'opercular', 'operculum', 'opinions', 'opportunities', 'orchidaceous', 'orchidean', 'ordered', 'orifices', 'ornament', 'ornamental', 'orthospermous', 'oscillating', 'oscillation', 'osculant', 'oswald', 'ounces', 'oural', 'outnumbered', 'ouzel', 'ovaria', 'ovaries', 'ovary', 'over-rate', 'overcome', 'overmaster', 'overrated', 'overtopping', 'overweening', 'overwhelmed', 'overwhelming', 'ovipositor', 'owls', 'pachydermatous', 'packed', 'paddle', 'page', 'painter', 'pairing', 'palate', 'palpi', 'paltry', 'panama', 'papilla', 'parachute', 'paradise', 'paradox', 'paragraphs', 'parallel-sided', 'paralleled', 'paralysed', 'parcels', 'pared', 'parent-genus', 'parent-source', 'parental', 'partakes', 'parted', 'partial', 'partitions', 'partner', 'partook', 'partridges', 'pasture', 'pastures', 'patches', 'paternity', 'patience', 'patiently', 'pause', 'pea-family', 'peaceful', 'peach', 'pears', 'peaty', 'pebble', 'peculiarly', 'pelargoniums', 'pelicans', 'pellet', 'pencil', 'pencils', 'penetrate', 'penetrated', 'penguin', 'perceives', 'perceiving', 'percentage', 'perching', 'percolation', 'performs', 'permission', 'permitting', 'perpendicular', 'perpetuity', 'persecuted', 'perseverance', 'persevering', 'person', 'personal', 'personally', 'persons', 'persuade', 'pertinacious', 'pestilence', 'petunia', 'pheasant', 'pheasants', 'phenomena', 'philosophers', 'philosophical', 'philosophically', 'philosophy', 'phosphate', 'phyllodineous', 'physically', 'pianoforte', \"pictet's\", 'picturing', 'pig', 'pigeon-fancier', 'piling', 'pimpernel', 'pimpernels', 'pine-apple', 'pines', 'pinnate', 'plainness', 'planed', 'plantaginea', 'plantigrades', 'playing', 'pleases', 'pleasing', 'plum', 'plumule', 'pneumaticus', 'poison-fang', 'poisonous', 'poisons', 'polecats', 'polished', 'pollen-collecting', 'pollen-devouring', 'pollen-granules', 'pollen-masses', 'polyandrous', 'polyerges', 'polygamous', 'ponies', 'ponticum', 'pool', 'poorly-stocked', 'positive', 'possessing', 'possessors', 'potato', 'potentiality', 'potted', 'pottery', 'poultry-fancier', 'poultry-shows', 'pound', 'pounds', 'pouter-pigeon', 'powerfully-winged', 'pre-occupation', 'precautions', 'preceded', 'precedes', 'precipices', 'precision', 'preconceived', 'precursor', 'predicament', 'predicated', 'predominant', 'preferences', 'preferring', 'prehension', 'prejudice', 'prepare', 'prepared', 'preparing', 'preponderance', 'presents', 'preserves', 'press', 'presumed', 'presumptive', 'presumptuous', 'pretends', 'prevails', 'prevalence', 'prickly', 'primarily', 'primordially', 'prize', 'prizes', 'probosciformed', 'proclaimed', 'proclaims', 'procreating', 'procreation', 'proficience', 'profusion', 'progressed', 'progressively', 'project', 'projecting', 'prolific', 'prolong', 'prominent', 'promontory', 'prompt', 'pronunciation', 'proofs', 'propagation', 'propelling', 'property', 'prophetic', 'propinquity', 'prospect', 'proteaceae', 'protean', 'protects', 'protest', 'protrude', 'protuberances', 'provincial', 'proximity', 'prudential', 'ptarmigan', 'pubescence', 'publications', 'puffinuria', 'pulling', 'purchase', 'purely', 'purely-bred', 'purest', 'purity', 'purposely', 'pursues', 'pursuing', 'putrid', 'putridity', 'puts', 'putting', 'pyrgoma', 'quadruple', 'quail', 'quails', 'quantities', 'quarrelsome', 'quaternary', 'queen-bee', 'queen-wasp', 'queens', 'quiet', 'quinary', 'racehorse', 'radicle', 'radish', 'rain', 'rain-water', 'raiser', 'rambling', 'ramifications', 'ramifying', 'ramus', 'ran', 'rape-seed', 'rapidity', 'rarest', 'rational', 'rattle', 'rattle-snake', 'rattlesnake', 'ravaged', 'ray-petals', 're-converted', 're-covered', 're-migrate', 're-performed', 'reacting', 'readers', 'readiest', 'realise', 'reappeared', 'rearing', 'rebuild', 'receding', 'reciprocity', 'reckon', 'reckoned', 'recognising', 'recommended', 'reconcile', 'reconverted', 'recording', 'recover', 'recurrent', 'red-grouse', 'reduces', 'reevesii', 'reference', 'reflection', 'reflects', 'reflexion', 'regained', 'regarding', 'regret', 'regulated', 'regulating', 'regulations', 'rein-deer', 'relates', 'relic', 'relied', 'relief', 'reminded', 'remnant', 'remoteness', 'remotest', 'removes', 'removing', 'rendering', 'replace', 'replaces', 'reposing', 'reproduced', 'reptile', 'repulsed', 'requirements', 'resembled', 'resistance', 'resisted', 'resown', 'respire', 'respires', 'restate', 'restatement', 'restating', 'restorations', 'restraint', 'rests', 'resulted', 'resulting', 'retard', 'retarded', 'retarding', 'retention', 'retreating', 'retrievers', 'retrieving', 'revealed', 'reverend', 'reverent', 'reverting', 'review', 'revolutions', 'revolutum', 'revolve', 'rhea', 'rhythm', 'ribs', 'ribston-pippin', 'ridicule', 'rights', 'rigour', 'rims', 'risk', 'rivalled', 'rivalry', 'rivals', 'river', 'rivulet', 'rock-thrush', 'rogues', 'roguing', 'roll', 'rollin', 'roman', 'room', 'roost', 'roosting', 'root-bearing', 'rosa', 'rote', 'row', 'roy', 'rubus', 'ruminant', 'runs', 'ruta', 'ruthlessly', 's2', 'sacral', 'sacred', 'safe', 'safer', 'safety', 'sagacious', 'sagaciously', 'sageret', 'sails', 'salt', 'salt-loving', 'sandstone', 'saplings', 'satisfactorily', 'saves', 'saxony', 'scales', 'scaly', 'scantily', 'scarcity', 'scattering', 'scene', 'scent', 'scented', 'sceptical', 'schists', 'scorn', 'scotch-fir-tree', 'scutellae', 'sea-coast', 'sea-coasts', 'sea-currents', 'sea-lizards', 'sea-shell', 'sea-shores', 'sea-weeds', 'seashells', 'seasoned', 'seawater', 'seaweed', 'secluded', 'secrete', 'secretes', 'secure', 'securing', 'seed-beds', 'seed-raisers', 'seek', 'sees', 'self-action', 'self-fertilises', 'self-sown', 'semi-civilised', 'semi-monstrous', 'sentiment', 'septenary', 'serrated', 'serratures', 'setter', 'settle', 'settling', 'seventh', 'severally', 'severely', 'severity', 'shade', 'shades', 'shadow', 'shadowy', 'shallower', 'shepherd', 'shines', 'ship', 'shipwrecked', 'shoal', 'shore', 'short-horn', 'short-horns', 'shortest', 'shortly', 'shortness', 'shot', 'shoulder-stripes', 'shoulders', 'shrew', 'shrike', 'shut', 'sick', 'sickly', 'signify', 'sikkim', 'silence', 'silently', 'silk-moth', 'silla', 'simile', 'singly', 'singularly', 'sinks', 'sire', 'six-days', 'sixty', 'sixty-eight', 'sized', 'skeleton', 'skeletons', 'sketched', 'skins', 'slave-species', 'sleep', 'sleeping', 'slimmest', 'slope', 'sloth', 'slow-breeders', 'slugs', 'slurred', 'smooth-skinned', 'smoothly', 'snails', 'snake', 'snap-dragon', 'snipes', 'snow-capped', 'snowy', 'sobriety', 'societies', 'softer', 'soldering', 'soldier', 'solid', 'son', 'song-thrush', 'songsters', 'sore', 'sorted', 'soul', 'sounding', 'sounds', 'sources', 'south-east', 'south-eastern', 'south-west', 'south-western', 'southernmost', 'sow', 'sows', 'spaniard', 'spaniards', 'spear', 'specialise', 'specify', 'spectacle', 'spectators', 'spelling', 'spend', 'sphegidae', 'sphinx-moth', 'spike', 'spine', 'spire', 'spitz', 'spitz-dog', 'spray', 'springs', 'spur', 'spurless', 'spurred', 'stability', 'stag', 'stagger', 'staggered', 'stags', 'stallion', 'stallion-horse', 'stars', 'start', 'started', 'startled', 'startling', 'starve', 'stating', 'statue', 'steadily-increasing', 'steadiness', 'steenstrup', 'sternum', 'sticking', 'stimulate', 'stinging', 'stipules', 'storks', 'straggling', 'straits', 'strangers', 'street', 'strengthen', 'strengthening', 'strengthens', 'strewed', 'strickland', 'stroked', 'stuck', 'stump', 'stumps', 'stunted', 'stupendous', 'styria', 'sub-branch', 'sub-branches', 'sub-classes', 'sub-genus', 'sub-littoral', 'sub-order', 'sub-orders', 'sub-stage', 'sub-stages', 'sub-tropical', 'sub-variety', 'subgroup', 'subjects', 'submerge', 'subside', 'subsided', 'subsides', 'subsist', 'subsisted', 'subsists', 'substance', 'substantially', 'substituting', 'subversive', 'succulent', 'suctorial', 'sue', 'sufferers', 'suffers', 'sugar', 'suit', 'suitable', 'summarily', 'summon', 'sundered', 'super-added', 'superabundant', 'superficial', 'superincumbent', 'superinduced', 'supervene', 'supplants', 'supplies', 'supplying', 'supports', 'suppositions', 'surmised', 'surmounted', 'surpass', 'survival', 'survives', 'susceptibility', 'suspects', 'suspended', 'suspicion', 'sussex', 'swallowed', 'swallowing', 'swarmed', 'sweeping', 'sweet-peas', 'swelling', 'swift', 'swiftest', 'swim-bladders', 'swimbladders', 'sword', 'symmetrically', 'table-spoonfuls', 'tabulating', 'tachytes', 'tailless', 'tale', 'talons', 'tamer', 'taper', 'tasmania', 'tastes', 'tax', 'teaching', 'teams', 'tearing', 'teats', 'teazle', 'tedious', 'temperatures', 'tempt', 'ten-thousandth', 'tender', 'tenour', 'tens', 'terminal', 'ternary', 'terrified', 'testing', 'thawed', 'thence', 'theories', 'thickens', 'thickets', 'thicknesses', 'thigh', 'thinly', 'thins', 'thirds', 'thirteenth', 'thirty-two', 'thither', 'thorax', 'thoulouse', 'thousandth', 'three-days', 'ticket', 'tickled', 'tidal', 'tides', 'timber-drift', 'tinted', 'tints', 'tip', 'tired', 'tissues', 'tone', 'tones', 'tool', 'torn', 'torquatus', 'tortoise-shell', 'towns', 'traced', 'trachea', 'tracing', 'trade', 'trailing', 'train', 'transformed', 'transmutation', 'transpose', 'transposed', 'transposing', 'travelled', 'traveller', 'traverse', 'traversed', 'treble', 'tree-frequenting', 'tremendous', 'tribe', 'tricks', 'triumphed', 'troublesome', 'truer', 'truest', 'truism', 'truly-inherited', 'trumpeter', 'truss', 'tuco-tuco', 'tumbler-pigeon', 'tune', 'turan', 'turkeys', 'turkish', 'turn-crowned', 'turnips', 'turnspit', 'twelfth', 'twenty-one', 'twenty-three', 'twilight', 'typical', 'tyrant', 'tyrants', 'ubiquitous', 'ultimate', 'umbel', 'unaccountable', 'unanimously', 'unavoidable', 'unborn', 'unbroken', 'underlies', 'undermined', 'underrated', 'understands', 'undigested', 'undiminished', 'undiscoverable', 'undiscovered', 'undulatory', 'unenclosed', 'unequivocally', 'unerring', 'unfathomable', 'unfortunately', 'unfrequently', 'unimproved', 'unincubated', 'uninhabited', 'universe', 'unlikely', 'unparalleled', 'unproductive', 'unreal', 'unsatisfactory', 'unseen', 'unsuccessful', 'unsuitable', 'untrodden', 'unwilling', 'unwillingly', 'unwillingness', 'upright', 'upward', 'urges', 'usefully', 'usefulness', 'uselessness', 'uses', 'using', 'utilitarian', 'vaginalis', 'vaguely', 'valuation', 'valuations', 'valueless', 'valve', 'valvular', 'variously', 'vascular', 'vegetables', 'vegetated', 'vehemently', 'ventured', 'verify', 'veris', 'versicolor', 'vesicles', 'vestige', 'vestiges', 'vetch', 'vetches', 'vibrations', 'vicissitudes', 'victor', 'villages', 'vine', 'violence', 'violent', 'virgin', 'viti', 'vitiated', 'vitreous', 'vivid', 'viz', 'volumes', 'voyage', 'voyages', 'w10', 'waders', 'wading', 'wales', 'wallowing', 'wand', 'wanted', 'war-dance', 'warmest-clad', 'warned', 'wary', 'wash', 'wasp-combs', 'wasp-like', 'waste', 'watch', 'water-breathing', 'water-insects', 'watermark', 'wattles', 'wave', 'weakening', 'weakest', 'weakness', 'wealden', 'wearing', 'wears', 'wedge', 'wedges', 'weeds', 'weighed', 'weights', 'well-authenticated', 'well-bred', 'well-constructed', 'well-enclosed', 'well-filled', 'well-flavoured', 'well-pronounced', 'well-sifted', 'well-suited', 'well-worked', 'went', 'whewell', 'whimsical', 'whirling', 'whirlwinds', 'white-edged', 'whoever', 'widely-distributed', 'widely-extended', 'widely-spread', 'widened', 'widening', 'wild-duck', 'wilfully', 'willingly', 'win', 'winds', 'windsor', 'wing-bar', 'wing-cases', 'wing-membrane', 'wing-structure', 'wishing', 'withdrawal', 'withdrawn', 'wither', 'withering', 'withstanding', 'witnessed', 'witnesses', 'wolf-like', 'wondrous', 'woodcocks', 'woody', 'workman', 'workmanship', 'workshops', 'world-ranging', 'worm-like', 'worst', 'worthless', 'wounds', 'writer', 'yellow-fleshed', 'yew', 'yields', 'z10', 'zeal', 'zoologist', 'zoologists']\n"
     ]
    }
   ],
   "source": [
    "print(sorted(fdist.hapaxes()))"
   ]
  },
  {
   "cell_type": "code",
   "execution_count": 38,
   "metadata": {
    "collapsed": false,
    "deletable": true,
    "editable": true
   },
   "outputs": [
    {
     "name": "stdout",
     "output_type": "stream",
     "text": [
      "2666\n"
     ]
    }
   ],
   "source": [
    "print(len(fdist.hapaxes()))"
   ]
  },
  {
   "cell_type": "markdown",
   "metadata": {
    "deletable": true,
    "editable": true
   },
   "source": [
    "So out of the 7687 unique words, 2666 of them appear only once in the text. But these are only 2666 out of the total of 175682 words in the text. This is ~1.5% of the text."
   ]
  },
  {
   "cell_type": "markdown",
   "metadata": {
    "deletable": true,
    "editable": true
   },
   "source": [
    "#### Sentence splitting"
   ]
  },
  {
   "cell_type": "markdown",
   "metadata": {
    "deletable": true,
    "editable": true
   },
   "source": [
    "The tokenization process can also work on separating sentences"
   ]
  },
  {
   "cell_type": "code",
   "execution_count": 40,
   "metadata": {
    "collapsed": false,
    "deletable": true,
    "editable": true
   },
   "outputs": [
    {
     "name": "stdout",
     "output_type": "stream",
     "text": [
      "['Good bagels cost $2.88 in N.Y.C.', 'Hey Prof. Ipeirotis, please buy me two of them.', 'Thanks.', 'PS: You have a Ph.D. you can handle this, right?']\n"
     ]
    }
   ],
   "source": [
    "example = '''Good bagels cost $2.88 in N.Y.C. Hey Prof. Ipeirotis, please buy me two of them.\n",
    "    \n",
    "    Thanks.\n",
    "    \n",
    "    PS: You have a Ph.D. you can handle this, right?'''\n",
    "\n",
    "print(nltk.sent_tokenize(example))"
   ]
  },
  {
   "cell_type": "markdown",
   "metadata": {
    "deletable": true,
    "editable": true
   },
   "source": [
    "#### Zipf's Law"
   ]
  },
  {
   "cell_type": "markdown",
   "metadata": {
    "deletable": true,
    "editable": true
   },
   "source": [
    "Zipf's law says that the frequencies of words in text follow a power-law: A few words account for a big fraction of the text (the very frequent ones, usually just the \"plumping\" of English), and a large fraction of the unique vocabularly (the \"hapaxes\") appear very infrequently."
   ]
  },
  {
   "cell_type": "code",
   "execution_count": 41,
   "metadata": {
    "collapsed": false,
    "deletable": true,
    "editable": true
   },
   "outputs": [
    {
     "data": {
      "image/png": "[encoded data removed]",
      "text/plain": [
       "<matplotlib.figure.Figure at 0x7fca7742df28>"
      ]
     },
     "metadata": {},
     "output_type": "display_data"
    }
   ],
   "source": [
    "fdist.plot(100, cumulative=False)"
   ]
  },
  {
   "cell_type": "code",
   "execution_count": 42,
   "metadata": {
    "collapsed": false,
    "deletable": true,
    "editable": true
   },
   "outputs": [
    {
     "data": {
      "image/png": "[encoded data removed]",
      "text/plain": [
       "<matplotlib.figure.Figure at 0x7fca781f0c18>"
      ]
     },
     "metadata": {},
     "output_type": "display_data"
    }
   ],
   "source": [
    "fdist.plot(100, cumulative=True)"
   ]
  },
  {
   "cell_type": "markdown",
   "metadata": {
    "deletable": true,
    "editable": true
   },
   "source": [
    "#### Normalization: Stopwords\n",
    "\n",
    "NLTK contains a corpus of stopwords, that is, high-frequency words like `the`, `to` and `also` that we sometimes want to filter out of a document before further processing. Stopwords usually have little lexical content, and their presence in a text fails to distinguish it from other texts."
   ]
  },
  {
   "cell_type": "code",
   "execution_count": 44,
   "metadata": {
    "collapsed": false,
    "deletable": true,
    "editable": true
   },
   "outputs": [
    {
     "name": "stdout",
     "output_type": "stream",
     "text": [
      "['i', 'me', 'my', 'myself', 'we', 'our', 'ours', 'ourselves', 'you', 'your', 'yours', 'yourself', 'yourselves', 'he', 'him', 'his', 'himself', 'she', 'her', 'hers', 'herself', 'it', 'its', 'itself', 'they', 'them', 'their', 'theirs', 'themselves', 'what', 'which', 'who', 'whom', 'this', 'that', 'these', 'those', 'am', 'is', 'are', 'was', 'were', 'be', 'been', 'being', 'have', 'has', 'had', 'having', 'do', 'does', 'did', 'doing', 'a', 'an', 'the', 'and', 'but', 'if', 'or', 'because', 'as', 'until', 'while', 'of', 'at', 'by', 'for', 'with', 'about', 'against', 'between', 'into', 'through', 'during', 'before', 'after', 'above', 'below', 'to', 'from', 'up', 'down', 'in', 'out', 'on', 'off', 'over', 'under', 'again', 'further', 'then', 'once', 'here', 'there', 'when', 'where', 'why', 'how', 'all', 'any', 'both', 'each', 'few', 'more', 'most', 'other', 'some', 'such', 'no', 'nor', 'not', 'only', 'own', 'same', 'so', 'than', 'too', 'very', 's', 't', 'can', 'will', 'just', 'don', 'should', 'now', 'd', 'll', 'm', 'o', 're', 've', 'y', 'ain', 'aren', 'couldn', 'didn', 'doesn', 'hadn', 'hasn', 'haven', 'isn', 'ma', 'mightn', 'mustn', 'needn', 'shan', 'shouldn', 'wasn', 'weren', 'won', 'wouldn']\n"
     ]
    }
   ],
   "source": [
    "from nltk.corpus import stopwords\n",
    "\n",
    "print(stopwords.words('english'))"
   ]
  },
  {
   "cell_type": "markdown",
   "metadata": {
    "deletable": true,
    "editable": true
   },
   "source": [
    "Let's define a function to remove the words in a text are in the stopwords list:"
   ]
  },
  {
   "cell_type": "code",
   "execution_count": 46,
   "metadata": {
    "collapsed": false,
    "deletable": true,
    "editable": true
   },
   "outputs": [
    {
     "name": "stdout",
     "output_type": "stream",
     "text": [
      "<FreqDist with 4432 samples and 71060 outcomes>\n"
     ]
    }
   ],
   "source": [
    "mystops = []\n",
    "mystops.append('one')\n",
    "mystops.append('may')\n",
    "mystops.append('would')\n",
    "mystops.append('many')\n",
    "\n",
    "def remove_stopwords(text, hapaxes):\n",
    "    stopwords = nltk.corpus.stopwords.words('english')\n",
    "    content = [w.lower() for w in text \n",
    "               if w.lower() not in stopwords # w should not be in NLTK stopwords \n",
    "                   and w.lower() not in mystops # w should not be in custom stop word list\n",
    "                   and w.isalpha() # w should consists of letters, not numbers, not punctuation\n",
    "                   and w.lower() not in hapaxes] # w should have frequency > 1 \n",
    "    return nltk.Text(content)\n",
    "\n",
    "text_nostopwords = remove_stopwords(text, fdist.hapaxes())\n",
    "fdist_nostopwords = text_nostopwords.vocab()\n",
    "print(fdist_nostopwords)"
   ]
  },
  {
   "cell_type": "code",
   "execution_count": 47,
   "metadata": {
    "collapsed": false,
    "deletable": true,
    "editable": true
   },
   "outputs": [
    {
     "name": "stdout",
     "output_type": "stream",
     "text": [
      "[('species', 1505), ('varieties', 428), ('selection', 414), ('forms', 397), ('natural', 382), ('two', 343), ('plants', 334), ('several', 306), ('life', 306), ('animals', 292), ('different', 282), ('case', 282), ('thus', 273), ('see', 270), ('great', 261), ('nature', 261), ('distinct', 257), ('new', 253), ('period', 245), ('could', 234), ('must', 233), ('much', 230), ('cases', 225), ('structure', 224), ('conditions', 222), ('believe', 216), ('genera', 213), ('even', 210), ('long', 203), ('number', 202), ('yet', 201), ('often', 200), ('generally', 199), ('first', 198), ('common', 197), ('far', 195), ('time', 195), ('though', 194), ('degree', 191), ('become', 185), ('another', 184), ('characters', 183), ('groups', 178), ('might', 175), ('certain', 174), ('less', 172), ('large', 172), ('view', 168), ('modification', 165), ('instance', 165)]\n"
     ]
    }
   ],
   "source": [
    "print(fdist_nostopwords.most_common(50))"
   ]
  },
  {
   "cell_type": "code",
   "execution_count": 48,
   "metadata": {
    "collapsed": false,
    "deletable": true,
    "editable": true
   },
   "outputs": [
    {
     "data": {
      "image/png": "[encoded data removed]",
      "text/plain": [
       "<matplotlib.figure.Figure at 0x7fca781737f0>"
      ]
     },
     "metadata": {},
     "output_type": "display_data"
    }
   ],
   "source": [
    "fdist_nostopwords.plot(100, cumulative=True)"
   ]
  },
  {
   "cell_type": "markdown",
   "metadata": {
    "deletable": true,
    "editable": true
   },
   "source": [
    "#### Normalization: Stemming \n",
    "\n",
    "So far, the only normalization that we did is to convert text to lowercase before doing anything with its words, e.g. `set(w.lower() for w in text)`. By using lower(), we have normalized the text to lowercase so that the distinction between `The` and `the` is ignored. Often we want to go further than this, and strip off any affixes, a task known as **stemming**. \n",
    "\n",
    "NLTK includes several off-the-shelf stemmers, and if you ever need a stemmer you should use one of these. The Porter stemmer is a very well-known stemmer, and should suffice for most of our applications. \n"
   ]
  },
  {
   "cell_type": "code",
   "execution_count": 50,
   "metadata": {
    "collapsed": false,
    "deletable": true,
    "editable": true
   },
   "outputs": [
    {
     "name": "stdout",
     "output_type": "stream",
     "text": [
      "denni : listen , strang women lie in pond distribut sword is no basi for a system of govern . suprem execut power deriv from a mandat from the mass , not from some farcic aquat ceremoni .\n"
     ]
    }
   ],
   "source": [
    "raw = \"\"\"DENNIS: Listen, strange women lying in ponds distributing swords\n",
    "is no basis for a system of government.  Supreme executive power derives from\n",
    "a mandate from the masses, not from some farcical aquatic ceremony.\"\"\"\n",
    "\n",
    "tok = nltk.word_tokenize(raw)\n",
    "\n",
    "porter = nltk.PorterStemmer()\n",
    "stemmed =  [porter.stem(t) for t in tok]\n",
    "\n",
    "# This idiom concatenates all the words in a list. \n",
    "# The call is s.join(list), where we join the element \n",
    "# of the list using the string s as the concatenacting character\n",
    "print(\" \".join(stemmed))"
   ]
  },
  {
   "cell_type": "markdown",
   "metadata": {
    "deletable": true,
    "editable": true
   },
   "source": [
    "#### Normalization: Lemmatization\n",
    "\n",
    "A further step in the normalization process is to make sure that the resulting form is a known word in a dictionary, a task known as **lemmatization**. The WordNet lemmatizer only removes affixes if the resulting word is in its dictionary. This additional checking process makes the lemmatizer slower than the above stemmers. Notice that it doesn't handle lying, but it converts women to woman."
   ]
  },
  {
   "cell_type": "code",
   "execution_count": 51,
   "metadata": {
    "collapsed": false,
    "deletable": true,
    "editable": true
   },
   "outputs": [
    {
     "name": "stdout",
     "output_type": "stream",
     "text": [
      "DENNIS : Listen , strange woman lying in pond distributing sword is no basis for a system of government . Supreme executive power derives from a mandate from the mass , not from some farcical aquatic ceremony .\n"
     ]
    }
   ],
   "source": [
    "raw = \"\"\"DENNIS: Listen, strange women lying in ponds distributing swords\n",
    "is no basis for a system of government.  Supreme executive power derives from\n",
    "a mandate from the masses, not from some farcical aquatic ceremony.\"\"\"\n",
    "tok = nltk.word_tokenize(raw)\n",
    "\n",
    "wnl = nltk.WordNetLemmatizer()\n",
    "lemmatized =  [wnl.lemmatize(t) for t in tok]\n",
    "print(\" \".join(lemmatized))"
   ]
  },
  {
   "cell_type": "markdown",
   "metadata": {
    "deletable": true,
    "editable": true
   },
   "source": [
    "But what is this WordNet? It is one of the most useful resources for anyone interested in analyzing text at a more semantic level than simply frequency counts"
   ]
  },
  {
   "cell_type": "markdown",
   "metadata": {
    "deletable": true,
    "editable": true
   },
   "source": [
    "### WordNet\n",
    "\n",
    "WordNet is a semantically-oriented dictionary of English, similar to a traditional thesaurus but with a richer structure. NLTK includes the English WordNet, with 155,287 words and 117,659 synonym sets. We'll begin by looking at synonyms and how they are accessed in WordNet.\n",
    "\n",
    "####  Senses and Synonyms\n",
    "\n",
    "Consider the sentence below. If we replace the word motorcar in by automobile, the meaning of the sentence stays pretty much the same:\n",
    "\n",
    "* Benz is credited with the invention of the motorcar.\n",
    "* Benz is credited with the invention of the automobile.\n",
    "\n",
    "Since everything else in the sentence has remained unchanged, we can conclude that the words motorcar and automobile have the same meaning, i.e. they are **synonyms**. We can explore these words with the help of WordNet:"
   ]
  },
  {
   "cell_type": "code",
   "execution_count": 52,
   "metadata": {
    "collapsed": false,
    "deletable": true,
    "editable": true
   },
   "outputs": [
    {
     "data": {
      "text/plain": [
       "[Synset('car.n.01')]"
      ]
     },
     "execution_count": 52,
     "metadata": {},
     "output_type": "execute_result"
    }
   ],
   "source": [
    "from nltk.corpus import wordnet as wn\n",
    "wn.synsets('motorcar')"
   ]
  },
  {
   "cell_type": "markdown",
   "metadata": {
    "deletable": true,
    "editable": true
   },
   "source": [
    "Thus, motorcar has just one possible meaning and it is identified as car.n.01, the first noun sense of car. The entity car.n.01 is called a **synset**, or **\"synonym set\"**, a collection of synonymous words (or \"lemmas\"):"
   ]
  },
  {
   "cell_type": "code",
   "execution_count": 53,
   "metadata": {
    "collapsed": false,
    "deletable": true,
    "editable": true
   },
   "outputs": [
    {
     "data": {
      "text/plain": [
       "['car', 'auto', 'automobile', 'machine', 'motorcar']"
      ]
     },
     "execution_count": 53,
     "metadata": {},
     "output_type": "execute_result"
    }
   ],
   "source": [
    " wn.synset('car.n.01').lemma_names()"
   ]
  },
  {
   "cell_type": "markdown",
   "metadata": {
    "deletable": true,
    "editable": true
   },
   "source": [
    "Each word of a synset can have several meanings, e.g., car can also signify a train carriage, a gondola, or an elevator car. However, we are only interested in the single meaning that is common to all words of the above synset. Synsets also come with a prose definition and some example sentences:"
   ]
  },
  {
   "cell_type": "code",
   "execution_count": 54,
   "metadata": {
    "collapsed": false,
    "deletable": true,
    "editable": true
   },
   "outputs": [
    {
     "data": {
      "text/plain": [
       "'a motor vehicle with four wheels; usually propelled by an internal combustion engine'"
      ]
     },
     "execution_count": 54,
     "metadata": {},
     "output_type": "execute_result"
    }
   ],
   "source": [
    "wn.synset('car.n.01').definition()"
   ]
  },
  {
   "cell_type": "code",
   "execution_count": 55,
   "metadata": {
    "collapsed": false,
    "deletable": true,
    "editable": true
   },
   "outputs": [
    {
     "data": {
      "text/plain": [
       "['he needs a car to get to work']"
      ]
     },
     "execution_count": 55,
     "metadata": {},
     "output_type": "execute_result"
    }
   ],
   "source": [
    "wn.synset('car.n.01').examples()"
   ]
  },
  {
   "cell_type": "markdown",
   "metadata": {
    "deletable": true,
    "editable": true
   },
   "source": [
    "Although definitions help humans to understand the intended meaning of a synset, the words of the synset are often more useful for our programs. To eliminate ambiguity, we will identify these words as car.n.01.automobile, car.n.01.motorcar, and so on. This pairing of a synset with a word is called a **lemma**. We can get all the lemmas for a given synset, look up a particular lemma, get the synset corresponding to a lemma, and get the \"name\" of a lemma:"
   ]
  },
  {
   "cell_type": "code",
   "execution_count": 56,
   "metadata": {
    "collapsed": false,
    "deletable": true,
    "editable": true
   },
   "outputs": [
    {
     "data": {
      "text/plain": [
       "[Lemma('car.n.01.car'),\n",
       " Lemma('car.n.01.auto'),\n",
       " Lemma('car.n.01.automobile'),\n",
       " Lemma('car.n.01.machine'),\n",
       " Lemma('car.n.01.motorcar')]"
      ]
     },
     "execution_count": 56,
     "metadata": {},
     "output_type": "execute_result"
    }
   ],
   "source": [
    "wn.synset('car.n.01').lemmas() "
   ]
  },
  {
   "cell_type": "code",
   "execution_count": 57,
   "metadata": {
    "collapsed": false,
    "deletable": true,
    "editable": true
   },
   "outputs": [
    {
     "data": {
      "text/plain": [
       "Lemma('car.n.01.automobile')"
      ]
     },
     "execution_count": 57,
     "metadata": {},
     "output_type": "execute_result"
    }
   ],
   "source": [
    "wn.lemma('car.n.01.automobile')"
   ]
  },
  {
   "cell_type": "code",
   "execution_count": 58,
   "metadata": {
    "collapsed": false,
    "deletable": true,
    "editable": true
   },
   "outputs": [
    {
     "data": {
      "text/plain": [
       "Synset('car.n.01')"
      ]
     },
     "execution_count": 58,
     "metadata": {},
     "output_type": "execute_result"
    }
   ],
   "source": [
    "wn.lemma('car.n.01.automobile').synset()"
   ]
  },
  {
   "cell_type": "code",
   "execution_count": 59,
   "metadata": {
    "collapsed": false,
    "deletable": true,
    "editable": true
   },
   "outputs": [
    {
     "data": {
      "text/plain": [
       "'automobile'"
      ]
     },
     "execution_count": 59,
     "metadata": {},
     "output_type": "execute_result"
    }
   ],
   "source": [
    "wn.lemma('car.n.01.automobile').name()"
   ]
  },
  {
   "cell_type": "markdown",
   "metadata": {
    "deletable": true,
    "editable": true
   },
   "source": [
    "Now let's analyze the word `car`, which has multiple **senses** (ie., meanings of the word)"
   ]
  },
  {
   "cell_type": "code",
   "execution_count": 60,
   "metadata": {
    "collapsed": false,
    "deletable": true,
    "editable": true
   },
   "outputs": [
    {
     "data": {
      "text/plain": [
       "[Synset('car.n.01'),\n",
       " Synset('car.n.02'),\n",
       " Synset('car.n.03'),\n",
       " Synset('car.n.04'),\n",
       " Synset('cable_car.n.01')]"
      ]
     },
     "execution_count": 60,
     "metadata": {},
     "output_type": "execute_result"
    }
   ],
   "source": [
    "wn.synsets('car')"
   ]
  },
  {
   "cell_type": "code",
   "execution_count": 62,
   "metadata": {
    "collapsed": false,
    "deletable": true,
    "editable": true
   },
   "outputs": [
    {
     "name": "stdout",
     "output_type": "stream",
     "text": [
      "Lemma name: ['car', 'auto', 'automobile', 'machine', 'motorcar']\n",
      "Definition: a motor vehicle with four wheels; usually propelled by an internal combustion engine\n",
      "Examples  : ['he needs a car to get to work']\n",
      "=======================\n",
      "Lemma name: ['car', 'railcar', 'railway_car', 'railroad_car']\n",
      "Definition: a wheeled vehicle adapted to the rails of railroad\n",
      "Examples  : ['three cars had jumped the rails']\n",
      "=======================\n",
      "Lemma name: ['car', 'gondola']\n",
      "Definition: the compartment that is suspended from an airship and that carries personnel and the cargo and the power plant\n",
      "Examples  : []\n",
      "=======================\n",
      "Lemma name: ['car', 'elevator_car']\n",
      "Definition: where passengers ride up and down\n",
      "Examples  : ['the car was on the top floor']\n",
      "=======================\n",
      "Lemma name: ['cable_car', 'car']\n",
      "Definition: a conveyance for passengers or freight on a cable railway\n",
      "Examples  : ['they took a cable car to the top of the mountain']\n",
      "=======================\n"
     ]
    }
   ],
   "source": [
    "senses = [(s.lemma_names(), s.definition(), s.examples()) for s in wn.synsets('car')]\n",
    "for s in senses:\n",
    "    print(\"Lemma name:\", s[0])\n",
    "    print(\"Definition:\", s[1])\n",
    "    print(\"Examples  :\", s[2])\n",
    "    print(\"=======================\")"
   ]
  },
  {
   "cell_type": "code",
   "execution_count": null,
   "metadata": {
    "collapsed": false,
    "deletable": true,
    "editable": true
   },
   "outputs": [],
   "source": [
    "## your code here: Analyze the word \"bank\""
   ]
  },
  {
   "cell_type": "markdown",
   "metadata": {
    "deletable": true,
    "editable": true
   },
   "source": [
    "#### The WordNet Hierarchy"
   ]
  },
  {
   "cell_type": "markdown",
   "metadata": {
    "deletable": true,
    "editable": true
   },
   "source": [
    "WordNet synsets correspond to abstract concepts, and they don't always have corresponding words in English. These concepts are linked together in a hierarchy. Some concepts are very general, such as Entity, State, Event — these are called unique beginners or root synsets. Others, such as gas guzzler and hatchback, are much more specific. A small portion of a concept hierarchy is illustrated below:"
   ]
  },
  {
   "cell_type": "markdown",
   "metadata": {
    "deletable": true,
    "editable": true
   },
   "source": [
    "<img src=\"http://www.nltk.org/images/wordnet-hierarchy.png\" width=\"50%\">"
   ]
  },
  {
   "cell_type": "markdown",
   "metadata": {
    "deletable": true,
    "editable": true
   },
   "source": [
    "#### Hyponyms\n",
    "\n",
    "WordNet makes it easy to navigate between concepts. For example, given a concept like motorcar, we can look at the concepts that are more specific; the (immediate) hyponyms."
   ]
  },
  {
   "cell_type": "code",
   "execution_count": 64,
   "metadata": {
    "collapsed": false,
    "deletable": true,
    "editable": true
   },
   "outputs": [],
   "source": [
    "motorcar = wn.synset('car.n.01')"
   ]
  },
  {
   "cell_type": "code",
   "execution_count": 65,
   "metadata": {
    "collapsed": false,
    "deletable": true,
    "editable": true
   },
   "outputs": [
    {
     "data": {
      "text/plain": [
       "[Synset('ambulance.n.01'),\n",
       " Synset('beach_wagon.n.01'),\n",
       " Synset('bus.n.04'),\n",
       " Synset('cab.n.03'),\n",
       " Synset('compact.n.03'),\n",
       " Synset('convertible.n.01'),\n",
       " Synset('coupe.n.01'),\n",
       " Synset('cruiser.n.01'),\n",
       " Synset('electric.n.01'),\n",
       " Synset('gas_guzzler.n.01'),\n",
       " Synset('hardtop.n.01'),\n",
       " Synset('hatchback.n.01'),\n",
       " Synset('horseless_carriage.n.01'),\n",
       " Synset('hot_rod.n.01'),\n",
       " Synset('jeep.n.01'),\n",
       " Synset('limousine.n.01'),\n",
       " Synset('loaner.n.02'),\n",
       " Synset('minicar.n.01'),\n",
       " Synset('minivan.n.01'),\n",
       " Synset('model_t.n.01'),\n",
       " Synset('pace_car.n.01'),\n",
       " Synset('racer.n.02'),\n",
       " Synset('roadster.n.01'),\n",
       " Synset('sedan.n.01'),\n",
       " Synset('sport_utility.n.01'),\n",
       " Synset('sports_car.n.01'),\n",
       " Synset('stanley_steamer.n.01'),\n",
       " Synset('stock_car.n.01'),\n",
       " Synset('subcompact.n.01'),\n",
       " Synset('touring_car.n.01'),\n",
       " Synset('used-car.n.01')]"
      ]
     },
     "execution_count": 65,
     "metadata": {},
     "output_type": "execute_result"
    }
   ],
   "source": [
    "types_of_motorcar = motorcar.hyponyms()\n",
    "types_of_motorcar"
   ]
  },
  {
   "cell_type": "code",
   "execution_count": 66,
   "metadata": {
    "collapsed": false,
    "deletable": true,
    "editable": true
   },
   "outputs": [
    {
     "data": {
      "text/plain": [
       "Synset('ambulance.n.01')"
      ]
     },
     "execution_count": 66,
     "metadata": {},
     "output_type": "execute_result"
    }
   ],
   "source": [
    "types_of_motorcar[0]"
   ]
  },
  {
   "cell_type": "markdown",
   "metadata": {},
   "source": [
    "Let's go over all the types of motorcar, and for each of the returned `synsets` (synonym sets), create a list of lemmas."
   ]
  },
  {
   "cell_type": "code",
   "execution_count": 70,
   "metadata": {
    "collapsed": false,
    "deletable": true,
    "editable": true
   },
   "outputs": [
    {
     "name": "stdout",
     "output_type": "stream",
     "text": [
      "['Model_T', 'S.U.V.', 'SUV', 'Stanley_Steamer', 'ambulance', 'beach_waggon', 'beach_wagon', 'bus', 'cab', 'compact', 'compact_car', 'convertible', 'coupe', 'cruiser', 'electric', 'electric_automobile', 'electric_car', 'estate_car', 'gas_guzzler', 'hack', 'hardtop', 'hatchback', 'heap', 'horseless_carriage', 'hot-rod', 'hot_rod', 'jalopy', 'jeep', 'landrover', 'limo', 'limousine', 'loaner', 'minicar', 'minivan', 'pace_car', 'patrol_car', 'phaeton', 'police_car', 'police_cruiser', 'prowl_car', 'race_car', 'racer', 'racing_car', 'roadster', 'runabout', 'saloon', 'secondhand_car', 'sedan', 'sport_car', 'sport_utility', 'sport_utility_vehicle', 'sports_car', 'squad_car', 'station_waggon', 'station_wagon', 'stock_car', 'subcompact', 'subcompact_car', 'taxi', 'taxicab', 'tourer', 'touring_car', 'two-seater', 'used-car', 'waggon', 'wagon']\n"
     ]
    }
   ],
   "source": [
    "print(sorted(lemma.name() \n",
    "             for synset in types_of_motorcar \n",
    "                 for lemma in synset.lemmas()))"
   ]
  },
  {
   "cell_type": "markdown",
   "metadata": {
    "deletable": true,
    "editable": true
   },
   "source": [
    "#### Hypernyms\n",
    "\n",
    "We can also navigate up the hierarchy by visiting hypernyms. Some words have multiple paths, because they can be classified in more than one way. There are two paths between car.n.01 and entity.n.01 because wheeled_vehicle.n.01 can be classified as both a vehicle and a container."
   ]
  },
  {
   "cell_type": "code",
   "execution_count": 71,
   "metadata": {
    "collapsed": false,
    "deletable": true,
    "editable": true
   },
   "outputs": [
    {
     "data": {
      "text/plain": [
       "2"
      ]
     },
     "execution_count": 71,
     "metadata": {},
     "output_type": "execute_result"
    }
   ],
   "source": [
    "motorcar.hypernyms()\n",
    "paths = motorcar.hypernym_paths()\n",
    "len(paths)"
   ]
  },
  {
   "cell_type": "code",
   "execution_count": 112,
   "metadata": {
    "collapsed": false,
    "deletable": true,
    "editable": true
   },
   "outputs": [
    {
     "name": "stdout",
     "output_type": "stream",
     "text": [
      "['entity.n.01', 'physical_entity.n.01', 'object.n.01', 'whole.n.02', 'artifact.n.01', 'instrumentality.n.03', 'container.n.01', 'wheeled_vehicle.n.01', 'self-propelled_vehicle.n.01', 'motor_vehicle.n.01', 'car.n.01']\n"
     ]
    }
   ],
   "source": [
    "print([synset.name() for synset in paths[0]])"
   ]
  },
  {
   "cell_type": "code",
   "execution_count": 113,
   "metadata": {
    "collapsed": false,
    "deletable": true,
    "editable": true
   },
   "outputs": [
    {
     "name": "stdout",
     "output_type": "stream",
     "text": [
      "['entity.n.01', 'physical_entity.n.01', 'object.n.01', 'whole.n.02', 'artifact.n.01', 'instrumentality.n.03', 'conveyance.n.03', 'vehicle.n.01', 'wheeled_vehicle.n.01', 'self-propelled_vehicle.n.01', 'motor_vehicle.n.01', 'car.n.01']\n"
     ]
    }
   ],
   "source": [
    "print([synset.name() for synset in paths[1]])"
   ]
  },
  {
   "cell_type": "markdown",
   "metadata": {
    "deletable": true,
    "editable": true
   },
   "source": [
    "#### More Lexical Relations: Meronyms, Holonyms, Antonyms, Entailment\n",
    "\n",
    "Hypernyms and hyponyms are called lexical relations because they relate one synset to another. These two relations navigate up and down the \"is-a\" hierarchy. Another important way to navigate the WordNet network is from items to their components (**meronyms**) or to the things they are contained in (**holonyms**). For example, the parts of a tree are its trunk, crown, and so on; the part_meronyms(). The substance a tree is made of includes heartwood and sapwood; the substance_meronyms(). A collection of trees forms a forest; the member_holonyms():"
   ]
  },
  {
   "cell_type": "code",
   "execution_count": 74,
   "metadata": {
    "collapsed": false,
    "deletable": true,
    "editable": true
   },
   "outputs": [
    {
     "data": {
      "text/plain": [
       "[Synset('burl.n.02'),\n",
       " Synset('crown.n.07'),\n",
       " Synset('limb.n.02'),\n",
       " Synset('stump.n.01'),\n",
       " Synset('trunk.n.01')]"
      ]
     },
     "execution_count": 74,
     "metadata": {},
     "output_type": "execute_result"
    }
   ],
   "source": [
    "wn.synset('tree.n.01').part_meronyms()"
   ]
  },
  {
   "cell_type": "code",
   "execution_count": 75,
   "metadata": {
    "collapsed": false,
    "deletable": true,
    "editable": true
   },
   "outputs": [
    {
     "data": {
      "text/plain": [
       "[Synset('forest.n.01')]"
      ]
     },
     "execution_count": 75,
     "metadata": {},
     "output_type": "execute_result"
    }
   ],
   "source": [
    "wn.synset('tree.n.01').member_holonyms()"
   ]
  },
  {
   "cell_type": "code",
   "execution_count": 76,
   "metadata": {
    "collapsed": false,
    "deletable": true,
    "editable": true
   },
   "outputs": [
    {
     "data": {
      "text/plain": [
       "[Synset('heartwood.n.01'), Synset('sapwood.n.01')]"
      ]
     },
     "execution_count": 76,
     "metadata": {},
     "output_type": "execute_result"
    }
   ],
   "source": [
    "wn.synset('tree.n.01').substance_meronyms()"
   ]
  },
  {
   "cell_type": "code",
   "execution_count": 77,
   "metadata": {
    "collapsed": false,
    "deletable": true,
    "editable": true
   },
   "outputs": [
    {
     "data": {
      "text/plain": [
       "[Synset('united_states.n.01'), Synset('united_states_army.n.01')]"
      ]
     },
     "execution_count": 77,
     "metadata": {},
     "output_type": "execute_result"
    }
   ],
   "source": [
    "wn.synsets(\"USA\")"
   ]
  },
  {
   "cell_type": "code",
   "execution_count": 78,
   "metadata": {
    "collapsed": false,
    "deletable": true,
    "editable": true
   },
   "outputs": [
    {
     "data": {
      "text/plain": [
       "[Synset('alabama.n.01'),\n",
       " Synset('alaska.n.01'),\n",
       " Synset('american_state.n.01'),\n",
       " Synset('arizona.n.01'),\n",
       " Synset('arkansas.n.01'),\n",
       " Synset('california.n.01'),\n",
       " Synset('colony.n.03'),\n",
       " Synset('colorado.n.01'),\n",
       " Synset('connecticut.n.01'),\n",
       " Synset('connecticut.n.02'),\n",
       " Synset('dakota.n.02'),\n",
       " Synset('delaware.n.04'),\n",
       " Synset('district_of_columbia.n.01'),\n",
       " Synset('east.n.03'),\n",
       " Synset('florida.n.01'),\n",
       " Synset('georgia.n.01'),\n",
       " Synset('great_lakes.n.01'),\n",
       " Synset('hawaii.n.01'),\n",
       " Synset('idaho.n.01'),\n",
       " Synset('illinois.n.01'),\n",
       " Synset('indiana.n.01'),\n",
       " Synset('iowa.n.02'),\n",
       " Synset('kansas.n.01'),\n",
       " Synset('kentucky.n.01'),\n",
       " Synset('louisiana.n.01'),\n",
       " Synset('louisiana_purchase.n.01'),\n",
       " Synset('maine.n.01'),\n",
       " Synset('maryland.n.01'),\n",
       " Synset('massachusetts.n.01'),\n",
       " Synset('michigan.n.01'),\n",
       " Synset('mid-atlantic_states.n.01'),\n",
       " Synset('midwest.n.01'),\n",
       " Synset('minnesota.n.01'),\n",
       " Synset('mississippi.n.01'),\n",
       " Synset('mississippi.n.02'),\n",
       " Synset('missouri.n.01'),\n",
       " Synset('missouri.n.02'),\n",
       " Synset('montana.n.01'),\n",
       " Synset('nebraska.n.01'),\n",
       " Synset('nevada.n.01'),\n",
       " Synset('new_england.n.01'),\n",
       " Synset('new_hampshire.n.01'),\n",
       " Synset('new_jersey.n.01'),\n",
       " Synset('new_mexico.n.01'),\n",
       " Synset('new_river.n.01'),\n",
       " Synset('new_york.n.02'),\n",
       " Synset('niagara.n.02'),\n",
       " Synset('niobrara.n.01'),\n",
       " Synset('north.n.01'),\n",
       " Synset('north_carolina.n.01'),\n",
       " Synset('north_dakota.n.01'),\n",
       " Synset('ohio.n.01'),\n",
       " Synset('ohio.n.02'),\n",
       " Synset('oklahoma.n.01'),\n",
       " Synset('oregon.n.01'),\n",
       " Synset('pacific_northwest.n.01'),\n",
       " Synset('pennsylvania.n.01'),\n",
       " Synset('rhode_island.n.01'),\n",
       " Synset('rio_grande.n.01'),\n",
       " Synset('saint_lawrence.n.02'),\n",
       " Synset('south.n.01'),\n",
       " Synset('south_carolina.n.02'),\n",
       " Synset('south_dakota.n.01'),\n",
       " Synset('sunbelt.n.01'),\n",
       " Synset('tennessee.n.01'),\n",
       " Synset('texas.n.01'),\n",
       " Synset('twin.n.03'),\n",
       " Synset('utah.n.01'),\n",
       " Synset('vermont.n.01'),\n",
       " Synset('virginia.n.01'),\n",
       " Synset('washington.n.02'),\n",
       " Synset('west.n.03'),\n",
       " Synset('west_virginia.n.01'),\n",
       " Synset('wisconsin.n.02'),\n",
       " Synset('wyoming.n.01'),\n",
       " Synset('yosemite.n.01'),\n",
       " Synset('yukon.n.01')]"
      ]
     },
     "execution_count": 78,
     "metadata": {},
     "output_type": "execute_result"
    }
   ],
   "source": [
    "wn.synset('united_states.n.01').part_meronyms()"
   ]
  },
  {
   "cell_type": "markdown",
   "metadata": {
    "deletable": true,
    "editable": true
   },
   "source": [
    "To see just how intricate things can get, consider the word mint, which has several closely-related senses. We can see that mint.n.04 is part of mint.n.02 and the substance from which mint.n.05 is made."
   ]
  },
  {
   "cell_type": "code",
   "execution_count": 79,
   "metadata": {
    "collapsed": false,
    "deletable": true,
    "editable": true
   },
   "outputs": [
    {
     "name": "stdout",
     "output_type": "stream",
     "text": [
      "batch.n.02: (often followed by `of') a large number or amount or extent\n",
      "mint.n.02: any north temperate plant of the genus Mentha with aromatic leaves and small mauve flowers\n",
      "mint.n.03: any member of the mint family of plants\n",
      "mint.n.04: the leaves of a mint plant used fresh or candied\n",
      "mint.n.05: a candy that is flavored with a mint oil\n",
      "mint.n.06: a plant where money is coined by authority of the government\n"
     ]
    }
   ],
   "source": [
    "for synset in wn.synsets('mint', wn.NOUN):\n",
    "    print(synset.name() + ':', synset.definition())"
   ]
  },
  {
   "cell_type": "code",
   "execution_count": 80,
   "metadata": {
    "collapsed": false,
    "deletable": true,
    "editable": true
   },
   "outputs": [
    {
     "data": {
      "text/plain": [
       "[Synset('mint.n.02')]"
      ]
     },
     "execution_count": 80,
     "metadata": {},
     "output_type": "execute_result"
    }
   ],
   "source": [
    "wn.synset('mint.n.04').part_holonyms()"
   ]
  },
  {
   "cell_type": "code",
   "execution_count": 81,
   "metadata": {
    "collapsed": false,
    "deletable": true,
    "editable": true
   },
   "outputs": [
    {
     "data": {
      "text/plain": [
       "[Synset('mint.n.05')]"
      ]
     },
     "execution_count": 81,
     "metadata": {},
     "output_type": "execute_result"
    }
   ],
   "source": [
    "wn.synset('mint.n.04').substance_holonyms()"
   ]
  },
  {
   "cell_type": "markdown",
   "metadata": {
    "deletable": true,
    "editable": true
   },
   "source": [
    "There are also relationships between verbs. For example, the act of walking involves the act of stepping, so walking **entails** stepping. Some verbs have multiple entailments:"
   ]
  },
  {
   "cell_type": "code",
   "execution_count": 82,
   "metadata": {
    "collapsed": false,
    "deletable": true,
    "editable": true
   },
   "outputs": [
    {
     "data": {
      "text/plain": [
       "[Synset('step.v.01')]"
      ]
     },
     "execution_count": 82,
     "metadata": {},
     "output_type": "execute_result"
    }
   ],
   "source": [
    "wn.synset('walk.v.01').entailments()"
   ]
  },
  {
   "cell_type": "code",
   "execution_count": 83,
   "metadata": {
    "collapsed": false,
    "deletable": true,
    "editable": true
   },
   "outputs": [
    {
     "data": {
      "text/plain": [
       "[Synset('chew.v.01'), Synset('swallow.v.01')]"
      ]
     },
     "execution_count": 83,
     "metadata": {},
     "output_type": "execute_result"
    }
   ],
   "source": [
    "wn.synset('eat.v.01').entailments()"
   ]
  },
  {
   "cell_type": "code",
   "execution_count": 84,
   "metadata": {
    "collapsed": false,
    "deletable": true,
    "editable": true
   },
   "outputs": [
    {
     "data": {
      "text/plain": [
       "[Synset('arouse.v.07'), Synset('disappoint.v.01')]"
      ]
     },
     "execution_count": 84,
     "metadata": {},
     "output_type": "execute_result"
    }
   ],
   "source": [
    "wn.synset('tease.v.03').entailments()"
   ]
  },
  {
   "cell_type": "markdown",
   "metadata": {
    "deletable": true,
    "editable": true
   },
   "source": [
    "Some lexical relationships hold between lemmas, e.g., **antonymy**:"
   ]
  },
  {
   "cell_type": "code",
   "execution_count": 85,
   "metadata": {
    "collapsed": false,
    "deletable": true,
    "editable": true
   },
   "outputs": [
    {
     "data": {
      "text/plain": [
       "[Lemma('demand.n.02.demand')]"
      ]
     },
     "execution_count": 85,
     "metadata": {},
     "output_type": "execute_result"
    }
   ],
   "source": [
    "wn.lemma('supply.n.02.supply').antonyms()"
   ]
  },
  {
   "cell_type": "code",
   "execution_count": 86,
   "metadata": {
    "collapsed": false,
    "deletable": true,
    "editable": true
   },
   "outputs": [
    {
     "data": {
      "text/plain": [
       "[Lemma('linger.v.04.linger')]"
      ]
     },
     "execution_count": 86,
     "metadata": {},
     "output_type": "execute_result"
    }
   ],
   "source": [
    "wn.lemma('rush.v.01.rush').antonyms()"
   ]
  },
  {
   "cell_type": "code",
   "execution_count": 87,
   "metadata": {
    "collapsed": false,
    "deletable": true,
    "editable": true
   },
   "outputs": [
    {
     "data": {
      "text/plain": [
       "[Lemma('inclined.a.02.inclined'), Lemma('vertical.a.01.vertical')]"
      ]
     },
     "execution_count": 87,
     "metadata": {},
     "output_type": "execute_result"
    }
   ],
   "source": [
    "wn.lemma('horizontal.a.01.horizontal').antonyms()"
   ]
  },
  {
   "cell_type": "code",
   "execution_count": 88,
   "metadata": {
    "collapsed": false,
    "deletable": true,
    "editable": true
   },
   "outputs": [
    {
     "data": {
      "text/plain": [
       "[Lemma('legato.r.01.legato')]"
      ]
     },
     "execution_count": 88,
     "metadata": {},
     "output_type": "execute_result"
    }
   ],
   "source": [
    "wn.lemma('staccato.r.01.staccato').antonyms()"
   ]
  },
  {
   "cell_type": "markdown",
   "metadata": {
    "deletable": true,
    "editable": true
   },
   "source": [
    "You can see the (numerous!) lexical relations, and the other methods defined on a synset, using dir(), for example: dir(wn.synset('harmony.n.02'))."
   ]
  },
  {
   "cell_type": "code",
   "execution_count": 90,
   "metadata": {
    "collapsed": false,
    "deletable": true,
    "editable": true
   },
   "outputs": [
    {
     "name": "stdout",
     "output_type": "stream",
     "text": [
      "['__class__', '__delattr__', '__dict__', '__dir__', '__doc__', '__eq__', '__format__', '__ge__', '__getattribute__', '__gt__', '__hash__', '__init__', '__le__', '__lt__', '__module__', '__ne__', '__new__', '__reduce__', '__reduce_ex__', '__repr__', '__setattr__', '__sizeof__', '__slots__', '__str__', '__subclasshook__', '__unicode__', '__weakref__', '_all_hypernyms', '_definition', '_examples', '_frame_ids', '_hypernyms', '_instance_hypernyms', '_iter_hypernym_lists', '_lemma_names', '_lemma_pointers', '_lemmas', '_lexname', '_max_depth', '_min_depth', '_name', '_needs_root', '_offset', '_pointers', '_pos', '_related', '_shortest_hypernym_paths', '_wordnet_corpus_reader', 'also_sees', 'attributes', 'causes', 'closure', 'common_hypernyms', 'definition', 'entailments', 'examples', 'frame_ids', 'hypernym_distances', 'hypernym_paths', 'hypernyms', 'hyponyms', 'instance_hypernyms', 'instance_hyponyms', 'jcn_similarity', 'lch_similarity', 'lemma_names', 'lemmas', 'lexname', 'lin_similarity', 'lowest_common_hypernyms', 'max_depth', 'member_holonyms', 'member_meronyms', 'min_depth', 'name', 'offset', 'part_holonyms', 'part_meronyms', 'path_similarity', 'pos', 'region_domains', 'res_similarity', 'root_hypernyms', 'shortest_path_distance', 'similar_tos', 'substance_holonyms', 'substance_meronyms', 'topic_domains', 'tree', 'unicode_repr', 'usage_domains', 'verb_groups', 'wup_similarity']\n"
     ]
    }
   ],
   "source": [
    "print(dir(wn.synset('harmony.n.02')))"
   ]
  },
  {
   "cell_type": "markdown",
   "metadata": {
    "deletable": true,
    "editable": true
   },
   "source": [
    "#### Semantic similarity\n",
    "\n",
    "We have seen that synsets are linked by a complex network of lexical relations. Given a particular synset, we can traverse the WordNet network to find synsets with related meanings. Knowing which words are semantically related is useful for indexing a collection of texts, so that a search for a general term like vehicle will match documents containing specific terms like limousine.\n",
    "\n",
    "Recall that each synset has one or more hypernym paths that link it to a root hypernym such as entity.n.01. Two synsets linked to the same root may have several hypernyms in common. If two synsets share a very specific hypernym — one that is low down in the hypernym hierarchy — they must be closely related."
   ]
  },
  {
   "cell_type": "code",
   "execution_count": 91,
   "metadata": {
    "collapsed": false,
    "deletable": true,
    "editable": true
   },
   "outputs": [],
   "source": [
    "right = wn.synset('right_whale.n.01')\n",
    "orca = wn.synset('orca.n.01')\n",
    "minke = wn.synset('minke_whale.n.01')\n",
    "tortoise = wn.synset('tortoise.n.01')\n",
    "novel = wn.synset('novel.n.01')"
   ]
  },
  {
   "cell_type": "code",
   "execution_count": 92,
   "metadata": {
    "collapsed": false,
    "deletable": true,
    "editable": true
   },
   "outputs": [
    {
     "data": {
      "text/plain": [
       "[Synset('baleen_whale.n.01')]"
      ]
     },
     "execution_count": 92,
     "metadata": {},
     "output_type": "execute_result"
    }
   ],
   "source": [
    "right.lowest_common_hypernyms(minke)"
   ]
  },
  {
   "cell_type": "code",
   "execution_count": 93,
   "metadata": {
    "collapsed": false,
    "deletable": true,
    "editable": true
   },
   "outputs": [
    {
     "data": {
      "text/plain": [
       "[Synset('whale.n.02')]"
      ]
     },
     "execution_count": 93,
     "metadata": {},
     "output_type": "execute_result"
    }
   ],
   "source": [
    "right.lowest_common_hypernyms(orca)"
   ]
  },
  {
   "cell_type": "code",
   "execution_count": 94,
   "metadata": {
    "collapsed": false,
    "deletable": true,
    "editable": true
   },
   "outputs": [
    {
     "data": {
      "text/plain": [
       "[Synset('vertebrate.n.01')]"
      ]
     },
     "execution_count": 94,
     "metadata": {},
     "output_type": "execute_result"
    }
   ],
   "source": [
    "right.lowest_common_hypernyms(tortoise)"
   ]
  },
  {
   "cell_type": "code",
   "execution_count": 95,
   "metadata": {
    "collapsed": false,
    "deletable": true,
    "editable": true
   },
   "outputs": [
    {
     "data": {
      "text/plain": [
       "[Synset('entity.n.01')]"
      ]
     },
     "execution_count": 95,
     "metadata": {},
     "output_type": "execute_result"
    }
   ],
   "source": [
    "right.lowest_common_hypernyms(novel)"
   ]
  },
  {
   "cell_type": "markdown",
   "metadata": {
    "deletable": true,
    "editable": true
   },
   "source": [
    "Of course we know that whale is very specific (and baleen whale even more so), while vertebrate is more general and entity is completely general. We can quantify this concept of generality by looking up the depth of each synset:"
   ]
  },
  {
   "cell_type": "code",
   "execution_count": 96,
   "metadata": {
    "collapsed": false,
    "deletable": true,
    "editable": true
   },
   "outputs": [
    {
     "data": {
      "text/plain": [
       "14"
      ]
     },
     "execution_count": 96,
     "metadata": {},
     "output_type": "execute_result"
    }
   ],
   "source": [
    "rwhale_minke = right.lowest_common_hypernyms(minke)\n",
    "rwhale_minke[0].min_depth()"
   ]
  },
  {
   "cell_type": "code",
   "execution_count": 97,
   "metadata": {
    "collapsed": false,
    "deletable": true,
    "editable": true
   },
   "outputs": [
    {
     "data": {
      "text/plain": [
       "13"
      ]
     },
     "execution_count": 97,
     "metadata": {},
     "output_type": "execute_result"
    }
   ],
   "source": [
    "rwhale_orca = right.lowest_common_hypernyms(orca)\n",
    "rwhale_orca[0].min_depth()"
   ]
  },
  {
   "cell_type": "code",
   "execution_count": 98,
   "metadata": {
    "collapsed": false,
    "deletable": true,
    "editable": true
   },
   "outputs": [
    {
     "data": {
      "text/plain": [
       "8"
      ]
     },
     "execution_count": 98,
     "metadata": {},
     "output_type": "execute_result"
    }
   ],
   "source": [
    "rwhale_vertebrate = right.lowest_common_hypernyms(tortoise)\n",
    "rwhale_vertebrate[0].min_depth()"
   ]
  },
  {
   "cell_type": "code",
   "execution_count": 99,
   "metadata": {
    "collapsed": false,
    "deletable": true,
    "editable": true
   },
   "outputs": [
    {
     "data": {
      "text/plain": [
       "0"
      ]
     },
     "execution_count": 99,
     "metadata": {},
     "output_type": "execute_result"
    }
   ],
   "source": [
    "rwhale_novel = right.lowest_common_hypernyms(novel)\n",
    "rwhale_novel[0].min_depth()"
   ]
  },
  {
   "cell_type": "markdown",
   "metadata": {
    "deletable": true,
    "editable": true
   },
   "source": [
    "Similarity measures have been defined over the collection of WordNet synsets which incorporate the above insight. For example, path_similarity assigns a score in the range 0–1 based on the shortest path that connects the concepts in the hypernym hierarchy (-1 is returned in those cases where a path cannot be found). Comparing a synset with itself will return 1. Consider the following similarity scores, relating right whale to minke whale, orca, tortoise, and novel. Although the numbers won't mean much, they decrease as we move away from the semantic space of sea creatures to inanimate objects."
   ]
  },
  {
   "cell_type": "code",
   "execution_count": 101,
   "metadata": {
    "collapsed": false,
    "deletable": true,
    "editable": true
   },
   "outputs": [
    {
     "name": "stdout",
     "output_type": "stream",
     "text": [
      "Right whale - Minke : 0.25\n",
      "Right whale - Orca : 0.16666666666666666\n",
      "Right whale - Tortoise : 0.07692307692307693\n",
      "Right whale - Novel : 0.043478260869565216\n"
     ]
    }
   ],
   "source": [
    "print(\"Right whale - Minke :\", right.path_similarity(minke))\n",
    "print(\"Right whale - Orca :\", right.path_similarity(orca))\n",
    "print(\"Right whale - Tortoise :\", right.path_similarity(tortoise))\n",
    "print(\"Right whale - Novel :\", right.path_similarity(novel))"
   ]
  },
  {
   "cell_type": "markdown",
   "metadata": {
    "deletable": true,
    "editable": true
   },
   "source": [
    "#### Exercise\n",
    "\n",
    "* Find the meronyms of the human body\n",
    "* Iterate so that you can find all the meronyms of the meronyms, and so on\n"
   ]
  },
  {
   "cell_type": "code",
   "execution_count": 102,
   "metadata": {
    "collapsed": false,
    "deletable": true,
    "editable": true
   },
   "outputs": [
    {
     "data": {
      "text/plain": [
       "[Synset('homo.n.02'),\n",
       " Synset('human.a.01'),\n",
       " Synset('human.a.02'),\n",
       " Synset('human.a.03')]"
      ]
     },
     "execution_count": 102,
     "metadata": {},
     "output_type": "execute_result"
    }
   ],
   "source": [
    "# Get the synset for \"human\"\n",
    "\n",
    "# Select the right synset, and then get the meronyms for that synset using the part_meronyms() function\n",
    "\n",
    "# Repeat the process for the returned synset. You will need to write a function that takes as input\n",
    "# a synset, gets its meronyms, and processes them again using the same function. This is a technique\n",
    "# called \"recursion\""
   ]
  },
  {
   "cell_type": "code",
   "execution_count": 103,
   "metadata": {
    "collapsed": true,
    "deletable": true,
    "editable": true
   },
   "outputs": [],
   "source": []
  },
  {
   "cell_type": "code",
   "execution_count": null,
   "metadata": {
    "collapsed": true
   },
   "outputs": [],
   "source": []
  },
  {
   "cell_type": "code",
   "execution_count": null,
   "metadata": {
    "collapsed": true
   },
   "outputs": [],
   "source": []
  },
  {
   "cell_type": "markdown",
   "metadata": {},
   "source": [
    "#### Solution "
   ]
  },
  {
   "cell_type": "code",
   "execution_count": 121,
   "metadata": {
    "collapsed": false,
    "deletable": true,
    "editable": true
   },
   "outputs": [
    {
     "data": {
      "text/plain": [
       "[Synset('homo.n.02'),\n",
       " Synset('human.a.01'),\n",
       " Synset('human.a.02'),\n",
       " Synset('human.a.03')]"
      ]
     },
     "execution_count": 121,
     "metadata": {},
     "output_type": "execute_result"
    }
   ],
   "source": [
    "wn.synsets(\"human\")"
   ]
  },
  {
   "cell_type": "code",
   "execution_count": 122,
   "metadata": {
    "collapsed": false
   },
   "outputs": [
    {
     "data": {
      "text/plain": [
       "[Synset('arm.n.01'),\n",
       " Synset('body_hair.n.01'),\n",
       " Synset('face.n.01'),\n",
       " Synset('foot.n.01'),\n",
       " Synset('hand.n.01'),\n",
       " Synset('human_body.n.01'),\n",
       " Synset('human_head.n.01'),\n",
       " Synset('loin.n.02'),\n",
       " Synset('mane.n.02')]"
      ]
     },
     "execution_count": 122,
     "metadata": {},
     "output_type": "execute_result"
    }
   ],
   "source": [
    "human = wn.synset('homo.n.02')\n",
    "human.part_meronyms()"
   ]
  },
  {
   "cell_type": "code",
   "execution_count": 123,
   "metadata": {
    "collapsed": false,
    "deletable": true,
    "editable": true
   },
   "outputs": [],
   "source": [
    "def find_meronyms(synset):\n",
    "    result = []\n",
    "    meronyms = synset.part_meronyms()\n",
    "    \n",
    "    if len(meronyms) == 0:\n",
    "        # This one has no meronyms\n",
    "        return result\n",
    "    for part in meronyms:\n",
    "        # Append the meronym in the results\n",
    "        result.append(part)\n",
    "        # \n",
    "        part_meronyms = find_meronyms(part)\n",
    "        result.extend(part_meronyms)\n",
    "\n",
    "    return result\n",
    "\n",
    "human_parts = set(find_meronyms(human))"
   ]
  },
  {
   "cell_type": "code",
   "execution_count": 124,
   "metadata": {
    "collapsed": false
   },
   "outputs": [
    {
     "name": "stdout",
     "output_type": "stream",
     "text": [
      "Lemma('countenance.n.03.countenance')\n",
      "Lemma('countenance.n.03.physiognomy')\n",
      "Lemma('countenance.n.03.phiz')\n",
      "Lemma('countenance.n.03.visage')\n",
      "Lemma('countenance.n.03.kisser')\n",
      "Lemma('countenance.n.03.smiler')\n",
      "Lemma('countenance.n.03.mug')\n",
      "Lemma('instep.n.01.instep')\n",
      "Lemma('heelbone.n.01.heelbone')\n",
      "Lemma('heelbone.n.01.calcaneus')\n",
      "Lemma('heelbone.n.01.os_tarsi_fibulare')\n",
      "Lemma('heel.n.02.heel')\n",
      "Lemma('chin.n.01.chin')\n",
      "Lemma('chin.n.01.mentum')\n",
      "Lemma('lens_capsule.n.01.lens_capsule')\n",
      "Lemma('olecranon.n.01.olecranon')\n",
      "Lemma('olecranon.n.01.olecranon_process')\n",
      "Lemma('neuroepithelium.n.01.neuroepithelium')\n",
      "Lemma('human_head.n.01.human_head')\n",
      "Lemma('face.n.01.face')\n",
      "Lemma('face.n.01.human_face')\n",
      "Lemma('tongue.n.01.tongue')\n",
      "Lemma('tongue.n.01.lingua')\n",
      "Lemma('tongue.n.01.glossa')\n",
      "Lemma('tongue.n.01.clapper')\n",
      "Lemma('pupillary_sphincter.n.01.pupillary_sphincter')\n",
      "Lemma('pupillary_sphincter.n.01.musculus_sphincter_pupillae')\n",
      "Lemma('human_body.n.01.human_body')\n",
      "Lemma('human_body.n.01.physical_body')\n",
      "Lemma('human_body.n.01.material_body')\n",
      "Lemma('human_body.n.01.soma')\n",
      "Lemma('human_body.n.01.build')\n",
      "Lemma('human_body.n.01.figure')\n",
      "Lemma('human_body.n.01.physique')\n",
      "Lemma('human_body.n.01.anatomy')\n",
      "Lemma('human_body.n.01.shape')\n",
      "Lemma('human_body.n.01.bod')\n",
      "Lemma('human_body.n.01.chassis')\n",
      "Lemma('human_body.n.01.frame')\n",
      "Lemma('human_body.n.01.form')\n",
      "Lemma('human_body.n.01.flesh')\n",
      "Lemma('mouth.n.02.mouth')\n",
      "Lemma('tiptoe.n.01.tiptoe')\n",
      "Lemma('soft_palate.n.01.soft_palate')\n",
      "Lemma('soft_palate.n.01.velum')\n",
      "Lemma('sole.n.03.sole')\n",
      "Lemma('arm.n.01.arm')\n",
      "Lemma('mane.n.02.mane')\n",
      "Lemma('mane.n.02.head_of_hair')\n",
      "Lemma('basilic_vein.n.01.basilic_vein')\n",
      "Lemma('basilic_vein.n.01.vena_basilica')\n",
      "Lemma('visual_purple.n.01.visual_purple')\n",
      "Lemma('visual_purple.n.01.rhodopsin')\n",
      "Lemma('visual_purple.n.01.retinal_purple')\n",
      "Lemma('nictitating_membrane.n.01.nictitating_membrane')\n",
      "Lemma('nictitating_membrane.n.01.third_eyelid')\n",
      "Lemma('ethmoidal_artery.n.01.ethmoidal_artery')\n",
      "Lemma('ethmoidal_artery.n.01.arteria_ethmoidalis')\n",
      "Lemma('brachial_artery.n.01.brachial_artery')\n",
      "Lemma('brachial_artery.n.01.arteria_brachialis')\n",
      "Lemma('lacrimal_sac.n.01.lacrimal_sac')\n",
      "Lemma('lacrimal_sac.n.01.tear_sac')\n",
      "Lemma('lacrimal_sac.n.01.dacryocyst')\n",
      "Lemma('metacarpus.n.01.metacarpus')\n",
      "Lemma('beard.n.01.beard')\n",
      "Lemma('beard.n.01.face_fungus')\n",
      "Lemma('beard.n.01.whiskers')\n",
      "Lemma('lip.n.01.lip')\n",
      "Lemma('uvula.n.01.uvula')\n",
      "Lemma('lacrimal_artery.n.01.lacrimal_artery')\n",
      "Lemma('lacrimal_artery.n.01.arteria_lacrimalis')\n",
      "Lemma('venae_palpebrales.n.01.venae_palpebrales')\n",
      "Lemma('blind_spot.n.02.blind_spot')\n",
      "Lemma('blind_spot.n.02.optic_disc')\n",
      "Lemma('blind_spot.n.02.optic_disk')\n",
      "Lemma('labial_vein.n.02.labial_vein')\n",
      "Lemma('labial_vein.n.02.vena_labialis')\n",
      "Lemma('ulna.n.01.ulna')\n",
      "Lemma('ulna.n.01.elbow_bone')\n",
      "Lemma('deltoid_tuberosity.n.01.deltoid_tuberosity')\n",
      "Lemma('deltoid_tuberosity.n.01.deltoid_eminence')\n",
      "Lemma('iodopsin.n.01.iodopsin')\n",
      "Lemma('big_toe.n.01.big_toe')\n",
      "Lemma('big_toe.n.01.great_toe')\n",
      "Lemma('big_toe.n.01.hallux')\n",
      "Lemma('metatarsal_vein.n.01.metatarsal_vein')\n",
      "Lemma('metatarsal_vein.n.01.vena_metatarsus')\n",
      "Lemma('choroid.n.01.choroid')\n",
      "Lemma('choroid.n.01.choroid_coat')\n",
      "Lemma('lacrimal_apparatus.n.01.lacrimal_apparatus')\n",
      "Lemma('cornea.n.01.cornea')\n",
      "Lemma('arcuate_artery.n.01.arcuate_artery')\n",
      "Lemma('arcuate_artery.n.01.arteria_arcuata')\n",
      "Lemma('macula.n.02.macula')\n",
      "Lemma('macula.n.02.macula_lutea')\n",
      "Lemma('macula.n.02.macular_area')\n",
      "Lemma('macula.n.02.yellow_spot')\n",
      "Lemma('retina.n.01.retina')\n",
      "Lemma('radial_vein.n.01.radial_vein')\n",
      "Lemma('radial_vein.n.01.vena_radialis')\n",
      "Lemma('sclera.n.01.sclera')\n",
      "Lemma('sclera.n.01.sclerotic_coat')\n",
      "Lemma('little_toe.n.01.little_toe')\n",
      "Lemma('toenail.n.01.toenail')\n",
      "Lemma('buccal_artery.n.01.buccal_artery')\n",
      "Lemma('buccal_artery.n.01.arteria_buccalis')\n",
      "Lemma('sinciput.n.01.sinciput')\n",
      "Lemma('intercapitular_vein.n.01.intercapitular_vein')\n",
      "Lemma('intercapitular_vein.n.01.vena_intercapitalis')\n",
      "Lemma('lacrimal_gland.n.01.lacrimal_gland')\n",
      "Lemma('lacrimal_gland.n.01.lachrymal_gland')\n",
      "Lemma('lacrimal_gland.n.01.tear_gland')\n",
      "Lemma('lacrimal_duct.n.01.lacrimal_duct')\n",
      "Lemma('lacrimal_duct.n.01.lachrymal_duct')\n",
      "Lemma('lacrimal_duct.n.01.tear_duct')\n",
      "Lemma('rhinion.n.01.rhinion')\n",
      "Lemma('carpal_tunnel.n.01.carpal_tunnel')\n",
      "Lemma('facial_muscle.n.01.facial_muscle')\n",
      "Lemma('lingual_vein.n.01.lingual_vein')\n",
      "Lemma('lingual_vein.n.01.vena_lingualis')\n",
      "Lemma('mustache.n.01.mustache')\n",
      "Lemma('mustache.n.01.moustache')\n",
      "Lemma('labial_artery.n.01.labial_artery')\n",
      "Lemma('labial_artery.n.01.arteria_labialis')\n",
      "Lemma('occiput.n.01.occiput')\n",
      "Lemma('elbow.n.01.elbow')\n",
      "Lemma('elbow.n.01.elbow_joint')\n",
      "Lemma('elbow.n.01.human_elbow')\n",
      "Lemma('elbow.n.01.cubitus')\n",
      "Lemma('elbow.n.01.cubital_joint')\n",
      "Lemma('elbow.n.01.articulatio_cubiti')\n",
      "Lemma('trichion.n.01.trichion')\n",
      "Lemma('trichion.n.01.crinion')\n",
      "Lemma('pad.n.07.pad')\n",
      "Lemma('ciliary_body.n.01.ciliary_body')\n",
      "Lemma('tastebud.n.01.tastebud')\n",
      "Lemma('tastebud.n.01.taste_bud')\n",
      "Lemma('tastebud.n.01.gustatory_organ')\n",
      "Lemma('fingernail.n.01.fingernail')\n",
      "Lemma('uvea.n.01.uvea')\n",
      "Lemma('ball.n.10.ball')\n",
      "Lemma('visual_cell.n.01.visual_cell')\n",
      "Lemma('metacarpal_artery.n.01.metacarpal_artery')\n",
      "Lemma('metacarpal_artery.n.01.arteria_metacarpea')\n",
      "Lemma('musculus_articularis_cubiti.n.01.musculus_articularis_cubiti')\n",
      "Lemma('eye.n.01.eye')\n",
      "Lemma('eye.n.01.oculus')\n",
      "Lemma('eye.n.01.optic')\n",
      "Lemma('buccal_cavity.n.01.buccal_cavity')\n",
      "Lemma('iris.n.02.iris')\n",
      "Lemma('brow.n.01.brow')\n",
      "Lemma('brow.n.01.forehead')\n",
      "Lemma('achilles_tendon.n.01.Achilles_tendon')\n",
      "Lemma('achilles_tendon.n.01.tendon_of_Achilles')\n",
      "Lemma('ulnar_vein.n.01.ulnar_vein')\n",
      "Lemma('ulnar_vein.n.01.vena_ulnaris')\n",
      "Lemma('metacarpal_vein.n.01.metacarpal_vein')\n",
      "Lemma('metacarpal_vein.n.01.vena_metacarpus')\n",
      "Lemma('cheek.n.01.cheek')\n",
      "Lemma('digital_arteries.n.01.digital_arteries')\n",
      "Lemma('digital_arteries.n.01.arteria_digitalis')\n",
      "Lemma('biceps_brachii.n.01.biceps_brachii')\n",
      "Lemma('biceps_brachii.n.01.musculus_biceps_brachii')\n",
      "Lemma('biceps_brachii.n.01.biceps_humeri')\n",
      "Lemma('anconeous_muscle.n.01.anconeous_muscle')\n",
      "Lemma('anconeous_muscle.n.01.musculus_anconeus')\n",
      "Lemma('goatee.n.01.goatee')\n",
      "Lemma('salivary_gland.n.01.salivary_gland')\n",
      "Lemma('pate.n.02.pate')\n",
      "Lemma('pate.n.02.poll')\n",
      "Lemma('pate.n.02.crown')\n",
      "Lemma('wrist.n.01.wrist')\n",
      "Lemma('wrist.n.01.carpus')\n",
      "Lemma('wrist.n.01.wrist_joint')\n",
      "Lemma('wrist.n.01.radiocarpal_joint')\n",
      "Lemma('wrist.n.01.articulatio_radiocarpea')\n",
      "Lemma('uveoscleral_pathway.n.01.uveoscleral_pathway')\n",
      "Lemma('nostril.n.01.nostril')\n",
      "Lemma('nostril.n.01.anterior_naris')\n",
      "Lemma('central_artery_of_the_retina.n.01.central_artery_of_the_retina')\n",
      "Lemma('central_artery_of_the_retina.n.01.arteria_centralis_retinae')\n",
      "Lemma('finger.n.01.finger')\n",
      "Lemma('metatarsal_artery.n.01.metatarsal_artery')\n",
      "Lemma('metatarsal_artery.n.01.arteria_metatarsea')\n",
      "Lemma('nose.n.01.nose')\n",
      "Lemma('nose.n.01.olfactory_organ')\n",
      "Lemma('internasal_suture.n.01.internasal_suture')\n",
      "Lemma('internasal_suture.n.01.sutura_internasalis')\n",
      "Lemma('lacrimal_vein.n.01.lacrimal_vein')\n",
      "Lemma('lacrimal_vein.n.01.vena_lacrimalis')\n",
      "Lemma('rod.n.05.rod')\n",
      "Lemma('rod.n.05.rod_cell')\n",
      "Lemma('rod.n.05.retinal_rod')\n",
      "Lemma('palate.n.01.palate')\n",
      "Lemma('palate.n.01.roof_of_the_mouth')\n",
      "Lemma('arm_bone.n.01.arm_bone')\n",
      "Lemma('funny_bone.n.01.funny_bone')\n",
      "Lemma('funny_bone.n.01.crazy_bone')\n",
      "Lemma('parafovea.n.01.parafovea')\n",
      "Lemma('loin.n.02.loin')\n",
      "Lemma('loin.n.02.lumbus')\n",
      "Lemma('dentition.n.02.dentition')\n",
      "Lemma('dentition.n.02.teeth')\n",
      "Lemma('jowl.n.02.jowl')\n",
      "Lemma('thenar.n.01.thenar')\n",
      "Lemma('facial_vein.n.01.facial_vein')\n",
      "Lemma('facial_vein.n.01.vena_facialis')\n",
      "Lemma('mouth.n.01.mouth')\n",
      "Lemma('mouth.n.01.oral_cavity')\n",
      "Lemma('mouth.n.01.oral_fissure')\n",
      "Lemma('mouth.n.01.rima_oris')\n",
      "Lemma('scalp.n.01.scalp')\n",
      "Lemma('facial.n.01.facial')\n",
      "Lemma('facial.n.01.facial_nerve')\n",
      "Lemma('facial.n.01.nervus_facialis')\n",
      "Lemma('facial.n.01.seventh_cranial_nerve')\n",
      "Lemma('taste_cell.n.01.taste_cell')\n",
      "Lemma('taste_cell.n.01.gustatory_cell')\n",
      "Lemma('toe.n.01.toe')\n",
      "Lemma('triceps_brachii.n.01.triceps_brachii')\n",
      "Lemma('triceps_brachii.n.01.musculus_triceps_brachii')\n",
      "Lemma('eyebrow.n.01.eyebrow')\n",
      "Lemma('eyebrow.n.01.brow')\n",
      "Lemma('eyebrow.n.01.supercilium')\n",
      "Lemma('cephalic_vein.n.01.cephalic_vein')\n",
      "Lemma('cephalic_vein.n.01.vena_cephalica')\n",
      "Lemma('fingertip.n.01.fingertip')\n",
      "Lemma('aperture.n.02.aperture')\n",
      "Lemma('accessory_cephalic_vein.n.01.accessory_cephalic_vein')\n",
      "Lemma('accessory_cephalic_vein.n.01.vena_cephalica_accessoria')\n",
      "Lemma('gingiva.n.01.gingiva')\n",
      "Lemma('gingiva.n.01.gum')\n",
      "Lemma('saliva.n.01.saliva')\n",
      "Lemma('saliva.n.01.spit')\n",
      "Lemma('saliva.n.01.spittle')\n",
      "Lemma('ocular_muscle.n.01.ocular_muscle')\n",
      "Lemma('ocular_muscle.n.01.eye_muscle')\n",
      "Lemma('cheek_muscle.n.01.cheek_muscle')\n",
      "Lemma('cheek_muscle.n.01.buccinator_muscle')\n",
      "Lemma('cheek_muscle.n.01.musculus_buccinator')\n",
      "Lemma('eyelid.n.01.eyelid')\n",
      "Lemma('eyelid.n.01.lid')\n",
      "Lemma('eyelid.n.01.palpebra')\n",
      "Lemma('body_hair.n.01.body_hair')\n",
      "Lemma('lingual_artery.n.01.lingual_artery')\n",
      "Lemma('lingual_artery.n.01.arteria_lingualis')\n",
      "Lemma('ulnar_nerve.n.01.ulnar_nerve')\n",
      "Lemma('ulnar_nerve.n.01.cubital_nerve')\n",
      "Lemma('ulnar_nerve.n.01.nervus_ulnaris')\n",
      "Lemma('eyelash.n.01.eyelash')\n",
      "Lemma('eyelash.n.01.lash')\n",
      "Lemma('eyelash.n.01.cilium')\n",
      "Lemma('hand.n.01.hand')\n",
      "Lemma('hand.n.01.manus')\n",
      "Lemma('hand.n.01.mitt')\n",
      "Lemma('hand.n.01.paw')\n",
      "Lemma('knuckle.n.01.knuckle')\n",
      "Lemma('knuckle.n.01.knuckle_joint')\n",
      "Lemma('knuckle.n.01.metacarpophalangeal_joint')\n",
      "Lemma('lens_cortex.n.01.lens_cortex')\n",
      "Lemma('lens_cortex.n.01.cortex')\n",
      "Lemma('radius.n.04.radius')\n",
      "Lemma('forearm.n.01.forearm')\n",
      "Lemma('carpal_bone.n.01.carpal_bone')\n",
      "Lemma('carpal_bone.n.01.carpal')\n",
      "Lemma('carpal_bone.n.01.wrist_bone')\n",
      "Lemma('lens.n.04.lens')\n",
      "Lemma('lens.n.04.crystalline_lens')\n",
      "Lemma('lens.n.04.lens_of_the_eye')\n",
      "Lemma('fovea.n.01.fovea')\n",
      "Lemma('fovea.n.01.fovea_centralis')\n",
      "Lemma('bridge.n.04.bridge')\n",
      "Lemma('pupil.n.02.pupil')\n",
      "Lemma('nasal_cavity.n.01.nasal_cavity')\n",
      "Lemma('conjunctiva.n.01.conjunctiva')\n",
      "Lemma('canthus.n.01.canthus')\n",
      "Lemma('foot.n.01.foot')\n",
      "Lemma('foot.n.01.human_foot')\n",
      "Lemma('foot.n.01.pes')\n",
      "Lemma('metacarpal.n.01.metacarpal')\n",
      "Lemma('metacarpal.n.01.metacarpal_bone')\n",
      "Lemma('nasal.n.02.nasal')\n",
      "Lemma('nasal.n.02.nasal_bone')\n",
      "Lemma('nasal.n.02.os_nasale')\n",
      "Lemma('feature.n.02.feature')\n",
      "Lemma('feature.n.02.lineament')\n",
      "Lemma('jaw.n.02.jaw')\n",
      "Lemma('turbinate_bone.n.01.turbinate_bone')\n",
      "Lemma('turbinate_bone.n.01.turbinate')\n",
      "Lemma('turbinate_bone.n.01.turbinal')\n",
      "Lemma('humerus.n.01.humerus')\n",
      "Lemma('hard_palate.n.01.hard_palate')\n",
      "Lemma('cone.n.04.cone')\n",
      "Lemma('cone.n.04.cone_cell')\n",
      "Lemma('cone.n.04.retinal_cone')\n",
      "Lemma('palm.n.01.palm')\n",
      "Lemma('palm.n.01.thenar')\n",
      "Lemma('eyeball.n.01.eyeball')\n",
      "Lemma('eyeball.n.01.orb')\n",
      "Lemma('ciliary_artery.n.01.ciliary_artery')\n",
      "Lemma('ciliary_artery.n.01.arteria_ciliaris')\n",
      "Lemma('epicanthus.n.01.epicanthus')\n",
      "Lemma('epicanthus.n.01.epicanthic_fold')\n"
     ]
    }
   ],
   "source": [
    "human_parts_lemmas = set()\n",
    "for human_part in human_parts:\n",
    "    for lemma in human_part.lemmas():\n",
    "        human_parts_lemmas.add(lemma)\n",
    "        print(lemma)"
   ]
  },
  {
   "cell_type": "code",
   "execution_count": 125,
   "metadata": {
    "collapsed": false
   },
   "outputs": [
    {
     "name": "stdout",
     "output_type": "stream",
     "text": [
      "buccal_cavity\n",
      "lingual_artery\n",
      "great_toe\n",
      "material_body\n",
      "labial_vein\n",
      "musculus_triceps_brachii\n",
      "eyeball\n",
      "facial_vein\n",
      "olecranon_process\n",
      "pate\n",
      "taste_cell\n",
      "crazy_bone\n",
      "palpebra\n",
      "gustatory_organ\n",
      "visual_purple\n",
      "smiler\n",
      "sclera\n",
      "nasal\n",
      "retinal_rod\n",
      "musculus_buccinator\n",
      "vena_metatarsus\n",
      "deltoid_eminence\n",
      "big_toe\n",
      "buccal_artery\n",
      "biceps_brachii\n",
      "anconeous_muscle\n",
      "seventh_cranial_nerve\n",
      "triceps_brachii\n",
      "vena_cephalica_accessoria\n",
      "cubital_nerve\n",
      "crystalline_lens\n",
      "trichion\n",
      "retinal_cone\n",
      "cilium\n",
      "orb\n",
      "head_of_hair\n",
      "ulna\n",
      "tastebud\n",
      "nervus_ulnaris\n",
      "carpus\n",
      "arteria_metacarpea\n",
      "wrist_bone\n",
      "retinal_purple\n",
      "ethmoidal_artery\n",
      "arm_bone\n",
      "ulnar_vein\n",
      "facial_nerve\n",
      "fingertip\n",
      "aperture\n",
      "optic_disc\n",
      "arteria_lacrimalis\n",
      "tear_sac\n",
      "mane\n",
      "toe\n",
      "cephalic_vein\n",
      "arteria_digitalis\n",
      "rhodopsin\n",
      "turbinal\n",
      "arteria_ciliaris\n",
      "lens\n",
      "neuroepithelium\n",
      "beard\n",
      "arteria_metatarsea\n",
      "chin\n",
      "vena_basilica\n",
      "crinion\n",
      "physique\n",
      "hallux\n",
      "bod\n",
      "cubitus\n",
      "uveoscleral_pathway\n",
      "os_nasale\n",
      "biceps_humeri\n",
      "arcuate_artery\n",
      "vena_intercapitalis\n",
      "countenance\n",
      "heel\n",
      "ciliary_artery\n",
      "lacrimal_vein\n",
      "human_elbow\n",
      "metatarsal_vein\n",
      "humerus\n",
      "thenar\n",
      "soft_palate\n",
      "lash\n",
      "eyebrow\n",
      "radial_vein\n",
      "teeth\n",
      "soma\n",
      "tongue\n",
      "lacrimal_apparatus\n",
      "rima_oris\n",
      "velum\n",
      "nervus_facialis\n",
      "fovea_centralis\n",
      "toenail\n",
      "articulatio_radiocarpea\n",
      "pupil\n",
      "nictitating_membrane\n",
      "vena_metacarpus\n",
      "cone\n",
      "palate\n",
      "arteria_lingualis\n",
      "uvula\n",
      "oral_cavity\n",
      "lingua\n",
      "yellow_spot\n",
      "vena_ulnaris\n",
      "tendon_of_Achilles\n",
      "choroid_coat\n",
      "form\n",
      "whiskers\n",
      "brachial_artery\n",
      "conjunctiva\n",
      "macular_area\n",
      "central_artery_of_the_retina\n",
      "ciliary_body\n",
      "vena_cephalica\n",
      "sutura_internasalis\n",
      "cornea\n",
      "digital_arteries\n",
      "venae_palpebrales\n",
      "forehead\n",
      "visual_cell\n",
      "human_foot\n",
      "tear_duct\n",
      "moustache\n",
      "gum\n",
      "mouth\n",
      "buccinator_muscle\n",
      "hand\n",
      "arteria_arcuata\n",
      "arteria_centralis_retinae\n",
      "vena_labialis\n",
      "metacarpal_artery\n",
      "basilic_vein\n",
      "loin\n",
      "phiz\n",
      "nasal_cavity\n",
      "finger\n",
      "choroid\n",
      "wrist_joint\n",
      "supercilium\n",
      "cheek\n",
      "Achilles_tendon\n",
      "nasal_bone\n",
      "chassis\n",
      "third_eyelid\n",
      "face_fungus\n",
      "ball\n",
      "radiocarpal_joint\n",
      "saliva\n",
      "arteria_brachialis\n",
      "forearm\n",
      "turbinate_bone\n",
      "spittle\n",
      "carpal\n",
      "articulatio_cubiti\n",
      "elbow\n",
      "macula_lutea\n",
      "facial\n",
      "carpal_bone\n",
      "jaw\n",
      "flesh\n",
      "mug\n",
      "physical_body\n",
      "goatee\n",
      "os_tarsi_fibulare\n",
      "lens_cortex\n",
      "physiognomy\n",
      "tiptoe\n",
      "iodopsin\n",
      "carpal_tunnel\n",
      "accessory_cephalic_vein\n",
      "anterior_naris\n",
      "lens_of_the_eye\n",
      "shape\n",
      "crown\n",
      "radius\n",
      "dacryocyst\n",
      "lachrymal_duct\n",
      "fingernail\n",
      "olfactory_organ\n",
      "mustache\n",
      "lacrimal_gland\n",
      "scalp\n",
      "ocular_muscle\n",
      "knuckle_joint\n",
      "kisser\n",
      "instep\n",
      "sole\n",
      "metacarpal_vein\n",
      "manus\n",
      "lineament\n",
      "hard_palate\n",
      "optic\n",
      "salivary_gland\n",
      "glossa\n",
      "frame\n",
      "oculus\n",
      "vena_facialis\n",
      "lip\n",
      "human_body\n",
      "wrist\n",
      "roof_of_the_mouth\n",
      "oral_fissure\n",
      "bridge\n",
      "vena_lingualis\n",
      "elbow_bone\n",
      "pes\n",
      "musculus_sphincter_pupillae\n",
      "brow\n",
      "body_hair\n",
      "little_toe\n",
      "lachrymal_gland\n",
      "olecranon\n",
      "retina\n",
      "rhinion\n",
      "face\n",
      "deltoid_tuberosity\n",
      "blind_spot\n",
      "build\n",
      "vena_radialis\n",
      "arteria_buccalis\n",
      "lumbus\n",
      "cone_cell\n",
      "taste_bud\n",
      "optic_disk\n",
      "paw\n",
      "funny_bone\n",
      "lid\n",
      "vena_lacrimalis\n",
      "palm\n",
      "eye\n",
      "ulnar_nerve\n",
      "lens_capsule\n",
      "labial_artery\n",
      "musculus_biceps_brachii\n",
      "feature\n",
      "cubital_joint\n",
      "tear_gland\n",
      "facial_muscle\n",
      "lacrimal_duct\n",
      "cheek_muscle\n",
      "sinciput\n",
      "iris\n",
      "rod_cell\n",
      "gustatory_cell\n",
      "musculus_anconeus\n",
      "macula\n",
      "uvea\n",
      "occiput\n",
      "metatarsal_artery\n",
      "mentum\n",
      "parafovea\n",
      "lacrimal_sac\n",
      "elbow_joint\n",
      "eyelid\n",
      "eye_muscle\n",
      "fovea\n",
      "lacrimal_artery\n",
      "mitt\n",
      "metacarpal_bone\n",
      "nose\n",
      "dentition\n",
      "human_face\n",
      "visage\n",
      "musculus_articularis_cubiti\n",
      "internasal_suture\n",
      "gingiva\n",
      "metacarpophalangeal_joint\n",
      "arteria_labialis\n",
      "clapper\n",
      "arm\n",
      "metacarpus\n",
      "pad\n",
      "poll\n",
      "rod\n",
      "metacarpal\n",
      "human_head\n",
      "turbinate\n",
      "nostril\n",
      "epicanthic_fold\n",
      "anatomy\n",
      "pupillary_sphincter\n",
      "sclerotic_coat\n",
      "lingual_vein\n",
      "figure\n",
      "cortex\n",
      "spit\n",
      "foot\n",
      "jowl\n",
      "calcaneus\n",
      "eyelash\n",
      "canthus\n",
      "epicanthus\n",
      "knuckle\n",
      "arteria_ethmoidalis\n",
      "heelbone\n",
      "intercapitular_vein\n"
     ]
    }
   ],
   "source": [
    "for lemma in human_parts_lemmas:\n",
    "    print(lemma.name())"
   ]
  },
  {
   "cell_type": "markdown",
   "metadata": {
    "deletable": true,
    "editable": true
   },
   "source": [
    "### Some additional, semi-random examples\n",
    "\n",
    "Below are a few examples of what we can do with the NLTK toolkit, but we will discuss the details of these later in class."
   ]
  },
  {
   "cell_type": "code",
   "execution_count": null,
   "metadata": {
    "collapsed": false,
    "deletable": true,
    "editable": true,
    "scrolled": false
   },
   "outputs": [],
   "source": [
    "# Examples of the appearance of the word \"selection\"\n",
    "text.concordance(\"species\")"
   ]
  },
  {
   "cell_type": "code",
   "execution_count": null,
   "metadata": {
    "collapsed": false,
    "deletable": true,
    "editable": true
   },
   "outputs": [],
   "source": [
    "# Frequent collocations in the text (usually meaningful phrases)\n",
    "text.collocations()"
   ]
  },
  {
   "cell_type": "code",
   "execution_count": null,
   "metadata": {
    "collapsed": false,
    "deletable": true,
    "editable": true
   },
   "outputs": [],
   "source": [
    "# Dispersion plot\n",
    "text.dispersion_plot([\"selection\", \"species\", \"organic\", \"allied\", \"parent\", \"sexual\"])"
   ]
  },
  {
   "cell_type": "markdown",
   "metadata": {
    "deletable": true,
    "editable": true
   },
   "source": [
    "### Summary\n",
    "\n",
    "* A frequency distribution is a collection of items along with their frequency counts (e.g., the words of a text and their frequency of appearance).\n",
    "* Tokenization is the segmentation of a text into basic units — or tokens — such as words and punctuation. Tokenization based on whitespace is inadequate for many applications because it bundles punctuation together with words. NLTK provides an off-the-shelf tokenizer nltk.word_tokenize().\n",
    "* Stemming is the process of removing the affix of a word, to create a \"normalized\" representation of the token\n",
    "* Lemmatization is a process that maps the various forms of a word (such as appeared, appears) to the canonical or citation form of the word, also known as the lexeme or lemma (e.g. appear). \n",
    "* WordNet is a semantically-oriented dictionary of English, consisting of synonym sets — or synsets — and organized into a network.\n",
    "\n"
   ]
  }
 ],
 "metadata": {
  "kernelspec": {
   "display_name": "Python 3",
   "language": "python",
   "name": "python3"
  },
  "language_info": {
   "codemirror_mode": {
    "name": "ipython",
    "version": 3
   },
   "file_extension": ".py",
   "mimetype": "text/x-python",
   "name": "python",
   "nbconvert_exporter": "python",
   "pygments_lexer": "ipython3",
   "version": "3.5.2"
  }
 },
 "nbformat": 4,
 "nbformat_minor": 0
}
