{
 "cells": [
  {
   "cell_type": "markdown",
   "metadata": {},
   "source": [
    "Overview\n",
    "--------\n",
    "\n",
    "_Readings: The [Appendix A of Learn Python the Hard Way](http://learnpythonthehardway.org/book/appendixa.html) also discusses the material below._\n",
    "\n",
    "Modern data science is impossible without some understanding of the Unix command line.  Unix is a family of computer operating systems including the Mac’s OS X and Linux (technically, Linux is a Unix clone); Windows has also Unix emulators, which allow running Unix commands.  In our class, we use the Linux (specifically, the Ubuntu distribution), running on the Amazon EC2 cloud infrastructure.\n",
    "\n",
    "This document is a tutorial in some of the basic unix command-line utilities used for data gathering, searching, cleaning and summarizing. Generally, unix commands are very efficient, and can be used to process data that is quite large, beyond what can be loaded into your computer’s main memory, and can easily handle workloads far exceeding the capabilities of tools like Excel. We will start by covering various Unix tools early on, showing how we can combine and pipeline their output, using pipes, filters, and redirection. \n",
    "\n",
    "Command-line Utilities\n",
    "----------------------\n",
    "\n",
    "This section gives some crucial unix utilities. This list is by no means exhaustive, and the ordering is not perfect; different tasks have different demands. Fortunately, unix has been around for a while and has an extremely active user base, developing a wide range of utilities for common data processing, networking, system management, and automation tasks.\n",
    "\n",
    "Once you are familiar with programming, you will be able to write your own scripts in Python that can perform tasks which you are unable to accomplish using existing unix utilities. The tradeoff between writing hand-coded scripts and existing unix utilities is an increase in flexibility at the expense of increased development time, and therefore a reduction in the speed of iteration.\n",
    "\n",
    "Once you have access to the terminal in your machine, try it out! Let's start:\n",
    "\n",
    "(_**Note**: In IPython, to call a command line script, you add an exclamation mark before the command. That's why you will see all the commands in this notebook being preceded by a `!` character._)"
   ]
  },
  {
   "cell_type": "markdown",
   "metadata": {},
   "source": [
    "### `pwd`\n",
    "\n",
    "Prints the current directory. Type `pwd` in the shell prompt. This will tell you your current directory. "
   ]
  },
  {
   "cell_type": "code",
   "execution_count": null,
   "metadata": {
    "collapsed": false,
    "scrolled": true
   },
   "outputs": [],
   "source": [
    "!pwd"
   ]
  },
  {
   "cell_type": "markdown",
   "metadata": {},
   "source": [
    "### `ls`\n",
    "\n",
    "Lists the contents of a directory or provide information about the specified file. Typical usage: \n",
    "\n",
    "`ls [options] [files or directories]`\n",
    "\n",
    "If you want to know the contents of this directory, type `ls -A`. "
   ]
  },
  {
   "cell_type": "code",
   "execution_count": null,
   "metadata": {
    "collapsed": false
   },
   "outputs": [],
   "source": [
    "!ls"
   ]
  },
  {
   "cell_type": "markdown",
   "metadata": {},
   "source": [
    "Let's try now to execute ls with a different set of option, to print the contents of all the folders under the current one:"
   ]
  },
  {
   "cell_type": "code",
   "execution_count": null,
   "metadata": {
    "collapsed": false
   },
   "outputs": [],
   "source": [
    "!ls -R"
   ]
  },
  {
   "cell_type": "markdown",
   "metadata": {},
   "source": [
    "\n",
    "\n",
    "By default, ls simply lists the contents of the current directory. There are several options that when used in conjunction with ls give more detailed information about the files or directories being queried. Here are a sample:\n",
    "\n",
    "+ `-A`: list all of the contents of the queried directory, even hidden files.\n",
    "+ `-l`: detailed format, display additional info for all files and directories.\n",
    "+ `-R`: recursively list the contents of any subdirectories.\n",
    "+ `-t`: sort files by the time of the last modification.\n",
    "+ `-S`: sort files by size.\n",
    "+ `-r`: reverse any sort order.\n",
    "+ `-h`: when used in conjunction with `-l`, gives a more human-readable output.\n",
    "\n",
    "### `cd`\n",
    "\n",
    "Change the current directory. Usage: \n",
    "\n",
    "`cd [directory to move to]`\n",
    "\n",
    "For example, to change to the `/home/ubuntu` directory:"
   ]
  },
  {
   "cell_type": "code",
   "execution_count": null,
   "metadata": {
    "collapsed": false
   },
   "outputs": [],
   "source": [
    "!cd /home/ubuntu"
   ]
  },
  {
   "cell_type": "markdown",
   "metadata": {},
   "source": [
    "If we want to run two commands in a row, we separate them using the `;` character. For example, to change to a directory and show its contents:"
   ]
  },
  {
   "cell_type": "code",
   "execution_count": null,
   "metadata": {
    "collapsed": false
   },
   "outputs": [],
   "source": [
    "!cd /home/ubuntu; ls -l"
   ]
  },
  {
   "cell_type": "markdown",
   "metadata": {},
   "source": [
    "### `mkdir`\n",
    "\n",
    "Creates a new folder. For example, to create a new folder named `DealingWithData` under the current folder, we type:\n"
   ]
  },
  {
   "cell_type": "code",
   "execution_count": null,
   "metadata": {
    "collapsed": false
   },
   "outputs": [],
   "source": [
    "!mkdir DealingWithData\n",
    "!ls -lA"
   ]
  },
  {
   "cell_type": "markdown",
   "metadata": {},
   "source": [
    "### `rmdir` \n",
    "\n",
    "Removes a folder. (The folder must be empty for the command to succeed.)"
   ]
  },
  {
   "cell_type": "code",
   "execution_count": null,
   "metadata": {
    "collapsed": false
   },
   "outputs": [],
   "source": [
    "!rmdir DealingWithData"
   ]
  },
  {
   "cell_type": "markdown",
   "metadata": {},
   "source": [
    "### `cp` \n",
    "\n",
    "Copies a file. Usage:\n",
    "\n",
    "`cp [source file] [destination file]`\n",
    "\n",
    "It can also be used to copy multiple files into a directory.\n",
    "\n",
    "`cp [source file1] [source file2] ... [destination directory]`\n",
    "\n",
    "For example, to copy the file 'A-Basic_Unix_Shell_Commands.ipynb' and name the file NotebookA.ipynb"
   ]
  },
  {
   "cell_type": "code",
   "execution_count": null,
   "metadata": {
    "collapsed": false
   },
   "outputs": [],
   "source": [
    "!cp A-Basic_Unix_Shell_Commands.ipynb NotebookA.ipynb\n",
    "!ls -l "
   ]
  },
  {
   "cell_type": "markdown",
   "metadata": {},
   "source": [
    "Or we can copy the file to another folder. For example, the following command copies the file `A-Basic_Unix_Shell_Commands.ipynb` to folder `DealingWithData` and names the new file `NotebookA.ipynb`"
   ]
  },
  {
   "cell_type": "code",
   "execution_count": null,
   "metadata": {
    "collapsed": false
   },
   "outputs": [],
   "source": [
    "!mkdir DealingWithData\n",
    "!cp A-Basic_Unix_Shell_Commands.ipynb DealingWithData/NotebookA.ipynb\n",
    "!ls -lA DealingWithData"
   ]
  },
  {
   "cell_type": "markdown",
   "metadata": {},
   "source": [
    "### `rm` \n",
    "\n",
    "The `rm` command is used to delete a file.\n",
    "\n",
    "rm -r : deletes a folder, recursively"
   ]
  },
  {
   "cell_type": "code",
   "execution_count": null,
   "metadata": {
    "collapsed": false
   },
   "outputs": [],
   "source": [
    "!rm DealingWithData/NotebookA.ipynb\n",
    "!rm NotebookA.ipynb"
   ]
  },
  {
   "cell_type": "code",
   "execution_count": null,
   "metadata": {
    "collapsed": true
   },
   "outputs": [],
   "source": [
    "#clean up\n",
    "!rmdir DealingWithData"
   ]
  },
  {
   "cell_type": "markdown",
   "metadata": {},
   "source": [
    "\n",
    "\n",
    "\n",
    "### `mv`\n",
    "\n",
    "The `mv` command is similar to `cp` but it moves the file instead of just copying it. Effectively it performs a `cp` command, followed by an `rm` for the original file\n",
    "\n",
    "### `man` \n",
    "\n",
    "The `man` command shows the instructions (manual) for that command. For example, if we want to see all the options for the command `ls`, we type:"
   ]
  },
  {
   "cell_type": "code",
   "execution_count": null,
   "metadata": {
    "collapsed": false
   },
   "outputs": [],
   "source": [
    "!man ls"
   ]
  },
  {
   "cell_type": "markdown",
   "metadata": {},
   "source": [
    "### `date`\n",
    "\n",
    "The `date` commands prints the current date"
   ]
  },
  {
   "cell_type": "code",
   "execution_count": null,
   "metadata": {
    "collapsed": false
   },
   "outputs": [],
   "source": [
    "!date"
   ]
  },
  {
   "cell_type": "markdown",
   "metadata": {},
   "source": [
    "### `logout` \n",
    "\n",
    "The logout command logs you out of the shell."
   ]
  },
  {
   "cell_type": "markdown",
   "metadata": {},
   "source": [
    "## Exercise\n",
    "\n",
    "* Create two new directories, dir1 and dir2 with the mkdir command. \n",
    "* Use ls to confirm\n",
    "* Copy the file /home/ubuntu/data/titanic.xls to dir1 and name it file1.xls\n",
    "* Copy the file /home/ubuntu/data/imdb.sql to dir2 and name it file2.sql\n",
    "* Move each file to the other directory (file1.xls to dir2 and file2.sql to dir1) with the mv command\n",
    "* Delete both directories with the rm -r command\n"
   ]
  },
  {
   "cell_type": "code",
   "execution_count": null,
   "metadata": {
    "collapsed": false
   },
   "outputs": [],
   "source": [
    "# your code here"
   ]
  }
 ],
 "metadata": {
  "kernelspec": {
   "display_name": "Python 3",
   "language": "python",
   "name": "python3"
  },
  "language_info": {
   "codemirror_mode": {
    "name": "ipython",
    "version": 3
   },
   "file_extension": ".py",
   "mimetype": "text/x-python",
   "name": "python",
   "nbconvert_exporter": "python",
   "pygments_lexer": "ipython3",
   "version": "3.5.1+"
  }
 },
 "nbformat": 4,
 "nbformat_minor": 0
}
