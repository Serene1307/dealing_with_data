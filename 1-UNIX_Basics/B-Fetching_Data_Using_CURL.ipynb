{
 "cells": [
  {
   "cell_type": "markdown",
   "metadata": {},
   "source": [
    "Getting Data using CURL\n",
    "-----------------------\n",
    "\n",
    "We now move into a more interesting topic: How to get data from Internet sources. For that, we will use a command-line tool of Unix, called `curl`. (Later in class, we will learn how to achieve the same using Python, but for quick testing, curl is often the standard method used.) We will also use a tool called `jq` to interact with JSON output. (Do not worry, we will revisit both these later in class.)\n",
    "\n",
    "_Often, curl and jq do not come preinstalled, so the first time that we use them, we need to issue the appropriate command for installing it.  To install it, simply type:_"
   ]
  },
  {
   "cell_type": "code",
   "execution_count": 4,
   "metadata": {
    "collapsed": false
   },
   "outputs": [
    {
     "name": "stdout",
     "output_type": "stream",
     "text": [
      "Reading package lists... Doneding package lists... 100%\n",
      "Building dependency tree       ilding dependency tree... 0%Building dependency tree... 50%\n",
      "Reading state information... Doneding state information... 1%\n",
      "curl is already the newest version (7.47.0-1ubuntu2.2).\n",
      "0 upgraded, 0 newly installed, 0 to remove and 3 not upgraded.\n",
      "Reading package lists... Doneding package lists... 100%\n",
      "Building dependency tree       uilding dependency tree... 0%Building dependency tree... 50%\n",
      "Reading state information... Doneding state information... 1%\n",
      "jq is already the newest version (1.5+dfsg-1).\n",
      "0 upgraded, 0 newly installed, 0 to remove and 3 not upgraded.\n"
     ]
    }
   ],
   "source": [
    "!sudo apt-get -y install curl\n",
    "!sudo apt-get -y install jq"
   ]
  },
  {
   "cell_type": "markdown",
   "metadata": {},
   "source": [
    "Let's start by retrieving a simple text file, which we will use later in the class, to illustrate how different shell commands work. The sample data file is hosted online. You can use terminal commands to copy this remote file. Simply type:"
   ]
  },
  {
   "cell_type": "code",
   "execution_count": null,
   "metadata": {
    "collapsed": false
   },
   "outputs": [],
   "source": [
    "!curl -L 'https://dl.dropboxusercontent.com/u/16006464/IPDS/sample.txt'"
   ]
  },
  {
   "cell_type": "markdown",
   "metadata": {},
   "source": [
    "The columns in this tab-separated data correspond to [order id] [time of order] [user id] [ordered item], something similar to what might be encountered in practice. If you wish, you can copy-paste the data written above into a text editor, making sure there is a newline following each of the ordered item columns (the columns with alphabetic characters)."
   ]
  },
  {
   "cell_type": "markdown",
   "metadata": {},
   "source": [
    "To store the output to a file, we also add the `-o [output file]` in the command. (We are also going to see in the next session how to use _output redirection_ to store the output to a file.)"
   ]
  },
  {
   "cell_type": "code",
   "execution_count": null,
   "metadata": {
    "collapsed": false
   },
   "outputs": [],
   "source": [
    "!curl -L 'https://dl.dropboxusercontent.com/u/16006464/IPDS/sample.txt' -o data/sample.txt"
   ]
  },
  {
   "cell_type": "code",
   "execution_count": null,
   "metadata": {
    "collapsed": false
   },
   "outputs": [],
   "source": [
    "!ls data/"
   ]
  },
  {
   "cell_type": "markdown",
   "metadata": {},
   "source": [
    "This will pull the file to the directory `/home/ubuntu/data/`, creating a new file called `sample.txt`. If we do not want to see any statistics about the download, we can use the `-s` option:"
   ]
  },
  {
   "cell_type": "code",
   "execution_count": null,
   "metadata": {
    "collapsed": false
   },
   "outputs": [],
   "source": [
    "!curl  -s -L 'https://dl.dropboxusercontent.com/u/16006464/IPDS/sample.txt' -o data/sample.txt"
   ]
  },
  {
   "cell_type": "markdown",
   "metadata": {},
   "source": [
    "Now, let's try to use curl to get access to some real data. A key component of today's data ecosystem is the existence of `Web APIs` which provide functionality for a variety of tasks.\n",
    "\n",
    "#### Where am I?\n",
    "\n",
    "For example, let's try to figure out programmatically the location of the computer where the iPython server is running. We can access the API call by issuing the following command:\n",
    "\n"
   ]
  },
  {
   "cell_type": "code",
   "execution_count": 5,
   "metadata": {
    "collapsed": false
   },
   "outputs": [
    {
     "name": "stdout",
     "output_type": "stream",
     "text": [
      "\u001b[1;39m{\r\n",
      "  \u001b[0m\u001b[34;1m\"ip\"\u001b[0m\u001b[1;39m: \u001b[0m\u001b[0;32m\"104.196.189.255\"\u001b[0m\u001b[1;39m,\r\n",
      "  \u001b[0m\u001b[34;1m\"country_code\"\u001b[0m\u001b[1;39m: \u001b[0m\u001b[0;32m\"US\"\u001b[0m\u001b[1;39m,\r\n",
      "  \u001b[0m\u001b[34;1m\"country_name\"\u001b[0m\u001b[1;39m: \u001b[0m\u001b[0;32m\"United States\"\u001b[0m\u001b[1;39m,\r\n",
      "  \u001b[0m\u001b[34;1m\"region_code\"\u001b[0m\u001b[1;39m: \u001b[0m\u001b[0;32m\"CA\"\u001b[0m\u001b[1;39m,\r\n",
      "  \u001b[0m\u001b[34;1m\"region_name\"\u001b[0m\u001b[1;39m: \u001b[0m\u001b[0;32m\"California\"\u001b[0m\u001b[1;39m,\r\n",
      "  \u001b[0m\u001b[34;1m\"city\"\u001b[0m\u001b[1;39m: \u001b[0m\u001b[0;32m\"Mountain View\"\u001b[0m\u001b[1;39m,\r\n",
      "  \u001b[0m\u001b[34;1m\"zip_code\"\u001b[0m\u001b[1;39m: \u001b[0m\u001b[0;32m\"94043\"\u001b[0m\u001b[1;39m,\r\n",
      "  \u001b[0m\u001b[34;1m\"time_zone\"\u001b[0m\u001b[1;39m: \u001b[0m\u001b[0;32m\"America/Los_Angeles\"\u001b[0m\u001b[1;39m,\r\n",
      "  \u001b[0m\u001b[34;1m\"latitude\"\u001b[0m\u001b[1;39m: \u001b[0m\u001b[0;39m37.4192\u001b[0m\u001b[1;39m,\r\n",
      "  \u001b[0m\u001b[34;1m\"longitude\"\u001b[0m\u001b[1;39m: \u001b[0m\u001b[0;39m-122.0574\u001b[0m\u001b[1;39m,\r\n",
      "  \u001b[0m\u001b[34;1m\"metro_code\"\u001b[0m\u001b[1;39m: \u001b[0m\u001b[0;39m807\u001b[0m\u001b[1;39m\r\n",
      "\u001b[1;39m}\u001b[0m\r\n"
     ]
    }
   ],
   "source": [
    "!curl -s \"http://freegeoip.net/json/\" | jq ."
   ]
  },
  {
   "cell_type": "markdown",
   "metadata": {},
   "source": [
    "While this does not look nice to a human, for a computer is a perfectly legitimate answer. This format is called \"JSON\", and is an efficient and very commonly used way to trasfer data today on the Internet.\n",
    "| jq controls presentation"
   ]
  },
  {
   "cell_type": "markdown",
   "metadata": {},
   "source": [
    "Now, let's examine a few more web APIs, just for fun:\n",
    "\n",
    "#### What's the weather?\n",
    "\n",
    "Now, let's use the OpenWeather API to get the weather details in our location. (The details of the API calls are available at http://openweathermap.org/api.)"
   ]
  },
  {
   "cell_type": "code",
   "execution_count": 26,
   "metadata": {
    "collapsed": false
   },
   "outputs": [
    {
     "name": "stdout",
     "output_type": "stream",
     "text": [
      "\u001b[1;39m{\r\n",
      "  \u001b[0m\u001b[34;1m\"coord\"\u001b[0m\u001b[1;39m: \u001b[0m\u001b[1;39m{\r\n",
      "    \u001b[0m\u001b[34;1m\"lon\"\u001b[0m\u001b[1;39m: \u001b[0m\u001b[0;39m-74.01\u001b[0m\u001b[1;39m,\r\n",
      "    \u001b[0m\u001b[34;1m\"lat\"\u001b[0m\u001b[1;39m: \u001b[0m\u001b[0;39m40.71\u001b[0m\u001b[1;39m\r\n",
      "  \u001b[1;39m}\u001b[0m\u001b[1;39m,\r\n",
      "  \u001b[0m\u001b[34;1m\"weather\"\u001b[0m\u001b[1;39m: \u001b[0m\u001b[1;39m[\r\n",
      "    \u001b[1;39m{\r\n",
      "      \u001b[0m\u001b[34;1m\"id\"\u001b[0m\u001b[1;39m: \u001b[0m\u001b[0;39m501\u001b[0m\u001b[1;39m,\r\n",
      "      \u001b[0m\u001b[34;1m\"main\"\u001b[0m\u001b[1;39m: \u001b[0m\u001b[0;32m\"Rain\"\u001b[0m\u001b[1;39m,\r\n",
      "      \u001b[0m\u001b[34;1m\"description\"\u001b[0m\u001b[1;39m: \u001b[0m\u001b[0;32m\"moderate rain\"\u001b[0m\u001b[1;39m,\r\n",
      "      \u001b[0m\u001b[34;1m\"icon\"\u001b[0m\u001b[1;39m: \u001b[0m\u001b[0;32m\"10d\"\u001b[0m\u001b[1;39m\r\n",
      "    \u001b[1;39m}\u001b[0m\u001b[1;39m,\r\n",
      "    \u001b[1;39m{\r\n",
      "      \u001b[0m\u001b[34;1m\"id\"\u001b[0m\u001b[1;39m: \u001b[0m\u001b[0;39m701\u001b[0m\u001b[1;39m,\r\n",
      "      \u001b[0m\u001b[34;1m\"main\"\u001b[0m\u001b[1;39m: \u001b[0m\u001b[0;32m\"Mist\"\u001b[0m\u001b[1;39m,\r\n",
      "      \u001b[0m\u001b[34;1m\"description\"\u001b[0m\u001b[1;39m: \u001b[0m\u001b[0;32m\"mist\"\u001b[0m\u001b[1;39m,\r\n",
      "      \u001b[0m\u001b[34;1m\"icon\"\u001b[0m\u001b[1;39m: \u001b[0m\u001b[0;32m\"50d\"\u001b[0m\u001b[1;39m\r\n",
      "    \u001b[1;39m}\u001b[0m\u001b[1;39m,\r\n",
      "    \u001b[1;39m{\r\n",
      "      \u001b[0m\u001b[34;1m\"id\"\u001b[0m\u001b[1;39m: \u001b[0m\u001b[0;39m300\u001b[0m\u001b[1;39m,\r\n",
      "      \u001b[0m\u001b[34;1m\"main\"\u001b[0m\u001b[1;39m: \u001b[0m\u001b[0;32m\"Drizzle\"\u001b[0m\u001b[1;39m,\r\n",
      "      \u001b[0m\u001b[34;1m\"description\"\u001b[0m\u001b[1;39m: \u001b[0m\u001b[0;32m\"light intensity drizzle\"\u001b[0m\u001b[1;39m,\r\n",
      "      \u001b[0m\u001b[34;1m\"icon\"\u001b[0m\u001b[1;39m: \u001b[0m\u001b[0;32m\"09d\"\u001b[0m\u001b[1;39m\r\n",
      "    \u001b[1;39m}\u001b[0m\u001b[1;39m\r\n",
      "  \u001b[1;39m]\u001b[0m\u001b[1;39m,\r\n",
      "  \u001b[0m\u001b[34;1m\"base\"\u001b[0m\u001b[1;39m: \u001b[0m\u001b[0;32m\"stations\"\u001b[0m\u001b[1;39m,\r\n",
      "  \u001b[0m\u001b[34;1m\"main\"\u001b[0m\u001b[1;39m: \u001b[0m\u001b[1;39m{\r\n",
      "    \u001b[0m\u001b[34;1m\"temp\"\u001b[0m\u001b[1;39m: \u001b[0m\u001b[0;39m41.63\u001b[0m\u001b[1;39m,\r\n",
      "    \u001b[0m\u001b[34;1m\"pressure\"\u001b[0m\u001b[1;39m: \u001b[0m\u001b[0;39m1012\u001b[0m\u001b[1;39m,\r\n",
      "    \u001b[0m\u001b[34;1m\"humidity\"\u001b[0m\u001b[1;39m: \u001b[0m\u001b[0;39m87\u001b[0m\u001b[1;39m,\r\n",
      "    \u001b[0m\u001b[34;1m\"temp_min\"\u001b[0m\u001b[1;39m: \u001b[0m\u001b[0;39m37.4\u001b[0m\u001b[1;39m,\r\n",
      "    \u001b[0m\u001b[34;1m\"temp_max\"\u001b[0m\u001b[1;39m: \u001b[0m\u001b[0;39m44.6\u001b[0m\u001b[1;39m\r\n",
      "  \u001b[1;39m}\u001b[0m\u001b[1;39m,\r\n",
      "  \u001b[0m\u001b[34;1m\"visibility\"\u001b[0m\u001b[1;39m: \u001b[0m\u001b[0;39m8047\u001b[0m\u001b[1;39m,\r\n",
      "  \u001b[0m\u001b[34;1m\"wind\"\u001b[0m\u001b[1;39m: \u001b[0m\u001b[1;39m{\r\n",
      "    \u001b[0m\u001b[34;1m\"speed\"\u001b[0m\u001b[1;39m: \u001b[0m\u001b[0;39m18.34\u001b[0m\u001b[1;39m,\r\n",
      "    \u001b[0m\u001b[34;1m\"deg\"\u001b[0m\u001b[1;39m: \u001b[0m\u001b[0;39m60\u001b[0m\u001b[1;39m\r\n",
      "  \u001b[1;39m}\u001b[0m\u001b[1;39m,\r\n",
      "  \u001b[0m\u001b[34;1m\"clouds\"\u001b[0m\u001b[1;39m: \u001b[0m\u001b[1;39m{\r\n",
      "    \u001b[0m\u001b[34;1m\"all\"\u001b[0m\u001b[1;39m: \u001b[0m\u001b[0;39m90\u001b[0m\u001b[1;39m\r\n",
      "  \u001b[1;39m}\u001b[0m\u001b[1;39m,\r\n",
      "  \u001b[0m\u001b[34;1m\"dt\"\u001b[0m\u001b[1;39m: \u001b[0m\u001b[0;39m1483462320\u001b[0m\u001b[1;39m,\r\n",
      "  \u001b[0m\u001b[34;1m\"sys\"\u001b[0m\u001b[1;39m: \u001b[0m\u001b[1;39m{\r\n",
      "    \u001b[0m\u001b[34;1m\"type\"\u001b[0m\u001b[1;39m: \u001b[0m\u001b[0;39m1\u001b[0m\u001b[1;39m,\r\n",
      "    \u001b[0m\u001b[34;1m\"id\"\u001b[0m\u001b[1;39m: \u001b[0m\u001b[0;39m2120\u001b[0m\u001b[1;39m,\r\n",
      "    \u001b[0m\u001b[34;1m\"message\"\u001b[0m\u001b[1;39m: \u001b[0m\u001b[0;39m0.1948\u001b[0m\u001b[1;39m,\r\n",
      "    \u001b[0m\u001b[34;1m\"country\"\u001b[0m\u001b[1;39m: \u001b[0m\u001b[0;32m\"US\"\u001b[0m\u001b[1;39m,\r\n",
      "    \u001b[0m\u001b[34;1m\"sunrise\"\u001b[0m\u001b[1;39m: \u001b[0m\u001b[0;39m1483446014\u001b[0m\u001b[1;39m,\r\n",
      "    \u001b[0m\u001b[34;1m\"sunset\"\u001b[0m\u001b[1;39m: \u001b[0m\u001b[0;39m1483479723\u001b[0m\u001b[1;39m\r\n",
      "  \u001b[1;39m}\u001b[0m\u001b[1;39m,\r\n",
      "  \u001b[0m\u001b[34;1m\"id\"\u001b[0m\u001b[1;39m: \u001b[0m\u001b[0;39m5128581\u001b[0m\u001b[1;39m,\r\n",
      "  \u001b[0m\u001b[34;1m\"name\"\u001b[0m\u001b[1;39m: \u001b[0m\u001b[0;32m\"New York\"\u001b[0m\u001b[1;39m,\r\n",
      "  \u001b[0m\u001b[34;1m\"cod\"\u001b[0m\u001b[1;39m: \u001b[0m\u001b[0;39m200\u001b[0m\u001b[1;39m\r\n",
      "\u001b[1;39m}\u001b[0m\r\n"
     ]
    }
   ],
   "source": [
    "!curl -s \"http://api.openweathermap.org/data/2.5/weather?\\\n",
    "&appid=ffb7b9808e07c9135bdcc7d1e867253d\\\n",
    "&q=New%20York,NY,USA\\\n",
    "&units=imperial\\\n",
    "&mode=json\" | jq ."
   ]
  },
  {
   "cell_type": "markdown",
   "metadata": {},
   "source": [
    "You will notice that we asked the service to return to us the data in JSON format. For that API, we can also ask the data to be returned in a different format, called XML, which is wordlier. (We will get back to these formats later in the semester.)"
   ]
  },
  {
   "cell_type": "code",
   "execution_count": 14,
   "metadata": {
    "collapsed": false
   },
   "outputs": [
    {
     "name": "stdout",
     "output_type": "stream",
     "text": [
      "<current><city id=\"5128581\" name=\"New York\"><coord lon=\"-74.01\" lat=\"40.71\"></coord><country>US</country><sun rise=\"2017-01-03T12:20:14\" set=\"2017-01-03T21:42:03\"></sun></city><temperature value=\"41.63\" min=\"37.4\" max=\"44.6\" unit=\"fahrenheit\"></temperature><humidity value=\"87\" unit=\"%\"></humidity><pressure value=\"1012\" unit=\"hPa\"></pressure><wind><speed value=\"18.34\" name=\"Gale\"></speed><gusts></gusts><direction value=\"60\" code=\"ENE\" name=\"East-northeast\"></direction></wind><clouds value=\"90\" name=\"overcast clouds\"></clouds><visibility value=\"8047\"></visibility><precipitation mode=\"no\"></precipitation><weather number=\"501\" value=\"moderate rain\" icon=\"10d\"></weather><lastupdate value=\"2017-01-03T16:52:00\"></lastupdate></current>"
     ]
    }
   ],
   "source": [
    "!curl -s \"http://api.openweathermap.org/data/2.5/weather?\\\n",
    "&q=New%20York,NY,USA\\\n",
    "&units=imperial\\\n",
    "&mode=xml\\\n",
    "&appid=ffb7b9808e07c9135bdcc7d1e867253d\""
   ]
  },
  {
   "cell_type": "markdown",
   "metadata": {},
   "source": [
    "#### What's the sentiment?\n",
    "\n",
    "Now let's try to use a web service to automatically analyze the sentiment for a piece of text. (The service comes from the [IBM's Alchemy API](http://www.alchemyapi.com/api/sentiment/textc.html#textsentiment))"
   ]
  },
  {
   "cell_type": "code",
   "execution_count": 17,
   "metadata": {
    "collapsed": false
   },
   "outputs": [
    {
     "name": "stdout",
     "output_type": "stream",
     "text": [
      "\u001b[1;39m{\r\n",
      "  \u001b[0m\u001b[34;1m\"status\"\u001b[0m\u001b[1;39m: \u001b[0m\u001b[0;32m\"OK\"\u001b[0m\u001b[1;39m,\r\n",
      "  \u001b[0m\u001b[34;1m\"usage\"\u001b[0m\u001b[1;39m: \u001b[0m\u001b[0;32m\"By accessing AlchemyAPI or using information generated by AlchemyAPI, you are agreeing to be bound by the AlchemyAPI Terms of Use: http://www.alchemyapi.com/company/terms.html\"\u001b[0m\u001b[1;39m,\r\n",
      "  \u001b[0m\u001b[34;1m\"totalTransactions\"\u001b[0m\u001b[1;39m: \u001b[0m\u001b[0;32m\"1\"\u001b[0m\u001b[1;39m,\r\n",
      "  \u001b[0m\u001b[34;1m\"language\"\u001b[0m\u001b[1;39m: \u001b[0m\u001b[0;32m\"english\"\u001b[0m\u001b[1;39m,\r\n",
      "  \u001b[0m\u001b[34;1m\"docSentiment\"\u001b[0m\u001b[1;39m: \u001b[0m\u001b[1;39m{\r\n",
      "    \u001b[0m\u001b[34;1m\"type\"\u001b[0m\u001b[1;39m: \u001b[0m\u001b[0;32m\"neutral\"\u001b[0m\u001b[1;39m\r\n",
      "  \u001b[1;39m}\u001b[0m\u001b[1;39m\r\n",
      "\u001b[1;39m}\u001b[0m\r\n"
     ]
    }
   ],
   "source": [
    "!curl -s \"http://access.alchemyapi.com/calls/text/TextGetTextSentiment\" \\\n",
    "-d \"outputMode=json\" \\\n",
    "-d \"apikey=3d0b6858f7ef32fdf27ad402f4a9c270c9685d84\" \\\n",
    "-d \"text=I did not dislike it. \" | jq ."
   ]
  },
  {
   "cell_type": "markdown",
   "metadata": {},
   "source": [
    "#### And a few synonyms\n",
    "\n",
    "And now just a demo of a web API that I created myself a few years back. It analyzes Wikipedia to figure out different ways that people use to refer to the same entity\n",
    "\n"
   ]
  },
  {
   "cell_type": "code",
   "execution_count": null,
   "metadata": {
    "collapsed": false
   },
   "outputs": [],
   "source": [
    "!curl -s \"http://wikisynonyms.ipeirotis.com/api/Hillary_Clinton\" | jq ."
   ]
  },
  {
   "cell_type": "markdown",
   "metadata": {},
   "source": [
    "## Exercise\n",
    "\n",
    "The following websites contain listing of many useful APIs\n",
    "\n",
    "* https://www.mashape.com \n",
    "* http://www.programmableweb.com/\n",
    "* http://www.mashery.com/\n",
    "* http://apigee.com/ \n",
    "\n",
    "Mashape is my own personal favorite in terms of user-friendliness and also has examples directly expressed using CURL. but the others are pretty nice as well. Your task: search through these websites and find a web API that does something that you like. Use CURL to issue a web API call to this service. "
   ]
  },
  {
   "cell_type": "code",
   "execution_count": null,
   "metadata": {
    "collapsed": false
   },
   "outputs": [],
   "source": []
  },
  {
   "cell_type": "code",
   "execution_count": null,
   "metadata": {
    "collapsed": true
   },
   "outputs": [],
   "source": []
  }
 ],
 "metadata": {
  "kernelspec": {
   "display_name": "Python 3",
   "language": "python",
   "name": "python3"
  },
  "language_info": {
   "codemirror_mode": {
    "name": "ipython",
    "version": 3
   },
   "file_extension": ".py",
   "mimetype": "text/x-python",
   "name": "python",
   "nbconvert_exporter": "python",
   "pygments_lexer": "ipython3",
   "version": "3.5.2"
  }
 },
 "nbformat": 4,
 "nbformat_minor": 0
}
